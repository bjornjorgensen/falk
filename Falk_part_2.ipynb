{
 "cells": [
  {
   "cell_type": "markdown",
   "id": "3f5e6984-d010-48db-939e-ae7782547a3e",
   "metadata": {},
   "source": [
    "# Imports and start spark"
   ]
  },
  {
   "cell_type": "code",
   "execution_count": null,
   "id": "529310bc-2263-41d5-a37a-320401757652",
   "metadata": {},
   "outputs": [],
   "source": [
    "from pyspark import pandas as ps\n",
    "import re\n",
    "import numpy as np\n",
    "import os\n",
    "#import pandas as pd\n",
    "\n",
    "from pyspark import SparkContext, SparkConf\n",
    "from pyspark.sql import SparkSession\n",
    "from pyspark.sql.functions import concat, concat_ws, lit, col, trim, expr\n",
    "from pyspark.sql.types import StructType, StructField, StringType,IntegerType\n",
    "\n",
    "os.environ[\"PYARROW_IGNORE_TIMEZONE\"]=\"1\"\n",
    "\n",
    "def get_spark_session(app_name: str, conf: SparkConf):\n",
    "    conf.setMaster('local[*]')\n",
    "    conf \\\n",
    "      .set('spark.driver.memory', '64g')\\\n",
    "      .set(\"fs.s3a.access.key\", \"minio\") \\\n",
    "      .set(\"fs.s3a.secret.key\", \"minio123\") \\\n",
    "      .set(\"fs.s3a.endpoint\", \"http://192.168.1.127:9000\") \\\n",
    "      .set(\"spark.hadoop.fs.s3a.impl\", \"org.apache.hadoop.fs.s3a.S3AFileSystem\") \\\n",
    "      .set(\"spark.hadoop.fs.s3a.path.style.access\", \"true\") \\\n",
    "      .set(\"spark.sql.repl.eagerEval.enabled\", \"True\") \\\n",
    "      .set(\"spark.sql.adaptive.enabled\", \"True\") \\\n",
    "      .set(\"spark.serializer\", \"org.apache.spark.serializer.KryoSerializer\") \\\n",
    "      .set(\"spark.sql.repl.eagerEval.maxNumRows\", \"10000\") \\\n",
    "      .set(\"sc.setLogLevel\", \"error\")\n",
    "    \n",
    "    return SparkSession.builder.appName(app_name).config(conf=conf).getOrCreate()\n",
    "\n",
    "spark = get_spark_session(\"Falk\", SparkConf())"
   ]
  },
  {
   "cell_type": "code",
   "execution_count": null,
   "id": "0d56acca-92b0-4b97-8d77-5d56e684c370",
   "metadata": {},
   "outputs": [],
   "source": [
    "spark.stop()"
   ]
  },
  {
   "cell_type": "markdown",
   "id": "c195580a-1bf9-4eea-b336-ba9c0f150092",
   "metadata": {},
   "source": [
    "<a href='#f01'>f01</a>\n",
    "<a href='#f02'>f02</a>\n",
    "<a href='#f03'>f03</a>\n",
    "<a href='#f04'>f04</a>\n",
    "<a href='#f05'>f05</a>\n",
    "<a href='#f06'>f06</a>\n",
    "<a href='#f07'>f07</a>\n",
    "<a href='#f08'>f08</a>\n",
    "<a href='#f12'>f12</a>\n",
    "<a href='#f13'>f13</a>\n",
    "<a href='#f14'>f14</a>\n",
    "<a href='#f15'>f15</a>\n",
    "<a href='#f20'>f20</a>\n",
    "<a href='#f21'>f21</a>\n",
    "<a href='#f22'>f22</a>\n",
    "<a href='#f23'>f23</a>\n",
    "<a href='#f24'>f24</a>\n",
    "<a href='#f25'>f25</a>\n",
    "<a href='#f52'>f52</a>\n",
    "<a href='#f65'>f65</a>\n",
    "<a href='#f102'>f102</a>\n",
    "<a href='#d1'>d1</a>\n",
    "<a href='#d2'>d2</a>\n",
    "<a href='#d3'>d3</a>\n",
    "<a href='#d4'>d4</a>\n",
    "<a href='#d5'>d5</a>\n",
    "<a href='#d6'>d6</a>\n",
    "<a href='#d7'>d7</a>\n",
    "<a href='#d8'>d8</a>\n",
    "<a href='#d9'>d9</a>\n",
    "<a href='#d10'>d10</a>\n",
    "<a href='#d11'>d11</a>\n",
    "<a href='#d12'>d12</a>\n",
    "<a href='#d13'>d13</a>\n",
    "<a href='#d14'>d14</a>\n",
    "<a href='#d15'>d15</a>\n",
    "<a href='#d16'>d16</a>\n",
    "<a href='#d17'>d17</a>\n",
    "<a href='#d18'>d18</a>\n",
    "<a href='#d101'>d101</a>\n",
    "<a href='#d102'>d102</a>\n",
    "<a href='#d103'>d103</a>"
   ]
  },
  {
   "cell_type": "markdown",
   "id": "977ae991-744e-4b29-ae81-f3de5afcfa4d",
   "metadata": {},
   "source": [
    "<a id='f01' />"
   ]
  },
  {
   "cell_type": "markdown",
   "id": "8daa48be-4eb8-4433-8cdb-403dc8995796",
   "metadata": {
    "tags": []
   },
   "source": [
    "# F01 PRI "
   ]
  },
  {
   "cell_type": "code",
   "execution_count": null,
   "id": "d82a1bc3-a272-482a-9176-53fe614cdc85",
   "metadata": {},
   "outputs": [],
   "source": [
    "#f01 = spark.read.json(\"falk/F01.json/*.json\")"
   ]
  },
  {
   "cell_type": "code",
   "execution_count": null,
   "id": "b6fcd0ea-3bc8-4702-91df-f95b34bb4ac3",
   "metadata": {},
   "outputs": [],
   "source": [
    "#f01.printSchema()"
   ]
  },
  {
   "cell_type": "code",
   "execution_count": null,
   "id": "3ffbd2df-e49d-451f-b80b-76089a7f742a",
   "metadata": {},
   "outputs": [],
   "source": [
    "pf01 = f01.to_pandas_on_spark()"
   ]
  },
  {
   "cell_type": "code",
   "execution_count": null,
   "id": "69b6659d-c541-4379-93c9-1da8c24e8621",
   "metadata": {},
   "outputs": [],
   "source": [
    "pf01 = pf01.rename(columns=lambda x_ re.sub('DOFFIN_ESENDERS_', '', x))\n",
    "pf01 = pf01.rename(columns=lambda x_ re.sub('FORM_SECTION_', '', x))\n",
    "pf01 = pf01.rename(columns=lambda x_ re.sub('F01_2014_', '', x))\n",
    "#pf01 = pf01.rename(columns=lambda x_ re.sub('_', '_', x))\n",
    "pf01 = pf01.rename(columns=lambda x_ re.sub('\\_P$', '', x))"
   ]
  },
  {
   "cell_type": "code",
   "execution_count": null,
   "id": "e7e6be5a-457b-4361-b59a-65c25d17c15e",
   "metadata": {},
   "outputs": [],
   "source": [
    "#pf01.info()"
   ]
  },
  {
   "cell_type": "code",
   "execution_count": null,
   "id": "ddc1abee-26cc-4af2-a4e4-b2d2f57fc67a",
   "metadata": {},
   "outputs": [],
   "source": [
    "pf01[\"COMPLEMENTARY_INFO_DATE_DISPATCH_NOTICE\"] = ps.to_datetime(pf01[\"COMPLEMENTARY_INFO_DATE_DISPATCH_NOTICE\"])\n",
    "pf01[\"OBJECT_CONTRACT_DATE_PUBLICATION_NOTICE\"] = ps.to_datetime(pf01[\"OBJECT_CONTRACT_DATE_PUBLICATION_NOTICE\"])\n",
    "pf01[\"OBJECT_CONTRACT_OBJECT_DESCR_DATE_END\"] = ps.to_datetime(pf01[\"OBJECT_CONTRACT_OBJECT_DESCR_DATE_END\"])\n",
    "pf01[\"OBJECT_CONTRACT_OBJECT_DESCR_DATE_START\"] = ps.to_datetime(pf01[\"OBJECT_CONTRACT_OBJECT_DESCR_DATE_START\"])\n",
    "pf01[\"PROCEDURE_DATE_AWARD_SCHEDULED\"] = ps.to_datetime(pf01[\"PROCEDURE_DATE_AWARD_SCHEDULED\"])\n",
    "pf01[\"PROCEDURE_DATE_RECEIPT_TENDERS\"] = ps.to_datetime(pf01[\"PROCEDURE_DATE_RECEIPT_TENDERS\"])"
   ]
  },
  {
   "cell_type": "code",
   "execution_count": null,
   "id": "67f71710-0694-4dde-b3fd-5de4bf5cd818",
   "metadata": {},
   "outputs": [],
   "source": [
    "pf01.info()"
   ]
  },
  {
   "cell_type": "code",
   "execution_count": null,
   "id": "b8ebc65c-4c58-4df1-842a-8c0b0d5227a8",
   "metadata": {},
   "outputs": [],
   "source": [
    "#pf01.head()"
   ]
  },
  {
   "cell_type": "code",
   "execution_count": null,
   "id": "dac78f50-1bc8-4557-afad-99a3e60df859",
   "metadata": {},
   "outputs": [],
   "source": [
    "f01 = pf01.to_spark()"
   ]
  },
  {
   "cell_type": "code",
   "execution_count": null,
   "id": "9c657491-d6af-4d19-8243-79defb88205e",
   "metadata": {},
   "outputs": [],
   "source": [
    "#f01.printSchema()"
   ]
  },
  {
   "cell_type": "code",
   "execution_count": null,
   "id": "dad850d5-bc93-460e-b2c0-7d9a73ef9446",
   "metadata": {},
   "outputs": [],
   "source": [
    "#f01.write.parquet(\"s3a_//falk2210/f01.parquet\")"
   ]
  },
  {
   "cell_type": "code",
   "execution_count": null,
   "id": "fbc139ce-8e65-4697-bbad-a6ecbd863293",
   "metadata": {},
   "outputs": [],
   "source": [
    "#f01.write.parquet(\"s3a_//falk2210/pri.parquet\")"
   ]
  },
  {
   "cell_type": "code",
   "execution_count": null,
   "id": "219aea27-c83b-4326-b2ba-92d96043646d",
   "metadata": {},
   "outputs": [],
   "source": [
    "f01.write.json(\"s3a_//falk2210/pri.json\")"
   ]
  },
  {
   "cell_type": "code",
   "execution_count": null,
   "id": "33352455-bac3-41e7-a371-f1d14146841f",
   "metadata": {},
   "outputs": [],
   "source": [
    "f01.write.json(\"s3a_//falk2210/f01.json\")"
   ]
  },
  {
   "cell_type": "markdown",
   "id": "b1cef583-80c8-4481-86ba-f04697b2b0ba",
   "metadata": {},
   "source": [
    "<a id='f02' />"
   ]
  },
  {
   "cell_type": "markdown",
   "id": "dc5a0817-c469-4c9e-b898-3406a599a233",
   "metadata": {
    "tags": []
   },
   "source": [
    "# F02 contract "
   ]
  },
  {
   "cell_type": "code",
   "execution_count": null,
   "id": "fcb69f8d-9aa7-495b-901b-4e84cef5585f",
   "metadata": {},
   "outputs": [],
   "source": [
    "f02 = spark.read.json(\"falk/F02.json/*.json\")\n",
    "#f02.printSchema()"
   ]
  },
  {
   "cell_type": "code",
   "execution_count": null,
   "id": "28474d4d-5baa-4ec5-b64c-ddc2c503236c",
   "metadata": {},
   "outputs": [],
   "source": [
    "pf02 = f02.to_pandas_on_spark()"
   ]
  },
  {
   "cell_type": "code",
   "execution_count": null,
   "id": "1f598c1b-f469-40cd-8219-34021b91b500",
   "metadata": {},
   "outputs": [],
   "source": [
    "pf02 = pf02.rename(columns=lambda x_ re.sub('DOFFIN_ESENDERS_', '', x))\n",
    "pf02 = pf02.rename(columns=lambda x_ re.sub('FORM_SECTION_', '', x))\n",
    "pf02 = pf02.rename(columns=lambda x_ re.sub('F02_2014_', '', x))\n",
    "#pf02 = pf02.rename(columns=lambda x_ re.sub('_', '_', x))"
   ]
  },
  {
   "cell_type": "code",
   "execution_count": null,
   "id": "81ba455c-1478-43df-b6ff-2877cd58eb6a",
   "metadata": {},
   "outputs": [],
   "source": [
    "#pf02.info()"
   ]
  },
  {
   "cell_type": "code",
   "execution_count": null,
   "id": "80a3a266-a9d3-454c-bfc7-bf6be505e57f",
   "metadata": {},
   "outputs": [],
   "source": [
    "pf02['OBJECT_CONTRACT_OBJECT_DESCR_EU_PROGR_RELATED'].update(pf02['OBJECT_CONTRACT_OBJECT_DESCR_EU_PROGR_RELATED_P'])\n",
    "pf02['PROCEDURE_FRAMEWORK_JUSTIFICATION'].update(pf02['PROCEDURE_FRAMEWORK_JUSTIFICATION_P'])"
   ]
  },
  {
   "cell_type": "code",
   "execution_count": null,
   "id": "8e570ad5-9a1c-4b34-a2c0-ff0d0d462e01",
   "metadata": {},
   "outputs": [],
   "source": [
    "#pf02.info()"
   ]
  },
  {
   "cell_type": "code",
   "execution_count": null,
   "id": "7e4de641-b437-4de4-b587-ab03e5bcc1d8",
   "metadata": {},
   "outputs": [],
   "source": [
    "pf02 = pf02.drop(columns=['OBJECT_CONTRACT_OBJECT_DESCR_EU_PROGR_RELATED_P', 'PROCEDURE_FRAMEWORK_JUSTIFICATION_P'])"
   ]
  },
  {
   "cell_type": "code",
   "execution_count": null,
   "id": "424d9b78-3709-4e3c-8a2a-eb6eadad836a",
   "metadata": {},
   "outputs": [],
   "source": [
    "#pf02.info()"
   ]
  },
  {
   "cell_type": "code",
   "execution_count": null,
   "id": "d15955e0-c2d1-4dd4-a2a4-9ae3191a731e",
   "metadata": {},
   "outputs": [],
   "source": [
    "pf02 = pf02.rename(columns=lambda x_ re.sub('\\_P$', '', x))"
   ]
  },
  {
   "cell_type": "code",
   "execution_count": null,
   "id": "1bce0e9c-4dc6-4c1b-8ff8-f3f8e746c43f",
   "metadata": {},
   "outputs": [],
   "source": [
    "pf02.info()"
   ]
  },
  {
   "cell_type": "code",
   "execution_count": null,
   "id": "e79902ab-0a1c-4a29-844c-252d832c10d2",
   "metadata": {},
   "outputs": [],
   "source": [
    "pf02[\"OBJECT_CONTRACT_OBJECT_DESCR_DATE_END\"] = ps.to_datetime(pf02[\"OBJECT_CONTRACT_OBJECT_DESCR_DATE_END\"])\n",
    "pf02[\"OBJECT_CONTRACT_OBJECT_DESCR_DATE_START\"] = ps.to_datetime(pf02[\"OBJECT_CONTRACT_OBJECT_DESCR_DATE_START\"])\n",
    "pf02[\"PROCEDURE_DATE_DISPATCH_INVITATIONS\"] = ps.to_datetime(pf02[\"PROCEDURE_DATE_DISPATCH_INVITATIONS\"])\n",
    "pf02[\"PROCEDURE_DATE_RECEIPT_TENDERS\"] = ps.to_datetime(pf02[\"PROCEDURE_DATE_RECEIPT_TENDERS\"])\n",
    "pf02[\"PROCEDURE_DATE_TENDER_VALID\"] = ps.to_datetime(pf02[\"PROCEDURE_DATE_TENDER_VALID\"])\n",
    "pf02[\"PROCEDURE_OPENING_CONDITION_DATE_OPENING_TENDERS\"] = ps.to_datetime(pf02[\"PROCEDURE_OPENING_CONDITION_DATE_OPENING_TENDERS\"])"
   ]
  },
  {
   "cell_type": "code",
   "execution_count": null,
   "id": "8bb30813-ef50-4df7-958f-1effb800856f",
   "metadata": {},
   "outputs": [],
   "source": [
    "#pf02.info()"
   ]
  },
  {
   "cell_type": "code",
   "execution_count": null,
   "id": "143f9f3f-5cd5-4ba6-978e-ead63a274c84",
   "metadata": {},
   "outputs": [],
   "source": [
    "#pf02.head()"
   ]
  },
  {
   "cell_type": "code",
   "execution_count": null,
   "id": "be1df7d4-b54b-41ad-a4c8-7f1e0978a4ca",
   "metadata": {},
   "outputs": [],
   "source": [
    "f02 = pf02.to_spark()"
   ]
  },
  {
   "cell_type": "code",
   "execution_count": null,
   "id": "4f6ea6f3-d569-4230-b591-70e5f8d86d49",
   "metadata": {},
   "outputs": [],
   "source": [
    "#f02.write.parquet(\"s3a_//falk2210/f02.parquet\")"
   ]
  },
  {
   "cell_type": "code",
   "execution_count": null,
   "id": "e80a6b59-3897-4efe-bdc8-18da041a4418",
   "metadata": {},
   "outputs": [],
   "source": [
    "#f02.write.parquet(\"s3a_//falk2210/contract.parquet\")"
   ]
  },
  {
   "cell_type": "code",
   "execution_count": null,
   "id": "c8c132e2-1cb4-4933-a76e-1568565d1f84",
   "metadata": {},
   "outputs": [],
   "source": [
    "f02.write.mode(\"append\").json(\"falk2210/contract.json\")"
   ]
  },
  {
   "cell_type": "code",
   "execution_count": null,
   "id": "0713004b-4f42-4f93-bf79-0d9622cb3ecf",
   "metadata": {},
   "outputs": [],
   "source": [
    "f02.write.mode(\"append\").json(\"s3a_//falk2210/contract.json\")"
   ]
  },
  {
   "cell_type": "code",
   "execution_count": null,
   "id": "ff3ccda9-c92d-4b3c-bbe0-f25fc24b9fe4",
   "metadata": {},
   "outputs": [],
   "source": [
    "f02.write.mode(\"append\").json(\"s3a_//falk2210/f02.json\")"
   ]
  },
  {
   "cell_type": "markdown",
   "id": "aebd856e-1ff5-4160-b238-94cf8bb7fee3",
   "metadata": {},
   "source": [
    "<a id='f03' />"
   ]
  },
  {
   "cell_type": "markdown",
   "id": "4ec8a187-cd73-4e91-981e-e3c98b3d609c",
   "metadata": {
    "tags": []
   },
   "source": [
    "# F03 AWARD "
   ]
  },
  {
   "cell_type": "code",
   "execution_count": null,
   "id": "53d4127d-fe14-4ca9-aaae-ac2fa21721ba",
   "metadata": {},
   "outputs": [],
   "source": [
    "f03 = spark.read.json(\"falk/F03.json/*.json\")"
   ]
  },
  {
   "cell_type": "code",
   "execution_count": null,
   "id": "9eb83b81-cd47-4ca5-b605-d7ef03578ca8",
   "metadata": {},
   "outputs": [],
   "source": [
    "f03.printSchema()"
   ]
  },
  {
   "cell_type": "code",
   "execution_count": null,
   "id": "86a5e7aa-c6aa-454f-8979-571118c4309d",
   "metadata": {},
   "outputs": [],
   "source": [
    "pf03 = f03.pandas_api()"
   ]
  },
  {
   "cell_type": "code",
   "execution_count": null,
   "id": "244c0d40-a2b6-4d29-ad18-2784c1b60153",
   "metadata": {},
   "outputs": [],
   "source": [
    "pf03.info()"
   ]
  },
  {
   "cell_type": "code",
   "execution_count": null,
   "id": "643a199e-c186-4974-9bfc-90d8d927b4cc",
   "metadata": {},
   "outputs": [],
   "source": [
    "pf03 = pf03.rename(columns=lambda x: re.sub('DOFFIN_ESENDERS:', '', x))\n",
    "pf03 = pf03.rename(columns=lambda x: re.sub('FORM_SECTION:', '', x))\n",
    "pf03 = pf03.rename(columns=lambda x: re.sub('F03_2014:', '', x))\n",
    "#pf03 = pf03.rename(columns=lambda x: re.sub('_', '_', x))\n",
    "pf03 = pf03.rename(columns=lambda x: re.sub('AWARD_CONTRACT:AWARDED_CONTRACT:', 'AWARDED_CONTRACT:', x))\n",
    "#pf03.info()"
   ]
  },
  {
   "cell_type": "code",
   "execution_count": null,
   "id": "d83cae43-4461-4148-99c5-679f4298da04",
   "metadata": {},
   "outputs": [],
   "source": [
    "pf03.info()"
   ]
  },
  {
   "cell_type": "code",
   "execution_count": null,
   "id": "2a4f0c5b-606e-4e74-ad0d-4d495cb1bb1e",
   "metadata": {},
   "outputs": [],
   "source": [
    "pf03['OBJECT_CONTRACT:OBJECT_DESCR:EU_PROGR_RELATED'].update(pf03.pop('OBJECT_CONTRACT:OBJECT_DESCR:EU_PROGR_RELATED:P'))\n",
    "#pf03['AWARDED_CONTRACT_NB_TENDERS_RECEIVED'].update(pf03.pop('AWARDED_CONTRACT_TENDERS_NB_TENDERS_RECEIVED'))\n",
    "#pf03['AWARDED_CONTRACT_NB_TENDERS_RECEIVED_EMEANS'].update(pf03.pop('AWARDED_CONTRACT_TENDERS_NB_TENDERS_RECEIVED_EMEANS'))\n",
    "#pf03['AWARDED_CONTRACT_NB_TENDERS_RECEIVED_NON_EU'].update(pf03.pop('AWARDED_CONTRACT_TENDERS_NB_TENDERS_RECEIVED_NON_EU'))\n",
    "#pf03['AWARDED_CONTRACT_NB_TENDERS_RECEIVED_OTHER_EU'].update(pf03.pop('AWARDED_CONTRACT_TENDERS_NB_TENDERS_RECEIVED_OTHER_EU'))\n",
    "#pf03['AWARDED_CONTRACT_NB_TENDERS_RECEIVED_SME'].update(pf03.pop('AWARDED_CONTRACT_TENDERS_NB_TENDERS_RECEIVED_SME'))\n",
    "#pf03['AWARDED_CONTRACT_VALUES_VAL_ESTIMATED_TOTAL_CURRENCY'].update(pf03.pop('AWARDED_CONTRACT_VAL_ESTIMATED_TOTAL_CURRENCY'))\n",
    "#pf03['AWARDED_CONTRACT_VALUES_VAL_ESTIMATED_TOTAL_text'].update(pf03.pop('AWARDED_CONTRACT_VAL_ESTIMATED_TOTAL_text'))\n",
    "#pf03['AWARDED_CONTRACT_VALUES_VAL_RANGE_TOTAL_CURRENCY'].update(pf03.pop('AWARDED_CONTRACT_VAL_RANGE_TOTAL_CURRENCY'))\n",
    "#pf03['AWARDED_CONTRACT_VALUES_VAL_RANGE_TOTAL_HIGH'].update(pf03.pop('AWARDED_CONTRACT_VAL_RANGE_TOTAL_HIGH'))\n",
    "#pf03['AWARDED_CONTRACT_VALUES_VAL_RANGE_TOTAL_LOW'].update(pf03.pop('AWARDED_CONTRACT_VAL_RANGE_TOTAL_LOW'))\n",
    "#pf03['AWARDED_CONTRACT_VALUES_VAL_TOTAL_CURRENCY'].update(pf03.pop('AWARDED_CONTRACT_VAL_TOTAL_CURRENCY'))\n",
    "#pf03['AWARDED_CONTRACT_VALUES_VAL_TOTAL_text'].update(pf03.pop('AWARDED_CONTRACT_VAL_TOTAL_text'))"
   ]
  },
  {
   "cell_type": "code",
   "execution_count": null,
   "id": "1bda7409-7fd2-4ac9-87fa-7e57a826c2b6",
   "metadata": {},
   "outputs": [],
   "source": [
    "#pf03.info()"
   ]
  },
  {
   "cell_type": "code",
   "execution_count": null,
   "id": "b452263c-d936-4298-83a2-c832c7e39b11",
   "metadata": {},
   "outputs": [],
   "source": [
    "pf03 = pf03.rename(columns=lambda x: re.sub('\\:P$', '', x))"
   ]
  },
  {
   "cell_type": "code",
   "execution_count": null,
   "id": "e2f1ee92-c2fb-417c-a356-a992a0d8f98c",
   "metadata": {},
   "outputs": [],
   "source": [
    "pf03.info()"
   ]
  },
  {
   "cell_type": "code",
   "execution_count": null,
   "id": "db27897b-0372-49a5-b0a2-4ba3074d74d5",
   "metadata": {},
   "outputs": [],
   "source": [
    "pf03.shape"
   ]
  },
  {
   "cell_type": "code",
   "execution_count": null,
   "id": "fe349199-6f37-425e-9062-df3619438124",
   "metadata": {},
   "outputs": [],
   "source": [
    "#pf03[\"COMPLEMENTARY_INFO_DATE_DISPATCH_NOTICE\"] = ps.to_datetime(pf03[\"COMPLEMENTARY_INFO_DATE_DISPATCH_NOTICE\"])\n",
    "#pf03[\"AWARDED_CONTRACT_DATE_CONCLUSION_CONTRACT\"] = ps.to_datetime(pf03[\"AWARDED_CONTRACT_DATE_CONCLUSION_CONTRACT\"])"
   ]
  },
  {
   "cell_type": "code",
   "execution_count": null,
   "id": "63ea288e-6ac4-4df6-ac19-6e947b1c1ff3",
   "metadata": {},
   "outputs": [],
   "source": [
    "pf03.head(5)"
   ]
  },
  {
   "cell_type": "code",
   "execution_count": null,
   "id": "16506ee6-92a5-46a4-a5c4-c8249545596b",
   "metadata": {},
   "outputs": [],
   "source": [
    "f03 = pf03.to_spark()"
   ]
  },
  {
   "cell_type": "code",
   "execution_count": null,
   "id": "a7e630e0-192d-4781-8ca3-b6632ec07e66",
   "metadata": {},
   "outputs": [],
   "source": [
    "f03.write.mode(\"append\").json(\"falk2210/award.json\")"
   ]
  },
  {
   "cell_type": "code",
   "execution_count": null,
   "id": "50c2594b-f17b-4920-b78e-8d1b09b40950",
   "metadata": {},
   "outputs": [],
   "source": [
    "f03"
   ]
  },
  {
   "cell_type": "code",
   "execution_count": null,
   "id": "a5663020-53f7-4c54-b56e-f587bfe67432",
   "metadata": {},
   "outputs": [],
   "source": [
    "#f03.printSchema()"
   ]
  },
  {
   "cell_type": "code",
   "execution_count": null,
   "id": "96c9f1a0-5b0c-4a94-820e-ac1b85d0d28e",
   "metadata": {},
   "outputs": [],
   "source": [
    "f03.write.mode(\"append\").json(\"s3a_//falk2210/f03.json\")"
   ]
  },
  {
   "cell_type": "code",
   "execution_count": null,
   "id": "c1bfa603-cb4d-4604-afa3-a290e67ac4c1",
   "metadata": {},
   "outputs": [],
   "source": [
    "f03.write.mode(\"append\").json(\"s3a_//falk2210/award.json\")"
   ]
  },
  {
   "cell_type": "code",
   "execution_count": null,
   "id": "df01b006-a8f5-4d42-aef9-482496e0c924",
   "metadata": {},
   "outputs": [],
   "source": [
    "#f03.write.parquet(\"s3a_//falk2210/award.parquet\")"
   ]
  },
  {
   "cell_type": "code",
   "execution_count": null,
   "id": "da6d9bf7-279f-414c-87e0-5f7d0e988b97",
   "metadata": {},
   "outputs": [],
   "source": [
    "#f03.write.mode('append').parquet(\"s3a_//falk2210/f03.parquet\")"
   ]
  },
  {
   "cell_type": "markdown",
   "id": "1939b770-4e14-4970-8990-e8e2bee2cd98",
   "metadata": {
    "tags": []
   },
   "source": [
    "# F04 PRI "
   ]
  },
  {
   "cell_type": "markdown",
   "id": "a607c72e-9749-4c02-ad36-7bb5282d7894",
   "metadata": {},
   "source": [
    "<a id='f04' />"
   ]
  },
  {
   "cell_type": "code",
   "execution_count": null,
   "id": "147c93f0-7a1d-408c-b035-4cab899a547f",
   "metadata": {},
   "outputs": [],
   "source": [
    "f04 = spark.read.json(\"falk/F04.json/*.json\")\n",
    "#f04.printSchema()"
   ]
  },
  {
   "cell_type": "code",
   "execution_count": null,
   "id": "e1cf135c-7301-4b43-acc9-f699e81712da",
   "metadata": {},
   "outputs": [],
   "source": [
    "pf04 = f04.to_pandas_on_spark()"
   ]
  },
  {
   "cell_type": "code",
   "execution_count": null,
   "id": "0fdbd758-8b2c-4221-b954-797891f86fc5",
   "metadata": {},
   "outputs": [],
   "source": [
    "pf04 = pf04.rename(columns=lambda x_ re.sub('DOFFIN_ESENDERS_', '', x))\n",
    "pf04 = pf04.rename(columns=lambda x_ re.sub('FORM_SECTION_', '', x))\n",
    "pf04 = pf04.rename(columns=lambda x_ re.sub('F04_2014_', '', x))\n",
    "#pf04 = pf04.rename(columns=lambda x_ re.sub('_', '_', x))\n",
    "pf04 = pf04.rename(columns=lambda x_ re.sub('\\_P$', '', x))"
   ]
  },
  {
   "cell_type": "code",
   "execution_count": null,
   "id": "2655119f-d161-40c1-a81f-8530dc84e76c",
   "metadata": {},
   "outputs": [],
   "source": [
    "#pf04.info()"
   ]
  },
  {
   "cell_type": "code",
   "execution_count": null,
   "id": "fa848775-2b22-46c8-8d4a-c1e5128a438f",
   "metadata": {},
   "outputs": [],
   "source": [
    "pf04[\"COMPLEMENTARY_INFO_DATE_DISPATCH_NOTICE\"] = ps.to_datetime(pf04[\"COMPLEMENTARY_INFO_DATE_DISPATCH_NOTICE\"])\n",
    "pf04[\"OBJECT_CONTRACT_DATE_PUBLICATION_NOTICE\"] = ps.to_datetime(pf04[\"OBJECT_CONTRACT_DATE_PUBLICATION_NOTICE\"])\n",
    "pf04[\"OBJECT_CONTRACT_OBJECT_DESCR_DATE_END\"] = ps.to_datetime(pf04[\"OBJECT_CONTRACT_OBJECT_DESCR_DATE_END\"])\n",
    "pf04[\"OBJECT_CONTRACT_OBJECT_DESCR_DATE_START\"] = ps.to_datetime(pf04[\"OBJECT_CONTRACT_OBJECT_DESCR_DATE_START\"])\n",
    "pf04[\"PROCEDURE_DATE_AWARD_SCHEDULED\"] = ps.to_datetime(pf04[\"PROCEDURE_DATE_AWARD_SCHEDULED\"])\n",
    "pf04[\"PROCEDURE_DATE_RECEIPT_TENDERS\"] = ps.to_datetime(pf04[\"PROCEDURE_DATE_RECEIPT_TENDERS\"])"
   ]
  },
  {
   "cell_type": "code",
   "execution_count": null,
   "id": "eaef82cd-bf10-42e2-a793-08e1c057317a",
   "metadata": {},
   "outputs": [],
   "source": [
    "#pf04.info()"
   ]
  },
  {
   "cell_type": "code",
   "execution_count": null,
   "id": "10be4180-0922-4762-a2be-fced71cc36b3",
   "metadata": {},
   "outputs": [],
   "source": [
    "f04 = pf04.to_spark()"
   ]
  },
  {
   "cell_type": "code",
   "execution_count": null,
   "id": "d3985a55-9645-447e-812c-224ce6ea05bc",
   "metadata": {},
   "outputs": [],
   "source": [
    "#f04.write.parquet(\"s3a_//falk2210/f04.parquet\")"
   ]
  },
  {
   "cell_type": "code",
   "execution_count": null,
   "id": "d2e7f838-0f80-402a-94ab-52f4563f7e2f",
   "metadata": {},
   "outputs": [],
   "source": [
    "#f04.write.mode('append').parquet(\"s3a_//falk2210/pri.parquet\")"
   ]
  },
  {
   "cell_type": "code",
   "execution_count": null,
   "id": "d2b1ff03-a1f5-49b1-8f6b-22bcd43fb087",
   "metadata": {},
   "outputs": [],
   "source": [
    "f04.write.mode('append').json(\"s3a_//falk2210/f04.json\")"
   ]
  },
  {
   "cell_type": "code",
   "execution_count": null,
   "id": "201b140d-b721-4938-8ed2-84e5fee9ad83",
   "metadata": {},
   "outputs": [],
   "source": [
    "f04.write.mode('append').json(\"s3a_//falk2210/pri.json\")"
   ]
  },
  {
   "cell_type": "code",
   "execution_count": null,
   "id": "da8642f7-7916-4365-b1cd-2607ca8caf99",
   "metadata": {},
   "outputs": [],
   "source": [
    "#pri = spark.read.json(\"s3a_//falk2210/pri.json\")"
   ]
  },
  {
   "cell_type": "code",
   "execution_count": null,
   "id": "742a5a0c-bb70-4dff-a335-e717ca15e22c",
   "metadata": {},
   "outputs": [],
   "source": [
    "#pri = spark.read.parquet(\"s3a_//falk2210/pri.parquet\")"
   ]
  },
  {
   "cell_type": "code",
   "execution_count": null,
   "id": "0536a5c0-e5b1-443b-bad0-b707829bcd18",
   "metadata": {},
   "outputs": [],
   "source": [
    "#pri.printSchema()"
   ]
  },
  {
   "cell_type": "code",
   "execution_count": null,
   "id": "4b4de651-cd33-4745-9bf8-6f7da8722e9c",
   "metadata": {},
   "outputs": [],
   "source": [
    "#p_pri = pri.to_pandas_on_spark()"
   ]
  },
  {
   "cell_type": "code",
   "execution_count": null,
   "id": "3be85d3a-7576-423a-8a25-7e2fdec4de30",
   "metadata": {},
   "outputs": [],
   "source": [
    "#p_pri.head()"
   ]
  },
  {
   "cell_type": "code",
   "execution_count": null,
   "id": "0d197166-bc37-4aac-afa7-325737d8a1d9",
   "metadata": {},
   "outputs": [],
   "source": [
    "#p_pri.info()"
   ]
  },
  {
   "cell_type": "markdown",
   "id": "de8b8c6f-5c0d-4971-b348-0d9b35f63caa",
   "metadata": {
    "tags": []
   },
   "source": [
    "# F05 contract "
   ]
  },
  {
   "cell_type": "markdown",
   "id": "d7cae2ed-80ba-4b38-9896-b9d9b084c4c7",
   "metadata": {},
   "source": [
    "<a id='f05' />"
   ]
  },
  {
   "cell_type": "code",
   "execution_count": null,
   "id": "a8f5a5e5-108a-4306-8f67-f02bd6316a7c",
   "metadata": {},
   "outputs": [],
   "source": [
    "f05 = spark.read.json(\"falk/F05.json/*.json\")\n",
    "#f05.printSchema()"
   ]
  },
  {
   "cell_type": "code",
   "execution_count": null,
   "id": "0efb5a22-433a-48d4-ad55-99b38f87f4a4",
   "metadata": {},
   "outputs": [],
   "source": [
    "pf05 = f05.to_pandas_on_spark()"
   ]
  },
  {
   "cell_type": "code",
   "execution_count": null,
   "id": "c1f86d45-0730-438b-a596-4c44f2baa286",
   "metadata": {},
   "outputs": [],
   "source": [
    "pf05 = pf05.rename(columns=lambda x_ re.sub('DOFFIN_ESENDERS_', '', x))\n",
    "pf05 = pf05.rename(columns=lambda x_ re.sub('FORM_SECTION_', '', x))\n",
    "pf05 = pf05.rename(columns=lambda x_ re.sub('F05_2014_', '', x))\n",
    "#pf05 = pf05.rename(columns=lambda x_ re.sub('_', '_', x))"
   ]
  },
  {
   "cell_type": "code",
   "execution_count": null,
   "id": "b6008f27-26bc-4883-98e5-f7a6e350c9cd",
   "metadata": {},
   "outputs": [],
   "source": [
    "#pf05.info()"
   ]
  },
  {
   "cell_type": "code",
   "execution_count": null,
   "id": "e53367d9-3aec-447e-94f4-9491a2c47b39",
   "metadata": {},
   "outputs": [],
   "source": [
    "pf05['PROCEDURE_FRAMEWORK_JUSTIFICATION'].update(pf05.pop('PROCEDURE_FRAMEWORK_JUSTIFICATION_P'))"
   ]
  },
  {
   "cell_type": "code",
   "execution_count": null,
   "id": "491b65dc-3af2-4820-ac09-cf0f0e7b9560",
   "metadata": {},
   "outputs": [],
   "source": [
    "#pf05.info()"
   ]
  },
  {
   "cell_type": "code",
   "execution_count": null,
   "id": "3e276da0-26d5-44c9-8f50-edb616e15bcb",
   "metadata": {},
   "outputs": [],
   "source": [
    "pf05 = pf05.rename(columns=lambda x_ re.sub('\\_P$', '', x))"
   ]
  },
  {
   "cell_type": "code",
   "execution_count": null,
   "id": "30fa7c11-f29f-463a-b380-a2ec6c205900",
   "metadata": {},
   "outputs": [],
   "source": [
    "#pf05.info()"
   ]
  },
  {
   "cell_type": "code",
   "execution_count": null,
   "id": "353dad7f-68da-42bb-9824-d5965851634c",
   "metadata": {},
   "outputs": [],
   "source": [
    "pf05[\"COMPLEMENTARY_INFO_DATE_DISPATCH_NOTICE\"] = ps.to_datetime(pf05[\"COMPLEMENTARY_INFO_DATE_DISPATCH_NOTICE\"])\n",
    "pf05[\"OBJECT_CONTRACT_OBJECT_DESCR_DATE_END\"] = ps.to_datetime(pf05[\"OBJECT_CONTRACT_OBJECT_DESCR_DATE_END\"])\n",
    "pf05[\"OBJECT_CONTRACT_OBJECT_DESCR_DATE_START\"] = ps.to_datetime(pf05[\"OBJECT_CONTRACT_OBJECT_DESCR_DATE_START\"])\n",
    "pf05[\"PROCEDURE_DATE_DISPATCH_INVITATIONS\"] = ps.to_datetime(pf05[\"PROCEDURE_DATE_DISPATCH_INVITATIONS\"])\n",
    "pf05[\"PROCEDURE_DATE_RECEIPT_TENDERS\"] = ps.to_datetime(pf05[\"PROCEDURE_DATE_RECEIPT_TENDERS\"])\n",
    "pf05[\"PROCEDURE_DATE_TENDER_VALID\"] = ps.to_datetime(pf05[\"PROCEDURE_DATE_TENDER_VALID\"])\n",
    "pf05[\"PROCEDURE_OPENING_CONDITION_DATE_OPENING_TENDERS\"] = ps.to_datetime(pf05[\"PROCEDURE_OPENING_CONDITION_DATE_OPENING_TENDERS\"])"
   ]
  },
  {
   "cell_type": "code",
   "execution_count": null,
   "id": "7e4b427b-10ab-4da5-98ec-4643a270733e",
   "metadata": {},
   "outputs": [],
   "source": [
    "#pf05.info()"
   ]
  },
  {
   "cell_type": "code",
   "execution_count": null,
   "id": "2a89d707-812a-4eb7-be5f-bc48ca1a2aa6",
   "metadata": {},
   "outputs": [],
   "source": [
    "#f05 = pf05.rename(columns=lambda x_ re.sub('', '', x))\n",
    "#f05 = pf05.rename(columns=lambda x_ re.sub('', '', x))"
   ]
  },
  {
   "cell_type": "code",
   "execution_count": null,
   "id": "e674502a-1eab-4531-8f8f-fa8b7e66ab25",
   "metadata": {},
   "outputs": [],
   "source": [
    "f05 = pf05.to_spark()"
   ]
  },
  {
   "cell_type": "code",
   "execution_count": null,
   "id": "d81f8904-3964-4928-ae68-4aa5fb99cace",
   "metadata": {},
   "outputs": [],
   "source": [
    "#f05.write.mode('append').parquet(\"s3a_//falk2210/contract.parquet\")"
   ]
  },
  {
   "cell_type": "code",
   "execution_count": null,
   "id": "ec0436f4-7f8f-4933-8c8a-0fca373d7b03",
   "metadata": {},
   "outputs": [],
   "source": [
    "f05.write.mode(\"append\").json(\"falk2210/contract.json\")"
   ]
  },
  {
   "cell_type": "code",
   "execution_count": null,
   "id": "2a5215df-7541-413a-9490-0bc3ba79815a",
   "metadata": {},
   "outputs": [],
   "source": [
    "f05.write.mode(\"append\").json(\"s3a_//falk2210/f05.json\")"
   ]
  },
  {
   "cell_type": "code",
   "execution_count": null,
   "id": "54a5a089-3df8-4b58-b9f0-0ccfd703bd38",
   "metadata": {},
   "outputs": [],
   "source": [
    "f05.write.mode(\"append\").json(\"s3a_//falk2210/contract.json\")"
   ]
  },
  {
   "cell_type": "code",
   "execution_count": null,
   "id": "18093728-fd9e-4678-af03-ececc8b17d71",
   "metadata": {},
   "outputs": [],
   "source": [
    "#f05.write.parquet(\"s3a_//falk2210/f05.parquet\")"
   ]
  },
  {
   "cell_type": "code",
   "execution_count": null,
   "id": "923b77ed-52cb-41b2-9a9c-591dfe1e2a72",
   "metadata": {},
   "outputs": [],
   "source": [
    "#con = spark.read.json(\"s3a_//falk2210/contract.json\")"
   ]
  },
  {
   "cell_type": "code",
   "execution_count": null,
   "id": "adf906a1-01bb-4358-951f-0392458d074b",
   "metadata": {},
   "outputs": [],
   "source": [
    "#con.printSchema()"
   ]
  },
  {
   "cell_type": "markdown",
   "id": "6efde661-b226-4934-97c2-7f82905dcbe6",
   "metadata": {},
   "source": [
    "# F06 AWARD "
   ]
  },
  {
   "cell_type": "markdown",
   "id": "bad4379e-0e9b-46fc-831c-fd8f44a3ada9",
   "metadata": {},
   "source": [
    "<a id='f06' />"
   ]
  },
  {
   "cell_type": "code",
   "execution_count": null,
   "id": "342e0c28-1c68-4001-9210-513138ba581c",
   "metadata": {},
   "outputs": [],
   "source": [
    "f06 = spark.read.json(\"falk/F06.json/*.json\")\n",
    "#f06.printSchema()"
   ]
  },
  {
   "cell_type": "code",
   "execution_count": null,
   "id": "a186f817-7962-4ca2-9c29-3f38668adf17",
   "metadata": {},
   "outputs": [],
   "source": [
    "pf06 = f06.to_pandas_on_spark()"
   ]
  },
  {
   "cell_type": "code",
   "execution_count": null,
   "id": "e34d18dc-cded-4020-9cd3-dcc19d6719cb",
   "metadata": {},
   "outputs": [],
   "source": [
    "#pf06.info()"
   ]
  },
  {
   "cell_type": "code",
   "execution_count": null,
   "id": "87c9fbb4-e070-427a-9b6b-3f80327d2be2",
   "metadata": {},
   "outputs": [],
   "source": [
    "pf06 = pf06.rename(columns=lambda x: re.sub('DOFFIN_ESENDERS_', '', x))\n",
    "pf06 = pf06.rename(columns=lambda x: re.sub('FORM_SECTION_', '', x))\n",
    "pf06 = pf06.rename(columns=lambda x: re.sub('F06_2014_', '', x))\n",
    "#pf06 = pf06.rename(columns=lambda x: re.sub('_', '_', x))\n",
    "pf06 = pf06.rename(columns=lambda x: re.sub('\\_P$', '', x))\n",
    "pf06 = pf06.rename(columns=lambda x: re.sub('AWARD_CONTRACT_AWARDED_CONTRACT_', 'AWARDED_CONTRACT_', x))\n",
    "pf06 = pf06.rename(columns=lambda x: re.sub('AWARDED_CONTRACT_TENDERS_', 'AWARDED_CONTRACT_', x))\n"
   ]
  },
  {
   "cell_type": "code",
   "execution_count": null,
   "id": "4f6ae1a6-efb1-4c65-b9a0-96f64082406c",
   "metadata": {},
   "outputs": [],
   "source": [
    "pf06['AWARDED_CONTRACT_VALUES_VAL_ESTIMATED_TOTAL_CURRENCY'].update(pf06.pop('AWARDED_CONTRACT_VALUE_VAL_ESTIMATED_TOTAL_CURRENCY'))\n",
    "pf06['AWARDED_CONTRACT_VALUES_VAL_ESTIMATED_TOTAL_text'].update(pf06.pop('AWARDED_CONTRACT_VALUE_VAL_ESTIMATED_TOTAL_text'))\n",
    "pf06['AWARDED_CONTRACT_VALUES_VAL_RANGE_TOTAL_CURRENCY'].update(pf06.pop('AWARDED_CONTRACT_VALUE_VAL_RANGE_TOTAL_CURRENCY'))\n",
    "pf06['AWARDED_CONTRACT_VALUES_VAL_RANGE_TOTAL_HIGH'].update(pf06.pop('AWARDED_CONTRACT_VALUE_VAL_RANGE_TOTAL_HIGH'))\n",
    "pf06['AWARDED_CONTRACT_VALUES_VAL_RANGE_TOTAL_LOW'].update(pf06.pop('AWARDED_CONTRACT_VALUE_VAL_RANGE_TOTAL_LOW'))\n",
    "pf06['AWARDED_CONTRACT_VALUES_VAL_TOTAL_CURRENCY'].update(pf06.pop('AWARDED_CONTRACT_VALUE_VAL_TOTAL_CURRENCY'))\n",
    "pf06['AWARDED_CONTRACT_VALUES_VAL_TOTAL_text'].update(pf06.pop('AWARDED_CONTRACT_VALUE_VAL_TOTAL_text'))\n",
    "pf06['AWARDED_CONTRACT_VALUES_PUBLICATION'].update(pf06.pop('AWARDED_CONTRACT_VALUE_PUBLICATION'))"
   ]
  },
  {
   "cell_type": "code",
   "execution_count": null,
   "id": "a248f7f0-6cc7-4a6f-bee0-9a7054e27a8e",
   "metadata": {},
   "outputs": [],
   "source": [
    "#pf06.info()"
   ]
  },
  {
   "cell_type": "code",
   "execution_count": null,
   "id": "847e1e81-ddd7-4f0e-88e8-7b508ab36646",
   "metadata": {},
   "outputs": [],
   "source": [
    "#pf06[['AWARDED_CONTRACT_VALUE_VAL_ESTIMATED_TOTAL_CURRENCY', 'AWARDED_CONTRACT_VALUE_VAL_ESTIMATED_TOTAL_text', 'AWARDED_CONTRACT_VALUE_VAL_RANGE_TOTAL_CURRENCY', 'AWARDED_CONTRACT_VALUE_VAL_RANGE_TOTAL_HIGH', 'AWARDED_CONTRACT_VALUE_VAL_RANGE_TOTAL_LOW', 'AWARDED_CONTRACT_VALUE_VAL_TOTAL_CURRENCY', 'AWARDED_CONTRACT_VALUE_VAL_TOTAL_text', 'AWARDED_CONTRACT_VALUES_PUBLICATION', 'AWARDED_CONTRACT_VALUES_VAL_ESTIMATED_TOTAL_CURRENCY', 'AWARDED_CONTRACT_VALUES_VAL_ESTIMATED_TOTAL_text', 'AWARDED_CONTRACT_VALUES_VAL_RANGE_TOTAL_CURRENCY', 'AWARDED_CONTRACT_VALUES_VAL_RANGE_TOTAL_HIGH', 'AWARDED_CONTRACT_VALUES_VAL_RANGE_TOTAL_LOW', 'AWARDED_CONTRACT_VALUES_VAL_TOTAL_CURRENCY', 'AWARDED_CONTRACT_VALUES_VAL_TOTAL_text']].head()"
   ]
  },
  {
   "cell_type": "code",
   "execution_count": null,
   "id": "c6ed47b0-73ea-40f8-b791-eac8abbc58b1",
   "metadata": {},
   "outputs": [],
   "source": [
    "#pf06[['AWARDED_CONTRACT_VALUE_VAL_ESTIMATED_TOTAL_CURRENCY', 'AWARDED_CONTRACT_VALUE_VAL_ESTIMATED_TOTAL_text', 'AWARDED_CONTRACT_VALUES_VAL_TOTAL_CURRENCY', 'AWARDED_CONTRACT_VALUES_VAL_TOTAL_text']]"
   ]
  },
  {
   "cell_type": "code",
   "execution_count": null,
   "id": "70a03dce-796c-4322-be93-8f23a7fc7a25",
   "metadata": {},
   "outputs": [],
   "source": [
    "#pf06[\"COMPLEMENTARY_INFO_DATE_DISPATCH_NOTICE\"] = ps.to_datetime(pf06[\"COMPLEMENTARY_INFO_DATE_DISPATCH_NOTICE\"])\n",
    "#pf06[\"AWARDED_CONTRACT_DATE_CONCLUSION_CONTRACT\"] = ps.to_datetime(pf06[\"AWARDED_CONTRACT_DATE_CONCLUSION_CONTRACT\"])\n",
    "#pf06.info()"
   ]
  },
  {
   "cell_type": "code",
   "execution_count": null,
   "id": "460ad0be-c2fd-4cbe-9bdb-49f03f89ec2d",
   "metadata": {},
   "outputs": [],
   "source": [
    "f06 = pf06.to_spark()"
   ]
  },
  {
   "cell_type": "code",
   "execution_count": null,
   "id": "0771bfc9-e59f-454b-b37d-0130b46d0258",
   "metadata": {},
   "outputs": [],
   "source": [
    "f06.write.mode(\"append\").json(\"falk2210/award.json\")"
   ]
  },
  {
   "cell_type": "code",
   "execution_count": null,
   "id": "be91320a-2bb3-401d-b1ac-99545b684fe7",
   "metadata": {},
   "outputs": [],
   "source": [
    "f06.write.mode(\"append\").json(\"s3a_//falk2210/award.json\")"
   ]
  },
  {
   "cell_type": "code",
   "execution_count": null,
   "id": "7ea08a6d-f005-4936-8bc7-508d939727b1",
   "metadata": {},
   "outputs": [],
   "source": [
    "f06.write.mode(\"append\").json(\"s3a_//falk2210/f06.json\")"
   ]
  },
  {
   "cell_type": "code",
   "execution_count": null,
   "id": "739308a3-6463-4de8-9b22-f45bb9b939e5",
   "metadata": {},
   "outputs": [],
   "source": [
    "#f06.write.mode('append').parquet(\"s3a_//falk2210/award.parquet\")"
   ]
  },
  {
   "cell_type": "code",
   "execution_count": null,
   "id": "62da701f-1148-4e81-99cb-c6715644ae7d",
   "metadata": {},
   "outputs": [],
   "source": [
    "#f06.write.mode('append').parquet(\"s3a_//falk2210/f06.parquet\")"
   ]
  },
  {
   "cell_type": "code",
   "execution_count": null,
   "id": "ad5e874c-ef4e-4795-ab68-1a67ae4f86f1",
   "metadata": {},
   "outputs": [],
   "source": [
    "#award = spark.read.parquet(\"s3a_//falk2210/f03.parquet\")"
   ]
  },
  {
   "cell_type": "code",
   "execution_count": null,
   "id": "6867143f-b01d-41f9-923c-df31f9e8cd58",
   "metadata": {},
   "outputs": [],
   "source": [
    "#award.withColumn(\"`COMPLEMENTARY_INFO_ADDRESS_MEDIATION_BODY_POSTAL_CODE'\",award\"`COMPLEMENTARY_INFO_ADDRESS_MEDIATION_BODY_POSTAL_CODE'\".cast('String'))"
   ]
  },
  {
   "cell_type": "code",
   "execution_count": null,
   "id": "5f76e544-f7e9-448b-811a-2059d9a25dff",
   "metadata": {},
   "outputs": [],
   "source": [
    "#award.printSchema()"
   ]
  },
  {
   "cell_type": "code",
   "execution_count": null,
   "id": "470a4468-7751-4cfd-8403-f6d71f262038",
   "metadata": {},
   "outputs": [],
   "source": [
    "#award.show(truncate=False, vertical=True, n=1)"
   ]
  },
  {
   "cell_type": "code",
   "execution_count": null,
   "id": "c191af7f-6a5c-43ad-a5cf-a202b2d92693",
   "metadata": {},
   "outputs": [],
   "source": [
    "#award_ps = award.to_pandas_on_spark()"
   ]
  },
  {
   "cell_type": "code",
   "execution_count": null,
   "id": "96c59f98-72bb-484f-ad3e-05f60f56edad",
   "metadata": {},
   "outputs": [],
   "source": [
    "#award_ps"
   ]
  },
  {
   "cell_type": "markdown",
   "id": "e140a9c0-b7dd-4999-afd7-b0e76a763e5f",
   "metadata": {
    "tags": []
   },
   "source": [
    "# F07 QSU "
   ]
  },
  {
   "cell_type": "markdown",
   "id": "3b14034d-36bd-466d-acd9-c26538cd9026",
   "metadata": {},
   "source": [
    "<a id='f07' />"
   ]
  },
  {
   "cell_type": "code",
   "execution_count": null,
   "id": "8bb1aab6-5074-418c-9cd2-7e63925ddd4e",
   "metadata": {},
   "outputs": [],
   "source": [
    "f07 = spark.read.json(\"falk/F07.json/*.json\")\n",
    "#f07.printSchema()"
   ]
  },
  {
   "cell_type": "code",
   "execution_count": null,
   "id": "0178cba5-6aa9-4e2c-b837-ebe3ab5103e3",
   "metadata": {},
   "outputs": [],
   "source": [
    "pf07 = f07.to_pandas_on_spark()"
   ]
  },
  {
   "cell_type": "code",
   "execution_count": null,
   "id": "3fd8453b-55a8-4a62-9df4-71e4ac0f3786",
   "metadata": {},
   "outputs": [],
   "source": [
    "pf07 = pf07.rename(columns=lambda x_ re.sub('DOFFIN_ESENDERS_', '', x))\n",
    "pf07 = pf07.rename(columns=lambda x_ re.sub('FORM_SECTION_', '', x))\n",
    "pf07 = pf07.rename(columns=lambda x_ re.sub('F07_2014_', '', x))\n",
    "#pf07 = pf07.rename(columns=lambda x_ re.sub('_', '_', x))\n",
    "pf07 = pf07.rename(columns=lambda x_ re.sub('\\_P$', '', x))"
   ]
  },
  {
   "cell_type": "code",
   "execution_count": null,
   "id": "6b2fb8bc-3bff-4682-9d27-ba0d1d8a1e5d",
   "metadata": {},
   "outputs": [],
   "source": [
    "#pf07.info()"
   ]
  },
  {
   "cell_type": "code",
   "execution_count": null,
   "id": "694f4722-0c70-41cb-9888-d07a901291fe",
   "metadata": {},
   "outputs": [],
   "source": [
    "pf07[\"COMPLEMENTARY_INFO_DATE_DISPATCH_NOTICE\"] = ps.to_datetime(pf07[\"COMPLEMENTARY_INFO_DATE_DISPATCH_NOTICE\"])\n",
    "pf07[\"OBJECT_CONTRACT_OBJECT_DESCR_DATE_END\"] = ps.to_datetime(pf07[\"OBJECT_CONTRACT_OBJECT_DESCR_DATE_END\"])\n",
    "pf07[\"OBJECT_CONTRACT_OBJECT_DESCR_DATE_START\"] = ps.to_datetime(pf07[\"OBJECT_CONTRACT_OBJECT_DESCR_DATE_START\"])\n",
    "#pf07.info()"
   ]
  },
  {
   "cell_type": "code",
   "execution_count": null,
   "id": "c4b4bb30-df66-4c79-802d-999d2d81284f",
   "metadata": {},
   "outputs": [],
   "source": [
    "#pf07.head()"
   ]
  },
  {
   "cell_type": "code",
   "execution_count": null,
   "id": "bf2a3f19-1ffd-4687-aae8-d984415ae10c",
   "metadata": {},
   "outputs": [],
   "source": [
    "f07 = pf07.to_spark()"
   ]
  },
  {
   "cell_type": "code",
   "execution_count": null,
   "id": "9f7b9d2b-af29-4e9c-a830-e8f850299a1d",
   "metadata": {},
   "outputs": [],
   "source": [
    "#f07.show(truncate=False, vertical=True)"
   ]
  },
  {
   "cell_type": "code",
   "execution_count": null,
   "id": "efa4f5d8-801f-435d-8556-8d248dc7fd2a",
   "metadata": {},
   "outputs": [],
   "source": [
    "#f07.write.parquet(\"s3a_//falk2210/f07.parquet\")"
   ]
  },
  {
   "cell_type": "code",
   "execution_count": null,
   "id": "407f44ca-5464-42db-94dc-647b3e01737a",
   "metadata": {},
   "outputs": [],
   "source": [
    "#f07.write.mode('append').parquet(\"s3a_//falk2210/contract.parquet\")"
   ]
  },
  {
   "cell_type": "code",
   "execution_count": null,
   "id": "d6a18f38-48da-4af9-8a2f-f85eb5e9a9e1",
   "metadata": {},
   "outputs": [],
   "source": [
    "f07.write.mode(\"append\").json(\"s3a_//falk2210/f07.json\")"
   ]
  },
  {
   "cell_type": "code",
   "execution_count": null,
   "id": "05da0784-c93c-4548-9bf8-e351319de59e",
   "metadata": {},
   "outputs": [],
   "source": [
    "f07.write.mode(\"append\").json(\"s3a_//falk2210/contract.json\")"
   ]
  },
  {
   "cell_type": "code",
   "execution_count": null,
   "id": "ac10aa97-b08d-4c16-a14a-20b7e12c5c4c",
   "metadata": {},
   "outputs": [],
   "source": [
    "#con = spark.read.json(\"s3a_//falk2210/contract.json\")\n",
    "#con.printSchema()"
   ]
  },
  {
   "cell_type": "code",
   "execution_count": null,
   "id": "7ecf692d-f30d-4827-b022-8d6e8db24a5a",
   "metadata": {},
   "outputs": [],
   "source": [
    "#p_con = con.to_pandas_on_spark()"
   ]
  },
  {
   "cell_type": "code",
   "execution_count": null,
   "id": "e6a9e2d6-1074-49eb-870c-f015d746d7e8",
   "metadata": {},
   "outputs": [],
   "source": [
    "#p_con.head()"
   ]
  },
  {
   "cell_type": "code",
   "execution_count": null,
   "id": "f655f450-8fb7-48e9-954d-18366863092f",
   "metadata": {},
   "outputs": [],
   "source": [
    "#p_con.info()"
   ]
  },
  {
   "cell_type": "markdown",
   "id": "b26686ca-8445-484d-9715-b470723ce1e7",
   "metadata": {
    "tags": []
   },
   "source": [
    "# F08 Buyer profil "
   ]
  },
  {
   "cell_type": "markdown",
   "id": "8b8ced3c-6f5f-4c87-a6c4-597e94d641cd",
   "metadata": {},
   "source": [
    "<a id='f08' />"
   ]
  },
  {
   "cell_type": "code",
   "execution_count": null,
   "id": "cedd59e4-f248-4614-9d2b-6e10cfe8886d",
   "metadata": {},
   "outputs": [],
   "source": [
    "f08 = spark.read.json(\"falk/F08.json/*.json\")\n",
    "#f08.printSchema()"
   ]
  },
  {
   "cell_type": "code",
   "execution_count": null,
   "id": "8e2410e8-3c91-4b69-b1fa-babdc11bcb08",
   "metadata": {},
   "outputs": [],
   "source": [
    "pf08 = f08.to_pandas_on_spark()"
   ]
  },
  {
   "cell_type": "code",
   "execution_count": null,
   "id": "abc8a612-9468-4cf8-97cc-6de5ccc26ca1",
   "metadata": {},
   "outputs": [],
   "source": [
    "pf08 = pf08.rename(columns=lambda x_ re.sub('DOFFIN_ESENDERS_', '', x))\n",
    "pf08 = pf08.rename(columns=lambda x_ re.sub('FORM_SECTION_', '', x))\n",
    "pf08 = pf08.rename(columns=lambda x_ re.sub('F08_2014_', '', x))\n",
    "#pf08 = pf08.rename(columns=lambda x_ re.sub('_', '_', x))\n",
    "pf08 = pf08.rename(columns=lambda x_ re.sub('\\_P$', '', x))"
   ]
  },
  {
   "cell_type": "code",
   "execution_count": null,
   "id": "3c0a5942-4e8f-46a4-a738-febf5145be2d",
   "metadata": {},
   "outputs": [],
   "source": [
    "#pf08.info()"
   ]
  },
  {
   "cell_type": "code",
   "execution_count": null,
   "id": "2baea794-97ed-48e9-8e73-b5d05a77b190",
   "metadata": {},
   "outputs": [],
   "source": [
    "pf08[\"COMPLEMENTARY_INFO_DATE_DISPATCH_NOTICE\"] = ps.to_datetime(pf08[\"COMPLEMENTARY_INFO_DATE_DISPATCH_NOTICE\"])"
   ]
  },
  {
   "cell_type": "code",
   "execution_count": null,
   "id": "0e672bd1-247f-4914-9acd-5e3ce5d9c941",
   "metadata": {},
   "outputs": [],
   "source": [
    "f08 = pf08.to_spark()"
   ]
  },
  {
   "cell_type": "code",
   "execution_count": null,
   "id": "406fc222-8a1a-41fa-9a94-b6be6e2d3c33",
   "metadata": {},
   "outputs": [],
   "source": [
    "#f08.show(truncate=False, vertical=True)"
   ]
  },
  {
   "cell_type": "code",
   "execution_count": null,
   "id": "45d896ff-5ab1-445e-ad76-dd0e89541f0f",
   "metadata": {},
   "outputs": [],
   "source": [
    "#f08.write.parquet(\"s3a_//falk2210/f08.parquet\")"
   ]
  },
  {
   "cell_type": "code",
   "execution_count": null,
   "id": "2d285dc7-df71-4765-95fc-4fa670e6f161",
   "metadata": {},
   "outputs": [],
   "source": [
    "f08.write.mode(\"append\").json(\"s3a_//falk2210/f08.json\")"
   ]
  },
  {
   "cell_type": "markdown",
   "id": "4bf84ad7-3527-40d3-b7e5-c00259fda658",
   "metadata": {
    "tags": []
   },
   "source": [
    "# F12 Contracts "
   ]
  },
  {
   "cell_type": "markdown",
   "id": "5045b783-6930-4f9e-b491-e3a52f671e2b",
   "metadata": {},
   "source": [
    "<a id='f12' />"
   ]
  },
  {
   "cell_type": "code",
   "execution_count": null,
   "id": "1e0d0a7d-03a0-4dc3-9af6-c2d87bd92a1c",
   "metadata": {},
   "outputs": [],
   "source": [
    "f12 = spark.read.json(\"falk/F12.json/*.json\")\n",
    "#f12.printSchema()"
   ]
  },
  {
   "cell_type": "code",
   "execution_count": null,
   "id": "6e458f70-2790-4b51-88e9-f36b5dd6bfd6",
   "metadata": {},
   "outputs": [],
   "source": [
    "pf12 = f12.to_pandas_on_spark()"
   ]
  },
  {
   "cell_type": "code",
   "execution_count": null,
   "id": "c31fcb5a-7607-4e66-835f-94cda72b8efc",
   "metadata": {},
   "outputs": [],
   "source": [
    "pf12 = pf12.rename(columns=lambda x_ re.sub('DOFFIN_ESENDERS_', '', x))\n",
    "pf12 = pf12.rename(columns=lambda x_ re.sub('FORM_SECTION_', '', x))\n",
    "pf12 = pf12.rename(columns=lambda x_ re.sub('F12_2014_', '', x))\n",
    "#pf12 = pf12.rename(columns=lambda x_ re.sub('_', '_', x))"
   ]
  },
  {
   "cell_type": "code",
   "execution_count": null,
   "id": "dba22ad7-4e17-4c7c-9442-a57cb4ac4c01",
   "metadata": {},
   "outputs": [],
   "source": [
    "#pf12.info()"
   ]
  },
  {
   "cell_type": "code",
   "execution_count": null,
   "id": "6f1c3fcf-8194-4754-b987-6ae307a50453",
   "metadata": {},
   "outputs": [],
   "source": [
    "pf12['LEFTI_PARTICULAR_PROFESSION'].update(pf12.pop('LEFTI_PARTICULAR_PROFESSION_P'))"
   ]
  },
  {
   "cell_type": "code",
   "execution_count": null,
   "id": "c113b59c-5028-4ba1-b04b-364bef2b168d",
   "metadata": {},
   "outputs": [],
   "source": [
    "pf12[\"PROCEDURE_DATE_DISPATCH_INVITATIONS\"] = ps.to_datetime(pf12[\"PROCEDURE_DATE_DISPATCH_INVITATIONS\"])\n",
    "pf12[\"PROCEDURE_DATE_RECEIPT_TENDERS\"] = ps.to_datetime(pf12[\"PROCEDURE_DATE_RECEIPT_TENDERS\"])\n",
    "#pf12.info()"
   ]
  },
  {
   "cell_type": "code",
   "execution_count": null,
   "id": "6f9946cd-4806-479a-9780-1613c957df35",
   "metadata": {},
   "outputs": [],
   "source": [
    "pf12 = pf12.rename(columns=lambda x_ re.sub('\\_P$', '', x))"
   ]
  },
  {
   "cell_type": "code",
   "execution_count": null,
   "id": "9bed2a50-4dfc-4735-bd07-30783513cfb6",
   "metadata": {},
   "outputs": [],
   "source": [
    "#pf12.info()"
   ]
  },
  {
   "cell_type": "code",
   "execution_count": null,
   "id": "6191bd7e-eecf-49f6-b070-fbbeb795a579",
   "metadata": {},
   "outputs": [],
   "source": [
    "f12 = pf12.to_spark()"
   ]
  },
  {
   "cell_type": "code",
   "execution_count": null,
   "id": "a4e66029-09af-414c-bfa6-47f6c4c0c38c",
   "metadata": {},
   "outputs": [],
   "source": [
    "f12.write.mode(\"append\").json(\"falk2210/contract.json\")"
   ]
  },
  {
   "cell_type": "code",
   "execution_count": null,
   "id": "1bd75563-b340-4551-8452-1bfedd1b6540",
   "metadata": {},
   "outputs": [],
   "source": [
    "f12.write.mode(\"append\").json(\"s3a_//falk2210/f12.json\")"
   ]
  },
  {
   "cell_type": "code",
   "execution_count": null,
   "id": "d159396d-fede-4c85-b1e9-23459abc4ae1",
   "metadata": {},
   "outputs": [],
   "source": [
    "f12.write.mode(\"append\").json(\"s3a_//falk2210/contract.json\")"
   ]
  },
  {
   "cell_type": "code",
   "execution_count": null,
   "id": "a2e0f37a-cdf4-41e9-bf7d-d05daf2dfb5c",
   "metadata": {},
   "outputs": [],
   "source": [
    "#f12.show(n=1, truncate=False, vertical=True)"
   ]
  },
  {
   "cell_type": "code",
   "execution_count": null,
   "id": "c622a84e-9aae-4229-80a7-91f029d17c80",
   "metadata": {},
   "outputs": [],
   "source": [
    "#f12.write.mode('append').parquet(\"s3a_//falk2210/contract.parquet\")"
   ]
  },
  {
   "cell_type": "code",
   "execution_count": null,
   "id": "6d489460-f1ee-4020-91c2-54ed192065ff",
   "metadata": {},
   "outputs": [],
   "source": [
    "#f12.write.parquet(\"s3a_//falk2210/f12.parquet\")"
   ]
  },
  {
   "cell_type": "code",
   "execution_count": null,
   "id": "bd59834a-e442-4d2c-a456-c9019bc77caa",
   "metadata": {},
   "outputs": [],
   "source": [
    "#f12.write.parquet(\"s3a_//falk2210/f12.parquet\")"
   ]
  },
  {
   "cell_type": "code",
   "execution_count": null,
   "id": "fbc3d8ed-3c31-49dd-ba13-2ee6e680a39a",
   "metadata": {},
   "outputs": [],
   "source": [
    "#con = spark.read.json(\"s3a_//falk2210/contract.json\")"
   ]
  },
  {
   "cell_type": "code",
   "execution_count": null,
   "id": "309c2e6f-40f6-48b3-8afc-e0831592f6cf",
   "metadata": {},
   "outputs": [],
   "source": [
    "#con.printSchema()"
   ]
  },
  {
   "cell_type": "markdown",
   "id": "67bba6df-a23a-4454-bd27-e4cc7d0ae140",
   "metadata": {
    "jp-MarkdownHeadingCollapsed": true,
    "tags": []
   },
   "source": [
    "# F13 Awards "
   ]
  },
  {
   "cell_type": "markdown",
   "id": "274036ad-0bc8-4cd2-9a45-3e49c11c0ff1",
   "metadata": {},
   "source": [
    "<a id='f13' />"
   ]
  },
  {
   "cell_type": "code",
   "execution_count": null,
   "id": "c47da7e8-02ac-464c-a519-3118d67431e1",
   "metadata": {},
   "outputs": [],
   "source": [
    "f13 = spark.read.json(\"falk/F13.json/*.json\")\n",
    "#f13.printSchema()"
   ]
  },
  {
   "cell_type": "code",
   "execution_count": null,
   "id": "5609758b-e40f-4939-97ff-232b2c311e01",
   "metadata": {},
   "outputs": [],
   "source": [
    "pf13 = f13.to_pandas_on_spark()"
   ]
  },
  {
   "cell_type": "code",
   "execution_count": null,
   "id": "3de48be5-8228-4a71-89cf-66b03aec8226",
   "metadata": {},
   "outputs": [],
   "source": [
    "pf13 = pf13.rename(columns=lambda x_ re.sub('DOFFIN_ESENDERS_', '', x))\n",
    "pf13 = pf13.rename(columns=lambda x_ re.sub('FORM_SECTION_', '', x))\n",
    "pf13 = pf13.rename(columns=lambda x_ re.sub('F13_2014_', '', x))\n",
    "#pf13 = pf13.rename(columns=lambda x_ re.sub('_', '_', x))\n",
    "pf13 = pf13.rename(columns=lambda x_ re.sub('\\_P$', '', x))"
   ]
  },
  {
   "cell_type": "code",
   "execution_count": null,
   "id": "25192670-f685-4c90-8882-7ceb40ccf2fc",
   "metadata": {},
   "outputs": [],
   "source": [
    "#pf13.info()"
   ]
  },
  {
   "cell_type": "code",
   "execution_count": null,
   "id": "cecf3c67-49d0-469a-9cdd-26c636faa870",
   "metadata": {},
   "outputs": [],
   "source": [
    "pf13 = pf13.rename(columns=lambda x_ re.sub('RESULTS_', 'AWARDED_CONTRACT_', x))\n",
    "pf13 = pf13.rename(columns=lambda x_ re.sub('AWARDED_PRIZE_', 'AWARD_CONTRACT_', x))\n",
    "pf13 = pf13.rename(columns=lambda x_ re.sub('NO_AWARDED_PRIZE_', 'NO_AWARDED_CONTRACT_', x))\n",
    "#pf13.info()"
   ]
  },
  {
   "cell_type": "code",
   "execution_count": null,
   "id": "786bded3-f91c-4c40-bc08-41d45a81ec18",
   "metadata": {},
   "outputs": [],
   "source": [
    "pf13 = pf13.rename(columns=lambda x_ re.sub('AWARDED_CONTRACT_AWARD_CONTRACT_WINNERS_', 'AWARD_CONTRACT_AWARDED_CONTRACT_CONTRACTORS_', x))\n",
    "pf13 = pf13.rename(columns=lambda x_ re.sub('AWARDED_CONTRACT_AWARD_CONTRACT_WINNER.', 'AWARD_CONTRACT_AWARDED_CONTRACT_CONTRACTOR_', x))\n",
    "pf13 = pf13.rename(columns=lambda x_ re.sub('ADDRESS_WINNER_', 'ADDRESS_CONTRACTOR_', x))\n",
    "#pf13.info()"
   ]
  },
  {
   "cell_type": "code",
   "execution_count": null,
   "id": "f9893fd9-2de8-48cd-bda1-9df88374483c",
   "metadata": {},
   "outputs": [],
   "source": [
    "pf13 = pf13.rename(columns=lambda x_ re.sub('AWARDED_CONTRACT_NO_AWARD_CONTRACT_', 'AWARD_CONTRACT_NO_AWARDED_CONTRACT_', x))\n",
    "pf13 = pf13.rename(columns=lambda x_ re.sub('AWARDED_CONTRACT_AWARD_CONTRACT_WINNER.', 'AWARD_CONTRACT_AWARDED_CONTRACT_CONTRACTOR_', x))\n",
    "pf13 = pf13.rename(columns=lambda x_ re.sub('ADDRESS_WINNER_', 'ADDRESS_CONTRACTOR_', x))\n",
    "#pf13.info()"
   ]
  },
  {
   "cell_type": "code",
   "execution_count": null,
   "id": "686f4bf6-1934-43f2-b6ce-7ccbfe7eb6d0",
   "metadata": {},
   "outputs": [],
   "source": [
    "pf13 = pf13.rename(columns=lambda x_ re.sub('AWARDED_CONTRACT_AWARD_CONTRACT_', 'AWARD_CONTRACT_AWARDED_CONTRACT_', x))\n",
    "#pf13.info()"
   ]
  },
  {
   "cell_type": "code",
   "execution_count": null,
   "id": "6e4648f4-c0a7-42f8-94ca-cb86645cbf62",
   "metadata": {},
   "outputs": [],
   "source": [
    "pf13 = pf13.rename(columns=lambda x_ re.sub('WINNER_', 'CONTRACTOR_', x))\n",
    "#pf13.info()"
   ]
  },
  {
   "cell_type": "code",
   "execution_count": null,
   "id": "371b7189-b525-4166-8878-ea9e3ccd6774",
   "metadata": {},
   "outputs": [],
   "source": [
    "pf13 = pf13.rename(columns=lambda x_ re.sub('AWARD_CONTRACT_AWARDED_CONTRACT_', 'AWARDED_CONTRACT_', x))"
   ]
  },
  {
   "cell_type": "code",
   "execution_count": null,
   "id": "e5949fce-7638-4a1a-bb68-b241fcc1822b",
   "metadata": {},
   "outputs": [],
   "source": [
    "pf13 = pf13.rename(columns=lambda x_ re.sub('AWARDED_CONTRACT_VAL_PRIZE_CURRENCY', 'AWARDED_CONTRACT_VALUES_VAL_TOTAL_CURRENCY', x))\n",
    "pf13 = pf13.rename(columns=lambda x_ re.sub('AWARDED_CONTRACT_VAL_PRIZE_text', 'AWARDED_CONTRACT_VALUES_VAL_TOTAL_text', x))"
   ]
  },
  {
   "cell_type": "code",
   "execution_count": null,
   "id": "c3fc3541-14a4-4cfb-babf-edb3dbf16125",
   "metadata": {},
   "outputs": [],
   "source": [
    "pf13['AWARDED_CONTRACT_NB_PARTICIPANTS'].update(pf13.pop('AWARDED_CONTRACT_PARTICIPANTS_NB_PARTICIPANTS'))\n",
    "pf13['AWARDED_CONTRACT_NB_PARTICIPANTS_OTHER_EU'].update(pf13.pop('AWARDED_CONTRACT_PARTICIPANTS_NB_PARTICIPANTS_OTHER_EU'))\n",
    "pf13['AWARDED_CONTRACT_NB_PARTICIPANTS_SME'].update(pf13.pop('AWARDED_CONTRACT_PARTICIPANTS_NB_PARTICIPANTS_SME'))\n",
    "#pf13['AWARDED_CONTRACT_PARTICIPANTS_NB_PARTICIPANTS_SME'].update(pf13.pop('AWARDED_CONTRACT_PARTICIPANTS_NB_PARTICIPANTS_SME'))\n",
    "#pf13['AWARDED_CONTRACT_NB_TENDERS_RECEIVED_SME'].update(pf13.pop('AWARDED_CONTRACT_TENDERS_NB_TENDERS_RECEIVED_SME'))"
   ]
  },
  {
   "cell_type": "code",
   "execution_count": null,
   "id": "0a89705c-3df2-4233-88bf-ae1621e37637",
   "metadata": {},
   "outputs": [],
   "source": [
    "#pf13.info()"
   ]
  },
  {
   "cell_type": "code",
   "execution_count": null,
   "id": "e5c58273-3cbe-4ccd-a23d-b58485d3a0ab",
   "metadata": {},
   "outputs": [],
   "source": [
    "#pf13[\"COMPLEMENTARY_INFO_DATE_DISPATCH_NOTICE\"] = ps.to_datetime(pf13[\"COMPLEMENTARY_INFO_DATE_DISPATCH_NOTICE\"])\n",
    "#pf13[\"AWARDED_CONTRACT_DATE_DECISION_JURY\"] = ps.to_datetime(pf13[\"AWARDED_CONTRACT_DATE_DECISION_JURY\"])\n",
    "#pf13.info()"
   ]
  },
  {
   "cell_type": "code",
   "execution_count": null,
   "id": "cdc2ef33-8191-4c6f-a5e3-809c444801b6",
   "metadata": {},
   "outputs": [],
   "source": [
    "f13 = pf13.to_spark()"
   ]
  },
  {
   "cell_type": "code",
   "execution_count": null,
   "id": "a20374f3-be58-4489-abbb-5370ccfb538c",
   "metadata": {},
   "outputs": [],
   "source": [
    "f13.write.mode(\"append\").json(\"falk2210/award.json\")"
   ]
  },
  {
   "cell_type": "code",
   "execution_count": null,
   "id": "45bc636d-d796-499a-a7fb-bb0230e66bc8",
   "metadata": {},
   "outputs": [],
   "source": [
    "f13.write.mode(\"append\").json(\"s3a_//falk2210/f13.json\")"
   ]
  },
  {
   "cell_type": "code",
   "execution_count": null,
   "id": "68a04578-579a-49a5-b0d0-0c46dd84e357",
   "metadata": {},
   "outputs": [],
   "source": [
    "f13.write.mode(\"append\").json(\"s3a_//falk2210/award.json\")"
   ]
  },
  {
   "cell_type": "code",
   "execution_count": null,
   "id": "0d12b31e-cc1c-4048-bfa2-a0b813256483",
   "metadata": {},
   "outputs": [],
   "source": [
    "#f13.write.parquet(\"s3a_//falk2210/f13.parquet\")"
   ]
  },
  {
   "cell_type": "code",
   "execution_count": null,
   "id": "65eaaf5f-9258-4cfa-9bc5-32b9e4b0b172",
   "metadata": {},
   "outputs": [],
   "source": [
    "#f13.write.mode('append').parquet(\"s3a_//falk2210/award.parquet\")"
   ]
  },
  {
   "cell_type": "markdown",
   "id": "336b41c2-e504-44af-a95f-0ae0d7dfa6d1",
   "metadata": {
    "jp-MarkdownHeadingCollapsed": true,
    "tags": []
   },
   "source": [
    "# F14 Updates "
   ]
  },
  {
   "cell_type": "markdown",
   "id": "1d5208ac-e495-4f59-834a-687fff2f7769",
   "metadata": {},
   "source": [
    "<a id='f14' />"
   ]
  },
  {
   "cell_type": "code",
   "execution_count": null,
   "id": "acfa8b6a-3936-45b1-bc64-d71f4984af82",
   "metadata": {},
   "outputs": [],
   "source": [
    "f14 = spark.read.json(\"falk/F14.json/*.json\")\n",
    "#f14.printSchema()"
   ]
  },
  {
   "cell_type": "code",
   "execution_count": null,
   "id": "9ab0ccb4-1a56-4e3b-936f-1bc64179ecce",
   "metadata": {},
   "outputs": [],
   "source": [
    "pf14 = f14.to_pandas_on_spark()"
   ]
  },
  {
   "cell_type": "code",
   "execution_count": null,
   "id": "fc65c0d6-b12d-4dbe-9cf2-500266d8e8d4",
   "metadata": {},
   "outputs": [],
   "source": [
    "pf14 = pf14.rename(columns=lambda x_ re.sub('DOFFIN_ESENDERS_', '', x))\n",
    "pf14 = pf14.rename(columns=lambda x_ re.sub('FORM_SECTION_', '', x))\n",
    "pf14 = pf14.rename(columns=lambda x_ re.sub('F14_2014_', '', x))\n",
    "#pf14 = pf14.rename(columns=lambda x_ re.sub('_', '_', x))\n",
    "pf14 = pf14.rename(columns=lambda x_ re.sub('\\_P$', '', x))"
   ]
  },
  {
   "cell_type": "code",
   "execution_count": null,
   "id": "a6b972a9-45c9-4a9c-ac2b-915290b21b52",
   "metadata": {},
   "outputs": [],
   "source": [
    "#pf14.info()"
   ]
  },
  {
   "cell_type": "code",
   "execution_count": null,
   "id": "1f9db1c6-638d-44dc-9cfb-1a7b9ed54a92",
   "metadata": {},
   "outputs": [],
   "source": [
    "f14 = pf14.to_spark()"
   ]
  },
  {
   "cell_type": "code",
   "execution_count": null,
   "id": "568389a4-be18-40c3-a329-ee11b655b3b5",
   "metadata": {},
   "outputs": [],
   "source": [
    "f14.write.mode(\"append\").json(\"s3a_//falk2210/f14.json\")"
   ]
  },
  {
   "cell_type": "code",
   "execution_count": null,
   "id": "21b994e0-013f-4f6f-b2af-bdebf5303653",
   "metadata": {},
   "outputs": [],
   "source": [
    "f14.write.mode(\"append\").json(\"s3a_//falk2210/updates.json\")"
   ]
  },
  {
   "cell_type": "code",
   "execution_count": null,
   "id": "193f5727-b8c5-416f-a2dc-178898a2a60b",
   "metadata": {},
   "outputs": [],
   "source": [
    "#f14.write.parquet(\"s3a_//falk2210/f14.parquet\")"
   ]
  },
  {
   "cell_type": "markdown",
   "id": "f32bcce1-8008-491f-a0a5-6269fd6c53c3",
   "metadata": {
    "jp-MarkdownHeadingCollapsed": true,
    "tags": []
   },
   "source": [
    "# F15 AWARD "
   ]
  },
  {
   "cell_type": "markdown",
   "id": "c69d9d76-3112-417b-82ad-2e4a57e1b326",
   "metadata": {},
   "source": [
    "<a id='f15' />"
   ]
  },
  {
   "cell_type": "code",
   "execution_count": null,
   "id": "374551c8-5177-48fc-909f-a9e2f121427d",
   "metadata": {},
   "outputs": [],
   "source": [
    "f15 = spark.read.json(\"falk/F15.json/*.json\")\n",
    "#f15.printSchema()"
   ]
  },
  {
   "cell_type": "code",
   "execution_count": null,
   "id": "2dfdeb24-22f5-420f-a4ef-e77d25ee3af1",
   "metadata": {},
   "outputs": [],
   "source": [
    "pf15 = f15.to_pandas_on_spark()"
   ]
  },
  {
   "cell_type": "code",
   "execution_count": null,
   "id": "52d08d11-02e5-4dfc-a0c6-ef42b5b414b3",
   "metadata": {},
   "outputs": [],
   "source": [
    "pf15 = pf15.rename(columns=lambda x_ re.sub('DOFFIN_ESENDERS_', '', x))\n",
    "pf15 = pf15.rename(columns=lambda x_ re.sub('FORM_SECTION_', '', x))\n",
    "pf15 = pf15.rename(columns=lambda x_ re.sub('F15_2014_', '', x))\n",
    "#pf15 = pf15.rename(columns=lambda x_ re.sub('_', '_', x))\n",
    "pf15 = pf15.rename(columns=lambda x_ re.sub('\\_P$', '', x))\n",
    "pf15 = pf15.rename(columns=lambda x_ re.sub('AWARD_CONTRACT_AWARDED_CONTRACT_', 'AWARDED_CONTRACT_', x))"
   ]
  },
  {
   "cell_type": "code",
   "execution_count": null,
   "id": "0aeb0b81-5608-411a-afb4-7dc988269d0b",
   "metadata": {},
   "outputs": [],
   "source": [
    "#pf15.info()"
   ]
  },
  {
   "cell_type": "code",
   "execution_count": null,
   "id": "4d08d406-b66f-496f-821e-3eab6e5242af",
   "metadata": {},
   "outputs": [],
   "source": [
    "pf15['AWARDED_CONTRACT_VALUES_VAL_ESTIMATED_TOTAL_CURRENCY'].update(pf15.pop('AWARDED_CONTRACT_VALUE_VAL_ESTIMATED_TOTAL_CURRENCY')) \n",
    "pf15['AWARDED_CONTRACT_VALUES_VAL_ESTIMATED_TOTAL_CURRENCY'].update(pf15.pop('AWARDED_CONTRACT_VAL_ESTIMATED_TOTAL_CURRENCY'))\n",
    "pf15['AWARDED_CONTRACT_VALUES_VAL_ESTIMATED_TOTAL_text'].update(pf15.pop('AWARDED_CONTRACT_VALUE_VAL_ESTIMATED_TOTAL_text'))\n",
    "pf15['AWARDED_CONTRACT_VALUES_VAL_ESTIMATED_TOTAL_text'].update(pf15.pop('AWARDED_CONTRACT_VAL_ESTIMATED_TOTAL_text'))\n",
    "pf15['AWARDED_CONTRACT_VALUES_VAL_RANGE_TOTAL_CURRENCY'].update(pf15.pop('AWARDED_CONTRACT_VAL_RANGE_TOTAL_CURRENCY'))\n",
    "pf15['AWARDED_CONTRACT_VALUES_VAL_RANGE_TOTAL_HIGH'].update(pf15.pop('AWARDED_CONTRACT_VAL_RANGE_TOTAL_HIGH'))\n",
    "pf15['AWARDED_CONTRACT_VALUES_VAL_RANGE_TOTAL_LOW'].update(pf15.pop('AWARDED_CONTRACT_VAL_RANGE_TOTAL_LOW'))\n",
    "pf15['AWARDED_CONTRACT_VALUES_VAL_TOTAL_CURRENCY'].update(pf15.pop('AWARDED_CONTRACT_VALUE_VAL_TOTAL_CURRENCY'))\n",
    "pf15['AWARDED_CONTRACT_VALUES_VAL_TOTAL_CURRENCY'].update(pf15.pop('AWARDED_CONTRACT_VAL_TOTAL_CURRENCY'))\n",
    "pf15['AWARDED_CONTRACT_VALUES_VAL_TOTAL_text'].update(pf15.pop('AWARDED_CONTRACT_VALUE_VAL_TOTAL_text'))\n",
    "pf15['AWARDED_CONTRACT_VALUES_VAL_TOTAL_text'].update(pf15.pop('AWARDED_CONTRACT_VAL_TOTAL_text'))\n",
    "pf15['AWARDED_CONTRACT_VALUES_PUBLICATION'].update(pf15.pop('AWARDED_CONTRACT_VALUE_PUBLICATION'))"
   ]
  },
  {
   "cell_type": "code",
   "execution_count": null,
   "id": "1c4a81dc-87c6-4292-b657-7ee2f55dce59",
   "metadata": {},
   "outputs": [],
   "source": [
    "pf15 = pf15.rename(columns=lambda x_ re.sub('PROCEDURE_DIRECTIVE_2009_81_EC_PT_AWARD_CONTRACT_WITHOUT_CALL_D_JUSTIFICATION', 'PROCEDURE_PT_AWARD_CONTRACT_WITHOUT_CALL_D_JUSTIFICATION', x))\n",
    "pf15 = pf15.rename(columns=lambda x_ re.sub('PROCEDURE_DIRECTIVE_2009_81_EC_PT_NEGOTIATED_WITHOUT_PUBLICATION_D_JUSTIFICATION', 'PROCEDURE_PT_AWARD_CONTRACT_WITHOUT_PUBLICATION_D_JUSTIFICATION', x))"
   ]
  },
  {
   "cell_type": "code",
   "execution_count": null,
   "id": "23199e50-a0fd-48f4-ad79-31c2243067de",
   "metadata": {},
   "outputs": [],
   "source": [
    "#pf15['PROCEDURE_PT_AWARD_CONTRACT_WITHOUT_CALL_D_JUSTIFICATION'].update(pf15.pop('PROCEDURE_DIRECTIVE_2009_81_EC_PT_AWARD_CONTRACT_WITHOUT_CALL_D_JUSTIFICATION'))\n",
    "#pf15['PROCEDURE_PT_AWARD_CONTRACT_WITHOUT_PUBLICATION_D_JUSTIFICATION'].update(pf15.pop('PROCEDURE_DIRECTIVE_2009_81_EC_PT_NEGOTIATED_WITHOUT_PUBLICATION_D_JUSTIFICATION'))\n",
    "pf15['PROCEDURE_PT_AWARD_CONTRACT_WITHOUT_CALL_D_JUSTIFICATION'].update(pf15.pop('PROCEDURE_DIRECTIVE_2014_23_EU_PT_AWARD_CONTRACT_WITHOUT_CALL_D_JUSTIFICATION'))\n",
    "pf15['PROCEDURE_PT_AWARD_CONTRACT_WITHOUT_PUBLICATION_D_JUSTIFICATION'].update(pf15.pop('PROCEDURE_DIRECTIVE_2014_24_EU_PT_AWARD_CONTRACT_WITHOUT_CALL_D_JUSTIFICATION'))\n",
    "pf15['PROCEDURE_PT_AWARD_CONTRACT_WITHOUT_CALL_D_JUSTIFICATION'].update(pf15.pop('PROCEDURE_DIRECTIVE_2014_25_EU_PT_AWARD_CONTRACT_WITHOUT_CALL_D_JUSTIFICATION'))\n",
    "pf15['PROCEDURE_PT_AWARD_CONTRACT_WITHOUT_PUBLICATION_D_JUSTIFICATION'].update(pf15.pop('PROCEDURE_DIRECTIVE_2014_24_EU_PT_NEGOTIATED_WITHOUT_PUBLICATION_D_JUSTIFICATION'))\n",
    "#pf15['PROCEDURE_PT_AWARD_CONTRACT_WITHOUT_CALL_D_JUSTIFICATION'].update(pf15.pop(''))\n",
    "pf15['PROCEDURE_PT_AWARD_CONTRACT_WITHOUT_PUBLICATION_D_JUSTIFICATION'].update(pf15.pop('PROCEDURE_DIRECTIVE_2014_25_EU_PT_NEGOTIATED_WITHOUT_PUBLICATION_D_JUSTIFICATION'))"
   ]
  },
  {
   "cell_type": "code",
   "execution_count": null,
   "id": "55e5d9c9-0246-4542-946f-e33985f38cf4",
   "metadata": {},
   "outputs": [],
   "source": [
    "#pf15.info()"
   ]
  },
  {
   "cell_type": "code",
   "execution_count": null,
   "id": "7ab2f7b2-c3b3-473d-9d27-fd88bc935929",
   "metadata": {},
   "outputs": [],
   "source": [
    "#pf15[['AWARDED_CONTRACT_VALUE_VAL_ESTIMATED_TOTAL_CURRENCY', 'AWARDED_CONTRACT_VALUE_VAL_ESTIMATED_TOTAL_text', 'AWARDED_CONTRACT_VALUES_VAL_TOTAL_CURRENCY', 'AWARDED_CONTRACT_VALUES_VAL_TOTAL_text']]"
   ]
  },
  {
   "cell_type": "code",
   "execution_count": null,
   "id": "b8786039-03e6-4505-8d6a-af0ce7549908",
   "metadata": {},
   "outputs": [],
   "source": [
    "#pf15[\"COMPLEMENTARY_INFO_DATE_DISPATCH_NOTICE\"] = ps.to_datetime(pf15[\"COMPLEMENTARY_INFO_DATE_DISPATCH_NOTICE\"])\n",
    "#pf15[\"AWARDED_CONTRACT_DATE_CONCLUSION_CONTRACT\"] = ps.to_datetime(pf15[\"AWARDED_CONTRACT_DATE_CONCLUSION_CONTRACT\"])\n",
    "#pf15.info()"
   ]
  },
  {
   "cell_type": "code",
   "execution_count": null,
   "id": "4e5defaa-c0b9-46ea-a00b-0119da41d269",
   "metadata": {},
   "outputs": [],
   "source": [
    "f15 = pf15.to_spark()"
   ]
  },
  {
   "cell_type": "code",
   "execution_count": null,
   "id": "8f33e2e1-595e-499b-b1e3-4356f4dd2c10",
   "metadata": {},
   "outputs": [],
   "source": [
    "f15.write.mode(\"append\").json(\"falk2210/award.json\")"
   ]
  },
  {
   "cell_type": "code",
   "execution_count": null,
   "id": "e107e25f-be91-45b7-838e-89c0851fa5d3",
   "metadata": {},
   "outputs": [],
   "source": [
    "f15.write.mode(\"append\").json(\"s3a_//falk2210/f15.json\")"
   ]
  },
  {
   "cell_type": "code",
   "execution_count": null,
   "id": "1becd233-1efd-42b9-941b-89da70241a50",
   "metadata": {},
   "outputs": [],
   "source": [
    "f15.write.mode(\"append\").json(\"s3a_//falk2210/award.json\")"
   ]
  },
  {
   "cell_type": "code",
   "execution_count": null,
   "id": "99f92301-5967-4462-a7a5-243349595e2c",
   "metadata": {},
   "outputs": [],
   "source": [
    "#f15.write.parquet(\"s3a_//falk2210/f15.parquet\")"
   ]
  },
  {
   "cell_type": "code",
   "execution_count": null,
   "id": "0d60aad2-95d8-4560-8954-26f8d084a293",
   "metadata": {},
   "outputs": [],
   "source": [
    "#f15.write.mode('append').parquet(\"s3a_//falk2210/award.parquet\")"
   ]
  },
  {
   "cell_type": "markdown",
   "id": "dec6c271-b0bb-496e-9682-a66d2ca05471",
   "metadata": {
    "jp-MarkdownHeadingCollapsed": true,
    "tags": []
   },
   "source": [
    "# F20 AWARD MODIFICATIONS "
   ]
  },
  {
   "cell_type": "markdown",
   "id": "0bbb6121-9e3d-4d64-afa2-75ac1bb3c514",
   "metadata": {},
   "source": [
    "<a id='f20' />"
   ]
  },
  {
   "cell_type": "code",
   "execution_count": null,
   "id": "55133bd7-5a90-466e-bcbc-152bebda67ea",
   "metadata": {},
   "outputs": [],
   "source": [
    "f20 = spark.read.json(\"falk/F20.json/*.json\")\n",
    "#f20.printSchema()"
   ]
  },
  {
   "cell_type": "code",
   "execution_count": null,
   "id": "f38bbdc5-56ae-4a85-a203-22c00c26de4f",
   "metadata": {},
   "outputs": [],
   "source": [
    "pf20 = f20.to_pandas_on_spark()"
   ]
  },
  {
   "cell_type": "code",
   "execution_count": null,
   "id": "05a95c10-acce-4985-a880-902ced1d277f",
   "metadata": {},
   "outputs": [],
   "source": [
    "pf20 = pf20.rename(columns=lambda x_ re.sub('DOFFIN_ESENDERS_', '', x))\n",
    "pf20 = pf20.rename(columns=lambda x_ re.sub('FORM_SECTION_', '', x))\n",
    "pf20 = pf20.rename(columns=lambda x_ re.sub('F20_2014_', '', x))\n",
    "#pf20 = pf20.rename(columns=lambda x_ re.sub('_', '_', x))\n",
    "pf20 = pf20.rename(columns=lambda x_ re.sub('AWARD_CONTRACT_AWARDED_CONTRACT_', 'AWARDED_CONTRACT_', x))\n",
    "#pf20.info()"
   ]
  },
  {
   "cell_type": "code",
   "execution_count": null,
   "id": "2cf35ae6-1e5f-4886-8ca1-5970c24bade6",
   "metadata": {},
   "outputs": [],
   "source": [
    "pf20['OBJECT_CONTRACT_OBJECT_DESCR_JUSTIFICATION'].update(pf20.pop('OBJECT_CONTRACT_OBJECT_DESCR_JUSTIFICATION_P'))\n",
    "pf20['MODIFICATIONS_CONTRACT_DESCRIPTION_PROCUREMENT_JUSTIFICATION'].update(pf20.pop('MODIFICATIONS_CONTRACT_DESCRIPTION_PROCUREMENT_JUSTIFICATION_P'))"
   ]
  },
  {
   "cell_type": "code",
   "execution_count": null,
   "id": "5b242fb6-5002-48cd-9fa2-eb3d9abcd7c9",
   "metadata": {},
   "outputs": [],
   "source": [
    "#pf20.info()"
   ]
  },
  {
   "cell_type": "code",
   "execution_count": null,
   "id": "f1f39c48-a3e0-4fd8-a8b9-fe415de5c146",
   "metadata": {},
   "outputs": [],
   "source": [
    "pf20 = pf20.rename(columns=lambda x_ re.sub('\\_P$', '', x))\n",
    "#pf20.info()"
   ]
  },
  {
   "cell_type": "code",
   "execution_count": null,
   "id": "60768079-29b7-4a36-b5d1-fd282c57d1ec",
   "metadata": {},
   "outputs": [],
   "source": [
    "pf20[\"COMPLEMENTARY_INFO_DATE_DISPATCH_NOTICE\"] = ps.to_datetime(pf20[\"COMPLEMENTARY_INFO_DATE_DISPATCH_NOTICE\"])\n",
    "pf20[\"MODIFICATIONS_CONTRACT_DESCRIPTION_PROCUREMENT_DATE_END\"] = ps.to_datetime(pf20[\"MODIFICATIONS_CONTRACT_DESCRIPTION_PROCUREMENT_DATE_END\"])\n",
    "pf20[\"MODIFICATIONS_CONTRACT_DESCRIPTION_PROCUREMENT_DATE_START\"] = ps.to_datetime(pf20[\"MODIFICATIONS_CONTRACT_DESCRIPTION_PROCUREMENT_DATE_START\"])\n",
    "pf20[\"OBJECT_CONTRACT_OBJECT_DESCR_DATE_END\"] = ps.to_datetime(pf20[\"OBJECT_CONTRACT_OBJECT_DESCR_DATE_END\"])\n",
    "pf20[\"OBJECT_CONTRACT_OBJECT_DESCR_DATE_START\"] = ps.to_datetime(pf20[\"OBJECT_CONTRACT_OBJECT_DESCR_DATE_START\"])\n",
    "#pf20.info()"
   ]
  },
  {
   "cell_type": "code",
   "execution_count": null,
   "id": "cd9969db-e160-4482-a8b5-2d416066359f",
   "metadata": {},
   "outputs": [],
   "source": [
    "#pf20.head()"
   ]
  },
  {
   "cell_type": "code",
   "execution_count": null,
   "id": "3a607b8e-b68a-4b73-8bf1-3975da64070b",
   "metadata": {},
   "outputs": [],
   "source": [
    "f20 = pf20.to_spark()"
   ]
  },
  {
   "cell_type": "code",
   "execution_count": null,
   "id": "b009d661-d71d-4986-9110-dcb5e08fbb14",
   "metadata": {},
   "outputs": [],
   "source": [
    "f20.write.mode(\"append\").json(\"s3a_//falk2210/f20.json\")"
   ]
  },
  {
   "cell_type": "code",
   "execution_count": null,
   "id": "c7370962-3acb-47b4-875e-5a20ea2d84d5",
   "metadata": {},
   "outputs": [],
   "source": [
    "#f20.write.mode(\"append\").json(\"s3a_//falk2210/award.json\")"
   ]
  },
  {
   "cell_type": "code",
   "execution_count": null,
   "id": "e78154fe-3e4e-45e4-8e99-06149ea404e4",
   "metadata": {},
   "outputs": [],
   "source": [
    "f20.write.parquet(\"s3a_//falk2210/f20.parquet\")"
   ]
  },
  {
   "cell_type": "markdown",
   "id": "21706563-6c0e-4fe2-83e7-2686be84d2dc",
   "metadata": {
    "jp-MarkdownHeadingCollapsed": true,
    "tags": []
   },
   "source": [
    "# F21 AWARD_CONTRACT_NO_AWARDED_CONTRACT"
   ]
  },
  {
   "cell_type": "markdown",
   "id": "9ebb326a-027b-4e9f-90c4-235b444dfad8",
   "metadata": {},
   "source": [
    "<a id='f21' />"
   ]
  },
  {
   "cell_type": "code",
   "execution_count": null,
   "id": "c276aa02-1831-42d9-9947-e2f6a1d892c1",
   "metadata": {},
   "outputs": [],
   "source": [
    "f21 = spark.read.json(\"falk/F21.json/*.json\")\n",
    "#f21.printSchema()"
   ]
  },
  {
   "cell_type": "code",
   "execution_count": null,
   "id": "52d039ed-722d-4846-838e-4d92b1ee9338",
   "metadata": {},
   "outputs": [],
   "source": [
    "pf21 = f21.to_pandas_on_spark()"
   ]
  },
  {
   "cell_type": "code",
   "execution_count": null,
   "id": "fc10e322-0adf-487b-9688-03ff7a67c2b1",
   "metadata": {},
   "outputs": [],
   "source": [
    "pf21 = pf21.rename(columns=lambda x_ re.sub('DOFFIN_ESENDERS_', '', x))\n",
    "pf21 = pf21.rename(columns=lambda x_ re.sub('FORM_SECTION_', '', x))\n",
    "pf21 = pf21.rename(columns=lambda x_ re.sub('F21_2014_', '', x))\n",
    "#pf21 = pf21.rename(columns=lambda x_ re.sub('_', '_', x))\n",
    "pf21 = pf21.rename(columns=lambda x_ re.sub('AWARD_CONTRACT_AWARDED_CONTRACT.', 'AWARDED_CONTRACT_', x))\n",
    "#pf21.info()"
   ]
  },
  {
   "cell_type": "code",
   "execution_count": null,
   "id": "bc83d334-d049-48e1-a1f2-73b9de0e37c9",
   "metadata": {},
   "outputs": [],
   "source": [
    "pf21['PROCEDURE_FRAMEWORK_JUSTIFICATION'].update(pf21.pop('PROCEDURE_FRAMEWORK_JUSTIFICATION_P'))"
   ]
  },
  {
   "cell_type": "code",
   "execution_count": null,
   "id": "4be5067a-2e1c-4670-a879-4362ddfd670c",
   "metadata": {},
   "outputs": [],
   "source": [
    "#pf21.info()"
   ]
  },
  {
   "cell_type": "code",
   "execution_count": null,
   "id": "f5abeab5-7dd6-443b-ad9c-8db757f68a46",
   "metadata": {},
   "outputs": [],
   "source": [
    "pf21 = pf21.rename(columns=lambda x_ re.sub('\\_P$', '', x))"
   ]
  },
  {
   "cell_type": "code",
   "execution_count": null,
   "id": "c0360686-76c3-423d-8bfe-e96e1ff31a21",
   "metadata": {},
   "outputs": [],
   "source": [
    "pf21['AWARDED_CONTRACT_NB_TENDERS_RECEIVED'].update(pf21.pop('AWARDED_CONTRACT_TENDERS_NB_TENDERS_RECEIVED'))\n",
    "pf21['AWARDED_CONTRACT_NB_TENDERS_RECEIVED_EMEANS'].update(pf21.pop('AWARDED_CONTRACT_TENDERS_NB_TENDERS_RECEIVED_EMEANS'))\n",
    "pf21['AWARDED_CONTRACT_NB_TENDERS_RECEIVED_NON_EU'].update(pf21.pop('AWARDED_CONTRACT_TENDERS_NB_TENDERS_RECEIVED_NON_EU'))\n",
    "pf21['AWARDED_CONTRACT_NB_TENDERS_RECEIVED_OTHER_EU'].update(pf21.pop('AWARDED_CONTRACT_TENDERS_NB_TENDERS_RECEIVED_OTHER_EU'))\n",
    "pf21['AWARDED_CONTRACT_NB_TENDERS_RECEIVED_SME'].update(pf21.pop('AWARDED_CONTRACT_TENDERS_NB_TENDERS_RECEIVED_SME'))"
   ]
  },
  {
   "cell_type": "code",
   "execution_count": null,
   "id": "18f7d40c-3c14-4077-840e-10f2a4126ee8",
   "metadata": {},
   "outputs": [],
   "source": [
    "pf21['AWARDED_CONTRACT_VALUES_VAL_ESTIMATED_TOTAL_CURRENCY'].update(pf21.pop('AWARDED_CONTRACT_VAL_ESTIMATED_TOTAL_CURRENCY'))\n",
    "pf21['AWARDED_CONTRACT_VALUES_VAL_ESTIMATED_TOTAL_text'].update(pf21.pop('AWARDED_CONTRACT_VAL_ESTIMATED_TOTAL_text'))\n",
    "pf21['AWARDED_CONTRACT_VALUES_VAL_RANGE_TOTAL_CURRENCY'].update(pf21.pop('AWARDED_CONTRACT_VAL_RANGE_TOTAL_CURRENCY'))\n",
    "pf21['AWARDED_CONTRACT_VALUES_VAL_RANGE_TOTAL_HIGH'].update(pf21.pop('AWARDED_CONTRACT_VAL_RANGE_TOTAL_HIGH'))\n",
    "pf21['AWARDED_CONTRACT_VALUES_VAL_RANGE_TOTAL_LOW'].update(pf21.pop('AWARDED_CONTRACT_VAL_RANGE_TOTAL_LOW'))\n",
    "pf21['AWARDED_CONTRACT_VALUES_VAL_TOTAL_CURRENCY'].update(pf21.pop('AWARDED_CONTRACT_VAL_TOTAL_CURRENCY'))\n",
    "pf21['AWARDED_CONTRACT_VALUES_VAL_TOTAL_text'].update(pf21.pop('AWARDED_CONTRACT_VAL_TOTAL_text'))"
   ]
  },
  {
   "cell_type": "code",
   "execution_count": null,
   "id": "ebf4d68e-62a9-45c1-92f5-bc9ea121aa91",
   "metadata": {},
   "outputs": [],
   "source": [
    "#pf21.info()"
   ]
  },
  {
   "cell_type": "code",
   "execution_count": null,
   "id": "4574a319-c105-4be8-a980-9b8125385bc1",
   "metadata": {},
   "outputs": [],
   "source": [
    "\"\"\"\n",
    "pf21[\"COMPLEMENTARY_INFO_DATE_DISPATCH_NOTICE\"] = ps.to_datetime(pf21[\"COMPLEMENTARY_INFO_DATE_DISPATCH_NOTICE\"])\n",
    "pf21[\"AWARDED_CONTRACT_DATE_CONCLUSION_CONTRACT\"] = ps.to_datetime(pf21[\"AWARDED_CONTRACT_DATE_CONCLUSION_CONTRACT\"])\n",
    "pf21[\"OBJECT_CONTRACT_OBJECT_DESCR_DATE_END\"] = ps.to_datetime(pf21[\"OBJECT_CONTRACT_OBJECT_DESCR_DATE_END\"])\n",
    "pf21[\"OBJECT_CONTRACT_OBJECT_DESCR_DATE_START\"] = ps.to_datetime(pf21[\"OBJECT_CONTRACT_OBJECT_DESCR_DATE_START\"])\n",
    "pf21[\"PROCEDURE_DATE_AWARD_SCHEDULED\"] = ps.to_datetime(pf21[\"PROCEDURE_DATE_AWARD_SCHEDULED\"])\n",
    "pf21[\"PROCEDURE_DATE_RECEIPT_TENDERS\"] = ps.to_datetime(pf21[\"PROCEDURE_DATE_RECEIPT_TENDERS\"])\n",
    "\"\"\""
   ]
  },
  {
   "cell_type": "code",
   "execution_count": null,
   "id": "3c8d0f6e-b611-49a6-aa11-c9329b31cebd",
   "metadata": {},
   "outputs": [],
   "source": [
    "#pf21.info()"
   ]
  },
  {
   "cell_type": "code",
   "execution_count": null,
   "id": "052a387f-d53a-4f42-a1b5-7884b9d5908b",
   "metadata": {},
   "outputs": [],
   "source": [
    "f21 = pf21.to_spark()"
   ]
  },
  {
   "cell_type": "code",
   "execution_count": null,
   "id": "2f48465b-9eb6-4a7c-8898-94a84930b91b",
   "metadata": {},
   "outputs": [],
   "source": [
    "f21.write.mode(\"append\").json(\"falk2210/award.json\")"
   ]
  },
  {
   "cell_type": "code",
   "execution_count": null,
   "id": "63dff15e-088a-479c-b3d3-62e5987f8e57",
   "metadata": {},
   "outputs": [],
   "source": [
    "f21.write.mode(\"append\").json(\"s3a_//falk2210/f21.json\")"
   ]
  },
  {
   "cell_type": "code",
   "execution_count": null,
   "id": "71a0f63d-1937-4848-b2b9-78b85699c6cd",
   "metadata": {},
   "outputs": [],
   "source": [
    "f21.write.mode(\"append\").json(\"s3a_//falk2210/award.json\")"
   ]
  },
  {
   "cell_type": "code",
   "execution_count": null,
   "id": "e031be9a-6a89-4a74-a5e4-588330f7b6b2",
   "metadata": {},
   "outputs": [],
   "source": [
    "#f21.write.parquet(\"s3a_//falk2210/f21.parquet\")"
   ]
  },
  {
   "cell_type": "code",
   "execution_count": null,
   "id": "c7c35992-6280-487b-bc94-333cf2112d2c",
   "metadata": {},
   "outputs": [],
   "source": [
    "#f21.write.mode(\"append\").parquet(\"s3a_//falk2210/award.parquet\")"
   ]
  },
  {
   "cell_type": "markdown",
   "id": "b055ef76-5518-4658-9a9c-03d3e7671241",
   "metadata": {},
   "source": [
    "# F22 AWARD_CONTRACT_NO_AWARDED_CONTRACT"
   ]
  },
  {
   "cell_type": "markdown",
   "id": "29d8feb4-81b8-4f5e-afa0-77e91fe8dd6d",
   "metadata": {},
   "source": [
    "<a id='f22' />"
   ]
  },
  {
   "cell_type": "code",
   "execution_count": null,
   "id": "40b05c36-5006-41d0-841c-c29b37bf4114",
   "metadata": {},
   "outputs": [],
   "source": [
    "f22 = spark.read.json(\"falk/F22.json/*.json\")\n",
    "#f22.printSchema()"
   ]
  },
  {
   "cell_type": "code",
   "execution_count": null,
   "id": "ca078276-7446-4f3b-8f44-95e445b0d1fb",
   "metadata": {},
   "outputs": [],
   "source": [
    "pf22 = f22.to_pandas_on_spark()"
   ]
  },
  {
   "cell_type": "code",
   "execution_count": null,
   "id": "e7012c91-b0bb-4008-8a89-ed76bd5e53bf",
   "metadata": {},
   "outputs": [],
   "source": [
    "pf22 = pf22.rename(columns=lambda x_ re.sub('DOFFIN_ESENDERS_', '', x))\n",
    "pf22 = pf22.rename(columns=lambda x_ re.sub('FORM_SECTION_', '', x))\n",
    "pf22 = pf22.rename(columns=lambda x_ re.sub('F22_2014_', '', x))\n",
    "#pf22 = pf22.rename(columns=lambda x_ re.sub('_', '_', x))\n",
    "pf22 = pf22.rename(columns=lambda x_ re.sub('\\_P$', '', x))\n",
    "pf22 = pf22.rename(columns=lambda x_ re.sub('AWARD_CONTRACT_AWARDED_CONTRACT.', 'AWARDED_CONTRACT_', x))"
   ]
  },
  {
   "cell_type": "code",
   "execution_count": null,
   "id": "fb36c731-0b33-487e-96df-faf60ad5af84",
   "metadata": {},
   "outputs": [],
   "source": [
    "#pf22.info()"
   ]
  },
  {
   "cell_type": "code",
   "execution_count": null,
   "id": "eacd92dd-bb7c-4d48-a2fa-a7e21499b29f",
   "metadata": {},
   "outputs": [],
   "source": [
    "pf22['AWARDED_CONTRACT_NB_TENDERS_RECEIVED'].update(pf22.pop('AWARDED_CONTRACT_TENDERS_NB_TENDERS_RECEIVED'))\n",
    "pf22['AWARDED_CONTRACT_NB_TENDERS_RECEIVED_EMEANS'].update(pf22.pop('AWARDED_CONTRACT_TENDERS_NB_TENDERS_RECEIVED_EMEANS'))\n",
    "#pf22['AWARDED_CONTRACT_NB_TENDERS_RECEIVED_NON_EU'].update(pf22.pop('AWARDED_CONTRACT_TENDERS_NB_TENDERS_RECEIVED_NON_EU'))\n",
    "#pf22['AWARDED_CONTRACT_NB_TENDERS_RECEIVED_OTHER_EU'].update(pf22.pop('AWARDED_CONTRACT_TENDERS_NB_TENDERS_RECEIVED_OTHER_EU'))\n",
    "#pf22['AWARDED_CONTRACT_NB_TENDERS_RECEIVED_SME'].update(pf22.pop('AWARDED_CONTRACT_TENDERS_NB_TENDERS_RECEIVED_SME'))"
   ]
  },
  {
   "cell_type": "code",
   "execution_count": null,
   "id": "853e6f9b-b12c-4b28-819e-82e7594ae965",
   "metadata": {},
   "outputs": [],
   "source": [
    "pf22['AWARDED_CONTRACT_VALUES_VAL_ESTIMATED_TOTAL_CURRENCY'].update(pf22.pop('AWARDED_CONTRACT_VAL_ESTIMATED_TOTAL_CURRENCY'))\n",
    "pf22['AWARDED_CONTRACT_VALUES_VAL_ESTIMATED_TOTAL_text'].update(pf22.pop('AWARDED_CONTRACT_VAL_ESTIMATED_TOTAL_text'))\n",
    "pf22['AWARDED_CONTRACT_VALUES_VAL_RANGE_TOTAL_CURRENCY'].update(pf22.pop('AWARDED_CONTRACT_VAL_RANGE_TOTAL_CURRENCY'))\n",
    "pf22['AWARDED_CONTRACT_VALUES_VAL_RANGE_TOTAL_HIGH'].update(pf22.pop('AWARDED_CONTRACT_VAL_RANGE_TOTAL_HIGH'))\n",
    "pf22['AWARDED_CONTRACT_VALUES_VAL_RANGE_TOTAL_LOW'].update(pf22.pop('AWARDED_CONTRACT_VAL_RANGE_TOTAL_LOW'))\n",
    "pf22['AWARDED_CONTRACT_VALUES_VAL_TOTAL_CURRENCY'].update(pf22.pop('AWARDED_CONTRACT_VAL_TOTAL_CURRENCY'))\n",
    "pf22['AWARDED_CONTRACT_VALUES_VAL_TOTAL_text'].update(pf22.pop('AWARDED_CONTRACT_VAL_TOTAL_text'))"
   ]
  },
  {
   "cell_type": "code",
   "execution_count": null,
   "id": "e3f3b812-79b9-44b1-bc0c-a02d536cbe8b",
   "metadata": {},
   "outputs": [],
   "source": [
    "#pf22.info()"
   ]
  },
  {
   "cell_type": "code",
   "execution_count": null,
   "id": "3b03f837-399a-412c-8f55-76f7e200b5b3",
   "metadata": {},
   "outputs": [],
   "source": [
    "\"\"\"\n",
    "pf22[\"AWARDED_CONTRACT_DATE_CONCLUSION_CONTRACT\"] = ps.to_datetime(pf22[\"AWARDED_CONTRACT_DATE_CONCLUSION_CONTRACT\"])\n",
    "pf22[\"COMPLEMENTARY_INFO_DATE_DISPATCH_NOTICE\"] = ps.to_datetime(pf22[\"COMPLEMENTARY_INFO_DATE_DISPATCH_NOTICE\"])\n",
    "pf22[\"OBJECT_CONTRACT_OBJECT_DESCR_DATE_END\"] = ps.to_datetime(pf22[\"OBJECT_CONTRACT_OBJECT_DESCR_DATE_END\"])\n",
    "pf22[\"OBJECT_CONTRACT_OBJECT_DESCR_DATE_START\"] = ps.to_datetime(pf22[\"OBJECT_CONTRACT_OBJECT_DESCR_DATE_START\"])\n",
    "pf22[\"PROCEDURE_DATE_RECEIPT_TENDERS\"] = ps.to_datetime(pf22[\"PROCEDURE_DATE_RECEIPT_TENDERS\"])\n",
    "\"\"\""
   ]
  },
  {
   "cell_type": "code",
   "execution_count": null,
   "id": "20fe19da-9e27-4da1-baeb-9735c333d4f9",
   "metadata": {},
   "outputs": [],
   "source": [
    "#pf22.info()"
   ]
  },
  {
   "cell_type": "code",
   "execution_count": null,
   "id": "4eb827bb-5613-485d-9690-2e8f0d3658d6",
   "metadata": {},
   "outputs": [],
   "source": [
    "f22 = pf22.to_spark()"
   ]
  },
  {
   "cell_type": "code",
   "execution_count": null,
   "id": "343fcbc6-3d86-4378-b4c0-e30fd2c6ebce",
   "metadata": {},
   "outputs": [],
   "source": [
    "f22.write.mode(\"append\").json(\"falk2210/award.json\")"
   ]
  },
  {
   "cell_type": "code",
   "execution_count": null,
   "id": "29c83d74-6469-4eb6-8aec-d32de693bf78",
   "metadata": {},
   "outputs": [],
   "source": [
    "f22.write.mode(\"append\").json(\"s3a_//falk2210/f22.json\")"
   ]
  },
  {
   "cell_type": "code",
   "execution_count": null,
   "id": "98942eaa-f26e-4dd9-a83b-0232cf1a51be",
   "metadata": {},
   "outputs": [],
   "source": [
    "f22.write.mode(\"append\").json(\"s3a_//falk2210/award.json\")"
   ]
  },
  {
   "cell_type": "code",
   "execution_count": null,
   "id": "397f44a9-5c6b-47c6-af96-b3561cc46de8",
   "metadata": {},
   "outputs": [],
   "source": [
    "#f22.write.parquet(\"s3a_//falk2210/f22.parquet\")"
   ]
  },
  {
   "cell_type": "code",
   "execution_count": null,
   "id": "3ecad22b-e674-4078-b50f-7a81af2cf501",
   "metadata": {},
   "outputs": [],
   "source": [
    "#f22.write.mode(\"append\").parquet(\"s3a_//falk2210/award.parquet\")"
   ]
  },
  {
   "cell_type": "markdown",
   "id": "bb05e70f-519c-45b9-b9cf-b2c105b4449d",
   "metadata": {
    "jp-MarkdownHeadingCollapsed": true,
    "tags": []
   },
   "source": [
    "# F23 AWARD_CONTRACT_NO_AWARDED_CONTRACT"
   ]
  },
  {
   "cell_type": "markdown",
   "id": "58ba8e55-30bc-4c5a-b76a-0f5e20a5fcd3",
   "metadata": {},
   "source": [
    "<a id='f23' />"
   ]
  },
  {
   "cell_type": "code",
   "execution_count": null,
   "id": "17309806-1f83-42b2-9af1-18f578253825",
   "metadata": {},
   "outputs": [],
   "source": [
    "f23 = spark.read.json(\"falk/F23.json/*.json\")\n",
    "#f23.printSchema()"
   ]
  },
  {
   "cell_type": "code",
   "execution_count": null,
   "id": "53dd2470-5c76-441e-8b38-4efcb9403c66",
   "metadata": {},
   "outputs": [],
   "source": [
    "pf23 = f23.to_pandas_on_spark()"
   ]
  },
  {
   "cell_type": "code",
   "execution_count": null,
   "id": "d051c111-170e-4631-839f-cb368e8576f3",
   "metadata": {},
   "outputs": [],
   "source": [
    "pf23 = pf23.rename(columns=lambda x_ re.sub('DOFFIN_ESENDERS_', '', x))\n",
    "pf23 = pf23.rename(columns=lambda x_ re.sub('FORM_SECTION_', '', x))\n",
    "pf23 = pf23.rename(columns=lambda x_ re.sub('F23_2014_', '', x))\n",
    "#pf23 = pf23.rename(columns=lambda x_ re.sub('_', '_', x))\n",
    "pf23 = pf23.rename(columns=lambda x_ re.sub('\\_P$', '', x))\n",
    "pf23 = pf23.rename(columns=lambda x_ re.sub('AWARD_CONTRACT_AWARDED_CONTRACT_', 'AWARDED_CONTRACT_', x))"
   ]
  },
  {
   "cell_type": "code",
   "execution_count": null,
   "id": "fe4abdf5-952a-48d0-96c3-6d7cf65970d0",
   "metadata": {},
   "outputs": [],
   "source": [
    "pf23['AWARDED_CONTRACT_NB_TENDERS_RECEIVED'].update(pf23.pop('AWARDED_CONTRACT_TENDERS_NB_TENDERS_RECEIVED'))\n",
    "pf23['AWARDED_CONTRACT_NB_TENDERS_RECEIVED_EMEANS'].update(pf23.pop('AWARDED_CONTRACT_TENDERS_NB_TENDERS_RECEIVED_EMEANS'))\n",
    "#pf23['AWARDED_CONTRACT_NB_TENDERS_RECEIVED_NON_EU'].update(pf23.pop('AWARDED_CONTRACT_TENDERS_NB_TENDERS_RECEIVED_NON_EU'))\n",
    "pf23['AWARDED_CONTRACT_NB_TENDERS_RECEIVED_OTHER_EU'].update(pf23.pop('AWARDED_CONTRACT_TENDERS_NB_TENDERS_RECEIVED_OTHER_EU'))\n",
    "#pf23['AWARDED_CONTRACT_NB_TENDERS_RECEIVED_SME'].update(pf23.pop('AWARDED_CONTRACT_TENDERS_NB_TENDERS_RECEIVED_SME'))"
   ]
  },
  {
   "cell_type": "code",
   "execution_count": null,
   "id": "77e50b89-cdf1-4c0e-9334-245c4951eb8a",
   "metadata": {},
   "outputs": [],
   "source": [
    "pf23 = pf23.rename(columns=lambda x_ re.sub('AWARDED_CONTRACT_TENDERS_NB_TENDERS_RECEIVED_NON_EU', 'AWARDED_CONTRACT_NB_TENDERS_RECEIVED_NON_EU', x))\n",
    "pf23 = pf23.rename(columns=lambda x_ re.sub('AWARDED_CONTRACT_TENDERS_NB_TENDERS_RECEIVED_SME', 'AWARDED_CONTRACT_NB_TENDERS_RECEIVED_SME', x))"
   ]
  },
  {
   "cell_type": "code",
   "execution_count": null,
   "id": "a36996be-f2cd-4b8c-88dc-94c56754d06e",
   "metadata": {},
   "outputs": [],
   "source": [
    "pf23['AWARDED_CONTRACT_VALUES_VAL_TOTAL_CURRENCY'].update(pf23.pop('AWARDED_CONTRACT_VAL_TOTAL_CURRENCY'))\n",
    "pf23['AWARDED_CONTRACT_VALUES_VAL_TOTAL_text'].update(pf23.pop('AWARDED_CONTRACT_VAL_TOTAL_text'))"
   ]
  },
  {
   "cell_type": "code",
   "execution_count": null,
   "id": "207bba69-7d0c-44e1-ada7-ce85485d63e7",
   "metadata": {},
   "outputs": [],
   "source": [
    "pf23 = pf23.rename(columns=lambda x_ re.sub('AWARDED_CONTRACT_VAL_ESTIMATED_TOTAL_CURRENCY', 'AWARDED_CONTRACT_VALUES_VAL_ESTIMATED_TOTAL_CURRENCY', x))\n",
    "pf23 = pf23.rename(columns=lambda x_ re.sub('AWARDED_CONTRACT_VAL_ESTIMATED_TOTAL_text', 'AWARDED_CONTRACT_VALUES_VAL_ESTIMATED_TOTAL_text', x))\n",
    "pf23 = pf23.rename(columns=lambda x_ re.sub('AWARDED_CONTRACT_VAL_PRICE_PAYMENT_CURRENCY', 'AWARDED_CONTRACT_VALUES_VAL_PRICE_PAYMENT_CURRENCY', x))\n",
    "pf23 = pf23.rename(columns=lambda x_ re.sub('AWARDED_CONTRACT_VAL_PRICE_PAYMENT_text', 'AWARDED_CONTRACT_VALUES_VAL_PRICE_PAYMENT_text', x))\n",
    "pf23 = pf23.rename(columns=lambda x_ re.sub('AWARDED_CONTRACT_VAL_REVENUE_CURRENCY', 'AWARDED_CONTRACT_VALUES_VAL_REVENUE_CURRENCY', x))\n",
    "pf23 = pf23.rename(columns=lambda x_ re.sub('AWARDED_CONTRACT_VAL_REVENUE_text', 'AWARDED_CONTRACT_VALUES_VAL_REVENUE_text', x))"
   ]
  },
  {
   "cell_type": "code",
   "execution_count": null,
   "id": "699b7296-5461-45a3-be83-5372226e424d",
   "metadata": {},
   "outputs": [],
   "source": [
    "#pf23.info()"
   ]
  },
  {
   "cell_type": "code",
   "execution_count": null,
   "id": "d60b6d77-36e9-4202-961a-13df33453833",
   "metadata": {},
   "outputs": [],
   "source": [
    "\"\"\"\n",
    "pf23[\"AWARDED_CONTRACT_DATE_CONCLUSION_CONTRACT\"] = ps.to_datetime(pf23[\"AWARDED_CONTRACT_DATE_CONCLUSION_CONTRACT\"])\n",
    "pf23[\"COMPLEMENTARY_INFO_DATE_DISPATCH_NOTICE\"] = ps.to_datetime(pf23[\"COMPLEMENTARY_INFO_DATE_DISPATCH_NOTICE\"])\n",
    "pf23[\"OBJECT_CONTRACT_OBJECT_DESCR_DATE_END\"] = ps.to_datetime(pf23[\"OBJECT_CONTRACT_OBJECT_DESCR_DATE_END\"])\n",
    "pf23[\"OBJECT_CONTRACT_OBJECT_DESCR_DATE_START\"] = ps.to_datetime(pf23[\"OBJECT_CONTRACT_OBJECT_DESCR_DATE_START\"])\n",
    "pf23[\"PROCEDURE_DATE_RECEIPT_TENDERS\"] = ps.to_datetime(pf23[\"PROCEDURE_DATE_RECEIPT_TENDERS\"])\n",
    "\"\"\""
   ]
  },
  {
   "cell_type": "code",
   "execution_count": null,
   "id": "08bd4c6c-96ad-4371-b756-6af968659223",
   "metadata": {},
   "outputs": [],
   "source": [
    "#pf23.info()"
   ]
  },
  {
   "cell_type": "code",
   "execution_count": null,
   "id": "b5ac4506-4421-48a7-b592-ed8ad233b895",
   "metadata": {},
   "outputs": [],
   "source": [
    "f23 = pf23.to_spark()"
   ]
  },
  {
   "cell_type": "code",
   "execution_count": null,
   "id": "ada24d92-9122-4a20-b916-c609af7a4349",
   "metadata": {},
   "outputs": [],
   "source": [
    "f23.write.mode(\"append\").json(\"falk2210/award.json\")"
   ]
  },
  {
   "cell_type": "code",
   "execution_count": null,
   "id": "c4d81bc0-a059-4349-805b-e138dd13fce9",
   "metadata": {},
   "outputs": [],
   "source": [
    "f23.write.mode(\"append\").json(\"s3a_//falk2210/f23.json\")"
   ]
  },
  {
   "cell_type": "code",
   "execution_count": null,
   "id": "d6a42d3c-fc8b-4f09-ae49-ebba026e712c",
   "metadata": {},
   "outputs": [],
   "source": [
    "f23.write.mode(\"append\").json(\"s3a_//falk2210/award.json\")"
   ]
  },
  {
   "cell_type": "code",
   "execution_count": null,
   "id": "0bd93bee-431e-4f30-a153-9d106b4c5a89",
   "metadata": {},
   "outputs": [],
   "source": [
    "#f23.write.parquet(\"s3a_//falk2210/f23.parquet\")"
   ]
  },
  {
   "cell_type": "code",
   "execution_count": null,
   "id": "ee190a3a-86f1-4721-832e-7956f1cd3ff8",
   "metadata": {},
   "outputs": [],
   "source": [
    "#f23.write.mode(\"append\").parquet(\"s3a_//falk2210/award.parquet\")"
   ]
  },
  {
   "cell_type": "markdown",
   "id": "893cce23-ad7f-457a-903c-75fbd7f95c60",
   "metadata": {
    "jp-MarkdownHeadingCollapsed": true,
    "tags": []
   },
   "source": [
    "# F24 Contract"
   ]
  },
  {
   "cell_type": "markdown",
   "id": "b4700712-33b7-4b97-99c7-bb573165c538",
   "metadata": {},
   "source": [
    "<a id='f24' />"
   ]
  },
  {
   "cell_type": "code",
   "execution_count": null,
   "id": "cfbdc575-25f6-47e3-b5bd-ee67965cb64e",
   "metadata": {},
   "outputs": [],
   "source": [
    "f24 = spark.read.json(\"falk/F24.json/*.json\")\n",
    "#f24.printSchema()"
   ]
  },
  {
   "cell_type": "code",
   "execution_count": null,
   "id": "f0f480ac-872a-463b-a187-30a10ca36ed4",
   "metadata": {},
   "outputs": [],
   "source": [
    "pf24 = f24.to_pandas_on_spark()"
   ]
  },
  {
   "cell_type": "code",
   "execution_count": null,
   "id": "2d1c37d0-70cf-4fdd-bd4a-ad4d2d3aebec",
   "metadata": {},
   "outputs": [],
   "source": [
    "pf24 = pf24.rename(columns=lambda x_ re.sub('DOFFIN_ESENDERS_', '', x))\n",
    "pf24 = pf24.rename(columns=lambda x_ re.sub('FORM_SECTION_', '', x))\n",
    "pf24 = pf24.rename(columns=lambda x_ re.sub('F24_2014_', '', x))\n",
    "#pf24 = pf24.rename(columns=lambda x_ re.sub('_', '_', x))\n",
    "pf24 = pf24.rename(columns=lambda x_ re.sub('\\_P$', '', x))"
   ]
  },
  {
   "cell_type": "code",
   "execution_count": null,
   "id": "483284a2-d89a-4c30-9619-d89a716e6636",
   "metadata": {},
   "outputs": [],
   "source": [
    "#pf24.info()"
   ]
  },
  {
   "cell_type": "code",
   "execution_count": null,
   "id": "5e536baa-65c7-4904-ad7c-52d3f99fa868",
   "metadata": {},
   "outputs": [],
   "source": [
    "pf24[\"COMPLEMENTARY_INFO_DATE_DISPATCH_NOTICE\"] = ps.to_datetime(pf24[\"COMPLEMENTARY_INFO_DATE_DISPATCH_NOTICE\"])\n",
    "pf24[\"OBJECT_CONTRACT_OBJECT_DESCR_DATE_END\"] = ps.to_datetime(pf24[\"OBJECT_CONTRACT_OBJECT_DESCR_DATE_END\"])\n",
    "pf24[\"OBJECT_CONTRACT_OBJECT_DESCR_DATE_START\"] = ps.to_datetime(pf24[\"OBJECT_CONTRACT_OBJECT_DESCR_DATE_START\"])\n",
    "pf24[\"PROCEDURE_DATE_RECEIPT_TENDERS\"] = ps.to_datetime(pf24[\"PROCEDURE_DATE_RECEIPT_TENDERS\"])"
   ]
  },
  {
   "cell_type": "code",
   "execution_count": null,
   "id": "dbb5574b-2499-4157-ae6c-a9b155eb13a9",
   "metadata": {},
   "outputs": [],
   "source": [
    "#pf24.info()"
   ]
  },
  {
   "cell_type": "code",
   "execution_count": null,
   "id": "9b324691-ff50-4685-9e61-80bb6f6783ed",
   "metadata": {},
   "outputs": [],
   "source": [
    "f24 = pf24.to_spark()"
   ]
  },
  {
   "cell_type": "code",
   "execution_count": null,
   "id": "7e16a3b7-9649-4408-89eb-f252fce8962b",
   "metadata": {},
   "outputs": [],
   "source": [
    "f24.write.mode(\"append\").json(\"falk2210/contract.json\")"
   ]
  },
  {
   "cell_type": "code",
   "execution_count": null,
   "id": "9c7ed3d2-b705-475e-87e3-a5df01f3390b",
   "metadata": {},
   "outputs": [],
   "source": [
    "#f24.show(n=1, truncate=False, vertical=True)"
   ]
  },
  {
   "cell_type": "code",
   "execution_count": null,
   "id": "9f2a2fbf-f58b-4a79-9966-985bcc9b8aa4",
   "metadata": {},
   "outputs": [],
   "source": [
    "f24.write.parquet(\"s3a_//falk2210/f24.parquet\")"
   ]
  },
  {
   "cell_type": "code",
   "execution_count": null,
   "id": "deb4eb23-da2c-4db7-897b-4044e526b441",
   "metadata": {},
   "outputs": [],
   "source": [
    "f24.write.mode(\"append\").json(\"s3a_//falk2210/f24.json\")"
   ]
  },
  {
   "cell_type": "code",
   "execution_count": null,
   "id": "874665c5-e260-48a7-a220-487262528f94",
   "metadata": {},
   "outputs": [],
   "source": [
    "f24.write.mode(\"append\").json(\"s3a_//falk2210/contract.json\")"
   ]
  },
  {
   "cell_type": "code",
   "execution_count": null,
   "id": "a6febe92-0b91-42b4-ae22-2361fc5fe8fd",
   "metadata": {},
   "outputs": [],
   "source": [
    "#f24.write.mode(\"append\").parquet(\"s3a_//falk2210/contract.parquet\")"
   ]
  },
  {
   "cell_type": "markdown",
   "id": "165a8d27-49ea-4e1e-9e55-881166eab75f",
   "metadata": {
    "jp-MarkdownHeadingCollapsed": true,
    "tags": []
   },
   "source": [
    "# F25 award"
   ]
  },
  {
   "cell_type": "markdown",
   "id": "2fd44167-0448-48fb-b12d-bbeea76bb0ff",
   "metadata": {},
   "source": [
    "<a id='f25' />"
   ]
  },
  {
   "cell_type": "code",
   "execution_count": null,
   "id": "11ff9879-1c2e-4723-be89-afd0d3027997",
   "metadata": {},
   "outputs": [],
   "source": [
    "f25 = spark.read.json(\"falk/F25.json/*.json\")\n",
    "#f25.printSchema()"
   ]
  },
  {
   "cell_type": "code",
   "execution_count": null,
   "id": "776ec596-03f3-4658-a715-26704d1f34fe",
   "metadata": {},
   "outputs": [],
   "source": [
    "pf25 = f25.to_pandas_on_spark()"
   ]
  },
  {
   "cell_type": "code",
   "execution_count": null,
   "id": "5bb83f6d-5971-40f4-825f-dbbe69b44b20",
   "metadata": {},
   "outputs": [],
   "source": [
    "pf25 = pf25.rename(columns=lambda x_ re.sub('DOFFIN_ESENDERS_', '', x))\n",
    "pf25 = pf25.rename(columns=lambda x_ re.sub('FORM_SECTION_', '', x))\n",
    "pf25 = pf25.rename(columns=lambda x_ re.sub('F25_2014_', '', x))\n",
    "#pf25 = pf25.rename(columns=lambda x_ re.sub('_', '_', x))\n",
    "pf25 = pf25.rename(columns=lambda x_ re.sub('\\_P$', '', x))\n",
    "pf25 = pf25.rename(columns=lambda x_ re.sub('AWARD_CONTRACT_AWARDED_CONTRACT_', 'AWARDED_CONTRACT_', x))"
   ]
  },
  {
   "cell_type": "code",
   "execution_count": null,
   "id": "f0a361df-9136-4f59-96e2-d6dc2cb8a906",
   "metadata": {},
   "outputs": [],
   "source": [
    "pf25['AWARDED_CONTRACT_NB_TENDERS_RECEIVED'].update(pf25.pop('AWARDED_CONTRACT_TENDERS_NB_TENDERS_RECEIVED'))\n",
    "pf25['AWARDED_CONTRACT_NB_TENDERS_RECEIVED_EMEANS'].update(pf25.pop('AWARDED_CONTRACT_TENDERS_NB_TENDERS_RECEIVED_EMEANS'))\n",
    "pf25['AWARDED_CONTRACT_NB_TENDERS_RECEIVED_NON_EU'].update(pf25.pop('AWARDED_CONTRACT_TENDERS_NB_TENDERS_RECEIVED_NON_EU'))\n",
    "pf25['AWARDED_CONTRACT_NB_TENDERS_RECEIVED_OTHER_EU'].update(pf25.pop('AWARDED_CONTRACT_TENDERS_NB_TENDERS_RECEIVED_OTHER_EU'))\n",
    "pf25['AWARDED_CONTRACT_NB_TENDERS_RECEIVED_SME'].update(pf25.pop('AWARDED_CONTRACT_TENDERS_NB_TENDERS_RECEIVED_SME'))"
   ]
  },
  {
   "cell_type": "code",
   "execution_count": null,
   "id": "c18bbcd9-e3a7-4679-b630-48b35b58b695",
   "metadata": {},
   "outputs": [],
   "source": [
    "pf25['AWARDED_CONTRACT_VALUES_VAL_ESTIMATED_TOTAL_CURRENCY'].update(pf25.pop('AWARDED_CONTRACT_VAL_ESTIMATED_TOTAL_CURRENCY'))\n",
    "pf25['AWARDED_CONTRACT_VALUES_VAL_ESTIMATED_TOTAL_text'].update(pf25.pop('AWARDED_CONTRACT_VAL_ESTIMATED_TOTAL_text'))\n",
    "pf25['AWARDED_CONTRACT_VALUES_VAL_TOTAL_CURRENCY'].update(pf25.pop('AWARDED_CONTRACT_VAL_TOTAL_CURRENCY'))\n",
    "pf25['AWARDED_CONTRACT_VALUES_VAL_TOTAL_text'].update(pf25.pop('AWARDED_CONTRACT_VAL_TOTAL_text'))"
   ]
  },
  {
   "cell_type": "code",
   "execution_count": null,
   "id": "8e403c75-ed32-43f8-bf56-0b44a91f5d05",
   "metadata": {},
   "outputs": [],
   "source": [
    "#pf25.info()"
   ]
  },
  {
   "cell_type": "code",
   "execution_count": null,
   "id": "adf94aba-c013-436b-a4f4-27eaef88d6ce",
   "metadata": {},
   "outputs": [],
   "source": [
    "\"\"\"\n",
    "pf25[\"COMPLEMENTARY_INFO_DATE_DISPATCH_NOTICE\"] = ps.to_datetime(pf25[\"COMPLEMENTARY_INFO_DATE_DISPATCH_NOTICE\"])\n",
    "pf25[\"AWARDED_CONTRACT_DATE_CONCLUSION_CONTRACT\"] = ps.to_datetime(pf25[\"AWARDED_CONTRACT_DATE_CONCLUSION_CONTRACT\"])\n",
    "pf25[\"OBJECT_CONTRACT_OBJECT_DESCR_DATE_END\"] = ps.to_datetime(pf25[\"OBJECT_CONTRACT_OBJECT_DESCR_DATE_END\"])\n",
    "pf25[\"OBJECT_CONTRACT_OBJECT_DESCR_DATE_START\"] = ps.to_datetime(pf25[\"OBJECT_CONTRACT_OBJECT_DESCR_DATE_START\"])\n",
    "\"\"\""
   ]
  },
  {
   "cell_type": "code",
   "execution_count": null,
   "id": "6f068192-88b0-4a30-9857-9f5a48997b94",
   "metadata": {},
   "outputs": [],
   "source": [
    "#pf25.info()"
   ]
  },
  {
   "cell_type": "code",
   "execution_count": null,
   "id": "9e520062-2825-4ff3-85e6-0a75e2e25d59",
   "metadata": {},
   "outputs": [],
   "source": [
    "f25 = pf25.to_spark()"
   ]
  },
  {
   "cell_type": "code",
   "execution_count": null,
   "id": "04caa3be-69cd-4cfd-9a66-b8cc8ce564b0",
   "metadata": {},
   "outputs": [],
   "source": [
    "f25.write.mode(\"append\").json(\"falk2210/award.json\")"
   ]
  },
  {
   "cell_type": "code",
   "execution_count": null,
   "id": "fddd295c-d29e-4569-9d61-5894313b2ff7",
   "metadata": {},
   "outputs": [],
   "source": [
    "f25.write.mode(\"append\").json(\"s3a_//falk2210/f25.json\")"
   ]
  },
  {
   "cell_type": "code",
   "execution_count": null,
   "id": "7a08e4b9-b1bc-4c6f-b8a5-dfd6359b8820",
   "metadata": {},
   "outputs": [],
   "source": [
    "f25.write.mode(\"append\").json(\"s3a_//falk2210/award.json\")"
   ]
  },
  {
   "cell_type": "code",
   "execution_count": null,
   "id": "a9dfd8f5-3964-4f94-a537-d30e34a14dd1",
   "metadata": {},
   "outputs": [],
   "source": [
    "#f25.write.parquet(\"s3a_//falk2210/f25.parquet\")"
   ]
  },
  {
   "cell_type": "code",
   "execution_count": null,
   "id": "fcf49a54-4e97-4a1c-bb00-fb8284c0c0be",
   "metadata": {},
   "outputs": [],
   "source": [
    "#f25.write.mode(\"append\").parquet(\"s3a_//falk2210/award.parquet\")"
   ]
  },
  {
   "cell_type": "markdown",
   "id": "43ef4a35-44d2-4370-a734-fae36891d9f2",
   "metadata": {
    "jp-MarkdownHeadingCollapsed": true,
    "tags": []
   },
   "source": [
    "# F52 Contract"
   ]
  },
  {
   "cell_type": "markdown",
   "id": "008d394d-7adc-45aa-b2eb-77c7a89d8ab3",
   "metadata": {},
   "source": [
    "<a id='f52' />"
   ]
  },
  {
   "cell_type": "code",
   "execution_count": null,
   "id": "d8940b49-4ef7-4e38-b24a-72a4fe812067",
   "metadata": {},
   "outputs": [],
   "source": [
    "f52 = spark.read.json(\"falk/F52.json/*.json\")\n",
    "#f52.printSchema()"
   ]
  },
  {
   "cell_type": "code",
   "execution_count": null,
   "id": "9ef992c1-ba2f-4125-89e6-8ebbe78d9159",
   "metadata": {},
   "outputs": [],
   "source": [
    "pf52 = f52.to_pandas_on_spark()"
   ]
  },
  {
   "cell_type": "code",
   "execution_count": null,
   "id": "4effdd59-6c48-4319-b9cb-18efe21aa174",
   "metadata": {},
   "outputs": [],
   "source": [
    "pf52 = pf52.rename(columns=lambda x_ re.sub('DOFFIN_ESENDERS_', '', x))\n",
    "pf52 = pf52.rename(columns=lambda x_ re.sub('FORM_SECTION_', '', x))\n",
    "pf52 = pf52.rename(columns=lambda x_ re.sub('F52_2014_', '', x))\n",
    "#pf52 = pf52.rename(columns=lambda x_ re.sub('_', '_', x))\n",
    "pf52 = pf52.rename(columns=lambda x_ re.sub('\\_P$', '', x))\n",
    "#pf52.info()"
   ]
  },
  {
   "cell_type": "code",
   "execution_count": null,
   "id": "6da13172-ab6f-4600-ba0e-e38665407b72",
   "metadata": {},
   "outputs": [],
   "source": [
    "pf52[\"COMPLEMENTARY_INFO_DATE_DISPATCH_NOTICE\"] = ps.to_datetime(pf52[\"COMPLEMENTARY_INFO_DATE_DISPATCH_NOTICE\"])\n",
    "pf52[\"OBJECT_CONTRACT_OBJECT_DESCR_DATE_END\"] = ps.to_datetime(pf52[\"OBJECT_CONTRACT_OBJECT_DESCR_DATE_END\"])\n",
    "pf52[\"OBJECT_CONTRACT_OBJECT_DESCR_DATE_START\"] = ps.to_datetime(pf52[\"OBJECT_CONTRACT_OBJECT_DESCR_DATE_START\"])\n",
    "pf52[\"PROCEDURE_DATE_DISPATCH_INVITATIONS\"] = ps.to_datetime(pf52[\"PROCEDURE_DATE_DISPATCH_INVITATIONS\"])\n",
    "pf52[\"PROCEDURE_DATE_RECEIPT_TENDERS\"] = ps.to_datetime(pf52[\"PROCEDURE_DATE_RECEIPT_TENDERS\"])"
   ]
  },
  {
   "cell_type": "code",
   "execution_count": null,
   "id": "69154657-278d-4bca-9cdb-af15ffbd23f1",
   "metadata": {},
   "outputs": [],
   "source": [
    "#pf52.info()"
   ]
  },
  {
   "cell_type": "code",
   "execution_count": null,
   "id": "aeda1c59-61ef-4994-90c1-f6e8658eb281",
   "metadata": {},
   "outputs": [],
   "source": [
    "f52 = pf52.to_spark()"
   ]
  },
  {
   "cell_type": "code",
   "execution_count": null,
   "id": "86516da0-d658-4ee0-99bc-45ccdd9b3e43",
   "metadata": {},
   "outputs": [],
   "source": [
    "f52.write.mode(\"append\").json(\"falk2210/contract.json\")"
   ]
  },
  {
   "cell_type": "code",
   "execution_count": null,
   "id": "9fe86b28-6efd-4130-a1bf-c455b4c2d854",
   "metadata": {},
   "outputs": [],
   "source": [
    "f52.write.mode(\"append\").json(\"s3a_//falk2210/f52.json\")"
   ]
  },
  {
   "cell_type": "code",
   "execution_count": null,
   "id": "c286805f-32b2-4c0d-aafe-af0a51685f2d",
   "metadata": {},
   "outputs": [],
   "source": [
    "f52.write.mode(\"append\").json(\"s3a_//falk2210/contract.json\")"
   ]
  },
  {
   "cell_type": "code",
   "execution_count": null,
   "id": "80dc9180-e2e9-47a0-85c7-e5c0da31e4b2",
   "metadata": {},
   "outputs": [],
   "source": [
    "#f52.write.parquet(\"s3a_//falk2210/f52.parquet\")"
   ]
  },
  {
   "cell_type": "code",
   "execution_count": null,
   "id": "28c0d3e6-a07b-485f-b552-91fd8aaff201",
   "metadata": {},
   "outputs": [],
   "source": [
    "#f52.write.mode('append').parquet(\"s3a_//falk2210/contract.parquet\")"
   ]
  },
  {
   "cell_type": "code",
   "execution_count": null,
   "id": "3756d28b-5535-4ff3-8772-d5a06fdc7c4a",
   "metadata": {},
   "outputs": [],
   "source": [
    "#con = spark.read.json(\"s3a_//falk2210/contract.json\")\n",
    "#con.printSchema()"
   ]
  },
  {
   "cell_type": "code",
   "execution_count": null,
   "id": "6c86ff0e-bb1f-48ce-93eb-1987c8b175c4",
   "metadata": {},
   "outputs": [],
   "source": [
    "#p_con = con.to_pandas_on_spark()"
   ]
  },
  {
   "cell_type": "code",
   "execution_count": null,
   "id": "5b179d64-8957-4f41-8ca0-b94ee1ed5932",
   "metadata": {},
   "outputs": [],
   "source": [
    "#p_con.head()"
   ]
  },
  {
   "cell_type": "code",
   "execution_count": null,
   "id": "aa6c36ea-64ea-4462-8f89-36692c9234e0",
   "metadata": {},
   "outputs": [],
   "source": [
    "#p_con.info()"
   ]
  },
  {
   "cell_type": "markdown",
   "id": "fc413f8c-05fd-4258-b942-4ab151032bde",
   "metadata": {},
   "source": [
    "# F65 AWARD"
   ]
  },
  {
   "cell_type": "markdown",
   "id": "ac1a26dc-5f38-4256-92d5-eb2fa69033eb",
   "metadata": {},
   "source": [
    "<a id='f65' />"
   ]
  },
  {
   "cell_type": "code",
   "execution_count": null,
   "id": "e40046ab-4511-4910-ae4d-37f14ca5a3f8",
   "metadata": {},
   "outputs": [],
   "source": [
    "f65 = spark.read.json(\"falk/F65.json/*.json\")\n",
    "#f65.printSchema()"
   ]
  },
  {
   "cell_type": "code",
   "execution_count": null,
   "id": "2a477040-35c5-4e32-bba8-9fac244706f5",
   "metadata": {},
   "outputs": [],
   "source": [
    "pf65 = f65.to_pandas_on_spark()"
   ]
  },
  {
   "cell_type": "code",
   "execution_count": null,
   "id": "317e9339-76d5-4bdc-946c-80f23ccc8fd2",
   "metadata": {},
   "outputs": [],
   "source": [
    "pf65 = pf65.rename(columns=lambda x_ re.sub('DOFFIN_ESENDERS_', '', x))\n",
    "pf65 = pf65.rename(columns=lambda x_ re.sub('FORM_SECTION_', '', x))\n",
    "pf65 = pf65.rename(columns=lambda x_ re.sub('F65_2014_', '', x))\n",
    "#pf65 = pf65.rename(columns=lambda x_ re.sub('_', '_', x))\n",
    "pf65 = pf65.rename(columns=lambda x_ re.sub('\\_P$', '', x))\n",
    "pf65 = pf65.rename(columns=lambda x_ re.sub('AWARD_CONTRACT_AWARDED_CONTRACT_', 'AWARDED_CONTRACT_', x))"
   ]
  },
  {
   "cell_type": "code",
   "execution_count": null,
   "id": "fc3c7ff2-cd2f-4ae9-9eef-c273050a5cf5",
   "metadata": {},
   "outputs": [],
   "source": [
    "pf65 = pf65.rename(columns=lambda x_ re.sub('AWARDED_CONTRACT_VAL_RANGE_TOTAL_CURRENCY', 'AWARDED_CONTRACT_VALUES_VAL_RANGE_TOTAL_CURRENCY', x))\n",
    "pf65 = pf65.rename(columns=lambda x_ re.sub('AWARDED_CONTRACT_VAL_RANGE_TOTAL_HIGH', 'AWARDED_CONTRACT_VALUES_VAL_RANGE_TOTAL_HIGH', x))\n",
    "pf65 = pf65.rename(columns=lambda x_ re.sub('AWARDED_CONTRACT_VAL_RANGE_TOTAL_LOW', 'AWARDED_CONTRACT_VALUES_VAL_RANGE_TOTAL_LOW', x))\n",
    "pf65 = pf65.rename(columns=lambda x_ re.sub('AWARDED_CONTRACT_VAL_TOTAL_CURRENCY', 'AWARDED_CONTRACT_VALUES_VAL_TOTAL_CURRENCY', x))\n",
    "pf65 = pf65.rename(columns=lambda x_ re.sub('AWARDED_CONTRACT_VAL_TOTAL_text', 'AWARDED_CONTRACT_VALUES_VAL_TOTAL_text', x))"
   ]
  },
  {
   "cell_type": "code",
   "execution_count": null,
   "id": "ef916143-9964-46a7-bf20-d2217b278261",
   "metadata": {},
   "outputs": [],
   "source": [
    "#pf65.info()"
   ]
  },
  {
   "cell_type": "code",
   "execution_count": null,
   "id": "dc981127-5a6b-42d7-81ea-6f6a0b0ec59c",
   "metadata": {},
   "outputs": [],
   "source": [
    "\"\"\"\n",
    "pf65[\"COMPLEMENTARY_INFO_DATE_DISPATCH_NOTICE\"] = ps.to_datetime(pf65[\"COMPLEMENTARY_INFO_DATE_DISPATCH_NOTICE\"])\n",
    "pf65[\"AWARDED_CONTRACT_DATE_CONCLUSION_CONTRACT\"] = ps.to_datetime(pf65[\"AWARDED_CONTRACT_DATE_CONCLUSION_CONTRACT\"])\n",
    "\"\"\""
   ]
  },
  {
   "cell_type": "code",
   "execution_count": null,
   "id": "d843c737-0008-4906-9813-67087f37b6a7",
   "metadata": {},
   "outputs": [],
   "source": [
    "#pf65.info()"
   ]
  },
  {
   "cell_type": "code",
   "execution_count": null,
   "id": "9fe6c4ec-f231-4da2-981c-d16b41631758",
   "metadata": {},
   "outputs": [],
   "source": [
    "f65 = pf65.to_spark()"
   ]
  },
  {
   "cell_type": "code",
   "execution_count": null,
   "id": "ab0d5440-be3a-411c-b84d-43a52c8ce5c2",
   "metadata": {},
   "outputs": [],
   "source": [
    "f65.write.mode(\"append\").json(\"falk2210/award.json\")"
   ]
  },
  {
   "cell_type": "code",
   "execution_count": null,
   "id": "47e64966-3d2a-4716-846c-4cac212450b8",
   "metadata": {},
   "outputs": [],
   "source": [
    "f65.write.mode(\"append\").json(\"s3a_//falk2210/f65.json\")"
   ]
  },
  {
   "cell_type": "code",
   "execution_count": null,
   "id": "0656ae68-e6d2-4af8-bcae-d84c91fb3515",
   "metadata": {},
   "outputs": [],
   "source": [
    "f65.write.mode(\"append\").json(\"s3a_//falk2210/award.json\")"
   ]
  },
  {
   "cell_type": "code",
   "execution_count": null,
   "id": "bc2bad30-96e2-453f-bb87-03e594be77ae",
   "metadata": {},
   "outputs": [],
   "source": [
    "#f65.write.parquet(\"s3a_//falk2210/f65.parquet\")"
   ]
  },
  {
   "cell_type": "code",
   "execution_count": null,
   "id": "6e1916db-db1c-4244-b35a-bc80e44a821d",
   "metadata": {},
   "outputs": [],
   "source": [
    "#f65.write.mode('append').parquet(\"s3a_//falk2210/award.parquet\")"
   ]
  },
  {
   "cell_type": "markdown",
   "id": "2f25d5cb-4089-4952-960c-d189daa8ca85",
   "metadata": {},
   "source": [
    "# Read all awards"
   ]
  },
  {
   "cell_type": "code",
   "execution_count": null,
   "id": "2a859cdd-9c4c-464d-99b7-fb52c350da7a",
   "metadata": {},
   "outputs": [],
   "source": [
    "awa = spark.read.json(\"falk2210/award.json/*.json\")"
   ]
  },
  {
   "cell_type": "code",
   "execution_count": null,
   "id": "aee0b36d-e927-4c6e-8af2-c5e749f689ca",
   "metadata": {},
   "outputs": [],
   "source": [
    "p_awa = awa.to_pandas_on_spark()"
   ]
  },
  {
   "cell_type": "code",
   "execution_count": null,
   "id": "6abd130f-e627-4d13-833d-f7d365df1d31",
   "metadata": {},
   "outputs": [],
   "source": [
    "p_awa['OBJECT_CONTRACT_OBJECT_DESCR_AC_COST_AC_CRITERION'].update(p_awa.pop('OBJECT_CONTRACT_OBJECT_DESCR_AC_AC_COST_AC_CRITERION'))\n",
    "p_awa['OBJECT_CONTRACT_OBJECT_DESCR_AC_COST_AC_WEIGHTING'].update(p_awa.pop('OBJECT_CONTRACT_OBJECT_DESCR_AC_AC_COST_AC_WEIGHTING'))\n",
    "p_awa['OBJECT_CONTRACT_OBJECT_DESCR_AC_CRITERION'].update(p_awa.pop('OBJECT_CONTRACT_OBJECT_DESCR_AC_AC_CRITERION'))\n",
    "p_awa['OBJECT_CONTRACT_OBJECT_DESCR_AC_PRICE_AC_WEIGHTING'].update(p_awa.pop('OBJECT_CONTRACT_OBJECT_DESCR_AC_AC_PRICE_AC_WEIGHTING'))\n",
    "p_awa['OBJECT_CONTRACT_OBJECT_DESCR_AC_QUALITY_AC_CRITERION'].update(p_awa.pop('OBJECT_CONTRACT_OBJECT_DESCR_AC_AC_QUALITY_AC_CRITERION'))\n",
    "p_awa['OBJECT_CONTRACT_OBJECT_DESCR_AC_QUALITY_AC_WEIGHTING'].update(p_awa.pop('OBJECT_CONTRACT_OBJECT_DESCR_AC_AC_QUALITY_AC_WEIGHTING'))"
   ]
  },
  {
   "cell_type": "code",
   "execution_count": null,
   "id": "a453f712-ced8-45e7-89be-5330ed0fdfb6",
   "metadata": {},
   "outputs": [],
   "source": [
    "p_awa['OBJECT_CONTRACT_OBJECT_DESCR_AC_CRITERION'].update(p_awa.pop('OBJECT_CONTRACT_OBJECT_DESCR_DIRECTIVE_2014_23_EU_AC_CRITERION')) \n",
    "p_awa['OBJECT_CONTRACT_OBJECT_DESCR_AC_COST_AC_CRITERION'].update(p_awa.pop('OBJECT_CONTRACT_OBJECT_DESCR_DIRECTIVE_2014_24_EU_AC_AC_COST_AC_CRITERION'))\n",
    "p_awa['OBJECT_CONTRACT_OBJECT_DESCR_AC_COST_AC_WEIGHTING'].update(p_awa.pop('OBJECT_CONTRACT_OBJECT_DESCR_DIRECTIVE_2014_24_EU_AC_AC_COST_AC_WEIGHTING'))\n",
    "p_awa['OBJECT_CONTRACT_OBJECT_DESCR_AC_PRICE_AC_WEIGHTING'].update(p_awa.pop('OBJECT_CONTRACT_OBJECT_DESCR_DIRECTIVE_2014_24_EU_AC_AC_PRICE_AC_WEIGHTING')) \n",
    "p_awa['OBJECT_CONTRACT_OBJECT_DESCR_AC_QUALITY_AC_CRITERION'].update(p_awa.pop('OBJECT_CONTRACT_OBJECT_DESCR_DIRECTIVE_2014_24_EU_AC_AC_QUALITY_AC_CRITERION'))\n",
    "p_awa['OBJECT_CONTRACT_OBJECT_DESCR_AC_QUALITY_AC_WEIGHTING'].update(p_awa.pop('OBJECT_CONTRACT_OBJECT_DESCR_DIRECTIVE_2014_24_EU_AC_AC_QUALITY_AC_WEIGHTING'))\n",
    "p_awa['OBJECT_CONTRACT_OBJECT_DESCR_AC_COST_AC_CRITERION'].update(p_awa.pop('OBJECT_CONTRACT_OBJECT_DESCR_DIRECTIVE_2014_24_EU_AC_COST_AC_CRITERION')) \n",
    "p_awa['OBJECT_CONTRACT_OBJECT_DESCR_AC_COST_AC_WEIGHTING'].update(p_awa.pop('OBJECT_CONTRACT_OBJECT_DESCR_DIRECTIVE_2014_24_EU_AC_COST_AC_WEIGHTING'))\n",
    "p_awa['OBJECT_CONTRACT_OBJECT_DESCR_AC_PRICE_AC_WEIGHTING'].update(p_awa.pop('OBJECT_CONTRACT_OBJECT_DESCR_DIRECTIVE_2014_24_EU_AC_PRICE_AC_WEIGHTING'))\n",
    "p_awa['OBJECT_CONTRACT_OBJECT_DESCR_AC_QUALITY_AC_CRITERION'].update(p_awa.pop('OBJECT_CONTRACT_OBJECT_DESCR_DIRECTIVE_2014_24_EU_AC_QUALITY_AC_CRITERION'))\n",
    "p_awa['OBJECT_CONTRACT_OBJECT_DESCR_AC_QUALITY_AC_WEIGHTING'].update(p_awa.pop('OBJECT_CONTRACT_OBJECT_DESCR_DIRECTIVE_2014_24_EU_AC_QUALITY_AC_WEIGHTING'))\n",
    "p_awa['OBJECT_CONTRACT_OBJECT_DESCR_AC_COST_AC_CRITERION'].update(p_awa.pop('OBJECT_CONTRACT_OBJECT_DESCR_DIRECTIVE_2014_25_EU_AC_AC_COST_AC_CRITERION'))\n",
    "p_awa['OBJECT_CONTRACT_OBJECT_DESCR_AC_COST_AC_WEIGHTING'].update(p_awa.pop('OBJECT_CONTRACT_OBJECT_DESCR_DIRECTIVE_2014_25_EU_AC_AC_COST_AC_WEIGHTING')) \n",
    "p_awa['OBJECT_CONTRACT_OBJECT_DESCR_AC_PRICE_AC_WEIGHTING'].update(p_awa.pop('OBJECT_CONTRACT_OBJECT_DESCR_DIRECTIVE_2014_25_EU_AC_AC_PRICE_AC_WEIGHTING'))\n",
    "p_awa['OBJECT_CONTRACT_OBJECT_DESCR_AC_QUALITY_AC_CRITERION'].update(p_awa.pop('OBJECT_CONTRACT_OBJECT_DESCR_DIRECTIVE_2014_25_EU_AC_AC_QUALITY_AC_CRITERION'))\n",
    "p_awa['OBJECT_CONTRACT_OBJECT_DESCR_AC_QUALITY_AC_WEIGHTING'].update(p_awa.pop('OBJECT_CONTRACT_OBJECT_DESCR_DIRECTIVE_2014_25_EU_AC_AC_QUALITY_AC_WEIGHTING')) \n",
    "p_awa['OBJECT_CONTRACT_OBJECT_DESCR_AC_PUBLICATION'].update(p_awa.pop('OBJECT_CONTRACT_OBJECT_DESCR_DIRECTIVE_2014_25_EU_AC_PUBLICATION'))\n",
    "p_awa['OBJECT_CONTRACT_OBJECT_DESCR_AC_PRICE_AC_WEIGHTING'].update(p_awa.pop('OBJECT_CONTRACT_OBJECT_DESCR_DIRECTIVE_2014_25_EU_AC_PRICE_AC_WEIGHTING'))\n",
    "p_awa['OBJECT_CONTRACT_OBJECT_DESCR_AC_QUALITY_AC_CRITERION'].update(p_awa.pop('OBJECT_CONTRACT_OBJECT_DESCR_DIRECTIVE_2014_25_EU_AC_QUALITY_AC_CRITERION'))\n",
    "p_awa['OBJECT_CONTRACT_OBJECT_DESCR_AC_QUALITY_AC_WEIGHTING'].update(p_awa.pop('OBJECT_CONTRACT_OBJECT_DESCR_DIRECTIVE_2014_25_EU_AC_QUALITY_AC_WEIGHTING'))\n",
    "p_awa['OBJECT_CONTRACT_OBJECT_DESCR_AC_COST'].update(p_awa.pop('OBJECT_CONTRACT_OBJECT_DESCR_AC_AC_COST')) \n",
    "p_awa['OBJECT_CONTRACT_OBJECT_DESCR_AC_QUALITY'].update(p_awa.pop('OBJECT_CONTRACT_OBJECT_DESCR_AC_AC_QUALITY'))"
   ]
  },
  {
   "cell_type": "code",
   "execution_count": null,
   "id": "11fb135a-4018-4ad9-a3ac-3a3da754ea61",
   "metadata": {},
   "outputs": [],
   "source": [
    "p_awa = p_awa.rename(columns=lambda x_ re.sub('OBJECT_CONTRACT_OBJECT_DESCR_DIRECTIVE_2009_81_EC_AC_AC_CRITERIA_AC_CRITERION', 'OBJECT_CONTRACT_OBJECT_DESCR_AC_CRITERIA_AC_CRITERION', x))\n",
    "p_awa = p_awa.rename(columns=lambda x_ re.sub('OBJECT_CONTRACT_OBJECT_DESCR_DIRECTIVE_2009_81_EC_AC_AC_CRITERIA_AC_WEIGHTING', 'OBJECT_CONTRACT_OBJECT_DESCR_AC_CRITERIA_AC_WEIGHTING', x))\n",
    "p_awa['OBJECT_CONTRACT_OBJECT_DESCR_AC_CRITERIA_AC_CRITERION'].update(p_awa.pop('OBJECT_CONTRACT_OBJECT_DESCR_DIRECTIVE_2009_81_EC_AC_CRITERIA_AC_CRITERION'))\n",
    "p_awa['OBJECT_CONTRACT_OBJECT_DESCR_AC_CRITERIA_AC_WEIGHTING'].update(p_awa.pop('OBJECT_CONTRACT_OBJECT_DESCR_DIRECTIVE_2009_81_EC_AC_CRITERIA_AC_WEIGHTING'))"
   ]
  },
  {
   "cell_type": "code",
   "execution_count": null,
   "id": "a382d986-028d-4cc5-985c-f06354f5a9d9",
   "metadata": {},
   "outputs": [],
   "source": [
    "p_awa.info()"
   ]
  },
  {
   "cell_type": "code",
   "execution_count": null,
   "id": "2f74601b-43cb-41e4-8a2f-6a6168c0b1e5",
   "metadata": {},
   "outputs": [],
   "source": [
    "fp_awa = p_awa.to_spark()\n",
    "fp_awa.write.mode(\"append\").json(\"falk2210/all_award.json\")"
   ]
  },
  {
   "cell_type": "code",
   "execution_count": null,
   "id": "cf2e1b21-b2cb-42ea-9170-2cd588cccd50",
   "metadata": {},
   "outputs": [],
   "source": [
    "p_awa = p_awa.rename(columns=lambda x_ re.sub('AWARDED_CONTRACT_', '', x))\n",
    "p_awa = p_awa.rename(columns=lambda x_ re.sub('_PROCUREMENT_DISCONTINUED', '', x))\n",
    "p_awa = p_awa.rename(columns=lambda x_ re.sub('COMPLEMENTARY_INFO_', '', x))\n",
    "p_awa = p_awa.rename(columns=lambda x_ re.sub('CONTRACTING_BODY_', '', x))\n",
    "p_awa = p_awa.rename(columns=lambda x_ re.sub('OBJECT_CONTRACT_', '', x))\n",
    "p_awa = p_awa.rename(columns=lambda x_ re.sub('AWARD_CONTRACT_', 'award_', x))\n",
    "p_awa = p_awa.rename(columns=lambda x_ re.sub('award_NO_PROCUREMENT_DISCONTINUED_', 'NO_award_', x))\n",
    "p_awa = p_awa.rename(columns=lambda x_ re.sub('PROCEDURE_PT_AWARD_CONTRACT_WITHOUT_CALL_D_JUSTIFICATION', 'AWARD_CONTRACT_WITHOUT_CALL_D_JUSTIFICATION', x))\n",
    "p_awa = p_awa.rename(columns=lambda x_ re.sub('PROCEDURE_PT_AWARD_CONTRACT_WITHOUT_PUBLICATION_D_JUSTIFICATION', 'AWARD_CONTRACT_WITHOUT_PUBLICATION_D_JUSTIFICATION', x))\n"
   ]
  },
  {
   "cell_type": "code",
   "execution_count": null,
   "id": "d8a4ac38-1e4f-4104-8c9d-f4721c49c630",
   "metadata": {},
   "outputs": [],
   "source": [
    "#p_awa.info()"
   ]
  },
  {
   "cell_type": "code",
   "execution_count": null,
   "id": "b86e0870-00f1-4050-8131-63440fbcb91f",
   "metadata": {},
   "outputs": [],
   "source": [
    "#p_awa.head()"
   ]
  },
  {
   "cell_type": "code",
   "execution_count": null,
   "id": "fabcf040-050a-4f27-a5aa-8932e8a4157c",
   "metadata": {},
   "outputs": [],
   "source": [
    "#display(p_awa)"
   ]
  },
  {
   "cell_type": "code",
   "execution_count": null,
   "id": "381b295d-b7d2-4cd1-8f64-c20c2f10e499",
   "metadata": {},
   "outputs": [],
   "source": [
    "f_awa = p_awa.to_spark()"
   ]
  },
  {
   "cell_type": "code",
   "execution_count": null,
   "id": "5d1d862c-4ef6-4368-808b-9caf05cbdc43",
   "metadata": {},
   "outputs": [],
   "source": [
    "display(f_awa)"
   ]
  },
  {
   "cell_type": "code",
   "execution_count": null,
   "id": "e0a8c765-1650-494a-916e-649886332f0e",
   "metadata": {},
   "outputs": [],
   "source": [
    "f_awa.distinct().count()"
   ]
  },
  {
   "cell_type": "code",
   "execution_count": null,
   "id": "bfe5af29-7585-432a-a721-2bfc7808d610",
   "metadata": {},
   "outputs": [],
   "source": [
    "f_awa.count()"
   ]
  },
  {
   "cell_type": "code",
   "execution_count": null,
   "id": "d2a303d7-0687-49b4-8653-0f8780f73411",
   "metadata": {},
   "outputs": [],
   "source": [
    "f_awa.distinct().filter(f_awa[\"CONTRACTING_BODY_ADDRESS_CONTRACTING_BODY_OFFICIALNAME\"] == 'Mattilsynet').count()"
   ]
  },
  {
   "cell_type": "code",
   "execution_count": null,
   "id": "1b27860c-1cfc-4f66-832c-6ad88b8cd443",
   "metadata": {},
   "outputs": [],
   "source": [
    "f_awa.filter(f_awa[\"CONTRACTING_BODY_ADDRESS_CONTRACTING_BODY_OFFICIALNAME\"] == 'Mattilsynet').distinct().count()"
   ]
  },
  {
   "cell_type": "code",
   "execution_count": null,
   "id": "1832af8e-d9ff-42ed-b9e9-3f6913708604",
   "metadata": {},
   "outputs": [],
   "source": [
    "f_awa.filter(f_awa[\"CONTRACTING_BODY_ADDRESS_CONTRACTING_BODY_OFFICIALNAME\"] == 'Ålesund kommune').count()"
   ]
  },
  {
   "cell_type": "code",
   "execution_count": null,
   "id": "ef71bde1-c16a-493c-9d0a-8fcec675ad94",
   "metadata": {},
   "outputs": [],
   "source": [
    "f_awa.createOrReplaceTempView(\"test\")"
   ]
  },
  {
   "cell_type": "code",
   "execution_count": null,
   "id": "56135f87-f500-4521-855e-5d906ed39bfd",
   "metadata": {},
   "outputs": [],
   "source": [
    "#df3 = spark.sql(\"select distinct * from test where test[CONTRACTING_BODY_ADDRESS_CONTRACTING_BODY_OFFICIALNAME] == Mattilsynet\")"
   ]
  },
  {
   "cell_type": "code",
   "execution_count": null,
   "id": "feae235e-0b27-41ea-be38-5738cfd8b563",
   "metadata": {},
   "outputs": [],
   "source": [
    "f_awa.filter(f_awa['CONTRACTING_BODY_ADDRESS_CONTRACTING_BODY_OFFICIALNAME'] == \"Mattilsynet\").distinct().show(n=19, vertical=True, truncate=False) "
   ]
  },
  {
   "cell_type": "code",
   "execution_count": null,
   "id": "f5d54981-08c8-492a-b308-43a009fa43c2",
   "metadata": {},
   "outputs": [],
   "source": [
    "#f_awa.filter(f_awa['CONTRACTING_BODY_ADDRESS_CONTRACTING_BODY_OFFICIALNAME'] == \"Mattilsynet\").select('AWARDED_CONTRACT_CONTRACTORS_CONTRACTOR_ADDRESS_CONTRACTOR_OFFICIALNAME',\"AWARDED_CONTRACT_CONTRACTOR_ADDRESS_CONTRACTOR_OFFICIALNAME\", \"AWARD_CONTRACT_TITLE\", 'CONTRACTING_BODY_ADDRESS_CONTRACTING_BODY_OFFICIALNAME', 'CONTRACTING_BODY_ADDRESS_CONTRACTING_BODY_CONTACT_POINT', 'OBJECT_CONTRACT_OBJECT_DESCR_SHORT_DESCR').distinct().show(n=20, vertical=True, truncate=False)"
   ]
  },
  {
   "cell_type": "code",
   "execution_count": null,
   "id": "b3f69b41-9928-47c3-9b8b-9f2618d4005b",
   "metadata": {},
   "outputs": [],
   "source": [
    "f_awa.filter(f_awa[\"CONTRACTING_BODY_ADDRESS_CONTRACTING_BODY_OFFICIALNAME\"] == 'Mattilsynet').distinct().show(n=5, vertical=True, truncate=False)"
   ]
  },
  {
   "cell_type": "code",
   "execution_count": null,
   "id": "f847f144-f924-468d-9787-44b868d087b6",
   "metadata": {},
   "outputs": [],
   "source": [
    "#f_awa.distinct().show(n=2, vertical=True, truncate=False)"
   ]
  },
  {
   "cell_type": "code",
   "execution_count": null,
   "id": "dfd67676-52cc-48c8-a5bb-c0c02bdf7eba",
   "metadata": {},
   "outputs": [],
   "source": [
    "f_awa.distinct().show"
   ]
  },
  {
   "cell_type": "code",
   "execution_count": null,
   "id": "54df9365-f673-4e60-b333-c5979d8897eb",
   "metadata": {},
   "outputs": [],
   "source": [
    "f_awa.write.mode(\"append\").json(\"falk2210/f_awa.json\")"
   ]
  },
  {
   "cell_type": "code",
   "execution_count": null,
   "id": "1bf46315-1f7f-4ec9-bc09-326595f9b7cc",
   "metadata": {},
   "outputs": [],
   "source": [
    "#f_awa.printSchema()"
   ]
  },
  {
   "cell_type": "markdown",
   "id": "9a887bc1-ece3-4939-a7d2-9f89e6b1d2c6",
   "metadata": {
    "tags": []
   },
   "source": [
    "# F102 Contract"
   ]
  },
  {
   "cell_type": "markdown",
   "id": "91749a32-ab47-4a27-815e-d7f8b85b9825",
   "metadata": {},
   "source": [
    "<a id='f102' />"
   ]
  },
  {
   "cell_type": "code",
   "execution_count": null,
   "id": "fb14b517-d678-486c-b406-75f95c523b57",
   "metadata": {},
   "outputs": [],
   "source": [
    "f102 = spark.read.json(\"falk/F102.json/*.json\")\n",
    "#f102.printSchema()"
   ]
  },
  {
   "cell_type": "code",
   "execution_count": null,
   "id": "4b7c23db-5219-4961-86e2-c05b8f01413e",
   "metadata": {},
   "outputs": [],
   "source": [
    "pf102 = f102.to_pandas_on_spark()"
   ]
  },
  {
   "cell_type": "code",
   "execution_count": null,
   "id": "5f8341db-eb0d-42b8-a8cc-a304a8fc7c88",
   "metadata": {},
   "outputs": [],
   "source": [
    "pf102 = pf102.rename(columns=lambda x_ re.sub('DOFFIN_ESENDERS_', '', x))\n",
    "pf102 = pf102.rename(columns=lambda x_ re.sub('FORM_SECTION_', '', x))\n",
    "pf102 = pf102.rename(columns=lambda x_ re.sub('F102_2014_', '', x))\n",
    "#pf102 = pf102.rename(columns=lambda x_ re.sub('_', '_', x))\n",
    "pf102 = pf102.rename(columns=lambda x_ re.sub('\\_P$', '', x))"
   ]
  },
  {
   "cell_type": "code",
   "execution_count": null,
   "id": "0b3a7ee7-4f09-4bae-909c-e8d71d11dc65",
   "metadata": {},
   "outputs": [],
   "source": [
    "#pf102.info()"
   ]
  },
  {
   "cell_type": "code",
   "execution_count": null,
   "id": "add9b38a-6b22-4477-ae98-e758a28d738a",
   "metadata": {},
   "outputs": [],
   "source": [
    "pf102[\"COMPLEMENTARY_INFO_DATE_DISPATCH_NOTICE\"] = ps.to_datetime(pf102[\"COMPLEMENTARY_INFO_DATE_DISPATCH_NOTICE\"])\n",
    "pf102[\"OBJECT_CONTRACT_OBJECT_DESCR_DATE_END\"] = ps.to_datetime(pf102[\"OBJECT_CONTRACT_OBJECT_DESCR_DATE_END\"])\n",
    "pf102[\"OBJECT_CONTRACT_OBJECT_DESCR_DATE_START\"] = ps.to_datetime(pf102[\"OBJECT_CONTRACT_OBJECT_DESCR_DATE_START\"])\n",
    "pf102[\"PROCEDURE_DATE_RECEIPT_TENDERS\"] = ps.to_datetime(pf102[\"PROCEDURE_DATE_RECEIPT_TENDERS\"])"
   ]
  },
  {
   "cell_type": "code",
   "execution_count": null,
   "id": "4e86bfcc-3e82-4aca-b7b2-34d62b266e84",
   "metadata": {},
   "outputs": [],
   "source": [
    "#pf102.info()"
   ]
  },
  {
   "cell_type": "code",
   "execution_count": null,
   "id": "74ba1a0b-f50f-4fb3-be56-70b0c215526a",
   "metadata": {},
   "outputs": [],
   "source": [
    "f102 = pf102.to_spark()"
   ]
  },
  {
   "cell_type": "code",
   "execution_count": null,
   "id": "d997e751-b80f-4daa-b863-a8ee20b2d45d",
   "metadata": {},
   "outputs": [],
   "source": [
    "f102.write.mode(\"append\").json(\"falk2210/contract.json\")"
   ]
  },
  {
   "cell_type": "code",
   "execution_count": null,
   "id": "e29a0d7c-4fdd-4fcf-9142-e7057e680b87",
   "metadata": {},
   "outputs": [],
   "source": [
    "f102.write.mode(\"append\").json(\"s3a_//falk2210/f102.json\")"
   ]
  },
  {
   "cell_type": "code",
   "execution_count": null,
   "id": "887780a3-cd9e-429d-a4cf-ffd8c654f6b7",
   "metadata": {},
   "outputs": [],
   "source": [
    "f102.write.mode(\"append\").json(\"s3a_//falk2210/contract.json\")"
   ]
  },
  {
   "cell_type": "code",
   "execution_count": null,
   "id": "5d0a8f4f-f530-46e9-af63-e497f82fcd74",
   "metadata": {},
   "outputs": [],
   "source": [
    "#f102.write.parquet(\"s3a_//falk2210/f102.parquet\")"
   ]
  },
  {
   "cell_type": "code",
   "execution_count": null,
   "id": "c7b37df4-876c-47bf-84b1-6a049148f209",
   "metadata": {},
   "outputs": [],
   "source": [
    "#f102.write.mode('append').parquet(\"s3a_//falk2210/contract.parquet\")"
   ]
  },
  {
   "cell_type": "code",
   "execution_count": null,
   "id": "43404a63-cc67-4898-9f96-2fcc18ecbd93",
   "metadata": {},
   "outputs": [],
   "source": [
    "con = spark.read.json(\"falk2210/contract.json/*.json\")\n",
    "#con.printSchema()"
   ]
  },
  {
   "cell_type": "code",
   "execution_count": null,
   "id": "d495948e-7d1f-4fd7-9643-0ea03cb10163",
   "metadata": {},
   "outputs": [],
   "source": [
    "p_con = con.to_pandas_on_spark()"
   ]
  },
  {
   "cell_type": "code",
   "execution_count": null,
   "id": "1ac5ef56-2683-4dcb-97d9-f101d3850810",
   "metadata": {},
   "outputs": [],
   "source": [
    "p_con['OBJECT_CONTRACT_OBJECT_DESCR_AC_COST_AC_CRITERION'].update(p_con.pop('OBJECT_CONTRACT_OBJECT_DESCR_AC_AC_COST_AC_CRITERION'))\n",
    "p_con['OBJECT_CONTRACT_OBJECT_DESCR_AC_COST_AC_WEIGHTING'].update(p_con.pop('OBJECT_CONTRACT_OBJECT_DESCR_AC_AC_COST_AC_WEIGHTING'))\n",
    "p_con['OBJECT_CONTRACT_OBJECT_DESCR_AC_CRITERION'].update(p_con.pop('OBJECT_CONTRACT_OBJECT_DESCR_AC_AC_CRITERION'))\n",
    "p_con['OBJECT_CONTRACT_OBJECT_DESCR_AC_PRICE_AC_WEIGHTING'].update(p_con.pop('OBJECT_CONTRACT_OBJECT_DESCR_AC_AC_PRICE_AC_WEIGHTING'))\n",
    "p_con['OBJECT_CONTRACT_OBJECT_DESCR_AC_QUALITY_AC_CRITERION'].update(p_con.pop('OBJECT_CONTRACT_OBJECT_DESCR_AC_AC_QUALITY_AC_CRITERION'))\n",
    "p_con['OBJECT_CONTRACT_OBJECT_DESCR_AC_QUALITY_AC_WEIGHTING'].update(p_con.pop('OBJECT_CONTRACT_OBJECT_DESCR_AC_AC_QUALITY_AC_WEIGHTING'))"
   ]
  },
  {
   "cell_type": "code",
   "execution_count": null,
   "id": "997ce715-9385-4ae0-814a-012fe662e10d",
   "metadata": {},
   "outputs": [],
   "source": [
    "#p_con.head(20)"
   ]
  },
  {
   "cell_type": "code",
   "execution_count": null,
   "id": "139e817c-5b39-4206-a8c4-1e4aa323ee59",
   "metadata": {},
   "outputs": [],
   "source": [
    "p_con.info()"
   ]
  },
  {
   "cell_type": "markdown",
   "id": "e725820b-65f0-40f2-b3eb-35317b4936d9",
   "metadata": {},
   "source": [
    "# Doffin forms\n",
    "only 14 16 17 18 are used after 2016"
   ]
  },
  {
   "cell_type": "markdown",
   "id": "ce6d7b93-6456-460d-a535-91798a4701e9",
   "metadata": {},
   "source": [
    "<a id='d1' />"
   ]
  },
  {
   "cell_type": "markdown",
   "id": "e24f4488-9abd-43fd-af67-8cdd8f5ca31c",
   "metadata": {
    "tags": []
   },
   "source": [
    "# 1 PRI "
   ]
  },
  {
   "cell_type": "code",
   "execution_count": null,
   "id": "b964882b-2cc4-4df4-827a-61ac7c52b400",
   "metadata": {},
   "outputs": [],
   "source": [
    "d1 = spark.read.json(\"falk/1.json/*.json\")\n",
    "#d1.printSchema()"
   ]
  },
  {
   "cell_type": "code",
   "execution_count": null,
   "id": "901b4ae0-69ef-4f3b-b0d4-00be42ec19f4",
   "metadata": {},
   "outputs": [],
   "source": [
    "pd1 = d1.to_pandas_on_spark()"
   ]
  },
  {
   "cell_type": "code",
   "execution_count": null,
   "id": "9f5ad20c-094b-4303-a91d-a930e0235e76",
   "metadata": {},
   "outputs": [],
   "source": [
    "pd1 = pd1.rename(columns=lambda x_ re.sub('DOFFIN_ESENDERS_VERSION', 'DOFFIN_VERSION', x))\n",
    "#pd1.info()"
   ]
  },
  {
   "cell_type": "code",
   "execution_count": null,
   "id": "2d52d35d-4d51-4062-9269-7ef99fe2cc1f",
   "metadata": {},
   "outputs": [],
   "source": [
    "pd1 = pd1.rename(columns=lambda x_ re.sub('DOFFIN_ESENDERS_', '', x))"
   ]
  },
  {
   "cell_type": "code",
   "execution_count": null,
   "id": "1127bfba-495c-4edc-8c9a-931cd4063f45",
   "metadata": {},
   "outputs": [],
   "source": [
    "pd1 = pd1.rename(columns=lambda x_ re.sub('FORM_SECTION_', '', x))\n",
    "#pd1.info()"
   ]
  },
  {
   "cell_type": "code",
   "execution_count": null,
   "id": "20ca3dc0-ef52-4c2b-9bcb-983ee9fc86f7",
   "metadata": {},
   "outputs": [],
   "source": [
    "pd1 = pd1.rename(columns=lambda x_ re.sub('PRIOR_INFORMATION_', '', x))\n",
    "#pd1.info()"
   ]
  },
  {
   "cell_type": "code",
   "execution_count": null,
   "id": "b065a1e4-6979-40e5-bea4-a16059f56251",
   "metadata": {},
   "outputs": [],
   "source": [
    "#pd1.info()"
   ]
  },
  {
   "cell_type": "code",
   "execution_count": null,
   "id": "1895c48c-fc41-40dc-b0b8-58ce9a35e326",
   "metadata": {},
   "outputs": [],
   "source": [
    "#pd1 = pd1.rename(columns=lambda x_ re.sub('_', '_', x))\n",
    "#pd1.info()"
   ]
  },
  {
   "cell_type": "code",
   "execution_count": null,
   "id": "9d9836e8-2d5f-4f41-b121-69aeb474b308",
   "metadata": {},
   "outputs": [],
   "source": [
    "pd1['FD_OBJECT_SUPPLIES_SERVICES_OBJECT_SUPPLY_SERVICE_ADDITIONAL_INFORMATION'].update(pd1.pop('FD_OBJECT_SUPPLIES_SERVICES_OBJECT_SUPPLY_SERVICE_ADDITIONAL_INFORMATION_P'))\n",
    "pd1['FD_OBJECT_SUPPLIES_SERVICES_OBJECT_SUPPLY_SERVICE_QUANTITY_SCOPE_F01_DIVISION_INTO_LOTS_F01_DIV_INTO_LOT_YES_LOT_LOT_DESCRIPTION'].update(pd1.pop('FD_OBJECT_SUPPLIES_SERVICES_OBJECT_SUPPLY_SERVICE_QUANTITY_SCOPE_F01_DIVISION_INTO_LOTS_F01_DIV_INTO_LOT_YES_LOT_LOT_DESCRIPTION_P'))\n",
    "pd1['FD_OBJECT_SUPPLIES_SERVICES_OBJECT_SUPPLY_SERVICE_QUANTITY_SCOPE_TOTAL_QUANTITY_OR_SCOPE'].update(pd1.pop('FD_OBJECT_SUPPLIES_SERVICES_OBJECT_SUPPLY_SERVICE_QUANTITY_SCOPE_TOTAL_QUANTITY_OR_SCOPE_P'))\n",
    "pd1['FD_OBJECT_SUPPLIES_SERVICES_OBJECT_SUPPLY_SERVICE_TITLE_CONTRACT'].update(pd1.pop('FD_OBJECT_SUPPLIES_SERVICES_OBJECT_SUPPLY_SERVICE_TITLE_CONTRACT_P'))\n",
    "pd1['FD_OBJECT_WORKS_QUANTITY_SCOPE_WORKS_TOTAL_QUANTITY_OR_SCOPE'].update(pd1.pop('FD_OBJECT_WORKS_QUANTITY_SCOPE_WORKS_TOTAL_QUANTITY_OR_SCOPE_P'))\n",
    "pd1['FD_OBJECT_WORKS_TITLE_CONTRACT'].update(pd1.pop('FD_OBJECT_WORKS_TITLE_CONTRACT_P'))\n",
    "pd1['FD_OTH_INFO_ADDITIONAL_INFORMATION'].update(pd1.pop('FD_OTH_INFO_ADDITIONAL_INFORMATION_P'))\n",
    "#pd1.info()"
   ]
  },
  {
   "cell_type": "code",
   "execution_count": null,
   "id": "37f6431f-ad12-42af-bc75-b71996bc89db",
   "metadata": {},
   "outputs": [],
   "source": [
    "pd1 = pd1.rename(columns=lambda x_ re.sub('\\_P$', '', x))\n",
    "#pd1.info()"
   ]
  },
  {
   "cell_type": "code",
   "execution_count": null,
   "id": "557680c5-5b88-4b57-93d5-ba1e47dbc2e0",
   "metadata": {},
   "outputs": [],
   "source": []
  },
  {
   "cell_type": "code",
   "execution_count": null,
   "id": "1d58f166-8a39-4062-8d0a-89ad6d83cfbd",
   "metadata": {},
   "outputs": [],
   "source": [
    "#pd1.head()"
   ]
  },
  {
   "cell_type": "code",
   "execution_count": null,
   "id": "515bde60-103f-4b31-9989-bee0c000d078",
   "metadata": {},
   "outputs": [],
   "source": [
    "pd1['FD_OBJECT_SUPPLIES_SERVICES_OBJECT_SUPPLY_SERVICE_ADDITIONAL_INFORMATION'].update(pd1.pop('FD_OBJECT_WORKS_ADDITIONAL_INFORMATION'))\n",
    "pd1['FD_OBJECT_SUPPLIES_SERVICES_OBJECT_SUPPLY_SERVICE_CONTRACT_COVERED_GPA_VALUE'].update(pd1.pop('FD_OBJECT_WORKS_CONTRACT_COVERED_GPA_VALUE'))\n",
    "pd1['FD_OBJECT_SUPPLIES_SERVICES_OBJECT_SUPPLY_SERVICE_CPV_CPV_ADDITIONAL_CPV_CODE_CODE'].update(pd1.pop('FD_OBJECT_WORKS_CPV_CPV_ADDITIONAL_CPV_CODE_CODE'))\n",
    "pd1['FD_OBJECT_SUPPLIES_SERVICES_OBJECT_SUPPLY_SERVICE_CPV_CPV_MAIN_CPV_CODE_CODE'].update(pd1.pop('FD_OBJECT_WORKS_CPV_CPV_MAIN_CPV_CODE_CODE'))\n",
    "pd1['FD_OBJECT_SUPPLIES_SERVICES_OBJECT_SUPPLY_SERVICE_FRAMEWORK_AGREEMENT_VALUE'].update(pd1.pop('FD_OBJECT_WORKS_FRAMEWORK_AGREEMENT_VALUE'))\n",
    "pd1['FD_OBJECT_SUPPLIES_SERVICES_OBJECT_SUPPLY_SERVICE_QUANTITY_SCOPE_COSTS_RANGE_AND_CURRENCY_CURRENCY'].update(pd1.pop('FD_OBJECT_WORKS_QUANTITY_SCOPE_WORKS_COSTS_RANGE_AND_CURRENCY_CURRENCY'))\n",
    "pd1['FD_OBJECT_SUPPLIES_SERVICES_OBJECT_SUPPLY_SERVICE_QUANTITY_SCOPE_COSTS_RANGE_AND_CURRENCY_RANGE_VALUE_COST_HIGH_VALUE'].update(pd1.pop('FD_OBJECT_WORKS_QUANTITY_SCOPE_WORKS_COSTS_RANGE_AND_CURRENCY_RANGE_VALUE_COST_HIGH_VALUE'))\n",
    "pd1['FD_OBJECT_SUPPLIES_SERVICES_OBJECT_SUPPLY_SERVICE_QUANTITY_SCOPE_COSTS_RANGE_AND_CURRENCY_RANGE_VALUE_COST_LOW_VALUE'].update(pd1.pop('FD_OBJECT_WORKS_QUANTITY_SCOPE_WORKS_COSTS_RANGE_AND_CURRENCY_RANGE_VALUE_COST_LOW_VALUE'))\n",
    "pd1['FD_OBJECT_SUPPLIES_SERVICES_OBJECT_SUPPLY_SERVICE_QUANTITY_SCOPE_COSTS_RANGE_AND_CURRENCY_VALUE_COST'].update(pd1.pop('FD_OBJECT_WORKS_QUANTITY_SCOPE_WORKS_COSTS_RANGE_AND_CURRENCY_VALUE_COST'))\n",
    "pd1['FD_OBJECT_SUPPLIES_SERVICES_OBJECT_SUPPLY_SERVICE_QUANTITY_SCOPE_F01_DIVISION_INTO_LOTS_F01_DIV_INTO_LOT_YES_LOT_ADDITIONAL_INFORMATION'].update(pd1.pop('FD_OBJECT_WORKS_QUANTITY_SCOPE_WORKS_F01_DIVISION_INTO_LOTS_F01_DIV_INTO_LOT_YES_LOT_ADDITIONAL_INFORMATION'))\n",
    "pd1['FD_OBJECT_SUPPLIES_SERVICES_OBJECT_SUPPLY_SERVICE_QUANTITY_SCOPE_F01_DIVISION_INTO_LOTS_F01_DIV_INTO_LOT_YES_LOT_CPV_CPV_ADDITIONAL'].update(pd1.pop('FD_OBJECT_WORKS_QUANTITY_SCOPE_WORKS_F01_DIVISION_INTO_LOTS_F01_DIV_INTO_LOT_YES_LOT_CPV_CPV_ADDITIONAL'))\n",
    "pd1['FD_OBJECT_SUPPLIES_SERVICES_OBJECT_SUPPLY_SERVICE_QUANTITY_SCOPE_F01_DIVISION_INTO_LOTS_F01_DIV_INTO_LOT_YES_LOT_CPV_CPV_ADDITIONAL_CPV_CODE_CODE'].update(pd1.pop('FD_OBJECT_WORKS_QUANTITY_SCOPE_WORKS_F01_DIVISION_INTO_LOTS_F01_DIV_INTO_LOT_YES_LOT_CPV_CPV_ADDITIONAL_CPV_CODE_CODE'))\n",
    "pd1['FD_OBJECT_SUPPLIES_SERVICES_OBJECT_SUPPLY_SERVICE_QUANTITY_SCOPE_F01_DIVISION_INTO_LOTS_F01_DIV_INTO_LOT_YES_LOT_CPV_CPV_MAIN_CPV_CODE_CODE'].update(pd1.pop('FD_OBJECT_WORKS_QUANTITY_SCOPE_WORKS_F01_DIVISION_INTO_LOTS_F01_DIV_INTO_LOT_YES_LOT_CPV_CPV_MAIN_CPV_CODE_CODE'))\n",
    "pd1['FD_OBJECT_SUPPLIES_SERVICES_OBJECT_SUPPLY_SERVICE_QUANTITY_SCOPE_F01_DIVISION_INTO_LOTS_F01_DIV_INTO_LOT_YES_LOT_LOT_DESCRIPTION'].update(pd1.pop('FD_OBJECT_WORKS_QUANTITY_SCOPE_WORKS_F01_DIVISION_INTO_LOTS_F01_DIV_INTO_LOT_YES_LOT_LOT_DESCRIPTION'))\n",
    "pd1['FD_OBJECT_SUPPLIES_SERVICES_OBJECT_SUPPLY_SERVICE_QUANTITY_SCOPE_F01_DIVISION_INTO_LOTS_F01_DIV_INTO_LOT_YES_LOT_LOT_NUMBER'].update(pd1.pop('FD_OBJECT_WORKS_QUANTITY_SCOPE_WORKS_F01_DIVISION_INTO_LOTS_F01_DIV_INTO_LOT_YES_LOT_LOT_NUMBER'))\n",
    "pd1['FD_OBJECT_SUPPLIES_SERVICES_OBJECT_SUPPLY_SERVICE_QUANTITY_SCOPE_F01_DIVISION_INTO_LOTS_F01_DIV_INTO_LOT_YES_LOT_LOT_TITLE'].update(pd1.pop('FD_OBJECT_WORKS_QUANTITY_SCOPE_WORKS_F01_DIVISION_INTO_LOTS_F01_DIV_INTO_LOT_YES_LOT_LOT_TITLE'))\n",
    "pd1['FD_OBJECT_SUPPLIES_SERVICES_OBJECT_SUPPLY_SERVICE_QUANTITY_SCOPE_F01_DIVISION_INTO_LOTS_F01_DIV_INTO_LOT_YES_LOT_NATURE_QUANTITY_SCOPE_COSTS_RANGE_AND_CURRENCY_CURRENCY'].update(pd1.pop('FD_OBJECT_WORKS_QUANTITY_SCOPE_WORKS_F01_DIVISION_INTO_LOTS_F01_DIV_INTO_LOT_YES_LOT_NATURE_QUANTITY_SCOPE_COSTS_RANGE_AND_CURRENCY_CURRENCY'))\n",
    "pd1['FD_OBJECT_SUPPLIES_SERVICES_OBJECT_SUPPLY_SERVICE_QUANTITY_SCOPE_F01_DIVISION_INTO_LOTS_F01_DIV_INTO_LOT_YES_LOT_NATURE_QUANTITY_SCOPE_COSTS_RANGE_AND_CURRENCY_RANGE_VALUE_COST_HIGH_VALUE'].update(pd1.pop('FD_OBJECT_WORKS_QUANTITY_SCOPE_WORKS_F01_DIVISION_INTO_LOTS_F01_DIV_INTO_LOT_YES_LOT_NATURE_QUANTITY_SCOPE_COSTS_RANGE_AND_CURRENCY_RANGE_VALUE_COST_HIGH_VALUE'))\n",
    "pd1['FD_OBJECT_SUPPLIES_SERVICES_OBJECT_SUPPLY_SERVICE_QUANTITY_SCOPE_F01_DIVISION_INTO_LOTS_F01_DIV_INTO_LOT_YES_LOT_NATURE_QUANTITY_SCOPE_COSTS_RANGE_AND_CURRENCY_RANGE_VALUE_COST_LOW_VALUE'].update(pd1.pop('FD_OBJECT_WORKS_QUANTITY_SCOPE_WORKS_F01_DIVISION_INTO_LOTS_F01_DIV_INTO_LOT_YES_LOT_NATURE_QUANTITY_SCOPE_COSTS_RANGE_AND_CURRENCY_RANGE_VALUE_COST_LOW_VALUE'))\n",
    "pd1['FD_OBJECT_SUPPLIES_SERVICES_OBJECT_SUPPLY_SERVICE_QUANTITY_SCOPE_F01_DIVISION_INTO_LOTS_F01_DIV_INTO_LOT_YES_LOT_NATURE_QUANTITY_SCOPE_COSTS_RANGE_AND_CURRENCY_VALUE_COST'].update(pd1.pop('FD_OBJECT_WORKS_QUANTITY_SCOPE_WORKS_F01_DIVISION_INTO_LOTS_F01_DIV_INTO_LOT_YES_LOT_NATURE_QUANTITY_SCOPE_COSTS_RANGE_AND_CURRENCY_VALUE_COST'))\n",
    "pd1['FD_OBJECT_SUPPLIES_SERVICES_OBJECT_SUPPLY_SERVICE_QUANTITY_SCOPE_F01_DIVISION_INTO_LOTS_F01_DIV_INTO_LOT_YES_LOT_NATURE_QUANTITY_SCOPE_TOTAL_QUANTITY_OR_SCOPE'].update(pd1.pop('FD_OBJECT_WORKS_QUANTITY_SCOPE_WORKS_F01_DIVISION_INTO_LOTS_F01_DIV_INTO_LOT_YES_LOT_NATURE_QUANTITY_SCOPE_TOTAL_QUANTITY_OR_SCOPE'))\n",
    "pd1['FD_OBJECT_SUPPLIES_SERVICES_OBJECT_SUPPLY_SERVICE_TITLE_CONTRACT'].update(pd1.pop('FD_OBJECT_WORKS_TITLE_CONTRACT'))\n",
    "pd1['FD_OBJECT_SUPPLIES_SERVICES_OBJECT_SUPPLY_SERVICE_QUANTITY_SCOPE_TOTAL_QUANTITY_OR_SCOPE'].update(pd1.pop('FD_OBJECT_WORKS_QUANTITY_SCOPE_WORKS_TOTAL_QUANTITY_OR_SCOPE'))\n",
    "pd1['FD_OBJECT_SUPPLIES_SERVICES_OBJECT_SUPPLY_SERVICE_TYPE_CONTRACT_PLACE_DELIVERY_SITE_OR_LOCATION_LABEL'].update(pd1.pop('FD_OBJECT_WORKS_SITE_OR_LOCATION_LABEL'))\n",
    "pd1['FD_OBJECT_SUPPLIES_SERVICES_OBJECT_SUPPLY_SERVICE_TYPE_CONTRACT_PLACE_DELIVERY_SITE_OR_LOCATION_NUTS_CODE'].update(pd1.pop('FD_OBJECT_WORKS_SITE_OR_LOCATION_NUTS_CODE'))\n",
    "\n",
    "pd1['FD_OBJECT_SUPPLIES_SERVICES_OBJECT_SUPPLY_SERVICE_QUANTITY_SCOPE_F01_DIVISION_INTO_LOTS_F01_DIV_INTO_LOT_YES_LOT_SCHEDULED_DATE_PERIOD_PERIOD_WORK_DATE_STARTING_INTERVAL_DATE_END_DATE_DAY'].update(pd1.pop('FD_OBJECT_WORKS_QUANTITY_SCOPE_WORKS_F01_DIVISION_INTO_LOTS_F01_DIV_INTO_LOT_YES_LOT_SCHEDULED_DATE_PERIOD_PERIOD_WORK_DATE_STARTING_INTERVAL_DATE_END_DATE_DAY'))\n",
    "pd1['FD_OBJECT_SUPPLIES_SERVICES_OBJECT_SUPPLY_SERVICE_QUANTITY_SCOPE_F01_DIVISION_INTO_LOTS_F01_DIV_INTO_LOT_YES_LOT_SCHEDULED_DATE_PERIOD_PERIOD_WORK_DATE_STARTING_INTERVAL_DATE_END_DATE_MONTH'].update(pd1.pop('FD_OBJECT_WORKS_QUANTITY_SCOPE_WORKS_F01_DIVISION_INTO_LOTS_F01_DIV_INTO_LOT_YES_LOT_SCHEDULED_DATE_PERIOD_PERIOD_WORK_DATE_STARTING_INTERVAL_DATE_END_DATE_MONTH'))\n",
    "pd1['FD_OBJECT_SUPPLIES_SERVICES_OBJECT_SUPPLY_SERVICE_QUANTITY_SCOPE_F01_DIVISION_INTO_LOTS_F01_DIV_INTO_LOT_YES_LOT_SCHEDULED_DATE_PERIOD_PERIOD_WORK_DATE_STARTING_INTERVAL_DATE_END_DATE_YEAR'].update(pd1.pop('FD_OBJECT_WORKS_QUANTITY_SCOPE_WORKS_F01_DIVISION_INTO_LOTS_F01_DIV_INTO_LOT_YES_LOT_SCHEDULED_DATE_PERIOD_PERIOD_WORK_DATE_STARTING_INTERVAL_DATE_END_DATE_YEAR'))\n",
    "pd1['FD_OBJECT_SUPPLIES_SERVICES_OBJECT_SUPPLY_SERVICE_QUANTITY_SCOPE_F01_DIVISION_INTO_LOTS_F01_DIV_INTO_LOT_YES_LOT_SCHEDULED_DATE_PERIOD_PERIOD_WORK_DATE_STARTING_INTERVAL_DATE_START_DATE_DAY'].update(pd1.pop('FD_OBJECT_WORKS_QUANTITY_SCOPE_WORKS_F01_DIVISION_INTO_LOTS_F01_DIV_INTO_LOT_YES_LOT_SCHEDULED_DATE_PERIOD_PERIOD_WORK_DATE_STARTING_INTERVAL_DATE_START_DATE_DAY'))\n",
    "pd1['FD_OBJECT_SUPPLIES_SERVICES_OBJECT_SUPPLY_SERVICE_QUANTITY_SCOPE_F01_DIVISION_INTO_LOTS_F01_DIV_INTO_LOT_YES_LOT_SCHEDULED_DATE_PERIOD_PERIOD_WORK_DATE_STARTING_INTERVAL_DATE_START_DATE_MONTH'].update(pd1.pop('FD_OBJECT_WORKS_QUANTITY_SCOPE_WORKS_F01_DIVISION_INTO_LOTS_F01_DIV_INTO_LOT_YES_LOT_SCHEDULED_DATE_PERIOD_PERIOD_WORK_DATE_STARTING_INTERVAL_DATE_START_DATE_MONTH'))\n",
    "pd1['FD_OBJECT_SUPPLIES_SERVICES_OBJECT_SUPPLY_SERVICE_QUANTITY_SCOPE_F01_DIVISION_INTO_LOTS_F01_DIV_INTO_LOT_YES_LOT_SCHEDULED_DATE_PERIOD_PERIOD_WORK_DATE_STARTING_INTERVAL_DATE_START_DATE_YEAR'].update(pd1.pop('FD_OBJECT_WORKS_QUANTITY_SCOPE_WORKS_F01_DIVISION_INTO_LOTS_F01_DIV_INTO_LOT_YES_LOT_SCHEDULED_DATE_PERIOD_PERIOD_WORK_DATE_STARTING_INTERVAL_DATE_START_DATE_YEAR'))\n",
    "pd1['FD_OBJECT_SUPPLIES_SERVICES_OBJECT_SUPPLY_SERVICE_QUANTITY_SCOPE_F01_DIVISION_INTO_LOTS_F01_DIV_INTO_LOT_YES_LOT_SCHEDULED_DATE_PERIOD_PERIOD_WORK_DATE_STARTING_MONTHS'].update(pd1.pop('FD_OBJECT_WORKS_QUANTITY_SCOPE_WORKS_F01_DIVISION_INTO_LOTS_F01_DIV_INTO_LOT_YES_LOT_SCHEDULED_DATE_PERIOD_PERIOD_WORK_DATE_STARTING_MONTHS'))\n",
    "pd1['FD_OBJECT_SUPPLIES_SERVICES_OBJECT_SUPPLY_SERVICE_QUANTITY_SCOPE_F01_DIVISION_INTO_LOTS_F01_DIV_INTO_LOT_YES_LOT_SCHEDULED_DATE_PERIOD_PROCEDURE_DATE_STARTING_DAY'].update(pd1.pop('FD_OBJECT_WORKS_QUANTITY_SCOPE_WORKS_F01_DIVISION_INTO_LOTS_F01_DIV_INTO_LOT_YES_LOT_SCHEDULED_DATE_PERIOD_PROCEDURE_DATE_STARTING_DAY'))\n",
    "pd1['FD_OBJECT_SUPPLIES_SERVICES_OBJECT_SUPPLY_SERVICE_QUANTITY_SCOPE_F01_DIVISION_INTO_LOTS_F01_DIV_INTO_LOT_YES_LOT_SCHEDULED_DATE_PERIOD_PROCEDURE_DATE_STARTING_MONTH'].update(pd1.pop('FD_OBJECT_WORKS_QUANTITY_SCOPE_WORKS_F01_DIVISION_INTO_LOTS_F01_DIV_INTO_LOT_YES_LOT_SCHEDULED_DATE_PERIOD_PROCEDURE_DATE_STARTING_MONTH'))\n",
    "pd1['FD_OBJECT_SUPPLIES_SERVICES_OBJECT_SUPPLY_SERVICE_QUANTITY_SCOPE_F01_DIVISION_INTO_LOTS_F01_DIV_INTO_LOT_YES_LOT_SCHEDULED_DATE_PERIOD_PROCEDURE_DATE_STARTING_YEAR'].update(pd1.pop('FD_OBJECT_WORKS_QUANTITY_SCOPE_WORKS_F01_DIVISION_INTO_LOTS_F01_DIV_INTO_LOT_YES_LOT_SCHEDULED_DATE_PERIOD_PROCEDURE_DATE_STARTING_YEAR'))\n",
    "pd1['FD_OBJECT_SUPPLIES_SERVICES_OBJECT_SUPPLY_SERVICE_PROCEDURE_DATE_STARTING_DAY'].update(pd1.pop('FD_OBJECT_WORKS_SCHEDULED_DATE_PERIOD_PROCEDURE_DATE_STARTING_DAY'))\n",
    "pd1['FD_OBJECT_SUPPLIES_SERVICES_OBJECT_SUPPLY_SERVICE_PROCEDURE_DATE_STARTING_MONTH'].update(pd1.pop('FD_OBJECT_WORKS_SCHEDULED_DATE_PERIOD_PROCEDURE_DATE_STARTING_MONTH'))\n",
    "pd1['FD_OBJECT_SUPPLIES_SERVICES_OBJECT_SUPPLY_SERVICE_PROCEDURE_DATE_STARTING_YEAR'].update(pd1.pop('FD_OBJECT_WORKS_SCHEDULED_DATE_PERIOD_PROCEDURE_DATE_STARTING_YEAR'))"
   ]
  },
  {
   "cell_type": "code",
   "execution_count": null,
   "id": "b5ef2c14-1207-4c9c-bec9-9ee005339e33",
   "metadata": {},
   "outputs": [],
   "source": [
    "#pd1.info()"
   ]
  },
  {
   "cell_type": "code",
   "execution_count": null,
   "id": "e17454fa-01d5-414f-bf9c-ae025b8ff2e8",
   "metadata": {},
   "outputs": [],
   "source": [
    "pd1 = pd1.rename(columns=lambda x_ re.sub('SUPPLIES_SERVICES_OBJECT_SUPPLY_SERVICE_', '', x))\n",
    "pd1 = pd1.rename(columns=lambda x_ re.sub('_OTH', '', x))\n",
    "pd1 = pd1.rename(columns=lambda x_ re.sub('F01_', '', x))\n",
    "pd1 = pd1.rename(columns=lambda x_ re.sub('_QUANTITY_SCOPE', '', x))\n"
   ]
  },
  {
   "cell_type": "code",
   "execution_count": null,
   "id": "7b08fee3-a196-46f0-b2af-ee1dbe6c6b6a",
   "metadata": {},
   "outputs": [],
   "source": [
    "pd1.info()"
   ]
  },
  {
   "cell_type": "code",
   "execution_count": null,
   "id": "ff52cc6f-b6c9-4951-816a-278006f75aee",
   "metadata": {},
   "outputs": [],
   "source": [
    "#pd1['datetime_test'] = ps.to_datetime(pd1[['FD_OBJECT_WORKS_SCHEDULED_DATE_PERIOD_PERIOD_WORK_DATE_STARTING_INTERVAL_DATE_END_DATE_YEAR', 'FD_OBJECT_WORKS_SCHEDULED_DATE_PERIOD_PERIOD_WORK_DATE_STARTING_INTERVAL_DATE_END_DATE_MONTH', 'FD_OBJECT_WORKS_SCHEDULED_DATE_PERIOD_PERIOD_WORK_DATE_STARTING_INTERVAL_DATE_END_DATE_DAY']])"
   ]
  },
  {
   "cell_type": "code",
   "execution_count": null,
   "id": "0ae9f0eb-791b-4190-94a1-95ca8e498f20",
   "metadata": {},
   "outputs": [],
   "source": [
    "fd1 = pd1.to_spark()"
   ]
  },
  {
   "cell_type": "code",
   "execution_count": null,
   "id": "1291649f-ec94-4840-bd0f-4797c39f8f9e",
   "metadata": {},
   "outputs": [],
   "source": [
    "fd1 = fd1.withColumn(\"FD_OBJECT_SUPPLIES_SERVICES_OBJECT_SUPPLY_SERVICE_PROCEDURE_DATE_STARTING\", expr(\"make_date(`FD_OBJECT_SUPPLIES_SERVICES_OBJECT_SUPPLY_SERVICE_PROCEDURE_DATE_STARTING.YEAR`, `FD_OBJECT_SUPPLIES_SERVICES_OBJECT_SUPPLY_SERVICE_PROCEDURE_DATE_STARTING.MONTH`, `FD_OBJECT_SUPPLIES_SERVICES_OBJECT_SUPPLY_SERVICE_PROCEDURE_DATE_STARTING.DAY`)\"))\n",
    "fd1 = fd1.withColumn(\"FD_OBJECT_SUPPLIES_SERVICES_OBJECT_SUPPLY_SERVICE_QUANTITY_SCOPE_F01_DIVISION_INTO_LOTS.F01_DIV_INTO_LOT_YES.LOT_SCHEDULED_DATE_PERIOD.PERIOD_WORK_DATE_STARTING.INTERVAL_DATE.END_DATE\", expr(\"make_date(`FD_OBJECT_SUPPLIES_SERVICES_OBJECT_SUPPLY_SERVICE_QUANTITY_SCOPE_F01_DIVISION_INTO_LOTS.F01_DIV_INTO_LOT_YES.LOT_SCHEDULED_DATE_PERIOD.PERIOD_WORK_DATE_STARTING.INTERVAL_DATE.END_DATE.YEAR`, `FD_OBJECT_SUPPLIES_SERVICES_OBJECT_SUPPLY_SERVICE_QUANTITY_SCOPE_F01_DIVISION_INTO_LOTS.F01_DIV_INTO_LOT_YES.LOT_SCHEDULED_DATE_PERIOD.PERIOD_WORK_DATE_STARTING.INTERVAL_DATE.END_DATE.MONTH`, `FD_OBJECT_SUPPLIES_SERVICES_OBJECT_SUPPLY_SERVICE_QUANTITY_SCOPE_F01_DIVISION_INTO_LOTS.F01_DIV_INTO_LOT_YES.LOT_SCHEDULED_DATE_PERIOD.PERIOD_WORK_DATE_STARTING.INTERVAL_DATE.END_DATE.DAY`)\"))\n",
    "fd1 = fd1.withColumn(\"FD_OBJECT_SUPPLIES_SERVICES_OBJECT_SUPPLY_SERVICE_QUANTITY_SCOPE_F01_DIVISION_INTO_LOTS.F01_DIV_INTO_LOT_YES.LOT_SCHEDULED_DATE_PERIOD.PERIOD_WORK_DATE_STARTING.INTERVAL_DATE.START_DATE\", expr(\"make_date(`FD_OBJECT_SUPPLIES_SERVICES_OBJECT_SUPPLY_SERVICE_QUANTITY_SCOPE_F01_DIVISION_INTO_LOTS.F01_DIV_INTO_LOT_YES.LOT_SCHEDULED_DATE_PERIOD.PERIOD_WORK_DATE_STARTING.INTERVAL_DATE.START_DATE.YEAR`, `FD_OBJECT_SUPPLIES_SERVICES_OBJECT_SUPPLY_SERVICE_QUANTITY_SCOPE_F01_DIVISION_INTO_LOTS.F01_DIV_INTO_LOT_YES.LOT_SCHEDULED_DATE_PERIOD.PERIOD_WORK_DATE_STARTING.INTERVAL_DATE.START_DATE.MONTH`, `FD_OBJECT_SUPPLIES_SERVICES_OBJECT_SUPPLY_SERVICE_QUANTITY_SCOPE_F01_DIVISION_INTO_LOTS.F01_DIV_INTO_LOT_YES.LOT_SCHEDULED_DATE_PERIOD.PERIOD_WORK_DATE_STARTING.INTERVAL_DATE.START_DATE.DAY`)\"))\n",
    "fd1 = fd1.withColumn(\"FD_OBJECT_SUPPLIES_SERVICES_OBJECT_SUPPLY_SERVICE_QUANTITY_SCOPE_F01_DIVISION_INTO_LOTS.F01_DIV_INTO_LOT_YES.LOT_SCHEDULED_DATE_PERIOD.PROCEDURE_DATE_STARTING\", expr(\"make_date(`FD_OBJECT_SUPPLIES_SERVICES_OBJECT_SUPPLY_SERVICE_QUANTITY_SCOPE_F01_DIVISION_INTO_LOTS.F01_DIV_INTO_LOT_YES.LOT_SCHEDULED_DATE_PERIOD.PROCEDURE_DATE_STARTING.YEAR`, `FD_OBJECT_SUPPLIES_SERVICES_OBJECT_SUPPLY_SERVICE_QUANTITY_SCOPE_F01_DIVISION_INTO_LOTS.F01_DIV_INTO_LOT_YES.LOT_SCHEDULED_DATE_PERIOD.PROCEDURE_DATE_STARTING.MONTH`, `FD_OBJECT_SUPPLIES_SERVICES_OBJECT_SUPPLY_SERVICE_QUANTITY_SCOPE_F01_DIVISION_INTO_LOTS.F01_DIV_INTO_LOT_YES.LOT_SCHEDULED_DATE_PERIOD.PROCEDURE_DATE_STARTING.DAY`)\"))\n",
    "\n",
    "#fd1 = fd1.withColumn(\"FD_OBJECT_WORKS_QUANTITY_SCOPE_WORKS.F01_DIVISION_INTO_LOTS.F01_DIV_INTO_LOT_YES.LOT_SCHEDULED_DATE_PERIOD.PERIOD_WORK_DATE_STARTING.INTERVAL_DATE.END_DATE\", expr(\"make_date(`FD_OBJECT_WORKS_QUANTITY_SCOPE_WORKS.F01_DIVISION_INTO_LOTS.F01_DIV_INTO_LOT_YES.LOT_SCHEDULED_DATE_PERIOD.PERIOD_WORK_DATE_STARTING.INTERVAL_DATE.END_DATE.YEAR`, `FD_OBJECT_WORKS_QUANTITY_SCOPE_WORKS.F01_DIVISION_INTO_LOTS.F01_DIV_INTO_LOT_YES.LOT_SCHEDULED_DATE_PERIOD.PERIOD_WORK_DATE_STARTING.INTERVAL_DATE.END_DATE.MONTH`, `FD_OBJECT_WORKS_QUANTITY_SCOPE_WORKS.F01_DIVISION_INTO_LOTS.F01_DIV_INTO_LOT_YES.LOT_SCHEDULED_DATE_PERIOD.PERIOD_WORK_DATE_STARTING.INTERVAL_DATE.END_DATE.DAY`)\"))\n",
    "\n",
    "#fd1 = fd1.withColumn(\"FD_OBJECT_WORKS_QUANTITY_SCOPE_WORKS.F01_DIVISION_INTO_LOTS.F01_DIV_INTO_LOT_YES.LOT_SCHEDULED_DATE_PERIOD.PERIOD_WORK_DATE_STARTING.INTERVAL_DATE.START_DATE\", expr(\"make_date(`FD_OBJECT_WORKS_QUANTITY_SCOPE_WORKS.F01_DIVISION_INTO_LOTS.F01_DIV_INTO_LOT_YES.LOT_SCHEDULED_DATE_PERIOD.PERIOD_WORK_DATE_STARTING.INTERVAL_DATE.START_DATE.YEAR`, `FD_OBJECT_WORKS_QUANTITY_SCOPE_WORKS.F01_DIVISION_INTO_LOTS.F01_DIV_INTO_LOT_YES.LOT_SCHEDULED_DATE_PERIOD.PERIOD_WORK_DATE_STARTING.INTERVAL_DATE.START_DATE.MONTH`, `FD_OBJECT_WORKS_QUANTITY_SCOPE_WORKS.F01_DIVISION_INTO_LOTS.F01_DIV_INTO_LOT_YES.LOT_SCHEDULED_DATE_PERIOD.PERIOD_WORK_DATE_STARTING.INTERVAL_DATE.START_DATE.DAY`)\"))\n",
    "\n",
    "#fd1 = fd1.withColumn(\"FD_OBJECT_WORKS_QUANTITY_SCOPE_WORKS.F01_DIVISION_INTO_LOTS.F01_DIV_INTO_LOT_YES.LOT_SCHEDULED_DATE_PERIOD.PROCEDURE_DATE_STARTING\", expr(\"make_date(`FD_OBJECT_WORKS_QUANTITY_SCOPE_WORKS.F01_DIVISION_INTO_LOTS.F01_DIV_INTO_LOT_YES.LOT_SCHEDULED_DATE_PERIOD.PROCEDURE_DATE_STARTING.YEAR`, `FD_OBJECT_WORKS_QUANTITY_SCOPE_WORKS.F01_DIVISION_INTO_LOTS.F01_DIV_INTO_LOT_YES.LOT_SCHEDULED_DATE_PERIOD.PROCEDURE_DATE_STARTING.MONTH`, `FD_OBJECT_WORKS_QUANTITY_SCOPE_WORKS.F01_DIVISION_INTO_LOTS.F01_DIV_INTO_LOT_YES.LOT_SCHEDULED_DATE_PERIOD.PROCEDURE_DATE_STARTING.DAY`)\"))\n",
    "\n",
    "fd1 = fd1.withColumn(\"FD_OBJECT_WORKS_SCHEDULED_DATE_PERIOD.PERIOD_WORK_DATE_STARTING.INTERVAL_DATE.END_DATE\", expr(\"make_date(`FD_OBJECT_WORKS_SCHEDULED_DATE_PERIOD.PERIOD_WORK_DATE_STARTING.INTERVAL_DATE.END_DATE.YEAR`, `FD_OBJECT_WORKS_SCHEDULED_DATE_PERIOD.PERIOD_WORK_DATE_STARTING.INTERVAL_DATE.END_DATE.MONTH`, `FD_OBJECT_WORKS_SCHEDULED_DATE_PERIOD.PERIOD_WORK_DATE_STARTING.INTERVAL_DATE.END_DATE.DAY`)\"))\n",
    "fd1 = fd1.withColumn(\"FD_OBJECT_WORKS_SCHEDULED_DATE_PERIOD.PERIOD_WORK_DATE_STARTING.INTERVAL_DATE.START_DATE\", expr(\"make_date(`FD_OBJECT_WORKS_SCHEDULED_DATE_PERIOD.PERIOD_WORK_DATE_STARTING.INTERVAL_DATE.START_DATE.YEAR`, `FD_OBJECT_WORKS_SCHEDULED_DATE_PERIOD.PERIOD_WORK_DATE_STARTING.INTERVAL_DATE.START_DATE.MONTH`, `FD_OBJECT_WORKS_SCHEDULED_DATE_PERIOD.PERIOD_WORK_DATE_STARTING.INTERVAL_DATE.START_DATE.DAY`)\"))\n",
    "\n",
    "#fd1 = fd1.withColumn(\"FD_OBJECT_WORKS_SCHEDULED_DATE_PERIOD.PROCEDURE_DATE_STARTING\", expr(\"make_date(`FD_OBJECT_WORKS_SCHEDULED_DATE_PERIOD.PROCEDURE_DATE_STARTING.YEAR`, `FD_OBJECT_WORKS_SCHEDULED_DATE_PERIOD.PROCEDURE_DATE_STARTING.MONTH`, `FD_OBJECT_WORKS_SCHEDULED_DATE_PERIOD.PROCEDURE_DATE_STARTING.DAY`)\"))\n",
    "fd1 = fd1.withColumn(\"FD_OTH_INFO_NOTICE_DISPATCH_DATE\", expr(\"make_date(`FD_OTH_INFO_NOTICE_DISPATCH_DATE.YEAR`, `FD_OTH_INFO_NOTICE_DISPATCH_DATE.MONTH`, `FD_OTH_INFO_NOTICE_DISPATCH_DATE.DAY`)\"))\n",
    "fd1 = fd1.withColumn(\"FD_OBJECT_WORKS_SCHEDULED_DATE_PERIOD.PERIOD_WORK_DATE_STARTING.INTERVAL_DATE.END_DATE\", expr(\"make_date(`FD_OBJECT_WORKS_SCHEDULED_DATE_PERIOD.PERIOD_WORK_DATE_STARTING.INTERVAL_DATE.END_DATE.YEAR`, `FD_OBJECT_WORKS_SCHEDULED_DATE_PERIOD.PERIOD_WORK_DATE_STARTING.INTERVAL_DATE.END_DATE.MONTH`, `FD_OBJECT_WORKS_SCHEDULED_DATE_PERIOD.PERIOD_WORK_DATE_STARTING.INTERVAL_DATE.END_DATE.DAY`)\"))\n",
    "fd1 = fd1.withColumn(\"FD_OBJECT_WORKS_SCHEDULED_DATE_PERIOD.PERIOD_WORK_DATE_STARTING.INTERVAL_DATE.START_DATE\", expr(\"make_date(`FD_OBJECT_WORKS_SCHEDULED_DATE_PERIOD.PERIOD_WORK_DATE_STARTING.INTERVAL_DATE.START_DATE.YEAR`, `FD_OBJECT_WORKS_SCHEDULED_DATE_PERIOD.PERIOD_WORK_DATE_STARTING.INTERVAL_DATE.START_DATE.MONTH`, `FD_OBJECT_WORKS_SCHEDULED_DATE_PERIOD.PERIOD_WORK_DATE_STARTING.INTERVAL_DATE.START_DATE.DAY`)\"))\n",
    "fd1 = fd1.withColumn(\"FD_OBJECT_SUPPLIES_SERVICES_OBJECT_SUPPLY_SERVICE_QUANTITY_SCOPE_F01_DIVISION_INTO_LOTS.F01_DIV_INTO_LOT_YES.LOT_SCHEDULED_DATE_PERIOD.PROCEDURE_DATE_STARTING\", expr(\"make_date(`FD_OBJECT_SUPPLIES_SERVICES_OBJECT_SUPPLY_SERVICE_QUANTITY_SCOPE_F01_DIVISION_INTO_LOTS.F01_DIV_INTO_LOT_YES.LOT_SCHEDULED_DATE_PERIOD.PROCEDURE_DATE_STARTING.YEAR`, `FD_OBJECT_SUPPLIES_SERVICES_OBJECT_SUPPLY_SERVICE_QUANTITY_SCOPE_F01_DIVISION_INTO_LOTS.F01_DIV_INTO_LOT_YES.LOT_SCHEDULED_DATE_PERIOD.PROCEDURE_DATE_STARTING.MONTH`, `FD_OBJECT_SUPPLIES_SERVICES_OBJECT_SUPPLY_SERVICE_QUANTITY_SCOPE_F01_DIVISION_INTO_LOTS.F01_DIV_INTO_LOT_YES.LOT_SCHEDULED_DATE_PERIOD.PROCEDURE_DATE_STARTING.DAY`)\"))"
   ]
  },
  {
   "cell_type": "code",
   "execution_count": null,
   "id": "7eeda265-753e-44b4-aa3e-c082564dc500",
   "metadata": {},
   "outputs": [],
   "source": [
    "#fd1.printSchema()"
   ]
  },
  {
   "cell_type": "code",
   "execution_count": null,
   "id": "d38819a9-1cd7-4802-933b-b2493bca14b3",
   "metadata": {},
   "outputs": [],
   "source": [
    "pd1 = fd1.to_pandas_on_spark()"
   ]
  },
  {
   "cell_type": "code",
   "execution_count": null,
   "id": "e44b1889-12b7-4986-806f-2a70b5bd74b2",
   "metadata": {},
   "outputs": [],
   "source": [
    "#pd1.info()"
   ]
  },
  {
   "cell_type": "code",
   "execution_count": null,
   "id": "0e29e3a8-7af2-4dac-8366-d0d55c892275",
   "metadata": {},
   "outputs": [],
   "source": [
    "pd1 = pd1.drop(columns=['FD_OBJECT_SUPPLIES_SERVICES_OBJECT_SUPPLY_SERVICE_PROCEDURE_DATE_STARTING.DAY', 'FD_OBJECT_SUPPLIES_SERVICES_OBJECT_SUPPLY_SERVICE_PROCEDURE_DATE_STARTING.MONTH', 'FD_OBJECT_SUPPLIES_SERVICES_OBJECT_SUPPLY_SERVICE_PROCEDURE_DATE_STARTING.YEAR', 'FD_OBJECT_SUPPLIES_SERVICES_OBJECT_SUPPLY_SERVICE_QUANTITY_SCOPE_F01_DIVISION_INTO_LOTS.F01_DIV_INTO_LOT_YES.LOT_SCHEDULED_DATE_PERIOD.PERIOD_WORK_DATE_STARTING.INTERVAL_DATE.END_DATE.DAY', 'FD_OBJECT_SUPPLIES_SERVICES_OBJECT_SUPPLY_SERVICE_QUANTITY_SCOPE_F01_DIVISION_INTO_LOTS.F01_DIV_INTO_LOT_YES.LOT_SCHEDULED_DATE_PERIOD.PERIOD_WORK_DATE_STARTING.INTERVAL_DATE.END_DATE.MONTH', 'FD_OBJECT_SUPPLIES_SERVICES_OBJECT_SUPPLY_SERVICE_QUANTITY_SCOPE_F01_DIVISION_INTO_LOTS.F01_DIV_INTO_LOT_YES.LOT_SCHEDULED_DATE_PERIOD.PERIOD_WORK_DATE_STARTING.INTERVAL_DATE.END_DATE.YEAR', 'FD_OBJECT_SUPPLIES_SERVICES_OBJECT_SUPPLY_SERVICE_QUANTITY_SCOPE_F01_DIVISION_INTO_LOTS.F01_DIV_INTO_LOT_YES.LOT_SCHEDULED_DATE_PERIOD.PERIOD_WORK_DATE_STARTING.INTERVAL_DATE.START_DATE.DAY', 'FD_OBJECT_SUPPLIES_SERVICES_OBJECT_SUPPLY_SERVICE_QUANTITY_SCOPE_F01_DIVISION_INTO_LOTS.F01_DIV_INTO_LOT_YES.LOT_SCHEDULED_DATE_PERIOD.PERIOD_WORK_DATE_STARTING.INTERVAL_DATE.START_DATE.MONTH', 'FD_OBJECT_SUPPLIES_SERVICES_OBJECT_SUPPLY_SERVICE_QUANTITY_SCOPE_F01_DIVISION_INTO_LOTS.F01_DIV_INTO_LOT_YES.LOT_SCHEDULED_DATE_PERIOD.PERIOD_WORK_DATE_STARTING.INTERVAL_DATE.START_DATE.YEAR', 'FD_OBJECT_SUPPLIES_SERVICES_OBJECT_SUPPLY_SERVICE_QUANTITY_SCOPE_F01_DIVISION_INTO_LOTS.F01_DIV_INTO_LOT_YES.LOT_SCHEDULED_DATE_PERIOD.PROCEDURE_DATE_STARTING.DAY', 'FD_OBJECT_SUPPLIES_SERVICES_OBJECT_SUPPLY_SERVICE_QUANTITY_SCOPE_F01_DIVISION_INTO_LOTS.F01_DIV_INTO_LOT_YES.LOT_SCHEDULED_DATE_PERIOD.PROCEDURE_DATE_STARTING.MONTH', 'FD_OBJECT_SUPPLIES_SERVICES_OBJECT_SUPPLY_SERVICE_QUANTITY_SCOPE_F01_DIVISION_INTO_LOTS.F01_DIV_INTO_LOT_YES.LOT_SCHEDULED_DATE_PERIOD.PROCEDURE_DATE_STARTING.YEAR', 'FD_OBJECT_WORKS_SCHEDULED_DATE_PERIOD.PERIOD_WORK_DATE_STARTING.INTERVAL_DATE.END_DATE.DAY', 'FD_OBJECT_WORKS_SCHEDULED_DATE_PERIOD.PERIOD_WORK_DATE_STARTING.INTERVAL_DATE.END_DATE.MONTH', 'FD_OBJECT_WORKS_SCHEDULED_DATE_PERIOD.PERIOD_WORK_DATE_STARTING.INTERVAL_DATE.END_DATE.YEAR', 'FD_OBJECT_WORKS_SCHEDULED_DATE_PERIOD.PERIOD_WORK_DATE_STARTING.INTERVAL_DATE.START_DATE.DAY', 'FD_OBJECT_WORKS_SCHEDULED_DATE_PERIOD.PERIOD_WORK_DATE_STARTING.INTERVAL_DATE.START_DATE.MONTH', 'FD_OBJECT_WORKS_SCHEDULED_DATE_PERIOD.PERIOD_WORK_DATE_STARTING.INTERVAL_DATE.START_DATE.YEAR', 'FD_OTH_INFO_NOTICE_DISPATCH_DATE.DAY', 'FD_OTH_INFO_NOTICE_DISPATCH_DATE.MONTH', 'FD_OTH_INFO_NOTICE_DISPATCH_DATE.YEAR'])"
   ]
  },
  {
   "cell_type": "code",
   "execution_count": null,
   "id": "acc81cb6-113a-4d00-8969-916dd1ccd189",
   "metadata": {},
   "outputs": [],
   "source": [
    "#pd1.info()"
   ]
  },
  {
   "cell_type": "code",
   "execution_count": null,
   "id": "010c431f-8f4a-4853-9f76-de41adc03c5e",
   "metadata": {},
   "outputs": [],
   "source": [
    "pd1[\"FD_OBJECT_SUPPLIES_SERVICES_OBJECT_SUPPLY_SERVICE_PROCEDURE_DATE_STARTING\"]= ps.to_datetime(pd1[\"FD_OBJECT_SUPPLIES_SERVICES_OBJECT_SUPPLY_SERVICE_PROCEDURE_DATE_STARTING\"])\n",
    "pd1[\"FD_OBJECT_SUPPLIES_SERVICES_OBJECT_SUPPLY_SERVICE_QUANTITY_SCOPE_F01_DIVISION_INTO_LOTS.F01_DIV_INTO_LOT_YES.LOT_SCHEDULED_DATE_PERIOD.PERIOD_WORK_DATE_STARTING.INTERVAL_DATE.END_DATE\"]= ps.to_datetime(pd1[\"FD_OBJECT_SUPPLIES_SERVICES_OBJECT_SUPPLY_SERVICE_QUANTITY_SCOPE_F01_DIVISION_INTO_LOTS.F01_DIV_INTO_LOT_YES.LOT_SCHEDULED_DATE_PERIOD.PERIOD_WORK_DATE_STARTING.INTERVAL_DATE.END_DATE\"])\n",
    "pd1[\"FD_OBJECT_SUPPLIES_SERVICES_OBJECT_SUPPLY_SERVICE_QUANTITY_SCOPE_F01_DIVISION_INTO_LOTS.F01_DIV_INTO_LOT_YES.LOT_SCHEDULED_DATE_PERIOD.PERIOD_WORK_DATE_STARTING.INTERVAL_DATE.START_DATE\"]= ps.to_datetime(pd1[\"FD_OBJECT_SUPPLIES_SERVICES_OBJECT_SUPPLY_SERVICE_QUANTITY_SCOPE_F01_DIVISION_INTO_LOTS.F01_DIV_INTO_LOT_YES.LOT_SCHEDULED_DATE_PERIOD.PERIOD_WORK_DATE_STARTING.INTERVAL_DATE.START_DATE\"])\n",
    "pd1[\"FD_OBJECT_SUPPLIES_SERVICES_OBJECT_SUPPLY_SERVICE_QUANTITY_SCOPE_F01_DIVISION_INTO_LOTS.F01_DIV_INTO_LOT_YES.LOT_SCHEDULED_DATE_PERIOD.PROCEDURE_DATE_STARTING\"]= ps.to_datetime(pd1[\"FD_OBJECT_SUPPLIES_SERVICES_OBJECT_SUPPLY_SERVICE_QUANTITY_SCOPE_F01_DIVISION_INTO_LOTS.F01_DIV_INTO_LOT_YES.LOT_SCHEDULED_DATE_PERIOD.PROCEDURE_DATE_STARTING\"])\n",
    "pd1[\"FD_OBJECT_WORKS_SCHEDULED_DATE_PERIOD.PERIOD_WORK_DATE_STARTING.INTERVAL_DATE.END_DATE\"]= ps.to_datetime(pd1[\"FD_OBJECT_WORKS_SCHEDULED_DATE_PERIOD.PERIOD_WORK_DATE_STARTING.INTERVAL_DATE.END_DATE\"])\n",
    "pd1[\"FD_OBJECT_WORKS_SCHEDULED_DATE_PERIOD.PERIOD_WORK_DATE_STARTING.INTERVAL_DATE.START_DATE\"]= ps.to_datetime(pd1[\"FD_OBJECT_WORKS_SCHEDULED_DATE_PERIOD.PERIOD_WORK_DATE_STARTING.INTERVAL_DATE.START_DATE\"])\n",
    "pd1[\"FD_OTH_INFO_NOTICE_DISPATCH_DATE\"]= ps.to_datetime(pd1[\"FD_OTH_INFO_NOTICE_DISPATCH_DATE\"])"
   ]
  },
  {
   "cell_type": "code",
   "execution_count": null,
   "id": "1060a9e6-0cd5-4256-893f-430a2ca80723",
   "metadata": {},
   "outputs": [],
   "source": [
    "#pd1.info()"
   ]
  },
  {
   "cell_type": "code",
   "execution_count": null,
   "id": "d5b41b7e-eaa6-41fe-aa20-242c1c6eb5f0",
   "metadata": {},
   "outputs": [],
   "source": [
    "#pd1 = pd1.rename(columns=lambda x_ re.sub('', '', x))\n",
    "#pd1 = pd1.rename(columns=lambda x_ re.sub('', '', x))"
   ]
  },
  {
   "cell_type": "markdown",
   "id": "e92ed311-5df2-40ba-8e5c-bc956a3c4740",
   "metadata": {},
   "source": [
    "Doffin can have one main CPV code and where there are LOT Each LOT can have another main CPV code.  \n",
    "https_//doffin.no/Notice/Details/2014-462423\n"
   ]
  },
  {
   "cell_type": "code",
   "execution_count": null,
   "id": "ee77a0d3-6449-45ed-9472-22db8ec4da76",
   "metadata": {},
   "outputs": [],
   "source": [
    "pd1 = pd1.rename(columns=lambda x_ re.sub('FD_OTH_INFO_NOTICE_DISPATCH_DATE', 'COMPLEMENTARY_INFO.DATE_DISPATCH_NOTICE', x))\n",
    "pd1 = pd1.rename(columns=lambda x_ re.sub('FD_AUTHORITY_NAME_ADDRESSES_CONTACT_CA_CE_CONCESSIONAIRE_PROFILE.', 'CONTRACTING_BODY.ADDRESS_CONTRACTING_BODY.', x))\n",
    "pd1 = pd1.rename(columns=lambda x_ re.sub('FD_AUTHORITY_NAME_ADDRESSES_CONTACT_FURTHER_INFORMATION.', 'CONTRACTING_BODY.ADDRESS_FURTHER_INFO.', x))\n",
    "#pd1 = pd1.rename(columns=lambda x_ re.sub('', 'CONTRACTING_BODY.ADDRESS_PARTICIPATION.', x))\n",
    "pd1 = pd1.rename(columns=lambda x_ re.sub('FD_OBJECT_SUPPLIES_SERVICES_OBJECT_SUPPLY_SERVICE_ITEM', 'OBJECT_CONTRACT.ITEM', x))\n",
    "#pd1 = pd1.rename(columns=lambda x_ re.sub('', 'OBJECT_CONTRACT.OBJECT_DESCR.ITEM', x))\n",
    "pd1 = pd1.rename(columns=lambda x_ re.sub('FD_OBJECT_SUPPLIES_SERVICES_OBJECT_SUPPLY_SERVICE_CPV.CPV_MAIN.CPV_CODE.CODE', 'OBJECT_CONTRACT.CPV_MAIN.CPV_CODE.CODE', x))\n",
    "\n",
    "pd1 = pd1.rename(columns=lambda x_ re.sub('FD_OBJECT_SUPPLIES_SERVICES_OBJECT_SUPPLY_SERVICE_QUANTITY_SCOPE_F01_DIVISION_INTO_LOTS.F01_DIV_INTO_LOT_YES.LOT_LOT_NUMBER', 'OBJECT_CONTRACT.OBJECT_DESCR.LOT_NO', x))\n",
    "pd1 = pd1.rename(columns=lambda x_ re.sub('FD_OBJECT_SUPPLIES_SERVICES_OBJECT_SUPPLY_SERVICE_TITLE_CONTRACT', 'OBJECT_CONTRACT.TITLE', x))\n",
    "#pd1 = pd1.rename(columns=lambda x_ re.sub('', 'OBJECT_CONTRACT.SHORT_DESCR', x))\n",
    "pd1 = pd1.rename(columns=lambda x_ re.sub('FD_OBJECT_SUPPLIES_SERVICES_OBJECT_SUPPLY_SERVICE_QUANTITY_SCOPE_F01_DIVISION_INTO_LOTS.F01_DIV_INTO_LOT_YES.LOT_LOT_DESCRIPTION', 'OBJECT_CONTRACT.OBJECT_DESCR.SHORT_DESCR', x))\n",
    "pd1 = pd1.rename(columns=lambda x_ re.sub('FD_OBJECT_SUPPLIES_SERVICES_OBJECT_SUPPLY_SERVICE_QUANTITY_SCOPE_F01_DIVISION_INTO_LOTS.F01_DIV_INTO_LOT_YES.LOT_LOT_TITLE', 'OBJECT_CONTRACT.OBJECT_DESCR.TITLE', x))\n",
    "pd1 = pd1.rename(columns=lambda x_ re.sub('FD_OBJECT_SUPPLIES_SERVICES_OBJECT_SUPPLY_SERVICE_TYPE_CONTRACT_PLACE_DELIVERY.SITE_OR_LOCATION.NUTS.CODE', 'OBJECT_CONTRACT.OBJECT_DESCR.NUTS.CODE', x))\n",
    "pd1 = pd1.rename(columns=lambda x_ re.sub('FD_OBJECT_SUPPLIES_SERVICES_OBJECT_SUPPLY_SERVICE_TYPE_CONTRACT_PLACE_DELIVERY.SITE_OR_LOCATION.LABEL', 'OBJECT_CONTRACT.OBJECT_DESCR.MAIN_SITE', x))\n",
    "pd1 = pd1.rename(columns=lambda x_ re.sub('FD_CTYPE', 'OBJECT_CONTRACT.TYPE_CONTRACT.CTYPE', x))\n",
    "pd1 = pd1.rename(columns=lambda x_ re.sub('FD_OTH_INFO_RELATES_TO_EU_PROJECT_YES', 'OBJECT_CONTRACT.OBJECT_DESCR.EU_PROGR_RELATED', x))\n",
    "\"\"\"\n",
    "pd1 = pd1.rename(columns=lambda x_ re.sub('FD_LEFTI_MAIN_FINANCING_CONDITIONS', 'LEFTI.MAIN_FINANCING_CONDITIONS', x))\n",
    "pd1 = pd1.rename(columns=lambda x_ re.sub('', '', x))\n",
    "pd1 = pd1.rename(columns=lambda x_ re.sub('', '', x))\n",
    "pd1 = pd1.rename(columns=lambda x_ re.sub('', '', x))\n",
    "pd1 = pd1.rename(columns=lambda x_ re.sub('', '', x))\n",
    "pd1 = pd1.rename(columns=lambda x_ re.sub('', '', x))\n",
    "pd1 = pd1.rename(columns=lambda x_ re.sub('', '', x))\n",
    "\"\"\""
   ]
  },
  {
   "cell_type": "code",
   "execution_count": null,
   "id": "0dc4529f-6b43-40a0-9ddf-b88547487d9f",
   "metadata": {},
   "outputs": [],
   "source": [
    "#pd1.info()"
   ]
  },
  {
   "cell_type": "code",
   "execution_count": null,
   "id": "39e9aaf3-f6dc-4d84-86e4-5adcd791151c",
   "metadata": {},
   "outputs": [],
   "source": [
    "pd1 = pd1.rename(columns=lambda x_ re.sub('SUPPLIES_SERVICES_OBJECT_SUPPLY_SERVICE_', '', x))\n",
    "pd1 = pd1.rename(columns=lambda x_ re.sub('_OTH', '', x))\n",
    "pd1 = pd1.rename(columns=lambda x_ re.sub('F01_', '', x))\n",
    "#pd1 = pd1.rename(columns=lambda x_ re.sub('', '', x))\n",
    "#pd1 = pd1.rename(columns=lambda x_ re.sub('', '', x))\n",
    "#pd1 = pd1.rename(columns=lambda x_ re.sub('', '', x))"
   ]
  },
  {
   "cell_type": "code",
   "execution_count": null,
   "id": "d23549c0-9885-4972-b39a-54f59d31754e",
   "metadata": {},
   "outputs": [],
   "source": [
    "#pd1.info()"
   ]
  },
  {
   "cell_type": "code",
   "execution_count": null,
   "id": "d5ab47a7-c511-4b3f-8abf-205dc057101c",
   "metadata": {},
   "outputs": [],
   "source": [
    "pd1.head()"
   ]
  },
  {
   "cell_type": "code",
   "execution_count": null,
   "id": "f46075ee-540d-487e-9ef9-b81c945d8f18",
   "metadata": {},
   "outputs": [],
   "source": [
    "pd1[['OBJECT_CONTRACT.TITLE', 'FD_OBJECT_SUPPLIES_SERVICES_OBJECT_SUPPLY_SERVICE_CPV.CPV_ADDITIONAL.CPV_CODE.CODE', 'FD_OBJECT_SUPPLIES_SERVICES_OBJECT_SUPPLY_SERVICE_QUANTITY_SCOPE_F01_DIVISION_INTO_LOTS.F01_DIV_INTO_LOT_YES.LOT_CPV.CPV_ADDITIONAL.CPV_CODE.CODE']].head()"
   ]
  },
  {
   "cell_type": "code",
   "execution_count": null,
   "id": "d402ed91-2c16-4634-ae3d-18249b1d802a",
   "metadata": {},
   "outputs": [],
   "source": [
    "#pd1['FD_OTH_INFO_ADDITIONAL_INFORMATION'].isnull().head()"
   ]
  },
  {
   "cell_type": "code",
   "execution_count": null,
   "id": "a50826bb-e7ba-4dd2-80c3-8308db46ae63",
   "metadata": {},
   "outputs": [],
   "source": [
    "#pd1.head()"
   ]
  },
  {
   "cell_type": "code",
   "execution_count": null,
   "id": "34b2ed36-922b-40f2-b59c-f0e46fb55664",
   "metadata": {},
   "outputs": [],
   "source": [
    "fd1 = pd1.to_spark()"
   ]
  },
  {
   "cell_type": "code",
   "execution_count": null,
   "id": "bc79b2b9-700a-4922-ad8a-715981b3da8f",
   "metadata": {},
   "outputs": [],
   "source": [
    "fd1.write.parquet(\"s3a_//falk2210/fd1_210921.parquet\")"
   ]
  },
  {
   "cell_type": "code",
   "execution_count": null,
   "id": "1f4807cc-f7fe-4867-8b6e-876ab6f88bce",
   "metadata": {},
   "outputs": [],
   "source": [
    "fd1.write.mode('append').json(\"s3a_//falk2210/fd1.json\")"
   ]
  },
  {
   "cell_type": "code",
   "execution_count": null,
   "id": "c3a83c86-a747-480a-94eb-c5e1160c3d4d",
   "metadata": {},
   "outputs": [],
   "source": [
    "fd1.write.mode('append').json(\"s3a_//falk2210/_pri.json\")"
   ]
  },
  {
   "cell_type": "code",
   "execution_count": null,
   "id": "0120ae47-8f87-4825-8ebb-0bd2df436a37",
   "metadata": {},
   "outputs": [],
   "source": [
    "fd1.write.mode('append').parquet(\"s3a_//falk2210/pri.parquet\")"
   ]
  },
  {
   "cell_type": "code",
   "execution_count": null,
   "id": "b75c75ba-59c5-4b08-ab3d-68e01f2d6cde",
   "metadata": {},
   "outputs": [],
   "source": [
    "spark.stop()"
   ]
  },
  {
   "cell_type": "markdown",
   "id": "a6cfbd73-a4e5-4b5c-88c0-801b357cac1d",
   "metadata": {
    "jp-MarkdownHeadingCollapsed": true,
    "tags": []
   },
   "source": [
    "# 2 Contract "
   ]
  },
  {
   "cell_type": "markdown",
   "id": "f7195054-fa53-45c8-898a-ed03ef52251d",
   "metadata": {},
   "source": [
    "<a id='d2' />"
   ]
  },
  {
   "cell_type": "code",
   "execution_count": null,
   "id": "a966d90b-4475-4f94-b223-3fafb8d4bf23",
   "metadata": {},
   "outputs": [],
   "source": [
    "d2 = spark.read.json(\"falk/2.json/*.json\")\n",
    "#d2.printSchema()"
   ]
  },
  {
   "cell_type": "code",
   "execution_count": null,
   "id": "3622d0f5-6fa6-41e9-8057-d533b04f36a1",
   "metadata": {},
   "outputs": [],
   "source": [
    "pd2 = d2.to_pandas_on_spark()"
   ]
  },
  {
   "cell_type": "code",
   "execution_count": null,
   "id": "5f0cd075-af58-44a4-9a5f-3ed98b44486e",
   "metadata": {},
   "outputs": [],
   "source": [
    "pd2 = pd2.rename(columns=lambda x_ re.sub('DOFFIN_ESENDERS_VERSION', 'DOFFIN_VERSION', x))\n",
    "pd2 = pd2.rename(columns=lambda x_ re.sub('DOFFIN_ESENDERS_', '', x))\n",
    "pd2 = pd2.rename(columns=lambda x_ re.sub('FORM_SECTION_', '', x))\n",
    "pd2 = pd2.rename(columns=lambda x_ re.sub('CONTRACT_', '', x))"
   ]
  },
  {
   "cell_type": "code",
   "execution_count": null,
   "id": "293d4ee6-b77e-4814-93d7-32253df1f3da",
   "metadata": {},
   "outputs": [],
   "source": [
    "pd2['FD_LEFTI_CONTRACT_RELATING_CONDITIONS_DEPOSITS_GUARANTEES_REQUIRED'].update(pd2.pop('FD_LEFTI_CONTRACT_RELATING_CONDITIONS_DEPOSITS_GUARANTEES_REQUIRED_P'))\n",
    "pd2['FD_LEFTI_CONTRACT_RELATING_CONDITIONS_EXISTENCE_OTHER_PARTICULAR_CONDITIONS'].update(pd2.pop('FD_LEFTI_CONTRACT_RELATING_CONDITIONS_EXISTENCE_OTHER_PARTICULAR_CONDITIONS_P'))\n",
    "pd2['FD_LEFTI_CONTRACT_RELATING_CONDITIONS_LEGAL_FORM'].update(pd2.pop('FD_LEFTI_CONTRACT_RELATING_CONDITIONS_LEGAL_FORM_P'))\n",
    "pd2['FD_LEFTI_CONTRACT_RELATING_CONDITIONS_MAIN_FINANCING_CONDITIONS'].update(pd2.pop('FD_LEFTI_CONTRACT_RELATING_CONDITIONS_MAIN_FINANCING_CONDITIONS_P'))\n",
    "pd2['FD_LEFTI_F02_CONDITIONS_FOR_PARTICIPATION_ECONOMIC_OPERATORS_PERSONAL_SITUATION'].update(pd2.pop('FD_LEFTI_F02_CONDITIONS_FOR_PARTICIPATION_ECONOMIC_OPERATORS_PERSONAL_SITUATION_P'))\n",
    "pd2['FD_LEFTI_F02_CONDITIONS_FOR_PARTICIPATION_F02_ECONOMIC_FINANCIAL_CAPACITY_EAF_CAPACITY_INFORMATION'].update(pd2.pop('FD_LEFTI_F02_CONDITIONS_FOR_PARTICIPATION_F02_ECONOMIC_FINANCIAL_CAPACITY_EAF_CAPACITY_INFORMATION_P'))\n",
    "pd2['FD_LEFTI_F02_CONDITIONS_FOR_PARTICIPATION_F02_ECONOMIC_FINANCIAL_CAPACITY_EAF_CAPACITY_MIN_LEVEL'].update(pd2.pop('FD_LEFTI_F02_CONDITIONS_FOR_PARTICIPATION_F02_ECONOMIC_FINANCIAL_CAPACITY_EAF_CAPACITY_MIN_LEVEL_P'))\n",
    "pd2['FD_LEFTI_F02_CONDITIONS_FOR_PARTICIPATION_TECHNICAL_CAPACITY_LEFTI_T_CAPACITY_INFORMATION'].update(pd2.pop('FD_LEFTI_F02_CONDITIONS_FOR_PARTICIPATION_TECHNICAL_CAPACITY_LEFTI_T_CAPACITY_INFORMATION_P'))\n",
    "pd2['FD_LEFTI_F02_CONDITIONS_FOR_PARTICIPATION_TECHNICAL_CAPACITY_LEFTI_T_CAPACITY_MIN_LEVEL'].update(pd2.pop('FD_LEFTI_F02_CONDITIONS_FOR_PARTICIPATION_TECHNICAL_CAPACITY_LEFTI_T_CAPACITY_MIN_LEVEL_P'))\n",
    "pd2['FD_LEFTI_SERVICES_CONTRACTS_SPECIFIC_CONDITIONS_EXECUTION_SERVICE_RESERVED_PARTICULAR_PROFESSION'].update(pd2.pop('FD_LEFTI_SERVICES_CONTRACTS_SPECIFIC_CONDITIONS_EXECUTION_SERVICE_RESERVED_PARTICULAR_PROFESSION_P'))\n",
    "pd2['FD_OBJECT_CONTRACT_INFORMATION_DESCRIPTION_CONTRACT_INFORMATION_F02_DIVISION_INTO_LOTS_F02_DIV_INTO_LOT_YES_F02_ANNEX_B_ADDITIONAL_INFORMATION_ABOUT_LOTS'].update(pd2.pop('FD_OBJECT_CONTRACT_INFORMATION_DESCRIPTION_CONTRACT_INFORMATION_F02_DIVISION_INTO_LOTS_F02_DIV_INTO_LOT_YES_F02_ANNEX_B_ADDITIONAL_INFORMATION_ABOUT_LOTS_P'))\n",
    "pd2['FD_OBJECT_CONTRACT_INFORMATION_DESCRIPTION_CONTRACT_INFORMATION_F02_DIVISION_INTO_LOTS_F02_DIV_INTO_LOT_YES_F02_ANNEX_B_LOT_DESCRIPTION'].update(pd2.pop('FD_OBJECT_CONTRACT_INFORMATION_DESCRIPTION_CONTRACT_INFORMATION_F02_DIVISION_INTO_LOTS_F02_DIV_INTO_LOT_YES_F02_ANNEX_B_LOT_DESCRIPTION_P'))\n",
    "pd2['FD_OBJECT_CONTRACT_INFORMATION_DESCRIPTION_CONTRACT_INFORMATION_F02_DIVISION_INTO_LOTS_F02_DIV_INTO_LOT_YES_F02_ANNEX_B_NATURE_QUANTITY_SCOPE_TOTAL_QUANTITY_OR_SCOPE'].update(pd2.pop('FD_OBJECT_CONTRACT_INFORMATION_DESCRIPTION_CONTRACT_INFORMATION_F02_DIVISION_INTO_LOTS_F02_DIV_INTO_LOT_YES_F02_ANNEX_B_NATURE_QUANTITY_SCOPE_TOTAL_QUANTITY_OR_SCOPE_P'))\n",
    "pd2['FD_OBJECT_CONTRACT_INFORMATION_DESCRIPTION_CONTRACT_INFORMATION_F02_FRAMEWORK_JUSTIFICATION'].update(pd2.pop('FD_OBJECT_CONTRACT_INFORMATION_DESCRIPTION_CONTRACT_INFORMATION_F02_FRAMEWORK_JUSTIFICATION_P'))\n",
    "pd2['FD_OBJECT_CONTRACT_INFORMATION_DESCRIPTION_CONTRACT_INFORMATION_F02_FRAMEWORK_TOTAL_ESTIMATED_FREQUENCY_AWARDED_CONTRACTS'].update(pd2.pop('FD_OBJECT_CONTRACT_INFORMATION_DESCRIPTION_CONTRACT_INFORMATION_F02_FRAMEWORK_TOTAL_ESTIMATED_FREQUENCY_AWARDED_CONTRACTS_P'))\n",
    "pd2['FD_OBJECT_CONTRACT_INFORMATION_DESCRIPTION_CONTRACT_INFORMATION_LOCATION_NUTS_LOCATION'].update(pd2.pop('FD_OBJECT_CONTRACT_INFORMATION_DESCRIPTION_CONTRACT_INFORMATION_LOCATION_NUTS_LOCATION_P'))\n",
    "pd2['FD_OBJECT_CONTRACT_INFORMATION_DESCRIPTION_CONTRACT_INFORMATION_SHORT_CONTRACT_DESCRIPTION'].update(pd2.pop('FD_OBJECT_CONTRACT_INFORMATION_DESCRIPTION_CONTRACT_INFORMATION_SHORT_CONTRACT_DESCRIPTION_P'))\n",
    "pd2['FD_OBJECT_CONTRACT_INFORMATION_QUANTITY_SCOPE_NATURE_QUANTITY_SCOPE_TOTAL_QUANTITY_OR_SCOPE'].update(pd2.pop('FD_OBJECT_CONTRACT_INFORMATION_QUANTITY_SCOPE_NATURE_QUANTITY_SCOPE_TOTAL_QUANTITY_OR_SCOPE_P'))\n",
    "pd2['FD_OBJECT_CONTRACT_INFORMATION_QUANTITY_SCOPE_OPTIONS_OPTION_DESCRIPTION'].update(pd2.pop('FD_OBJECT_CONTRACT_INFORMATION_QUANTITY_SCOPE_OPTIONS_OPTION_DESCRIPTION_P'))\n",
    "pd2['FD_PROCEDURE_DEFINITION_CONTRACT_NOTICE_ADMINISTRATIVE_INFORMATION_CONTRACT_NOTICE_CONDITIONS_FOR_OPENING_TENDERS_PLACE_OPENING_PLACE_NOT_STRUCTURED'].update(pd2.pop('FD_PROCEDURE_DEFINITION_CONTRACT_NOTICE_ADMINISTRATIVE_INFORMATION_CONTRACT_NOTICE_CONDITIONS_FOR_OPENING_TENDERS_PLACE_OPENING_PLACE_NOT_STRUCTURED_P'))\n",
    "pd2['FD_PROCEDURE_DEFINITION_CONTRACT_NOTICE_ADMINISTRATIVE_INFORMATION_CONTRACT_NOTICE_FILE_REFERENCE_NUMBER'].update(pd2.pop('FD_PROCEDURE_DEFINITION_CONTRACT_NOTICE_ADMINISTRATIVE_INFORMATION_CONTRACT_NOTICE_FILE_REFERENCE_NUMBER_P'))\n",
    "pd2['FD_PROCEDURE_DEFINITION_CONTRACT_NOTICE_ADMINISTRATIVE_INFORMATION_CONTRACT_NOTICE_LANGUAGE_LANGUAGE_OTHER'].update(pd2.pop('FD_PROCEDURE_DEFINITION_CONTRACT_NOTICE_ADMINISTRATIVE_INFORMATION_CONTRACT_NOTICE_LANGUAGE_LANGUAGE_OTHER_P'))\n",
    "pd2['FD_PROCEDURE_DEFINITION_CONTRACT_NOTICE_TYPE_OF_PROCEDURE_MAXIMUM_NUMBER_INVITED_OPE_OBJECTIVE_CRITERIA'].update(pd2.pop('FD_PROCEDURE_DEFINITION_CONTRACT_NOTICE_TYPE_OF_PROCEDURE_MAXIMUM_NUMBER_INVITED_OPE_OBJECTIVE_CRITERIA_P'))\n",
    "pd2['FD_PROCEDURE_DEFINITION_CONTRACT_NOTICE_TYPE_OF_PROCEDURE_TYPE_OF_PROCEDURE_DETAIL_FOR_CONTRACT_NOTICE_F02_PT_ACCELERATED_NEGOTIATED_PTAN_JUSTIFICATION'].update(pd2.pop('FD_PROCEDURE_DEFINITION_CONTRACT_NOTICE_TYPE_OF_PROCEDURE_TYPE_OF_PROCEDURE_DETAIL_FOR_CONTRACT_NOTICE_F02_PT_ACCELERATED_NEGOTIATED_PTAN_JUSTIFICATION_P'))\n",
    "pd2['FD_COMPLEMENTARY_INFORMATION_CONTRACT_NOTICE_RECURRENT_PROCUREMENT'].update(pd2.pop('FD_COMPLEMENTARY_INFORMATION_CONTRACT_NOTICE_RECURRENT_PROCUREMENT_P'))\n",
    "pd2['FD_COMPLEMENTARY_INFORMATION_CONTRACT_NOTICE_ADDITIONAL_INFORMATION'].update(pd2.pop('FD_COMPLEMENTARY_INFORMATION_CONTRACT_NOTICE_ADDITIONAL_INFORMATION_P'))\n",
    "pd2['FD_COMPLEMENTARY_INFORMATION_CONTRACT_NOTICE_PROCEDURES_FOR_APPEAL_LODGING_OF_APPEALS_LODGING_OF_APPEALS_PRECISION'].update(pd2.pop('FD_COMPLEMENTARY_INFORMATION_CONTRACT_NOTICE_PROCEDURES_FOR_APPEAL_LODGING_OF_APPEALS_LODGING_OF_APPEALS_PRECISION_P'))"
   ]
  },
  {
   "cell_type": "code",
   "execution_count": null,
   "id": "5d6d2213-577d-441b-8632-3c3b0a2861df",
   "metadata": {},
   "outputs": [],
   "source": [
    "pd2['FD_COMPLEMENTARY_INFORMATION_CONTRACT_NOTICE_PROCEDURES_FOR_APPEAL_APPEAL_PROCEDURE_BODY_RESPONSIBLE_CONTACT_DATA_WITHOUT_RESPONSIBLE_NAME_ADDRESS'].update(pd2.pop('FD_COMPLEMENTARY_INFORMATION_CONTRACT_NOTICE_PROCEDURES_FOR_APPEAL_LODGING_INFORMATION_FOR_SERVICE_CONTACT_DATA_WITHOUT_RESPONSIBLE_NAME_ADDRESS'))\n",
    "pd2['FD_COMPLEMENTARY_INFORMATION_CONTRACT_NOTICE_PROCEDURES_FOR_APPEAL_APPEAL_PROCEDURE_BODY_RESPONSIBLE_CONTACT_DATA_WITHOUT_RESPONSIBLE_NAME_COUNTRY_VALUE'].update(pd2.pop('FD_COMPLEMENTARY_INFORMATION_CONTRACT_NOTICE_PROCEDURES_FOR_APPEAL_LODGING_INFORMATION_FOR_SERVICE_CONTACT_DATA_WITHOUT_RESPONSIBLE_NAME_COUNTRY_VALUE'))\n",
    "pd2['FD_COMPLEMENTARY_INFORMATION_CONTRACT_NOTICE_PROCEDURES_FOR_APPEAL_APPEAL_PROCEDURE_BODY_RESPONSIBLE_CONTACT_DATA_WITHOUT_RESPONSIBLE_NAME_E_MAILS_E_MAIL'].update(pd2.pop('FD_COMPLEMENTARY_INFORMATION_CONTRACT_NOTICE_PROCEDURES_FOR_APPEAL_LODGING_INFORMATION_FOR_SERVICE_CONTACT_DATA_WITHOUT_RESPONSIBLE_NAME_E_MAILS_E_MAIL'))\n",
    "pd2['FD_COMPLEMENTARY_INFORMATION_CONTRACT_NOTICE_PROCEDURES_FOR_APPEAL_APPEAL_PROCEDURE_BODY_RESPONSIBLE_CONTACT_DATA_WITHOUT_RESPONSIBLE_NAME_FAX'].update(pd2.pop('FD_COMPLEMENTARY_INFORMATION_CONTRACT_NOTICE_PROCEDURES_FOR_APPEAL_LODGING_INFORMATION_FOR_SERVICE_CONTACT_DATA_WITHOUT_RESPONSIBLE_NAME_FAX'))\n",
    "pd2['FD_COMPLEMENTARY_INFORMATION_CONTRACT_NOTICE_PROCEDURES_FOR_APPEAL_APPEAL_PROCEDURE_BODY_RESPONSIBLE_CONTACT_DATA_WITHOUT_RESPONSIBLE_NAME_ORGANISATION_NATIONALID'].update(pd2.pop('FD_COMPLEMENTARY_INFORMATION_CONTRACT_NOTICE_PROCEDURES_FOR_APPEAL_LODGING_INFORMATION_FOR_SERVICE_CONTACT_DATA_WITHOUT_RESPONSIBLE_NAME_ORGANISATION_NATIONALID'))\n",
    "pd2['FD_COMPLEMENTARY_INFORMATION_CONTRACT_NOTICE_PROCEDURES_FOR_APPEAL_APPEAL_PROCEDURE_BODY_RESPONSIBLE_CONTACT_DATA_WITHOUT_RESPONSIBLE_NAME_ORGANISATION_OFFICIALNAME'].update(pd2.pop('FD_COMPLEMENTARY_INFORMATION_CONTRACT_NOTICE_PROCEDURES_FOR_APPEAL_LODGING_INFORMATION_FOR_SERVICE_CONTACT_DATA_WITHOUT_RESPONSIBLE_NAME_ORGANISATION_OFFICIALNAME'))\n",
    "pd2['FD_COMPLEMENTARY_INFORMATION_CONTRACT_NOTICE_PROCEDURES_FOR_APPEAL_APPEAL_PROCEDURE_BODY_RESPONSIBLE_CONTACT_DATA_WITHOUT_RESPONSIBLE_NAME_PHONE'].update(pd2.pop('FD_COMPLEMENTARY_INFORMATION_CONTRACT_NOTICE_PROCEDURES_FOR_APPEAL_LODGING_INFORMATION_FOR_SERVICE_CONTACT_DATA_WITHOUT_RESPONSIBLE_NAME_PHONE'))\n",
    "pd2['FD_COMPLEMENTARY_INFORMATION_CONTRACT_NOTICE_PROCEDURES_FOR_APPEAL_APPEAL_PROCEDURE_BODY_RESPONSIBLE_CONTACT_DATA_WITHOUT_RESPONSIBLE_NAME_POSTAL_CODE'].update(pd2.pop('FD_COMPLEMENTARY_INFORMATION_CONTRACT_NOTICE_PROCEDURES_FOR_APPEAL_LODGING_INFORMATION_FOR_SERVICE_CONTACT_DATA_WITHOUT_RESPONSIBLE_NAME_POSTAL_CODE'))\n",
    "pd2['FD_COMPLEMENTARY_INFORMATION_CONTRACT_NOTICE_PROCEDURES_FOR_APPEAL_APPEAL_PROCEDURE_BODY_RESPONSIBLE_CONTACT_DATA_WITHOUT_RESPONSIBLE_NAME_TOWN'].update(pd2.pop('FD_COMPLEMENTARY_INFORMATION_CONTRACT_NOTICE_PROCEDURES_FOR_APPEAL_LODGING_INFORMATION_FOR_SERVICE_CONTACT_DATA_WITHOUT_RESPONSIBLE_NAME_TOWN'))\n",
    "pd2['FD_COMPLEMENTARY_INFORMATION_CONTRACT_NOTICE_PROCEDURES_FOR_APPEAL_APPEAL_PROCEDURE_BODY_RESPONSIBLE_CONTACT_DATA_WITHOUT_RESPONSIBLE_NAME_URL'].update(pd2.pop('FD_COMPLEMENTARY_INFORMATION_CONTRACT_NOTICE_PROCEDURES_FOR_APPEAL_LODGING_INFORMATION_FOR_SERVICE_CONTACT_DATA_WITHOUT_RESPONSIBLE_NAME_URL'))"
   ]
  },
  {
   "cell_type": "code",
   "execution_count": null,
   "id": "a954e6e9-2e77-4e37-af26-db5ff7a2f099",
   "metadata": {},
   "outputs": [],
   "source": [
    "#pd2['FD_COMPLEMENTARY_INFORMATION_CONTRACT_NOTICE_ADDITIONAL_INFORMATION'].update(pd2.pop('FD_COMPLEMENTARY_INFORMATION_CONTRACT_NOTICE_ADDITIONAL_INFORMATION_P'))\n",
    "#pd2['FD_COMPLEMENTARY_INFORMATION_CONTRACT_NOTICE_PROCEDURES_FOR_APPEAL_LODGING_OF_APPEALS_LODGING_OF_APPEALS_PRECISION'].update(pd2.pop('FD_COMPLEMENTARY_INFORMATION_CONTRACT_NOTICE_PROCEDURES_FOR_APPEAL_LODGING_OF_APPEALS_LODGING_OF_APPEALS_PRECISION_P'))"
   ]
  },
  {
   "cell_type": "code",
   "execution_count": null,
   "id": "f51b41d0-d05a-4134-ae80-dd3c1c58493b",
   "metadata": {},
   "outputs": [],
   "source": [
    "#pd2.info()"
   ]
  },
  {
   "cell_type": "code",
   "execution_count": null,
   "id": "a6961d75-5b71-457a-9b04-f54cb754203c",
   "metadata": {},
   "outputs": [],
   "source": [
    "pd2 = pd2.rename(columns=lambda x_ re.sub('\\_P$', '', x))\n",
    "#pd2.info()"
   ]
  },
  {
   "cell_type": "code",
   "execution_count": null,
   "id": "5ecac189-7e0e-4536-90d7-8f8b32b65e84",
   "metadata": {},
   "outputs": [],
   "source": [
    "pd2 = pd2.rename(columns=lambda x_ re.sub('DOFFIN_FORM_TYPE_NATIONAL_', '', x))\n",
    "pd2 = pd2.rename(columns=lambda x_ re.sub('FD_COMPLEMENTARY_INFORMATION_CONTRACT_NOTICE_PROCEDURES_FOR_APPEAL_MEDIATION_PROCEDURE_BODY_RESPONSIBLE_CONTACT_DATA_WITHOUT_RESPONSIBLE_NAME_', 'COMPLEMENTARY_INFO_ADDRESS_MEDIATION_BODY_', x))\n",
    "pd2 = pd2.rename(columns=lambda x_ re.sub('FD_CONTRACTING_AUTHORITY_INFORMATION_NAME_ADDRESSES_CONTACT_FURTHER_INFORMATION_', 'CONTRACTING_BODY_ADDRESS_FURTHER_INFO_', x))\n",
    "pd2 = pd2.rename(columns=lambda x_ re.sub('FD_COMPLEMENTARY_INFORMATION_CONTRACT_NOTICE_PROCEDURES_FOR_APPEAL_APPEAL_PROCEDURE_BODY_RESPONSIBLE_', 'COMPLEMENTARY_INFO_ADDRESS_REVIEW_BODY_', x))\n",
    "pd2 = pd2.rename(columns=lambda x_ re.sub('FD_CONTRACTING_AUTHORITY_INFORMATION_NAME_ADDRESSES_CONTACT_CA_CE_CONCESSIONAIRE_PROFILE_', 'CONTRACTING_BODY_ADDRESS_CONTRACTING_BODY_', x))\n",
    "pd2 = pd2.rename(columns=lambda x_ re.sub('FD_CONTRACTING_AUTHORITY_INFORMATION_TYPE_AND_ACTIVITIES_AND_PURCHASING_ON_BEHALF_PURCHASING_ON_BEHALF_PURCHASING_ON_BEHALF_YES_CONTACT_DATA_OTHER_BEHALF_CONTRACTING_AUTORITHY_', 'CONTRACTING_BODY_ADDRESS_PARTICIPATION_', x))\n",
    "\n",
    "pd2 = pd2.rename(columns=lambda x_ re.sub('FD_LEFTI_F02_CONDITIONS_FOR_PARTICIPATION_F02_ECONOMIC_FINANCIAL_CAPACITY_EAF_CAPACITY_INFORMATION', 'LEFTI_ECONOMIC_FINANCIAL_INFO', x))\n",
    "pd2 = pd2.rename(columns=lambda x_ re.sub('FD_LEFTI_F02_CONDITIONS_FOR_PARTICIPATION_F02_ECONOMIC_FINANCIAL_CAPACITY_EAF_CAPACITY_MIN_LEVEL', 'LEFTI_ECONOMIC_FINANCIAL_MIN_LEVEL', x))\n",
    "pd2 = pd2.rename(columns=lambda x_ re.sub('FD_LEFTI_F02_CONDITIONS_FOR_PARTICIPATION_TECHNICAL_CAPACITY_LEFTI_T_CAPACITY_INFORMATION', 'LEFTI_TECHNICAL_PROFESSIONAL_INFO', x))\n",
    "pd2 = pd2.rename(columns=lambda x_ re.sub('FD_LEFTI_F02_CONDITIONS_FOR_PARTICIPATION_TECHNICAL_CAPACITY_LEFTI_T_CAPACITY_MIN_LEVEL', 'LEFTI_TECHNICAL_PROFESSIONAL_MIN_LEVEL', x)) \n",
    "\n",
    "pd2 = pd2.rename(columns=lambda x_ re.sub('FD_OBJECT_CONTRACT_INFORMATION_DESCRIPTION_CONTRACT_INFORMATION_CPV_CPV_MAIN_CPV_CODE_CODE', 'OBJECT_CONTRACT_CPV_MAIN_CPV_CODE_CODE', x))\n",
    "pd2 = pd2.rename(columns=lambda x_ re.sub('FD_OBJECT_CONTRACT_INFORMATION_DESCRIPTION_CONTRACT_INFORMATION_CPV_ADDITIONAL_CPV_CODE_CODE', 'OBJECT_CONTRACT_OBJECT_DESCR_CPV_ADDITIONAL_CPV_SUPPLEMENTARY_CODE_CODE', x)) \n",
    "pd2 = pd2.rename(columns=lambda x_ re.sub('FD_OBJECT_CONTRACT_INFORMATION_DESCRIPTION_CONTRACT_INFORMATION_F02_DIVISION_INTO_LOTS_F02_DIV_INTO_LOT_YES_F02_ANNEX_B_CPV_CPV_ADDITIONAL', 'OBJECT_CONTRACT_OBJECT_DESCR_CPV_ADDITIONAL', x))\n",
    "pd2 = pd2.rename(columns=lambda x_ re.sub('FD_OBJECT_CONTRACT_INFORMATION_DESCRIPTION_CONTRACT_INFORMATION_F02_DIVISION_INTO_LOTS_F02_DIV_INTO_LOT_YES_F02_ANNEX_B_CPV_CPV_ADDITIONAL_CPV_CODE_CODE', 'OBJECT_CONTRACT_OBJECT_DESCR_CPV_ADDITIONAL_CPV_CODE_CODE', x))\n",
    "pd2 = pd2.rename(columns=lambda x_ re.sub('FD_OBJECT_CONTRACT_INFORMATION_DESCRIPTION_CONTRACT_INFORMATION_F02_DIVISION_INTO_LOTS_F02_DIV_INTO_LOT_YES_F02_ANNEX_B_ITEM', 'OBJECT_CONTRACT_OBJECT_DESCR_ITEM', x))\n",
    "pd2 = pd2.rename(columns=lambda x_ re.sub('FD_OBJECT_CONTRACT_INFORMATION_DESCRIPTION_CONTRACT_INFORMATION_F02_DIVISION_INTO_LOTS_F02_DIV_INTO_LOT_YES_F02_ANNEX_B_LOT_NUMBER', 'OBJECT_CONTRACT_OBJECT_DESCR_LOT_NO', x))\n",
    "pd2 = pd2.rename(columns=lambda x_ re.sub('FD_OBJECT_CONTRACT_INFORMATION_DESCRIPTION_CONTRACT_INFORMATION_F02_DIVISION_INTO_LOTS_F02_DIV_INTO_LOT_YES_F02_ANNEX_B_LOT_DESCRIPTION', 'OBJECT_CONTRACT_OBJECT_DESCR_SHORT_DESCR', x))\n",
    "pd2 = pd2.rename(columns=lambda x_ re.sub('FD_OBJECT_CONTRACT_INFORMATION_DESCRIPTION_CONTRACT_INFORMATION_F02_DIVISION_INTO_LOTS_F02_DIV_INTO_LOT_YES_F02_ANNEX_B_LOT_TITLE', 'OBJECT_CONTRACT_OBJECT_DESCR_TITLE', x))\n",
    "pd2 = pd2.rename(columns=lambda x_ re.sub('FD_OBJECT_CONTRACT_INFORMATION_DESCRIPTION_CONTRACT_INFORMATION_LOCATION_NUTS_NUTS_CODE', 'OBJECT_CONTRACT_OBJECT_DESCR_NUTS_CODE', x))\n",
    "pd2 = pd2.rename(columns=lambda x_ re.sub('FD_OBJECT_CONTRACT_INFORMATION_DESCRIPTION_CONTRACT_INFORMATION_LOCATION_NUTS_LOCATION', 'OBJECT_CONTRACT_OBJECT_DESCR_LOCATION', x))\n",
    "pd2 = pd2.rename(columns=lambda x_ re.sub('FD_OBJECT_CONTRACT_INFORMATION_DESCRIPTION_CONTRACT_INFORMATION_TITLE_CONTRACT', 'OBJECT_CONTRACT_TITLE', x))\n",
    "pd2 = pd2.rename(columns=lambda x_ re.sub('FD_PROCEDURE_DEFINITION_CONTRACT_NOTICE_ADMINISTRATIVE_INFORMATION_CONTRACT_NOTICE_CONDITIONS_FOR_OPENING_TENDERS_PLACE_OPENING_', 'PROCEDURE_OPENING_CONDITION_', x))\n",
    "pd2 = pd2.rename(columns=lambda x_ re.sub('FD_COMPLEMENTARY_INFORMATION_CONTRACT_NOTICE_ADDITIONAL_INFORMATION', 'COMPLEMENTARY_INFO_INFO_ADD', x))\n",
    "pd2 = pd2.rename(columns=lambda x_ re.sub('FD_COMPLEMENTARY_INFORMATION_CONTRACT_NOTICE_RELATES_TO_EU_PROJECT_YES', 'OBJECT_CONTRACT_OBJECT_DESCR_EU_PROGR_RELATED', x))\n",
    "pd2 = pd2.rename(columns=lambda x_ re.sub('FD_CONTRACTING_AUTHORITY_INFORMATION_NAME_ADDRESSES_CONTACT_INTERNET_ADDRESSES_URL_INFORMATION', 'CONTRACTING_BODY_URL_DOCUMENT', x))\n",
    "pd2 = pd2.rename(columns=lambda x_ re.sub('FD_CONTRACTING_AUTHORITY_INFORMATION_NAME_ADDRESSES_CONTACT_INTERNET_ADDRESSES_URL_PARTICIPATE', 'CONTRACTING_BODY_URL_PARTICIPATION', x))\n",
    "pd2 = pd2.rename(columns=lambda x_ re.sub('FD_CTYPE', 'OBJECT_CONTRACT_TYPE_CONTRACT_CTYPE', x))  \n",
    "pd2 = pd2.rename(columns=lambda x_ re.sub('FD_LEFTI_CONTRACT_RELATING_CONDITIONS_DEPOSITS_GUARANTEES_REQUIRED', 'LEFTI_DEPOSIT_GUARANTEE_REQUIRED', x))\n",
    "pd2 = pd2.rename(columns=lambda x_ re.sub('FD_LEFTI_CONTRACT_RELATING_CONDITIONS_LEGAL_FORM', 'LEFTI_LEGAL_FORM', x))\n",
    "pd2 = pd2.rename(columns=lambda x_ re.sub('FD_LEFTI_CONTRACT_RELATING_CONDITIONS_MAIN_FINANCING_CONDITIONS', 'LEFTI_MAIN_FINANCING_CONDITION', x))\n",
    "pd2 = pd2.rename(columns=lambda x_ re.sub('FD_OBJECT_CONTRACT_INFORMATION_DESCRIPTION_CONTRACT_INFORMATION_CONTRACT_COVERED_GPA_VALUE', 'PROCEDURE_CONTRACT_COVERED_GPA_CTYPE', x))                                       \n",
    "pd2 = pd2.rename(columns=lambda x_ re.sub('FD_OBJECT_CONTRACT_INFORMATION_DESCRIPTION_CONTRACT_INFORMATION_F02_FRAMEWORK_JUSTIFICATION', 'PROCEDURE_FRAMEWORK_JUSTIFICATION', x))\n",
    "pd2 = pd2.rename(columns=lambda x_ re.sub('ORGANISATION_NATIONALID', 'NATIONALID', x))\n",
    "pd2 = pd2.rename(columns=lambda x_ re.sub('ORGANISATION_OFFICIALNAME', 'OFFICIALNAME', x))\n",
    "pd2 = pd2.rename(columns=lambda x_ re.sub('FD_OBJECT_CONTRACT_INFORMATION_DESCRIPTION_CONTRACT_INFORMATION_F02_DIVISION_INTO_LOTS_F02_DIV_INTO_LOT_YES_F02_ANNEX_B_ADDITIONAL_INFORMATION_ABOUT_LOTS', 'OBJECT_CONTRACT_OBJECT_DESCR_INFO_ADD', x))\n",
    "\n",
    " \n",
    "    "
   ]
  },
  {
   "cell_type": "code",
   "execution_count": null,
   "id": "6d6c9f35-60a5-4477-9ccb-6308e9e17fad",
   "metadata": {},
   "outputs": [],
   "source": [
    "#pd2.info()"
   ]
  },
  {
   "cell_type": "code",
   "execution_count": null,
   "id": "3653e175-015e-4306-8a0e-219fb86745a9",
   "metadata": {},
   "outputs": [],
   "source": [
    "fd2 = pd2.to_spark()"
   ]
  },
  {
   "cell_type": "code",
   "execution_count": null,
   "id": "598f0a04-2926-4628-9d7f-a61ad2f36837",
   "metadata": {},
   "outputs": [],
   "source": [
    "fd2 = fd2.withColumn(\"COMPLEMENTARY_INFO_DATE_DISPATCH_NOTICE\", expr(\"make_date(`FD_COMPLEMENTARY_INFORMATION_CONTRACT_NOTICE_NOTICE_DISPATCH_DATE_YEAR`, `FD_COMPLEMENTARY_INFORMATION_CONTRACT_NOTICE_NOTICE_DISPATCH_DATE_MONTH`, `FD_COMPLEMENTARY_INFORMATION_CONTRACT_NOTICE_NOTICE_DISPATCH_DATE_DAY`)\"))\n",
    "fd2 = fd2.withColumn(\"FD_OBJECT_CONTRACT_INFORMATION_DESCRIPTION_CONTRACT_INFORMATION_F02_DIVISION_INTO_LOTS_F02_DIV_INTO_LOT_YES_F02_ANNEX_B_PERIOD_WORK_DATE_STARTING_INTERVAL_DATE_END_DATE\", expr(\"make_date(`FD_OBJECT_CONTRACT_INFORMATION_DESCRIPTION_CONTRACT_INFORMATION_F02_DIVISION_INTO_LOTS_F02_DIV_INTO_LOT_YES_F02_ANNEX_B_PERIOD_WORK_DATE_STARTING_INTERVAL_DATE_END_DATE_YEAR`, `FD_OBJECT_CONTRACT_INFORMATION_DESCRIPTION_CONTRACT_INFORMATION_F02_DIVISION_INTO_LOTS_F02_DIV_INTO_LOT_YES_F02_ANNEX_B_PERIOD_WORK_DATE_STARTING_INTERVAL_DATE_END_DATE_MONTH`, `FD_OBJECT_CONTRACT_INFORMATION_DESCRIPTION_CONTRACT_INFORMATION_F02_DIVISION_INTO_LOTS_F02_DIV_INTO_LOT_YES_F02_ANNEX_B_PERIOD_WORK_DATE_STARTING_INTERVAL_DATE_END_DATE_DAY`)\"))\n",
    "fd2 = fd2.withColumn(\"FD_OBJECT_CONTRACT_INFORMATION_DESCRIPTION_CONTRACT_INFORMATION_F02_DIVISION_INTO_LOTS_F02_DIV_INTO_LOT_YES_F02_ANNEX_B_PERIOD_WORK_DATE_STARTING_INTERVAL_DATE_START_DATE\", expr(\"make_date(`FD_OBJECT_CONTRACT_INFORMATION_DESCRIPTION_CONTRACT_INFORMATION_F02_DIVISION_INTO_LOTS_F02_DIV_INTO_LOT_YES_F02_ANNEX_B_PERIOD_WORK_DATE_STARTING_INTERVAL_DATE_START_DATE_YEAR`, `FD_OBJECT_CONTRACT_INFORMATION_DESCRIPTION_CONTRACT_INFORMATION_F02_DIVISION_INTO_LOTS_F02_DIV_INTO_LOT_YES_F02_ANNEX_B_PERIOD_WORK_DATE_STARTING_INTERVAL_DATE_START_DATE_MONTH`, `FD_OBJECT_CONTRACT_INFORMATION_DESCRIPTION_CONTRACT_INFORMATION_F02_DIVISION_INTO_LOTS_F02_DIV_INTO_LOT_YES_F02_ANNEX_B_PERIOD_WORK_DATE_STARTING_INTERVAL_DATE_START_DATE_DAY`)\"))\n",
    "fd2 = fd2.withColumn(\"FD_OBJECT_CONTRACT_INFORMATION_PERIOD_WORK_DATE_STARTING_INTERVAL_DATE_END_DATE\", expr(\"make_date(`FD_OBJECT_CONTRACT_INFORMATION_PERIOD_WORK_DATE_STARTING_INTERVAL_DATE_END_DATE_YEAR`, `FD_OBJECT_CONTRACT_INFORMATION_PERIOD_WORK_DATE_STARTING_INTERVAL_DATE_END_DATE_MONTH`, `FD_OBJECT_CONTRACT_INFORMATION_PERIOD_WORK_DATE_STARTING_INTERVAL_DATE_END_DATE_DAY`)\"))\n",
    "fd2 = fd2.withColumn(\"FD_OBJECT_CONTRACT_INFORMATION_PERIOD_WORK_DATE_STARTING_INTERVAL_DATE_START_DATE\", expr(\"make_date(`FD_OBJECT_CONTRACT_INFORMATION_PERIOD_WORK_DATE_STARTING_INTERVAL_DATE_START_DATE_YEAR`, `FD_OBJECT_CONTRACT_INFORMATION_PERIOD_WORK_DATE_STARTING_INTERVAL_DATE_START_DATE_MONTH`, `FD_OBJECT_CONTRACT_INFORMATION_PERIOD_WORK_DATE_STARTING_INTERVAL_DATE_START_DATE_DAY`)\"))\n",
    "fd2 = fd2.withColumn(\"FD_PROCEDURE_DEFINITION_CONTRACT_NOTICE_ADMINISTRATIVE_INFORMATION_CONTRACT_NOTICE_CONDITIONS_FOR_OPENING_TENDERS_DATE\", expr(\"make_date(`FD_PROCEDURE_DEFINITION_CONTRACT_NOTICE_ADMINISTRATIVE_INFORMATION_CONTRACT_NOTICE_CONDITIONS_FOR_OPENING_TENDERS_DATE_TIME_YEAR`, `FD_PROCEDURE_DEFINITION_CONTRACT_NOTICE_ADMINISTRATIVE_INFORMATION_CONTRACT_NOTICE_CONDITIONS_FOR_OPENING_TENDERS_DATE_TIME_MONTH`, `FD_PROCEDURE_DEFINITION_CONTRACT_NOTICE_ADMINISTRATIVE_INFORMATION_CONTRACT_NOTICE_CONDITIONS_FOR_OPENING_TENDERS_DATE_TIME_DAY`)\"))\n",
    "fd2 = fd2.withColumn(\"FD_PROCEDURE_DEFINITION_CONTRACT_NOTICE_ADMINISTRATIVE_INFORMATION_CONTRACT_NOTICE_CONDITIONS_OBTAINING_SPECIFICATIONS_DATE\", expr(\"make_date(`FD_PROCEDURE_DEFINITION_CONTRACT_NOTICE_ADMINISTRATIVE_INFORMATION_CONTRACT_NOTICE_CONDITIONS_OBTAINING_SPECIFICATIONS_TIME_LIMIT_YEAR`, `FD_PROCEDURE_DEFINITION_CONTRACT_NOTICE_ADMINISTRATIVE_INFORMATION_CONTRACT_NOTICE_CONDITIONS_OBTAINING_SPECIFICATIONS_TIME_LIMIT_MONTH`, `FD_PROCEDURE_DEFINITION_CONTRACT_NOTICE_ADMINISTRATIVE_INFORMATION_CONTRACT_NOTICE_CONDITIONS_OBTAINING_SPECIFICATIONS_TIME_LIMIT_DAY`)\"))\n",
    "fd2 = fd2.withColumn(\"FD_PROCEDURE_DEFINITION_CONTRACT_NOTICE_ADMINISTRATIVE_INFORMATION_CONTRACT_NOTICE_DISPATCH_INVITATIONS_DATE\", expr(\"make_date(`FD_PROCEDURE_DEFINITION_CONTRACT_NOTICE_ADMINISTRATIVE_INFORMATION_CONTRACT_NOTICE_DISPATCH_INVITATIONS_DATE_YEAR`, `FD_PROCEDURE_DEFINITION_CONTRACT_NOTICE_ADMINISTRATIVE_INFORMATION_CONTRACT_NOTICE_DISPATCH_INVITATIONS_DATE_MONTH`, `FD_PROCEDURE_DEFINITION_CONTRACT_NOTICE_ADMINISTRATIVE_INFORMATION_CONTRACT_NOTICE_DISPATCH_INVITATIONS_DATE_DAY`)\"))\n",
    "fd2 = fd2.withColumn(\"FD_PROCEDURE_DEFINITION_CONTRACT_NOTICE_ADMINISTRATIVE_INFORMATION_CONTRACT_NOTICE_MINIMUM_TIME_MAINTAINING_TENDER_UNTIL_DATE\", expr(\"make_date(`FD_PROCEDURE_DEFINITION_CONTRACT_NOTICE_ADMINISTRATIVE_INFORMATION_CONTRACT_NOTICE_MINIMUM_TIME_MAINTAINING_TENDER_UNTIL_DATE_YEAR`, `FD_PROCEDURE_DEFINITION_CONTRACT_NOTICE_ADMINISTRATIVE_INFORMATION_CONTRACT_NOTICE_MINIMUM_TIME_MAINTAINING_TENDER_UNTIL_DATE_MONTH`, `FD_PROCEDURE_DEFINITION_CONTRACT_NOTICE_ADMINISTRATIVE_INFORMATION_CONTRACT_NOTICE_MINIMUM_TIME_MAINTAINING_TENDER_UNTIL_DATE_DAY`)\"))\n",
    "fd2 = fd2.withColumn(\"FD_PROCEDURE_DEFINITION_CONTRACT_NOTICE_ADMINISTRATIVE_INFORMATION_CONTRACT_NOTICE_PREVIOUS_PUBLICATION_INFORMATION_NOTICE_F2_PREVIOUS_PUBLICATION_EXISTS_F2_OTHER_PREVIOUS_PUBLICATIONS_OTHER_PREVIOUS_PUBLICATION_DATE_OJ\", expr(\"make_date(`FD_PROCEDURE_DEFINITION_CONTRACT_NOTICE_ADMINISTRATIVE_INFORMATION_CONTRACT_NOTICE_PREVIOUS_PUBLICATION_INFORMATION_NOTICE_F2_PREVIOUS_PUBLICATION_EXISTS_F2_OTHER_PREVIOUS_PUBLICATIONS_OTHER_PREVIOUS_PUBLICATION_DATE_OJ_YEAR`, `FD_PROCEDURE_DEFINITION_CONTRACT_NOTICE_ADMINISTRATIVE_INFORMATION_CONTRACT_NOTICE_PREVIOUS_PUBLICATION_INFORMATION_NOTICE_F2_PREVIOUS_PUBLICATION_EXISTS_F2_OTHER_PREVIOUS_PUBLICATIONS_OTHER_PREVIOUS_PUBLICATION_DATE_OJ_MONTH`, `FD_PROCEDURE_DEFINITION_CONTRACT_NOTICE_ADMINISTRATIVE_INFORMATION_CONTRACT_NOTICE_PREVIOUS_PUBLICATION_INFORMATION_NOTICE_F2_PREVIOUS_PUBLICATION_EXISTS_F2_OTHER_PREVIOUS_PUBLICATIONS_OTHER_PREVIOUS_PUBLICATION_DATE_OJ_DAY`)\"))\n",
    "fd2 = fd2.withColumn(\"FD_PROCEDURE_DEFINITION_CONTRACT_NOTICE_ADMINISTRATIVE_INFORMATION_CONTRACT_NOTICE_PREVIOUS_PUBLICATION_INFORMATION_NOTICE_F2_PREVIOUS_PUBLICATION_EXISTS_F2_PREVIOUS_PUBLICATION_NOTICE_F2_DATE_OJ\", expr(\"make_date(`FD_PROCEDURE_DEFINITION_CONTRACT_NOTICE_ADMINISTRATIVE_INFORMATION_CONTRACT_NOTICE_PREVIOUS_PUBLICATION_INFORMATION_NOTICE_F2_PREVIOUS_PUBLICATION_EXISTS_F2_PREVIOUS_PUBLICATION_NOTICE_F2_DATE_OJ_YEAR`, `FD_PROCEDURE_DEFINITION_CONTRACT_NOTICE_ADMINISTRATIVE_INFORMATION_CONTRACT_NOTICE_PREVIOUS_PUBLICATION_INFORMATION_NOTICE_F2_PREVIOUS_PUBLICATION_EXISTS_F2_PREVIOUS_PUBLICATION_NOTICE_F2_DATE_OJ_MONTH`, `FD_PROCEDURE_DEFINITION_CONTRACT_NOTICE_ADMINISTRATIVE_INFORMATION_CONTRACT_NOTICE_PREVIOUS_PUBLICATION_INFORMATION_NOTICE_F2_PREVIOUS_PUBLICATION_EXISTS_F2_PREVIOUS_PUBLICATION_NOTICE_F2_DATE_OJ_DAY`)\"))\n",
    "fd2 = fd2.withColumn(\"FD_PROCEDURE_DEFINITION_CONTRACT_NOTICE_ADMINISTRATIVE_INFORMATION_CONTRACT_NOTICE_RECEIPT_LIMIT_DATE\", expr(\"make_date(`FD_PROCEDURE_DEFINITION_CONTRACT_NOTICE_ADMINISTRATIVE_INFORMATION_CONTRACT_NOTICE_RECEIPT_LIMIT_DATE_YEAR`, `FD_PROCEDURE_DEFINITION_CONTRACT_NOTICE_ADMINISTRATIVE_INFORMATION_CONTRACT_NOTICE_RECEIPT_LIMIT_DATE_MONTH`, `FD_PROCEDURE_DEFINITION_CONTRACT_NOTICE_ADMINISTRATIVE_INFORMATION_CONTRACT_NOTICE_RECEIPT_LIMIT_DATE_DAY`)\"))"
   ]
  },
  {
   "cell_type": "code",
   "execution_count": null,
   "id": "5b36e2a2-ac4d-4378-9904-6131da77c50f",
   "metadata": {},
   "outputs": [],
   "source": [
    "pd2 = fd2.to_pandas_on_spark()"
   ]
  },
  {
   "cell_type": "code",
   "execution_count": null,
   "id": "7a28794d-04b2-4239-9a9e-f136cf04adfc",
   "metadata": {},
   "outputs": [],
   "source": [
    "pd2 = pd2.drop(columns=['FD_COMPLEMENTARY_INFORMATION_CONTRACT_NOTICE_NOTICE_DISPATCH_DATE_DAY', 'FD_COMPLEMENTARY_INFORMATION_CONTRACT_NOTICE_NOTICE_DISPATCH_DATE_MONTH', 'FD_COMPLEMENTARY_INFORMATION_CONTRACT_NOTICE_NOTICE_DISPATCH_DATE_YEAR',\\\n",
    "                        'FD_OBJECT_CONTRACT_INFORMATION_DESCRIPTION_CONTRACT_INFORMATION_F02_DIVISION_INTO_LOTS_F02_DIV_INTO_LOT_YES_F02_ANNEX_B_PERIOD_WORK_DATE_STARTING_INTERVAL_DATE_END_DATE_DAY', 'FD_OBJECT_CONTRACT_INFORMATION_DESCRIPTION_CONTRACT_INFORMATION_F02_DIVISION_INTO_LOTS_F02_DIV_INTO_LOT_YES_F02_ANNEX_B_PERIOD_WORK_DATE_STARTING_INTERVAL_DATE_END_DATE_MONTH', 'FD_OBJECT_CONTRACT_INFORMATION_DESCRIPTION_CONTRACT_INFORMATION_F02_DIVISION_INTO_LOTS_F02_DIV_INTO_LOT_YES_F02_ANNEX_B_PERIOD_WORK_DATE_STARTING_INTERVAL_DATE_END_DATE_YEAR',\\\n",
    "                        'FD_OBJECT_CONTRACT_INFORMATION_DESCRIPTION_CONTRACT_INFORMATION_F02_DIVISION_INTO_LOTS_F02_DIV_INTO_LOT_YES_F02_ANNEX_B_PERIOD_WORK_DATE_STARTING_INTERVAL_DATE_START_DATE_DAY', 'FD_OBJECT_CONTRACT_INFORMATION_DESCRIPTION_CONTRACT_INFORMATION_F02_DIVISION_INTO_LOTS_F02_DIV_INTO_LOT_YES_F02_ANNEX_B_PERIOD_WORK_DATE_STARTING_INTERVAL_DATE_START_DATE_MONTH', 'FD_OBJECT_CONTRACT_INFORMATION_DESCRIPTION_CONTRACT_INFORMATION_F02_DIVISION_INTO_LOTS_F02_DIV_INTO_LOT_YES_F02_ANNEX_B_PERIOD_WORK_DATE_STARTING_INTERVAL_DATE_START_DATE_YEAR',\\\n",
    "                        'FD_OBJECT_CONTRACT_INFORMATION_PERIOD_WORK_DATE_STARTING_INTERVAL_DATE_END_DATE_DAY', 'FD_OBJECT_CONTRACT_INFORMATION_PERIOD_WORK_DATE_STARTING_INTERVAL_DATE_END_DATE_MONTH', 'FD_OBJECT_CONTRACT_INFORMATION_PERIOD_WORK_DATE_STARTING_INTERVAL_DATE_END_DATE_YEAR',\\\n",
    "                        'FD_OBJECT_CONTRACT_INFORMATION_PERIOD_WORK_DATE_STARTING_INTERVAL_DATE_START_DATE_DAY', 'FD_OBJECT_CONTRACT_INFORMATION_PERIOD_WORK_DATE_STARTING_INTERVAL_DATE_START_DATE_MONTH', 'FD_OBJECT_CONTRACT_INFORMATION_PERIOD_WORK_DATE_STARTING_INTERVAL_DATE_START_DATE_YEAR',\\\n",
    "                        'FD_PROCEDURE_DEFINITION_CONTRACT_NOTICE_ADMINISTRATIVE_INFORMATION_CONTRACT_NOTICE_CONDITIONS_FOR_OPENING_TENDERS_DATE_TIME_DAY', 'FD_PROCEDURE_DEFINITION_CONTRACT_NOTICE_ADMINISTRATIVE_INFORMATION_CONTRACT_NOTICE_CONDITIONS_FOR_OPENING_TENDERS_DATE_TIME_MONTH', 'FD_PROCEDURE_DEFINITION_CONTRACT_NOTICE_ADMINISTRATIVE_INFORMATION_CONTRACT_NOTICE_CONDITIONS_FOR_OPENING_TENDERS_DATE_TIME_YEAR'])\n",
    "                        "
   ]
  },
  {
   "cell_type": "code",
   "execution_count": null,
   "id": "04024f70-96d8-4547-bbb4-5d02b5f24fc8",
   "metadata": {},
   "outputs": [],
   "source": [
    "pd2 = pd2.drop(columns=['FD_PROCEDURE_DEFINITION_CONTRACT_NOTICE_ADMINISTRATIVE_INFORMATION_CONTRACT_NOTICE_CONDITIONS_OBTAINING_SPECIFICATIONS_TIME_LIMIT_DAY', 'FD_PROCEDURE_DEFINITION_CONTRACT_NOTICE_ADMINISTRATIVE_INFORMATION_CONTRACT_NOTICE_CONDITIONS_OBTAINING_SPECIFICATIONS_TIME_LIMIT_MONTH', 'FD_PROCEDURE_DEFINITION_CONTRACT_NOTICE_ADMINISTRATIVE_INFORMATION_CONTRACT_NOTICE_CONDITIONS_OBTAINING_SPECIFICATIONS_TIME_LIMIT_YEAR',\\\n",
    "                        'FD_PROCEDURE_DEFINITION_CONTRACT_NOTICE_ADMINISTRATIVE_INFORMATION_CONTRACT_NOTICE_DISPATCH_INVITATIONS_DATE_DAY', 'FD_PROCEDURE_DEFINITION_CONTRACT_NOTICE_ADMINISTRATIVE_INFORMATION_CONTRACT_NOTICE_DISPATCH_INVITATIONS_DATE_MONTH', 'FD_PROCEDURE_DEFINITION_CONTRACT_NOTICE_ADMINISTRATIVE_INFORMATION_CONTRACT_NOTICE_DISPATCH_INVITATIONS_DATE_YEAR',\\\n",
    "                        'FD_PROCEDURE_DEFINITION_CONTRACT_NOTICE_ADMINISTRATIVE_INFORMATION_CONTRACT_NOTICE_MINIMUM_TIME_MAINTAINING_TENDER_UNTIL_DATE_DAY', 'FD_PROCEDURE_DEFINITION_CONTRACT_NOTICE_ADMINISTRATIVE_INFORMATION_CONTRACT_NOTICE_MINIMUM_TIME_MAINTAINING_TENDER_UNTIL_DATE_MONTH', 'FD_PROCEDURE_DEFINITION_CONTRACT_NOTICE_ADMINISTRATIVE_INFORMATION_CONTRACT_NOTICE_MINIMUM_TIME_MAINTAINING_TENDER_UNTIL_DATE_YEAR',\\\n",
    "                        'FD_PROCEDURE_DEFINITION_CONTRACT_NOTICE_ADMINISTRATIVE_INFORMATION_CONTRACT_NOTICE_PREVIOUS_PUBLICATION_INFORMATION_NOTICE_F2_PREVIOUS_PUBLICATION_EXISTS_F2_OTHER_PREVIOUS_PUBLICATIONS_OTHER_PREVIOUS_PUBLICATION_DATE_OJ_DAY', 'FD_PROCEDURE_DEFINITION_CONTRACT_NOTICE_ADMINISTRATIVE_INFORMATION_CONTRACT_NOTICE_PREVIOUS_PUBLICATION_INFORMATION_NOTICE_F2_PREVIOUS_PUBLICATION_EXISTS_F2_OTHER_PREVIOUS_PUBLICATIONS_OTHER_PREVIOUS_PUBLICATION_DATE_OJ_MONTH', 'FD_PROCEDURE_DEFINITION_CONTRACT_NOTICE_ADMINISTRATIVE_INFORMATION_CONTRACT_NOTICE_PREVIOUS_PUBLICATION_INFORMATION_NOTICE_F2_PREVIOUS_PUBLICATION_EXISTS_F2_OTHER_PREVIOUS_PUBLICATIONS_OTHER_PREVIOUS_PUBLICATION_DATE_OJ_YEAR',\\\n",
    "                        'FD_PROCEDURE_DEFINITION_CONTRACT_NOTICE_ADMINISTRATIVE_INFORMATION_CONTRACT_NOTICE_PREVIOUS_PUBLICATION_INFORMATION_NOTICE_F2_PREVIOUS_PUBLICATION_EXISTS_F2_PREVIOUS_PUBLICATION_NOTICE_F2_DATE_OJ_DAY', 'FD_PROCEDURE_DEFINITION_CONTRACT_NOTICE_ADMINISTRATIVE_INFORMATION_CONTRACT_NOTICE_PREVIOUS_PUBLICATION_INFORMATION_NOTICE_F2_PREVIOUS_PUBLICATION_EXISTS_F2_PREVIOUS_PUBLICATION_NOTICE_F2_DATE_OJ_MONTH', 'FD_PROCEDURE_DEFINITION_CONTRACT_NOTICE_ADMINISTRATIVE_INFORMATION_CONTRACT_NOTICE_PREVIOUS_PUBLICATION_INFORMATION_NOTICE_F2_PREVIOUS_PUBLICATION_EXISTS_F2_PREVIOUS_PUBLICATION_NOTICE_F2_DATE_OJ_YEAR',\\\n",
    "                        'FD_PROCEDURE_DEFINITION_CONTRACT_NOTICE_ADMINISTRATIVE_INFORMATION_CONTRACT_NOTICE_RECEIPT_LIMIT_DATE_DAY', 'FD_PROCEDURE_DEFINITION_CONTRACT_NOTICE_ADMINISTRATIVE_INFORMATION_CONTRACT_NOTICE_RECEIPT_LIMIT_DATE_MONTH', 'FD_PROCEDURE_DEFINITION_CONTRACT_NOTICE_ADMINISTRATIVE_INFORMATION_CONTRACT_NOTICE_RECEIPT_LIMIT_DATE_YEAR'])"
   ]
  },
  {
   "cell_type": "code",
   "execution_count": null,
   "id": "38185e87-7871-4002-b302-c9d4b1321280",
   "metadata": {},
   "outputs": [],
   "source": [
    "pd2 = pd2.rename(columns=lambda x_ re.sub('FD_PROCEDURE_DEFINITION_CONTRACT_NOTICE_ADMINISTRATIVE_INFORMATION_CONTRACT_NOTICE_CONDITIONS_FOR_OPENING_TENDERS_DATE', 'PROCEDURE_OPENING_CONDITION_DATE_OPENING_TENDERS', x))  \n",
    "pd2 = pd2.rename(columns=lambda x_ re.sub('FD_PROCEDURE_DEFINITION_CONTRACT_NOTICE_ADMINISTRATIVE_INFORMATION_CONTRACT_NOTICE_RECEIPT_LIMIT_DATE', 'PROCEDURE_DATE_RECEIPT_TENDERS', x))    \n",
    "pd2 = pd2.rename(columns=lambda x_ re.sub('FD_PROCEDURE_DEFINITION_CONTRACT_NOTICE_ADMINISTRATIVE_INFORMATION_CONTRACT_NOTICE_DISPATCH_INVITATIONS_DATE', 'PROCEDURE_DATE_DISPATCH_INVITATIONS', x))\n",
    "pd2 = pd2.rename(columns=lambda x_ re.sub('FD_PROCEDURE_DEFINITION_CONTRACT_NOTICE_ADMINISTRATIVE_INFORMATION_CONTRACT_NOTICE_MINIMUM_TIME_MAINTAINING_TENDER_UNTIL_DATE', 'PROCEDURE_DATE_TENDER_VALID', x))\n",
    "pd2 = pd2.rename(columns=lambda x_ re.sub('FD_OBJECT_CONTRACT_INFORMATION_PERIOD_WORK_DATE_STARTING_INTERVAL_DATE_START_DATE', 'OBJECT_CONTRACT_OBJECT_DESCR_DATE_START', x))\n",
    "pd2 = pd2.rename(columns=lambda x_ re.sub('FD_OBJECT_CONTRACT_INFORMATION_PERIOD_WORK_DATE_STARTING_INTERVAL_DATE_END_DATE', 'OBJECT_CONTRACT_OBJECT_DESCR_DATE_END', x))"
   ]
  },
  {
   "cell_type": "code",
   "execution_count": null,
   "id": "9b6840f1-bb64-4777-89b6-8b4b6fe7388c",
   "metadata": {},
   "outputs": [],
   "source": [
    "pd2 = pd2.rename(columns=lambda x_ re.sub('CONTACT_DATA_WITHOUT_RESPONSIBLE_NAME_', '', x))"
   ]
  },
  {
   "cell_type": "code",
   "execution_count": null,
   "id": "7ff3fa76-04f8-488d-a33a-e7a962d26bfb",
   "metadata": {},
   "outputs": [],
   "source": [
    "pd2.info()"
   ]
  },
  {
   "cell_type": "code",
   "execution_count": null,
   "id": "8bf1670f-d9da-49d8-b012-cbfc4a5c7b1b",
   "metadata": {},
   "outputs": [],
   "source": [
    "pd2 = pd2.rename(columns=lambda x_ re.sub('DOFFIN_FORM_TYPE_', '', x))\n",
    "pd2 = pd2.rename(columns=lambda x_ re.sub('FD_COMPLEMENTARY_INFORMATION_CONTRACT_NOTICE_', '', x))\n",
    "pd2 = pd2.rename(columns=lambda x_ re.sub('PROCEDURES_FOR_APPEAL_', '', x))\n",
    "pd2 = pd2.rename(columns=lambda x_ re.sub('FD_CONTRACTING_AUTHORITY_INFORMATION_', '', x))\n",
    "pd2 = pd2.rename(columns=lambda x_ re.sub('FD_LEFTI_CONTRACT_RELATING_CONDITIONS_', '', x))\n",
    "pd2 = pd2.rename(columns=lambda x_ re.sub('FD_LEFTI_F02_CONDITIONS_FOR_PARTICIPATION_', '', x))\n",
    "pd2 = pd2.rename(columns=lambda x_ re.sub('F02_', '', x))\n",
    "pd2 = pd2.rename(columns=lambda x_ re.sub('FD_OBJECT_CONTRACT_INFORMATION_', '', x))\n",
    "pd2 = pd2.rename(columns=lambda x_ re.sub('FD_PROCEDURE_DEFINITION_CONTRACT_NOTICE_', '', x))\n",
    "pd2 = pd2.rename(columns=lambda x_ re.sub('ANNEX_B_', '', x))"
   ]
  },
  {
   "cell_type": "code",
   "execution_count": null,
   "id": "a20d4bf6-26f1-4ad3-8f6f-d9355fa93af2",
   "metadata": {},
   "outputs": [],
   "source": [
    "fd2 = pd2.to_spark()"
   ]
  },
  {
   "cell_type": "code",
   "execution_count": null,
   "id": "1e9cd283-1c8e-47d5-9f02-8670731be4d6",
   "metadata": {},
   "outputs": [],
   "source": [
    "fd2 = fd2.withColumn(\"FD_COMPLEMENTARY_INFORMATION_CONTRACT_NOTICE.NOTICE_DISPATCH_DATE\", expr(\"make_date(`FD_COMPLEMENTARY_INFORMATION_CONTRACT_NOTICE.NOTICE_DISPATCH_DATE.YEAR`, `FD_COMPLEMENTARY_INFORMATION_CONTRACT_NOTICE.NOTICE_DISPATCH_DATE.MONTH`, `FD_COMPLEMENTARY_INFORMATION_CONTRACT_NOTICE.NOTICE_DISPATCH_DATE.DAY`)\"))\n",
    "fd2 = fd2.withColumn(\"FD_OBJECT_CONTRACT_INFORMATION.DESCRIPTION_CONTRACT_INFORMATION.F02_DIVISION_INTO_LOTS.F02_DIV_INTO_LOT_YES.F02_ANNEX_B.PERIOD_WORK_DATE_STARTING.INTERVAL_DATE.END_DATE\", expr(\"make_date(`FD_OBJECT_CONTRACT_INFORMATION.DESCRIPTION_CONTRACT_INFORMATION.F02_DIVISION_INTO_LOTS.F02_DIV_INTO_LOT_YES.F02_ANNEX_B.PERIOD_WORK_DATE_STARTING.INTERVAL_DATE.END_DATE.YEAR`, `FD_OBJECT_CONTRACT_INFORMATION.DESCRIPTION_CONTRACT_INFORMATION.F02_DIVISION_INTO_LOTS.F02_DIV_INTO_LOT_YES.F02_ANNEX_B.PERIOD_WORK_DATE_STARTING.INTERVAL_DATE.END_DATE.MONTH`, `FD_OBJECT_CONTRACT_INFORMATION.DESCRIPTION_CONTRACT_INFORMATION.F02_DIVISION_INTO_LOTS.F02_DIV_INTO_LOT_YES.F02_ANNEX_B.PERIOD_WORK_DATE_STARTING.INTERVAL_DATE.END_DATE.DAY`)\"))\n",
    "fd2 = fd2.withColumn(\"FD_OBJECT_CONTRACT_INFORMATION.DESCRIPTION_CONTRACT_INFORMATION.F02_DIVISION_INTO_LOTS.F02_DIV_INTO_LOT_YES.F02_ANNEX_B.PERIOD_WORK_DATE_STARTING.INTERVAL_DATE.START_DATE\", expr(\"make_date(`FD_OBJECT_CONTRACT_INFORMATION.DESCRIPTION_CONTRACT_INFORMATION.F02_DIVISION_INTO_LOTS.F02_DIV_INTO_LOT_YES.F02_ANNEX_B.PERIOD_WORK_DATE_STARTING.INTERVAL_DATE.START_DATE.YEAR`, `FD_OBJECT_CONTRACT_INFORMATION.DESCRIPTION_CONTRACT_INFORMATION.F02_DIVISION_INTO_LOTS.F02_DIV_INTO_LOT_YES.F02_ANNEX_B.PERIOD_WORK_DATE_STARTING.INTERVAL_DATE.START_DATE.MONTH`, `FD_OBJECT_CONTRACT_INFORMATION.DESCRIPTION_CONTRACT_INFORMATION.F02_DIVISION_INTO_LOTS.F02_DIV_INTO_LOT_YES.F02_ANNEX_B.PERIOD_WORK_DATE_STARTING.INTERVAL_DATE.START_DATE.DAY`)\"))\n",
    "fd2 = fd2.withColumn(\"FD_OBJECT_CONTRACT_INFORMATION.PERIOD_WORK_DATE_STARTING.INTERVAL_DATE.END_DATE\", expr(\"make_date(`FD_OBJECT_CONTRACT_INFORMATION.PERIOD_WORK_DATE_STARTING.INTERVAL_DATE.END_DATE.YEAR`, `FD_OBJECT_CONTRACT_INFORMATION.PERIOD_WORK_DATE_STARTING.INTERVAL_DATE.END_DATE.MONTH`, `FD_OBJECT_CONTRACT_INFORMATION.PERIOD_WORK_DATE_STARTING.INTERVAL_DATE.END_DATE.DAY`)\"))\n",
    "fd2 = fd2.withColumn(\"FD_OBJECT_CONTRACT_INFORMATION.PERIOD_WORK_DATE_STARTING.INTERVAL_DATE.START_DATE\", expr(\"make_date(`FD_OBJECT_CONTRACT_INFORMATION.PERIOD_WORK_DATE_STARTING.INTERVAL_DATE.START_DATE.YEAR`, `FD_OBJECT_CONTRACT_INFORMATION.PERIOD_WORK_DATE_STARTING.INTERVAL_DATE.START_DATE.MONTH`, `FD_OBJECT_CONTRACT_INFORMATION.PERIOD_WORK_DATE_STARTING.INTERVAL_DATE.START_DATE.DAY`)\"))\n",
    "fd2 = fd2.withColumn(\"FD_PROCEDURE_DEFINITION_CONTRACT_NOTICE.ADMINISTRATIVE_INFORMATION_CONTRACT_NOTICE.CONDITIONS_FOR_OPENING_TENDERS.DATE_TIME\", expr(\"make_date(`FD_PROCEDURE_DEFINITION_CONTRACT_NOTICE.ADMINISTRATIVE_INFORMATION_CONTRACT_NOTICE.CONDITIONS_FOR_OPENING_TENDERS.DATE_TIME.YEAR`, `FD_PROCEDURE_DEFINITION_CONTRACT_NOTICE.ADMINISTRATIVE_INFORMATION_CONTRACT_NOTICE.CONDITIONS_FOR_OPENING_TENDERS.DATE_TIME.MONTH`, `FD_PROCEDURE_DEFINITION_CONTRACT_NOTICE.ADMINISTRATIVE_INFORMATION_CONTRACT_NOTICE.CONDITIONS_FOR_OPENING_TENDERS.DATE_TIME.DAY`)\"))\n",
    "fd2 = fd2.withColumn(\"FD_PROCEDURE_DEFINITION_CONTRACT_NOTICE.ADMINISTRATIVE_INFORMATION_CONTRACT_NOTICE.CONDITIONS_OBTAINING_SPECIFICATIONS.TIME_LIMIT\", expr(\"make_date(`FD_PROCEDURE_DEFINITION_CONTRACT_NOTICE.ADMINISTRATIVE_INFORMATION_CONTRACT_NOTICE.CONDITIONS_OBTAINING_SPECIFICATIONS.TIME_LIMIT.YEAR`, `FD_PROCEDURE_DEFINITION_CONTRACT_NOTICE.ADMINISTRATIVE_INFORMATION_CONTRACT_NOTICE.CONDITIONS_OBTAINING_SPECIFICATIONS.TIME_LIMIT.MONTH`, `FD_PROCEDURE_DEFINITION_CONTRACT_NOTICE.ADMINISTRATIVE_INFORMATION_CONTRACT_NOTICE.CONDITIONS_OBTAINING_SPECIFICATIONS.TIME_LIMIT.DAY`)\"))\n",
    "fd2 = fd2.withColumn(\"FD_PROCEDURE_DEFINITION_CONTRACT_NOTICE.ADMINISTRATIVE_INFORMATION_CONTRACT_NOTICE.DISPATCH_INVITATIONS_DATE\", expr(\"make_date(`FD_PROCEDURE_DEFINITION_CONTRACT_NOTICE.ADMINISTRATIVE_INFORMATION_CONTRACT_NOTICE.DISPATCH_INVITATIONS_DATE.YEAR`, `FD_PROCEDURE_DEFINITION_CONTRACT_NOTICE.ADMINISTRATIVE_INFORMATION_CONTRACT_NOTICE.DISPATCH_INVITATIONS_DATE.MONTH`, `FD_PROCEDURE_DEFINITION_CONTRACT_NOTICE.ADMINISTRATIVE_INFORMATION_CONTRACT_NOTICE.DISPATCH_INVITATIONS_DATE.DAY`)\"))\n",
    "fd2 = fd2.withColumn(\"FD_PROCEDURE_DEFINITION_CONTRACT_NOTICE.ADMINISTRATIVE_INFORMATION_CONTRACT_NOTICE.MINIMUM_TIME_MAINTAINING_TENDER.UNTIL_DATE\", expr(\"make_date(`FD_PROCEDURE_DEFINITION_CONTRACT_NOTICE.ADMINISTRATIVE_INFORMATION_CONTRACT_NOTICE.MINIMUM_TIME_MAINTAINING_TENDER.UNTIL_DATE.YEAR`, `FD_PROCEDURE_DEFINITION_CONTRACT_NOTICE.ADMINISTRATIVE_INFORMATION_CONTRACT_NOTICE.MINIMUM_TIME_MAINTAINING_TENDER.UNTIL_DATE.MONTH`, `FD_PROCEDURE_DEFINITION_CONTRACT_NOTICE.ADMINISTRATIVE_INFORMATION_CONTRACT_NOTICE.MINIMUM_TIME_MAINTAINING_TENDER.UNTIL_DATE.DAY`)\"))\n",
    "fd2 = fd2.withColumn(\"FD_PROCEDURE_DEFINITION_CONTRACT_NOTICE.ADMINISTRATIVE_INFORMATION_CONTRACT_NOTICE.PREVIOUS_PUBLICATION_INFORMATION_NOTICE_F2.PREVIOUS_PUBLICATION_EXISTS_F2.OTHER_PREVIOUS_PUBLICATIONS.OTHER_PREVIOUS_PUBLICATION.DATE_OJ\", expr(\"make_date(`.YEAR`, `FD_PROCEDURE_DEFINITION_CONTRACT_NOTICE.ADMINISTRATIVE_INFORMATION_CONTRACT_NOTICE.PREVIOUS_PUBLICATION_INFORMATION_NOTICE_F2.PREVIOUS_PUBLICATION_EXISTS_F2.OTHER_PREVIOUS_PUBLICATIONS.OTHER_PREVIOUS_PUBLICATION.DATE_OJ.MONTH`, `FD_PROCEDURE_DEFINITION_CONTRACT_NOTICE.ADMINISTRATIVE_INFORMATION_CONTRACT_NOTICE.PREVIOUS_PUBLICATION_INFORMATION_NOTICE_F2.PREVIOUS_PUBLICATION_EXISTS_F2.OTHER_PREVIOUS_PUBLICATIONS.OTHER_PREVIOUS_PUBLICATION.DATE_OJ.DAY`)\"))\n",
    "fd2 = fd2.withColumn(\"FD_PROCEDURE_DEFINITION_CONTRACT_NOTICE.ADMINISTRATIVE_INFORMATION_CONTRACT_NOTICE.PREVIOUS_PUBLICATION_INFORMATION_NOTICE_F2.PREVIOUS_PUBLICATION_EXISTS_F2.PREVIOUS_PUBLICATION_NOTICE_F2.DATE_OJ\", expr(\"make_date(`FD_PROCEDURE_DEFINITION_CONTRACT_NOTICE.ADMINISTRATIVE_INFORMATION_CONTRACT_NOTICE.PREVIOUS_PUBLICATION_INFORMATION_NOTICE_F2.PREVIOUS_PUBLICATION_EXISTS_F2.PREVIOUS_PUBLICATION_NOTICE_F2.DATE_OJ.YEAR`, `FD_PROCEDURE_DEFINITION_CONTRACT_NOTICE.ADMINISTRATIVE_INFORMATION_CONTRACT_NOTICE.PREVIOUS_PUBLICATION_INFORMATION_NOTICE_F2.PREVIOUS_PUBLICATION_EXISTS_F2.PREVIOUS_PUBLICATION_NOTICE_F2.DATE_OJ.MONTH`, `FD_PROCEDURE_DEFINITION_CONTRACT_NOTICE.ADMINISTRATIVE_INFORMATION_CONTRACT_NOTICE.PREVIOUS_PUBLICATION_INFORMATION_NOTICE_F2.PREVIOUS_PUBLICATION_EXISTS_F2.PREVIOUS_PUBLICATION_NOTICE_F2.DATE_OJ.DAY`)\"))\n",
    "fd2 = fd2.withColumn(\"FD_PROCEDURE_DEFINITION_CONTRACT_NOTICE.ADMINISTRATIVE_INFORMATION_CONTRACT_NOTICE.RECEIPT_LIMIT_DATE\", expr(\"make_date(`FD_PROCEDURE_DEFINITION_CONTRACT_NOTICE.ADMINISTRATIVE_INFORMATION_CONTRACT_NOTICE.RECEIPT_LIMIT_DATE.YEAR`, `FD_PROCEDURE_DEFINITION_CONTRACT_NOTICE.ADMINISTRATIVE_INFORMATION_CONTRACT_NOTICE.RECEIPT_LIMIT_DATE.MONTH`, `FD_PROCEDURE_DEFINITION_CONTRACT_NOTICE.ADMINISTRATIVE_INFORMATION_CONTRACT_NOTICE.RECEIPT_LIMIT_DATE.DAY`)\"))"
   ]
  },
  {
   "cell_type": "code",
   "execution_count": null,
   "id": "a02145f1-6242-4365-a1e4-358bc2bdfff3",
   "metadata": {},
   "outputs": [],
   "source": [
    "fd2.printSchema()"
   ]
  },
  {
   "cell_type": "code",
   "execution_count": null,
   "id": "4555177c-ef6d-4660-b57b-411e96140728",
   "metadata": {},
   "outputs": [],
   "source": [
    "pd2 = fd2.to_pandas_on_spark()\n",
    "\n",
    "pd2.info()"
   ]
  },
  {
   "cell_type": "code",
   "execution_count": null,
   "id": "528237e3-adaa-4694-9239-4e76778148b9",
   "metadata": {},
   "outputs": [],
   "source": [
    "pd2 = pd2.drop(columns=['FD_COMPLEMENTARY_INFORMATION_CONTRACT_NOTICE.NOTICE_DISPATCH_DATE.DAY', 'FD_COMPLEMENTARY_INFORMATION_CONTRACT_NOTICE.NOTICE_DISPATCH_DATE.MONTH', 'FD_COMPLEMENTARY_INFORMATION_CONTRACT_NOTICE.NOTICE_DISPATCH_DATE.YEAR'])\n",
    "pd2 = pd2.drop(columns=['FD_OBJECT_CONTRACT_INFORMATION.DESCRIPTION_CONTRACT_INFORMATION.F02_DIVISION_INTO_LOTS.F02_DIV_INTO_LOT_YES.F02_ANNEX_B.PERIOD_WORK_DATE_STARTING.INTERVAL_DATE.END_DATE.DAY', 'FD_OBJECT_CONTRACT_INFORMATION.DESCRIPTION_CONTRACT_INFORMATION.F02_DIVISION_INTO_LOTS.F02_DIV_INTO_LOT_YES.F02_ANNEX_B.PERIOD_WORK_DATE_STARTING.INTERVAL_DATE.END_DATE.MONTH', 'FD_OBJECT_CONTRACT_INFORMATION.DESCRIPTION_CONTRACT_INFORMATION.F02_DIVISION_INTO_LOTS.F02_DIV_INTO_LOT_YES.F02_ANNEX_B.PERIOD_WORK_DATE_STARTING.INTERVAL_DATE.END_DATE.YEAR'])\n",
    "pd2 = pd2.drop(columns=['FD_OBJECT_CONTRACT_INFORMATION.DESCRIPTION_CONTRACT_INFORMATION.F02_DIVISION_INTO_LOTS.F02_DIV_INTO_LOT_YES.F02_ANNEX_B.PERIOD_WORK_DATE_STARTING.INTERVAL_DATE.START_DATE.DAY', 'FD_OBJECT_CONTRACT_INFORMATION.DESCRIPTION_CONTRACT_INFORMATION.F02_DIVISION_INTO_LOTS.F02_DIV_INTO_LOT_YES.F02_ANNEX_B.PERIOD_WORK_DATE_STARTING.INTERVAL_DATE.START_DATE.MONTH', 'FD_OBJECT_CONTRACT_INFORMATION.DESCRIPTION_CONTRACT_INFORMATION.F02_DIVISION_INTO_LOTS.F02_DIV_INTO_LOT_YES.F02_ANNEX_B.PERIOD_WORK_DATE_STARTING.INTERVAL_DATE.START_DATE.YEAR'])\n",
    "pd2 = pd2.drop(columns=['FD_OBJECT_CONTRACT_INFORMATION.PERIOD_WORK_DATE_STARTING.INTERVAL_DATE.END_DATE.DAY', 'FD_OBJECT_CONTRACT_INFORMATION.PERIOD_WORK_DATE_STARTING.INTERVAL_DATE.END_DATE.MONTH', 'FD_OBJECT_CONTRACT_INFORMATION.PERIOD_WORK_DATE_STARTING.INTERVAL_DATE.END_DATE.YEAR'])\n",
    "pd2 = pd2.drop(columns=['FD_OBJECT_CONTRACT_INFORMATION.PERIOD_WORK_DATE_STARTING.INTERVAL_DATE.START_DATE.DAY', 'FD_OBJECT_CONTRACT_INFORMATION.PERIOD_WORK_DATE_STARTING.INTERVAL_DATE.START_DATE.MONTH', 'FD_OBJECT_CONTRACT_INFORMATION.PERIOD_WORK_DATE_STARTING.INTERVAL_DATE.START_DATE.YEAR'])\n",
    "pd2 = pd2.drop(columns=['FD_PROCEDURE_DEFINITION_CONTRACT_NOTICE.ADMINISTRATIVE_INFORMATION_CONTRACT_NOTICE.CONDITIONS_FOR_OPENING_TENDERS.DATE_TIME.DAY', 'FD_PROCEDURE_DEFINITION_CONTRACT_NOTICE.ADMINISTRATIVE_INFORMATION_CONTRACT_NOTICE.CONDITIONS_FOR_OPENING_TENDERS.DATE_TIME.MONTH', 'FD_PROCEDURE_DEFINITION_CONTRACT_NOTICE.ADMINISTRATIVE_INFORMATION_CONTRACT_NOTICE.CONDITIONS_FOR_OPENING_TENDERS.DATE_TIME.YEAR'])\n",
    "pd2 = pd2.drop(columns=['FD_PROCEDURE_DEFINITION_CONTRACT_NOTICE.ADMINISTRATIVE_INFORMATION_CONTRACT_NOTICE.CONDITIONS_OBTAINING_SPECIFICATIONS.TIME_LIMIT.DAY', 'FD_PROCEDURE_DEFINITION_CONTRACT_NOTICE.ADMINISTRATIVE_INFORMATION_CONTRACT_NOTICE.CONDITIONS_OBTAINING_SPECIFICATIONS.TIME_LIMIT.MONTH', 'FD_PROCEDURE_DEFINITION_CONTRACT_NOTICE.ADMINISTRATIVE_INFORMATION_CONTRACT_NOTICE.CONDITIONS_OBTAINING_SPECIFICATIONS.TIME_LIMIT.YEAR'])\n",
    "pd2 = pd2.drop(columns=['FD_PROCEDURE_DEFINITION_CONTRACT_NOTICE.ADMINISTRATIVE_INFORMATION_CONTRACT_NOTICE.DISPATCH_INVITATIONS_DATE.DAY', 'FD_PROCEDURE_DEFINITION_CONTRACT_NOTICE.ADMINISTRATIVE_INFORMATION_CONTRACT_NOTICE.DISPATCH_INVITATIONS_DATE.MONTH', 'FD_PROCEDURE_DEFINITION_CONTRACT_NOTICE.ADMINISTRATIVE_INFORMATION_CONTRACT_NOTICE.DISPATCH_INVITATIONS_DATE.YEAR'])\n",
    "pd2 = pd2.drop(columns=['FD_PROCEDURE_DEFINITION_CONTRACT_NOTICE.ADMINISTRATIVE_INFORMATION_CONTRACT_NOTICE.MINIMUM_TIME_MAINTAINING_TENDER.UNTIL_DATE.DAY', 'FD_PROCEDURE_DEFINITION_CONTRACT_NOTICE.ADMINISTRATIVE_INFORMATION_CONTRACT_NOTICE.MINIMUM_TIME_MAINTAINING_TENDER.UNTIL_DATE.MONTH', 'FD_PROCEDURE_DEFINITION_CONTRACT_NOTICE.ADMINISTRATIVE_INFORMATION_CONTRACT_NOTICE.MINIMUM_TIME_MAINTAINING_TENDER.UNTIL_DATE.YEAR'])\n",
    "pd2 = pd2.drop(columns=['FD_PROCEDURE_DEFINITION_CONTRACT_NOTICE.ADMINISTRATIVE_INFORMATION_CONTRACT_NOTICE.PREVIOUS_PUBLICATION_INFORMATION_NOTICE_F2.PREVIOUS_PUBLICATION_EXISTS_F2.OTHER_PREVIOUS_PUBLICATIONS.OTHER_PREVIOUS_PUBLICATION.DATE_OJ.DAY', 'FD_PROCEDURE_DEFINITION_CONTRACT_NOTICE.ADMINISTRATIVE_INFORMATION_CONTRACT_NOTICE.PREVIOUS_PUBLICATION_INFORMATION_NOTICE_F2.PREVIOUS_PUBLICATION_EXISTS_F2.OTHER_PREVIOUS_PUBLICATIONS.OTHER_PREVIOUS_PUBLICATION.DATE_OJ.MONTH', 'FD_PROCEDURE_DEFINITION_CONTRACT_NOTICE.ADMINISTRATIVE_INFORMATION_CONTRACT_NOTICE.PREVIOUS_PUBLICATION_INFORMATION_NOTICE_F2.PREVIOUS_PUBLICATION_EXISTS_F2.OTHER_PREVIOUS_PUBLICATIONS.OTHER_PREVIOUS_PUBLICATION.DATE_OJ.YEAR'])\n",
    "pd2 = pd2.drop(columns=['FD_PROCEDURE_DEFINITION_CONTRACT_NOTICE.ADMINISTRATIVE_INFORMATION_CONTRACT_NOTICE.PREVIOUS_PUBLICATION_INFORMATION_NOTICE_F2.PREVIOUS_PUBLICATION_EXISTS_F2.PREVIOUS_PUBLICATION_NOTICE_F2.DATE_OJ.DAY', 'FD_PROCEDURE_DEFINITION_CONTRACT_NOTICE.ADMINISTRATIVE_INFORMATION_CONTRACT_NOTICE.PREVIOUS_PUBLICATION_INFORMATION_NOTICE_F2.PREVIOUS_PUBLICATION_EXISTS_F2.PREVIOUS_PUBLICATION_NOTICE_F2.DATE_OJ.MONTH', 'FD_PROCEDURE_DEFINITION_CONTRACT_NOTICE.ADMINISTRATIVE_INFORMATION_CONTRACT_NOTICE.PREVIOUS_PUBLICATION_INFORMATION_NOTICE_F2.PREVIOUS_PUBLICATION_EXISTS_F2.PREVIOUS_PUBLICATION_NOTICE_F2.DATE_OJ.YEAR'])\n",
    "pd2 = pd2.drop(columns=['FD_PROCEDURE_DEFINITION_CONTRACT_NOTICE.ADMINISTRATIVE_INFORMATION_CONTRACT_NOTICE.RECEIPT_LIMIT_DATE.DAY', 'FD_PROCEDURE_DEFINITION_CONTRACT_NOTICE.ADMINISTRATIVE_INFORMATION_CONTRACT_NOTICE.RECEIPT_LIMIT_DATE.MONTH', 'FD_PROCEDURE_DEFINITION_CONTRACT_NOTICE.ADMINISTRATIVE_INFORMATION_CONTRACT_NOTICE.RECEIPT_LIMIT_DATE.YEAR'])"
   ]
  },
  {
   "cell_type": "code",
   "execution_count": null,
   "id": "f9e41707-70fe-4eac-aaf9-0451df84fc1b",
   "metadata": {},
   "outputs": [],
   "source": [
    "pd2.info()"
   ]
  },
  {
   "cell_type": "code",
   "execution_count": null,
   "id": "5345064b-3f9c-42b2-a78a-246cf5a49554",
   "metadata": {},
   "outputs": [],
   "source": [
    "pd2[\"FD_COMPLEMENTARY_INFORMATION_CONTRACT_NOTICE.NOTICE_DISPATCH_DATE\"]= ps.to_datetime(pd2[\"FD_COMPLEMENTARY_INFORMATION_CONTRACT_NOTICE.NOTICE_DISPATCH_DATE\"])\n",
    "pd2[\"FD_OBJECT_CONTRACT_INFORMATION.DESCRIPTION_CONTRACT_INFORMATION.F02_DIVISION_INTO_LOTS.F02_DIV_INTO_LOT_YES.F02_ANNEX_B.PERIOD_WORK_DATE_STARTING.INTERVAL_DATE.END_DATE\"]= ps.to_datetime(pd2[\"FD_OBJECT_CONTRACT_INFORMATION.DESCRIPTION_CONTRACT_INFORMATION.F02_DIVISION_INTO_LOTS.F02_DIV_INTO_LOT_YES.F02_ANNEX_B.PERIOD_WORK_DATE_STARTING.INTERVAL_DATE.END_DATE\"])\n",
    "pd2[\"FD_OBJECT_CONTRACT_INFORMATION.DESCRIPTION_CONTRACT_INFORMATION.F02_DIVISION_INTO_LOTS.F02_DIV_INTO_LOT_YES.F02_ANNEX_B.PERIOD_WORK_DATE_STARTING.INTERVAL_DATE.START_DATE\"]= ps.to_datetime(pd2[\"FD_OBJECT_CONTRACT_INFORMATION.DESCRIPTION_CONTRACT_INFORMATION.F02_DIVISION_INTO_LOTS.F02_DIV_INTO_LOT_YES.F02_ANNEX_B.PERIOD_WORK_DATE_STARTING.INTERVAL_DATE.START_DATE\"])\n",
    "pd2[\"FD_OBJECT_CONTRACT_INFORMATION.PERIOD_WORK_DATE_STARTING.INTERVAL_DATE.END_DATE\"]= ps.to_datetime(pd2[\"FD_OBJECT_CONTRACT_INFORMATION.PERIOD_WORK_DATE_STARTING.INTERVAL_DATE.END_DATE\"])\n",
    "pd2[\"FD_OBJECT_CONTRACT_INFORMATION.PERIOD_WORK_DATE_STARTING.INTERVAL_DATE.START_DATE\"]= ps.to_datetime(pd2[\"FD_OBJECT_CONTRACT_INFORMATION.PERIOD_WORK_DATE_STARTING.INTERVAL_DATE.START_DATE\"])\n",
    "pd2[\"FD_PROCEDURE_DEFINITION_CONTRACT_NOTICE.ADMINISTRATIVE_INFORMATION_CONTRACT_NOTICE.CONDITIONS_FOR_OPENING_TENDERS.DATE_TIME\"]= ps.to_datetime(pd2[\"FD_PROCEDURE_DEFINITION_CONTRACT_NOTICE.ADMINISTRATIVE_INFORMATION_CONTRACT_NOTICE.CONDITIONS_FOR_OPENING_TENDERS.DATE_TIME\"])\n",
    "pd2[\"FD_PROCEDURE_DEFINITION_CONTRACT_NOTICE.ADMINISTRATIVE_INFORMATION_CONTRACT_NOTICE.CONDITIONS_OBTAINING_SPECIFICATIONS.TIME_LIMIT\"]= ps.to_datetime(pd2[\"FD_PROCEDURE_DEFINITION_CONTRACT_NOTICE.ADMINISTRATIVE_INFORMATION_CONTRACT_NOTICE.CONDITIONS_OBTAINING_SPECIFICATIONS.TIME_LIMIT\"])\n",
    "pd2[\"FD_PROCEDURE_DEFINITION_CONTRACT_NOTICE.ADMINISTRATIVE_INFORMATION_CONTRACT_NOTICE.DISPATCH_INVITATIONS_DATE\"]= ps.to_datetime(pd2[\"FD_PROCEDURE_DEFINITION_CONTRACT_NOTICE.ADMINISTRATIVE_INFORMATION_CONTRACT_NOTICE.DISPATCH_INVITATIONS_DATE\"])\n",
    "pd2[\"FD_PROCEDURE_DEFINITION_CONTRACT_NOTICE.ADMINISTRATIVE_INFORMATION_CONTRACT_NOTICE.MINIMUM_TIME_MAINTAINING_TENDER.UNTIL_DATE\"]= ps.to_datetime(pd2[\"FD_PROCEDURE_DEFINITION_CONTRACT_NOTICE.ADMINISTRATIVE_INFORMATION_CONTRACT_NOTICE.MINIMUM_TIME_MAINTAINING_TENDER.UNTIL_DATE\"])\n",
    "pd2[\"FD_PROCEDURE_DEFINITION_CONTRACT_NOTICE.ADMINISTRATIVE_INFORMATION_CONTRACT_NOTICE.PREVIOUS_PUBLICATION_INFORMATION_NOTICE_F2.PREVIOUS_PUBLICATION_EXISTS_F2.OTHER_PREVIOUS_PUBLICATIONS.OTHER_PREVIOUS_PUBLICATION.DATE_OJ\"]= ps.to_datetime(pd2[\"FD_PROCEDURE_DEFINITION_CONTRACT_NOTICE.ADMINISTRATIVE_INFORMATION_CONTRACT_NOTICE.PREVIOUS_PUBLICATION_INFORMATION_NOTICE_F2.PREVIOUS_PUBLICATION_EXISTS_F2.OTHER_PREVIOUS_PUBLICATIONS.OTHER_PREVIOUS_PUBLICATION.DATE_OJ\"])\n",
    "pd2[\"FD_PROCEDURE_DEFINITION_CONTRACT_NOTICE.ADMINISTRATIVE_INFORMATION_CONTRACT_NOTICE.PREVIOUS_PUBLICATION_INFORMATION_NOTICE_F2.PREVIOUS_PUBLICATION_EXISTS_F2.PREVIOUS_PUBLICATION_NOTICE_F2.DATE_OJ\"]= ps.to_datetime(pd2[\"FD_PROCEDURE_DEFINITION_CONTRACT_NOTICE.ADMINISTRATIVE_INFORMATION_CONTRACT_NOTICE.PREVIOUS_PUBLICATION_INFORMATION_NOTICE_F2.PREVIOUS_PUBLICATION_EXISTS_F2.PREVIOUS_PUBLICATION_NOTICE_F2.DATE_OJ\"])\n",
    "pd2[\"FD_PROCEDURE_DEFINITION_CONTRACT_NOTICE.ADMINISTRATIVE_INFORMATION_CONTRACT_NOTICE.RECEIPT_LIMIT_DATE\"]= ps.to_datetime(pd2[\"FD_PROCEDURE_DEFINITION_CONTRACT_NOTICE.ADMINISTRATIVE_INFORMATION_CONTRACT_NOTICE.RECEIPT_LIMIT_DATE\"])"
   ]
  },
  {
   "cell_type": "code",
   "execution_count": null,
   "id": "65572965-af8b-4e6c-9a84-dc62c6403930",
   "metadata": {},
   "outputs": [],
   "source": [
    "pd2.info() "
   ]
  },
  {
   "cell_type": "code",
   "execution_count": null,
   "id": "79686907-fa6a-4780-98fd-c9708ef0044d",
   "metadata": {},
   "outputs": [],
   "source": [
    "fd2 = spark.read.parquet(\"s3a_//falk2210/fd2_210921.parquet/*.parquet\")\n",
    "pd2 = fd2.to_pandas_on_spark()"
   ]
  },
  {
   "cell_type": "code",
   "execution_count": null,
   "id": "8b721399-4b4a-4cd0-9a45-9fc8dd236e1d",
   "metadata": {},
   "outputs": [],
   "source": [
    "fd2 = pd2.to_spark()\n",
    "\n",
    "\n",
    "fd2.write.parquet(\"s3a_//falk2210/fd2_240921.parquet\")"
   ]
  },
  {
   "cell_type": "code",
   "execution_count": null,
   "id": "4ff6cdc8-17f2-497a-b2c1-2ca37526d3a0",
   "metadata": {},
   "outputs": [],
   "source": [
    "fd2 = pd2.to_spark()\n",
    "#f102 = f102.drop(\"__index_level_0__\")\n",
    "\n",
    "fd2.write.parquet(\"s3a_//falk2210/fd2_210921.parquet\")"
   ]
  },
  {
   "cell_type": "code",
   "execution_count": null,
   "id": "7afa189b-2cd4-49e8-b868-bdfd2dd26f6c",
   "metadata": {},
   "outputs": [],
   "source": [
    "#fd2 = spark.read.parquet(\"s3a_//falk2210/fd2_210921.parquet/*.parquet\")"
   ]
  },
  {
   "cell_type": "code",
   "execution_count": null,
   "id": "f8a1d45c-50aa-415e-b5cd-cb5ba4faf81e",
   "metadata": {},
   "outputs": [],
   "source": [
    "#fd2.printSchema()"
   ]
  },
  {
   "cell_type": "code",
   "execution_count": null,
   "id": "21a07c23-23d8-468e-9aad-f3301cc1d4bc",
   "metadata": {},
   "outputs": [],
   "source": [
    "spark.stop()"
   ]
  },
  {
   "cell_type": "code",
   "execution_count": null,
   "id": "4797c1fc-9e01-4e9c-b0f4-c73d9b2503de",
   "metadata": {},
   "outputs": [],
   "source": [
    "#pd2 = fd2.to_pandas_on_spark()"
   ]
  },
  {
   "cell_type": "code",
   "execution_count": null,
   "id": "eddd2798-4aeb-4f32-b65a-acf7f883244d",
   "metadata": {},
   "outputs": [],
   "source": [
    "#pd2.info()"
   ]
  },
  {
   "cell_type": "markdown",
   "id": "f6c493c5-6029-4523-ae31-ea83f6ea2583",
   "metadata": {
    "tags": []
   },
   "source": [
    "# 3 AWARD_OF_CONTRACT"
   ]
  },
  {
   "cell_type": "markdown",
   "id": "16986c82-9039-4933-a580-208f1681302a",
   "metadata": {},
   "source": [
    "<a id='d3' />"
   ]
  },
  {
   "cell_type": "code",
   "execution_count": null,
   "id": "d6b97798-6f48-4308-9611-679c8976cad8",
   "metadata": {
    "tags": []
   },
   "outputs": [],
   "source": [
    "d3 = spark.read.json(\"falk/3.json/*.json\")\n",
    "#d3.printSchema()"
   ]
  },
  {
   "cell_type": "code",
   "execution_count": null,
   "id": "f2c96662-81ae-42f9-aa40-961db5dca88e",
   "metadata": {},
   "outputs": [],
   "source": [
    "pd3 = d3.to_pandas_on_spark()"
   ]
  },
  {
   "cell_type": "code",
   "execution_count": null,
   "id": "bd88f171-c8c8-4b7d-937d-9b0d815c9334",
   "metadata": {},
   "outputs": [],
   "source": [
    "pd3 = pd3.rename(columns=lambda x_ re.sub('DOFFIN_ESENDERS_VERSION', 'DOFFIN_VERSION', x))\n",
    "#pd3.info()"
   ]
  },
  {
   "cell_type": "code",
   "execution_count": null,
   "id": "06233a32-9220-4faa-b3b3-3017bd5e2d91",
   "metadata": {},
   "outputs": [],
   "source": [
    "pd3 = pd3.rename(columns=lambda x_ re.sub('DOFFIN_ESENDERS_', '', x))"
   ]
  },
  {
   "cell_type": "code",
   "execution_count": null,
   "id": "c21d16b3-c358-424d-8608-4cf9f949c0bd",
   "metadata": {},
   "outputs": [],
   "source": [
    "pd3 = pd3.rename(columns=lambda x_ re.sub('FORM_SECTION_', '', x))\n",
    "#pd3.info()"
   ]
  },
  {
   "cell_type": "code",
   "execution_count": null,
   "id": "77ed50c9-18e8-4506-ab69-00ea89a01a62",
   "metadata": {},
   "outputs": [],
   "source": [
    "pd3 = pd3.rename(columns=lambda x_ re.sub('CONTRACT_AWARD_', '', x))\n",
    "#pd3.info()"
   ]
  },
  {
   "cell_type": "code",
   "execution_count": null,
   "id": "eb1617d9-cb3d-4466-99ef-92cceb800cda",
   "metadata": {},
   "outputs": [],
   "source": [
    "pd3['FD_AWARD_OF_CONTRACT_CONTRACT_TITLE'].update(pd3.pop('FD_AWARD_OF_CONTRACT_CONTRACT_TITLE_P'))\n",
    "pd3['FD_AWARD_OF_CONTRACT_MORE_INFORMATION_TO_SUB_CONTRACTED_CONTRACT_LIKELY_SUB_CONTRACTED_ADDITIONAL_INFORMATION'].update(pd3.pop('FD_AWARD_OF_CONTRACT_MORE_INFORMATION_TO_SUB_CONTRACTED_CONTRACT_LIKELY_SUB_CONTRACTED_ADDITIONAL_INFORMATION_P'))\n",
    "pd3['FD_COMPLEMENTARY_INFORMATION_ADDITIONAL_INFORMATION'].update(pd3.pop('FD_COMPLEMENTARY_INFORMATION_ADDITIONAL_INFORMATION_P'))\n",
    "pd3['FD_COMPLEMENTARY_INFORMATION_PROCEDURES_FOR_APPEAL_LODGING_OF_APPEALS_LODGING_OF_APPEALS_PRECISION'].update(pd3.pop('FD_COMPLEMENTARY_INFORMATION_PROCEDURES_FOR_APPEAL_LODGING_OF_APPEALS_LODGING_OF_APPEALS_PRECISION_P'))\n",
    "pd3['FD_OBJECT_CONTRACT_INFORMATION_CONTRACT_AWARD_NOTICE_DESCRIPTION_AWARD_NOTICE_INFORMATION_LOCATION_NUTS_LOCATION'].update(pd3.pop('FD_OBJECT_CONTRACT_INFORMATION_CONTRACT_AWARD_NOTICE_DESCRIPTION_AWARD_NOTICE_INFORMATION_LOCATION_NUTS_LOCATION_P'))\n",
    "pd3['FD_OBJECT_CONTRACT_INFORMATION_CONTRACT_AWARD_NOTICE_DESCRIPTION_AWARD_NOTICE_INFORMATION_SHORT_CONTRACT_DESCRIPTION'].update(pd3.pop('FD_OBJECT_CONTRACT_INFORMATION_CONTRACT_AWARD_NOTICE_DESCRIPTION_AWARD_NOTICE_INFORMATION_SHORT_CONTRACT_DESCRIPTION_P'))\n",
    "pd3['FD_OBJECT_CONTRACT_INFORMATION_CONTRACT_AWARD_NOTICE_DESCRIPTION_AWARD_NOTICE_INFORMATION_TITLE_CONTRACT'].update(pd3.pop('FD_OBJECT_CONTRACT_INFORMATION_CONTRACT_AWARD_NOTICE_DESCRIPTION_AWARD_NOTICE_INFORMATION_TITLE_CONTRACT_P'))\n",
    "pd3['FD_PROCEDURE_DEFINITION_CONTRACT_AWARD_NOTICE_ADMINISTRATIVE_INFORMATION_FILE_REFERENCE_NUMBER'].update(pd3.pop('FD_PROCEDURE_DEFINITION_CONTRACT_AWARD_NOTICE_ADMINISTRATIVE_INFORMATION_FILE_REFERENCE_NUMBER_P'))\n",
    "pd3['FD_PROCEDURE_DEFINITION_CONTRACT_AWARD_NOTICE_TYPE_OF_PROCEDURE_DEF_F03_AWARD_WITHOUT_PRIOR_PUBLICATION_ANNEX_D_REASON_CONTRACT_LAWFUL'].update(pd3.pop('FD_PROCEDURE_DEFINITION_CONTRACT_AWARD_NOTICE_TYPE_OF_PROCEDURE_DEF_F03_AWARD_WITHOUT_PRIOR_PUBLICATION_ANNEX_D_REASON_CONTRACT_LAWFUL_P'))"
   ]
  },
  {
   "cell_type": "code",
   "execution_count": null,
   "id": "09ceee5f-d5f3-477d-94ba-95c6aaed6929",
   "metadata": {},
   "outputs": [],
   "source": [
    "pd3 = pd3.rename(columns=lambda x_ re.sub('\\_P$', '', x))\n",
    "pd3 = pd3.rename(columns=lambda x_ re.sub('F03_', '', x))\n",
    "pd3 = pd3.rename(columns=lambda x_ re.sub('_F03', '', x))\n",
    "pd3 = pd3.rename(columns=lambda x_ re.sub('CONTACT_DATA_WITHOUT_RESPONSIBLE_NAME_', '', x))\n",
    "pd3 = pd3.rename(columns=lambda x_ re.sub('DOFFIN_FORM_TYPE_', '', x))\n",
    "pd3 = pd3.rename(columns=lambda x_ re.sub('ADMINISTRATIVE_INFORMATION_PREVIOUS_PUBLICATION_INFORMATION_NOTICE_', '', x))\n",
    "pd3 = pd3.rename(columns=lambda x_ re.sub('ORGANISATION_', '', x))\n",
    "pd3 = pd3.rename(columns=lambda x_ re.sub('FD_PROCEDURE_DEFINITION_CONTRACT_AWARD_NOTICE_ADMINISTRATIVE_INFORMATION_PREVIOUS_PUBLICATION_INFORMATION_NOTICE_F3_PREVIOUS_PUBLICATION_EXISTS_F3', 'FD_PROCEDURE_DEFINITION_CONTRACT_AWARD_NOTICE_ADMINISTRATIVE_INFORMATION_PREVIOUS_PUBLICATION_INFORMATION_NOTICE_PREVIOUS_PUBLICATION_EXISTS', x))\n",
    "pd3 = pd3.rename(columns=lambda x_ re.sub('PREVIOUS_PUBLICATION_NOTICE_F3', 'PREVIOUS_PUBLICATION_NOTICE', x))\n",
    "pd3 = pd3.rename(columns=lambda x_ re.sub('PREVIOUS_NOTICE_BUYER_PROFILE_F3', 'PREVIOUS_NOTICE_BUYER_PROFILE', x))\n",
    "pd3 = pd3.rename(columns=lambda x_ re.sub('AUTHORITY_INFORMATION_', '', x))\n",
    "pd3 = pd3.rename(columns=lambda x_ re.sub('E_MAILS_', '', x))\n",
    "pd3 = pd3.rename(columns=lambda x_ re.sub('FD_PROCEDURE_DEFINITION_CONTRACT_AWARD_NOTICE_ADMINISTRATIVE_INFORMATION_PREVIOUS_PUBLICATION_INFORMATION_NOTICE_PREVIOUS_PUBLICATION_EXISTS_', 'FD_PREVIOUS_PUBLICATION_EXISTS_', x))"
   ]
  },
  {
   "cell_type": "code",
   "execution_count": null,
   "id": "d9c859de-691b-43f0-b2dd-1f7e7a720e92",
   "metadata": {},
   "outputs": [],
   "source": [
    "pd3['FD_COMPLEMENTARY_INFORMATION_PROCEDURES_FOR_APPEAL_APPEAL_PROCEDURE_BODY_RESPONSIBLE_ADDRESS'].update(pd3.pop('FD_COMPLEMENTARY_INFORMATION_PROCEDURES_FOR_APPEAL_LODGING_INFORMATION_FOR_SERVICE_ADDRESS'))\n",
    "pd3['FD_COMPLEMENTARY_INFORMATION_PROCEDURES_FOR_APPEAL_APPEAL_PROCEDURE_BODY_RESPONSIBLE_COUNTRY_VALUE'].update(pd3.pop('FD_COMPLEMENTARY_INFORMATION_PROCEDURES_FOR_APPEAL_LODGING_INFORMATION_FOR_SERVICE_COUNTRY_VALUE'))\n",
    "pd3['FD_COMPLEMENTARY_INFORMATION_PROCEDURES_FOR_APPEAL_APPEAL_PROCEDURE_BODY_RESPONSIBLE_E_MAIL'].update(pd3.pop('FD_COMPLEMENTARY_INFORMATION_PROCEDURES_FOR_APPEAL_LODGING_INFORMATION_FOR_SERVICE_E_MAIL'))\n",
    "pd3['FD_COMPLEMENTARY_INFORMATION_PROCEDURES_FOR_APPEAL_APPEAL_PROCEDURE_BODY_RESPONSIBLE_FAX'].update(pd3.pop('FD_COMPLEMENTARY_INFORMATION_PROCEDURES_FOR_APPEAL_LODGING_INFORMATION_FOR_SERVICE_FAX'))\n",
    "pd3['FD_COMPLEMENTARY_INFORMATION_PROCEDURES_FOR_APPEAL_APPEAL_PROCEDURE_BODY_RESPONSIBLE_NATIONALID'].update(pd3.pop('FD_COMPLEMENTARY_INFORMATION_PROCEDURES_FOR_APPEAL_LODGING_INFORMATION_FOR_SERVICE_NATIONALID'))\n",
    "pd3['FD_COMPLEMENTARY_INFORMATION_PROCEDURES_FOR_APPEAL_APPEAL_PROCEDURE_BODY_RESPONSIBLE_OFFICIALNAME'].update(pd3.pop('FD_COMPLEMENTARY_INFORMATION_PROCEDURES_FOR_APPEAL_LODGING_INFORMATION_FOR_SERVICE_OFFICIALNAME'))\n",
    "pd3['FD_COMPLEMENTARY_INFORMATION_PROCEDURES_FOR_APPEAL_APPEAL_PROCEDURE_BODY_RESPONSIBLE_PHONE'].update(pd3.pop('FD_COMPLEMENTARY_INFORMATION_PROCEDURES_FOR_APPEAL_LODGING_INFORMATION_FOR_SERVICE_PHONE'))\n",
    "pd3['FD_COMPLEMENTARY_INFORMATION_PROCEDURES_FOR_APPEAL_APPEAL_PROCEDURE_BODY_RESPONSIBLE_POSTAL_CODE'].update(pd3.pop('FD_COMPLEMENTARY_INFORMATION_PROCEDURES_FOR_APPEAL_LODGING_INFORMATION_FOR_SERVICE_POSTAL_CODE'))\n",
    "pd3['FD_COMPLEMENTARY_INFORMATION_PROCEDURES_FOR_APPEAL_APPEAL_PROCEDURE_BODY_RESPONSIBLE_TOWN'].update(pd3.pop('FD_COMPLEMENTARY_INFORMATION_PROCEDURES_FOR_APPEAL_LODGING_INFORMATION_FOR_SERVICE_TOWN'))\n",
    "pd3['FD_COMPLEMENTARY_INFORMATION_PROCEDURES_FOR_APPEAL_APPEAL_PROCEDURE_BODY_RESPONSIBLE_URL'].update(pd3.pop('FD_COMPLEMENTARY_INFORMATION_PROCEDURES_FOR_APPEAL_LODGING_INFORMATION_FOR_SERVICE_URL'))"
   ]
  },
  {
   "cell_type": "code",
   "execution_count": null,
   "id": "c79d85d0-f1ec-4afd-b52b-7daa266df85e",
   "metadata": {},
   "outputs": [],
   "source": [
    "pd3 = pd3.rename(columns=lambda x_ re.sub('FD_AWARD_OF_CONTRACT_ECONOMIC_OPERATOR_NAME_ADDRESS_', 'AWARDED_CONTRACT_CONTRACTOR_ADDRESS_CONTRACTOR_', x))\n",
    "pd3 = pd3.rename(columns=lambda x_ re.sub('FD_AWARD_OF_CONTRACT_', 'AWARD_CONTRACT_', x)) #ITEM\n",
    "pd3 = pd3.rename(columns=lambda x_ re.sub('FD_COMPLEMENTARY_INFORMATION_PROCEDURES_FOR_APPEAL_MEDIATION_PROCEDURE_BODY_RESPONSIBLE_', 'COMPLEMENTARY_INFO_ADDRESS_MEDIATION_BODY_', x))\n",
    "pd3 = pd3.rename(columns=lambda x_ re.sub('FD_COMPLEMENTARY_INFORMATION_PROCEDURES_FOR_APPEAL_APPEAL_PROCEDURE_BODY_RESPONSIBLE_', 'COMPLEMENTARY_INFO_ADDRESS_REVIEW_BODY_', x))\n",
    "pd3 = pd3.rename(columns=lambda x_ re.sub('FD_COMPLEMENTARY_INFORMATION_NOTICE_DISPATCH_DATE_', 'COMPLEMENTARY_INFO_', x)) #COMPLEMENTARY_INFO_DATE_DISPATCH_NOTICE\n",
    "pd3 = pd3.rename(columns=lambda x_ re.sub('FD_CONTRACTING_NAME_ADDRESSES_CONTACT_CA_CE_CONCESSIONAIRE_PROFILE_', 'CONTRACTING_BODY_ADDRESS_CONTRACTING_BODY_', x))\n",
    "#pd3 = pd3.rename(columns=lambda x_ re.sub('', 'CONTRACTING_BODY_ADDRESS_FURTHER_INFO_', x))\n",
    "pd3 = pd3.rename(columns=lambda x_ re.sub('FD_CONTRACTING_TYPE_AND_ACTIVITIES_AND_PURCHASING_ON_BEHALF_PURCHASING_ON_BEHALF_PURCHASING_ON_BEHALF_YES_CONTACT_DATA_OTHER_BEHALF_CONTRACTING_AUTORITHY_', 'CONTRACTING_BODY_ADDRESS_PARTICIPATION_', x))\n",
    "pd3 = pd3.rename(columns=lambda x_ re.sub('FD_CONTRACTING_TYPE_AND_ACTIVITIES_AND_PURCHASING_ON_BEHALF_TYPE_AND_ACTIVITIES_TYPE_OF_CONTRACTING_AUTHORITY_', 'CONTRACTING_BODY_', x)) #CONTRACTING_BODY_CA_ACTIVITY_VALUE\n",
    "#pd3 = pd3.rename(columns=lambda x_ re.sub('', 'LEFTI_', x)) #LEFTI_PARTICULAR_PROFESSION_CTYPE\n",
    "pd3 = pd3.rename(columns=lambda x_ re.sub('FD_OBJECT_CONTRACT_INFORMATION_CONTRACT_AWARD_NOTICE_DESCRIPTION_AWARD_NOTICE_INFORMATION_CPV_', 'OBJECT_CONTRACT_', x))  #OBJECT_CONTRACT_CPV_MAIN_CPV_CODE_CODE\n",
    "#pd3 = pd3.rename(columns=lambda x_ re.sub('', 'OBJECT_CONTRACT_OBJECT_DESCR_', x)) #OBJECT_CONTRACT_OBJECT_DESCR_CPV_ADDITIONAL\n",
    "#pd3 = pd3.rename(columns=lambda x_ re.sub('', 'OBJECT_CONTRACT_OBJECT_DESCR_', x))  #OBJECT_CONTRACT_OBJECT_DESCR_ITEM\n",
    "pd3 = pd3.rename(columns=lambda x_ re.sub('FD_OBJECT_CONTRACT_INFORMATION_CONTRACT_AWARD_NOTICE_DESCRIPTION_AWARD_NOTICE_INFORMATION_', 'OBJECT_CONTRACT_', x)) #OBJECT_CONTRACT_TITLE\n",
    "#pd3 = pd3.rename(columns=lambda x_ re.sub('', 'PROCEDURE_', x)) #PROCEDURE_DATE_RECEIPT_TENDERS\n",
    "pd3 = pd3.rename(columns=lambda x_ re.sub('OBJECT_CONTRACT_TITLE_CONTRACT', 'OBJECT_CONTRACT_OBJECT_DESCR_TITLE', x))\n",
    "pd3 = pd3.rename(columns=lambda x_ re.sub('OBJECT_CONTRACT_SHORT_CONTRACT_DESCRIPTION', 'OBJECT_CONTRACT_OBJECT_DESCR_SHORT_DESCR', x))\n",
    "pd3 = pd3.rename(columns=lambda x_ re.sub('AWARD_CONTRACT_MORE_INFORMATION_TO_SUB_CONTRACTED_CONTRACT_LIKELY_SUB_CONTRACTED_EXCLUDING_VAT_VALUE_CURRENCY', 'AWARDED_CONTRACT_VAL_SUBCONTRACTING_CURRENCY', x))\n",
    "pd3 = pd3.rename(columns=lambda x_ re.sub('AWARD_CONTRACT_MORE_INFORMATION_TO_SUB_CONTRACTED_CONTRACT_LIKELY_SUB_CONTRACTED_EXCLUDING_VAT_VALUE_text', 'AWARDED_CONTRACT_VAL_SUBCONTRACTING_text', x))\n",
    "pd3 = pd3.rename(columns=lambda x_ re.sub('FD_OBJECT_CONTRACT_INFORMATION_CONTRACT_AWARD_NOTICE_TOTAL_FINAL_VALUE_COSTS_RANGE_AND_CURRENCY_WITH_VAT_RATE_CURRENCY', 'OBJECT_CONTRACT_VAL_TOTAL_CURRENCY', x))\n",
    "pd3 = pd3.rename(columns=lambda x_ re.sub('FD_OBJECT_CONTRACT_INFORMATION_CONTRACT_AWARD_NOTICE_TOTAL_FINAL_VALUE_COSTS_RANGE_AND_CURRENCY_WITH_VAT_RATE_RANGE_VALUE_COST_HIGH_VALUE', 'OBJECT_CONTRACT_VAL_RANGE_TOTAL_HIGH', x))\n",
    "pd3 = pd3.rename(columns=lambda x_ re.sub('FD_OBJECT_CONTRACT_INFORMATION_CONTRACT_AWARD_NOTICE_TOTAL_FINAL_VALUE_COSTS_RANGE_AND_CURRENCY_WITH_VAT_RATE_RANGE_VALUE_COST_LOW_VALUE', 'OBJECT_CONTRACT_VAL_RANGE_TOTAL_LOW', x))\n",
    "pd3 = pd3.rename(columns=lambda x_ re.sub('FD_OBJECT_CONTRACT_INFORMATION_CONTRACT_AWARD_NOTICE_TOTAL_FINAL_VALUE_COSTS_RANGE_AND_CURRENCY_WITH_VAT_RATE_VALUE_COST', 'OBJECT_CONTRACT_VAL_TOTAL_text', x))\n",
    "pd3 = pd3.rename(columns=lambda x_ re.sub('AWARD_CONTRACT_CONTRACT_VALUE_INFORMATION_COSTS_RANGE_AND_CURRENCY_WITH_VAT_RATE_CURRENCY', 'AWARDED_CONTRACT_VALUES_VAL_RANGE_TOTAL_CURRENCY', x))\n",
    "pd3 = pd3.rename(columns=lambda x_ re.sub('AWARD_CONTRACT_CONTRACT_VALUE_INFORMATION_COSTS_RANGE_AND_CURRENCY_WITH_VAT_RATE_RANGE_VALUE_COST_HIGH_VALUE', 'AWARDED_CONTRACT_VALUES_VAL_RANGE_TOTAL_HIGH', x))\n",
    "pd3 = pd3.rename(columns=lambda x_ re.sub('AWARD_CONTRACT_CONTRACT_VALUE_INFORMATION_COSTS_RANGE_AND_CURRENCY_WITH_VAT_RATE_RANGE_VALUE_COST_LOW_VALUE', 'AWARDED_CONTRACT_VALUES_VAL_RANGE_TOTAL_LOW', x))\n",
    "pd3 = pd3.rename(columns=lambda x_ re.sub('AWARD_CONTRACT_CONTRACT_VALUE_INFORMATION_INITIAL_ESTIMATED_TOTAL_VALUE_CONTRACT_CURRENCY', 'AWARDED_CONTRACT_VALUES_VAL_ESTIMATED_TOTAL_CURRENCY', x))\n",
    "pd3 = pd3.rename(columns=lambda x_ re.sub('AWARD_CONTRACT_CONTRACT_VALUE_INFORMATION_INITIAL_ESTIMATED_TOTAL_VALUE_CONTRACT_VALUE_COST', 'AWARDED_CONTRACT_VALUES_VAL_ESTIMATED_TOTAL_text', x))\n",
    "pd3 = pd3.rename(columns=lambda x_ re.sub('FD_PROCEDURE_DEFINITION_CONTRACT_AWARD_NOTICE_TYPE_OF_PROCEDURE_DEF_PT_NEGOTIATED_WITHOUT_COMPETITION_ANNEX_D_REASON_CONTRACT_LAWFUL', 'PROCEDURE_PT_AWARD_CONTRACT_WITHOUT_CALL_D_JUSTIFICATION', x))\n",
    "pd3 = pd3.rename(columns=lambda x_ re.sub('FD_PROCEDURE_DEFINITION_CONTRACT_AWARD_NOTICE_TYPE_OF_PROCEDURE_DEF_AWARD_WITHOUT_PRIOR_PUBLICATION_ANNEX_D_REASON_CONTRACT_LAWFUL', 'PROCEDURE_PT_AWARD_CONTRACT_WITHOUT_PUBLICATION_D_JUSTIFICATION', x))\n",
    "#pd3 = pd3.rename(columns=lambda x_ re.sub('', 'CONTRACTING_BODY_URL_DOCUMENT', x))\n",
    "pd3 = pd3.rename(columns=lambda x_ re.sub('FD_CONTRACTING_NAME_ADDRESSES_CONTACT_INTERNET_ADDRESSES_URL_PARTICIPATE', 'CONTRACTING_BODY_URL_PARTICIPATION', x))\n",
    "#pd3 = pd3.rename(columns=lambda x_ re.sub('', 'CONTRACTING_BODY_URL_TOOL', x))\n",
    "#pd3 = pd3.rename(columns=lambda x_ re.sub('FD_CONTRACTING_NAME_ADDRESSES_CONTACT_INTERNET_ADDRESSES_URL_GENERAL', 'CONTRACTING_BODY_ADDRESS_FURTHER_INFO_URL_GENERAL', x))\n",
    "#pd3 = pd3.rename(columns=lambda x_ re.sub('', 'PROCEDURE_URL_NATIONAL_PROCEDURE', x))\n",
    "pd3 = pd3.rename(columns=lambda x_ re.sub('FD_CONTRACTING_NAME_ADDRESSES_CONTACT_INTERNET_ADDRESSES_', 'CONTRACTING_BODY_', x))\n",
    "pd3 = pd3.rename(columns=lambda x_ re.sub('FD_PROCEDURE_DEFINITION_CONTRACT_AWARD_NOTICE_AWARD_CRITERIA_CONTRACT_AWARD_NOTICE_INFORMATION_AWARD_CRITERIA_DETAIL_MOST_ECONOMICALLY_ADVANTAGEOUS_TENDER_SHORT_CRITERIA_DEFINITION_', 'PROCEDURE_', x))\n",
    "pd3 = pd3.rename(columns=lambda x_ re.sub('AWARD_CONTRACT_CONTRACT_TITLE', 'AWARD_CONTRACT_TITLE', x))\n",
    "pd3 = pd3.rename(columns=lambda x_ re.sub('AWARD_CONTRACT_LOT_NUMBER', 'AWARD_CONTRACT_LOT_NO', x))\n",
    "pd3 = pd3.rename(columns=lambda x_ re.sub('FD_COMPLEMENTARY_INFORMATION_ADDITIONAL_INFORMATION', 'COMPLEMENTARY_INFO_INFO_ADD', x))\n",
    "pd3 = pd3.rename(columns=lambda x_ re.sub('FD_COMPLEMENTARY_INFORMATION_RELATES_TO_EU_PROJECT_YES', 'OBJECT_CONTRACT_OBJECT_DESCR_EU_PROGR_RELATED', x))\n",
    "pd3 = pd3.rename(columns=lambda x_ re.sub('FD_PROCEDURE_DEFINITION_CONTRACT_AWARD_NOTICE_ADMINISTRATIVE_INFORMATION_FILE_REFERENCE_NUMBER', 'OBJECT_CONTRACT_REFERENCE_NUMBER', x)) \n",
    "pd3 = pd3.rename(columns=lambda x_ re.sub('AWARD_CONTRACT_MORE_INFORMATION_TO_SUB_CONTRACTED_CONTRACT_LIKELY_SUB_CONTRACTED_', 'AWARD_CONTRACT_CONTRACT_LIKELY_SUB_CONTRACTED_', x))\n",
    "pd3 = pd3.rename(columns=lambda x_ re.sub('FD_CONTRACTING_TYPE_AND_ACTIVITIES_AND_PURCHASING_ON_BEHALF_TYPE_AND_ACTIVITIES_TYPE_AND_ACTIVITIES_', 'FD_CONTRACTING_TYPE_AND_ACTIVITIES_AND_PURCHASING_ON_BEHALF_TYPE_AND_ACTIVITIES', x))\n",
    "pd3 = pd3.rename(columns=lambda x_ re.sub('FD_PROCEDURE_DEFINITION_CONTRACT_AWARD_NOTICE_TYPE_OF_PROCEDURE_DEF_AWARD_WITHOUT_PRIOR_PUBLICATION_ANNEX_D_NO_OPEN_RESTRICTED_VALUE', 'FD_PROCEDURE_DEFINITION_TYPE_OF_PROCEDUREAWARD_WITHOUT_PRIOR_PUBLICATION_ANNEX_D_ANNEX_D1_NO_OPEN_RESTRICTED_VALUE', x))\n",
    "pd3 = pd3.rename(columns=lambda x_ re.sub('FD_PROCEDURE_DEFINITION_CONTRACT_AWARD_NOTICE_TYPE_OF_PROCEDURE_DEF_PT_NEGOTIATED_WITHOUT_COMPETITION_ANNEX_D_NO_OPEN_RESTRICTED_VALUE', 'FD_PROCEDURE_DEFINITION_TYPE_OF_PROCEDUREPT_NEGOTIATED_WITHOUT_COMPETITION_ANNEX_D_ANNEX_D1_NO_OPEN_RESTRICTED_VALUE', x))\n",
    "pd3 = pd3.rename(columns=lambda x_ re.sub('OBJECT_CONTRACT_TYPE_CONTRACT_LOCATION_W_PUB_', 'OBJECT_CONTRACT_TYPE_CONTRACT_LOCATION_', x))\n",
    "pd3 = pd3.rename(columns=lambda x_ re.sub('SERVICE_CATEGORY_PUB', 'SERVICE_CATEGORY', x))\n"
   ]
  },
  {
   "cell_type": "code",
   "execution_count": null,
   "id": "24ec71c0-fb7a-4966-9d1e-7403b34d9630",
   "metadata": {},
   "outputs": [],
   "source": [
    "pd3.info()"
   ]
  },
  {
   "cell_type": "code",
   "execution_count": null,
   "id": "4cbba94e-f156-4bbd-8dbc-f1f4865e8cde",
   "metadata": {},
   "outputs": [],
   "source": [
    "fd3 = pd3.to_spark()"
   ]
  },
  {
   "cell_type": "code",
   "execution_count": null,
   "id": "bed3f2f0-e8a7-4f4b-aac5-02fef0f750c3",
   "metadata": {},
   "outputs": [],
   "source": [
    "\"\"\"\n",
    "fd3 = fd3.withColumn(\"FD_AWARD_OF_CONTRACT.CONTRACT_AWARD_DATE\", expr(\"make_date(`FD_AWARD_OF_CONTRACT.CONTRACT_AWARD_DATE.YEAR`, `FD_AWARD_OF_CONTRACT.CONTRACT_AWARD_DATE.MONTH`, `FD_AWARD_OF_CONTRACT.CONTRACT_AWARD_DATE.DAY`)\"))\n",
    "fd3 = fd3.withColumn(\"FD_COMPLEMENTARY_INFORMATION_NOTICE_DISPATCH_DATE\", expr(\"make_date(`FD_COMPLEMENTARY_INFORMATION_NOTICE_DISPATCH_DATE.YEAR`, `FD_COMPLEMENTARY_INFORMATION_NOTICE_DISPATCH_DATE.MONTH`, `FD_COMPLEMENTARY_INFORMATION_NOTICE_DISPATCH_DATE.DAY`)\"))\n",
    "fd3 = fd3.withColumn(\"FD_PROCEDURE_DEFINITION_CONTRACT_AWARD_NOTICE.ADMINISTRATIVE_INFORMATION_PREVIOUS_PUBLICATION_INFORMATION_NOTICE_F3.PREVIOUS_PUBLICATION_EXISTS_F3.CNT_NOTICE_INFORMATION.DATE_OJ\", expr(\"make_date(`FD_PROCEDURE_DEFINITION_CONTRACT_AWARD_NOTICE.ADMINISTRATIVE_INFORMATION_PREVIOUS_PUBLICATION_INFORMATION_NOTICE_F3.PREVIOUS_PUBLICATION_EXISTS_F3.CNT_NOTICE_INFORMATION.DATE_OJ.YEAR`, `FD_PROCEDURE_DEFINITION_CONTRACT_AWARD_NOTICE.ADMINISTRATIVE_INFORMATION_PREVIOUS_PUBLICATION_INFORMATION_NOTICE_F3.PREVIOUS_PUBLICATION_EXISTS_F3.CNT_NOTICE_INFORMATION.DATE_OJ.MONTH`, `FD_PROCEDURE_DEFINITION_CONTRACT_AWARD_NOTICE.ADMINISTRATIVE_INFORMATION_PREVIOUS_PUBLICATION_INFORMATION_NOTICE_F3.PREVIOUS_PUBLICATION_EXISTS_F3.CNT_NOTICE_INFORMATION.DATE_OJ.DAY`)\"))\n",
    "fd3 = fd3.withColumn(\"FD_PROCEDURE_DEFINITION_CONTRACT_AWARD_NOTICE.ADMINISTRATIVE_INFORMATION_PREVIOUS_PUBLICATION_INFORMATION_NOTICE_F3.PREVIOUS_PUBLICATION_EXISTS_F3.EX_ANTE_NOTICE_INFORMATION.DATE_OJ\", expr(\"make_date(`FD_PROCEDURE_DEFINITION_CONTRACT_AWARD_NOTICE.ADMINISTRATIVE_INFORMATION_PREVIOUS_PUBLICATION_INFORMATION_NOTICE_F3.PREVIOUS_PUBLICATION_EXISTS_F3.EX_ANTE_NOTICE_INFORMATION.DATE_OJ.YEAR`, `FD_PROCEDURE_DEFINITION_CONTRACT_AWARD_NOTICE.ADMINISTRATIVE_INFORMATION_PREVIOUS_PUBLICATION_INFORMATION_NOTICE_F3.PREVIOUS_PUBLICATION_EXISTS_F3.EX_ANTE_NOTICE_INFORMATION.DATE_OJ.MONTH`, `FD_PROCEDURE_DEFINITION_CONTRACT_AWARD_NOTICE.ADMINISTRATIVE_INFORMATION_PREVIOUS_PUBLICATION_INFORMATION_NOTICE_F3.PREVIOUS_PUBLICATION_EXISTS_F3.EX_ANTE_NOTICE_INFORMATION.DATE_OJ.DAY`)\"))\n",
    "fd3 = fd3.withColumn(\"FD_PROCEDURE_DEFINITION_CONTRACT_AWARD_NOTICE.ADMINISTRATIVE_INFORMATION_PREVIOUS_PUBLICATION_INFORMATION_NOTICE_F3.PREVIOUS_PUBLICATION_EXISTS_F3.OTHER_PREVIOUS_PUBLICATIONS.OTHER_PREVIOUS_PUBLICATION.DATE_OJ\", expr(\"make_date(`FD_PROCEDURE_DEFINITION_CONTRACT_AWARD_NOTICE.ADMINISTRATIVE_INFORMATION_PREVIOUS_PUBLICATION_INFORMATION_NOTICE_F3.PREVIOUS_PUBLICATION_EXISTS_F3.OTHER_PREVIOUS_PUBLICATIONS.OTHER_PREVIOUS_PUBLICATION.DATE_OJ.YEAR`, `FD_PROCEDURE_DEFINITION_CONTRACT_AWARD_NOTICE.ADMINISTRATIVE_INFORMATION_PREVIOUS_PUBLICATION_INFORMATION_NOTICE_F3.PREVIOUS_PUBLICATION_EXISTS_F3.OTHER_PREVIOUS_PUBLICATIONS.OTHER_PREVIOUS_PUBLICATION.DATE_OJ.MONTH`, `FD_PROCEDURE_DEFINITION_CONTRACT_AWARD_NOTICE.ADMINISTRATIVE_INFORMATION_PREVIOUS_PUBLICATION_INFORMATION_NOTICE_F3.PREVIOUS_PUBLICATION_EXISTS_F3.OTHER_PREVIOUS_PUBLICATIONS.OTHER_PREVIOUS_PUBLICATION.DATE_OJ.DAY`)\"))\n",
    "fd3 = fd3.withColumn(\"FD_PROCEDURE_DEFINITION_CONTRACT_AWARD_NOTICE.ADMINISTRATIVE_INFORMATION_PREVIOUS_PUBLICATION_INFORMATION_NOTICE_F3.PREVIOUS_PUBLICATION_EXISTS_F3.PREVIOUS_PUBLICATION_NOTICE_F3.DATE_OJ\", expr(\"make_date(`FD_PROCEDURE_DEFINITION_CONTRACT_AWARD_NOTICE.ADMINISTRATIVE_INFORMATION_PREVIOUS_PUBLICATION_INFORMATION_NOTICE_F3.PREVIOUS_PUBLICATION_EXISTS_F3.PREVIOUS_PUBLICATION_NOTICE_F3.DATE_OJ.YEAR`, `FD_PROCEDURE_DEFINITION_CONTRACT_AWARD_NOTICE.ADMINISTRATIVE_INFORMATION_PREVIOUS_PUBLICATION_INFORMATION_NOTICE_F3.PREVIOUS_PUBLICATION_EXISTS_F3.PREVIOUS_PUBLICATION_NOTICE_F3.DATE_OJ.MONTH`, `FD_PROCEDURE_DEFINITION_CONTRACT_AWARD_NOTICE.ADMINISTRATIVE_INFORMATION_PREVIOUS_PUBLICATION_INFORMATION_NOTICE_F3.PREVIOUS_PUBLICATION_EXISTS_F3.PREVIOUS_PUBLICATION_NOTICE_F3.DATE_OJ.DAY`)\"))"
   ]
  },
  {
   "cell_type": "code",
   "execution_count": null,
   "id": "93081b8e-b644-4989-844f-da9232378742",
   "metadata": {},
   "outputs": [],
   "source": [
    "#fd3.printSchema()"
   ]
  },
  {
   "cell_type": "code",
   "execution_count": null,
   "id": "e308b34c-9981-44ab-8551-2c02e8f565da",
   "metadata": {},
   "outputs": [],
   "source": [
    "\"\"\"\n",
    "pd3 = fd3.to_pandas_on_spark()\n",
    "\n",
    "pd3.info()"
   ]
  },
  {
   "cell_type": "code",
   "execution_count": null,
   "id": "e85b7eda-2e24-48fb-820d-dac438e1fd15",
   "metadata": {},
   "outputs": [],
   "source": [
    "\"\"\"\n",
    "pd3 = pd3.drop(columns=['FD_AWARD_OF_CONTRACT.CONTRACT_AWARD_DATE.DAY', 'FD_AWARD_OF_CONTRACT.CONTRACT_AWARD_DATE.MONTH', 'FD_AWARD_OF_CONTRACT.CONTRACT_AWARD_DATE.YEAR'])\n",
    "pd3 = pd3.drop(columns=['FD_COMPLEMENTARY_INFORMATION_NOTICE_DISPATCH_DATE.DAY', 'FD_COMPLEMENTARY_INFORMATION_NOTICE_DISPATCH_DATE.MONTH', 'FD_COMPLEMENTARY_INFORMATION_NOTICE_DISPATCH_DATE.YEAR'])\n",
    "pd3 = pd3.drop(columns=['FD_PROCEDURE_DEFINITION_CONTRACT_AWARD_NOTICE.ADMINISTRATIVE_INFORMATION_PREVIOUS_PUBLICATION_INFORMATION_NOTICE_F3.PREVIOUS_PUBLICATION_EXISTS_F3.CNT_NOTICE_INFORMATION.DATE_OJ.DAY', 'FD_PROCEDURE_DEFINITION_CONTRACT_AWARD_NOTICE.ADMINISTRATIVE_INFORMATION_PREVIOUS_PUBLICATION_INFORMATION_NOTICE_F3.PREVIOUS_PUBLICATION_EXISTS_F3.CNT_NOTICE_INFORMATION.DATE_OJ.MONTH', 'FD_PROCEDURE_DEFINITION_CONTRACT_AWARD_NOTICE.ADMINISTRATIVE_INFORMATION_PREVIOUS_PUBLICATION_INFORMATION_NOTICE_F3.PREVIOUS_PUBLICATION_EXISTS_F3.CNT_NOTICE_INFORMATION.DATE_OJ.YEAR'])\n",
    "pd3 = pd3.drop(columns=['FD_PROCEDURE_DEFINITION_CONTRACT_AWARD_NOTICE.ADMINISTRATIVE_INFORMATION_PREVIOUS_PUBLICATION_INFORMATION_NOTICE_F3.PREVIOUS_PUBLICATION_EXISTS_F3.EX_ANTE_NOTICE_INFORMATION.DATE_OJ.DAY', 'FD_PROCEDURE_DEFINITION_CONTRACT_AWARD_NOTICE.ADMINISTRATIVE_INFORMATION_PREVIOUS_PUBLICATION_INFORMATION_NOTICE_F3.PREVIOUS_PUBLICATION_EXISTS_F3.EX_ANTE_NOTICE_INFORMATION.DATE_OJ.MONTH', 'FD_PROCEDURE_DEFINITION_CONTRACT_AWARD_NOTICE.ADMINISTRATIVE_INFORMATION_PREVIOUS_PUBLICATION_INFORMATION_NOTICE_F3.PREVIOUS_PUBLICATION_EXISTS_F3.EX_ANTE_NOTICE_INFORMATION.DATE_OJ.YEAR'])\n",
    "pd3 = pd3.drop(columns=['FD_PROCEDURE_DEFINITION_CONTRACT_AWARD_NOTICE.ADMINISTRATIVE_INFORMATION_PREVIOUS_PUBLICATION_INFORMATION_NOTICE_F3.PREVIOUS_PUBLICATION_EXISTS_F3.OTHER_PREVIOUS_PUBLICATIONS.OTHER_PREVIOUS_PUBLICATION.DATE_OJ.DAY', 'FD_PROCEDURE_DEFINITION_CONTRACT_AWARD_NOTICE.ADMINISTRATIVE_INFORMATION_PREVIOUS_PUBLICATION_INFORMATION_NOTICE_F3.PREVIOUS_PUBLICATION_EXISTS_F3.OTHER_PREVIOUS_PUBLICATIONS.OTHER_PREVIOUS_PUBLICATION.DATE_OJ.MONTH', 'FD_PROCEDURE_DEFINITION_CONTRACT_AWARD_NOTICE.ADMINISTRATIVE_INFORMATION_PREVIOUS_PUBLICATION_INFORMATION_NOTICE_F3.PREVIOUS_PUBLICATION_EXISTS_F3.OTHER_PREVIOUS_PUBLICATIONS.OTHER_PREVIOUS_PUBLICATION.DATE_OJ.YEAR'])\n",
    "pd3 = pd3.drop(columns=['FD_PROCEDURE_DEFINITION_CONTRACT_AWARD_NOTICE.ADMINISTRATIVE_INFORMATION_PREVIOUS_PUBLICATION_INFORMATION_NOTICE_F3.PREVIOUS_PUBLICATION_EXISTS_F3.PREVIOUS_PUBLICATION_NOTICE_F3.DATE_OJ.DAY', 'FD_PROCEDURE_DEFINITION_CONTRACT_AWARD_NOTICE.ADMINISTRATIVE_INFORMATION_PREVIOUS_PUBLICATION_INFORMATION_NOTICE_F3.PREVIOUS_PUBLICATION_EXISTS_F3.PREVIOUS_PUBLICATION_NOTICE_F3.DATE_OJ.MONTH', 'FD_PROCEDURE_DEFINITION_CONTRACT_AWARD_NOTICE.ADMINISTRATIVE_INFORMATION_PREVIOUS_PUBLICATION_INFORMATION_NOTICE_F3.PREVIOUS_PUBLICATION_EXISTS_F3.PREVIOUS_PUBLICATION_NOTICE_F3.DATE_OJ.YEAR'])"
   ]
  },
  {
   "cell_type": "code",
   "execution_count": null,
   "id": "e1dae75c-abbf-422a-919c-4e09d4b14cc9",
   "metadata": {},
   "outputs": [],
   "source": [
    "#pd3.info()"
   ]
  },
  {
   "cell_type": "code",
   "execution_count": null,
   "id": "1bfb8da0-d212-4ef4-bd19-7dc1f3a85662",
   "metadata": {},
   "outputs": [],
   "source": [
    "\"\"\"\n",
    "pd3[\"FD_AWARD_OF_CONTRACT.CONTRACT_AWARD_DATE\"]= ps.to_datetime(pd3[\"FD_AWARD_OF_CONTRACT.CONTRACT_AWARD_DATE\"])\n",
    "pd3[\"FD_COMPLEMENTARY_INFORMATION_NOTICE_DISPATCH_DATE\"]= ps.to_datetime(pd3[\"FD_COMPLEMENTARY_INFORMATION_NOTICE_DISPATCH_DATE\"])\n",
    "pd3[\"FD_PROCEDURE_DEFINITION_CONTRACT_AWARD_NOTICE.ADMINISTRATIVE_INFORMATION_PREVIOUS_PUBLICATION_INFORMATION_NOTICE_F3.PREVIOUS_PUBLICATION_EXISTS_F3.CNT_NOTICE_INFORMATION.DATE_OJ\"]= ps.to_datetime(pd3[\"FD_PROCEDURE_DEFINITION_CONTRACT_AWARD_NOTICE.ADMINISTRATIVE_INFORMATION_PREVIOUS_PUBLICATION_INFORMATION_NOTICE_F3.PREVIOUS_PUBLICATION_EXISTS_F3.CNT_NOTICE_INFORMATION.DATE_OJ\"])\n",
    "pd3[\"FD_PROCEDURE_DEFINITION_CONTRACT_AWARD_NOTICE.ADMINISTRATIVE_INFORMATION_PREVIOUS_PUBLICATION_INFORMATION_NOTICE_F3.PREVIOUS_PUBLICATION_EXISTS_F3.EX_ANTE_NOTICE_INFORMATION.DATE_OJ\"]= ps.to_datetime(pd3[\"FD_PROCEDURE_DEFINITION_CONTRACT_AWARD_NOTICE.ADMINISTRATIVE_INFORMATION_PREVIOUS_PUBLICATION_INFORMATION_NOTICE_F3.PREVIOUS_PUBLICATION_EXISTS_F3.EX_ANTE_NOTICE_INFORMATION.DATE_OJ\"])\n",
    "pd3[\"FD_PROCEDURE_DEFINITION_CONTRACT_AWARD_NOTICE.ADMINISTRATIVE_INFORMATION_PREVIOUS_PUBLICATION_INFORMATION_NOTICE_F3.PREVIOUS_PUBLICATION_EXISTS_F3.OTHER_PREVIOUS_PUBLICATIONS.OTHER_PREVIOUS_PUBLICATION.DATE_OJ\"]= ps.to_datetime(pd3[\"FD_PROCEDURE_DEFINITION_CONTRACT_AWARD_NOTICE.ADMINISTRATIVE_INFORMATION_PREVIOUS_PUBLICATION_INFORMATION_NOTICE_F3.PREVIOUS_PUBLICATION_EXISTS_F3.OTHER_PREVIOUS_PUBLICATIONS.OTHER_PREVIOUS_PUBLICATION.DATE_OJ\"])\n",
    "pd3[\"FD_PROCEDURE_DEFINITION_CONTRACT_AWARD_NOTICE.ADMINISTRATIVE_INFORMATION_PREVIOUS_PUBLICATION_INFORMATION_NOTICE_F3.PREVIOUS_PUBLICATION_EXISTS_F3.PREVIOUS_PUBLICATION_NOTICE_F3.DATE_OJ\"]= ps.to_datetime(pd3[\"FD_PROCEDURE_DEFINITION_CONTRACT_AWARD_NOTICE.ADMINISTRATIVE_INFORMATION_PREVIOUS_PUBLICATION_INFORMATION_NOTICE_F3.PREVIOUS_PUBLICATION_EXISTS_F3.PREVIOUS_PUBLICATION_NOTICE_F3.DATE_OJ\"])"
   ]
  },
  {
   "cell_type": "code",
   "execution_count": null,
   "id": "f79a90ac-c0d0-4c18-8dee-c81a6e89fbf9",
   "metadata": {},
   "outputs": [],
   "source": [
    "#pd3.info() "
   ]
  },
  {
   "cell_type": "code",
   "execution_count": null,
   "id": "f53aed8a-cf80-4ec0-99c1-7f8264856ef6",
   "metadata": {},
   "outputs": [],
   "source": [
    "#pd3['DOFFIN_APPENDIX.DOFFIN_FORM_TYPE.NATIONAL.REFERENCE_SECTION.REFERENCE_DOFFIN.TYPE'].unique()"
   ]
  },
  {
   "cell_type": "code",
   "execution_count": null,
   "id": "6a8f37e3-b3d5-460d-9542-d4a2d5972ee2",
   "metadata": {},
   "outputs": [],
   "source": [
    "#fd3 = pd3.to_spark()"
   ]
  },
  {
   "cell_type": "code",
   "execution_count": null,
   "id": "5fd5032c-1f65-4571-95de-c8221f2ecd85",
   "metadata": {},
   "outputs": [],
   "source": [
    "fd3.write.mode(\"append\").json(\"falk2210/f_award.json\")"
   ]
  },
  {
   "cell_type": "code",
   "execution_count": null,
   "id": "bcb35a2c-f9b1-44a8-b7d6-e86e12b97a4f",
   "metadata": {},
   "outputs": [],
   "source": [
    "#fd3.write.parquet(\"s3a_//falk2210/fd3_210921.parquet\")"
   ]
  },
  {
   "cell_type": "code",
   "execution_count": null,
   "id": "c550cc00-5340-497d-992c-8aaac94b627a",
   "metadata": {},
   "outputs": [],
   "source": [
    "\"\"\"\n",
    "pd3.select(\"FD_AWARD_OF_CONTRACT_ECONOMIC_OPERATOR_NAME_ADDRESS_OFFICIALNAME\", \"FD_CONTRACTING_NAME_ADDRESSES_CONTACT_CA_CE_CONCESSIONAIRE_PROFILE_OFFICIALNAME\") \\\n",
    "    .distinct() \\\n",
    "    .show(20)"
   ]
  },
  {
   "cell_type": "code",
   "execution_count": null,
   "id": "de0b84f5-d0ef-49c9-b54c-811b9a1f9d59",
   "metadata": {},
   "outputs": [],
   "source": [
    "\"\"\"\n",
    "tabel1 = 'FORM'\n",
    "filter1 = 3\n",
    "\n",
    "test = ps.sql(\"SELECT * FROM {pd3} WHERE {tabel1} = {filter1}\")"
   ]
  },
  {
   "cell_type": "code",
   "execution_count": null,
   "id": "5f6f7951-0149-4984-bf89-b22dd54396a8",
   "metadata": {},
   "outputs": [],
   "source": [
    "#pd3.head(5)s"
   ]
  },
  {
   "cell_type": "code",
   "execution_count": null,
   "id": "b67601fa-dd57-4191-816e-67bf7c6801e1",
   "metadata": {},
   "outputs": [],
   "source": [
    "#test.head()"
   ]
  },
  {
   "cell_type": "markdown",
   "id": "132a9af5-46f0-481e-8a5e-fb99c3032ca0",
   "metadata": {
    "jp-MarkdownHeadingCollapsed": true,
    "tags": []
   },
   "source": [
    "# 4 PRI"
   ]
  },
  {
   "cell_type": "markdown",
   "id": "55072070-d596-40a8-9440-06cbe045e622",
   "metadata": {},
   "source": [
    "<a id='d4' />"
   ]
  },
  {
   "cell_type": "code",
   "execution_count": null,
   "id": "16d15241-de5a-48f7-b0cb-3ba60381af13",
   "metadata": {},
   "outputs": [],
   "source": [
    "d4 = spark.read.json(\"falk/4.json/*.json\")\n",
    "#d4.printSchema()"
   ]
  },
  {
   "cell_type": "code",
   "execution_count": null,
   "id": "cb8c7f7f-b669-4529-8e38-9c529803497d",
   "metadata": {},
   "outputs": [],
   "source": [
    "pd4 = d4.to_pandas_on_spark()"
   ]
  },
  {
   "cell_type": "code",
   "execution_count": null,
   "id": "67943e4b-8027-4b9d-b58a-1901714008a1",
   "metadata": {},
   "outputs": [],
   "source": [
    "pd4 = pd4.rename(columns=lambda x_ re.sub('DOFFIN_ESENDERS_VERSION', 'DOFFIN_VERSION', x))\n",
    "#pd4.info()"
   ]
  },
  {
   "cell_type": "code",
   "execution_count": null,
   "id": "6bb0e2ae-ecf8-49c3-bcbb-962ececb2a09",
   "metadata": {},
   "outputs": [],
   "source": [
    "pd4 = pd4.rename(columns=lambda x_ re.sub('DOFFIN_ESENDERS_', '', x))"
   ]
  },
  {
   "cell_type": "code",
   "execution_count": null,
   "id": "12b6d25c-1e89-4250-bad6-6934b7b96ce4",
   "metadata": {},
   "outputs": [],
   "source": [
    "pd4 = pd4.rename(columns=lambda x_ re.sub('FORM_SECTION_', '', x))\n",
    "#pd4.info()"
   ]
  },
  {
   "cell_type": "code",
   "execution_count": null,
   "id": "10dda901-24bb-4921-8d70-817970d90da4",
   "metadata": {},
   "outputs": [],
   "source": [
    "pd4 = pd4.rename(columns=lambda x_ re.sub('PERIODIC_INDICATIVE_UTILITIES_', '', x))\n",
    "#pd4.info()"
   ]
  },
  {
   "cell_type": "code",
   "execution_count": null,
   "id": "15fa8228-0cad-4153-86ef-01b55a5e01bb",
   "metadata": {},
   "outputs": [],
   "source": [
    "#pd4 = pd4.rename(columns=lambda x_ re.sub('_', '_', x))\n",
    "#pd4.info()"
   ]
  },
  {
   "cell_type": "code",
   "execution_count": null,
   "id": "f97d01ea-6124-44a6-956e-8d75e81d0f6d",
   "metadata": {},
   "outputs": [],
   "source": [
    "pd4 = pd4.rename(columns=lambda x_ re.sub('\\_P$', '', x))\n",
    "#pd4.info()"
   ]
  },
  {
   "cell_type": "code",
   "execution_count": null,
   "id": "0e8169af-b8a9-400e-b52d-1cb4be5d5e16",
   "metadata": {},
   "outputs": [],
   "source": [
    "#pd4.info()"
   ]
  },
  {
   "cell_type": "code",
   "execution_count": null,
   "id": "598a86a8-e8e2-4f5d-804c-a3e0f7f38057",
   "metadata": {},
   "outputs": [],
   "source": [
    "#pd4['DOFFIN_APPENDIX.DOFFIN_FORM_TYPE.NATIONAL.REFERENCE_SECTION.REFERENCE_DOFFIN.TYPE'].unique()"
   ]
  },
  {
   "cell_type": "code",
   "execution_count": null,
   "id": "037ba134-9e9c-47e3-abc1-853399d2a03e",
   "metadata": {},
   "outputs": [],
   "source": [
    "fd4 = pd4.to_spark()"
   ]
  },
  {
   "cell_type": "code",
   "execution_count": null,
   "id": "e74984cf-1320-44e8-b441-bf129819e8eb",
   "metadata": {},
   "outputs": [],
   "source": [
    "\"\"\"\n",
    "fd4 = fd4.withColumn(\"FD_COMPLEMENTARY_INFORMATION_PERIODIC_INDICATIVE.NOTICE_DISPATCH_DATE\", expr(\"make_date(`FD_COMPLEMENTARY_INFORMATION_PERIODIC_INDICATIVE.NOTICE_DISPATCH_DATE.YEAR`, `FD_COMPLEMENTARY_INFORMATION_PERIODIC_INDICATIVE.NOTICE_DISPATCH_DATE.MONTH`, `FD_COMPLEMENTARY_INFORMATION_PERIODIC_INDICATIVE.NOTICE_DISPATCH_DATE.DAY`)\"))\n",
    "fd4 = fd4.withColumn(\"FD_INTRODUCTION_PERIODIC_INDICATIVE.ANNEX_I.AI_PROCEDURE_PERIODIC_INDICATIVE.ADMINISTRATIVE_INFORMATION_DEF.DATE_LIMIT_RECEIPT_APPLICATION\", expr(\"make_date(`FD_INTRODUCTION_PERIODIC_INDICATIVE.ANNEX_I.AI_PROCEDURE_PERIODIC_INDICATIVE.ADMINISTRATIVE_INFORMATION_DEF.DATE_LIMIT_RECEIPT_APPLICATION.YEAR`, `FD_INTRODUCTION_PERIODIC_INDICATIVE.ANNEX_I.AI_PROCEDURE_PERIODIC_INDICATIVE.ADMINISTRATIVE_INFORMATION_DEF.DATE_LIMIT_RECEIPT_APPLICATION.MONTH`, `FD_INTRODUCTION_PERIODIC_INDICATIVE.ANNEX_I.AI_PROCEDURE_PERIODIC_INDICATIVE.ADMINISTRATIVE_INFORMATION_DEF.DATE_LIMIT_RECEIPT_APPLICATION.DAY`)\"))\n",
    "fd4 = fd4.withColumn(\"FD_INTRODUCTION_PERIODIC_INDICATIVE.ANNEX_I.AI_PROCEDURE_PERIODIC_INDICATIVE.ADMINISTRATIVE_INFORMATION_DEF.DATE_LIMIT_RECEIPT_INTEREST\", expr(\"make_date(`FD_INTRODUCTION_PERIODIC_INDICATIVE.ANNEX_I.AI_PROCEDURE_PERIODIC_INDICATIVE.ADMINISTRATIVE_INFORMATION_DEF.DATE_LIMIT_RECEIPT_INTEREST.YEAR`, `FD_INTRODUCTION_PERIODIC_INDICATIVE.ANNEX_I.AI_PROCEDURE_PERIODIC_INDICATIVE.ADMINISTRATIVE_INFORMATION_DEF.DATE_LIMIT_RECEIPT_INTEREST.MONTH`, `FD_INTRODUCTION_PERIODIC_INDICATIVE.ANNEX_I.AI_PROCEDURE_PERIODIC_INDICATIVE.ADMINISTRATIVE_INFORMATION_DEF.DATE_LIMIT_RECEIPT_INTEREST.DAY`)\"))\n",
    "fd4 = fd4.withColumn(\"FD_OBJECT_CONTRACT_PERIODIC_INDICATIVE.SCHEDULED_DATE_PERIOD.PERIOD_WORK_DATE_STARTING.INTERVAL_DATE.END_DATE\", expr(\"make_date(`FD_OBJECT_CONTRACT_PERIODIC_INDICATIVE.SCHEDULED_DATE_PERIOD.PERIOD_WORK_DATE_STARTING.INTERVAL_DATE.END_DATE.YEAR`, `FD_OBJECT_CONTRACT_PERIODIC_INDICATIVE.SCHEDULED_DATE_PERIOD.PERIOD_WORK_DATE_STARTING.INTERVAL_DATE.END_DATE.MONTH`, `FD_OBJECT_CONTRACT_PERIODIC_INDICATIVE.SCHEDULED_DATE_PERIOD.PERIOD_WORK_DATE_STARTING.INTERVAL_DATE.END_DATE.DAY`)\"))\n",
    "fd4 = fd4.withColumn(\"FD_OBJECT_CONTRACT_PERIODIC_INDICATIVE.SCHEDULED_DATE_PERIOD.PERIOD_WORK_DATE_STARTING.INTERVAL_DATE.START_DATE\", expr(\"make_date(`FD_OBJECT_CONTRACT_PERIODIC_INDICATIVE.SCHEDULED_DATE_PERIOD.PERIOD_WORK_DATE_STARTING.INTERVAL_DATE.START_DATE.YEAR`, `FD_OBJECT_CONTRACT_PERIODIC_INDICATIVE.SCHEDULED_DATE_PERIOD.PERIOD_WORK_DATE_STARTING.INTERVAL_DATE.START_DATE.MONTH`, `FD_OBJECT_CONTRACT_PERIODIC_INDICATIVE.SCHEDULED_DATE_PERIOD.PERIOD_WORK_DATE_STARTING.INTERVAL_DATE.START_DATE.DAY`)\"))\n",
    "fd4 = fd4.withColumn(\"FD_OBJECT_CONTRACT_PERIODIC_INDICATIVE.SCHEDULED_DATE_PERIOD.PROCEDURE_DATE_STARTING\", expr(\"make_date(`FD_OBJECT_CONTRACT_PERIODIC_INDICATIVE.SCHEDULED_DATE_PERIOD.PROCEDURE_DATE_STARTING.YEAR`, `FD_OBJECT_CONTRACT_PERIODIC_INDICATIVE.SCHEDULED_DATE_PERIOD.PROCEDURE_DATE_STARTING.MONTH`, `FD_OBJECT_CONTRACT_PERIODIC_INDICATIVE.SCHEDULED_DATE_PERIOD.PROCEDURE_DATE_STARTING.DAY`)\"))\n",
    "\"\"\""
   ]
  },
  {
   "cell_type": "code",
   "execution_count": null,
   "id": "b670b41d-af98-45b8-82f6-0211d8fcf789",
   "metadata": {},
   "outputs": [],
   "source": [
    "#fd4.printSchema()"
   ]
  },
  {
   "cell_type": "code",
   "execution_count": null,
   "id": "4a764a86-7752-410c-a824-d976fa992825",
   "metadata": {},
   "outputs": [],
   "source": [
    "pd4 = fd4.to_pandas_on_spark()\n",
    "\n",
    "#pd4.info()"
   ]
  },
  {
   "cell_type": "code",
   "execution_count": null,
   "id": "a2fb7441-a420-4e32-9e0d-dd62238cf1af",
   "metadata": {},
   "outputs": [],
   "source": [
    "pd4 = pd4.drop(columns=['FD_COMPLEMENTARY_INFORMATION_PERIODIC_INDICATIVE.NOTICE_DISPATCH_DATE.DAY', 'FD_COMPLEMENTARY_INFORMATION_PERIODIC_INDICATIVE.NOTICE_DISPATCH_DATE.MONTH', 'FD_COMPLEMENTARY_INFORMATION_PERIODIC_INDICATIVE.NOTICE_DISPATCH_DATE.YEAR'])\n",
    "pd4 = pd4.drop(columns=['FD_INTRODUCTION_PERIODIC_INDICATIVE.ANNEX_I.AI_PROCEDURE_PERIODIC_INDICATIVE.ADMINISTRATIVE_INFORMATION_DEF.DATE_LIMIT_RECEIPT_APPLICATION.DAY', 'FD_INTRODUCTION_PERIODIC_INDICATIVE.ANNEX_I.AI_PROCEDURE_PERIODIC_INDICATIVE.ADMINISTRATIVE_INFORMATION_DEF.DATE_LIMIT_RECEIPT_APPLICATION.MONTH', 'FD_INTRODUCTION_PERIODIC_INDICATIVE.ANNEX_I.AI_PROCEDURE_PERIODIC_INDICATIVE.ADMINISTRATIVE_INFORMATION_DEF.DATE_LIMIT_RECEIPT_APPLICATION.YEAR'])\n",
    "pd4 = pd4.drop(columns=['FD_INTRODUCTION_PERIODIC_INDICATIVE.ANNEX_I.AI_PROCEDURE_PERIODIC_INDICATIVE.ADMINISTRATIVE_INFORMATION_DEF.DATE_LIMIT_RECEIPT_INTEREST.DAY', 'FD_INTRODUCTION_PERIODIC_INDICATIVE.ANNEX_I.AI_PROCEDURE_PERIODIC_INDICATIVE.ADMINISTRATIVE_INFORMATION_DEF.DATE_LIMIT_RECEIPT_INTEREST.MONTH', 'FD_INTRODUCTION_PERIODIC_INDICATIVE.ANNEX_I.AI_PROCEDURE_PERIODIC_INDICATIVE.ADMINISTRATIVE_INFORMATION_DEF.DATE_LIMIT_RECEIPT_INTEREST.YEAR'])\n",
    "pd4 = pd4.drop(columns=['FD_OBJECT_CONTRACT_PERIODIC_INDICATIVE.SCHEDULED_DATE_PERIOD.PERIOD_WORK_DATE_STARTING.INTERVAL_DATE.END_DATE.DAY', 'FD_OBJECT_CONTRACT_PERIODIC_INDICATIVE.SCHEDULED_DATE_PERIOD.PERIOD_WORK_DATE_STARTING.INTERVAL_DATE.END_DATE.MONTH', 'FD_OBJECT_CONTRACT_PERIODIC_INDICATIVE.SCHEDULED_DATE_PERIOD.PERIOD_WORK_DATE_STARTING.INTERVAL_DATE.END_DATE.YEAR'])\n",
    "pd4 = pd4.drop(columns=['FD_OBJECT_CONTRACT_PERIODIC_INDICATIVE.SCHEDULED_DATE_PERIOD.PERIOD_WORK_DATE_STARTING.INTERVAL_DATE.START_DATE.DAY', 'FD_OBJECT_CONTRACT_PERIODIC_INDICATIVE.SCHEDULED_DATE_PERIOD.PERIOD_WORK_DATE_STARTING.INTERVAL_DATE.START_DATE.MONTH', 'FD_OBJECT_CONTRACT_PERIODIC_INDICATIVE.SCHEDULED_DATE_PERIOD.PERIOD_WORK_DATE_STARTING.INTERVAL_DATE.START_DATE.YEAR'])\n",
    "pd4 = pd4.drop(columns=['FD_OBJECT_CONTRACT_PERIODIC_INDICATIVE.SCHEDULED_DATE_PERIOD.PROCEDURE_DATE_STARTING.DAY', 'FD_OBJECT_CONTRACT_PERIODIC_INDICATIVE.SCHEDULED_DATE_PERIOD.PROCEDURE_DATE_STARTING.MONTH', 'FD_OBJECT_CONTRACT_PERIODIC_INDICATIVE.SCHEDULED_DATE_PERIOD.PROCEDURE_DATE_STARTING.YEAR'])"
   ]
  },
  {
   "cell_type": "code",
   "execution_count": null,
   "id": "eea3e2f7-c62c-4f9e-98bf-6967b53fb1a4",
   "metadata": {},
   "outputs": [],
   "source": [
    "#pd4.info()"
   ]
  },
  {
   "cell_type": "code",
   "execution_count": null,
   "id": "8918dd9a-8c75-4b46-adb2-6b77427569fa",
   "metadata": {},
   "outputs": [],
   "source": [
    "pd4[\"FD_COMPLEMENTARY_INFORMATION_PERIODIC_INDICATIVE.NOTICE_DISPATCH_DATE\"]= ps.to_datetime(pd4[\"FD_COMPLEMENTARY_INFORMATION_PERIODIC_INDICATIVE.NOTICE_DISPATCH_DATE\"])\n",
    "pd4[\"FD_INTRODUCTION_PERIODIC_INDICATIVE.ANNEX_I.AI_PROCEDURE_PERIODIC_INDICATIVE.ADMINISTRATIVE_INFORMATION_DEF.DATE_LIMIT_RECEIPT_APPLICATION\"]= ps.to_datetime(pd4[\"FD_INTRODUCTION_PERIODIC_INDICATIVE.ANNEX_I.AI_PROCEDURE_PERIODIC_INDICATIVE.ADMINISTRATIVE_INFORMATION_DEF.DATE_LIMIT_RECEIPT_APPLICATION\"])\n",
    "pd4[\"FD_INTRODUCTION_PERIODIC_INDICATIVE.ANNEX_I.AI_PROCEDURE_PERIODIC_INDICATIVE.ADMINISTRATIVE_INFORMATION_DEF.DATE_LIMIT_RECEIPT_INTEREST\"]= ps.to_datetime(pd4[\"FD_INTRODUCTION_PERIODIC_INDICATIVE.ANNEX_I.AI_PROCEDURE_PERIODIC_INDICATIVE.ADMINISTRATIVE_INFORMATION_DEF.DATE_LIMIT_RECEIPT_INTEREST\"])\n",
    "pd4[\"FD_OBJECT_CONTRACT_PERIODIC_INDICATIVE.SCHEDULED_DATE_PERIOD.PERIOD_WORK_DATE_STARTING.INTERVAL_DATE.END_DATE\"]= ps.to_datetime(pd4[\"FD_OBJECT_CONTRACT_PERIODIC_INDICATIVE.SCHEDULED_DATE_PERIOD.PERIOD_WORK_DATE_STARTING.INTERVAL_DATE.END_DATE\"])\n",
    "pd4[\"FD_OBJECT_CONTRACT_PERIODIC_INDICATIVE.SCHEDULED_DATE_PERIOD.PERIOD_WORK_DATE_STARTING.INTERVAL_DATE.START_DATE\"]= ps.to_datetime(pd4[\"FD_OBJECT_CONTRACT_PERIODIC_INDICATIVE.SCHEDULED_DATE_PERIOD.PERIOD_WORK_DATE_STARTING.INTERVAL_DATE.START_DATE\"])\n",
    "pd4[\"FD_OBJECT_CONTRACT_PERIODIC_INDICATIVE.SCHEDULED_DATE_PERIOD.PROCEDURE_DATE_STARTING\"]= ps.to_datetime(pd4[\"FD_OBJECT_CONTRACT_PERIODIC_INDICATIVE.SCHEDULED_DATE_PERIOD.PROCEDURE_DATE_STARTING\"])"
   ]
  },
  {
   "cell_type": "code",
   "execution_count": null,
   "id": "62c544f4-5aaf-4968-8c41-bb55ce161f5a",
   "metadata": {},
   "outputs": [],
   "source": [
    "#pd4.info()"
   ]
  },
  {
   "cell_type": "code",
   "execution_count": null,
   "id": "6966ed66-ec39-4db9-92da-1ba2519de243",
   "metadata": {},
   "outputs": [],
   "source": [
    "pd4 = fd4.to_pandas_on_spark()\n",
    "\n",
    "\n",
    "#pd4.info()"
   ]
  },
  {
   "cell_type": "code",
   "execution_count": null,
   "id": "4e45093e-a0d1-449a-8766-b7d35c3e9d50",
   "metadata": {},
   "outputs": [],
   "source": [
    "pd4 = pd4.rename(columns=lambda x_ re.sub('_PERIODIC_INDICATIVE', '', x))\n",
    "pd4 = pd4.rename(columns=lambda x_ re.sub('FD_INTRODUCTION_', '', x))\n",
    "pd4 = pd4.rename(columns=lambda x_ re.sub('ANNEX_I', 'ANNEX', x))\n",
    "pd4 = pd4.rename(columns=lambda x_ re.sub('F04_', '', x))\n",
    "pd4 = pd4.rename(columns=lambda x_ re.sub('AI_OBJECT', 'OBJECT', x))\n",
    "pd4 = pd4.rename(columns=lambda x_ re.sub('ANNEX_B_', '', x))\n",
    "pd4 = pd4.rename(columns=lambda x_ re.sub('AI_', '', x))\n",
    "pd4 = pd4.rename(columns=lambda x_ re.sub('FD_AUTHORITY_', 'FD_AUTHORITY_', x))\n",
    "pd4 = pd4.rename(columns=lambda x_ re.sub('ANNEX_OBJECT_CONTRACT_OBJECT_DESCRIPTION_DIVISION_INTO_LOTS', 'FD_OBJECT_QUANTITY_SCOPE_DIVISION_INTO_LOTS', x))\n",
    "\n",
    "\n",
    "\n",
    "\n",
    "\n",
    "#ANNEX_OBJECT_CONTRACT_OBJECT_DESCRIPTION_FRAMEWORK_TOTAL_ESTIMATED_COSTS_RANGE_AND_CURRENCY_CURRENCY FD_OBJECT_QUANTITY_SCOPE_DIVISION_INTO_LOTS_DIV_INTO_LOT_YES_LOT_NATURE_QUANTITY_SCOPE_COSTS_RANGE_AND_CURRENCY_CURRENCY\n"
   ]
  },
  {
   "cell_type": "code",
   "execution_count": null,
   "id": "d2364609-e6cf-404d-aa5d-c358a17410be",
   "metadata": {},
   "outputs": [],
   "source": [
    "pd4.info()"
   ]
  },
  {
   "cell_type": "raw",
   "id": "7013e9f1-8451-4f26-a199-310aaca3aebb",
   "metadata": {},
   "source": [
    "FD_AUTHORITY_NAME_ADDRESSES_CONTACT_CA_CE_CONCESSIONAIRE_PROFILE\n",
    "\n",
    "FD_AUTHORITY_NAME_ADDRESSES_CONTACT_CA_CE_CONCESSIONAIRE_PROFILE\n",
    "\n",
    "FD_AUTHORITY_NAME_ADDRESSES FD_AUTHORITY_NAME_ADDRESSES\n",
    "\n",
    "\n",
    "ANNEX_OBJECT_CONTRACT_OBJECT_DESCRIPTION_DIVISION_INTO_LOTS_DIV_INTO_LOT_YES_NUMBER_ FD_OBJECT_QUANTITY_SCOPE_DIVISION_INTO_LOTS_DIV_INTO_LOT_YES_LOT_LOT_NUMBER\n",
    "\n",
    "\n",
    "ANNEX_OBJECT_CONTRACT_OBJECT_DESCRIPTION_FRAMEWORK_TOTAL_ESTIMATED_COSTS_RANGE_AND_CURRENCY_CURRENCY FD_OBJECT_QUANTITY_SCOPE_DIVISION_INTO_LOTS_DIV_INTO_LOT_YES_LOT_NATURE_QUANTITY_SCOPE_COSTS_RANGE_AND_CURRENCY_CURRENCY\n",
    "\n",
    "ANNEX_OBJECT_CONTRACT_OBJECT_DESCRIPTION_TITLE_CONTRACT_"
   ]
  },
  {
   "cell_type": "code",
   "execution_count": null,
   "id": "d28ee801-b3d0-4dc7-936c-87ae1aff4c32",
   "metadata": {},
   "outputs": [],
   "source": [
    "#spark.stop()"
   ]
  },
  {
   "cell_type": "code",
   "execution_count": null,
   "id": "2fce1c55-ec11-43d8-8921-defbd841bf02",
   "metadata": {},
   "outputs": [],
   "source": [
    "fd4 = pd4.to_spark()"
   ]
  },
  {
   "cell_type": "code",
   "execution_count": null,
   "id": "35dc8388-e9bd-47b7-9c1a-65057fe88967",
   "metadata": {},
   "outputs": [],
   "source": [
    "fd4.write.mode('append').json(\"s3a_//falk2210/pri.json\")"
   ]
  },
  {
   "cell_type": "code",
   "execution_count": null,
   "id": "4c4c42a5-4dfd-4069-a28b-b062ba74aaf8",
   "metadata": {},
   "outputs": [],
   "source": [
    "fd4.write.mode('append').json(\"s3a_//falk2210/fd4.json\")"
   ]
  },
  {
   "cell_type": "code",
   "execution_count": null,
   "id": "a9dab4d6-3f16-426b-8358-9754ab016fd8",
   "metadata": {},
   "outputs": [],
   "source": [
    "#fd4.write.parquet(\"s3a_//falk2210/fd4_210921.parquet\")"
   ]
  },
  {
   "cell_type": "code",
   "execution_count": null,
   "id": "ab94ce18-5377-47c8-af1e-f79f2e24d528",
   "metadata": {},
   "outputs": [],
   "source": [
    "pri = spark.read.json(\"s3a_//falk2210/pri.json\")"
   ]
  },
  {
   "cell_type": "code",
   "execution_count": null,
   "id": "912a8b48-7fc7-469e-b739-a21082945b92",
   "metadata": {},
   "outputs": [],
   "source": [
    "pri.printSchema()"
   ]
  },
  {
   "cell_type": "raw",
   "id": "b4d4016d-049f-4901-861e-f0f8c8156984",
   "metadata": {},
   "source": [
    "FD_COMPLEMENTARY_INFORMATION_NOTICE_DISPATCH_DATE_DAY_ long (nullable = true)\n",
    " |-- FD_COMPLEMENTARY_INFORMATION_NOTICE_DISPATCH_DATE_MONTH_ long (nullable = true)\n",
    " |-- FD_COMPLEMENTARY_INFORMATION_NOTICE_DISPATCH_DATE_YEAR_ long\n",
    " \n",
    " FD_INFO_NOTICE_DISPATCH_DATE_DAY_ long (nullable = true)\n",
    " |-- FD_INFO_NOTICE_DISPATCH_DATE_MONTH_ long (nullable = true)\n",
    " |-- FD_INFO_NOTICE_DISPATCH_DATE_YEAR_ \n",
    " \n",
    " FD_OBJECT_ADDITIONAL_INFORMATION FD_COMPLEMENTARY_INFORMATION_ADDITIONAL_INFORMATION\n",
    " \n",
    " FD_OBJECT_CONTRACT_CPV_CPV_ADDITIONAL_CPV_CODE_CODE_ long (nullable = true)\n",
    " |-- FD_OBJECT_CONTRACT_CPV_CPV_MAIN_CPV_CODE_CODE_ long (nullable = true)\n",
    " \n",
    " \n",
    " FD_OBJECT_CPV_CPV_ADDITIONAL_CPV_CODE_CODE_ long (nullable = true)\n",
    " |-- FD_OBJECT_CPV_CPV_MAIN_CPV_CODE_CODE_ long (nullable = true)\n",
    " \n",
    " \n",
    " \n",
    "ANNEX_OBJECT_CONTRACT_OBJECT_DESCRIPTION_FRAMEWORK_DURATION_FRAMEWORK_MONTH_ long (nullable = true)\n",
    " |-- ANNEX_OBJECT_CONTRACT_OBJECT_DESCRIPTION_FRAMEWORK_TOTAL_ESTIMATED_COSTS_RANGE_AND_CURRENCY_CURRENCY_ string (nullable = true)\n",
    " |-- ANNEX_OBJECT_CONTRACT_OBJECT_DESCRIPTION_FRAMEWORK_TOTAL_ESTIMATED_COSTS_RANGE_AND_CURRENCY_RANGE_VALUE_COST_HIGH_VALUE_ long (nullable = true)\n",
    " |-- ANNEX_OBJECT_CONTRACT_OBJECT_DESCRIPTION_FRAMEWORK_TOTAL_ESTIMATED_COSTS_RANGE_AND_CURRENCY_RANGE_VALUE_COST_LOW_VALUE_ long (nullable = true)\n",
    " |-- ANNEX_OBJECT_CONTRACT_OBJECT_DESCRIPTION_LOCATION_NUTS_NUTS_CODE_ string (nullable = true)\n",
    " |-- ANNEX_OBJECT_CONTRACT_OBJECT_DESCRIPTION_TITLE_CONTRACT_ string (nullable = true)\n",
    " |-- ANNEX_OBJECT_CONTRACT_OBJECT_DESCRIPTION_TYPE_CONTRACT_LOCATION_SERVICE_CATEGORY_ long (nullable = true)\n",
    " |-- ANNEX_OBJECT_CONTRACT_OBJECT_DESCRIPTION_TYPE_CONTRACT_LOCATION_TYPE_CONTRACT_VALUE_ string (nullable = true)\n",
    " |-- ANNEX_OBJECT_CONTRACT_OBJECT_NATURE_NATURE_QUANTITY_SCOPE_COSTS_RANGE_AND_CURRENCY_CURRENCY_ string (nullable = true)\n",
    " |-- ANNEX_OBJECT_CONTRACT_OBJECT_NATURE_NATURE_QUANTITY_SCOPE_COSTS_RANGE_AND_CURRENCY_RANGE_VALUE_COST_HIGH_VALUE_ long (nullable = true)\n",
    " |-- ANNEX_OBJECT_CONTRACT_OBJECT_NATURE_NATURE_QUANTITY_SCOPE_COSTS_RANGE_AND_CURRENCY_RANGE_VALUE_COST_LOW_VALUE_ long (nullable = true)\n",
    " |-- ANNEX_OBJECT_CONTRACT_OBJECT_NATURE_NATURE_QUANTITY_SCOPE_TOTAL_QUANTITY_OR_SCOPE_ string (nullable = true)\n",
    " \n",
    " \n",
    " FD_OBJECT_CONTRACT_SCHEDULED_DATE_PERIOD_PERIOD_WORK_DATE_STARTING_INTERVAL_DATE_END_DATE_DAY_ long (nullable = true)\n",
    " |-- FD_OBJECT_CONTRACT_SCHEDULED_DATE_PERIOD_PERIOD_WORK_DATE_STARTING_INTERVAL_DATE_END_DATE_MONTH_ long (nullable = true)\n",
    " |-- FD_OBJECT_CONTRACT_SCHEDULED_DATE_PERIOD_PERIOD_WORK_DATE_STARTING_INTERVAL_DATE_END_DATE_YEAR_ long (nullable = true)\n",
    " |-- FD_OBJECT_CONTRACT_SCHEDULED_DATE_PERIOD_PERIOD_WORK_DATE_STARTING_INTERVAL_DATE_START_DATE_DAY_ long (nullable = true)\n",
    " |-- FD_OBJECT_CONTRACT_SCHEDULED_DATE_PERIOD_PERIOD_WORK_DATE_STARTING_INTERVAL_DATE_START_DATE_MONTH_ long (nullable = true)\n",
    " |-- FD_OBJECT_CONTRACT_SCHEDULED_DATE_PERIOD_PERIOD_WORK_DATE_STARTING_INTERVAL_DATE_START_DATE_YEAR_ long (nullable = true)\n",
    " |-- FD_OBJECT_CONTRACT_SCHEDULED_DATE_PERIOD_PERIOD_WORK_DATE_STARTING_MONTHS_ long (nullable = true)\n",
    " |-- FD_OBJECT_CONTRACT_SCHEDULED_DATE_PERIOD_PROCEDURE_DATE_STARTING_DAY_ long (nullable = true)\n",
    " |-- FD_OBJECT_CONTRACT_SCHEDULED_DATE_PERIOD_PROCEDURE_DATE_STARTING_MONTH_ long (nullable = true)\n",
    " |-- FD_OBJECT_CONTRACT_SCHEDULED_DATE_PERIOD_PROCEDURE_DATE_STARTING_YEAR_ long (nullable = true)\n",
    " \n",
    " FD_OBJECT_WORKS_SCHEDULED_DATE_PERIOD_PERIOD_WORK_DATE_STARTING_DAYS_ long (nullable = true)\n",
    " |-- FD_OBJECT_WORKS_SCHEDULED_DATE_PERIOD_PERIOD_WORK_DATE_STARTING_INTERVAL_DATE_END_DATE_DAY_ long (nullable = true)\n",
    " |-- FD_OBJECT_WORKS_SCHEDULED_DATE_PERIOD_PERIOD_WORK_DATE_STARTING_INTERVAL_DATE_END_DATE_MONTH_ long (nullable = true)\n",
    " |-- FD_OBJECT_WORKS_SCHEDULED_DATE_PERIOD_PERIOD_WORK_DATE_STARTING_INTERVAL_DATE_END_DATE_YEAR_ long (nullable = true)\n",
    " |-- FD_OBJECT_WORKS_SCHEDULED_DATE_PERIOD_PERIOD_WORK_DATE_STARTING_INTERVAL_DATE_START_DATE_DAY_ long (nullable = true)\n",
    " |-- FD_OBJECT_WORKS_SCHEDULED_DATE_PERIOD_PERIOD_WORK_DATE_STARTING_INTERVAL_DATE_START_DATE_MONTH_ long (nullable = true)\n",
    " |-- FD_OBJECT_WORKS_SCHEDULED_DATE_PERIOD_PERIOD_WORK_DATE_STARTING_INTERVAL_DATE_START_DATE_YEAR_ long (nullable = true)\n",
    " |-- FD_OBJECT_WORKS_SCHEDULED_DATE_PERIOD_PERIOD_WORK_DATE_STARTING_MONTHS_ long (nullable = true)"
   ]
  },
  {
   "cell_type": "markdown",
   "id": "59a26d61-e284-4d8c-ba91-e0b20c8ac618",
   "metadata": {
    "jp-MarkdownHeadingCollapsed": true,
    "tags": []
   },
   "source": [
    "# 5 CONTRACT "
   ]
  },
  {
   "cell_type": "markdown",
   "id": "3d34e59e-45d7-4f12-bbfb-4083a3760222",
   "metadata": {},
   "source": [
    "<a id='d5' />"
   ]
  },
  {
   "cell_type": "code",
   "execution_count": null,
   "id": "f128a16a-5b74-4918-ad57-e97d4bf037c6",
   "metadata": {},
   "outputs": [],
   "source": [
    "d5 = spark.read.json(\"falk/5.json/*.json\")\n",
    "#d5.printSchema()"
   ]
  },
  {
   "cell_type": "code",
   "execution_count": null,
   "id": "c4815c9d-bb04-47be-b3ac-5e7033b3a59f",
   "metadata": {},
   "outputs": [],
   "source": [
    "pd5 = d5.to_pandas_on_spark()"
   ]
  },
  {
   "cell_type": "code",
   "execution_count": null,
   "id": "12c5a6c6-69f9-47c8-bef0-d040c2f12954",
   "metadata": {},
   "outputs": [],
   "source": [
    "pd5 = pd5.rename(columns=lambda x_ re.sub('DOFFIN_ESENDERS_VERSION', 'DOFFIN_VERSION', x))\n",
    "pd5 = pd5.rename(columns=lambda x_ re.sub('DOFFIN_ESENDERS_', '', x))\n",
    "pd5 = pd5.rename(columns=lambda x_ re.sub('FORM_SECTION_', '', x))\n",
    "pd5 = pd5.rename(columns=lambda x_ re.sub('CONTRACT_UTILITIES_', '', x))"
   ]
  },
  {
   "cell_type": "code",
   "execution_count": null,
   "id": "60c84e57-5c9d-4243-8450-7a00011e77aa",
   "metadata": {},
   "outputs": [],
   "source": [
    "pd5['FD_LEFTI_CONTRACT_NOTICE_UTILITIES_CONTRACT_RELATING_CONDITIONS_DEPOSITS_GUARANTEES_REQUIRED'].update(pd5.pop('FD_LEFTI_CONTRACT_NOTICE_UTILITIES_CONTRACT_RELATING_CONDITIONS_DEPOSITS_GUARANTEES_REQUIRED_P'))\n",
    "pd5['FD_LEFTI_CONTRACT_NOTICE_UTILITIES_CONTRACT_RELATING_CONDITIONS_EXISTENCE_OTHER_PARTICULAR_CONDITIONS'].update(pd5.pop('FD_LEFTI_CONTRACT_NOTICE_UTILITIES_CONTRACT_RELATING_CONDITIONS_EXISTENCE_OTHER_PARTICULAR_CONDITIONS_P'))\n",
    "pd5['FD_LEFTI_CONTRACT_NOTICE_UTILITIES_CONTRACT_RELATING_CONDITIONS_LEGAL_FORM'].update(pd5.pop('FD_LEFTI_CONTRACT_NOTICE_UTILITIES_CONTRACT_RELATING_CONDITIONS_LEGAL_FORM_P'))\n",
    "pd5['FD_LEFTI_CONTRACT_NOTICE_UTILITIES_CONTRACT_RELATING_CONDITIONS_MAIN_FINANCING_CONDITIONS'].update(pd5.pop('FD_LEFTI_CONTRACT_NOTICE_UTILITIES_CONTRACT_RELATING_CONDITIONS_MAIN_FINANCING_CONDITIONS_P'))\n",
    "pd5['FD_LEFTI_CONTRACT_NOTICE_UTILITIES_F05_CONDITIONS_FOR_PARTICIPATION_ECONOMIC_OPERATORS_PERSONAL_SITUATION'].update(pd5.pop('FD_LEFTI_CONTRACT_NOTICE_UTILITIES_F05_CONDITIONS_FOR_PARTICIPATION_ECONOMIC_OPERATORS_PERSONAL_SITUATION_P'))\n",
    "pd5['FD_LEFTI_CONTRACT_NOTICE_UTILITIES_F05_CONDITIONS_FOR_PARTICIPATION_F05_ECONOMIC_FINANCIAL_CAPACITY'].update(pd5.pop('FD_LEFTI_CONTRACT_NOTICE_UTILITIES_F05_CONDITIONS_FOR_PARTICIPATION_F05_ECONOMIC_FINANCIAL_CAPACITY_P'))\n",
    "pd5['FD_LEFTI_CONTRACT_NOTICE_UTILITIES_SERVICES_CONTRACTS_SPECIFIC_CONDITIONS_EXECUTION_SERVICE_RESERVED_PARTICULAR_PROFESSION'].update(pd5.pop('FD_LEFTI_CONTRACT_NOTICE_UTILITIES_SERVICES_CONTRACTS_SPECIFIC_CONDITIONS_EXECUTION_SERVICE_RESERVED_PARTICULAR_PROFESSION_P'))\n",
    "pd5['FD_COMPLEMENTARY_INFORMATION_ADDITIONAL_INFORMATION'].update(pd5.pop('FD_COMPLEMENTARY_INFORMATION_ADDITIONAL_INFORMATION_P'))\n",
    "pd5['FD_COMPLEMENTARY_INFORMATION_PROCEDURES_FOR_APPEAL_LODGING_OF_APPEALS_LODGING_OF_APPEALS_PRECISION'].update(pd5.pop('FD_COMPLEMENTARY_INFORMATION_PROCEDURES_FOR_APPEAL_LODGING_OF_APPEALS_LODGING_OF_APPEALS_PRECISION_P'))\n",
    "pd5['FD_OBJECT_CONTRACT_INFORMATION_CONTRACT_OBJECT_DESCRIPTION_LOCATION_NUTS_LOCATION'].update(pd5.pop('FD_OBJECT_CONTRACT_INFORMATION_CONTRACT_OBJECT_DESCRIPTION_LOCATION_NUTS_LOCATION_P'))\n",
    "pd5['FD_OBJECT_CONTRACT_INFORMATION_CONTRACT_OBJECT_DESCRIPTION_SHORT_CONTRACT_DESCRIPTION'].update(pd5.pop('FD_OBJECT_CONTRACT_INFORMATION_CONTRACT_OBJECT_DESCRIPTION_SHORT_CONTRACT_DESCRIPTION_P'))\n",
    "pd5['FD_OBJECT_CONTRACT_INFORMATION_CONTRACT_OBJECT_DESCRIPTION_TITLE_CONTRACT'].update(pd5.pop('FD_OBJECT_CONTRACT_INFORMATION_CONTRACT_OBJECT_DESCRIPTION_TITLE_CONTRACT_P'))\n",
    "pd5['FD_OBJECT_CONTRACT_INFORMATION_QUANTITY_SCOPE_NATURE_QUANTITY_SCOPE_TOTAL_QUANTITY_OR_SCOPE'].update(pd5.pop('FD_OBJECT_CONTRACT_INFORMATION_QUANTITY_SCOPE_NATURE_QUANTITY_SCOPE_TOTAL_QUANTITY_OR_SCOPE_P'))\n",
    "pd5['FD_OBJECT_CONTRACT_INFORMATION_QUANTITY_SCOPE_OPTIONS_OPTION_DESCRIPTION'].update(pd5.pop('FD_OBJECT_CONTRACT_INFORMATION_QUANTITY_SCOPE_OPTIONS_OPTION_DESCRIPTION_P'))\n",
    "pd5['FD_PROCEDURE_DEFINITION_CONTRACT_NOTICE_UTILITIES_ADMINISTRATIVE_INFORMATION_CONDITIONS_FOR_OPENING_TENDERS_PLACE_OPENING_PLACE_NOT_STRUCTURED'].update(pd5.pop('FD_PROCEDURE_DEFINITION_CONTRACT_NOTICE_UTILITIES_ADMINISTRATIVE_INFORMATION_CONDITIONS_FOR_OPENING_TENDERS_PLACE_OPENING_PLACE_NOT_STRUCTURED_P'))\n",
    "pd5['FD_PROCEDURE_DEFINITION_CONTRACT_NOTICE_UTILITIES_ADMINISTRATIVE_INFORMATION_FILE_REFERENCE_NUMBER'].update(pd5.pop('FD_PROCEDURE_DEFINITION_CONTRACT_NOTICE_UTILITIES_ADMINISTRATIVE_INFORMATION_FILE_REFERENCE_NUMBER_P'))\n",
    "pd5['FD_PROCEDURE_DEFINITION_CONTRACT_NOTICE_UTILITIES_ADMINISTRATIVE_INFORMATION_LANGUAGE_LANGUAGE_OTHER'].update(pd5.pop('FD_PROCEDURE_DEFINITION_CONTRACT_NOTICE_UTILITIES_ADMINISTRATIVE_INFORMATION_LANGUAGE_LANGUAGE_OTHER_P'))\n",
    "pd5['FD_LEFTI_CONTRACT_NOTICE_UTILITIES_F05_CONDITIONS_FOR_PARTICIPATION_TECHNICAL_CAPACITY'].update(pd5.pop('FD_LEFTI_CONTRACT_NOTICE_UTILITIES_F05_CONDITIONS_FOR_PARTICIPATION_TECHNICAL_CAPACITY_P'))"
   ]
  },
  {
   "cell_type": "code",
   "execution_count": null,
   "id": "c1b1d61f-831f-4c8c-9d5b-2810ee61509e",
   "metadata": {},
   "outputs": [],
   "source": [
    "pd5 = pd5.rename(columns=lambda x_ re.sub('\\_P$', '', x))\n",
    "#pd5.info()"
   ]
  },
  {
   "cell_type": "code",
   "execution_count": null,
   "id": "9f208730-0eb0-4de4-be16-710113dd1fd4",
   "metadata": {},
   "outputs": [],
   "source": [
    "pd5['FD_COMPLEMENTARY_INFORMATION_PROCEDURES_FOR_APPEAL_APPEAL_PROCEDURE_BODY_RESPONSIBLE_CONTACT_DATA_WITHOUT_RESPONSIBLE_NAME_ADDRESS'].update(pd5.pop('FD_COMPLEMENTARY_INFORMATION_PROCEDURES_FOR_APPEAL_LODGING_INFORMATION_FOR_SERVICE_CONTACT_DATA_WITHOUT_RESPONSIBLE_NAME_ADDRESS'))\n",
    "pd5['FD_COMPLEMENTARY_INFORMATION_PROCEDURES_FOR_APPEAL_APPEAL_PROCEDURE_BODY_RESPONSIBLE_CONTACT_DATA_WITHOUT_RESPONSIBLE_NAME_COUNTRY_VALUE'].update(pd5.pop('FD_COMPLEMENTARY_INFORMATION_PROCEDURES_FOR_APPEAL_LODGING_INFORMATION_FOR_SERVICE_CONTACT_DATA_WITHOUT_RESPONSIBLE_NAME_COUNTRY_VALUE'))\n",
    "pd5['FD_COMPLEMENTARY_INFORMATION_PROCEDURES_FOR_APPEAL_APPEAL_PROCEDURE_BODY_RESPONSIBLE_CONTACT_DATA_WITHOUT_RESPONSIBLE_NAME_E_MAILS_E_MAIL'].update(pd5.pop('FD_COMPLEMENTARY_INFORMATION_PROCEDURES_FOR_APPEAL_LODGING_INFORMATION_FOR_SERVICE_CONTACT_DATA_WITHOUT_RESPONSIBLE_NAME_E_MAILS_E_MAIL'))\n",
    "pd5['FD_COMPLEMENTARY_INFORMATION_PROCEDURES_FOR_APPEAL_APPEAL_PROCEDURE_BODY_RESPONSIBLE_CONTACT_DATA_WITHOUT_RESPONSIBLE_NAME_FAX'].update(pd5.pop('FD_COMPLEMENTARY_INFORMATION_PROCEDURES_FOR_APPEAL_LODGING_INFORMATION_FOR_SERVICE_CONTACT_DATA_WITHOUT_RESPONSIBLE_NAME_FAX'))\n",
    "pd5['FD_COMPLEMENTARY_INFORMATION_PROCEDURES_FOR_APPEAL_APPEAL_PROCEDURE_BODY_RESPONSIBLE_CONTACT_DATA_WITHOUT_RESPONSIBLE_NAME_ORGANISATION_NATIONALID'].update(pd5.pop('FD_COMPLEMENTARY_INFORMATION_PROCEDURES_FOR_APPEAL_LODGING_INFORMATION_FOR_SERVICE_CONTACT_DATA_WITHOUT_RESPONSIBLE_NAME_ORGANISATION_NATIONALID'))\n",
    "pd5['FD_COMPLEMENTARY_INFORMATION_PROCEDURES_FOR_APPEAL_APPEAL_PROCEDURE_BODY_RESPONSIBLE_CONTACT_DATA_WITHOUT_RESPONSIBLE_NAME_ORGANISATION_OFFICIALNAME'].update(pd5.pop('FD_COMPLEMENTARY_INFORMATION_PROCEDURES_FOR_APPEAL_LODGING_INFORMATION_FOR_SERVICE_CONTACT_DATA_WITHOUT_RESPONSIBLE_NAME_ORGANISATION_OFFICIALNAME'))\n",
    "pd5['FD_COMPLEMENTARY_INFORMATION_PROCEDURES_FOR_APPEAL_APPEAL_PROCEDURE_BODY_RESPONSIBLE_CONTACT_DATA_WITHOUT_RESPONSIBLE_NAME_PHONE'].update(pd5.pop('FD_COMPLEMENTARY_INFORMATION_PROCEDURES_FOR_APPEAL_LODGING_INFORMATION_FOR_SERVICE_CONTACT_DATA_WITHOUT_RESPONSIBLE_NAME_PHONE'))\n",
    "pd5['FD_COMPLEMENTARY_INFORMATION_PROCEDURES_FOR_APPEAL_APPEAL_PROCEDURE_BODY_RESPONSIBLE_CONTACT_DATA_WITHOUT_RESPONSIBLE_NAME_POSTAL_CODE'].update(pd5.pop('FD_COMPLEMENTARY_INFORMATION_PROCEDURES_FOR_APPEAL_LODGING_INFORMATION_FOR_SERVICE_CONTACT_DATA_WITHOUT_RESPONSIBLE_NAME_POSTAL_CODE'))\n",
    "pd5['FD_COMPLEMENTARY_INFORMATION_PROCEDURES_FOR_APPEAL_APPEAL_PROCEDURE_BODY_RESPONSIBLE_CONTACT_DATA_WITHOUT_RESPONSIBLE_NAME_TOWN'].update(pd5.pop('FD_COMPLEMENTARY_INFORMATION_PROCEDURES_FOR_APPEAL_LODGING_INFORMATION_FOR_SERVICE_CONTACT_DATA_WITHOUT_RESPONSIBLE_NAME_TOWN'))\n",
    "pd5['FD_COMPLEMENTARY_INFORMATION_PROCEDURES_FOR_APPEAL_APPEAL_PROCEDURE_BODY_RESPONSIBLE_CONTACT_DATA_WITHOUT_RESPONSIBLE_NAME_URL'].update(pd5.pop('FD_COMPLEMENTARY_INFORMATION_PROCEDURES_FOR_APPEAL_LODGING_INFORMATION_FOR_SERVICE_CONTACT_DATA_WITHOUT_RESPONSIBLE_NAME_URL'))"
   ]
  },
  {
   "cell_type": "code",
   "execution_count": null,
   "id": "e5f0bdec-953a-4edd-a423-d085fae49ddf",
   "metadata": {},
   "outputs": [],
   "source": [
    "pd5 = pd5.rename(columns=lambda x_ re.sub('DOFFIN_FORM_TYPE_NATIONAL_', '', x))\n",
    "pd5 = pd5.rename(columns=lambda x_ re.sub('FD_COMPLEMENTARY_INFORMATION_PROCEDURES_FOR_APPEAL_MEDIATION_PROCEDURE_BODY_RESPONSIBLE_CONTACT_DATA_WITHOUT_RESPONSIBLE_NAME_', 'COMPLEMENTARY_INFO_ADDRESS_MEDIATION_BODY_', x))\n",
    "pd5 = pd5.rename(columns=lambda x_ re.sub('FD_CONTRACTING_AUTHORITY_INFO_NAME_ADDRESSES_CONTACT_FURTHER_INFORMATION_CONTACT_DATA_', 'CONTRACTING_BODY_ADDRESS_FURTHER_INFO_', x))\n",
    "pd5 = pd5.rename(columns=lambda x_ re.sub('FD_COMPLEMENTARY_INFORMATION_PROCEDURES_FOR_APPEAL_APPEAL_PROCEDURE_BODY_RESPONSIBLE_CONTACT_DATA_WITHOUT_RESPONSIBLE_NAME_', 'COMPLEMENTARY_INFO_ADDRESS_REVIEW_BODY_', x))\n",
    "pd5 = pd5.rename(columns=lambda x_ re.sub('FD_CONTRACTING_AUTHORITY_INFO_NAME_ADDRESSES_CONTACT_CA_CE_CONCESSIONAIRE_PROFILE_', 'CONTRACTING_BODY_ADDRESS_CONTRACTING_BODY_', x))\n",
    "pd5 = pd5.rename(columns=lambda x_ re.sub('FD_CONTRACTING_AUTHORITY_INFO_PURCHASING_ON_BEHALF_PURCHASING_ON_BEHALF_YES_CONTACT_DATA_OTHER_BEHALF_CONTRACTING_AUTORITHY_', 'CONTRACTING_BODY_ADDRESS_PARTICIPATION_', x))\n",
    "pd5 = pd5.rename(columns=lambda x_ re.sub('FD_LEFTI_CONTRACT_NOTICE_UTILITIES_F05_CONDITIONS_FOR_PARTICIPATION_F05_ECONOMIC_FINANCIAL_CAPACITY', 'LEFTI_ECONOMIC_FINANCIAL_INFO', x))\n",
    "#pd5 = pd5.rename(columns=lambda x_ re.sub('FD_LEFTI_F02_CONDITIONS_FOR_PARTICIPATION_F02_ECONOMIC_FINANCIAL_CAPACITY_EAF_CAPACITY_MIN_LEVEL', 'LEFTI_ECONOMIC_FINANCIAL_MIN_LEVEL', x))\n",
    "pd5 = pd5.rename(columns=lambda x_ re.sub('FD_LEFTI_CONTRACT_NOTICE_UTILITIES_F05_CONDITIONS_FOR_PARTICIPATION_TECHNICAL_CAPACITY', 'LEFTI_TECHNICAL_PROFESSIONAL_INFO', x))\n",
    "#pd5 = pd5.rename(columns=lambda x_ re.sub('FD_LEFTI_F02_CONDITIONS_FOR_PARTICIPATION_TECHNICAL_CAPACITY_LEFTI_T_CAPACITY_MIN_LEVEL', 'LEFTI_TECHNICAL_PROFESSIONAL_MIN_LEVEL', x)) \n",
    "pd5 = pd5.rename(columns=lambda x_ re.sub('FD_OBJECT_CONTRACT_INFORMATION_CONTRACT_OBJECT_DESCRIPTION_CPV_CPV_MAIN_CPV_CODE_CODE', 'OBJECT_CONTRACT_CPV_MAIN_CPV_CODE_CODE', x))\n",
    "pd5 = pd5.rename(columns=lambda x_ re.sub('FD_OBJECT_CONTRACT_INFORMATION_CONTRACT_OBJECT_DESCRIPTION_CPV_CPV_ADDITIONAL_CPV_CODE_CODE', 'OBJECT_CONTRACT_OBJECT_DESCR_CPV_ADDITIONAL_CPV_SUPPLEMENTARY_CODE_CODE', x)) \n",
    "pd5 = pd5.rename(columns=lambda x_ re.sub('FD_OBJECT_CONTRACT_INFORMATION_CONTRACT_OBJECT_DESCRIPTION_F05_DIVISION_INTO_LOTS_F05_DIV_INTO_LOT_YES_F05_ANNEX_B_CPV_CPV_ADDITIONALL', 'OBJECT_CONTRACT_OBJECT_DESCR_CPV_ADDITIONAL', x))\n",
    "pd5 = pd5.rename(columns=lambda x_ re.sub('FD_OBJECT_CONTRACT_INFORMATION_CONTRACT_OBJECT_DESCRIPTION_F05_DIVISION_INTO_LOTS_F05_DIV_INTO_LOT_YES_F05_ANNEX_B_CPV_CPV_ADDITIONAL_CPV_CODE_CODE', 'OBJECT_CONTRACT_OBJECT_DESCR_CPV_ADDITIONAL_CPV_CODE_CODE', x))\n",
    "#pd5 = pd5.rename(columns=lambda x_ re.sub('FD_OBJECT_CONTRACT_INFORMATION_DESCRIPTION_CONTRACT_INFORMATION_F02_DIVISION_INTO_LOTS_F02_DIV_INTO_LOT_YES_F02_ANNEX_B_ITEM', 'OBJECT_CONTRACT_OBJECT_DESCR_ITEM', x))\n",
    "pd5 = pd5.rename(columns=lambda x_ re.sub('FD_OBJECT_CONTRACT_INFORMATION_CONTRACT_OBJECT_DESCRIPTION_F05_DIVISION_INTO_LOTS_F05_DIV_INTO_LOT_YES_F05_ANNEX_B_LOT_NUMBER', 'OBJECT_CONTRACT_OBJECT_DESCR_LOT_NO', x))\n",
    "pd5 = pd5.rename(columns=lambda x_ re.sub('FD_OBJECT_CONTRACT_INFORMATION_CONTRACT_OBJECT_DESCRIPTION_F05_DIVISION_INTO_LOTS_F05_DIV_INTO_LOT_YES_F05_ANNEX_B_LOT_DESCRIPTION', 'OBJECT_CONTRACT_OBJECT_DESCR_SHORT_DESCR', x))\n",
    "pd5 = pd5.rename(columns=lambda x_ re.sub('FD_OBJECT_CONTRACT_INFORMATION_CONTRACT_OBJECT_DESCRIPTION_F05_DIVISION_INTO_LOTS_F05_DIV_INTO_LOT_YES_F05_ANNEX_B_LOT_TITLE', 'OBJECT_CONTRACT_OBJECT_DESCR_TITLE', x))\n",
    "pd5 = pd5.rename(columns=lambda x_ re.sub('FD_OBJECT_CONTRACT_INFORMATION_CONTRACT_OBJECT_DESCRIPTION_LOCATION_NUTS_NUTS_CODE', 'OBJECT_CONTRACT_OBJECT_DESCR_NUTS_CODE', x))\n",
    "pd5 = pd5.rename(columns=lambda x_ re.sub('FD_OBJECT_CONTRACT_INFORMATION_CONTRACT_OBJECT_DESCRIPTION_LOCATION_NUTS_NUTS_LOCATION', 'OBJECT_CONTRACT_OBJECT_DESCR_LOCATION', x))\n",
    "pd5 = pd5.rename(columns=lambda x_ re.sub('FD_OBJECT_CONTRACT_INFORMATION_CONTRACT_OBJECT_DESCRIPTION_TITLE_CONTRACT', 'OBJECT_CONTRACT_TITLE', x))\n",
    "pd5 = pd5.rename(columns=lambda x_ re.sub('FD_PROCEDURE_DEFINITION_CONTRACT_NOTICE_UTILITIES_ADMINISTRATIVE_INFORMATION_CONDITIONS_FOR_OPENING_TENDERS_PLACE_OPENING_', 'PROCEDURE_OPENING_CONDITION_', x))\n",
    "pd5 = pd5.rename(columns=lambda x_ re.sub('FD_COMPLEMENTARY_INFORMATION_ADDITIONAL_INFORMATION', 'COMPLEMENTARY_INFO_INFO_ADD', x))\n",
    "pd5 = pd5.rename(columns=lambda x_ re.sub('FD_COMPLEMENTARY_INFORMATION_RELATES_TO_EU_PROJECT_YES', 'OBJECT_CONTRACT_OBJECT_DESCR_EU_PROGR_RELATED', x))\n",
    "pd5 = pd5.rename(columns=lambda x_ re.sub('FD_CONTRACTING_AUTHORITY_INFO_NAME_ADDRESSES_CONTACT_INTERNET_ADDRESSES_URL_INFORMATION', 'CONTRACTING_BODY_URL_DOCUMENT', x))\n",
    "pd5 = pd5.rename(columns=lambda x_ re.sub('FD_CONTRACTING_AUTHORITY_INFO_NAME_ADDRESSES_CONTACT_INTERNET_ADDRESSES_URL_PARTICIPATE', 'CONTRACTING_BODY_URL_PARTICIPATION', x))\n",
    "pd5 = pd5.rename(columns=lambda x_ re.sub('FD_CTYPE', 'OBJECT_CONTRACT_TYPE_CONTRACT_CTYPE', x))  \n",
    "pd5 = pd5.rename(columns=lambda x_ re.sub('FD_LEFTI_CONTRACT_NOTICE_UTILITIES_CONTRACT_RELATING_CONDITIONS_DEPOSITS_GUARANTEES_REQUIRED', 'LEFTI_DEPOSIT_GUARANTEE_REQUIRED', x))\n",
    "pd5 = pd5.rename(columns=lambda x_ re.sub('FD_LEFTI_CONTRACT_NOTICE_UTILITIES_CONTRACT_RELATING_CONDITIONS_LEGAL_FORM', 'LEFTI_LEGAL_FORM', x))\n",
    "pd5 = pd5.rename(columns=lambda x_ re.sub('FD_LEFTI_CONTRACT_NOTICE_UTILITIES_CONTRACT_RELATING_CONDITIONS_MAIN_FINANCING_CONDITIONS', 'LEFTI_MAIN_FINANCING_CONDITION', x))\n",
    "pd5 = pd5.rename(columns=lambda x_ re.sub('FD_OBJECT_CONTRACT_INFORMATION_CONTRACT_OBJECT_DESCRIPTION_CONTRACT_COVERED_GPA_VALUE', 'PROCEDURE_CONTRACT_COVERED_GPA_CTYPE', x))                                       \n",
    "#pd5 = pd5.rename(columns=lambda x_ re.sub('FD_OBJECT_CONTRACT_INFORMATION_DESCRIPTION_CONTRACT_INFORMATION_F02_FRAMEWORK_JUSTIFICATION', 'PROCEDURE_FRAMEWORK_JUSTIFICATION', x))\n",
    "pd5 = pd5.rename(columns=lambda x_ re.sub('ORGANISATION_NATIONALID', 'NATIONALID', x))\n",
    "pd5 = pd5.rename(columns=lambda x_ re.sub('ORGANISATION_OFFICIALNAME', 'OFFICIALNAME', x))\n",
    "pd5 = pd5.rename(columns=lambda x_ re.sub('FD_OBJECT_CONTRACT_INFORMATION_CONTRACT_OBJECT_DESCRIPTION_F05_DIVISION_INTO_LOTS_F05_DIV_INTO_LOT_YES_F05_ANNEX_B_ADDITIONAL_INFORMATION_ABOUT_LOTS', 'OBJECT_CONTRACT_OBJECT_DESCR_INFO_ADD', x))"
   ]
  },
  {
   "cell_type": "code",
   "execution_count": null,
   "id": "15abf46a-5693-48ad-b9b9-3d9dc318e097",
   "metadata": {},
   "outputs": [],
   "source": [
    "pd5 = pd5.rename(columns=lambda x_ re.sub('FD_COMPLEMENTARY_INFORMATION_NOTICE_DISPATCH_DATE', 'FD_COMPLEMENTARY_INFORMATION_CONTRACT_NOTICE_NOTICE_DISPATCH_DATE', x))\n",
    "\n",
    "pd5 = pd5.rename(columns=lambda x_ re.sub('FD_OBJECT_CONTRACT_INFORMATION_CONTRACT_OBJECT_DESCRIPTION_F05_DIVISION_INTO_LOTS_F05_DIV_INTO_LOT_YES_F05_ANNEX_B_PERIOD_WORK_DATE_STARTING_INTERVAL_DATE', 'FD_OBJECT_CONTRACT_INFORMATION_DESCRIPTION_CONTRACT_INFORMATION_F02_DIVISION_INTO_LOTS_F02_DIV_INTO_LOT_YES_F02_ANNEX_B_PERIOD_WORK_DATE_STARTING_INTERVAL_DATE', x))\n",
    "\n",
    "pd5 = pd5.rename(columns=lambda x_ re.sub('FD_OBJECT_CONTRACT_INFORMATION_PERIOD_WORK_DATE_STARTING_INTERVAL_DATE', 'FD_OBJECT_CONTRACT_INFORMATION_PERIOD_WORK_DATE_STARTING_INTERVAL_DATE', x))\n",
    "\n",
    "pd5 = pd5.rename(columns=lambda x_ re.sub('FD_PROCEDURE_DEFINITION_CONTRACT_NOTICE_UTILITIES_ADMINISTRATIVE_INFORMATION_CONDITIONS_FOR_OPENING_TENDERS_DATE_TIME', 'FD_PROCEDURE_DEFINITION_CONTRACT_NOTICE_ADMINISTRATIVE_INFORMATION_CONTRACT_NOTICE_CONDITIONS_FOR_OPENING_TENDERS_DATE_TIME', x))\n",
    "pd5 = pd5.rename(columns=lambda x_ re.sub('FD_PROCEDURE_DEFINITION_CONTRACT_NOTICE_UTILITIES_ADMINISTRATIVE_INFORMATION_CONDITIONS_FOR_MORE_INFORMATION_CONDITIONS_OBTAINING_SPECIFICATIONS', 'FD_PROCEDURE_DEFINITION_CONTRACT_NOTICE_ADMINISTRATIVE_INFORMATION_CONTRACT_NOTICE_CONDITIONS_OBTAINING_SPECIFICATIONS', x))\n",
    "pd5 = pd5.rename(columns=lambda x_ re.sub('FD_PROCEDURE_DEFINITION_CONTRACT_NOTICE_UTILITIES_ADMINISTRATIVE_INFORMATION_MINIMUM_TIME_MAINTAINING_TENDER', 'FD_PROCEDURE_DEFINITION_CONTRACT_NOTICE_ADMINISTRATIVE_INFORMATION_CONTRACT_NOTICE_MINIMUM_TIME_MAINTAINING_TENDER', x))\n",
    "pd5 = pd5.rename(columns=lambda x_ re.sub('FD_PROCEDURE_DEFINITION_CONTRACT_NOTICE_UTILITIES_ADMINISTRATIVE_INFORMATION_PREVIOUS_PUBLICATION_INFORMATION_NOTICE_F5_PREVIOUS_PUBLICATION_EXISTS_F5_OTHER_PREVIOUS_PUBLICATIONS_OTHER_PREVIOUS_PUBLICATION_DATE_OJ', 'FD_PROCEDURE_DEFINITION_CONTRACT_NOTICE_ADMINISTRATIVE_INFORMATION_CONTRACT_NOTICE_PREVIOUS_PUBLICATION_INFORMATION_NOTICE_F2_PREVIOUS_PUBLICATION_EXISTS_F2_OTHER_PREVIOUS_PUBLICATIONS_OTHER_PREVIOUS_PUBLICATION_DATE_OJ', x))\n",
    "pd5 = pd5.rename(columns=lambda x_ re.sub('FD_PROCEDURE_DEFINITION_CONTRACT_NOTICE_UTILITIES_ADMINISTRATIVE_INFORMATION_PREVIOUS_PUBLICATION_INFORMATION_NOTICE_F5_PREVIOUS_PUBLICATION_EXISTS_F5_PREVIOUS_PUBLICATION_NOTICE_F5_DATE_OJ', 'FD_PROCEDURE_DEFINITION_CONTRACT_NOTICE_ADMINISTRATIVE_INFORMATION_CONTRACT_NOTICE_PREVIOUS_PUBLICATION_INFORMATION_NOTICE_F2_PREVIOUS_PUBLICATION_EXISTS_F2_PREVIOUS_PUBLICATION_NOTICE_F2_DATE_OJ', x))\n",
    "pd5 = pd5.rename(columns=lambda x_ re.sub('FD_PROCEDURE_DEFINITION_CONTRACT_NOTICE_UTILITIES_ADMINISTRATIVE_INFORMATION_RECEIPT_LIMIT_DATE', 'FD_PROCEDURE_DEFINITION_CONTRACT_NOTICE_ADMINISTRATIVE_INFORMATION_CONTRACT_NOTICE_RECEIPT_LIMIT_DATE', x))"
   ]
  },
  {
   "cell_type": "code",
   "execution_count": null,
   "id": "58e5f58e-dc3f-49f1-a481-2f380ae4c29c",
   "metadata": {},
   "outputs": [],
   "source": [
    "pd5.info()"
   ]
  },
  {
   "cell_type": "code",
   "execution_count": null,
   "id": "c1dd5daa-e935-4340-a777-7e3d9638e92b",
   "metadata": {},
   "outputs": [],
   "source": [
    "fd5 = pd5.to_spark()"
   ]
  },
  {
   "cell_type": "code",
   "execution_count": null,
   "id": "6f0ab052-3d67-4b02-ae8c-4bf021e9bd04",
   "metadata": {},
   "outputs": [],
   "source": [
    "fd5 = fd5.withColumn(\"COMPLEMENTARY_INFO_DATE_DISPATCH_NOTICE\", expr(\"make_date(`FD_COMPLEMENTARY_INFORMATION_CONTRACT_NOTICE_NOTICE_DISPATCH_DATE_YEAR`, `FD_COMPLEMENTARY_INFORMATION_CONTRACT_NOTICE_NOTICE_DISPATCH_DATE_MONTH`, `FD_COMPLEMENTARY_INFORMATION_CONTRACT_NOTICE_NOTICE_DISPATCH_DATE_DAY`)\"))"
   ]
  },
  {
   "cell_type": "code",
   "execution_count": null,
   "id": "f0b72e37-a244-4480-b259-7ca397011e44",
   "metadata": {},
   "outputs": [],
   "source": [
    "fd5 = fd5.withColumn(\"FD_OBJECT_CONTRACT_INFORMATION_DESCRIPTION_CONTRACT_INFORMATION_F02_DIVISION_INTO_LOTS_F02_DIV_INTO_LOT_YES_F02_ANNEX_B_PERIOD_WORK_DATE_STARTING_INTERVAL_DATE_END_DATE\", expr(\"make_date(`FD_OBJECT_CONTRACT_INFORMATION_DESCRIPTION_CONTRACT_INFORMATION_F02_DIVISION_INTO_LOTS_F02_DIV_INTO_LOT_YES_F02_ANNEX_B_PERIOD_WORK_DATE_STARTING_INTERVAL_DATE_END_DATE_YEAR`, `FD_OBJECT_CONTRACT_INFORMATION_DESCRIPTION_CONTRACT_INFORMATION_F02_DIVISION_INTO_LOTS_F02_DIV_INTO_LOT_YES_F02_ANNEX_B_PERIOD_WORK_DATE_STARTING_INTERVAL_DATE_END_DATE_MONTH`, `FD_OBJECT_CONTRACT_INFORMATION_DESCRIPTION_CONTRACT_INFORMATION_F02_DIVISION_INTO_LOTS_F02_DIV_INTO_LOT_YES_F02_ANNEX_B_PERIOD_WORK_DATE_STARTING_INTERVAL_DATE_END_DATE_DAY`)\"))"
   ]
  },
  {
   "cell_type": "code",
   "execution_count": null,
   "id": "d1920888-f15a-4f52-b82f-c2ed14bc7692",
   "metadata": {},
   "outputs": [],
   "source": [
    "fd5 = fd5.withColumn(\"FD_OBJECT_CONTRACT_INFORMATION_DESCRIPTION_CONTRACT_INFORMATION_F02_DIVISION_INTO_LOTS_F02_DIV_INTO_LOT_YES_F02_ANNEX_B_PERIOD_WORK_DATE_STARTING_INTERVAL_DATE_START_DATE\", expr(\"make_date(`FD_OBJECT_CONTRACT_INFORMATION_DESCRIPTION_CONTRACT_INFORMATION_F02_DIVISION_INTO_LOTS_F02_DIV_INTO_LOT_YES_F02_ANNEX_B_PERIOD_WORK_DATE_STARTING_INTERVAL_DATE_START_DATE_YEAR`, `FD_OBJECT_CONTRACT_INFORMATION_DESCRIPTION_CONTRACT_INFORMATION_F02_DIVISION_INTO_LOTS_F02_DIV_INTO_LOT_YES_F02_ANNEX_B_PERIOD_WORK_DATE_STARTING_INTERVAL_DATE_START_DATE_MONTH`, `FD_OBJECT_CONTRACT_INFORMATION_DESCRIPTION_CONTRACT_INFORMATION_F02_DIVISION_INTO_LOTS_F02_DIV_INTO_LOT_YES_F02_ANNEX_B_PERIOD_WORK_DATE_STARTING_INTERVAL_DATE_START_DATE_DAY`)\"))"
   ]
  },
  {
   "cell_type": "code",
   "execution_count": null,
   "id": "6691af3b-4f31-41dd-9026-378b7ddd4dde",
   "metadata": {},
   "outputs": [],
   "source": [
    "fd5 = fd5.withColumn(\"FD_OBJECT_CONTRACT_INFORMATION_PERIOD_WORK_DATE_STARTING_INTERVAL_DATE_END_DATE\", expr(\"make_date(`FD_OBJECT_CONTRACT_INFORMATION_PERIOD_WORK_DATE_STARTING_INTERVAL_DATE_END_DATE_YEAR`, `FD_OBJECT_CONTRACT_INFORMATION_PERIOD_WORK_DATE_STARTING_INTERVAL_DATE_END_DATE_MONTH`, `FD_OBJECT_CONTRACT_INFORMATION_PERIOD_WORK_DATE_STARTING_INTERVAL_DATE_END_DATE_DAY`)\"))"
   ]
  },
  {
   "cell_type": "code",
   "execution_count": null,
   "id": "c9b68929-9186-4e40-a52c-56bc0ee5cd20",
   "metadata": {},
   "outputs": [],
   "source": [
    "fd5 = fd5.withColumn(\"FD_OBJECT_CONTRACT_INFORMATION_PERIOD_WORK_DATE_STARTING_INTERVAL_DATE_START_DATE\", expr(\"make_date(`FD_OBJECT_CONTRACT_INFORMATION_PERIOD_WORK_DATE_STARTING_INTERVAL_DATE_START_DATE_YEAR`, `FD_OBJECT_CONTRACT_INFORMATION_PERIOD_WORK_DATE_STARTING_INTERVAL_DATE_START_DATE_MONTH`, `FD_OBJECT_CONTRACT_INFORMATION_PERIOD_WORK_DATE_STARTING_INTERVAL_DATE_START_DATE_DAY`)\"))"
   ]
  },
  {
   "cell_type": "code",
   "execution_count": null,
   "id": "16ef539f-1782-4af4-b1c3-6849f75b95e2",
   "metadata": {},
   "outputs": [],
   "source": [
    "fd5 = fd5.withColumn(\"FD_PROCEDURE_DEFINITION_CONTRACT_NOTICE_ADMINISTRATIVE_INFORMATION_CONTRACT_NOTICE_CONDITIONS_FOR_OPENING_TENDERS_DATE\", expr(\"make_date(`FD_PROCEDURE_DEFINITION_CONTRACT_NOTICE_ADMINISTRATIVE_INFORMATION_CONTRACT_NOTICE_CONDITIONS_FOR_OPENING_TENDERS_DATE_TIME_YEAR`, `FD_PROCEDURE_DEFINITION_CONTRACT_NOTICE_ADMINISTRATIVE_INFORMATION_CONTRACT_NOTICE_CONDITIONS_FOR_OPENING_TENDERS_DATE_TIME_MONTH`, `FD_PROCEDURE_DEFINITION_CONTRACT_NOTICE_ADMINISTRATIVE_INFORMATION_CONTRACT_NOTICE_CONDITIONS_FOR_OPENING_TENDERS_DATE_TIME_DAY`)\"))"
   ]
  },
  {
   "cell_type": "code",
   "execution_count": null,
   "id": "1e670529-67b8-4fea-a836-0390cc16a44c",
   "metadata": {},
   "outputs": [],
   "source": [
    "fd5 = fd5.withColumn(\"FD_PROCEDURE_DEFINITION_CONTRACT_NOTICE_ADMINISTRATIVE_INFORMATION_CONTRACT_NOTICE_CONDITIONS_OBTAINING_SPECIFICATIONS_DATE\", expr(\"make_date(`FD_PROCEDURE_DEFINITION_CONTRACT_NOTICE_ADMINISTRATIVE_INFORMATION_CONTRACT_NOTICE_CONDITIONS_OBTAINING_SPECIFICATIONS_TIME_LIMIT_YEAR`, `FD_PROCEDURE_DEFINITION_CONTRACT_NOTICE_ADMINISTRATIVE_INFORMATION_CONTRACT_NOTICE_CONDITIONS_OBTAINING_SPECIFICATIONS_TIME_LIMIT_MONTH`, `FD_PROCEDURE_DEFINITION_CONTRACT_NOTICE_ADMINISTRATIVE_INFORMATION_CONTRACT_NOTICE_CONDITIONS_OBTAINING_SPECIFICATIONS_TIME_LIMIT_DAY`)\"))"
   ]
  },
  {
   "cell_type": "code",
   "execution_count": null,
   "id": "7d6dafba-ff12-47fb-a013-b2d424dbb83a",
   "metadata": {},
   "outputs": [],
   "source": [
    "#fd5 = fd5.withColumn(\"FD_PROCEDURE_DEFINITION_CONTRACT_NOTICE_ADMINISTRATIVE_INFORMATION_CONTRACT_NOTICE_DISPATCH_INVITATIONS_DATE\", expr(\"make_date(`FD_PROCEDURE_DEFINITION_CONTRACT_NOTICE_ADMINISTRATIVE_INFORMATION_CONTRACT_NOTICE_DISPATCH_INVITATIONS_DATE_YEAR`, `FD_PROCEDURE_DEFINITION_CONTRACT_NOTICE_ADMINISTRATIVE_INFORMATION_CONTRACT_NOTICE_DISPATCH_INVITATIONS_DATE_MONTH`, `FD_PROCEDURE_DEFINITION_CONTRACT_NOTICE_ADMINISTRATIVE_INFORMATION_CONTRACT_NOTICE_DISPATCH_INVITATIONS_DATE_DAY`)\"))\n",
    "fd5 = fd5.withColumn(\"FD_PROCEDURE_DEFINITION_CONTRACT_NOTICE_ADMINISTRATIVE_INFORMATION_CONTRACT_NOTICE_MINIMUM_TIME_MAINTAINING_TENDER_UNTIL_DATE\", expr(\"make_date(`FD_PROCEDURE_DEFINITION_CONTRACT_NOTICE_ADMINISTRATIVE_INFORMATION_CONTRACT_NOTICE_MINIMUM_TIME_MAINTAINING_TENDER_UNTIL_DATE_YEAR`, `FD_PROCEDURE_DEFINITION_CONTRACT_NOTICE_ADMINISTRATIVE_INFORMATION_CONTRACT_NOTICE_MINIMUM_TIME_MAINTAINING_TENDER_UNTIL_DATE_MONTH`, `FD_PROCEDURE_DEFINITION_CONTRACT_NOTICE_ADMINISTRATIVE_INFORMATION_CONTRACT_NOTICE_MINIMUM_TIME_MAINTAINING_TENDER_UNTIL_DATE_DAY`)\"))"
   ]
  },
  {
   "cell_type": "code",
   "execution_count": null,
   "id": "47572896-97f6-4f67-bc74-30f42f45aade",
   "metadata": {},
   "outputs": [],
   "source": [
    "fd5 = fd5.withColumn(\"FD_PROCEDURE_DEFINITION_CONTRACT_NOTICE_ADMINISTRATIVE_INFORMATION_CONTRACT_NOTICE_PREVIOUS_PUBLICATION_INFORMATION_NOTICE_F2_PREVIOUS_PUBLICATION_EXISTS_F2_OTHER_PREVIOUS_PUBLICATIONS_OTHER_PREVIOUS_PUBLICATION_DATE_OJ\", expr(\"make_date(`FD_PROCEDURE_DEFINITION_CONTRACT_NOTICE_ADMINISTRATIVE_INFORMATION_CONTRACT_NOTICE_PREVIOUS_PUBLICATION_INFORMATION_NOTICE_F2_PREVIOUS_PUBLICATION_EXISTS_F2_OTHER_PREVIOUS_PUBLICATIONS_OTHER_PREVIOUS_PUBLICATION_DATE_OJ_YEAR`, `FD_PROCEDURE_DEFINITION_CONTRACT_NOTICE_ADMINISTRATIVE_INFORMATION_CONTRACT_NOTICE_PREVIOUS_PUBLICATION_INFORMATION_NOTICE_F2_PREVIOUS_PUBLICATION_EXISTS_F2_OTHER_PREVIOUS_PUBLICATIONS_OTHER_PREVIOUS_PUBLICATION_DATE_OJ_MONTH`, `FD_PROCEDURE_DEFINITION_CONTRACT_NOTICE_ADMINISTRATIVE_INFORMATION_CONTRACT_NOTICE_PREVIOUS_PUBLICATION_INFORMATION_NOTICE_F2_PREVIOUS_PUBLICATION_EXISTS_F2_OTHER_PREVIOUS_PUBLICATIONS_OTHER_PREVIOUS_PUBLICATION_DATE_OJ_DAY`)\"))"
   ]
  },
  {
   "cell_type": "code",
   "execution_count": null,
   "id": "76a2293d-ca65-4650-b4f2-f9fd4be99e40",
   "metadata": {},
   "outputs": [],
   "source": [
    "fd5 = fd5.withColumn(\"FD_PROCEDURE_DEFINITION_CONTRACT_NOTICE_ADMINISTRATIVE_INFORMATION_CONTRACT_NOTICE_PREVIOUS_PUBLICATION_INFORMATION_NOTICE_F2_PREVIOUS_PUBLICATION_EXISTS_F2_PREVIOUS_PUBLICATION_NOTICE_F2_DATE_OJ\", expr(\"make_date(`FD_PROCEDURE_DEFINITION_CONTRACT_NOTICE_ADMINISTRATIVE_INFORMATION_CONTRACT_NOTICE_PREVIOUS_PUBLICATION_INFORMATION_NOTICE_F2_PREVIOUS_PUBLICATION_EXISTS_F2_PREVIOUS_PUBLICATION_NOTICE_F2_DATE_OJ_YEAR`, `FD_PROCEDURE_DEFINITION_CONTRACT_NOTICE_ADMINISTRATIVE_INFORMATION_CONTRACT_NOTICE_PREVIOUS_PUBLICATION_INFORMATION_NOTICE_F2_PREVIOUS_PUBLICATION_EXISTS_F2_PREVIOUS_PUBLICATION_NOTICE_F2_DATE_OJ_MONTH`, `FD_PROCEDURE_DEFINITION_CONTRACT_NOTICE_ADMINISTRATIVE_INFORMATION_CONTRACT_NOTICE_PREVIOUS_PUBLICATION_INFORMATION_NOTICE_F2_PREVIOUS_PUBLICATION_EXISTS_F2_PREVIOUS_PUBLICATION_NOTICE_F2_DATE_OJ_DAY`)\"))"
   ]
  },
  {
   "cell_type": "code",
   "execution_count": null,
   "id": "27d38405-2d8a-41c3-987d-0b745725e243",
   "metadata": {},
   "outputs": [],
   "source": [
    "fd5 = fd5.withColumn(\"FD_PROCEDURE_DEFINITION_CONTRACT_NOTICE_ADMINISTRATIVE_INFORMATION_CONTRACT_NOTICE_RECEIPT_LIMIT_DATE\", expr(\"make_date(`FD_PROCEDURE_DEFINITION_CONTRACT_NOTICE_ADMINISTRATIVE_INFORMATION_CONTRACT_NOTICE_RECEIPT_LIMIT_DATE_YEAR`, `FD_PROCEDURE_DEFINITION_CONTRACT_NOTICE_ADMINISTRATIVE_INFORMATION_CONTRACT_NOTICE_RECEIPT_LIMIT_DATE_MONTH`, `FD_PROCEDURE_DEFINITION_CONTRACT_NOTICE_ADMINISTRATIVE_INFORMATION_CONTRACT_NOTICE_RECEIPT_LIMIT_DATE_DAY`)\"))"
   ]
  },
  {
   "cell_type": "code",
   "execution_count": null,
   "id": "556bd8f7-9e5f-4ef1-9cd1-2d86e4a73efb",
   "metadata": {},
   "outputs": [],
   "source": [
    "fd5.printSchema()"
   ]
  },
  {
   "cell_type": "code",
   "execution_count": null,
   "id": "8debdffa-c69d-4927-81f1-006d8088f538",
   "metadata": {},
   "outputs": [],
   "source": [
    "pd5 = fd5.to_pandas_on_spark()\n",
    "\n",
    "#pd5.info()"
   ]
  },
  {
   "cell_type": "code",
   "execution_count": null,
   "id": "82178d69-b396-46d3-90ad-5522bb589271",
   "metadata": {},
   "outputs": [],
   "source": [
    "pd5 = pd5.drop(columns=['FD_COMPLEMENTARY_INFORMATION_CONTRACT_NOTICE_NOTICE_DISPATCH_DATE_DAY', 'FD_COMPLEMENTARY_INFORMATION_CONTRACT_NOTICE_NOTICE_DISPATCH_DATE_MONTH', 'FD_COMPLEMENTARY_INFORMATION_CONTRACT_NOTICE_NOTICE_DISPATCH_DATE_YEAR',\\\n",
    "                        'FD_OBJECT_CONTRACT_INFORMATION_DESCRIPTION_CONTRACT_INFORMATION_F02_DIVISION_INTO_LOTS_F02_DIV_INTO_LOT_YES_F02_ANNEX_B_PERIOD_WORK_DATE_STARTING_INTERVAL_DATE_END_DATE_DAY', 'FD_OBJECT_CONTRACT_INFORMATION_DESCRIPTION_CONTRACT_INFORMATION_F02_DIVISION_INTO_LOTS_F02_DIV_INTO_LOT_YES_F02_ANNEX_B_PERIOD_WORK_DATE_STARTING_INTERVAL_DATE_END_DATE_MONTH', 'FD_OBJECT_CONTRACT_INFORMATION_DESCRIPTION_CONTRACT_INFORMATION_F02_DIVISION_INTO_LOTS_F02_DIV_INTO_LOT_YES_F02_ANNEX_B_PERIOD_WORK_DATE_STARTING_INTERVAL_DATE_END_DATE_YEAR',\\\n",
    "                        'FD_OBJECT_CONTRACT_INFORMATION_DESCRIPTION_CONTRACT_INFORMATION_F02_DIVISION_INTO_LOTS_F02_DIV_INTO_LOT_YES_F02_ANNEX_B_PERIOD_WORK_DATE_STARTING_INTERVAL_DATE_START_DATE_DAY', 'FD_OBJECT_CONTRACT_INFORMATION_DESCRIPTION_CONTRACT_INFORMATION_F02_DIVISION_INTO_LOTS_F02_DIV_INTO_LOT_YES_F02_ANNEX_B_PERIOD_WORK_DATE_STARTING_INTERVAL_DATE_START_DATE_MONTH', 'FD_OBJECT_CONTRACT_INFORMATION_DESCRIPTION_CONTRACT_INFORMATION_F02_DIVISION_INTO_LOTS_F02_DIV_INTO_LOT_YES_F02_ANNEX_B_PERIOD_WORK_DATE_STARTING_INTERVAL_DATE_START_DATE_YEAR',\\\n",
    "                        'FD_OBJECT_CONTRACT_INFORMATION_PERIOD_WORK_DATE_STARTING_INTERVAL_DATE_END_DATE_DAY', 'FD_OBJECT_CONTRACT_INFORMATION_PERIOD_WORK_DATE_STARTING_INTERVAL_DATE_END_DATE_MONTH', 'FD_OBJECT_CONTRACT_INFORMATION_PERIOD_WORK_DATE_STARTING_INTERVAL_DATE_END_DATE_YEAR',\\\n",
    "                        'FD_OBJECT_CONTRACT_INFORMATION_PERIOD_WORK_DATE_STARTING_INTERVAL_DATE_START_DATE_DAY', 'FD_OBJECT_CONTRACT_INFORMATION_PERIOD_WORK_DATE_STARTING_INTERVAL_DATE_START_DATE_MONTH', 'FD_OBJECT_CONTRACT_INFORMATION_PERIOD_WORK_DATE_STARTING_INTERVAL_DATE_START_DATE_YEAR',\\\n",
    "                        'FD_PROCEDURE_DEFINITION_CONTRACT_NOTICE_ADMINISTRATIVE_INFORMATION_CONTRACT_NOTICE_CONDITIONS_FOR_OPENING_TENDERS_DATE_TIME_DAY', 'FD_PROCEDURE_DEFINITION_CONTRACT_NOTICE_ADMINISTRATIVE_INFORMATION_CONTRACT_NOTICE_CONDITIONS_FOR_OPENING_TENDERS_DATE_TIME_MONTH', 'FD_PROCEDURE_DEFINITION_CONTRACT_NOTICE_ADMINISTRATIVE_INFORMATION_CONTRACT_NOTICE_CONDITIONS_FOR_OPENING_TENDERS_DATE_TIME_YEAR'])"
   ]
  },
  {
   "cell_type": "code",
   "execution_count": null,
   "id": "fe8e7009-7889-42dd-8136-3e70a914c4af",
   "metadata": {},
   "outputs": [],
   "source": [
    "pd5 = pd5.drop(columns=['FD_PROCEDURE_DEFINITION_CONTRACT_NOTICE_ADMINISTRATIVE_INFORMATION_CONTRACT_NOTICE_CONDITIONS_OBTAINING_SPECIFICATIONS_TIME_LIMIT_DAY', 'FD_PROCEDURE_DEFINITION_CONTRACT_NOTICE_ADMINISTRATIVE_INFORMATION_CONTRACT_NOTICE_CONDITIONS_OBTAINING_SPECIFICATIONS_TIME_LIMIT_MONTH', 'FD_PROCEDURE_DEFINITION_CONTRACT_NOTICE_ADMINISTRATIVE_INFORMATION_CONTRACT_NOTICE_CONDITIONS_OBTAINING_SPECIFICATIONS_TIME_LIMIT_YEAR',\\\n",
    "                        'FD_PROCEDURE_DEFINITION_CONTRACT_NOTICE_ADMINISTRATIVE_INFORMATION_CONTRACT_NOTICE_DISPATCH_INVITATIONS_DATE_DAY', 'FD_PROCEDURE_DEFINITION_CONTRACT_NOTICE_ADMINISTRATIVE_INFORMATION_CONTRACT_NOTICE_DISPATCH_INVITATIONS_DATE_MONTH', 'FD_PROCEDURE_DEFINITION_CONTRACT_NOTICE_ADMINISTRATIVE_INFORMATION_CONTRACT_NOTICE_DISPATCH_INVITATIONS_DATE_YEAR',\\\n",
    "                        'FD_PROCEDURE_DEFINITION_CONTRACT_NOTICE_ADMINISTRATIVE_INFORMATION_CONTRACT_NOTICE_MINIMUM_TIME_MAINTAINING_TENDER_UNTIL_DATE_DAY', 'FD_PROCEDURE_DEFINITION_CONTRACT_NOTICE_ADMINISTRATIVE_INFORMATION_CONTRACT_NOTICE_MINIMUM_TIME_MAINTAINING_TENDER_UNTIL_DATE_MONTH', 'FD_PROCEDURE_DEFINITION_CONTRACT_NOTICE_ADMINISTRATIVE_INFORMATION_CONTRACT_NOTICE_MINIMUM_TIME_MAINTAINING_TENDER_UNTIL_DATE_YEAR',\\\n",
    "                        'FD_PROCEDURE_DEFINITION_CONTRACT_NOTICE_ADMINISTRATIVE_INFORMATION_CONTRACT_NOTICE_PREVIOUS_PUBLICATION_INFORMATION_NOTICE_F2_PREVIOUS_PUBLICATION_EXISTS_F2_OTHER_PREVIOUS_PUBLICATIONS_OTHER_PREVIOUS_PUBLICATION_DATE_OJ_DAY', 'FD_PROCEDURE_DEFINITION_CONTRACT_NOTICE_ADMINISTRATIVE_INFORMATION_CONTRACT_NOTICE_PREVIOUS_PUBLICATION_INFORMATION_NOTICE_F2_PREVIOUS_PUBLICATION_EXISTS_F2_OTHER_PREVIOUS_PUBLICATIONS_OTHER_PREVIOUS_PUBLICATION_DATE_OJ_MONTH', 'FD_PROCEDURE_DEFINITION_CONTRACT_NOTICE_ADMINISTRATIVE_INFORMATION_CONTRACT_NOTICE_PREVIOUS_PUBLICATION_INFORMATION_NOTICE_F2_PREVIOUS_PUBLICATION_EXISTS_F2_OTHER_PREVIOUS_PUBLICATIONS_OTHER_PREVIOUS_PUBLICATION_DATE_OJ_YEAR',\\\n",
    "                        'FD_PROCEDURE_DEFINITION_CONTRACT_NOTICE_ADMINISTRATIVE_INFORMATION_CONTRACT_NOTICE_PREVIOUS_PUBLICATION_INFORMATION_NOTICE_F2_PREVIOUS_PUBLICATION_EXISTS_F2_PREVIOUS_PUBLICATION_NOTICE_F2_DATE_OJ_DAY', 'FD_PROCEDURE_DEFINITION_CONTRACT_NOTICE_ADMINISTRATIVE_INFORMATION_CONTRACT_NOTICE_PREVIOUS_PUBLICATION_INFORMATION_NOTICE_F2_PREVIOUS_PUBLICATION_EXISTS_F2_PREVIOUS_PUBLICATION_NOTICE_F2_DATE_OJ_MONTH', 'FD_PROCEDURE_DEFINITION_CONTRACT_NOTICE_ADMINISTRATIVE_INFORMATION_CONTRACT_NOTICE_PREVIOUS_PUBLICATION_INFORMATION_NOTICE_F2_PREVIOUS_PUBLICATION_EXISTS_F2_PREVIOUS_PUBLICATION_NOTICE_F2_DATE_OJ_YEAR',\\\n",
    "                        'FD_PROCEDURE_DEFINITION_CONTRACT_NOTICE_ADMINISTRATIVE_INFORMATION_CONTRACT_NOTICE_RECEIPT_LIMIT_DATE_DAY', 'FD_PROCEDURE_DEFINITION_CONTRACT_NOTICE_ADMINISTRATIVE_INFORMATION_CONTRACT_NOTICE_RECEIPT_LIMIT_DATE_MONTH', 'FD_PROCEDURE_DEFINITION_CONTRACT_NOTICE_ADMINISTRATIVE_INFORMATION_CONTRACT_NOTICE_RECEIPT_LIMIT_DATE_YEAR'])"
   ]
  },
  {
   "cell_type": "code",
   "execution_count": null,
   "id": "1177d154-36ab-409a-937e-2afbf3fff7ed",
   "metadata": {},
   "outputs": [],
   "source": [
    "pd5 = pd5.rename(columns=lambda x_ re.sub('FD_PROCEDURE_DEFINITION_CONTRACT_NOTICE_ADMINISTRATIVE_INFORMATION_CONTRACT_NOTICE_CONDITIONS_FOR_OPENING_TENDERS_DATE', 'PROCEDURE_OPENING_CONDITION_DATE_OPENING_TENDERS', x))  \n",
    "pd5 = pd5.rename(columns=lambda x_ re.sub('FD_PROCEDURE_DEFINITION_CONTRACT_NOTICE_ADMINISTRATIVE_INFORMATION_CONTRACT_NOTICE_RECEIPT_LIMIT_DATE', 'PROCEDURE_DATE_RECEIPT_TENDERS', x))    \n",
    "pd5 = pd5.rename(columns=lambda x_ re.sub('FD_PROCEDURE_DEFINITION_CONTRACT_NOTICE_ADMINISTRATIVE_INFORMATION_CONTRACT_NOTICE_DISPATCH_INVITATIONS_DATE', 'PROCEDURE_DATE_DISPATCH_INVITATIONS', x))\n",
    "pd5 = pd5.rename(columns=lambda x_ re.sub('FD_PROCEDURE_DEFINITION_CONTRACT_NOTICE_ADMINISTRATIVE_INFORMATION_CONTRACT_NOTICE_MINIMUM_TIME_MAINTAINING_TENDER_UNTIL_DATE', 'PROCEDURE_DATE_TENDER_VALID', x))\n",
    "pd5 = pd5.rename(columns=lambda x_ re.sub('FD_OBJECT_CONTRACT_INFORMATION_PERIOD_WORK_DATE_STARTING_INTERVAL_DATE_START_DATE', 'OBJECT_CONTRACT_OBJECT_DESCR_DATE_START', x))\n",
    "pd5 = pd5.rename(columns=lambda x_ re.sub('FD_OBJECT_CONTRACT_INFORMATION_PERIOD_WORK_DATE_STARTING_INTERVAL_DATE_END_DATE', 'OBJECT_CONTRACT_OBJECT_DESCR_DATE_END', x))"
   ]
  },
  {
   "cell_type": "code",
   "execution_count": null,
   "id": "a5879042-6cc0-422a-8695-3a90dba5adbf",
   "metadata": {},
   "outputs": [],
   "source": [
    "pd5.info()"
   ]
  },
  {
   "cell_type": "code",
   "execution_count": null,
   "id": "4a94914b-df4e-4395-9805-b85b30155de5",
   "metadata": {},
   "outputs": [],
   "source": [
    "pd5.info()"
   ]
  },
  {
   "cell_type": "code",
   "execution_count": null,
   "id": "03ca0e15-29fe-42ef-931c-b86b1422138f",
   "metadata": {},
   "outputs": [],
   "source": [
    "fd5 = pd5.to_spark()"
   ]
  },
  {
   "cell_type": "code",
   "execution_count": null,
   "id": "d7200a78-2b4c-47fb-accc-6e202fd53eea",
   "metadata": {},
   "outputs": [],
   "source": [
    "fd5.write.parquet(\"s3a_//falk2210/fd5_210921.parquet\")"
   ]
  },
  {
   "cell_type": "markdown",
   "id": "3910ab49-0b87-41de-b983-d07bd041ed45",
   "metadata": {
    "tags": []
   },
   "source": [
    "# 6 AWARD_CONTRACT "
   ]
  },
  {
   "cell_type": "markdown",
   "id": "305bd6ac-7586-4cf8-baa1-dfabf4e09098",
   "metadata": {},
   "source": [
    "<a id='d6' />"
   ]
  },
  {
   "cell_type": "code",
   "execution_count": null,
   "id": "9528b1b8-64ce-4252-9d22-16483b675518",
   "metadata": {},
   "outputs": [],
   "source": [
    "d6 = spark.read.json(\"falk/6.json/*.json\")\n",
    "#d6.printSchema()"
   ]
  },
  {
   "cell_type": "code",
   "execution_count": null,
   "id": "1ccbdf75-1a48-4d30-a865-d0c1efcd3873",
   "metadata": {},
   "outputs": [],
   "source": [
    "pd6 = d6.to_pandas_on_spark()"
   ]
  },
  {
   "cell_type": "code",
   "execution_count": null,
   "id": "479b5049-6f58-44fa-b022-604354983afa",
   "metadata": {},
   "outputs": [],
   "source": [
    "pd6 = pd6.rename(columns=lambda x_ re.sub('DOFFIN_ESENDERS_VERSION', 'DOFFIN_VERSION', x))\n",
    "#pd6.info()"
   ]
  },
  {
   "cell_type": "code",
   "execution_count": null,
   "id": "bd696002-b867-49a2-b4a3-b152eba23b17",
   "metadata": {},
   "outputs": [],
   "source": [
    "pd6 = pd6.rename(columns=lambda x_ re.sub('DOFFIN_ESENDERS_', '', x))"
   ]
  },
  {
   "cell_type": "code",
   "execution_count": null,
   "id": "aca9803d-e494-4596-9624-20083938a2a6",
   "metadata": {},
   "outputs": [],
   "source": [
    "pd6 = pd6.rename(columns=lambda x_ re.sub('FORM_SECTION_', '', x))\n",
    "#pd6.info()"
   ]
  },
  {
   "cell_type": "code",
   "execution_count": null,
   "id": "7e79d579-fa25-4340-a182-c0baaba43d25",
   "metadata": {},
   "outputs": [],
   "source": [
    "pd6 = pd6.rename(columns=lambda x_ re.sub('CONTRACT_AWARD_UTILITIES_', '', x))\n",
    "#pd6.info()"
   ]
  },
  {
   "cell_type": "code",
   "execution_count": null,
   "id": "55b7bc39-f58e-47e9-a6e5-78e0843714c0",
   "metadata": {},
   "outputs": [],
   "source": [
    "pd6['FD_AWARD_CONTRACT_AWARD_AND_CONTRACT_VALUE_TITLE_CONTRACT'].update(pd6.pop('FD_AWARD_CONTRACT_AWARD_AND_CONTRACT_VALUE_TITLE_CONTRACT_P'))\n",
    "pd6['FD_AWARD_CONTRACT_MANDATORY_INFORMATION_NOT_INTENDED_PUBLICATION_TITLE_CONTRACT'].update(pd6.pop('FD_AWARD_CONTRACT_MANDATORY_INFORMATION_NOT_INTENDED_PUBLICATION_TITLE_CONTRACT_P'))\n",
    "pd6['FD_COMPLEMENTARY_INFORMATION_ADDITIONAL_INFORMATION'].update(pd6.pop('FD_COMPLEMENTARY_INFORMATION_ADDITIONAL_INFORMATION_P'))\n",
    "pd6['FD_OBJECT_DESCRIPTION_LOCATION_NUTS_LOCATION'].update(pd6.pop('FD_OBJECT_DESCRIPTION_LOCATION_NUTS_LOCATION_P'))\n",
    "pd6['FD_OBJECT_DESCRIPTION_SHORT_DESCRIPTION'].update(pd6.pop('FD_OBJECT_DESCRIPTION_SHORT_DESCRIPTION_P'))\n",
    "pd6['FD_OBJECT_DESCRIPTION_TITLE_CONTRACT'].update(pd6.pop('FD_OBJECT_DESCRIPTION_TITLE_CONTRACT_P'))\n",
    "pd6['FD_PROCEDURES_ADMINISTRATIVE_INFO_REFERENCE_NUMBER_ATTRIBUTED'].update(pd6.pop('FD_PROCEDURES_ADMINISTRATIVE_INFO_REFERENCE_NUMBER_ATTRIBUTED_P'))"
   ]
  },
  {
   "cell_type": "code",
   "execution_count": null,
   "id": "6ceacbf1-37b7-44f4-92ef-e800772d9708",
   "metadata": {},
   "outputs": [],
   "source": [
    "pd6 = pd6.rename(columns=lambda x_ re.sub('\\_P$', '', x))\n",
    "pd6 = pd6.rename(columns=lambda x_ re.sub('F06_', '', x))\n",
    "pd6 = pd6.rename(columns=lambda x_ re.sub('_F06', '', x))\n",
    "pd6 = pd6.rename(columns=lambda x_ re.sub('CONTACT_DATA_WITHOUT_RESPONSIBLE_NAME_', '', x))\n",
    "pd6 = pd6.rename(columns=lambda x_ re.sub('DOFFIN_FORM_TYPE_', '', x))\n",
    "pd6 = pd6.rename(columns=lambda x_ re.sub('ADMINISTRATIVE_INFORMATION_PREVIOUS_PUBLICATION_INFORMATION_NOTICE_', '', x))\n",
    "pd6 = pd6.rename(columns=lambda x_ re.sub('ORGANISATION_', '', x))\n",
    "pd6 = pd6.rename(columns=lambda x_ re.sub('FD_PROCEDURES_ADMINISTRATIVE_INFO_PREVIOUS_PUBLICATION_INFORMATION_NOTICE_F6', 'FD_PROCEDURE_DEFINITION_CONTRACT_AWARD_NOTICE_ADMINISTRATIVE_INFORMATION_PREVIOUS_PUBLICATION_INFORMATION_NOTICE', x))\n",
    "pd6 = pd6.rename(columns=lambda x_ re.sub('PREVIOUS_PUBLICATION_NOTICE_F6', 'PREVIOUS_PUBLICATION_NOTICE', x))\n",
    "pd6 = pd6.rename(columns=lambda x_ re.sub('PREVIOUS_NOTICE_BUYER_PROFILE_F6', 'PREVIOUS_NOTICE_BUYER_PROFILE', x))\n",
    "pd6 = pd6.rename(columns=lambda x_ re.sub('ENTITY_', '', x))\n",
    "pd6 = pd6.rename(columns=lambda x_ re.sub('FD_AWARD_CONTRACT_MANDATORY_INFORMATION_NOT_INTENDED_PUBLICATION_', '', x))\n",
    "pd6 = pd6.rename(columns=lambda x_ re.sub('PREVIOUS_PUBLICATION_EXISTS_F6_', 'PREVIOUS_PUBLICATION_EXISTS_', x))\n",
    "pd6 = pd6.rename(columns=lambda x_ re.sub('E_MAILS_', '', x))\n",
    "pd6 = pd6.rename(columns=lambda x_ re.sub('FD_PROCEDURE_DEFINITION_CONTRACT_AWARD_NOTICE_ADMINISTRATIVE_INFORMATION_PREVIOUS_PUBLICATION_INFORMATION_NOTICE_PREVIOUS_PUBLICATION_EXISTS_', 'FD_PREVIOUS_PUBLICATION_EXISTS_', x))"
   ]
  },
  {
   "cell_type": "code",
   "execution_count": null,
   "id": "4fab9b17-0df0-4736-92e2-ddca4634102d",
   "metadata": {},
   "outputs": [],
   "source": [
    "pd6 = pd6.rename(columns=lambda x_ re.sub('FD_COMPLEMENTARY_INFORMATION_APPEAL_PROCEDURES_RESPONSIBLE_FOR_APPEAL_PROCEDURES_', 'FD_COMPLEMENTARY_INFORMATION_PROCEDURES_FOR_APPEAL_APPEAL_PROCEDURE_BODY_RESPONSIBLE_', x))\n",
    "pd6 = pd6.rename(columns=lambda x_ re.sub('FD_COMPLEMENTARY_INFORMATION_APPEAL_PROCEDURES_SERVICE_FROM_INFORMATION_', 'FD_COMPLEMENTARY_INFORMATION_PROCEDURES_FOR_APPEAL_LODGING_INFORMATION_FOR_SERVICE_', x))"
   ]
  },
  {
   "cell_type": "code",
   "execution_count": null,
   "id": "e095a96a-f8fc-4811-93af-839b345bff34",
   "metadata": {},
   "outputs": [],
   "source": [
    "pd6['FD_COMPLEMENTARY_INFORMATION_PROCEDURES_FOR_APPEAL_APPEAL_PROCEDURE_BODY_RESPONSIBLE_ADDRESS'].update(pd6.pop('FD_COMPLEMENTARY_INFORMATION_PROCEDURES_FOR_APPEAL_LODGING_INFORMATION_FOR_SERVICE_ADDRESS'))\n",
    "pd6['FD_COMPLEMENTARY_INFORMATION_PROCEDURES_FOR_APPEAL_APPEAL_PROCEDURE_BODY_RESPONSIBLE_COUNTRY_VALUE'].update(pd6.pop('FD_COMPLEMENTARY_INFORMATION_PROCEDURES_FOR_APPEAL_LODGING_INFORMATION_FOR_SERVICE_COUNTRY_VALUE'))\n",
    "pd6['FD_COMPLEMENTARY_INFORMATION_PROCEDURES_FOR_APPEAL_APPEAL_PROCEDURE_BODY_RESPONSIBLE_E_MAIL'].update(pd6.pop('FD_COMPLEMENTARY_INFORMATION_PROCEDURES_FOR_APPEAL_LODGING_INFORMATION_FOR_SERVICE_E_MAIL'))\n",
    "#pd6['FD_COMPLEMENTARY_INFORMATION_PROCEDURES_FOR_APPEAL_APPEAL_PROCEDURE_BODY_RESPONSIBLE_FAX'].update(pd6.pop('FD_COMPLEMENTARY_INFORMATION_PROCEDURES_FOR_APPEAL_LODGING_INFORMATION_FOR_SERVICE_FAX'))\n",
    "pd6['FD_COMPLEMENTARY_INFORMATION_PROCEDURES_FOR_APPEAL_APPEAL_PROCEDURE_BODY_RESPONSIBLE_NATIONALID'].update(pd6.pop('FD_COMPLEMENTARY_INFORMATION_PROCEDURES_FOR_APPEAL_LODGING_INFORMATION_FOR_SERVICE_NATIONALID'))\n",
    "pd6['FD_COMPLEMENTARY_INFORMATION_PROCEDURES_FOR_APPEAL_APPEAL_PROCEDURE_BODY_RESPONSIBLE_OFFICIALNAME'].update(pd6.pop('FD_COMPLEMENTARY_INFORMATION_PROCEDURES_FOR_APPEAL_LODGING_INFORMATION_FOR_SERVICE_OFFICIALNAME'))\n",
    "pd6['FD_COMPLEMENTARY_INFORMATION_PROCEDURES_FOR_APPEAL_APPEAL_PROCEDURE_BODY_RESPONSIBLE_PHONE'].update(pd6.pop('FD_COMPLEMENTARY_INFORMATION_PROCEDURES_FOR_APPEAL_LODGING_INFORMATION_FOR_SERVICE_PHONE'))\n",
    "pd6['FD_COMPLEMENTARY_INFORMATION_PROCEDURES_FOR_APPEAL_APPEAL_PROCEDURE_BODY_RESPONSIBLE_POSTAL_CODE'].update(pd6.pop('FD_COMPLEMENTARY_INFORMATION_PROCEDURES_FOR_APPEAL_LODGING_INFORMATION_FOR_SERVICE_POSTAL_CODE'))\n",
    "pd6['FD_COMPLEMENTARY_INFORMATION_PROCEDURES_FOR_APPEAL_APPEAL_PROCEDURE_BODY_RESPONSIBLE_TOWN'].update(pd6.pop('FD_COMPLEMENTARY_INFORMATION_PROCEDURES_FOR_APPEAL_LODGING_INFORMATION_FOR_SERVICE_TOWN'))\n",
    "#pd6['FD_COMPLEMENTARY_INFORMATION_PROCEDURES_FOR_APPEAL_APPEAL_PROCEDURE_BODY_RESPONSIBLE_URL'].update(pd6.pop('FD_COMPLEMENTARY_INFORMATION_PROCEDURES_FOR_APPEAL_LODGING_INFORMATION_FOR_SERVICE_URL'))"
   ]
  },
  {
   "cell_type": "code",
   "execution_count": null,
   "id": "3d499722-7bbf-4c5c-8417-0abacfa64101",
   "metadata": {},
   "outputs": [],
   "source": [
    "pd6['FD_AWARD_CONTRACT_AWARD_AND_CONTRACT_VALUE_CONTACT_DATA_WITHOUT_RESPONSIBLE_NAME_CHP_ADDRESS'].update(pd6.pop('CONTACT_DATA_WITHOUT_RESPONSIBLE_NAME_CHP_ADDRESS'))\n",
    "pd6['FD_AWARD_CONTRACT_AWARD_AND_CONTRACT_VALUE_CONTACT_DATA_WITHOUT_RESPONSIBLE_NAME_CHP_COUNTRY_VALUE'].update(pd6.pop('CONTACT_DATA_WITHOUT_RESPONSIBLE_NAME_CHP_COUNTRY_VALUE'))\n",
    "pd6['FD_AWARD_CONTRACT_AWARD_AND_CONTRACT_VALUE_CONTACT_DATA_WITHOUT_RESPONSIBLE_NAME_CHP_E_MAIL'].update(pd6.pop('CONTACT_DATA_WITHOUT_RESPONSIBLE_NAME_CHP_E_MAIL'))\n",
    "pd6['FD_AWARD_CONTRACT_AWARD_AND_CONTRACT_VALUE_CONTACT_DATA_WITHOUT_RESPONSIBLE_NAME_CHP_FAX'].update(pd6.pop('CONTACT_DATA_WITHOUT_RESPONSIBLE_NAME_CHP_FAX'))\n",
    "pd6['FD_AWARD_CONTRACT_AWARD_AND_CONTRACT_VALUE_CONTACT_DATA_WITHOUT_RESPONSIBLE_NAME_CHP_NATIONALID'].update(pd6.pop('CONTACT_DATA_WITHOUT_RESPONSIBLE_NAME_CHP_NATIONALID'))\n",
    "pd6['FD_AWARD_CONTRACT_AWARD_AND_CONTRACT_VALUE_CONTACT_DATA_WITHOUT_RESPONSIBLE_NAME_CHP_OFFICIALNAME'].update(pd6.pop('CONTACT_DATA_WITHOUT_RESPONSIBLE_NAME_CHP_OFFICIALNAME'))\n",
    "pd6['FD_AWARD_CONTRACT_AWARD_AND_CONTRACT_VALUE_CONTACT_DATA_WITHOUT_RESPONSIBLE_NAME_CHP_PHONE'].update(pd6.pop('CONTACT_DATA_WITHOUT_RESPONSIBLE_NAME_CHP_PHONE'))\n",
    "pd6['FD_AWARD_CONTRACT_AWARD_AND_CONTRACT_VALUE_CONTACT_DATA_WITHOUT_RESPONSIBLE_NAME_CHP_POSTAL_CODE'].update(pd6.pop('CONTACT_DATA_WITHOUT_RESPONSIBLE_NAME_CHP_POSTAL_CODE'))\n",
    "pd6['FD_AWARD_CONTRACT_AWARD_AND_CONTRACT_VALUE_CONTACT_DATA_WITHOUT_RESPONSIBLE_NAME_CHP_TOWN'].update(pd6.pop('CONTACT_DATA_WITHOUT_RESPONSIBLE_NAME_CHP_TOWN'))\n",
    "pd6['FD_AWARD_CONTRACT_AWARD_AND_CONTRACT_VALUE_CONTACT_DATA_WITHOUT_RESPONSIBLE_NAME_CHP_URL'].update(pd6.pop('CONTACT_DATA_WITHOUT_RESPONSIBLE_NAME_CHP_URL'))\n",
    "pd6['FD_AWARD_CONTRACT_AWARD_AND_CONTRACT_VALUE_CONTRACT_NO'].update(pd6.pop('CONTRACT_NO'))\n",
    "#pd6[''].update(pd6.pop('COUNTRY_ORIGIN_PRODUCT_NO_COMMUNITY_ORIGIN'))\n",
    "pd6['FD_AWARD_CONTRACT_AWARD_AND_CONTRACT_VALUE_ITEM'].update(pd6.pop('ITEM'))\n",
    "pd6['FD_AWARD_CONTRACT_AWARD_AND_CONTRACT_VALUE_LOT_NUMBER'].update(pd6.pop('LOT_NUMBER'))\n",
    "#pd6[''].update(pd6.pop('NUMBER_CONTRACTS_AWARDED'))\n",
    "pd6['FD_AWARD_CONTRACT_AWARD_AND_CONTRACT_VALUE_OFFERS_RECEIVED_NUMBER'].update(pd6.pop('OFFERS_RECEIVED_NUMBER'))\n",
    "pd6['FD_AWARD_CONTRACT_AWARD_AND_CONTRACT_VALUE_OFFERS_RECEIVED_NUMBER_MEANING'].update(pd6.pop('OFFERS_RECEIVED_NUMBER_MEANING'))\n",
    "pd6['FD_PROCEDURES_AWARD_CRITERIA_CONTRACT_UTILITIES_INFORMATION_PRICE_AWARD_CRITERIA_PRICE'].update(pd6.pop('PRICE_AWARD_CRITERIA_PRICE'))\n",
    "pd6['FD_OBJECT_DESCRIPTION_TITLE_CONTRACT'].update(pd6.pop('TITLE_CONTRACT'))"
   ]
  },
  {
   "cell_type": "code",
   "execution_count": null,
   "id": "0d0d9896-2bcc-4091-aa65-ecb890b6d9d6",
   "metadata": {},
   "outputs": [],
   "source": [
    "pd6 = pd6.rename(columns=lambda x_ re.sub('FD_AWARD_CONTRACT_AWARD_AND_CONTRACT_VALUE_CONTACT_DATA_WITHOUT_RESPONSIBLE_NAME_CHP_', 'AWARDED_CONTRACT_CONTRACTOR_ADDRESS_CONTRACTOR_', x))\n",
    "pd6 = pd6.rename(columns=lambda x_ re.sub('FD_AWARD_CONTRACT_AWARD_AND_CONTRACT_VALUE_', 'AWARD_CONTRACT_', x)) #ITEM\n",
    "pd6 = pd6.rename(columns=lambda x_ re.sub('FD_COMPLEMENTARY_INFORMATION_APPEAL_PROCEDURES_RESPONSIBLE_FOR_MEDIATION_PROCEDURES_', 'COMPLEMENTARY_INFO_ADDRESS_MEDIATION_BODY_', x))\n",
    "pd6 = pd6.rename(columns=lambda x_ re.sub('FD_COMPLEMENTARY_INFORMATION_PROCEDURES_FOR_APPEAL_APPEAL_PROCEDURE_BODY_RESPONSIBLE_', 'COMPLEMENTARY_INFO_ADDRESS_REVIEW_BODY_', x))\n",
    "pd6 = pd6.rename(columns=lambda x_ re.sub('FD_COMPLEMENTARY_INFORMATION_NOTICE_DISPATCH_DATE_', 'COMPLEMENTARY_INFO_', x)) #COMPLEMENTARY_INFO_DATE_DISPATCH_NOTICE\n",
    "pd6 = pd6.rename(columns=lambda x_ re.sub('FD_CONTRACTING_NAME_ADDRESSES_CONTACT_CA_CE_CONCESSIONAIRE_PROFILE_', 'CONTRACTING_BODY_ADDRESS_CONTRACTING_BODY_', x))\n",
    "#pd6 = pd6.rename(columns=lambda x_ re.sub('', 'CONTRACTING_BODY_ADDRESS_FURTHER_INFO_', x))\n",
    "pd6 = pd6.rename(columns=lambda x_ re.sub('FD_CONTRACTING_PURCHASING_ON_BEHALF_PURCHASING_ON_BEHALF_YES_CONTACT_DATA_OTHER_BEHALF_CONTRACTING_AUTORITHY_', 'CONTRACTING_BODY_ADDRESS_PARTICIPATION_', x))\n",
    "#pd6 = pd6.rename(columns=lambda x_ re.sub('', 'CONTRACTING_BODY_', x)) #CONTRACTING_BODY_CA_ACTIVITY_VALUE\n",
    "#pd6 = pd6.rename(columns=lambda x_ re.sub('', 'LEFTI_', x)) #LEFTI_PARTICULAR_PROFESSION_CTYPE\n",
    "pd6 = pd6.rename(columns=lambda x_ re.sub('FD_OBJECT_DESCRIPTION_CPV_', 'OBJECT_CONTRACT_', x))  #OBJECT_CONTRACT_CPV_MAIN_CPV_CODE_CODE\n",
    "#pd6 = pd6.rename(columns=lambda x_ re.sub('', 'OBJECT_CONTRACT_OBJECT_DESCR_', x)) #OBJECT_CONTRACT_OBJECT_DESCR_CPV_ADDITIONAL\n",
    "pd6 = pd6.rename(columns=lambda x_ re.sub('FD_AWARD_CONTRACT_AWARD_AND_CONTRACT_VALUE_', 'OBJECT_CONTRACT_OBJECT_DESCR_', x))  #OBJECT_CONTRACT_OBJECT_DESCR_ITEM\n",
    "pd6 = pd6.rename(columns=lambda x_ re.sub('FD_OBJECT_DESCRIPTION_', 'OBJECT_CONTRACT_', x)) #OBJECT_CONTRACT_TITLE\n",
    "#pd6 = pd6.rename(columns=lambda x_ re.sub('', 'PROCEDURE_', x)) #PROCEDURE_DATE_RECEIPT_TENDERS\n",
    "pd6 = pd6.rename(columns=lambda x_ re.sub('OBJECT_CONTRACT_TITLE_CONTRACT', 'OBJECT_CONTRACT_OBJECT_DESCR_TITLE', x))\n",
    "pd6 = pd6.rename(columns=lambda x_ re.sub('OBJECT_CONTRACT_SHORT_DESCRIPTION', 'OBJECT_CONTRACT_OBJECT_DESCR_SHORT_DESCR', x))\n",
    "pd6 = pd6.rename(columns=lambda x_ re.sub('AWARD_CONTRACT_CONTRACT_LIKELY_SUB_CONTRACTED_EXCLUDING_VAT_VALUE_CURRENCY', 'AWARDED_CONTRACT_VAL_SUBCONTRACTING_CURRENCY', x))\n",
    "pd6 = pd6.rename(columns=lambda x_ re.sub('AWARD_CONTRACT_CONTRACT_LIKELY_SUB_CONTRACTED_EXCLUDING_VAT_VALUE_text', 'AWARDED_CONTRACT_VAL_SUBCONTRACTING_text', x))\n",
    "\n",
    "pd6 = pd6.rename(columns=lambda x_ re.sub('FD_OBJECT_COSTS_RANGE_AND_CURRENCY_WITH_VAT_RATE_CURRENCY', 'OBJECT_CONTRACT_VAL_TOTAL_CURRENCY', x))\n",
    "pd6 = pd6.rename(columns=lambda x_ re.sub('FD_OBJECT_COSTS_RANGE_AND_CURRENCY_WITH_VAT_RATE_RANGE_VALUE_COST_HIGH_VALUE', 'OBJECT_CONTRACT_VAL_RANGE_TOTAL_HIGH', x))\n",
    "pd6 = pd6.rename(columns=lambda x_ re.sub('FD_OBJECT_COSTS_RANGE_AND_CURRENCY_WITH_VAT_RATE_RANGE_VALUE_COST_LOW_VALUE', 'OBJECT_CONTRACT_VAL_RANGE_TOTAL_LOW', x))\n",
    "pd6 = pd6.rename(columns=lambda x_ re.sub('FD_OBJECT_COSTS_RANGE_AND_CURRENCY_WITH_VAT_RATE_VALUE_COST', 'OBJECT_CONTRACT_VAL_TOTAL_text', x))\n",
    "\n",
    "pd6 = pd6.rename(columns=lambda x_ re.sub('AWARD_CONTRACT_INFORMATION_VALUE_CONTRACT_COSTS_RANGE_AND_CURRENCY_WITH_VAT_RATE_CURRENCY', 'AWARDED_CONTRACT_VALUES_VAL_RANGE_TOTAL_CURRENCY', x))\n",
    "pd6 = pd6.rename(columns=lambda x_ re.sub('AWARD_CONTRACT_INFORMATION_VALUE_CONTRACT_COSTS_RANGE_AND_CURRENCY_WITH_VAT_RATE_RANGE_VALUE_COST_HIGH_VALUE', 'AWARDED_CONTRACT_VALUES_VAL_RANGE_TOTAL_HIGH', x))\n",
    "pd6 = pd6.rename(columns=lambda x_ re.sub('AWARD_CONTRACT_INFORMATION_VALUE_CONTRACT_COSTS_RANGE_AND_CURRENCY_WITH_VAT_RATE_RANGE_VALUE_COST_LOW_VALUE', 'AWARDED_CONTRACT_VALUES_VAL_RANGE_TOTAL_LOW', x))\n",
    "pd6 = pd6.rename(columns=lambda x_ re.sub('AWARD_CONTRACT_INFORMATION_VALUE_CONTRACT_INITIAL_ESTIMATED_TOTAL_VALUE_CONTRACT_CURRENCY', 'AWARDED_CONTRACT_VALUES_VAL_ESTIMATED_TOTAL_CURRENCY', x))\n",
    "pd6 = pd6.rename(columns=lambda x_ re.sub('AWARD_CONTRACT_INFORMATION_VALUE_CONTRACT_INITIAL_ESTIMATED_TOTAL_VALUE_CONTRACT_VALUE_COST', 'AWARDED_CONTRACT_VALUES_VAL_ESTIMATED_TOTAL_text', x))\n",
    "pd6 = pd6.rename(columns=lambda x_ re.sub('FD_PROCEDURES_TYPE_PROCEDURE_AWARD_AWARD_WITHOUT_PRIOR_PUBLICATION_JUSTI_CHOICE_COMPETITION_REASON_CONTRACT_LAWFUL', 'PROCEDURE_PT_AWARD_CONTRACT_WITHOUT_PUBLICATION_D_JUSTIFICATION', x))"
   ]
  },
  {
   "cell_type": "code",
   "execution_count": null,
   "id": "af2071f0-27e2-46df-89cd-df90b5328fc3",
   "metadata": {},
   "outputs": [],
   "source": [
    "#pd6.info()"
   ]
  },
  {
   "cell_type": "code",
   "execution_count": null,
   "id": "d29e8788-e863-45ef-9f8b-0dad4b332665",
   "metadata": {},
   "outputs": [],
   "source": [
    "pd6 = pd6.rename(columns=lambda x_ re.sub('FD_AWARD_CONTRACT_AWARD_AND_CONTRACT_VALUE_', 'FD_AWARD_OF_CONTRACT_', x))\n",
    "pd6 = pd6.rename(columns=lambda x_ re.sub('CONTACT_DATA_WITHOUT_RESPONSIBLE_NAME_CHP_', 'ECONOMIC_OPERATOR_NAME_ADDRESS_', x))\n",
    "pd6 = pd6.rename(columns=lambda x_ re.sub('FD_AWARD_OF_CONTRACT_CONTRACT_LIKELY_SUB_CONTRACTED_', 'FD_AWARD_OF_CONTRACT_MORE_INFORMATION_TO_SUB_CONTRACTED_CONTRACT_LIKELY_SUB_CONTRACTED_', x))\n",
    "pd6 = pd6.rename(columns=lambda x_ re.sub('DATE_OF_CONTRACT_AWARD_', 'CONTRACT_AWARD_DATE_', x))\n",
    "pd6 = pd6.rename(columns=lambda x_ re.sub('FD_AWARD_OF_CONTRACT_INFORMATION_VALUE_CONTRACT_COSTS_RANGE_AND_CURRENCY_WITH_VAT_RATE_', 'FD_AWARD_OF_CONTRACT_CONTRACT_VALUE_INFORMATION_COSTS_RANGE_AND_CURRENCY_WITH_VAT_RATE_', x))\n",
    "pd6 = pd6.rename(columns=lambda x_ re.sub('CONTRACT_NO', 'CONTRACT_NUMBER', x))\n",
    "pd6 = pd6.rename(columns=lambda x_ re.sub('FD_COMPLEMENTARY_INFORMATION_APPEAL_PROCEDURES_RESPONSIBLE_FOR_MEDIATION_PROCEDURES_', 'FD_COMPLEMENTARY_INFORMATION_PROCEDURES_FOR_APPEAL_MEDIATION_PROCEDURE_BODY_RESPONSIBLE_', x))\n",
    "pd6 = pd6.rename(columns=lambda x_ re.sub('FD_CONTRACTING_NAME_ADDRESSES_CONTACT_CA_CE_CONCESSIONAIRE_PROFILE_', 'FD_CONTRACTING_NAME_ADDRESSES_CONTACT_CA_CE_CONCESSIONAIRE_PROFILE_', x))\n",
    "pd6 = pd6.rename(columns=lambda x_ re.sub('FD_CONTRACTING_PURCHASING_ON_BEHALF_PURCHASING_ON_BEHALF_YES_CONTACT_DATA_OTHER_BEHALF_CONTRACTING_AUTORITHY_', 'FD_CONTRACTING_TYPE_AND_ACTIVITIES_AND_PURCHASING_ON_BEHALF_PURCHASING_ON_BEHALF_PURCHASING_ON_BEHALF_YES_CONTACT_DATA_OTHER_BEHALF_CONTRACTING_AUTORITHY_', x))\n",
    "pd6 = pd6.rename(columns=lambda x_ re.sub('FD_OBJECT_DESCRIPTION_', 'FD_OBJECT_CONTRACT_INFORMATION_CONTRACT_AWARD_NOTICE_DESCRIPTION_AWARD_NOTICE_INFORMATION_', x))\n",
    "pd6 = pd6.rename(columns=lambda x_ re.sub('FD_OBJECT_COSTS_RANGE_AND_CURRENCY_WITH_VAT_RATE_', 'FD_OBJECT_CONTRACT_INFORMATION_CONTRACT_AWARD_NOTICE_TOTAL_FINAL_VALUE_COSTS_RANGE_AND_CURRENCY_WITH_VAT_RATE_', x))\n",
    "pd6 = pd6.rename(columns=lambda x_ re.sub('FD_AWARD_OF_CONTRACT_TITLE_CONTRACT', 'FD_AWARD_OF_CONTRACT_CONTRACT_TITLE', x))\n",
    "#pd6 = pd6.rename(columns=lambda x_ re.sub('', 'CONTRACTING_BODY_URL_DOCUMENT', x))\n",
    "pd6 = pd6.rename(columns=lambda x_ re.sub('FD_CONTRACTING_NAME_ADDRESSES_CONTACT_INTERNET_ADDRESSES_URL_PARTICIPATE', 'CONTRACTING_BODY_URL_PARTICIPATION', x))\n",
    "#pd6 = pd6.rename(columns=lambda x_ re.sub('', 'CONTRACTING_BODY_URL_TOOL', x))\n",
    "pd6 = pd6.rename(columns=lambda x_ re.sub('FD_CONTRACTING_NAME_ADDRESSES_CONTACT_INTERNET_ADDRESSES_URL_GENERAL', 'CONTRACTING_BODY_ADDRESS_FURTHER_INFO_URL_GENERAL', x))\n",
    "#pd6 = pd6.rename(columns=lambda x_ re.sub('', 'PROCEDURE_URL_NATIONAL_PROCEDURE', x))\n",
    "pd6 = pd6.rename(columns=lambda x_ re.sub('FD_CONTRACTING_NAME_ADDRESSES_CONTACT_INTERNET_ADDRESSES_', 'CONTRACTING_BODY_', x))\n",
    "pd6 = pd6.rename(columns=lambda x_ re.sub('AWARD_CONTRACT_TITLE_CONTRACT', 'AWARD_CONTRACT_TITLE', x))\n",
    "pd6 = pd6.rename(columns=lambda x_ re.sub('AWARD_CONTRACT_LOT_NUMBER', 'AWARD_CONTRACT_LOT_NO', x)) \n",
    "pd6 = pd6.rename(columns=lambda x_ re.sub('FD_COMPLEMENTARY_INFORMATION_ADDITIONAL_INFORMATION', 'COMPLEMENTARY_INFO_INFO_ADD', x)) \n",
    "pd6 = pd6.rename(columns=lambda x_ re.sub('FD_PROCEDURES_ADMINISTRATIVE_INFO_REFERENCE_NUMBER_ATTRIBUTED', 'OBJECT_CONTRACT_REFERENCE_NUMBER', x))\n",
    "pd6 = pd6.rename(columns=lambda x_ re.sub('FD_CONTRACTING_ACTIVITIES_OF_CONTRACTING_ENTITY_', 'FD_CONTRACTING_TYPE_AND_ACTIVITIES_AND_PURCHASING_ON_BEHALF_TYPE_AND_ACTIVITIES_ACTIVITIES_OF_CONTRACTING_ENTITY_', x))\n",
    "pd6 = pd6.rename(columns=lambda x_ re.sub('AWARD_CONTRACT_INFORMATION_VALUE_CONTRACT_', 'AWARD_CONTRACT_CONTRACT_VALUE_INFORMATION_', x))\n",
    "pd6 = pd6.rename(columns=lambda x_ re.sub('FD_CONTRACTING_TYPE_AND_ACTIVITIES_AND_PURCHASING_ON_BEHALF_TYPE_AND_ACTIVITIES_ACTIVITIES_OF_CONTRACTING_ENTITY_', 'FD_CONTRACTING_ACTIVITIES_OF_CONTRACTING_ENTITY_', x))\n",
    "pd6 = pd6.rename(columns=lambda x_ re.sub('OBJECT_CONTRACT_TYPE_CONTRACT_LOCATION_W_PUB_', 'OBJECT_CONTRACT_TYPE_CONTRACT_LOCATION_', x))\n",
    "pd6 = pd6.rename(columns=lambda x_ re.sub('SERVICE_CATEGORY_PUB', 'SERVICE_CATEGORY', x))\n",
    "pd6 = pd6.rename(columns=lambda x_ re.sub('AWARD_CONTRACT_INFORMATION_VALUE_CONTRACT_', 'AWARD_CONTRACT_CONTRACT_VALUE_INFORMATION_', x))\n",
    "\n",
    "pd6 = pd6.rename(columns=lambda x_ re.sub('AWARD_CONTRACT_CONTRACT_VALUE_INFORMATION_NUMBER_MONTHS', 'AWARD_CONTRACT_CONTRACT_VALUE_INFORMATION_MORE_INFORMATION_IF_ANNUAL_MONTHLY_NUMBER_OF_MONTHS', x))\n",
    "pd6 = pd6.rename(columns=lambda x_ re.sub('AWARD_CONTRACT_CONTRACT_VALUE_INFORMATION_NUMBER_YEARS', 'AWARD_CONTRACT_CONTRACT_VALUE_INFORMATION_MORE_INFORMATION_IF_ANNUAL_MONTHLY_NUMBER_OF_YEARS', x))"
   ]
  },
  {
   "cell_type": "code",
   "execution_count": null,
   "id": "65c2c0c2-e197-4836-a79e-d7691cbbb3f0",
   "metadata": {},
   "outputs": [],
   "source": [
    "#pd3.info()"
   ]
  },
  {
   "cell_type": "code",
   "execution_count": null,
   "id": "57c65ee9-521d-4b94-b560-e7519faf52f2",
   "metadata": {},
   "outputs": [],
   "source": [
    "pd6.info()"
   ]
  },
  {
   "cell_type": "code",
   "execution_count": null,
   "id": "e7ed8bfd-5491-4d7f-b6a5-f28068fbcf17",
   "metadata": {},
   "outputs": [],
   "source": [
    "fd6 = pd6.to_spark()"
   ]
  },
  {
   "cell_type": "code",
   "execution_count": null,
   "id": "21ae2be3-3bc4-4436-ae17-795cbfa3b085",
   "metadata": {},
   "outputs": [],
   "source": [
    "\"\"\"\n",
    "fd6 = fd6.withColumn(\"FD_AWARD_CONTRACT_AWARD_AND_CONTRACT_VALUE.DATE_OF_CONTRACT_AWARD\", expr(\"make_date(`FD_AWARD_CONTRACT_AWARD_AND_CONTRACT_VALUE.DATE_OF_CONTRACT_AWARD.YEAR`, `FD_AWARD_CONTRACT_AWARD_AND_CONTRACT_VALUE.DATE_OF_CONTRACT_AWARD.MONTH`, `FD_AWARD_CONTRACT_AWARD_AND_CONTRACT_VALUE.DATE_OF_CONTRACT_AWARD.DAY`)\"))\n",
    "fd6 = fd6.withColumn(\"FD_COMPLEMENTARY_INFORMATION_NOTICE_DISPATCH_DATE\", expr(\"make_date(`FD_COMPLEMENTARY_INFORMATION_NOTICE_DISPATCH_DATE.YEAR`, `FD_COMPLEMENTARY_INFORMATION_NOTICE_DISPATCH_DATE.MONTH`, `FD_COMPLEMENTARY_INFORMATION_NOTICE_DISPATCH_DATE.DAY`)\"))\n",
    "fd6 = fd6.withColumn(\"FD_PROCEDURES_ADMINISTRATIVE_INFO_PREVIOUS_PUBLICATION_INFORMATION_NOTICE_F6.PREVIOUS_PUBLICATION_EXISTS_F6.CNT_NOTICE_INFORMATION.DATE_OJ\", expr(\"make_date(`FD_PROCEDURES_ADMINISTRATIVE_INFO_PREVIOUS_PUBLICATION_INFORMATION_NOTICE_F6.PREVIOUS_PUBLICATION_EXISTS_F6.CNT_NOTICE_INFORMATION.DATE_OJ.YEAR`, `FD_PROCEDURES_ADMINISTRATIVE_INFO_PREVIOUS_PUBLICATION_INFORMATION_NOTICE_F6.PREVIOUS_PUBLICATION_EXISTS_F6.CNT_NOTICE_INFORMATION.DATE_OJ.MONTH`, `FD_PROCEDURES_ADMINISTRATIVE_INFO_PREVIOUS_PUBLICATION_INFORMATION_NOTICE_F6.PREVIOUS_PUBLICATION_EXISTS_F6.CNT_NOTICE_INFORMATION.DATE_OJ.DAY`)\"))\n",
    "fd6 = fd6.withColumn(\"FD_PROCEDURES_ADMINISTRATIVE_INFO_PREVIOUS_PUBLICATION_INFORMATION_NOTICE_F6.PREVIOUS_PUBLICATION_EXISTS_F6.EX_ANTE_NOTICE_INFORMATION.DATE_OJ\", expr(\"make_date(`FD_PROCEDURES_ADMINISTRATIVE_INFO_PREVIOUS_PUBLICATION_INFORMATION_NOTICE_F6.PREVIOUS_PUBLICATION_EXISTS_F6.EX_ANTE_NOTICE_INFORMATION.DATE_OJ.YEAR`, `FD_PROCEDURES_ADMINISTRATIVE_INFO_PREVIOUS_PUBLICATION_INFORMATION_NOTICE_F6.PREVIOUS_PUBLICATION_EXISTS_F6.EX_ANTE_NOTICE_INFORMATION.DATE_OJ.MONTH`, `FD_PROCEDURES_ADMINISTRATIVE_INFO_PREVIOUS_PUBLICATION_INFORMATION_NOTICE_F6.PREVIOUS_PUBLICATION_EXISTS_F6.EX_ANTE_NOTICE_INFORMATION.DATE_OJ.DAY`)\"))\n",
    "fd6 = fd6.withColumn(\"FD_PROCEDURES_ADMINISTRATIVE_INFO_PREVIOUS_PUBLICATION_INFORMATION_NOTICE_F6.PREVIOUS_PUBLICATION_EXISTS_F6.OTHER_PREVIOUS_PUBLICATIONS.OTHER_PREVIOUS_PUBLICATION.DATE_OJ\", expr(\"make_date(`FD_PROCEDURES_ADMINISTRATIVE_INFO_PREVIOUS_PUBLICATION_INFORMATION_NOTICE_F6.PREVIOUS_PUBLICATION_EXISTS_F6.OTHER_PREVIOUS_PUBLICATIONS.OTHER_PREVIOUS_PUBLICATION.DATE_OJ.YEAR`, `FD_PROCEDURES_ADMINISTRATIVE_INFO_PREVIOUS_PUBLICATION_INFORMATION_NOTICE_F6.PREVIOUS_PUBLICATION_EXISTS_F6.OTHER_PREVIOUS_PUBLICATIONS.OTHER_PREVIOUS_PUBLICATION.DATE_OJ.MONTH`, `FD_PROCEDURES_ADMINISTRATIVE_INFO_PREVIOUS_PUBLICATION_INFORMATION_NOTICE_F6.PREVIOUS_PUBLICATION_EXISTS_F6.OTHER_PREVIOUS_PUBLICATIONS.OTHER_PREVIOUS_PUBLICATION.DATE_OJ.DAY`)\"))\n",
    "fd6 = fd6.withColumn(\"FD_PROCEDURES_ADMINISTRATIVE_INFO_PREVIOUS_PUBLICATION_INFORMATION_NOTICE_F6.PREVIOUS_PUBLICATION_EXISTS_F6.PREVIOUS_PUBLICATION_NOTICE_F6.DATE_OJ\", expr(\"make_date(`FD_PROCEDURES_ADMINISTRATIVE_INFO_PREVIOUS_PUBLICATION_INFORMATION_NOTICE_F6.PREVIOUS_PUBLICATION_EXISTS_F6.PREVIOUS_PUBLICATION_NOTICE_F6.DATE_OJ.YEAR`, `FD_PROCEDURES_ADMINISTRATIVE_INFO_PREVIOUS_PUBLICATION_INFORMATION_NOTICE_F6.PREVIOUS_PUBLICATION_EXISTS_F6.PREVIOUS_PUBLICATION_NOTICE_F6.DATE_OJ.MONTH`, `FD_PROCEDURES_ADMINISTRATIVE_INFO_PREVIOUS_PUBLICATION_INFORMATION_NOTICE_F6.PREVIOUS_PUBLICATION_EXISTS_F6.PREVIOUS_PUBLICATION_NOTICE_F6.DATE_OJ.DAY`)\"))\n",
    "\"\"\""
   ]
  },
  {
   "cell_type": "code",
   "execution_count": null,
   "id": "a2097213-0cbe-4cec-9ad7-dc5b2cb3e70e",
   "metadata": {},
   "outputs": [],
   "source": [
    "#fd6.printSchema()"
   ]
  },
  {
   "cell_type": "code",
   "execution_count": null,
   "id": "7d5fcad5-3392-40ff-9eb5-9a94714b07dd",
   "metadata": {},
   "outputs": [],
   "source": [
    "\"\"\"\n",
    "\n",
    "pd6 = fd6.to_pandas_on_spark()\n",
    "\n",
    "pd6.info()\n",
    "\"\"\""
   ]
  },
  {
   "cell_type": "code",
   "execution_count": null,
   "id": "61f10069-d4d9-4ea4-84aa-b7a78dfbc28c",
   "metadata": {},
   "outputs": [],
   "source": [
    "\"\"\"\n",
    "pd6 = pd6.drop(columns=['FD_AWARD_CONTRACT_AWARD_AND_CONTRACT_VALUE.DATE_OF_CONTRACT_AWARD.DAY', 'FD_AWARD_CONTRACT_AWARD_AND_CONTRACT_VALUE.DATE_OF_CONTRACT_AWARD.MONTH', 'FD_AWARD_CONTRACT_AWARD_AND_CONTRACT_VALUE.DATE_OF_CONTRACT_AWARD.YEAR'])\n",
    "pd6 = pd6.drop(columns=['FD_COMPLEMENTARY_INFORMATION_NOTICE_DISPATCH_DATE.DAY', 'FD_COMPLEMENTARY_INFORMATION_NOTICE_DISPATCH_DATE.MONTH', 'FD_COMPLEMENTARY_INFORMATION_NOTICE_DISPATCH_DATE.YEAR'])\n",
    "pd6 = pd6.drop(columns=['FD_PROCEDURES_ADMINISTRATIVE_INFO_PREVIOUS_PUBLICATION_INFORMATION_NOTICE_F6.PREVIOUS_PUBLICATION_EXISTS_F6.CNT_NOTICE_INFORMATION.DATE_OJ.DAY', 'FD_PROCEDURES_ADMINISTRATIVE_INFO_PREVIOUS_PUBLICATION_INFORMATION_NOTICE_F6.PREVIOUS_PUBLICATION_EXISTS_F6.CNT_NOTICE_INFORMATION.DATE_OJ.MONTH', 'FD_PROCEDURES_ADMINISTRATIVE_INFO_PREVIOUS_PUBLICATION_INFORMATION_NOTICE_F6.PREVIOUS_PUBLICATION_EXISTS_F6.CNT_NOTICE_INFORMATION.DATE_OJ.YEAR'])\n",
    "pd6 = pd6.drop(columns=['FD_PROCEDURES_ADMINISTRATIVE_INFO_PREVIOUS_PUBLICATION_INFORMATION_NOTICE_F6.PREVIOUS_PUBLICATION_EXISTS_F6.EX_ANTE_NOTICE_INFORMATION.DATE_OJ.DAY', 'FD_PROCEDURES_ADMINISTRATIVE_INFO_PREVIOUS_PUBLICATION_INFORMATION_NOTICE_F6.PREVIOUS_PUBLICATION_EXISTS_F6.EX_ANTE_NOTICE_INFORMATION.DATE_OJ.MONTH', 'FD_PROCEDURES_ADMINISTRATIVE_INFO_PREVIOUS_PUBLICATION_INFORMATION_NOTICE_F6.PREVIOUS_PUBLICATION_EXISTS_F6.EX_ANTE_NOTICE_INFORMATION.DATE_OJ.YEAR'])\n",
    "pd6 = pd6.drop(columns=['FD_PROCEDURES_ADMINISTRATIVE_INFO_PREVIOUS_PUBLICATION_INFORMATION_NOTICE_F6.PREVIOUS_PUBLICATION_EXISTS_F6.OTHER_PREVIOUS_PUBLICATIONS.OTHER_PREVIOUS_PUBLICATION.DATE_OJ.DAY', 'FD_PROCEDURES_ADMINISTRATIVE_INFO_PREVIOUS_PUBLICATION_INFORMATION_NOTICE_F6.PREVIOUS_PUBLICATION_EXISTS_F6.OTHER_PREVIOUS_PUBLICATIONS.OTHER_PREVIOUS_PUBLICATION.DATE_OJ.MONTH', 'FD_PROCEDURES_ADMINISTRATIVE_INFO_PREVIOUS_PUBLICATION_INFORMATION_NOTICE_F6.PREVIOUS_PUBLICATION_EXISTS_F6.OTHER_PREVIOUS_PUBLICATIONS.OTHER_PREVIOUS_PUBLICATION.DATE_OJ.YEAR'])\n",
    "pd6 = pd6.drop(columns=['FD_PROCEDURES_ADMINISTRATIVE_INFO_PREVIOUS_PUBLICATION_INFORMATION_NOTICE_F6.PREVIOUS_PUBLICATION_EXISTS_F6.PREVIOUS_PUBLICATION_NOTICE_F6.DATE_OJ.DAY', 'FD_PROCEDURES_ADMINISTRATIVE_INFO_PREVIOUS_PUBLICATION_INFORMATION_NOTICE_F6.PREVIOUS_PUBLICATION_EXISTS_F6.PREVIOUS_PUBLICATION_NOTICE_F6.DATE_OJ.MONTH', 'FD_PROCEDURES_ADMINISTRATIVE_INFO_PREVIOUS_PUBLICATION_INFORMATION_NOTICE_F6.PREVIOUS_PUBLICATION_EXISTS_F6.PREVIOUS_PUBLICATION_NOTICE_F6.DATE_OJ.YEAR'])\n",
    "\"\"\""
   ]
  },
  {
   "cell_type": "code",
   "execution_count": null,
   "id": "3f0c9b23-41bd-4163-93fa-a07a81d2ff1c",
   "metadata": {},
   "outputs": [],
   "source": [
    "#pd6.info()"
   ]
  },
  {
   "cell_type": "code",
   "execution_count": null,
   "id": "2a0e42bb-cfa8-409f-837f-3e604e7a9ae9",
   "metadata": {},
   "outputs": [],
   "source": [
    "\"\"\"\n",
    "pd6[\"FD_AWARD_CONTRACT_AWARD_AND_CONTRACT_VALUE.DATE_OF_CONTRACT_AWARD\"]= ps.to_datetime(pd6[\"FD_AWARD_CONTRACT_AWARD_AND_CONTRACT_VALUE.DATE_OF_CONTRACT_AWARD\"])\n",
    "pd6[\"FD_COMPLEMENTARY_INFORMATION_NOTICE_DISPATCH_DATE\"]= ps.to_datetime(pd6[\"FD_COMPLEMENTARY_INFORMATION_NOTICE_DISPATCH_DATE\"])\n",
    "pd6[\"FD_PROCEDURES_ADMINISTRATIVE_INFO_PREVIOUS_PUBLICATION_INFORMATION_NOTICE_F6.PREVIOUS_PUBLICATION_EXISTS_F6.CNT_NOTICE_INFORMATION.DATE_OJ\"]= ps.to_datetime(pd6[\"FD_PROCEDURES_ADMINISTRATIVE_INFO_PREVIOUS_PUBLICATION_INFORMATION_NOTICE_F6.PREVIOUS_PUBLICATION_EXISTS_F6.CNT_NOTICE_INFORMATION.DATE_OJ\"])\n",
    "pd6[\"FD_PROCEDURES_ADMINISTRATIVE_INFO_PREVIOUS_PUBLICATION_INFORMATION_NOTICE_F6.PREVIOUS_PUBLICATION_EXISTS_F6.EX_ANTE_NOTICE_INFORMATION.DATE_OJ\"]= ps.to_datetime(pd6[\"FD_PROCEDURES_ADMINISTRATIVE_INFO_PREVIOUS_PUBLICATION_INFORMATION_NOTICE_F6.PREVIOUS_PUBLICATION_EXISTS_F6.EX_ANTE_NOTICE_INFORMATION.DATE_OJ\"])\n",
    "pd6[\"FD_PROCEDURES_ADMINISTRATIVE_INFO_PREVIOUS_PUBLICATION_INFORMATION_NOTICE_F6.PREVIOUS_PUBLICATION_EXISTS_F6.OTHER_PREVIOUS_PUBLICATIONS.OTHER_PREVIOUS_PUBLICATION.DATE_OJ\"]= ps.to_datetime(pd6[\"FD_PROCEDURES_ADMINISTRATIVE_INFO_PREVIOUS_PUBLICATION_INFORMATION_NOTICE_F6.PREVIOUS_PUBLICATION_EXISTS_F6.OTHER_PREVIOUS_PUBLICATIONS.OTHER_PREVIOUS_PUBLICATION.DATE_OJ\"])\n",
    "pd6[\"FD_PROCEDURES_ADMINISTRATIVE_INFO_PREVIOUS_PUBLICATION_INFORMATION_NOTICE_F6.PREVIOUS_PUBLICATION_EXISTS_F6.PREVIOUS_PUBLICATION_NOTICE_F6.DATE_OJ\"]= ps.to_datetime(pd6[\"FD_PROCEDURES_ADMINISTRATIVE_INFO_PREVIOUS_PUBLICATION_INFORMATION_NOTICE_F6.PREVIOUS_PUBLICATION_EXISTS_F6.PREVIOUS_PUBLICATION_NOTICE_F6.DATE_OJ\"])\n",
    "\"\"\""
   ]
  },
  {
   "cell_type": "code",
   "execution_count": null,
   "id": "c67094bd-66b3-49ab-b50b-a87c69fdb2da",
   "metadata": {},
   "outputs": [],
   "source": [
    "#pd6.info()"
   ]
  },
  {
   "cell_type": "code",
   "execution_count": null,
   "id": "82710886-1bb4-4767-a866-778b7a3a4570",
   "metadata": {},
   "outputs": [],
   "source": [
    "#pd6['DOFFIN_APPENDIX.DOFFIN_FORM_TYPE.NATIONAL.REFERENCE_SECTION.REFERENCE_DOFFIN.TYPE'].unique()"
   ]
  },
  {
   "cell_type": "code",
   "execution_count": null,
   "id": "2a448073-a523-44d3-8b13-49b316815452",
   "metadata": {},
   "outputs": [],
   "source": [
    "#fd6 = pd6.to_spark()"
   ]
  },
  {
   "cell_type": "code",
   "execution_count": null,
   "id": "272706f7-9fa7-4c42-8ebe-8f335a0b475e",
   "metadata": {},
   "outputs": [],
   "source": [
    "fd6.write.mode(\"append\").json(\"falk2210/f_award.json\")"
   ]
  },
  {
   "cell_type": "code",
   "execution_count": null,
   "id": "6a961843-9093-47eb-b865-418e9a6d384e",
   "metadata": {},
   "outputs": [],
   "source": [
    "#fd6.write.parquet(\"s3a_//falk2210/fd6_210921.parquet\")"
   ]
  },
  {
   "cell_type": "code",
   "execution_count": null,
   "id": "fc2ee283-ed00-49b4-9d45-52a8c029a8f0",
   "metadata": {},
   "outputs": [],
   "source": [
    "#award = spark.read.json(\"falk2210/f_award.json\")"
   ]
  },
  {
   "cell_type": "code",
   "execution_count": null,
   "id": "ad2b1751-c490-4529-bf4a-e1d9c4d49dad",
   "metadata": {},
   "outputs": [],
   "source": [
    "#award.printSchema()"
   ]
  },
  {
   "cell_type": "markdown",
   "id": "d06b76bf-0de3-4139-8afb-15efa87d3103",
   "metadata": {
    "jp-MarkdownHeadingCollapsed": true,
    "tags": []
   },
   "source": [
    "# 7 QUALIFICATION  dynamisk purchasing"
   ]
  },
  {
   "cell_type": "markdown",
   "id": "88e49e61-adc1-472e-9403-ac43c1ebc7f5",
   "metadata": {},
   "source": [
    "<a id='d7' />"
   ]
  },
  {
   "cell_type": "code",
   "execution_count": null,
   "id": "c2ca2fe0-1829-47cf-bc8f-310482bc36df",
   "metadata": {},
   "outputs": [],
   "source": [
    "d7 = spark.read.json(\"falk/7.json/*.json\")\n",
    "#d7.printSchema()"
   ]
  },
  {
   "cell_type": "code",
   "execution_count": null,
   "id": "b73c873b-f447-4c19-be1a-cbe44d5b2751",
   "metadata": {},
   "outputs": [],
   "source": [
    "pd7 = d7.to_pandas_on_spark()"
   ]
  },
  {
   "cell_type": "code",
   "execution_count": null,
   "id": "dd55802f-b969-4922-90f2-870266dd7338",
   "metadata": {},
   "outputs": [],
   "source": [
    "pd7 = pd7.rename(columns=lambda x_ re.sub('DOFFIN_ESENDERS_VERSION', 'DOFFIN_VERSION', x))\n",
    "#pd7.info()"
   ]
  },
  {
   "cell_type": "code",
   "execution_count": null,
   "id": "8a08b565-6d25-4465-b72c-e96a46c5f8ef",
   "metadata": {},
   "outputs": [],
   "source": [
    "pd7 = pd7.rename(columns=lambda x_ re.sub('DOFFIN_ESENDERS_', '', x))\n",
    "\n",
    "pd7 = pd7.rename(columns=lambda x_ re.sub('FORM_SECTION_', '', x))\n",
    "#pd7.info()"
   ]
  },
  {
   "cell_type": "code",
   "execution_count": null,
   "id": "9764c74e-6077-4760-b147-f003863e542a",
   "metadata": {},
   "outputs": [],
   "source": [
    "pd7 = pd7.rename(columns=lambda x_ re.sub('QUALIFICATION_SYSTEM_UTILITIES_', '', x))\n",
    "#pd7.info()"
   ]
  },
  {
   "cell_type": "code",
   "execution_count": null,
   "id": "6c4e8670-38ad-4827-837c-db1208d894d5",
   "metadata": {},
   "outputs": [],
   "source": [
    "pd7 = pd7.rename(columns=lambda x_ re.sub('\\_P$', '', x))\n",
    "#pd7.info()"
   ]
  },
  {
   "cell_type": "code",
   "execution_count": null,
   "id": "1b7c2214-88fe-4ee7-82cb-72fd97014bf1",
   "metadata": {},
   "outputs": [],
   "source": [
    "fd7 = pd7.to_spark()"
   ]
  },
  {
   "cell_type": "code",
   "execution_count": null,
   "id": "bfc45704-290c-426c-8f5c-9d0c13beefcc",
   "metadata": {},
   "outputs": [],
   "source": [
    "fd7 = fd7.withColumn(\"FD_COMPLEMENTARY_INFORMATION_QUALIFICATION_SYSTEM.NOTICE_DISPATCH_DATE\", expr(\"make_date(`FD_COMPLEMENTARY_INFORMATION_QUALIFICATION_SYSTEM.NOTICE_DISPATCH_DATE.YEAR`, `FD_COMPLEMENTARY_INFORMATION_QUALIFICATION_SYSTEM.NOTICE_DISPATCH_DATE.MONTH`, `FD_COMPLEMENTARY_INFORMATION_QUALIFICATION_SYSTEM.NOTICE_DISPATCH_DATE.DAY`)\"))\n",
    "fd7 = fd7.withColumn(\"FD_PROCEDURES_QUALIFICATION_SYSTEM.ADMINISTRATIVE_INFORMATION_QUALIFICATION_SYSTEM.DURATION_QUALIFICATION_SYSTEM.DURATION_FROM\", expr(\"make_date(`FD_PROCEDURES_QUALIFICATION_SYSTEM.ADMINISTRATIVE_INFORMATION_QUALIFICATION_SYSTEM.DURATION_QUALIFICATION_SYSTEM.DURATION_FROM.YEAR`, `FD_PROCEDURES_QUALIFICATION_SYSTEM.ADMINISTRATIVE_INFORMATION_QUALIFICATION_SYSTEM.DURATION_QUALIFICATION_SYSTEM.DURATION_FROM.MONTH`, `FD_PROCEDURES_QUALIFICATION_SYSTEM.ADMINISTRATIVE_INFORMATION_QUALIFICATION_SYSTEM.DURATION_QUALIFICATION_SYSTEM.DURATION_FROM.DAY`)\"))\n",
    "fd7 = fd7.withColumn(\"FD_PROCEDURES_QUALIFICATION_SYSTEM.ADMINISTRATIVE_INFORMATION_QUALIFICATION_SYSTEM.DURATION_QUALIFICATION_SYSTEM.DURATION_UNTIL\", expr(\"make_date(`FD_PROCEDURES_QUALIFICATION_SYSTEM.ADMINISTRATIVE_INFORMATION_QUALIFICATION_SYSTEM.DURATION_QUALIFICATION_SYSTEM.DURATION_UNTIL.YEAR`, `FD_PROCEDURES_QUALIFICATION_SYSTEM.ADMINISTRATIVE_INFORMATION_QUALIFICATION_SYSTEM.DURATION_QUALIFICATION_SYSTEM.DURATION_UNTIL.MONTH`, `FD_PROCEDURES_QUALIFICATION_SYSTEM.ADMINISTRATIVE_INFORMATION_QUALIFICATION_SYSTEM.DURATION_QUALIFICATION_SYSTEM.DURATION_UNTIL.DAY`)\"))"
   ]
  },
  {
   "cell_type": "code",
   "execution_count": null,
   "id": "fad82062-688e-4c40-aa69-f7b518d1d022",
   "metadata": {},
   "outputs": [],
   "source": [
    "fd7.printSchema()"
   ]
  },
  {
   "cell_type": "code",
   "execution_count": null,
   "id": "2204b0e5-d44a-442b-9781-459a464ebcf6",
   "metadata": {},
   "outputs": [],
   "source": [
    "pd7 = fd7.to_pandas_on_spark()\n",
    "\n",
    "pd7.info()"
   ]
  },
  {
   "cell_type": "code",
   "execution_count": null,
   "id": "5f3bac86-2b4e-4d8f-a4a6-f244873cc989",
   "metadata": {},
   "outputs": [],
   "source": [
    "pd7 = pd7.drop(columns=['FD_COMPLEMENTARY_INFORMATION_QUALIFICATION_SYSTEM.NOTICE_DISPATCH_DATE.DAY', 'FD_COMPLEMENTARY_INFORMATION_QUALIFICATION_SYSTEM.NOTICE_DISPATCH_DATE.MONTH', 'FD_COMPLEMENTARY_INFORMATION_QUALIFICATION_SYSTEM.NOTICE_DISPATCH_DATE.YEAR'])\n",
    "pd7 = pd7.drop(columns=['FD_PROCEDURES_QUALIFICATION_SYSTEM.ADMINISTRATIVE_INFORMATION_QUALIFICATION_SYSTEM.DURATION_QUALIFICATION_SYSTEM.DURATION_FROM.DAY', 'FD_PROCEDURES_QUALIFICATION_SYSTEM.ADMINISTRATIVE_INFORMATION_QUALIFICATION_SYSTEM.DURATION_QUALIFICATION_SYSTEM.DURATION_FROM.MONTH', 'FD_PROCEDURES_QUALIFICATION_SYSTEM.ADMINISTRATIVE_INFORMATION_QUALIFICATION_SYSTEM.DURATION_QUALIFICATION_SYSTEM.DURATION_FROM.YEAR'])\n",
    "pd7 = pd7.drop(columns=['FD_PROCEDURES_QUALIFICATION_SYSTEM.ADMINISTRATIVE_INFORMATION_QUALIFICATION_SYSTEM.DURATION_QUALIFICATION_SYSTEM.DURATION_UNTIL.DAY', 'FD_PROCEDURES_QUALIFICATION_SYSTEM.ADMINISTRATIVE_INFORMATION_QUALIFICATION_SYSTEM.DURATION_QUALIFICATION_SYSTEM.DURATION_UNTIL.MONTH', 'FD_PROCEDURES_QUALIFICATION_SYSTEM.ADMINISTRATIVE_INFORMATION_QUALIFICATION_SYSTEM.DURATION_QUALIFICATION_SYSTEM.DURATION_UNTIL.YEAR'])"
   ]
  },
  {
   "cell_type": "code",
   "execution_count": null,
   "id": "5a702391-2226-4ec3-86d4-f9eb463a8a37",
   "metadata": {},
   "outputs": [],
   "source": [
    "pd7.info()"
   ]
  },
  {
   "cell_type": "code",
   "execution_count": null,
   "id": "64bd2521-c1c9-4a65-a0ce-a3b081337e0f",
   "metadata": {},
   "outputs": [],
   "source": [
    "pd7[\"FD_COMPLEMENTARY_INFORMATION_QUALIFICATION_SYSTEM.NOTICE_DISPATCH_DATE\"]= ps.to_datetime(pd7[\"FD_COMPLEMENTARY_INFORMATION_QUALIFICATION_SYSTEM.NOTICE_DISPATCH_DATE\"])\n",
    "pd7[\"FD_PROCEDURES_QUALIFICATION_SYSTEM.ADMINISTRATIVE_INFORMATION_QUALIFICATION_SYSTEM.DURATION_QUALIFICATION_SYSTEM.DURATION_FROM\"]= ps.to_datetime(pd7[\"FD_PROCEDURES_QUALIFICATION_SYSTEM.ADMINISTRATIVE_INFORMATION_QUALIFICATION_SYSTEM.DURATION_QUALIFICATION_SYSTEM.DURATION_FROM\"])\n",
    "pd7[\"FD_PROCEDURES_QUALIFICATION_SYSTEM.ADMINISTRATIVE_INFORMATION_QUALIFICATION_SYSTEM.DURATION_QUALIFICATION_SYSTEM.DURATION_UNTIL\"]= ps.to_datetime(pd7[\"FD_PROCEDURES_QUALIFICATION_SYSTEM.ADMINISTRATIVE_INFORMATION_QUALIFICATION_SYSTEM.DURATION_QUALIFICATION_SYSTEM.DURATION_UNTIL\"])"
   ]
  },
  {
   "cell_type": "code",
   "execution_count": null,
   "id": "dd8b9da0-8ae9-4f40-b68f-761afff4e3c8",
   "metadata": {},
   "outputs": [],
   "source": [
    "pd7.info()"
   ]
  },
  {
   "cell_type": "code",
   "execution_count": null,
   "id": "1d7fc40f-9519-4d50-90f0-f5d4b419f5bf",
   "metadata": {},
   "outputs": [],
   "source": [
    "pd7['DOFFIN_APPENDIX.DOFFIN_FORM_TYPE.NATIONAL.REFERENCE_SECTION.REFERENCE_DOFFIN.TYPE'].unique()"
   ]
  },
  {
   "cell_type": "code",
   "execution_count": null,
   "id": "385dd85d-aafa-436b-b965-0db5cc9775bc",
   "metadata": {},
   "outputs": [],
   "source": []
  },
  {
   "cell_type": "code",
   "execution_count": null,
   "id": "376baaeb-5706-4202-bebf-a33126a1193a",
   "metadata": {},
   "outputs": [],
   "source": [
    "fd7 = pd7.to_spark()\n",
    "\n",
    "fd7.write.parquet(\"s3a_//falk2210/fd7_210921.parquet\")"
   ]
  },
  {
   "cell_type": "markdown",
   "id": "a01453ea-bbc3-4476-8be6-afb6e1d6a48f",
   "metadata": {
    "jp-MarkdownHeadingCollapsed": true,
    "tags": []
   },
   "source": [
    "# 8 BUYER_PROFILE "
   ]
  },
  {
   "cell_type": "markdown",
   "id": "1a46c5b7-18c1-4af6-be5e-b58bdf0958ee",
   "metadata": {},
   "source": [
    "<a id='d8' />"
   ]
  },
  {
   "cell_type": "code",
   "execution_count": null,
   "id": "8c761ae2-ccb2-413c-acf2-0a0895594023",
   "metadata": {},
   "outputs": [],
   "source": [
    "d8 = spark.read.json(\"falk/8.json/*.json\")\n",
    "d8.printSchema()"
   ]
  },
  {
   "cell_type": "code",
   "execution_count": null,
   "id": "42ae72ee-fd42-4b29-9b76-11259311e9ec",
   "metadata": {},
   "outputs": [],
   "source": [
    "pd8 = d8.to_pandas_on_spark()"
   ]
  },
  {
   "cell_type": "code",
   "execution_count": null,
   "id": "bd48e254-4d40-4cd0-b5c8-618fba4e913c",
   "metadata": {},
   "outputs": [],
   "source": [
    "pd8 = pd8.rename(columns=lambda x_ re.sub('DOFFIN_ESENDERS_VERSION', 'DOFFIN_VERSION', x))\n",
    "pd8.info()"
   ]
  },
  {
   "cell_type": "code",
   "execution_count": null,
   "id": "e7eae5d9-dceb-49c6-aaec-d0e80da15cc2",
   "metadata": {},
   "outputs": [],
   "source": [
    "pd8 = pd8.rename(columns=lambda x_ re.sub('DOFFIN_ESENDERS_', '', x))\n",
    "\n",
    "pd8 = pd8.rename(columns=lambda x_ re.sub('FORM_SECTION_', '', x))\n",
    "pd8.info()"
   ]
  },
  {
   "cell_type": "code",
   "execution_count": null,
   "id": "3d6e36af-734f-4ea9-bc69-e8896b8ed9bc",
   "metadata": {},
   "outputs": [],
   "source": [
    "pd8 = pd8.rename(columns=lambda x_ re.sub('BUYER_PROFILE_', '', x))\n",
    "pd8.info()"
   ]
  },
  {
   "cell_type": "code",
   "execution_count": null,
   "id": "0e1187bc-957e-49f9-aab2-ddb271f32028",
   "metadata": {},
   "outputs": [],
   "source": [
    "#pd8 = pd8.rename(columns=lambda x_ re.sub('_', '_', x))\n",
    "#pd8.info()"
   ]
  },
  {
   "cell_type": "code",
   "execution_count": null,
   "id": "a656a953-6f18-4852-9796-8167e91727be",
   "metadata": {},
   "outputs": [],
   "source": [
    "pd8 = pd8.rename(columns=lambda x_ re.sub('\\_P$', '', x))\n",
    "pd8.info()"
   ]
  },
  {
   "cell_type": "code",
   "execution_count": null,
   "id": "de9aa8d5-4959-4f83-b7ad-0b7a58be8fae",
   "metadata": {},
   "outputs": [],
   "source": [
    "fd8 = pd8.to_spark()"
   ]
  },
  {
   "cell_type": "code",
   "execution_count": null,
   "id": "3810f507-c3e4-433c-82b6-adc1488169dc",
   "metadata": {},
   "outputs": [],
   "source": [
    "fd8 = fd8.withColumn(\"FD_COMPLEMENTARY_INFORMATION_NOTICE_NOTICE_DISPATCH_DATE\", expr(\"make_date(`FD_COMPLEMENTARY_INFORMATION_NOTICE_NOTICE_DISPATCH_DATE.YEAR`, `FD_COMPLEMENTARY_INFORMATION_NOTICE_NOTICE_DISPATCH_DATE.MONTH`, `FD_COMPLEMENTARY_INFORMATION_NOTICE_NOTICE_DISPATCH_DATE.DAY`)\"))"
   ]
  },
  {
   "cell_type": "code",
   "execution_count": null,
   "id": "7f2d0b61-aac8-4b08-8f9f-ca008f18cf42",
   "metadata": {},
   "outputs": [],
   "source": [
    "fd8.printSchema()"
   ]
  },
  {
   "cell_type": "code",
   "execution_count": null,
   "id": "dbd485f1-f27d-4036-a4d4-af460bb709f7",
   "metadata": {},
   "outputs": [],
   "source": [
    "pd8 = fd8.to_pandas_on_spark()\n",
    "\n",
    "pd8.info()"
   ]
  },
  {
   "cell_type": "code",
   "execution_count": null,
   "id": "7fc03e13-7ab1-452f-9d04-d970b3aa45cd",
   "metadata": {},
   "outputs": [],
   "source": [
    "pd8 = pd8.drop(columns=['FD_COMPLEMENTARY_INFORMATION_NOTICE_NOTICE_DISPATCH_DATE.DAY', 'FD_COMPLEMENTARY_INFORMATION_NOTICE_NOTICE_DISPATCH_DATE.MONTH', 'FD_COMPLEMENTARY_INFORMATION_NOTICE_NOTICE_DISPATCH_DATE.YEAR'])"
   ]
  },
  {
   "cell_type": "code",
   "execution_count": null,
   "id": "8d23aa14-528c-4a94-b94b-fd5f84df64d2",
   "metadata": {},
   "outputs": [],
   "source": [
    "pd8.info()"
   ]
  },
  {
   "cell_type": "code",
   "execution_count": null,
   "id": "80f13a88-cb36-4716-bc27-62dfdbe964eb",
   "metadata": {},
   "outputs": [],
   "source": [
    "pd8[\"FD_COMPLEMENTARY_INFORMATION_NOTICE_NOTICE_DISPATCH_DATE\"]= ps.to_datetime(pd8[\"FD_COMPLEMENTARY_INFORMATION_NOTICE_NOTICE_DISPATCH_DATE\"])"
   ]
  },
  {
   "cell_type": "code",
   "execution_count": null,
   "id": "fd96eea4-ff8b-4165-a9f8-d5d2e2180213",
   "metadata": {},
   "outputs": [],
   "source": [
    "pd8.info() "
   ]
  },
  {
   "cell_type": "code",
   "execution_count": null,
   "id": "2f6f44b8-b843-499b-8ee9-1e1f3e1d321d",
   "metadata": {},
   "outputs": [],
   "source": [
    "fd8 = pd8.to_spark()\n",
    "\n",
    "fd8.write.parquet(\"s3a_//falk2210/fd8_210921.parquet\")"
   ]
  },
  {
   "cell_type": "markdown",
   "id": "d359d07b-f417-4a46-82fd-eb7dde3d06b1",
   "metadata": {
    "jp-MarkdownHeadingCollapsed": true,
    "tags": []
   },
   "source": [
    "# 9 CONTRACT"
   ]
  },
  {
   "cell_type": "markdown",
   "id": "8b2f4fab-842f-4350-b3d4-d2d156a031bd",
   "metadata": {},
   "source": [
    "<a id='d9' />"
   ]
  },
  {
   "cell_type": "code",
   "execution_count": null,
   "id": "2ddc90d8-10e8-4076-81e8-2cebb885dda3",
   "metadata": {},
   "outputs": [],
   "source": [
    "d9 = spark.read.json(\"falk/9.json/*.json\")\n",
    "#d9.printSchema()"
   ]
  },
  {
   "cell_type": "code",
   "execution_count": null,
   "id": "a06ea23c-b09e-434e-be98-eafc6a450dbf",
   "metadata": {},
   "outputs": [],
   "source": [
    "pd9 = d9.to_pandas_on_spark()"
   ]
  },
  {
   "cell_type": "code",
   "execution_count": null,
   "id": "f23e7f6d-26f9-4c44-8ae6-3e743e06d51f",
   "metadata": {},
   "outputs": [],
   "source": [
    "pd9 = pd9.rename(columns=lambda x_ re.sub('DOFFIN_ESENDERS_VERSION', 'DOFFIN_VERSION', x))\n",
    "#pd9.info()"
   ]
  },
  {
   "cell_type": "code",
   "execution_count": null,
   "id": "b907bb91-2cf6-47b8-8768-297aa5f8c809",
   "metadata": {},
   "outputs": [],
   "source": [
    "pd9 = pd9.rename(columns=lambda x_ re.sub('DOFFIN_ESENDERS_', '', x))\n",
    "\n",
    "pd9 = pd9.rename(columns=lambda x_ re.sub('FORM_SECTION_', '', x))\n",
    "#pd9.info()"
   ]
  },
  {
   "cell_type": "code",
   "execution_count": null,
   "id": "4cb4af72-6d56-4a51-b3e7-cffacd2ef7f4",
   "metadata": {},
   "outputs": [],
   "source": [
    "pd9 = pd9.rename(columns=lambda x_ re.sub('SIMPLIFIED_CONTRACT_', '', x))\n",
    "#pd9.info()"
   ]
  },
  {
   "cell_type": "code",
   "execution_count": null,
   "id": "f1488b24-0aee-4e54-a5b8-de9f286edb20",
   "metadata": {},
   "outputs": [],
   "source": [
    "#pd9 = pd9.rename(columns=lambda x_ re.sub('_', '_', x))\n",
    "#pd9.info()"
   ]
  },
  {
   "cell_type": "code",
   "execution_count": null,
   "id": "40f74ee7-7e73-4aa5-9ed5-8cb17504795c",
   "metadata": {},
   "outputs": [],
   "source": [
    "pd9 = pd9.rename(columns=lambda x_ re.sub('\\_P$', '', x))\n",
    "pd9.info()"
   ]
  },
  {
   "cell_type": "code",
   "execution_count": null,
   "id": "d55aaacb-e9f8-40e8-a25c-d14cf022b393",
   "metadata": {},
   "outputs": [],
   "source": [
    "fd9 = pd9.to_spark()"
   ]
  },
  {
   "cell_type": "code",
   "execution_count": null,
   "id": "18e42b92-4df4-478b-a4d5-f2ff2a7530ea",
   "metadata": {},
   "outputs": [],
   "source": [
    "fd9 = fd9.withColumn(\"FD_COMPLEMENTARY_INFORMATION_NOTICE_DISPATCH_DATE\", expr(\"make_date(`FD_COMPLEMENTARY_INFORMATION_NOTICE_DISPATCH_DATE.YEAR`, `FD_COMPLEMENTARY_INFORMATION_NOTICE_DISPATCH_DATE.MONTH`, `FD_COMPLEMENTARY_INFORMATION_NOTICE_DISPATCH_DATE.DAY`)\"))\n",
    "fd9 = fd9.withColumn(\"FD_PROCEDURES_SIMPLIFIED_CONTRACT_NOTICE.ADMINISTRATIVE_INFORMATION_PREVIOUS_PUBLICATION_OJ.DATE_OJ\", expr(\"make_date(`FD_PROCEDURES_SIMPLIFIED_CONTRACT_NOTICE.ADMINISTRATIVE_INFORMATION_PREVIOUS_PUBLICATION_OJ.DATE_OJ.YEAR`, `FD_PROCEDURES_SIMPLIFIED_CONTRACT_NOTICE.ADMINISTRATIVE_INFORMATION_PREVIOUS_PUBLICATION_OJ.DATE_OJ.MONTH`, `FD_PROCEDURES_SIMPLIFIED_CONTRACT_NOTICE.ADMINISTRATIVE_INFORMATION_PREVIOUS_PUBLICATION_OJ.DATE_OJ.DAY`)\"))\n",
    "fd9 = fd9.withColumn(\"FD_PROCEDURES_SIMPLIFIED_CONTRACT_NOTICE.ADMINISTRATIVE_INFORMATION_TIME_LIMIT_CHP\", expr(\"make_date(`FD_PROCEDURES_SIMPLIFIED_CONTRACT_NOTICE.ADMINISTRATIVE_INFORMATION_TIME_LIMIT_CHP.YEAR`, `FD_PROCEDURES_SIMPLIFIED_CONTRACT_NOTICE.ADMINISTRATIVE_INFORMATION_TIME_LIMIT_CHP.MONTH`, `FD_PROCEDURES_SIMPLIFIED_CONTRACT_NOTICE.ADMINISTRATIVE_INFORMATION_TIME_LIMIT_CHP.DAY`)\"))"
   ]
  },
  {
   "cell_type": "code",
   "execution_count": null,
   "id": "66eb2585-8c1c-4ed3-83df-83aa0d3fe8ae",
   "metadata": {},
   "outputs": [],
   "source": [
    "fd9.printSchema()"
   ]
  },
  {
   "cell_type": "code",
   "execution_count": null,
   "id": "0ca19f1d-b716-4d74-8298-a32c18ae34bc",
   "metadata": {},
   "outputs": [],
   "source": [
    "pd9 = fd9.to_pandas_on_spark()"
   ]
  },
  {
   "cell_type": "code",
   "execution_count": null,
   "id": "9bc17525-bb28-4324-8f89-c497c4de0cb7",
   "metadata": {},
   "outputs": [],
   "source": [
    "pd9.info()"
   ]
  },
  {
   "cell_type": "code",
   "execution_count": null,
   "id": "57ac3952-ad68-472d-8549-cc4e3e7e719f",
   "metadata": {},
   "outputs": [],
   "source": [
    "pd9 = pd9.drop(columns=['FD_COMPLEMENTARY_INFORMATION_NOTICE_DISPATCH_DATE.DAY', 'FD_COMPLEMENTARY_INFORMATION_NOTICE_DISPATCH_DATE.MONTH', 'FD_COMPLEMENTARY_INFORMATION_NOTICE_DISPATCH_DATE.YEAR'])\n",
    "pd9 = pd9.drop(columns=['FD_PROCEDURES_SIMPLIFIED_CONTRACT_NOTICE.ADMINISTRATIVE_INFORMATION_PREVIOUS_PUBLICATION_OJ.DATE_OJ.DAY', 'FD_PROCEDURES_SIMPLIFIED_CONTRACT_NOTICE.ADMINISTRATIVE_INFORMATION_PREVIOUS_PUBLICATION_OJ.DATE_OJ.MONTH', 'FD_PROCEDURES_SIMPLIFIED_CONTRACT_NOTICE.ADMINISTRATIVE_INFORMATION_PREVIOUS_PUBLICATION_OJ.DATE_OJ.YEAR'])\n",
    "pd9 = pd9.drop(columns=['FD_PROCEDURES_SIMPLIFIED_CONTRACT_NOTICE.ADMINISTRATIVE_INFORMATION_TIME_LIMIT_CHP.DAY', 'FD_PROCEDURES_SIMPLIFIED_CONTRACT_NOTICE.ADMINISTRATIVE_INFORMATION_TIME_LIMIT_CHP.MONTH', 'FD_PROCEDURES_SIMPLIFIED_CONTRACT_NOTICE.ADMINISTRATIVE_INFORMATION_TIME_LIMIT_CHP.YEAR'])"
   ]
  },
  {
   "cell_type": "code",
   "execution_count": null,
   "id": "6d06af35-635a-47f2-914c-ae675e661720",
   "metadata": {},
   "outputs": [],
   "source": [
    "pd9.info()"
   ]
  },
  {
   "cell_type": "code",
   "execution_count": null,
   "id": "90c3779d-f281-4fdd-b6f6-0f5ec9de1462",
   "metadata": {},
   "outputs": [],
   "source": [
    "pd9[\"FD_COMPLEMENTARY_INFORMATION_NOTICE_DISPATCH_DATE\"]= ps.to_datetime(pd9[\"FD_COMPLEMENTARY_INFORMATION_NOTICE_DISPATCH_DATE\"])\n",
    "pd9[\"FD_PROCEDURES_SIMPLIFIED_CONTRACT_NOTICE.ADMINISTRATIVE_INFORMATION_PREVIOUS_PUBLICATION_OJ.DATE_OJ\"]= ps.to_datetime(pd9[\"FD_PROCEDURES_SIMPLIFIED_CONTRACT_NOTICE.ADMINISTRATIVE_INFORMATION_PREVIOUS_PUBLICATION_OJ.DATE_OJ\"])\n",
    "pd9[\"FD_PROCEDURES_SIMPLIFIED_CONTRACT_NOTICE.ADMINISTRATIVE_INFORMATION_TIME_LIMIT_CHP\"]= ps.to_datetime(pd9[\"FD_PROCEDURES_SIMPLIFIED_CONTRACT_NOTICE.ADMINISTRATIVE_INFORMATION_TIME_LIMIT_CHP\"])"
   ]
  },
  {
   "cell_type": "code",
   "execution_count": null,
   "id": "a2f31305-af08-45f4-b4db-597f47a6e02a",
   "metadata": {},
   "outputs": [],
   "source": [
    "pd9.info() "
   ]
  },
  {
   "cell_type": "code",
   "execution_count": null,
   "id": "d97fd18c-1eb8-4218-a963-38d37f65c534",
   "metadata": {},
   "outputs": [],
   "source": [
    "pd9['FORM'].unique()"
   ]
  },
  {
   "cell_type": "code",
   "execution_count": null,
   "id": "9b40ee4e-9327-4812-b028-96c7a0ff9131",
   "metadata": {},
   "outputs": [],
   "source": [
    "fd9 = pd9.to_spark()\n",
    "\n",
    "fd9.write.parquet(\"s3a_//falk2210/fd9_210921.parquet\")"
   ]
  },
  {
   "cell_type": "markdown",
   "id": "fe4442e5-2dce-4116-9974-429cf4a6355e",
   "metadata": {
    "jp-MarkdownHeadingCollapsed": true,
    "tags": []
   },
   "source": [
    "# 10 Contract "
   ]
  },
  {
   "cell_type": "markdown",
   "id": "9801f6a3-2e0d-49b4-b3dc-27e39639308e",
   "metadata": {},
   "source": [
    "<a id='d10' />"
   ]
  },
  {
   "cell_type": "code",
   "execution_count": null,
   "id": "c24e4ea3-a858-4f46-960b-82097f36b417",
   "metadata": {},
   "outputs": [],
   "source": [
    "d10 = spark.read.json(\"falk/10.json/*.json\")\n",
    "#d10.printSchema()"
   ]
  },
  {
   "cell_type": "code",
   "execution_count": null,
   "id": "d65153ef-d59b-468a-8ef9-f80690fba0d6",
   "metadata": {},
   "outputs": [],
   "source": [
    "pd10 = d10.to_pandas_on_spark()"
   ]
  },
  {
   "cell_type": "code",
   "execution_count": null,
   "id": "f44db8ae-2753-458a-869f-f562ed87de7b",
   "metadata": {},
   "outputs": [],
   "source": [
    "pd10 = pd10.rename(columns=lambda x_ re.sub('DOFFIN_ESENDERS_VERSION', 'DOFFIN_VERSION', x))\n",
    "#pd10.info()"
   ]
  },
  {
   "cell_type": "code",
   "execution_count": null,
   "id": "976d1e22-eb67-4563-8a43-d0f6b43a8c91",
   "metadata": {},
   "outputs": [],
   "source": [
    "pd10 = pd10.rename(columns=lambda x_ re.sub('DOFFIN_ESENDERS_', '', x))\n",
    "\n",
    "pd10 = pd10.rename(columns=lambda x_ re.sub('FORM_SECTION_', '', x))\n",
    "#pd10.info()"
   ]
  },
  {
   "cell_type": "code",
   "execution_count": null,
   "id": "7ccd8d9c-9455-4983-93ba-92d0e3c214a3",
   "metadata": {},
   "outputs": [],
   "source": [
    "pd10 = pd10.rename(columns=lambda x_ re.sub('CONCESSION_', '', x))\n",
    "#pd10.info()"
   ]
  },
  {
   "cell_type": "code",
   "execution_count": null,
   "id": "79d92be4-3122-4eab-9d20-09d6a506fa06",
   "metadata": {},
   "outputs": [],
   "source": [
    "pd10 = pd10.rename(columns=lambda x_ re.sub('\\_P$', '', x))\n",
    "pd10.info()"
   ]
  },
  {
   "cell_type": "code",
   "execution_count": null,
   "id": "a6567157-9ae8-4989-8d0b-f1bc1c069255",
   "metadata": {},
   "outputs": [],
   "source": [
    "fd10 = pd10.to_spark()"
   ]
  },
  {
   "cell_type": "code",
   "execution_count": null,
   "id": "98a80a6e-654c-4743-905e-a260f9badc45",
   "metadata": {},
   "outputs": [],
   "source": [
    "fd10 = fd10.withColumn(\"FD_COMPLEMENTARY_INFORMATION_NOTICE_DISPATCH_DATE\", expr(\"make_date(`FD_COMPLEMENTARY_INFORMATION_NOTICE_DISPATCH_DATE.YEAR`, `FD_COMPLEMENTARY_INFORMATION_NOTICE_DISPATCH_DATE.MONTH`, `FD_COMPLEMENTARY_INFORMATION_NOTICE_DISPATCH_DATE.DAY`)\"))\n",
    "fd10 = fd10.withColumn(\"FD_PROCEDURES_ADMINISTRATIVE_INFORMATION_TIME_LIMIT_CHP\", expr(\"make_date(`FD_PROCEDURES_ADMINISTRATIVE_INFORMATION_TIME_LIMIT_CHP.YEAR`, `FD_PROCEDURES_ADMINISTRATIVE_INFORMATION_TIME_LIMIT_CHP.MONTH`, `FD_PROCEDURES_ADMINISTRATIVE_INFORMATION_TIME_LIMIT_CHP.DAY`)\"))"
   ]
  },
  {
   "cell_type": "code",
   "execution_count": null,
   "id": "9d9b36eb-56db-4880-9e3b-db8b26df16c3",
   "metadata": {},
   "outputs": [],
   "source": [
    "fd10.printSchema()"
   ]
  },
  {
   "cell_type": "code",
   "execution_count": null,
   "id": "e74f080f-5245-4445-9660-72fa7b21981a",
   "metadata": {},
   "outputs": [],
   "source": [
    "pd10 = fd10.to_pandas_on_spark()\n",
    "\n",
    "pd10.info()"
   ]
  },
  {
   "cell_type": "code",
   "execution_count": null,
   "id": "b0ded0ab-0536-449c-81b7-c86a8ccf76a0",
   "metadata": {},
   "outputs": [],
   "source": [
    "pd10 = pd10.drop(columns=['FD_COMPLEMENTARY_INFORMATION_NOTICE_DISPATCH_DATE.DAY', 'FD_COMPLEMENTARY_INFORMATION_NOTICE_DISPATCH_DATE.MONTH', 'FD_COMPLEMENTARY_INFORMATION_NOTICE_DISPATCH_DATE.YEAR'])\n",
    "pd10 = pd10.drop(columns=['FD_PROCEDURES_ADMINISTRATIVE_INFORMATION_TIME_LIMIT_CHP.DAY', 'FD_PROCEDURES_ADMINISTRATIVE_INFORMATION_TIME_LIMIT_CHP.MONTH', 'FD_PROCEDURES_ADMINISTRATIVE_INFORMATION_TIME_LIMIT_CHP.YEAR'])"
   ]
  },
  {
   "cell_type": "code",
   "execution_count": null,
   "id": "5e39b8e1-e3a0-41d6-8ad5-c3b103385626",
   "metadata": {},
   "outputs": [],
   "source": [
    "pd10.info()"
   ]
  },
  {
   "cell_type": "code",
   "execution_count": null,
   "id": "f789733f-d53b-4189-8413-cd619a7863ba",
   "metadata": {},
   "outputs": [],
   "source": [
    "pd10[\"FD_COMPLEMENTARY_INFORMATION_NOTICE_DISPATCH_DATE\"]= ps.to_datetime(pd10[\"FD_COMPLEMENTARY_INFORMATION_NOTICE_DISPATCH_DATE\"])\n",
    "pd10[\"FD_PROCEDURES_ADMINISTRATIVE_INFORMATION_TIME_LIMIT_CHP\"]= ps.to_datetime(pd10[\"FD_PROCEDURES_ADMINISTRATIVE_INFORMATION_TIME_LIMIT_CHP\"])"
   ]
  },
  {
   "cell_type": "code",
   "execution_count": null,
   "id": "3b5ccbb5-f304-4b0a-8a7b-473c6ab1212d",
   "metadata": {},
   "outputs": [],
   "source": [
    "pd10.info() "
   ]
  },
  {
   "cell_type": "code",
   "execution_count": null,
   "id": "bcf26324-f8cd-4897-aeaf-00f897bc2519",
   "metadata": {},
   "outputs": [],
   "source": [
    "pd10.head()"
   ]
  },
  {
   "cell_type": "code",
   "execution_count": null,
   "id": "7a593e88-3d75-4982-a445-82d7a5097038",
   "metadata": {},
   "outputs": [],
   "source": [
    "pd10['DOFFIN_APPENDIX.DOFFIN_FORM_TYPE.NATIONAL.REFERENCE_SECTION.REFERENCE_DOFFIN.TYPE'].unique()"
   ]
  },
  {
   "cell_type": "code",
   "execution_count": null,
   "id": "64c73920-ea73-4502-92b5-a0f65aab0c6a",
   "metadata": {},
   "outputs": [],
   "source": [
    "fd10 = pd10.to_spark()\n",
    "\n",
    "fd10.write.parquet(\"s3a_//falk2210/fd10_210921.parquet\")"
   ]
  },
  {
   "cell_type": "markdown",
   "id": "1837a2b8-a697-4433-b49d-4f42bf034541",
   "metadata": {
    "jp-MarkdownHeadingCollapsed": true,
    "tags": []
   },
   "source": [
    "# 11 contract"
   ]
  },
  {
   "cell_type": "markdown",
   "id": "dfbb5e89-199d-425b-b711-d187a5eaf51d",
   "metadata": {},
   "source": [
    "<a id='d11' />"
   ]
  },
  {
   "cell_type": "code",
   "execution_count": null,
   "id": "ab8e74aa-1d18-400a-b68e-8ee6840908b9",
   "metadata": {},
   "outputs": [],
   "source": [
    "d11 = spark.read.json(\"falk/11.json/*.json\")\n",
    "#d11.printSchema()"
   ]
  },
  {
   "cell_type": "code",
   "execution_count": null,
   "id": "9fb6cfbe-1302-4b96-8103-29173ffc69a3",
   "metadata": {},
   "outputs": [],
   "source": [
    "pd11 = d11.to_pandas_on_spark()"
   ]
  },
  {
   "cell_type": "code",
   "execution_count": null,
   "id": "eb7ea87c-f6f4-4cbf-b1bc-4a7cf40dd3a3",
   "metadata": {},
   "outputs": [],
   "source": [
    "pd11 = pd11.rename(columns=lambda x_ re.sub('DOFFIN_ESENDERS_VERSION', 'DOFFIN_VERSION', x))\n",
    "#pd11.info()"
   ]
  },
  {
   "cell_type": "code",
   "execution_count": null,
   "id": "e727d90d-9750-424e-b15e-4300b9c1e29e",
   "metadata": {},
   "outputs": [],
   "source": [
    "pd11 = pd11.rename(columns=lambda x_ re.sub('DOFFIN_ESENDERS_', '', x))\n",
    "\n",
    "pd11 = pd11.rename(columns=lambda x_ re.sub('FORM_SECTION_', '', x))\n",
    "#pd11.info()"
   ]
  },
  {
   "cell_type": "code",
   "execution_count": null,
   "id": "a88b3cba-021b-4b23-94dc-1bb77330b2a7",
   "metadata": {},
   "outputs": [],
   "source": [
    "pd11 = pd11.rename(columns=lambda x_ re.sub('CONTRACT_CONCESSIONAIRE_', '', x))\n",
    "#pd11.info()"
   ]
  },
  {
   "cell_type": "code",
   "execution_count": null,
   "id": "d8c3665c-4e6e-4cc0-a051-93119ffdd257",
   "metadata": {},
   "outputs": [],
   "source": [
    "pd11 = pd11.rename(columns=lambda x_ re.sub('\\_P$', '', x))\n",
    "pd11.info()"
   ]
  },
  {
   "cell_type": "code",
   "execution_count": null,
   "id": "6927076c-a461-498c-ab89-562845c3c89c",
   "metadata": {},
   "outputs": [],
   "source": [
    "fd11 = pd11.to_spark()"
   ]
  },
  {
   "cell_type": "code",
   "execution_count": null,
   "id": "84a2d195-8f0f-4405-a819-c49f63d4a288",
   "metadata": {},
   "outputs": [],
   "source": [
    "fd11 = fd11.withColumn(\"FD_COMPLEMENTARY_INFORMATION_NOTICE_DISPATCH_DATE\", expr(\"make_date(`FD_COMPLEMENTARY_INFORMATION_NOTICE_DISPATCH_DATE.YEAR`, `FD_COMPLEMENTARY_INFORMATION_NOTICE_DISPATCH_DATE.MONTH`, `FD_COMPLEMENTARY_INFORMATION_NOTICE_DISPATCH_DATE.DAY`)\"))\n",
    "fd11 = fd11.withColumn(\"FD_OBJECT_CONTRACT_NOTICE.PERIOD_WORK_DATE_STARTING.INTERVAL_DATE.END_DATE\", expr(\"make_date(`FD_OBJECT_CONTRACT_NOTICE.PERIOD_WORK_DATE_STARTING.INTERVAL_DATE.END_DATE.YEAR`, `FD_OBJECT_CONTRACT_NOTICE.PERIOD_WORK_DATE_STARTING.INTERVAL_DATE.END_DATE.MONTH`, `FD_OBJECT_CONTRACT_NOTICE.PERIOD_WORK_DATE_STARTING.INTERVAL_DATE.END_DATE.DAY`)\"))\n",
    "fd11 = fd11.withColumn(\"FD_OBJECT_CONTRACT_NOTICE.PERIOD_WORK_DATE_STARTING.INTERVAL_DATE.START_DATE\", expr(\"make_date(`FD_OBJECT_CONTRACT_NOTICE.PERIOD_WORK_DATE_STARTING.INTERVAL_DATE.START_DATE.YEAR`, `FD_OBJECT_CONTRACT_NOTICE.PERIOD_WORK_DATE_STARTING.INTERVAL_DATE.START_DATE.MONTH`, `FD_OBJECT_CONTRACT_NOTICE.PERIOD_WORK_DATE_STARTING.INTERVAL_DATE.START_DATE.DAY`)\"))\n",
    "fd11 = fd11.withColumn(\"FD_PROCEDURES_CONTRACT_NOTICE.ADMINISTRATIVE_INFORMATION_DISPATCH_INVITATIONS_DATE\", expr(\"make_date(`FD_PROCEDURES_CONTRACT_NOTICE.ADMINISTRATIVE_INFORMATION_DISPATCH_INVITATIONS_DATE.YEAR`, `FD_PROCEDURES_CONTRACT_NOTICE.ADMINISTRATIVE_INFORMATION_DISPATCH_INVITATIONS_DATE.MONTH`, `FD_PROCEDURES_CONTRACT_NOTICE.ADMINISTRATIVE_INFORMATION_DISPATCH_INVITATIONS_DATE.DAY`)\"))\n",
    "fd11 = fd11.withColumn(\"FD_PROCEDURES_CONTRACT_NOTICE.ADMINISTRATIVE_INFORMATION_F11_TIME_LIMIT_TYPE.TIME_LIMIT\", expr(\"make_date(`FD_PROCEDURES_CONTRACT_NOTICE.ADMINISTRATIVE_INFORMATION_F11_TIME_LIMIT_TYPE.TIME_LIMIT.YEAR`, `FD_PROCEDURES_CONTRACT_NOTICE.ADMINISTRATIVE_INFORMATION_F11_TIME_LIMIT_TYPE.TIME_LIMIT.MONTH`, `FD_PROCEDURES_CONTRACT_NOTICE.ADMINISTRATIVE_INFORMATION_F11_TIME_LIMIT_TYPE.TIME_LIMIT.DAY`)\"))"
   ]
  },
  {
   "cell_type": "code",
   "execution_count": null,
   "id": "da1dc7d3-57ca-4664-926b-d44f38f29bdd",
   "metadata": {},
   "outputs": [],
   "source": [
    "fd11.printSchema()"
   ]
  },
  {
   "cell_type": "code",
   "execution_count": null,
   "id": "64ad1bad-5c36-404b-8119-31ff496e8382",
   "metadata": {},
   "outputs": [],
   "source": [
    "pd11 = fd11.to_pandas_on_spark()\n",
    "\n",
    "pd11.info()"
   ]
  },
  {
   "cell_type": "code",
   "execution_count": null,
   "id": "0e3b2c69-f28c-46a9-aaf4-4d878d66a7a4",
   "metadata": {},
   "outputs": [],
   "source": [
    "pd11 = pd11.drop(columns=['FD_COMPLEMENTARY_INFORMATION_NOTICE_DISPATCH_DATE.DAY', 'FD_COMPLEMENTARY_INFORMATION_NOTICE_DISPATCH_DATE.MONTH', 'FD_COMPLEMENTARY_INFORMATION_NOTICE_DISPATCH_DATE.YEAR'])\n",
    "pd11 = pd11.drop(columns=['FD_OBJECT_CONTRACT_NOTICE.PERIOD_WORK_DATE_STARTING.INTERVAL_DATE.END_DATE.DAY', 'FD_OBJECT_CONTRACT_NOTICE.PERIOD_WORK_DATE_STARTING.INTERVAL_DATE.END_DATE.MONTH', 'FD_OBJECT_CONTRACT_NOTICE.PERIOD_WORK_DATE_STARTING.INTERVAL_DATE.END_DATE.YEAR'])\n",
    "pd11 = pd11.drop(columns=['FD_OBJECT_CONTRACT_NOTICE.PERIOD_WORK_DATE_STARTING.INTERVAL_DATE.START_DATE.DAY', 'FD_OBJECT_CONTRACT_NOTICE.PERIOD_WORK_DATE_STARTING.INTERVAL_DATE.START_DATE.MONTH', 'FD_OBJECT_CONTRACT_NOTICE.PERIOD_WORK_DATE_STARTING.INTERVAL_DATE.START_DATE.YEAR'])\n",
    "pd11 = pd11.drop(columns=['FD_PROCEDURES_CONTRACT_NOTICE.ADMINISTRATIVE_INFORMATION_DISPATCH_INVITATIONS_DATE.DAY', 'FD_PROCEDURES_CONTRACT_NOTICE.ADMINISTRATIVE_INFORMATION_DISPATCH_INVITATIONS_DATE.MONTH', 'FD_PROCEDURES_CONTRACT_NOTICE.ADMINISTRATIVE_INFORMATION_DISPATCH_INVITATIONS_DATE.YEAR'])\n",
    "pd11 = pd11.drop(columns=['FD_PROCEDURES_CONTRACT_NOTICE.ADMINISTRATIVE_INFORMATION_F11_TIME_LIMIT_TYPE.TIME_LIMIT.DAY', 'FD_PROCEDURES_CONTRACT_NOTICE.ADMINISTRATIVE_INFORMATION_F11_TIME_LIMIT_TYPE.TIME_LIMIT.MONTH', 'FD_PROCEDURES_CONTRACT_NOTICE.ADMINISTRATIVE_INFORMATION_F11_TIME_LIMIT_TYPE.TIME_LIMIT.YEAR'])"
   ]
  },
  {
   "cell_type": "code",
   "execution_count": null,
   "id": "ca5858a8-6d25-41ad-918f-ab545295ea3e",
   "metadata": {},
   "outputs": [],
   "source": [
    "pd11.info()"
   ]
  },
  {
   "cell_type": "code",
   "execution_count": null,
   "id": "39e5eaf5-9408-4115-acc5-ca51a15c0712",
   "metadata": {},
   "outputs": [],
   "source": [
    "pd11[\"FD_COMPLEMENTARY_INFORMATION_NOTICE_DISPATCH_DATE\"]= ps.to_datetime(pd11[\"FD_COMPLEMENTARY_INFORMATION_NOTICE_DISPATCH_DATE\"])\n",
    "pd11[\"FD_OBJECT_CONTRACT_NOTICE.PERIOD_WORK_DATE_STARTING.INTERVAL_DATE.END_DATE\"]= ps.to_datetime(pd11[\"FD_OBJECT_CONTRACT_NOTICE.PERIOD_WORK_DATE_STARTING.INTERVAL_DATE.END_DATE\"])\n",
    "pd11[\"FD_OBJECT_CONTRACT_NOTICE.PERIOD_WORK_DATE_STARTING.INTERVAL_DATE.START_DATE\"]= ps.to_datetime(pd11[\"FD_OBJECT_CONTRACT_NOTICE.PERIOD_WORK_DATE_STARTING.INTERVAL_DATE.START_DATE\"])\n",
    "pd11[\"FD_PROCEDURES_CONTRACT_NOTICE.ADMINISTRATIVE_INFORMATION_DISPATCH_INVITATIONS_DATE\"]= ps.to_datetime(pd11[\"FD_PROCEDURES_CONTRACT_NOTICE.ADMINISTRATIVE_INFORMATION_DISPATCH_INVITATIONS_DATE\"])\n",
    "pd11[\"FD_PROCEDURES_CONTRACT_NOTICE.ADMINISTRATIVE_INFORMATION_F11_TIME_LIMIT_TYPE.TIME_LIMIT\"]= ps.to_datetime(pd11[\"FD_PROCEDURES_CONTRACT_NOTICE.ADMINISTRATIVE_INFORMATION_F11_TIME_LIMIT_TYPE.TIME_LIMIT\"])"
   ]
  },
  {
   "cell_type": "code",
   "execution_count": null,
   "id": "1a4e49f2-1def-455d-a71e-00ec53d7f90a",
   "metadata": {},
   "outputs": [],
   "source": [
    "pd11.info() "
   ]
  },
  {
   "cell_type": "code",
   "execution_count": null,
   "id": "fafe7b65-5074-4248-abb8-4e76406c5fce",
   "metadata": {},
   "outputs": [],
   "source": [
    "fd11 = pd11.to_spark()\n",
    "\n",
    "fd11.write.parquet(\"s3a_//falk2210/fd11_210921.parquet\")"
   ]
  },
  {
   "cell_type": "markdown",
   "id": "5cfdaf6f-a663-4a59-9297-73050e765912",
   "metadata": {
    "jp-MarkdownHeadingCollapsed": true,
    "tags": []
   },
   "source": [
    "# 12 CONTRACT"
   ]
  },
  {
   "cell_type": "markdown",
   "id": "af94ea56-5937-483d-a3be-441f1b58971a",
   "metadata": {},
   "source": [
    "<a id='d12' />"
   ]
  },
  {
   "cell_type": "code",
   "execution_count": null,
   "id": "9689932f-5955-4d9d-8118-c1239a17faeb",
   "metadata": {},
   "outputs": [],
   "source": [
    "d12 = spark.read.json(\"falk/12.json/*.json\")\n",
    "#d12.printSchema()"
   ]
  },
  {
   "cell_type": "code",
   "execution_count": null,
   "id": "836c06e0-7707-4670-9202-3d55bae637e5",
   "metadata": {},
   "outputs": [],
   "source": [
    "pd12 = d12.to_pandas_on_spark()"
   ]
  },
  {
   "cell_type": "code",
   "execution_count": null,
   "id": "65d4b8a2-2447-4c66-b302-78ca227cb9c9",
   "metadata": {},
   "outputs": [],
   "source": [
    "pd12 = pd12.rename(columns=lambda x_ re.sub('DOFFIN_ESENDERS_VERSION', 'DOFFIN_VERSION', x))\n",
    "#pd12.info()"
   ]
  },
  {
   "cell_type": "code",
   "execution_count": null,
   "id": "7b4ffc7b-2228-47f8-9334-78ddf82bc0b0",
   "metadata": {},
   "outputs": [],
   "source": [
    "pd12 = pd12.rename(columns=lambda x_ re.sub('DOFFIN_ESENDERS_', '', x))\n",
    "\n",
    "pd12 = pd12.rename(columns=lambda x_ re.sub('FORM_SECTION_', '', x))\n",
    "#pd12.info()"
   ]
  },
  {
   "cell_type": "code",
   "execution_count": null,
   "id": "a7442251-4fed-48a0-a7bf-0951677478b0",
   "metadata": {},
   "outputs": [],
   "source": [
    "pd12 = pd12.rename(columns=lambda x_ re.sub('DESIGN_CONTEST_', '', x))\n",
    "#pd12.info()"
   ]
  },
  {
   "cell_type": "code",
   "execution_count": null,
   "id": "976b0191-9904-4f58-ad3c-0f9a963e2533",
   "metadata": {},
   "outputs": [],
   "source": [
    "#pd12 = pd12.rename(columns=lambda x_ re.sub('_', '_', x))\n",
    "#pd12.info()"
   ]
  },
  {
   "cell_type": "code",
   "execution_count": null,
   "id": "1fd3bac1-79cd-4c04-aaee-bb45aa7591fc",
   "metadata": {},
   "outputs": [],
   "source": [
    "pd12 = pd12.rename(columns=lambda x_ re.sub('\\_P$', '', x))\n",
    "pd12.info()"
   ]
  },
  {
   "cell_type": "code",
   "execution_count": null,
   "id": "af7b12ff-1968-4f21-b5d7-f121ba86d64d",
   "metadata": {},
   "outputs": [],
   "source": [
    "fd12 = pd12.to_spark()"
   ]
  },
  {
   "cell_type": "code",
   "execution_count": null,
   "id": "f007745f-a328-4a68-b3d6-698eb80ae47e",
   "metadata": {},
   "outputs": [],
   "source": [
    "fd12 = fd12.withColumn(\"FD_COMPLEMENTARY_INFORMATION_NOTICE_DISPATCH_DATE\", expr(\"make_date(`FD_COMPLEMENTARY_INFORMATION_NOTICE_DISPATCH_DATE.YEAR`, `FD_COMPLEMENTARY_INFORMATION_NOTICE_DISPATCH_DATE.MONTH`, `FD_COMPLEMENTARY_INFORMATION_NOTICE_DISPATCH_DATE.DAY`)\"))\n",
    "fd12 = fd12.withColumn(\"FD_PROCEDURES_ADMINISTRATIVE_INFORMATION_DESIGN_CONTEST_NOTICE.DISPATCH_INVITATIONS_DATE\", expr(\"make_date(`FD_PROCEDURES_ADMINISTRATIVE_INFORMATION_DESIGN_CONTEST_NOTICE.DISPATCH_INVITATIONS_DATE.YEAR`, `FD_PROCEDURES_ADMINISTRATIVE_INFORMATION_DESIGN_CONTEST_NOTICE.DISPATCH_INVITATIONS_DATE.MONTH`, `FD_PROCEDURES_ADMINISTRATIVE_INFORMATION_DESIGN_CONTEST_NOTICE.DISPATCH_INVITATIONS_DATE.DAY`)\"))\n",
    "fd12 = fd12.withColumn(\"FD_PROCEDURES_ADMINISTRATIVE_INFORMATION_DESIGN_CONTEST_NOTICE.TIME_LIMIT_CHP\", expr(\"make_date(`FD_PROCEDURES_ADMINISTRATIVE_INFORMATION_DESIGN_CONTEST_NOTICE.TIME_LIMIT_CHP.YEAR`, `FD_PROCEDURES_ADMINISTRATIVE_INFORMATION_DESIGN_CONTEST_NOTICE.TIME_LIMIT_CHP.MONTH`, `FD_PROCEDURES_ADMINISTRATIVE_INFORMATION_DESIGN_CONTEST_NOTICE.TIME_LIMIT_CHP.DAY`)\"))"
   ]
  },
  {
   "cell_type": "code",
   "execution_count": null,
   "id": "44138503-09e9-4d3d-a2a2-e6c11fdb70dc",
   "metadata": {},
   "outputs": [],
   "source": [
    "fd12.printSchema()"
   ]
  },
  {
   "cell_type": "code",
   "execution_count": null,
   "id": "688ed22d-1971-4100-9eb9-30a93d30c08e",
   "metadata": {},
   "outputs": [],
   "source": [
    "pd12 = fd12.to_pandas_on_spark()\n",
    "\n",
    "pd12.info()"
   ]
  },
  {
   "cell_type": "code",
   "execution_count": null,
   "id": "2b102d7b-b8b4-4d17-a4cd-a8e6e051e099",
   "metadata": {},
   "outputs": [],
   "source": [
    "pd12 = pd12.drop(columns=['FD_COMPLEMENTARY_INFORMATION_NOTICE_DISPATCH_DATE.DAY', 'FD_COMPLEMENTARY_INFORMATION_NOTICE_DISPATCH_DATE.MONTH', 'FD_COMPLEMENTARY_INFORMATION_NOTICE_DISPATCH_DATE.YEAR'])\n",
    "pd12 = pd12.drop(columns=['FD_PROCEDURES_ADMINISTRATIVE_INFORMATION_DESIGN_CONTEST_NOTICE.DISPATCH_INVITATIONS_DATE.DAY', 'FD_PROCEDURES_ADMINISTRATIVE_INFORMATION_DESIGN_CONTEST_NOTICE.DISPATCH_INVITATIONS_DATE.MONTH', 'FD_PROCEDURES_ADMINISTRATIVE_INFORMATION_DESIGN_CONTEST_NOTICE.DISPATCH_INVITATIONS_DATE.YEAR'])\n",
    "pd12 = pd12.drop(columns=['FD_PROCEDURES_ADMINISTRATIVE_INFORMATION_DESIGN_CONTEST_NOTICE.TIME_LIMIT_CHP.DAY', 'FD_PROCEDURES_ADMINISTRATIVE_INFORMATION_DESIGN_CONTEST_NOTICE.TIME_LIMIT_CHP.MONTH', 'FD_PROCEDURES_ADMINISTRATIVE_INFORMATION_DESIGN_CONTEST_NOTICE.TIME_LIMIT_CHP.YEAR'])"
   ]
  },
  {
   "cell_type": "code",
   "execution_count": null,
   "id": "2ce4b3ef-edf0-4360-b4de-0a36ebd977c5",
   "metadata": {},
   "outputs": [],
   "source": [
    "pd12.info()"
   ]
  },
  {
   "cell_type": "code",
   "execution_count": null,
   "id": "d9913b7d-f7f3-4b1e-bf51-f4a3cc041a1c",
   "metadata": {},
   "outputs": [],
   "source": [
    "pd12[\"FD_COMPLEMENTARY_INFORMATION_NOTICE_DISPATCH_DATE\"]= ps.to_datetime(pd12[\"FD_COMPLEMENTARY_INFORMATION_NOTICE_DISPATCH_DATE\"])\n",
    "pd12[\"FD_PROCEDURES_ADMINISTRATIVE_INFORMATION_DESIGN_CONTEST_NOTICE.DISPATCH_INVITATIONS_DATE\"]= ps.to_datetime(pd12[\"FD_PROCEDURES_ADMINISTRATIVE_INFORMATION_DESIGN_CONTEST_NOTICE.DISPATCH_INVITATIONS_DATE\"])\n",
    "pd12[\"FD_PROCEDURES_ADMINISTRATIVE_INFORMATION_DESIGN_CONTEST_NOTICE.TIME_LIMIT_CHP\"]= ps.to_datetime(pd12[\"FD_PROCEDURES_ADMINISTRATIVE_INFORMATION_DESIGN_CONTEST_NOTICE.TIME_LIMIT_CHP\"])"
   ]
  },
  {
   "cell_type": "code",
   "execution_count": null,
   "id": "22318940-b334-4657-8714-78f6752b6864",
   "metadata": {},
   "outputs": [],
   "source": [
    "pd12.info() "
   ]
  },
  {
   "cell_type": "code",
   "execution_count": null,
   "id": "773ee866-d929-40a9-83c0-caa4f100ee2e",
   "metadata": {},
   "outputs": [],
   "source": [
    "pd12['DOFFIN_APPENDIX.DOFFIN_FORM_TYPE.NATIONAL.REFERENCE_SECTION.REFERENCE_DOFFIN.TYPE'].unique()"
   ]
  },
  {
   "cell_type": "code",
   "execution_count": null,
   "id": "e78bb727-b420-4c44-9ca3-93b90c61647b",
   "metadata": {},
   "outputs": [],
   "source": [
    "fd12 = pd12.to_spark()\n",
    "\n",
    "fd12.write.parquet(\"s3a_//falk2210/fd12_210921.parquet\")"
   ]
  },
  {
   "cell_type": "code",
   "execution_count": null,
   "id": "6a05ffde-3f73-4f80-8cc4-df7f5ac1f338",
   "metadata": {},
   "outputs": [],
   "source": [
    "#spark.stop()"
   ]
  },
  {
   "cell_type": "markdown",
   "id": "6663f967-ba1d-4db9-ac98-b83c62518d8b",
   "metadata": {
    "tags": []
   },
   "source": [
    "# 13 awards "
   ]
  },
  {
   "cell_type": "markdown",
   "id": "9e44d7e1-042c-4b7b-b478-bdd9677441dd",
   "metadata": {},
   "source": [
    "<a id='d13' />"
   ]
  },
  {
   "cell_type": "code",
   "execution_count": null,
   "id": "794a46e6-e6f0-4459-8e54-7fdf7dcffbf4",
   "metadata": {},
   "outputs": [],
   "source": [
    "d13 = spark.read.json(\"falk/13.json/*.json\")\n",
    "#d13.printSchema()"
   ]
  },
  {
   "cell_type": "code",
   "execution_count": null,
   "id": "3933a4eb-823b-4317-8959-3209f560c7de",
   "metadata": {},
   "outputs": [],
   "source": [
    "pd13 = d13.to_pandas_on_spark()"
   ]
  },
  {
   "cell_type": "code",
   "execution_count": null,
   "id": "be1dd06b-6da4-4c9b-bc81-9275ed372981",
   "metadata": {},
   "outputs": [],
   "source": [
    "pd13 = pd13.rename(columns=lambda x_ re.sub('DOFFIN_ESENDERS_VERSION', 'DOFFIN_VERSION', x))\n",
    "#pd13.info()"
   ]
  },
  {
   "cell_type": "code",
   "execution_count": null,
   "id": "d7e8d4c5-f2da-4dd8-8b5c-c74aede26fe3",
   "metadata": {},
   "outputs": [],
   "source": [
    "pd13 = pd13.rename(columns=lambda x_ re.sub('DOFFIN_ESENDERS_', '', x))\n",
    "\n",
    "pd13 = pd13.rename(columns=lambda x_ re.sub('FORM_SECTION_', '', x))\n",
    "#pd13.info()"
   ]
  },
  {
   "cell_type": "code",
   "execution_count": null,
   "id": "55dddeb4-524c-4180-ba37-27ce0d135296",
   "metadata": {},
   "outputs": [],
   "source": [
    "pd13 = pd13.rename(columns=lambda x_ re.sub('RESULT_DESIGN_CONTEST_', '', x))\n",
    "#pd13.info()"
   ]
  },
  {
   "cell_type": "code",
   "execution_count": null,
   "id": "5578e9db-83de-4f8b-ac48-9ebba71f3427",
   "metadata": {},
   "outputs": [],
   "source": [
    "pd13 = pd13.rename(columns=lambda x_ re.sub('\\_P$', '', x))\n",
    "pd13 = pd13.rename(columns=lambda x_ re.sub('F13_', '', x))\n",
    "pd13 = pd13.rename(columns=lambda x_ re.sub('_F13', '', x))\n",
    "pd13 = pd13.rename(columns=lambda x_ re.sub('CONTACT_DATA_WITHOUT_RESPONSIBLE_NAME_', '', x))\n",
    "pd13 = pd13.rename(columns=lambda x_ re.sub('DOFFIN_FORM_TYPE_', '', x))\n",
    "#pd13 = pd13.rename(columns=lambda x_ re.sub('ADMINISTRATIVE_INFORMATION_PREVIOUS_PUBLICATION_INFORMATION_NOTICE_', '', x))\n",
    "pd13 = pd13.rename(columns=lambda x_ re.sub('ORGANISATION_', '', x))\n",
    "#pd13 = pd13.rename(columns=lambda x_ re.sub('FD_PROCEDURE_DEFINITION_CONTRACT_AWARD_NOTICE_ADMINISTRATIVE_INFORMATION_PREVIOUS_PUBLICATION_INFORMATION_NOTICE_F3_PREVIOUS_PUBLICATION_EXISTS_F3', 'FD_PROCEDURE_DEFINITION_CONTRACT_AWARD_NOTICE_ADMINISTRATIVE_INFORMATION_PREVIOUS_PUBLICATION_INFORMATION_NOTICE_PREVIOUS_PUBLICATION_EXISTS', x))\n",
    "#pd13 = pd13.rename(columns=lambda x_ re.sub('PREVIOUS_PUBLICATION_NOTICE_F3', 'PREVIOUS_PUBLICATION_NOTICE', x))\n",
    "#pd13 = pd13.rename(columns=lambda x_ re.sub('PREVIOUS_NOTICE_BUYER_PROFILE_F3', 'PREVIOUS_NOTICE_BUYER_PROFILE', x))\n",
    "pd13 = pd13.rename(columns=lambda x_ re.sub('_ENTITY', '', x))\n",
    "pd13 = pd13.rename(columns=lambda x_ re.sub('E_MAILS_', '', x))\n",
    "pd13 = pd13.rename(columns=lambda x_ re.sub('FD_RESULTS_CONTEST_RESULT_CONTEST_AWARD_PRIZES_NAME_ADDRESS_WINNER_', 'FD_AWARD_OF_CONTRACT_ECONOMIC_OPERATOR_NAME_ADDRESS_', x))\n",
    "pd13 = pd13.rename(columns=lambda x_ re.sub('FD_RESULTS_CONTEST_RESULT_CONTEST_', 'FD_AWARD_OF_CONTRACT_', x))\n",
    "pd13 = pd13.rename(columns=lambda x_ re.sub('FD_CONTRACTING_NAME_ADDRESSES_CONTACT_CA_CE_CONCESSIONAIRE_PROFILE', 'FD_CONTRACTING_NAME_ADDRESSES_CONTACT_CA_CE_CONCESSIONAIRE_PROFILE_ADDRESS', x))\n",
    "pd13 = pd13.rename(columns=lambda x_ re.sub('FD_OBJECT_CPV_', 'FD_OBJECT_CONTRACT_INFORMATION_CONTRACT_AWARD_NOTICE_DESCRIPTION_AWARD_NOTICE_INFORMATION_', x))\n",
    "pd13 = pd13.rename(columns=lambda x_ re.sub('FD_PROCEDURES_PREVIOUS_PUBLICATION_OJ_', 'FD_PREVIOUS_PUBLICATION_EXISTS_', x))"
   ]
  },
  {
   "cell_type": "code",
   "execution_count": null,
   "id": "c660ba98-1f38-4a7d-9022-6628044be777",
   "metadata": {},
   "outputs": [],
   "source": [
    "pd13 = pd13.rename(columns=lambda x_ re.sub('FD_AWARD_OF_CONTRACT_ECONOMIC_OPERATOR_NAME_ADDRESS_', 'AWARDED_CONTRACT_CONTRACTOR_ADDRESS_CONTRACTOR_', x))\n",
    "pd13 = pd13.rename(columns=lambda x_ re.sub('FD_AWARD_OF_CONTRACT_', 'AWARD_CONTRACT_', x)) #ITEM\n",
    "#pd13 = pd13.rename(columns=lambda x_ re.sub('', 'COMPLEMENTARY_INFO_ADDRESS_MEDIATION_BODY_', x))\n",
    "pd13 = pd13.rename(columns=lambda x_ re.sub('FD_COMPLEMENTARY_INFORMATION_APPEAL_PROCEDURES_RESPONSIBLE_FOR_APPEAL_PROCEDURES_', 'COMPLEMENTARY_INFO_ADDRESS_REVIEW_BODY_', x))\n",
    "pd13 = pd13.rename(columns=lambda x_ re.sub('FD_COMPLEMENTARY_INFORMATION_NOTICE_DISPATCH_DATE_', 'COMPLEMENTARY_INFO_', x)) #COMPLEMENTARY_INFO_DATE_DISPATCH_NOTICE\n",
    "pd13 = pd13.rename(columns=lambda x_ re.sub('FD_CONTRACTING_NAME_ADDRESSES_CONTACT_CA_CE_CONCESSIONAIRE_PROFILE_ADDRESS_', 'CONTRACTING_BODY_ADDRESS_CONTRACTING_BODY_', x))\n",
    "#pd13 = pd13.rename(columns=lambda x_ re.sub('', 'CONTRACTING_BODY_ADDRESS_FURTHER_INFO_', x))\n",
    "pd13 = pd13.rename(columns=lambda x_ re.sub('FD_CONTRACTING_TYPE_AND_ACTIVITIES_OR_CONTRACTING_AND_PURCHASING_ON_BEHALF_PURCHASING_ON_BEHALF_PURCHASING_ON_BEHALF_YES_CONTACT_DATA_OTHER_BEHALF_CONTRACTING_AUTORITHY_', 'CONTRACTING_BODY_ADDRESS_PARTICIPATION_', x))\n",
    "pd13 = pd13.rename(columns=lambda x_ re.sub('FD_CONTRACTING_TYPE_AND_ACTIVITIES_OR_CONTRACTING_AND_PURCHASING_ON_BEHALF_TYPE_AND_ACTIVITIES_TYPE_OF_CONTRACTING_AUTHORITY_', 'CONTRACTING_BODY_', x)) #CONTRACTING_BODY_CA_ACTIVITY_VALUE\n",
    "#pd13 = pd13.rename(columns=lambda x_ re.sub('', 'LEFTI_', x)) #LEFTI_PARTICULAR_PROFESSION_CTYPE\n",
    "pd13 = pd13.rename(columns=lambda x_ re.sub('FD_OBJECT_CONTRACT_INFORMATION_CONTRACT_AWARD_NOTICE_DESCRIPTION_AWARD_NOTICE_INFORMATION_', 'OBJECT_CONTRACT_', x))  #OBJECT_CONTRACT_CPV_MAIN_CPV_CODE_CODE\n",
    "#pd13 = pd13.rename(columns=lambda x_ re.sub('', 'OBJECT_CONTRACT_OBJECT_DESCR_', x)) #OBJECT_CONTRACT_OBJECT_DESCR_CPV_ADDITIONAL\n",
    "pd13 = pd13.rename(columns=lambda x_ re.sub('FD_AWARD_OF_CONTRACT_', 'OBJECT_CONTRACT_', x)) #OBJECT_CONTRACT_TITLE\n",
    "#pd13 = pd13.rename(columns=lambda x_ re.sub('', 'PROCEDURE_', x)) #PROCEDURE_DATE_RECEIPT_TENDERS\n",
    "pd13 = pd13.rename(columns=lambda x_ re.sub('FD_OBJECT_TITLE_P', 'OBJECT_CONTRACT_OBJECT_DESCR_TITLE', x))\n",
    "pd13 = pd13.rename(columns=lambda x_ re.sub('FD_OBJECT_DESCRIPTION', 'OBJECT_CONTRACT_OBJECT_DESCR_SHORT_DESCR', x))\n",
    "pd13 = pd13.rename(columns=lambda x_ re.sub('AWARD_CONTRACT_PRIZE_VALUE_CURRENCY', 'OBJECT_CONTRACT_VAL_TOTAL_CURRENCY', x))\n",
    "pd13 = pd13.rename(columns=lambda x_ re.sub('AWARD_CONTRACT_PRIZE_VALUE_text', 'OBJECT_CONTRACT_VAL_TOTAL_text', x))\n",
    "pd13 = pd13.rename(columns=lambda x_ re.sub('FD_CONTRACTING_NAME_ADDRESSES_CONTACT_INTERNET_ADDRESSES_URL_GENERAL', 'CONTRACTING_BODY_ADDRESS_FURTHER_INFO_URL_GENERAL', x))\n",
    "pd13 = pd13.rename(columns=lambda x_ re.sub('AWARD_CONTRACT_CONTEST_TITLE', 'AWARD_CONTRACT_TITLE', x))\n",
    "#pd13 = pd13.rename(columns=lambda x_ re.sub('', 'AWARD_CONTRACT_LOT_NO', x))\n",
    "pd13 = pd13.rename(columns=lambda x_ re.sub('FD_COMPLEMENTARY_INFORMATION_ADDITIONAL_INFORMATION', 'COMPLEMENTARY_INFO_INFO_ADD', x)) \n",
    "pd13 = pd13.rename(columns=lambda x_ re.sub('FD_PROCEDURES_FILE_REFERENCE_NUMBER', 'OBJECT_CONTRACT_REFERENCE_NUMBER', x)) \n",
    "pd13 = pd13.rename(columns=lambda x_ re.sub('FD_CONTRACTING_TYPE_AND_ACTIVITIES_OR_CONTRACTING_AND_PURCHASING_ON_BEHALF_TYPE_AND_ACTIVITIES_', 'FD_CONTRACTING_TYPE_AND_ACTIVITIES_AND_PURCHASING_ON_BEHALF_TYPE_AND_ACTIVITIES_', x))"
   ]
  },
  {
   "cell_type": "code",
   "execution_count": null,
   "id": "f4728aa5-fe12-499e-94fc-a140a1b832f9",
   "metadata": {},
   "outputs": [],
   "source": [
    "pd13.info()"
   ]
  },
  {
   "cell_type": "code",
   "execution_count": null,
   "id": "ad8f36ed-9e8b-479e-9137-7ed383af803e",
   "metadata": {},
   "outputs": [],
   "source": [
    "\"\"\"\n",
    "pd13 = pd13.rename(columns=lambda x_ re.sub('FD_OBJECT_TITLE_P', 'FD_AWARD_OF_CONTRACT', x))\n",
    "pd13 = pd13.rename(columns=lambda x_ re.sub('FD_AWARD_OF_CONTRACT_ECONOMIC_OPERATOR_NAME_ADDRESS_', 'ECONOMIC_OPERATOR_NAME_ADDRESS_', x))\n",
    "#pd13 = pd13.rename(columns=lambda x_ re.sub('FD_AWARD_OF_CONTRACT_CONTRACT_LIKELY_SUB_CONTRACTED_', 'FD_AWARD_OF_CONTRACT_MORE_INFORMATION_TO_SUB_CONTRACTED_CONTRACT_LIKELY_SUB_CONTRACTED_', x))\n",
    "#pd13 = pd13.rename(columns=lambda x_ re.sub('DATE_OF_CONTRACT_AWARD_', 'CONTRACT_AWARD_DATE_', x))\n",
    "pd13 = pd13.rename(columns=lambda x_ re.sub('FD_AWARD_OF_CONTRACT_PRIZE_VALUE_', 'FD_AWARD_OF_CONTRACT_CONTRACT_VALUE_INFORMATION_COSTS_RANGE_AND_CURRENCY_WITH_VAT_RATE_', x))\n",
    "pd13 = pd13.rename(columns=lambda x_ re.sub('FD_AWARD_OF_CONTRACT_CONTEST_NUMBER', 'CONTRACT_NUMBER', x))\n",
    "#pd13 = pd13.rename(columns=lambda x_ re.sub('FD_COMPLEMENTARY_INFORMATION_APPEAL_PROCEDURES_RESPONSIBLE_FOR_MEDIATION_PROCEDURES_', 'FD_COMPLEMENTARY_INFORMATION_PROCEDURES_FOR_APPEAL_MEDIATION_PROCEDURE_BODY_RESPONSIBLE_', x))\n",
    "pd13 = pd13.rename(columns=lambda x_ re.sub('FD_CONTRACTING_NAME_ADDRESSES_CONTACT_CA_CE_CONCESSIONAIRE_PROFILE_ADDRESS_', 'FD_CONTRACTING_NAME_ADDRESSES_CONTACT_CA_CE_CONCESSIONAIRE_PROFILE_', x))\n",
    "pd13 = pd13.rename(columns=lambda x_ re.sub('FD_CONTRACTING_TYPE_AND_ACTIVITIES_OR_CONTRACTING_AND_PURCHASING_ON_BEHALF_PURCHASING_ON_BEHALF_PURCHASING_ON_BEHALF_YES_CONTACT_DATA_OTHER_BEHALF_CONTRACTING_AUTORITHY_', 'FD_CONTRACTING_TYPE_AND_ACTIVITIES_AND_PURCHASING_ON_BEHALF_PURCHASING_ON_BEHALF_PURCHASING_ON_BEHALF_YES_CONTACT_DATA_OTHER_BEHALF_CONTRACTING_AUTORITHY_', x))\n",
    "#pd13 = pd13.rename(columns=lambda x_ re.sub('FD_OBJECT_DESCRIPTION_', 'FD_OBJECT_CONTRACT_INFORMATION_CONTRACT_AWARD_NOTICE_DESCRIPTION_AWARD_NOTICE_INFORMATION_', x))\n",
    "pd13 = pd13.rename(columns=lambda x_ re.sub('FD_OBJECT_COSTS_RANGE_AND_CURRENCY_WITH_VAT_RATE_', 'FD_OBJECT_CONTRACT_INFORMATION_CONTRACT_AWARD_NOTICE_TOTAL_FINAL_VALUE_COSTS_RANGE_AND_CURRENCY_WITH_VAT_RATE_', x))\n",
    "pd13 = pd13.rename(columns=lambda x_ re.sub('FD_AWARD_OF_CONTRACT_CONTEST_TITLE', 'FD_AWARD_OF_CONTRACT_CONTRACT_TITLE', x))\n",
    "pd13 = pd13.rename(columns=lambda x_ re.sub('FD_COMPLEMENTARY_INFORMATION_APPEAL_PROCEDURES_RESPONSIBLE_FOR_APPEAL_PROCEDURES_', 'FD_COMPLEMENTARY_INFORMATION_PROCEDURES_FOR_APPEAL_APPEAL_PROCEDURE_BODY_RESPONSIBLE_', x))\n",
    "\"\"\""
   ]
  },
  {
   "cell_type": "code",
   "execution_count": null,
   "id": "fd1d9e94-d81d-4d9f-91cd-cc95b94bb6a8",
   "metadata": {},
   "outputs": [],
   "source": [
    "#pd13.info()"
   ]
  },
  {
   "cell_type": "code",
   "execution_count": null,
   "id": "14c99381-d15c-466a-af16-e14fe1457b49",
   "metadata": {},
   "outputs": [],
   "source": [
    "fd13 = pd13.to_spark()"
   ]
  },
  {
   "cell_type": "code",
   "execution_count": null,
   "id": "2448e7c3-a5a6-4377-a3ed-a29424ad1063",
   "metadata": {},
   "outputs": [],
   "source": [
    "\"\"\"\n",
    "fd13 = fd13.withColumn(\"FD_COMPLEMENTARY_INFORMATION_NOTICE_DISPATCH_DATE\", expr(\"make_date(`FD_COMPLEMENTARY_INFORMATION_NOTICE_DISPATCH_DATE.YEAR`, `FD_COMPLEMENTARY_INFORMATION_NOTICE_DISPATCH_DATE.MONTH`, `FD_COMPLEMENTARY_INFORMATION_NOTICE_DISPATCH_DATE.DAY`)\"))\n",
    "fd13 = fd13.withColumn(\"FD_PROCEDURES_PREVIOUS_PUBLICATION_OJ.DATE_OJ\", expr(\"make_date(`FD_PROCEDURES_PREVIOUS_PUBLICATION_OJ.DATE_OJ.YEAR`, `FD_PROCEDURES_PREVIOUS_PUBLICATION_OJ.DATE_OJ.MONTH`, `FD_PROCEDURES_PREVIOUS_PUBLICATION_OJ.DATE_OJ.DAY`)\"))\n",
    "\n",
    "\"\"\""
   ]
  },
  {
   "cell_type": "code",
   "execution_count": null,
   "id": "e5143bda-81c8-4b84-a188-4d10860439ee",
   "metadata": {},
   "outputs": [],
   "source": [
    "#fd13.printSchema()"
   ]
  },
  {
   "cell_type": "code",
   "execution_count": null,
   "id": "6d477c51-5042-4fc1-9b1b-fa2871f770fe",
   "metadata": {},
   "outputs": [],
   "source": [
    "\"\"\"\n",
    "pd13 = fd13.to_pandas_on_spark()\n",
    "\n",
    "pd13.info()\n",
    "\"\"\""
   ]
  },
  {
   "cell_type": "code",
   "execution_count": null,
   "id": "802288b0-335d-4514-83e1-9d27cecefb11",
   "metadata": {},
   "outputs": [],
   "source": [
    "\"\"\"\n",
    "pd13 = pd13.drop(columns=['FD_COMPLEMENTARY_INFORMATION_NOTICE_DISPATCH_DATE.DAY', 'FD_COMPLEMENTARY_INFORMATION_NOTICE_DISPATCH_DATE.MONTH', 'FD_COMPLEMENTARY_INFORMATION_NOTICE_DISPATCH_DATE.YEAR'])\n",
    "pd13 = pd13.drop(columns=['FD_PROCEDURES_PREVIOUS_PUBLICATION_OJ.DATE_OJ.DAY', 'FD_PROCEDURES_PREVIOUS_PUBLICATION_OJ.DATE_OJ.MONTH', 'FD_PROCEDURES_PREVIOUS_PUBLICATION_OJ.DATE_OJ.YEAR'])\n",
    "\"\"\""
   ]
  },
  {
   "cell_type": "code",
   "execution_count": null,
   "id": "b06253fd-064b-483f-9c1f-cb3b717cf66d",
   "metadata": {},
   "outputs": [],
   "source": [
    "#pd13.info()"
   ]
  },
  {
   "cell_type": "code",
   "execution_count": null,
   "id": "31715994-7aaf-4f23-8d5e-6a305d5a9e16",
   "metadata": {},
   "outputs": [],
   "source": [
    "#pd13[\"FD_COMPLEMENTARY_INFORMATION_NOTICE_DISPATCH_DATE\"]= ps.to_datetime(pd13[\"FD_COMPLEMENTARY_INFORMATION_NOTICE_DISPATCH_DATE\"])\n",
    "#pd13[\"FD_PROCEDURES_PREVIOUS_PUBLICATION_OJ.DATE_OJ\"]= ps.to_datetime(pd13[\"FD_PROCEDURES_PREVIOUS_PUBLICATION_OJ.DATE_OJ\"])"
   ]
  },
  {
   "cell_type": "code",
   "execution_count": null,
   "id": "3212c232-93aa-42db-bbb3-6216e0a55fce",
   "metadata": {},
   "outputs": [],
   "source": [
    "#pd13.info() "
   ]
  },
  {
   "cell_type": "code",
   "execution_count": null,
   "id": "8fdf6477-52bb-4bb4-b634-0bebe16e0f98",
   "metadata": {},
   "outputs": [],
   "source": [
    "#pd13['DOFFIN_APPENDIX.DOFFIN_FORM_TYPE.NATIONAL.REFERENCE_SECTION.REFERENCE_DOFFIN.TYPE'].unique()"
   ]
  },
  {
   "cell_type": "code",
   "execution_count": null,
   "id": "4519636a-b465-4381-82b8-5c151f027b54",
   "metadata": {},
   "outputs": [],
   "source": [
    "#fd13 = pd13.to_spark()"
   ]
  },
  {
   "cell_type": "code",
   "execution_count": null,
   "id": "23c64510-6326-4125-8713-939a4346e580",
   "metadata": {},
   "outputs": [],
   "source": [
    "#fd13.write.parquet(\"s3a_//falk2210/fd13_210921.parquet\")"
   ]
  },
  {
   "cell_type": "code",
   "execution_count": null,
   "id": "a286daca-188f-4ac9-8bfc-64823d37f714",
   "metadata": {},
   "outputs": [],
   "source": [
    "fd13.write.mode(\"append\").json(\"falk2210/f_award.json\")"
   ]
  },
  {
   "cell_type": "markdown",
   "id": "f8e91cd7-95cc-41ee-bcbf-b9e655d34086",
   "metadata": {
    "tags": []
   },
   "source": [
    "# 14 ADDITIONAL_INFORMATION_CORRIGENDUM "
   ]
  },
  {
   "cell_type": "markdown",
   "id": "9f8c98a8-95ae-44c6-aac4-e5c8b7e3a979",
   "metadata": {},
   "source": [
    "<a id='d14' />"
   ]
  },
  {
   "cell_type": "code",
   "execution_count": null,
   "id": "cc169e5c-b5bd-465d-8a76-a47c84cbaf34",
   "metadata": {},
   "outputs": [],
   "source": [
    "d14 = spark.read.json(\"falk/14.json/*.json\")\n",
    "#d14.printSchema()"
   ]
  },
  {
   "cell_type": "code",
   "execution_count": null,
   "id": "605990d8-9f56-43b6-adf2-52b82daab678",
   "metadata": {},
   "outputs": [],
   "source": [
    "pd14 = d14.to_pandas_on_spark()"
   ]
  },
  {
   "cell_type": "code",
   "execution_count": null,
   "id": "a299e370-b303-4a5c-aafb-8c0106f61585",
   "metadata": {},
   "outputs": [],
   "source": [
    "pd14 = pd14.rename(columns=lambda x_ re.sub('DOFFIN_ESENDERS_VERSION', 'DOFFIN_VERSION', x))\n",
    "#pd14.info()"
   ]
  },
  {
   "cell_type": "code",
   "execution_count": null,
   "id": "3a235df8-7016-4f9a-a7be-fec592b32d30",
   "metadata": {},
   "outputs": [],
   "source": [
    "pd14 = pd14.rename(columns=lambda x_ re.sub('DOFFIN_ESENDERS_', '', x))\n",
    "\n",
    "pd14 = pd14.rename(columns=lambda x_ re.sub('FORM_SECTION_', '', x))\n",
    "#pd14.info()"
   ]
  },
  {
   "cell_type": "code",
   "execution_count": null,
   "id": "fdc7e808-b218-4c57-af34-e106c800b478",
   "metadata": {},
   "outputs": [],
   "source": [
    "pd14 = pd14.rename(columns=lambda x_ re.sub('ADDITIONAL_INFORMATION_CORRIGENDUM_', '', x))\n",
    "#pd14.info()"
   ]
  },
  {
   "cell_type": "code",
   "execution_count": null,
   "id": "6f613c21-3297-46d6-8307-f4f7401b0fb7",
   "metadata": {},
   "outputs": [],
   "source": [
    "#pd14 = pd14.rename(columns=lambda x_ re.sub('_', '_', x))\n",
    "#pd14.info()"
   ]
  },
  {
   "cell_type": "code",
   "execution_count": null,
   "id": "fc0ca64f-d131-44ad-814f-6a5542b1c282",
   "metadata": {},
   "outputs": [],
   "source": [
    "pd14['FD_COMPLEMENTARY_ICAR.NOTICE_INVOLVES_ICAR.CORRECTION_ADDITIONAL_INFO.INFORMATION_CORRECTED_ADDED.ORIGINAL_NOTICE_CORRESPONDING_TENDER.ORIGINAL_NOTICE.CORR.ADD.NEW_VALUE.TEXT'].update(pd14.pop('FD_COMPLEMENTARY_ICAR.NOTICE_INVOLVES_ICAR.CORRECTION_ADDITIONAL_INFO.INFORMATION_CORRECTED_ADDED.ORIGINAL_NOTICE_CORRESPONDING_TENDER.ORIGINAL_NOTICE.CORR.ADD.NEW_VALUE.TEXT.P'))\n",
    "pd14['FD_COMPLEMENTARY_ICAR.NOTICE_INVOLVES_ICAR.CORRECTION_ADDITIONAL_INFO.INFORMATION_CORRECTED_ADDED.ORIGINAL_NOTICE_CORRESPONDING_TENDER.ORIGINAL_NOTICE.CORR.DELETE.OLD_VALUE.TEXT'].update(pd14.pop('FD_COMPLEMENTARY_ICAR.NOTICE_INVOLVES_ICAR.CORRECTION_ADDITIONAL_INFO.INFORMATION_CORRECTED_ADDED.ORIGINAL_NOTICE_CORRESPONDING_TENDER.ORIGINAL_NOTICE.CORR.DELETE.OLD_VALUE.TEXT.P'))\n",
    "pd14['FD_COMPLEMENTARY_ICAR.NOTICE_INVOLVES_ICAR.CORRECTION_ADDITIONAL_INFO.INFORMATION_CORRECTED_ADDED.ORIGINAL_NOTICE_CORRESPONDING_TENDER.ORIGINAL_NOTICE.CORR.REPLACE.NEW_VALUE.TEXT'].update(pd14.pop('FD_COMPLEMENTARY_ICAR.NOTICE_INVOLVES_ICAR.CORRECTION_ADDITIONAL_INFO.INFORMATION_CORRECTED_ADDED.ORIGINAL_NOTICE_CORRESPONDING_TENDER.ORIGINAL_NOTICE.CORR.REPLACE.NEW_VALUE.TEXT.P'))\n",
    "pd14['FD_COMPLEMENTARY_ICAR.NOTICE_INVOLVES_ICAR.CORRECTION_ADDITIONAL_INFO.INFORMATION_CORRECTED_ADDED.ORIGINAL_NOTICE_CORRESPONDING_TENDER.ORIGINAL_NOTICE.CORR.REPLACE.OLD_VALUE.TEXT'].update(pd14.pop('FD_COMPLEMENTARY_ICAR.NOTICE_INVOLVES_ICAR.CORRECTION_ADDITIONAL_INFO.INFORMATION_CORRECTED_ADDED.ORIGINAL_NOTICE_CORRESPONDING_TENDER.ORIGINAL_NOTICE.CORR.REPLACE.OLD_VALUE.TEXT.P'))\n",
    "pd14['FD_COMPLEMENTARY_ICAR.OTHER_ADDITIONAL_INFO'].update(pd14.pop('FD_COMPLEMENTARY_ICAR.OTHER_ADDITIONAL_INFO.P'))\n",
    "pd14['FD_OBJECT_ICAR.DESCRIPTION_ICAR.SHORT_DESCRIPTION_CONTRACT'].update(pd14.pop('FD_OBJECT_ICAR.DESCRIPTION_ICAR.SHORT_DESCRIPTION_CONTRACT.P'))\n",
    "pd14['FD_OBJECT_ICAR.DESCRIPTION_ICAR.TITLE_CONTRACT'].update(pd14.pop('FD_OBJECT_ICAR.DESCRIPTION_ICAR.TITLE_CONTRACT.P'))\n",
    "pd14['FD_PROCEDURES_ICAR.ADMINISTRATIVE_INFORMATION.FILE_REFERENCE_NUMBER'].update(pd14.pop('FD_PROCEDURES_ICAR.ADMINISTRATIVE_INFORMATION.FILE_REFERENCE_NUMBER.P'))"
   ]
  },
  {
   "cell_type": "code",
   "execution_count": null,
   "id": "5b17f80f-03bc-45f0-b8ec-b92225148900",
   "metadata": {},
   "outputs": [],
   "source": [
    "#pd14.info()"
   ]
  },
  {
   "cell_type": "code",
   "execution_count": null,
   "id": "fd714e33-b2f0-403e-a6c8-61ea4e2a53ad",
   "metadata": {},
   "outputs": [],
   "source": [
    "pd14 = pd14.rename(columns=lambda x_ re.sub('\\_P$', '', x))\n",
    "#pd14.info()"
   ]
  },
  {
   "cell_type": "code",
   "execution_count": null,
   "id": "b1bbe15b-2218-4c1c-a8da-e9307403a1ca",
   "metadata": {},
   "outputs": [],
   "source": [
    "fd14 = pd14.to_spark()"
   ]
  },
  {
   "cell_type": "code",
   "execution_count": null,
   "id": "dd262f2d-1d75-45a9-a1f6-0de981ee3560",
   "metadata": {},
   "outputs": [],
   "source": [
    "fd14 = fd14.withColumn(\"FD_COMPLEMENTARY_ICAR.NOTICE_DISPATCH_DATE\", expr(\"make_date(`FD_COMPLEMENTARY_ICAR.NOTICE_DISPATCH_DATE.YEAR`, `FD_COMPLEMENTARY_ICAR.NOTICE_DISPATCH_DATE.MONTH`, `FD_COMPLEMENTARY_ICAR.NOTICE_DISPATCH_DATE.DAY`)\"))\n",
    "fd14 = fd14.withColumn(\"FD_COMPLEMENTARY_ICAR.NOTICE_INVOLVES_ICAR.CORRECTION_ADDITIONAL_INFO.INFORMATION_CORRECTED_ADDED.ORIGINAL_NOTICE_CORRESPONDING_TENDER.ORIGINAL_NOTICE.CORR.ADD.NEW_VALUE.DATE_TIME\", expr(\"make_date(`FD_COMPLEMENTARY_ICAR.NOTICE_INVOLVES_ICAR.CORRECTION_ADDITIONAL_INFO.INFORMATION_CORRECTED_ADDED.ORIGINAL_NOTICE_CORRESPONDING_TENDER.ORIGINAL_NOTICE.CORR.ADD.NEW_VALUE.DATE_TIME.YEAR`, `FD_COMPLEMENTARY_ICAR.NOTICE_INVOLVES_ICAR.CORRECTION_ADDITIONAL_INFO.INFORMATION_CORRECTED_ADDED.ORIGINAL_NOTICE_CORRESPONDING_TENDER.ORIGINAL_NOTICE.CORR.ADD.NEW_VALUE.DATE_TIME.MONTH`, `FD_COMPLEMENTARY_ICAR.NOTICE_INVOLVES_ICAR.CORRECTION_ADDITIONAL_INFO.INFORMATION_CORRECTED_ADDED.ORIGINAL_NOTICE_CORRESPONDING_TENDER.ORIGINAL_NOTICE.CORR.ADD.NEW_VALUE.DATE_TIME.DAY`)\"))\n",
    "fd14 = fd14.withColumn(\"FD_COMPLEMENTARY_ICAR.NOTICE_INVOLVES_ICAR.CORRECTION_ADDITIONAL_INFO.INFORMATION_CORRECTED_ADDED.ORIGINAL_NOTICE_CORRESPONDING_TENDER.ORIGINAL_NOTICE.CORR.DELETE.OLD_VALUE.DATE_TIME\", expr(\"make_date(`FD_COMPLEMENTARY_ICAR.NOTICE_INVOLVES_ICAR.CORRECTION_ADDITIONAL_INFO.INFORMATION_CORRECTED_ADDED.ORIGINAL_NOTICE_CORRESPONDING_TENDER.ORIGINAL_NOTICE.CORR.DELETE.OLD_VALUE.DATE_TIME.YEAR`, `FD_COMPLEMENTARY_ICAR.NOTICE_INVOLVES_ICAR.CORRECTION_ADDITIONAL_INFO.INFORMATION_CORRECTED_ADDED.ORIGINAL_NOTICE_CORRESPONDING_TENDER.ORIGINAL_NOTICE.CORR.DELETE.OLD_VALUE.DATE_TIME.MONTH`, `FD_COMPLEMENTARY_ICAR.NOTICE_INVOLVES_ICAR.CORRECTION_ADDITIONAL_INFO.INFORMATION_CORRECTED_ADDED.ORIGINAL_NOTICE_CORRESPONDING_TENDER.ORIGINAL_NOTICE.CORR.DELETE.OLD_VALUE.DATE_TIME.DAY`)\"))\n",
    "fd14 = fd14.withColumn(\"FD_COMPLEMENTARY_ICAR.NOTICE_INVOLVES_ICAR.CORRECTION_ADDITIONAL_INFO.INFORMATION_CORRECTED_ADDED.ORIGINAL_NOTICE_CORRESPONDING_TENDER.ORIGINAL_NOTICE.CORR.REPLACE.NEW_VALUE.DATE_TIME\", expr(\"make_date(`FD_COMPLEMENTARY_ICAR.NOTICE_INVOLVES_ICAR.CORRECTION_ADDITIONAL_INFO.INFORMATION_CORRECTED_ADDED.ORIGINAL_NOTICE_CORRESPONDING_TENDER.ORIGINAL_NOTICE.CORR.REPLACE.NEW_VALUE.DATE_TIME.YEAR`, `FD_COMPLEMENTARY_ICAR.NOTICE_INVOLVES_ICAR.CORRECTION_ADDITIONAL_INFO.INFORMATION_CORRECTED_ADDED.ORIGINAL_NOTICE_CORRESPONDING_TENDER.ORIGINAL_NOTICE.CORR.REPLACE.NEW_VALUE.DATE_TIME.MONTH`, `FD_COMPLEMENTARY_ICAR.NOTICE_INVOLVES_ICAR.CORRECTION_ADDITIONAL_INFO.INFORMATION_CORRECTED_ADDED.ORIGINAL_NOTICE_CORRESPONDING_TENDER.ORIGINAL_NOTICE.CORR.REPLACE.NEW_VALUE.DATE_TIME.DAY`)\"))\n",
    "fd14 = fd14.withColumn(\"FD_COMPLEMENTARY_ICAR.NOTICE_INVOLVES_ICAR.CORRECTION_ADDITIONAL_INFO.INFORMATION_CORRECTED_ADDED.ORIGINAL_NOTICE_CORRESPONDING_TENDER.ORIGINAL_NOTICE.CORR.REPLACE.OLD_VALUE.DATE_TIME\", expr(\"make_date(`FD_COMPLEMENTARY_ICAR.NOTICE_INVOLVES_ICAR.CORRECTION_ADDITIONAL_INFO.INFORMATION_CORRECTED_ADDED.ORIGINAL_NOTICE_CORRESPONDING_TENDER.ORIGINAL_NOTICE.CORR.REPLACE.OLD_VALUE.DATE_TIME.YEAR`, `FD_COMPLEMENTARY_ICAR.NOTICE_INVOLVES_ICAR.CORRECTION_ADDITIONAL_INFO.INFORMATION_CORRECTED_ADDED.ORIGINAL_NOTICE_CORRESPONDING_TENDER.ORIGINAL_NOTICE.CORR.REPLACE.OLD_VALUE.DATE_TIME.MONTH`, `FD_COMPLEMENTARY_ICAR.NOTICE_INVOLVES_ICAR.CORRECTION_ADDITIONAL_INFO.INFORMATION_CORRECTED_ADDED.ORIGINAL_NOTICE_CORRESPONDING_TENDER.ORIGINAL_NOTICE.CORR.REPLACE.OLD_VALUE.DATE_TIME.DAY`)\"))\n",
    "fd14 = fd14.withColumn(\"FD_PROCEDURES_ICAR.ADMINISTRATIVE_INFORMATION.NOTICE_PUBLICATION.DATE_OJ\", expr(\"make_date(`FD_PROCEDURES_ICAR.ADMINISTRATIVE_INFORMATION.NOTICE_PUBLICATION.DATE_OJ.YEAR`, `FD_PROCEDURES_ICAR.ADMINISTRATIVE_INFORMATION.NOTICE_PUBLICATION.DATE_OJ.MONTH`, `FD_PROCEDURES_ICAR.ADMINISTRATIVE_INFORMATION.NOTICE_PUBLICATION.DATE_OJ.DAY`)\"))\n",
    "fd14 = fd14.withColumn(\"FD_PROCEDURES_ICAR.ADMINISTRATIVE_INFORMATION.ORIGINAL_DISPATCH_DATE\", expr(\"make_date(`FD_PROCEDURES_ICAR.ADMINISTRATIVE_INFORMATION.ORIGINAL_DISPATCH_DATE.YEAR`, `FD_PROCEDURES_ICAR.ADMINISTRATIVE_INFORMATION.ORIGINAL_DISPATCH_DATE.MONTH`, `FD_PROCEDURES_ICAR.ADMINISTRATIVE_INFORMATION.ORIGINAL_DISPATCH_DATE.DAY`)\"))"
   ]
  },
  {
   "cell_type": "code",
   "execution_count": null,
   "id": "6ba123d7-9ab5-4fd3-b7ce-0743e4b134c2",
   "metadata": {},
   "outputs": [],
   "source": [
    "fd14.printSchema()"
   ]
  },
  {
   "cell_type": "code",
   "execution_count": null,
   "id": "212e1acc-1319-4a9c-ae47-2a8ea94b8f48",
   "metadata": {},
   "outputs": [],
   "source": [
    "pd14 = fd14.to_pandas_on_spark()\n",
    "\n",
    "pd14.info()"
   ]
  },
  {
   "cell_type": "code",
   "execution_count": null,
   "id": "e835a59c-546b-4ab9-a279-18092f734ba7",
   "metadata": {},
   "outputs": [],
   "source": [
    "pd14 = pd14.drop(columns=['FD_COMPLEMENTARY_ICAR.NOTICE_DISPATCH_DATE.DAY', 'FD_COMPLEMENTARY_ICAR.NOTICE_DISPATCH_DATE.MONTH', 'FD_COMPLEMENTARY_ICAR.NOTICE_DISPATCH_DATE.YEAR'])\n",
    "pd14 = pd14.drop(columns=['FD_COMPLEMENTARY_ICAR.NOTICE_INVOLVES_ICAR.CORRECTION_ADDITIONAL_INFO.INFORMATION_CORRECTED_ADDED.ORIGINAL_NOTICE_CORRESPONDING_TENDER.ORIGINAL_NOTICE.CORR.ADD.NEW_VALUE.DATE_TIME.DAY', 'FD_COMPLEMENTARY_ICAR.NOTICE_INVOLVES_ICAR.CORRECTION_ADDITIONAL_INFO.INFORMATION_CORRECTED_ADDED.ORIGINAL_NOTICE_CORRESPONDING_TENDER.ORIGINAL_NOTICE.CORR.ADD.NEW_VALUE.DATE_TIME.MONTH', 'FD_COMPLEMENTARY_ICAR.NOTICE_INVOLVES_ICAR.CORRECTION_ADDITIONAL_INFO.INFORMATION_CORRECTED_ADDED.ORIGINAL_NOTICE_CORRESPONDING_TENDER.ORIGINAL_NOTICE.CORR.ADD.NEW_VALUE.DATE_TIME.YEAR'])\n",
    "pd14 = pd14.drop(columns=['FD_COMPLEMENTARY_ICAR.NOTICE_INVOLVES_ICAR.CORRECTION_ADDITIONAL_INFO.INFORMATION_CORRECTED_ADDED.ORIGINAL_NOTICE_CORRESPONDING_TENDER.ORIGINAL_NOTICE.CORR.DELETE.OLD_VALUE.DATE_TIME.DAY', 'FD_COMPLEMENTARY_ICAR.NOTICE_INVOLVES_ICAR.CORRECTION_ADDITIONAL_INFO.INFORMATION_CORRECTED_ADDED.ORIGINAL_NOTICE_CORRESPONDING_TENDER.ORIGINAL_NOTICE.CORR.DELETE.OLD_VALUE.DATE_TIME.MONTH', 'FD_COMPLEMENTARY_ICAR.NOTICE_INVOLVES_ICAR.CORRECTION_ADDITIONAL_INFO.INFORMATION_CORRECTED_ADDED.ORIGINAL_NOTICE_CORRESPONDING_TENDER.ORIGINAL_NOTICE.CORR.DELETE.OLD_VALUE.DATE_TIME.YEAR'])\n",
    "pd14 = pd14.drop(columns=['FD_COMPLEMENTARY_ICAR.NOTICE_INVOLVES_ICAR.CORRECTION_ADDITIONAL_INFO.INFORMATION_CORRECTED_ADDED.ORIGINAL_NOTICE_CORRESPONDING_TENDER.ORIGINAL_NOTICE.CORR.REPLACE.NEW_VALUE.DATE_TIME.DAY', 'FD_COMPLEMENTARY_ICAR.NOTICE_INVOLVES_ICAR.CORRECTION_ADDITIONAL_INFO.INFORMATION_CORRECTED_ADDED.ORIGINAL_NOTICE_CORRESPONDING_TENDER.ORIGINAL_NOTICE.CORR.REPLACE.NEW_VALUE.DATE_TIME.MONTH', 'FD_COMPLEMENTARY_ICAR.NOTICE_INVOLVES_ICAR.CORRECTION_ADDITIONAL_INFO.INFORMATION_CORRECTED_ADDED.ORIGINAL_NOTICE_CORRESPONDING_TENDER.ORIGINAL_NOTICE.CORR.REPLACE.NEW_VALUE.DATE_TIME.YEAR'])\n",
    "pd14 = pd14.drop(columns=['FD_COMPLEMENTARY_ICAR.NOTICE_INVOLVES_ICAR.CORRECTION_ADDITIONAL_INFO.INFORMATION_CORRECTED_ADDED.ORIGINAL_NOTICE_CORRESPONDING_TENDER.ORIGINAL_NOTICE.CORR.REPLACE.OLD_VALUE.DATE_TIME.DAY', 'FD_COMPLEMENTARY_ICAR.NOTICE_INVOLVES_ICAR.CORRECTION_ADDITIONAL_INFO.INFORMATION_CORRECTED_ADDED.ORIGINAL_NOTICE_CORRESPONDING_TENDER.ORIGINAL_NOTICE.CORR.REPLACE.OLD_VALUE.DATE_TIME.MONTH', 'FD_COMPLEMENTARY_ICAR.NOTICE_INVOLVES_ICAR.CORRECTION_ADDITIONAL_INFO.INFORMATION_CORRECTED_ADDED.ORIGINAL_NOTICE_CORRESPONDING_TENDER.ORIGINAL_NOTICE.CORR.REPLACE.OLD_VALUE.DATE_TIME.YEAR'])\n",
    "pd14 = pd14.drop(columns=['FD_PROCEDURES_ICAR.ADMINISTRATIVE_INFORMATION.NOTICE_PUBLICATION.DATE_OJ.DAY', 'FD_PROCEDURES_ICAR.ADMINISTRATIVE_INFORMATION.NOTICE_PUBLICATION.DATE_OJ.MONTH', 'FD_PROCEDURES_ICAR.ADMINISTRATIVE_INFORMATION.NOTICE_PUBLICATION.DATE_OJ.YEAR'])\n",
    "pd14 = pd14.drop(columns=['FD_PROCEDURES_ICAR.ADMINISTRATIVE_INFORMATION.ORIGINAL_DISPATCH_DATE.DAY', 'FD_PROCEDURES_ICAR.ADMINISTRATIVE_INFORMATION.ORIGINAL_DISPATCH_DATE.MONTH', 'FD_PROCEDURES_ICAR.ADMINISTRATIVE_INFORMATION.ORIGINAL_DISPATCH_DATE.YEAR'])"
   ]
  },
  {
   "cell_type": "code",
   "execution_count": null,
   "id": "f3208172-5bd0-402e-9e57-20385be94d18",
   "metadata": {},
   "outputs": [],
   "source": [
    "pd14.info()"
   ]
  },
  {
   "cell_type": "code",
   "execution_count": null,
   "id": "d51ecf92-2bbd-4a68-af76-26c9b781d43a",
   "metadata": {},
   "outputs": [],
   "source": [
    "pd14[\"FD_COMPLEMENTARY_ICAR.NOTICE_DISPATCH_DATE\"]= ps.to_datetime(pd14[\"FD_COMPLEMENTARY_ICAR.NOTICE_DISPATCH_DATE\"])\n",
    "pd14[\"FD_COMPLEMENTARY_ICAR.NOTICE_INVOLVES_ICAR.CORRECTION_ADDITIONAL_INFO.INFORMATION_CORRECTED_ADDED.ORIGINAL_NOTICE_CORRESPONDING_TENDER.ORIGINAL_NOTICE.CORR.ADD.NEW_VALUE.DATE_TIME\"]= ps.to_datetime(pd14[\"FD_COMPLEMENTARY_ICAR.NOTICE_INVOLVES_ICAR.CORRECTION_ADDITIONAL_INFO.INFORMATION_CORRECTED_ADDED.ORIGINAL_NOTICE_CORRESPONDING_TENDER.ORIGINAL_NOTICE.CORR.ADD.NEW_VALUE.DATE_TIME\"])\n",
    "pd14[\"FD_COMPLEMENTARY_ICAR.NOTICE_INVOLVES_ICAR.CORRECTION_ADDITIONAL_INFO.INFORMATION_CORRECTED_ADDED.ORIGINAL_NOTICE_CORRESPONDING_TENDER.ORIGINAL_NOTICE.CORR.DELETE.OLD_VALUE.DATE_TIME\"]= ps.to_datetime(pd14[\"FD_COMPLEMENTARY_ICAR.NOTICE_INVOLVES_ICAR.CORRECTION_ADDITIONAL_INFO.INFORMATION_CORRECTED_ADDED.ORIGINAL_NOTICE_CORRESPONDING_TENDER.ORIGINAL_NOTICE.CORR.DELETE.OLD_VALUE.DATE_TIME\"])\n",
    "pd14[\"FD_COMPLEMENTARY_ICAR.NOTICE_INVOLVES_ICAR.CORRECTION_ADDITIONAL_INFO.INFORMATION_CORRECTED_ADDED.ORIGINAL_NOTICE_CORRESPONDING_TENDER.ORIGINAL_NOTICE.CORR.REPLACE.NEW_VALUE.DATE_TIME\"]= ps.to_datetime(pd14[\"FD_COMPLEMENTARY_ICAR.NOTICE_INVOLVES_ICAR.CORRECTION_ADDITIONAL_INFO.INFORMATION_CORRECTED_ADDED.ORIGINAL_NOTICE_CORRESPONDING_TENDER.ORIGINAL_NOTICE.CORR.REPLACE.NEW_VALUE.DATE_TIME\"])\n",
    "pd14[\"FD_COMPLEMENTARY_ICAR.NOTICE_INVOLVES_ICAR.CORRECTION_ADDITIONAL_INFO.INFORMATION_CORRECTED_ADDED.ORIGINAL_NOTICE_CORRESPONDING_TENDER.ORIGINAL_NOTICE.CORR.REPLACE.OLD_VALUE.DATE_TIME\"]= ps.to_datetime(pd14[\"FD_COMPLEMENTARY_ICAR.NOTICE_INVOLVES_ICAR.CORRECTION_ADDITIONAL_INFO.INFORMATION_CORRECTED_ADDED.ORIGINAL_NOTICE_CORRESPONDING_TENDER.ORIGINAL_NOTICE.CORR.REPLACE.OLD_VALUE.DATE_TIME\"])\n",
    "pd14[\"FD_PROCEDURES_ICAR.ADMINISTRATIVE_INFORMATION.NOTICE_PUBLICATION.DATE_OJ\"]= ps.to_datetime(pd14[\"FD_PROCEDURES_ICAR.ADMINISTRATIVE_INFORMATION.NOTICE_PUBLICATION.DATE_OJ\"])\n",
    "pd14[\"FD_PROCEDURES_ICAR.ADMINISTRATIVE_INFORMATION.ORIGINAL_DISPATCH_DATE\"]= ps.to_datetime(pd14[\"FD_PROCEDURES_ICAR.ADMINISTRATIVE_INFORMATION.ORIGINAL_DISPATCH_DATE\"])"
   ]
  },
  {
   "cell_type": "code",
   "execution_count": null,
   "id": "0b23fdfc-2496-4fd3-9471-a037b18bd04a",
   "metadata": {},
   "outputs": [],
   "source": [
    "pd14.info() "
   ]
  },
  {
   "cell_type": "code",
   "execution_count": null,
   "id": "45b91f4b-ddd4-483d-bafd-f5cdc9626955",
   "metadata": {},
   "outputs": [],
   "source": [
    "fd14 = pd14.to_spark()\n",
    "\n",
    "fd14.write.parquet(\"s3a_//falk2210/fd14_210921.parquet\")"
   ]
  },
  {
   "cell_type": "markdown",
   "id": "fff703e9-e9ee-4533-8a80-7f28da9ad0cd",
   "metadata": {
    "tags": []
   },
   "source": [
    "# 15 Award "
   ]
  },
  {
   "cell_type": "markdown",
   "id": "1f1d45e0-1547-4d76-b4d4-a2c42779591c",
   "metadata": {},
   "source": [
    "<a id='d15' />"
   ]
  },
  {
   "cell_type": "code",
   "execution_count": null,
   "id": "53185102-efa5-465a-a16d-73ae117ec810",
   "metadata": {},
   "outputs": [],
   "source": [
    "d15 = spark.read.json(\"falk/15.json/*.json\")\n",
    "#d15.printSchema()"
   ]
  },
  {
   "cell_type": "code",
   "execution_count": null,
   "id": "5bf46ad5-9dc8-4620-a78d-4c82b74c2c25",
   "metadata": {},
   "outputs": [],
   "source": [
    "pd15 = d15.to_pandas_on_spark()"
   ]
  },
  {
   "cell_type": "code",
   "execution_count": null,
   "id": "79376e74-97e0-4a69-9096-b1daf65ebd9b",
   "metadata": {},
   "outputs": [],
   "source": [
    "pd15 = pd15.rename(columns=lambda x_ re.sub('DOFFIN_ESENDERS_VERSION', 'DOFFIN_VERSION', x))\n",
    "#pd15.info()"
   ]
  },
  {
   "cell_type": "code",
   "execution_count": null,
   "id": "ab312b70-cb5e-4bc0-8408-99733fd68d39",
   "metadata": {},
   "outputs": [],
   "source": [
    "pd15 = pd15.rename(columns=lambda x_ re.sub('DOFFIN_ESENDERS_', '', x))\n",
    "\n",
    "pd15 = pd15.rename(columns=lambda x_ re.sub('FORM_SECTION_', '', x))\n",
    "#pd15.info()"
   ]
  },
  {
   "cell_type": "code",
   "execution_count": null,
   "id": "dd6e1c71-24d2-4072-b866-3185a808b794",
   "metadata": {},
   "outputs": [],
   "source": [
    "pd15 = pd15.rename(columns=lambda x_ re.sub('VOLUNTARY_EX_ANTE_TRANSPARENCY_NOTICE_', '', x))\n",
    "#pd15.info()"
   ]
  },
  {
   "cell_type": "code",
   "execution_count": null,
   "id": "2b55afaf-4455-4b02-bd99-d5cc12b1f54b",
   "metadata": {},
   "outputs": [],
   "source": [
    "pd15['FD_AWARD_OF_CONTRACT_DEFENCE_CONTRACT_TITLE'].update(pd15.pop('FD_AWARD_OF_CONTRACT_DEFENCE_CONTRACT_TITLE_P'))\n",
    "pd15['FD_COMPLEMENTARY_INFORMATION_VEAT_ADDITIONAL_INFORMATION'].update(pd15.pop('FD_COMPLEMENTARY_INFORMATION_VEAT_ADDITIONAL_INFORMATION_P'))\n",
    "pd15['FD_COMPLEMENTARY_INFORMATION_VEAT_PROCEDURES_FOR_APPEAL_LODGING_OF_APPEALS_LODGING_OF_APPEALS_PRECISION'].update(pd15.pop('FD_COMPLEMENTARY_INFORMATION_VEAT_PROCEDURES_FOR_APPEAL_LODGING_OF_APPEALS_LODGING_OF_APPEALS_PRECISION_P'))\n",
    "pd15['FD_OBJECT_VEAT_DESCRIPTION_VEAT_LOCATION_NUTS_LOCATION'].update(pd15.pop('FD_OBJECT_VEAT_DESCRIPTION_VEAT_LOCATION_NUTS_LOCATION_P'))\n",
    "pd15['FD_OBJECT_VEAT_DESCRIPTION_VEAT_SHORT_CONTRACT_DESCRIPTION'].update(pd15.pop('FD_OBJECT_VEAT_DESCRIPTION_VEAT_SHORT_CONTRACT_DESCRIPTION_P'))\n",
    "pd15['FD_OBJECT_VEAT_DESCRIPTION_VEAT_TITLE_CONTRACT'].update(pd15.pop('FD_OBJECT_VEAT_DESCRIPTION_VEAT_TITLE_CONTRACT_P'))\n",
    "pd15['FD_PROCEDURE_DEFINITION_VEAT_ADMINISTRATIVE_INFORMATION_VEAT_FILE_REFERENCE_NUMBER'].update(pd15.pop('FD_PROCEDURE_DEFINITION_VEAT_ADMINISTRATIVE_INFORMATION_VEAT_FILE_REFERENCE_NUMBER_P'))\n",
    "pd15['FD_PROCEDURE_DEFINITION_VEAT_TYPE_OF_PROCEDURE_DEF_F15_F15_AWARD_WITHOUT_PRIOR_PUBLICATION_ANNEX_D_F15_ANNEX_D1_REASON_CONTRACT_LAWFUL'].update(pd15.pop('FD_PROCEDURE_DEFINITION_VEAT_TYPE_OF_PROCEDURE_DEF_F15_F15_AWARD_WITHOUT_PRIOR_PUBLICATION_ANNEX_D_F15_ANNEX_D1_REASON_CONTRACT_LAWFUL_P'))\n",
    "pd15['FD_PROCEDURE_DEFINITION_VEAT_TYPE_OF_PROCEDURE_DEF_F15_F15_PT_NEGOTIATED_WITHOUT_COMPETITION_ANNEX_D_F15_ANNEX_D1_REASON_CONTRACT_LAWFUL'].update(pd15.pop('FD_PROCEDURE_DEFINITION_VEAT_TYPE_OF_PROCEDURE_DEF_F15_F15_PT_NEGOTIATED_WITHOUT_COMPETITION_ANNEX_D_F15_ANNEX_D1_REASON_CONTRACT_LAWFUL_P'))"
   ]
  },
  {
   "cell_type": "code",
   "execution_count": null,
   "id": "d6adfa65-8dc7-4941-937e-7607076af1b7",
   "metadata": {},
   "outputs": [],
   "source": [
    "#pd15.info()"
   ]
  },
  {
   "cell_type": "code",
   "execution_count": null,
   "id": "71714d1f-9453-4ad3-ace8-475007b47fd2",
   "metadata": {},
   "outputs": [],
   "source": [
    "pd15 = pd15.rename(columns=lambda x_ re.sub('\\_P$', '', x))\n",
    "pd15 = pd15.rename(columns=lambda x_ re.sub('F15_', '', x))\n",
    "pd15 = pd15.rename(columns=lambda x_ re.sub('_F15', '', x))\n",
    "pd15 = pd15.rename(columns=lambda x_ re.sub('CONTACT_DATA_WITHOUT_RESPONSIBLE_NAME_', '', x))\n",
    "pd15 = pd15.rename(columns=lambda x_ re.sub('DOFFIN_FORM_TYPE_', '', x))\n",
    "pd15 = pd15.rename(columns=lambda x_ re.sub('ORGANISATION_', '', x))\n",
    "pd15 = pd15.rename(columns=lambda x_ re.sub('_VEAT', '', x))\n",
    "pd15 = pd15.rename(columns=lambda x_ re.sub('_DEFENCE', '', x))\n"
   ]
  },
  {
   "cell_type": "code",
   "execution_count": null,
   "id": "d8cdf4f7-d242-4a83-a6c6-c92c3822aabc",
   "metadata": {},
   "outputs": [],
   "source": [
    "pd15 = pd15.rename(columns=lambda x_ re.sub('ADMINISTRATIVE_INFORMATION_PREVIOUS_PUBLICATION_INFORMATION_NOTICE_', '', x))\n",
    "pd15 = pd15.rename(columns=lambda x_ re.sub('FD_PROCEDURES_ADMINISTRATIVE_INFO_PREVIOUS_PUBLICATION_INFORMATION_NOTICE_F6', 'FD_PROCEDURE_DEFINITION_CONTRACT_AWARD_NOTICE_ADMINISTRATIVE_INFORMATION_PREVIOUS_PUBLICATION_INFORMATION_NOTICE', x))\n",
    "pd15 = pd15.rename(columns=lambda x_ re.sub('PREVIOUS_PUBLICATION_NOTICE_F6', 'PREVIOUS_PUBLICATION_NOTICE', x))\n",
    "pd15 = pd15.rename(columns=lambda x_ re.sub('PREVIOUS_NOTICE_BUYER_PROFILE_F6', 'PREVIOUS_NOTICE_BUYER_PROFILE', x))\n",
    "pd15 = pd15.rename(columns=lambda x_ re.sub('ENTITY_', '', x))\n",
    "pd15 = pd15.rename(columns=lambda x_ re.sub('FD_AWARD_CONTRACT_MANDATORY_INFORMATION_NOT_INTENDED_PUBLICATION_', '', x))\n",
    "pd15 = pd15.rename(columns=lambda x_ re.sub('_DEF_', '', x))\n",
    "pd15 = pd15.rename(columns=lambda x_ re.sub('E_MAILS_', '', x))\n",
    "pd15 = pd15.rename(columns=lambda x_ re.sub('FD_CONTRACTING_AUTHORITY_NAME_ADDRESSES_CONTACT_CA_CE_CONCESSIONAIRE_PROFILE_', 'FD_CONTRACTING_NAME_ADDRESSES_CONTACT_CA_CE_CONCESSIONAIRE_PROFILE_', x))\n",
    "pd15 = pd15.rename(columns=lambda x_ re.sub('D_OBJECT_DESCRIPTION_', 'FD_OBJECT_CONTRACT_INFORMATION_CONTRACT_AWARD_NOTICE_DESCRIPTION_AWARD_NOTICE_INFORMATION_', x))\n",
    "pd15 = pd15.rename(columns=lambda x_ re.sub('FD_PROCEDURE_DEFINITION_ADMINISTRATIVE_INFORMATION_PREVIOUS_PUBLICATION_INFORMATION_NOTICE_PREVIOUS_PUBLICATION_EXISTS_', 'FD_PREVIOUS_PUBLICATION_EXISTS_', x))"
   ]
  },
  {
   "cell_type": "code",
   "execution_count": null,
   "id": "5bfcd9c9-854a-41c4-8e0c-aedb48285b08",
   "metadata": {},
   "outputs": [],
   "source": [
    "#pd15.info()"
   ]
  },
  {
   "cell_type": "code",
   "execution_count": null,
   "id": "685a52be-df8f-41c9-9830-07cd25cc7ac9",
   "metadata": {},
   "outputs": [],
   "source": [
    "pd15['FD_COMPLEMENTARY_INFORMATION_PROCEDURES_FOR_APPEAL_APPEAL_PROCEDURE_BODY_RESPONSIBLE_ADDRESS'].update(pd15.pop('FD_COMPLEMENTARY_INFORMATION_PROCEDURES_FOR_APPEAL_LODGING_INFORMATION_FOR_SERVICE_ADDRESS'))\n",
    "pd15['FD_COMPLEMENTARY_INFORMATION_PROCEDURES_FOR_APPEAL_APPEAL_PROCEDURE_BODY_RESPONSIBLE_COUNTRY_VALUE'].update(pd15.pop('FD_COMPLEMENTARY_INFORMATION_PROCEDURES_FOR_APPEAL_LODGING_INFORMATION_FOR_SERVICE_COUNTRY_VALUE'))\n",
    "pd15['FD_COMPLEMENTARY_INFORMATION_PROCEDURES_FOR_APPEAL_APPEAL_PROCEDURE_BODY_RESPONSIBLE_E_MAIL'].update(pd15.pop('FD_COMPLEMENTARY_INFORMATION_PROCEDURES_FOR_APPEAL_LODGING_INFORMATION_FOR_SERVICE_E_MAIL'))\n",
    "pd15['FD_COMPLEMENTARY_INFORMATION_PROCEDURES_FOR_APPEAL_APPEAL_PROCEDURE_BODY_RESPONSIBLE_FAX'].update(pd15.pop('FD_COMPLEMENTARY_INFORMATION_PROCEDURES_FOR_APPEAL_LODGING_INFORMATION_FOR_SERVICE_FAX'))\n",
    "pd15['FD_COMPLEMENTARY_INFORMATION_PROCEDURES_FOR_APPEAL_APPEAL_PROCEDURE_BODY_RESPONSIBLE_NATIONALID'].update(pd15.pop('FD_COMPLEMENTARY_INFORMATION_PROCEDURES_FOR_APPEAL_LODGING_INFORMATION_FOR_SERVICE_NATIONALID'))\n",
    "pd15['FD_COMPLEMENTARY_INFORMATION_PROCEDURES_FOR_APPEAL_APPEAL_PROCEDURE_BODY_RESPONSIBLE_OFFICIALNAME'].update(pd15.pop('FD_COMPLEMENTARY_INFORMATION_PROCEDURES_FOR_APPEAL_LODGING_INFORMATION_FOR_SERVICE_OFFICIALNAME'))\n",
    "pd15['FD_COMPLEMENTARY_INFORMATION_PROCEDURES_FOR_APPEAL_APPEAL_PROCEDURE_BODY_RESPONSIBLE_PHONE'].update(pd15.pop('FD_COMPLEMENTARY_INFORMATION_PROCEDURES_FOR_APPEAL_LODGING_INFORMATION_FOR_SERVICE_PHONE'))\n",
    "pd15['FD_COMPLEMENTARY_INFORMATION_PROCEDURES_FOR_APPEAL_APPEAL_PROCEDURE_BODY_RESPONSIBLE_POSTAL_CODE'].update(pd15.pop('FD_COMPLEMENTARY_INFORMATION_PROCEDURES_FOR_APPEAL_LODGING_INFORMATION_FOR_SERVICE_POSTAL_CODE'))\n",
    "pd15['FD_COMPLEMENTARY_INFORMATION_PROCEDURES_FOR_APPEAL_APPEAL_PROCEDURE_BODY_RESPONSIBLE_TOWN'].update(pd15.pop('FD_COMPLEMENTARY_INFORMATION_PROCEDURES_FOR_APPEAL_LODGING_INFORMATION_FOR_SERVICE_TOWN'))\n",
    "pd15['FD_COMPLEMENTARY_INFORMATION_PROCEDURES_FOR_APPEAL_APPEAL_PROCEDURE_BODY_RESPONSIBLE_URL'].update(pd15.pop('FD_COMPLEMENTARY_INFORMATION_PROCEDURES_FOR_APPEAL_LODGING_INFORMATION_FOR_SERVICE_URL'))\n",
    "\n",
    "pd15['FD_PROCEDURE_DEFINITION_TYPE_OF_PROCEDUREAWARD_WITHOUT_PRIOR_PUBLICATION_ANNEX_D_ANNEX_D1_NO_OPEN_RESTRICTED_VALUE'].update(pd15.pop('FD_PROCEDURE_DEFINITION_TYPE_OF_PROCEDUREAWARD_WITHOUT_PRIOR_PUBLICATION_ANNEX_D_ANNEX_D3_NO_OPEN_RESTRICTED_VALUE'))\n",
    "pd15['FD_PROCEDURE_DEFINITION_TYPE_OF_PROCEDUREAWARD_WITHOUT_PRIOR_PUBLICATION_ANNEX_D_ANNEX_D1_REASON_CONTRACT_LAWFUL'].update(pd15.pop('FD_PROCEDURE_DEFINITION_TYPE_OF_PROCEDUREAWARD_WITHOUT_PRIOR_PUBLICATION_ANNEX_D_ANNEX_D3_REASON_CONTRACT_LAWFUL'))\n",
    "pd15['FD_PROCEDURE_DEFINITION_TYPE_OF_PROCEDUREPT_NEGOTIATED_WITHOUT_COMPETITION_ANNEX_D_ANNEX_D1_REASON_CONTRACT_LAWFUL'].update(pd15.pop('FD_PROCEDURE_DEFINITION_TYPE_OF_PROCEDUREPT_NEGOTIATED_WITHOUT_COMPETITION_ANNEX_D_ANNEX_D2_REASON_CONTRACT_LAWFUL'))\n",
    "pd15['FD_PROCEDURE_DEFINITION_TYPE_OF_PROCEDUREPT_NEGOTIATED_WITHOUT_COMPETITION_ANNEX_D_ANNEX_D1_REASON_CONTRACT_LAWFUL'].update(pd15.pop('FD_PROCEDURE_DEFINITION_TYPE_OF_PROCEDUREPT_NEGOTIATED_WITHOUT_COMPETITION_ANNEX_D_ANNEX_D3_REASON_CONTRACT_LAWFUL')) "
   ]
  },
  {
   "cell_type": "code",
   "execution_count": null,
   "id": "0b9a5fd9-bf20-42e4-a990-caf7a8e9ca23",
   "metadata": {},
   "outputs": [],
   "source": [
    "pd15 = pd15.rename(columns=lambda x_ re.sub('FD_AWARD_OF_CONTRACT_ECONOMIC_OPERATOR_NAME_ADDRESS_', 'AWARDED_CONTRACT_CONTRACTOR_ADDRESS_CONTRACTOR_', x))\n",
    "pd15 = pd15.rename(columns=lambda x_ re.sub('FD_AWARD_OF_CONTRACT_', 'AWARD_CONTRACT_', x)) #ITEM\n",
    "pd15 = pd15.rename(columns=lambda x_ re.sub('FD_COMPLEMENTARY_INFORMATION_PROCEDURES_FOR_APPEAL_MEDIATION_PROCEDURE_BODY_RESPONSIBLE_', 'COMPLEMENTARY_INFO_ADDRESS_MEDIATION_BODY_', x))\n",
    "pd15 = pd15.rename(columns=lambda x_ re.sub('FD_COMPLEMENTARY_INFORMATION_PROCEDURES_FOR_APPEAL_APPEAL_PROCEDURE_BODY_RESPONSIBLE_', 'COMPLEMENTARY_INFO_ADDRESS_REVIEW_BODY_', x))\n",
    "#d15 = pd15.rename(columns=lambda x_ re.sub('FD_COMPLEMENTARY_INFORMATION_NOTICE_DISPATCH_DATE_', 'COMPLEMENTARY_INFO_', x)) #COMPLEMENTARY_INFO_DATE_DISPATCH_NOTICE\n",
    "pd15 = pd15.rename(columns=lambda x_ re.sub('FD_CONTRACTING_NAME_ADDRESSES_CONTACT_CA_CE_CONCESSIONAIRE_PROFILE_', 'CONTRACTING_BODY_ADDRESS_CONTRACTING_BODY_', x))\n",
    "#pd15 = pd15.rename(columns=lambda x_ re.sub('', 'CONTRACTING_BODY_ADDRESS_FURTHER_INFO_', x))\n",
    "pd15 = pd15.rename(columns=lambda x_ re.sub('FD_CONTRACTING_AUTHORITY_TYPE_AND_ACTIVITIES_OR_CONTRACTING_AND_PURCHASING_ON_BEHALF_PURCHASING_ON_BEHALF_PURCHASING_ON_BEHALF_YES_CONTACT_DATA_OTHER_BEHALF_CONTRACTING_AUTORITHY_', 'CONTRACTING_BODY_ADDRESS_PARTICIPATION_', x))\n",
    "pd15 = pd15.rename(columns=lambda x_ re.sub('FD_CONTRACTING_AUTHORITY_TYPE_AND_ACTIVITIES_OR_CONTRACTING_AND_PURCHASING_ON_BEHALF_TYPE_AND_ACTIVITIES_TYPE_OF_CONTRACTING_AUTHORITY_', 'CONTRACTING_BODY_', x)) #CONTRACTING_BODY_CA_ACTIVITY_VALUE\n",
    "#pd15 = pd15.rename(columns=lambda x_ re.sub('', 'LEFTI_', x)) #LEFTI_PARTICULAR_PROFESSION_CTYPE\n",
    "pd15 = pd15.rename(columns=lambda x_ re.sub('FFD_OBJECT_CONTRACT_INFORMATION_CONTRACT_AWARD_NOTICE_DESCRIPTION_AWARD_NOTICE_INFORMATION_', 'OBJECT_CONTRACT_', x))  #OBJECT_CONTRACT_CPV_MAIN_CPV_CODE_CODE\n",
    "#pd15 = pd15.rename(columns=lambda x_ re.sub('', 'OBJECT_CONTRACT_OBJECT_DESCR_', x)) #OBJECT_CONTRACT_OBJECT_DESCR_CPV_ADDITIONAL\n",
    "#pd15 = pd15.rename(columns=lambda x_ re.sub('', 'OBJECT_CONTRACT_OBJECT_DESCR_', x))  #OBJECT_CONTRACT_OBJECT_DESCR_ITEM\n",
    "pd15 = pd15.rename(columns=lambda x_ re.sub('FFD_OBJECT_CONTRACT_INFORMATION_CONTRACT_AWARD_NOTICE_DESCRIPTION_AWARD_NOTICE_INFORMATION_', 'OBJECT_CONTRACT_', x)) #OBJECT_CONTRACT_TITLE\n",
    "#pd15 = pd15.rename(columns=lambda x_ re.sub('', 'PROCEDURE_', x)) #PROCEDURE_DATE_RECEIPT_TENDERS\n",
    "pd15 = pd15.rename(columns=lambda x_ re.sub('OBJECT_CONTRACT_TITLE_CONTRACT', 'OBJECT_CONTRACT_OBJECT_DESCR_TITLE', x))\n",
    "pd15 = pd15.rename(columns=lambda x_ re.sub('OBJECT_CONTRACT_SHORT_CONTRACT_DESCRIPTION', 'OBJECT_CONTRACT_OBJECT_DESCR_SHORT_DESCR', x))\n",
    "pd15 = pd15.rename(columns=lambda x_ re.sub('AWARD_CONTRACT_MORE_INFORMATION_TO_SUB_CONTRACTED_CONTRACT_LIKELY_SUB_CONTRACTED_WITH_EXCLUDING_VAT_VALUE_CURRENCY', 'AWARDED_CONTRACT_VAL_SUBCONTRACTING_CURRENCY', x))\n",
    "pd15 = pd15.rename(columns=lambda x_ re.sub('AWARD_CONTRACT_MORE_INFORMATION_TO_SUB_CONTRACTED_CONTRACT_LIKELY_SUB_CONTRACTED_WITH_EXCLUDING_VAT_VALUE_text', 'AWARDED_CONTRACT_VAL_SUBCONTRACTING_text', x))\n",
    "\n",
    "pd15 = pd15.rename(columns=lambda x_ re.sub('FD_OBJECT_TOTAL_FINAL_VALUE_COSTS_RANGE_AND_CURRENCY_WITH_VAT_RATE_CURRENCY', 'OBJECT_CONTRACT_VAL_TOTAL_CURRENCY', x))\n",
    "pd15 = pd15.rename(columns=lambda x_ re.sub('FD_OBJECT_TOTAL_FINAL_VALUE_COSTS_RANGE_AND_CURRENCY_WITH_VAT_RATE_RANGE_VALUE_COST_HIGH_VALUE', 'OBJECT_CONTRACT_VAL_RANGE_TOTAL_HIGH', x))\n",
    "pd15 = pd15.rename(columns=lambda x_ re.sub('FD_OBJECT_TOTAL_FINAL_VALUE_COSTS_RANGE_AND_CURRENCY_WITH_VAT_RATE_RANGE_VALUE_COST_LOW_VALUE', 'OBJECT_CONTRACT_VAL_RANGE_TOTAL_LOW', x))\n",
    "pd15 = pd15.rename(columns=lambda x_ re.sub('FD_OBJECT_TOTAL_FINAL_VALUE_COSTS_RANGE_AND_CURRENCY_WITH_VAT_RATE_VALUE_COST', 'OBJECT_CONTRACT_VAL_TOTAL_text', x))\n",
    "\n",
    "pd15 = pd15.rename(columns=lambda x_ re.sub('AWARD_CONTRACT_CONTRACT_VALUE_INFORMATION_COSTS_RANGE_AND_CURRENCY_WITH_VAT_RATE_CURRENCY', 'AWARDED_CONTRACT_VALUES_VAL_RANGE_TOTAL_CURRENCY', x))\n",
    "pd15 = pd15.rename(columns=lambda x_ re.sub('AWARD_CONTRACT_CONTRACT_VALUE_INFORMATION_COSTS_RANGE_AND_CURRENCY_WITH_VAT_RATE_RANGE_VALUE_COST_HIGH_VALUE', 'AWARDED_CONTRACT_VALUES_VAL_RANGE_TOTAL_HIGH', x))\n",
    "pd15 = pd15.rename(columns=lambda x_ re.sub('AWARD_CONTRACT_CONTRACT_VALUE_INFORMATION_COSTS_RANGE_AND_CURRENCY_WITH_VAT_RATE_RANGE_VALUE_COST_LOW_VALUE', 'AWARDED_CONTRACT_VALUES_VAL_RANGE_TOTAL_LOW', x))\n",
    "pd15 = pd15.rename(columns=lambda x_ re.sub('AWARD_CONTRACT_CONTRACT_VALUE_INFORMATION_INITIAL_ESTIMATED_TOTAL_VALUE_CONTRACT_CURRENCY', 'AWARDED_CONTRACT_VALUES_VAL_ESTIMATED_TOTAL_CURRENCY', x))\n",
    "pd15 = pd15.rename(columns=lambda x_ re.sub('AWARD_CONTRACT_CONTRACT_VALUE_INFORMATION_INITIAL_ESTIMATED_TOTAL_VALUE_CONTRACT_VALUE_COST', 'AWARDED_CONTRACT_VALUES_VAL_ESTIMATED_TOTAL_text', x))\n",
    "#pd15 = pd15.rename(columns=lambda x_ re.sub('', 'CONTRACTING_BODY_URL_DOCUMENT', x))\n",
    "pd15 = pd15.rename(columns=lambda x_ re.sub('FD_CONTRACTING_AUTHORITY_NAME_ADDRESSES_CONTACT_INTERNET_ADDRESSES_URL_PARTICIPATE', 'CONTRACTING_BODY_URL_PARTICIPATION', x))\n",
    "#pd15 = pd15.rename(columns=lambda x_ re.sub('', 'CONTRACTING_BODY_URL_TOOL', x))\n",
    "pd15 = pd15.rename(columns=lambda x_ re.sub('FD_CONTRACTING_AUTHORITY_NAME_ADDRESSES_CONTACT_INTERNET_ADDRESSES_URL_GENERAL', 'CONTRACTING_BODY_ADDRESS_FURTHER_INFO_URL_GENERAL', x))\n",
    "#pd15 = pd15.rename(columns=lambda x_ re.sub('', 'PROCEDURE_URL_NATIONAL_PROCEDURE', x))\n",
    "pd15 = pd15.rename(columns=lambda x_ re.sub('FD_CONTRACTING_AUTHORITY_NAME_ADDRESSES_CONTACT_INTERNET_ADDRESSES_', 'CONTRACTING_BODY_', x))\n",
    "pd15 = pd15.rename(columns=lambda x_ re.sub('FD_PROCEDURE_DEFINITION_AWARD_CRITERIA_INFORMATION_AWARD_CRITERIA_DETAIL_MOST_ECONOMICALLY_ADVANTAGEOUS_TENDER_SHORT_CRITERIA_DEFINITION_', 'PROCEDURE_', x))\n",
    "pd15 = pd15.rename(columns=lambda x_ re.sub('AWARD_CONTRACT_CONTRACT_TITLE', 'AWARD_CONTRACT_TITLE', x))\n",
    "pd15 = pd15.rename(columns=lambda x_ re.sub('AWARD_CONTRACT_LOT_NUMBER', 'AWARD_CONTRACT_LOT_NO', x))\n",
    "pd15 = pd15.rename(columns=lambda x_ re.sub('FD_COMPLEMENTARY_INFORMATION_NOTICE_DISPATCH_DATE_', 'COMPLEMENTARY_INFO_', x))\n",
    "pd15 = pd15.rename(columns=lambda x_ re.sub('FD_COMPLEMENTARY_INFORMATION_ADDITIONAL_INFORMATION', 'COMPLEMENTARY_INFO_INFO_ADD', x))\n",
    "pd15 = pd15.rename(columns=lambda x_ re.sub('FD_COMPLEMENTARY_INFORMATION_RELATES_TO_EU_PROJECT_YES', 'OBJECT_CONTRACT_OBJECT_DESCR_EU_PROGR_RELATED', x))\n",
    "pd15 = pd15.rename(columns=lambda x_ re.sub('FD_PROCEDURE_DEFINITION_ADMINISTRATIVE_INFORMATION_FILE_REFERENCE_NUMBER', 'OBJECT_CONTRACT_REFERENCE_NUMBER', x))\n",
    "pd15 = pd15.rename(columns=lambda x_ re.sub('FD_CONTRACTING_AUTHORITY_TYPE_AND_ACTIVITIES_OR_CONTRACTING_AND_PURCHASING_ON_BEHALF_', 'FD_CONTRACTING_TYPE_AND_ACTIVITIES_AND_PURCHASING_ON_BEHALF_TYPE_AND_ACTIVITIES_', x))\n",
    "pd15 = pd15.rename(columns=lambda x_ re.sub('AWARD_CONTRACT_MORE_INFORMATION_TO_SUB_CONTRACTED_CONTRACT_LIKELY_SUB_CONTRACTED_WITH_', 'AWARD_CONTRACT_CONTRACT_LIKELY_SUB_CONTRACTED_', x))\n",
    "pd15 = pd15.rename(columns=lambda x_ re.sub('FD_CONTRACTING_TYPE_AND_ACTIVITIES_AND_PURCHASING_ON_BEHALF_TYPE_AND_ACTIVITIES_TYPE_AND_ACTIVITIES_', 'FD_CONTRACTING_TYPE_AND_ACTIVITIES_AND_PURCHASING_ON_BEHALF_TYPE_AND_ACTIVITIES_', x))\n",
    "pd15 = pd15.rename(columns=lambda x_ re.sub('FD_CONTRACTING_TYPE_AND_ACTIVITIES_AND_PURCHASING_ON_BEHALF_TYPE_AND_ACTIVITIES_ACTIVITIES_OF_CONTRACTING_ENTITY_', 'FD_CONTRACTING_ACTIVITIES_OF_CONTRACTING_ENTITY_', x))\n",
    "\n",
    "pd15['OBJECT_CONTRACT_TYPE_CONTRACT_LOCATION_SERVICE_CATEGORY'].update(pd15.pop('OBJECT_CONTRACT_TYPE_CONTRACT_SERVICE_CATEGORY'))\n",
    "pd15['OBJECT_CONTRACT_TYPE_CONTRACT_LOCATION_TYPE_CONTRACT_VALUE'].update(pd15.pop('OBJECT_CONTRACT_TYPE_CONTRACT_TYPE_CONTRACT_VALUE'))\n",
    "pd15['OBJECT_CONTRACT_TYPE_CONTRACT_LOCATION_TYPE_SUPPLIES_CONTRACT_VALUE'].update(pd15.pop('OBJECT_CONTRACT_TYPE_CONTRACT_TYPE_SUPPLIES_CONTRACT_VALUE'))"
   ]
  },
  {
   "cell_type": "code",
   "execution_count": null,
   "id": "62bcb035-ae7c-4d72-b0a1-5783c6b3b7b9",
   "metadata": {},
   "outputs": [],
   "source": [
    "pd15.info()"
   ]
  },
  {
   "cell_type": "code",
   "execution_count": null,
   "id": "85ba0c24-2a12-4d7b-83e2-27447ec65e56",
   "metadata": {},
   "outputs": [],
   "source": [
    "#fd15 = pd15.to_spark()"
   ]
  },
  {
   "cell_type": "code",
   "execution_count": null,
   "id": "76fd4380-c08f-46ba-a977-e6eb034a0181",
   "metadata": {},
   "outputs": [],
   "source": [
    "\"\"\"\n",
    "fd15 = fd15.withColumn(\"FD_AWARD_OF_CONTRACT_DEFENCE.CONTRACT_AWARD_DATE\", expr(\"make_date(`FD_AWARD_OF_CONTRACT_DEFENCE.CONTRACT_AWARD_DATE.YEAR`, `FD_AWARD_OF_CONTRACT_DEFENCE.CONTRACT_AWARD_DATE.MONTH`, `FD_AWARD_OF_CONTRACT_DEFENCE.CONTRACT_AWARD_DATE.DAY`)\"))\n",
    "fd15 = fd15.withColumn(\"FD_COMPLEMENTARY_INFORMATION_VEAT.NOTICE_DISPATCH_DATE\", expr(\"make_date(`FD_COMPLEMENTARY_INFORMATION_VEAT.NOTICE_DISPATCH_DATE.YEAR`, `FD_COMPLEMENTARY_INFORMATION_VEAT.NOTICE_DISPATCH_DATE.MONTH`, `FD_COMPLEMENTARY_INFORMATION_VEAT.NOTICE_DISPATCH_DATE.DAY`)\"))\n",
    "fd15 = fd15.withColumn(\"FD_PROCEDURE_DEFINITION_VEAT.ADMINISTRATIVE_INFORMATION_VEAT.PREVIOUS_PUBLICATION_INFORMATION_NOTICE_F15.PREVIOUS_PUBLICATION_EXISTS_F15.CNT_NOTICE_INFORMATION.DATE_OJ\", expr(\"make_date(`FD_PROCEDURE_DEFINITION_VEAT.ADMINISTRATIVE_INFORMATION_VEAT.PREVIOUS_PUBLICATION_INFORMATION_NOTICE_F15.PREVIOUS_PUBLICATION_EXISTS_F15.CNT_NOTICE_INFORMATION.DATE_OJ.YEAR`, `FD_PROCEDURE_DEFINITION_VEAT.ADMINISTRATIVE_INFORMATION_VEAT.PREVIOUS_PUBLICATION_INFORMATION_NOTICE_F15.PREVIOUS_PUBLICATION_EXISTS_F15.CNT_NOTICE_INFORMATION.DATE_OJ.MONTH`, `FD_PROCEDURE_DEFINITION_VEAT.ADMINISTRATIVE_INFORMATION_VEAT.PREVIOUS_PUBLICATION_INFORMATION_NOTICE_F15.PREVIOUS_PUBLICATION_EXISTS_F15.CNT_NOTICE_INFORMATION.DATE_OJ.DAY`)\"))\n",
    "fd15 = fd15.withColumn(\"FD_PROCEDURE_DEFINITION_VEAT.ADMINISTRATIVE_INFORMATION_VEAT.PREVIOUS_PUBLICATION_INFORMATION_NOTICE_F15.PREVIOUS_PUBLICATION_EXISTS_F15.OTHER_PREVIOUS_PUBLICATIONS.OTHER_PREVIOUS_PUBLICATION.DATE_OJ\", expr(\"make_date(`FD_PROCEDURE_DEFINITION_VEAT.ADMINISTRATIVE_INFORMATION_VEAT.PREVIOUS_PUBLICATION_INFORMATION_NOTICE_F15.PREVIOUS_PUBLICATION_EXISTS_F15.OTHER_PREVIOUS_PUBLICATIONS.OTHER_PREVIOUS_PUBLICATION.DATE_OJ.YEAR`, `FD_PROCEDURE_DEFINITION_VEAT.ADMINISTRATIVE_INFORMATION_VEAT.PREVIOUS_PUBLICATION_INFORMATION_NOTICE_F15.PREVIOUS_PUBLICATION_EXISTS_F15.OTHER_PREVIOUS_PUBLICATIONS.OTHER_PREVIOUS_PUBLICATION.DATE_OJ.MONTH`, `FD_PROCEDURE_DEFINITION_VEAT.ADMINISTRATIVE_INFORMATION_VEAT.PREVIOUS_PUBLICATION_INFORMATION_NOTICE_F15.PREVIOUS_PUBLICATION_EXISTS_F15.OTHER_PREVIOUS_PUBLICATIONS.OTHER_PREVIOUS_PUBLICATION.DATE_OJ.DAY`)\"))\n",
    "fd15 = fd15.withColumn(\"FD_PROCEDURE_DEFINITION_VEAT.ADMINISTRATIVE_INFORMATION_VEAT.PREVIOUS_PUBLICATION_INFORMATION_NOTICE_F15.PREVIOUS_PUBLICATION_EXISTS_F15.PREVIOUS_PUBLICATION_NOTICE_F15.DATE_OJ\", expr(\"make_date(`FD_PROCEDURE_DEFINITION_VEAT.ADMINISTRATIVE_INFORMATION_VEAT.PREVIOUS_PUBLICATION_INFORMATION_NOTICE_F15.PREVIOUS_PUBLICATION_EXISTS_F15.PREVIOUS_PUBLICATION_NOTICE_F15.DATE_OJ.YEAR`, `FD_PROCEDURE_DEFINITION_VEAT.ADMINISTRATIVE_INFORMATION_VEAT.PREVIOUS_PUBLICATION_INFORMATION_NOTICE_F15.PREVIOUS_PUBLICATION_EXISTS_F15.PREVIOUS_PUBLICATION_NOTICE_F15.DATE_OJ.MONTH`, `FD_PROCEDURE_DEFINITION_VEAT.ADMINISTRATIVE_INFORMATION_VEAT.PREVIOUS_PUBLICATION_INFORMATION_NOTICE_F15.PREVIOUS_PUBLICATION_EXISTS_F15.PREVIOUS_PUBLICATION_NOTICE_F15.DATE_OJ.DAY`)\"))\n",
    "\"\"\""
   ]
  },
  {
   "cell_type": "code",
   "execution_count": null,
   "id": "357a7382-061e-4e97-a93d-4e3deb5d7e05",
   "metadata": {},
   "outputs": [],
   "source": [
    "#fd15.printSchema()"
   ]
  },
  {
   "cell_type": "code",
   "execution_count": null,
   "id": "ef7ec06a-c9d8-476f-9197-5335443e9df3",
   "metadata": {},
   "outputs": [],
   "source": [
    "\n",
    "#pd15 = fd15.to_pandas_on_spark()\n",
    "\n",
    "#pd15.info()"
   ]
  },
  {
   "cell_type": "code",
   "execution_count": null,
   "id": "ab6e924a-4122-4c7a-bbc9-786002f98c40",
   "metadata": {},
   "outputs": [],
   "source": [
    "\"\"\"\n",
    "pd15 = pd15.drop(columns=['FD_AWARD_OF_CONTRACT_DEFENCE.CONTRACT_AWARD_DATE.DAY', 'FD_AWARD_OF_CONTRACT_DEFENCE.CONTRACT_AWARD_DATE.MONTH', 'FD_AWARD_OF_CONTRACT_DEFENCE.CONTRACT_AWARD_DATE.YEAR'])\n",
    "pd15 = pd15.drop(columns=['FD_COMPLEMENTARY_INFORMATION_VEAT.NOTICE_DISPATCH_DATE.DAY', 'FD_COMPLEMENTARY_INFORMATION_VEAT.NOTICE_DISPATCH_DATE.MONTH', 'FD_COMPLEMENTARY_INFORMATION_VEAT.NOTICE_DISPATCH_DATE.YEAR'])\n",
    "pd15 = pd15.drop(columns=['FD_PROCEDURE_DEFINITION_VEAT.ADMINISTRATIVE_INFORMATION_VEAT.PREVIOUS_PUBLICATION_INFORMATION_NOTICE_F15.PREVIOUS_PUBLICATION_EXISTS_F15.CNT_NOTICE_INFORMATION.DATE_OJ.DAY', 'FD_PROCEDURE_DEFINITION_VEAT.ADMINISTRATIVE_INFORMATION_VEAT.PREVIOUS_PUBLICATION_INFORMATION_NOTICE_F15.PREVIOUS_PUBLICATION_EXISTS_F15.CNT_NOTICE_INFORMATION.DATE_OJ.MONTH', 'FD_PROCEDURE_DEFINITION_VEAT.ADMINISTRATIVE_INFORMATION_VEAT.PREVIOUS_PUBLICATION_INFORMATION_NOTICE_F15.PREVIOUS_PUBLICATION_EXISTS_F15.CNT_NOTICE_INFORMATION.DATE_OJ.YEAR'])\n",
    "pd15 = pd15.drop(columns=['FD_PROCEDURE_DEFINITION_VEAT.ADMINISTRATIVE_INFORMATION_VEAT.PREVIOUS_PUBLICATION_INFORMATION_NOTICE_F15.PREVIOUS_PUBLICATION_EXISTS_F15.OTHER_PREVIOUS_PUBLICATIONS.OTHER_PREVIOUS_PUBLICATION.DATE_OJ.DAY', 'FD_PROCEDURE_DEFINITION_VEAT.ADMINISTRATIVE_INFORMATION_VEAT.PREVIOUS_PUBLICATION_INFORMATION_NOTICE_F15.PREVIOUS_PUBLICATION_EXISTS_F15.OTHER_PREVIOUS_PUBLICATIONS.OTHER_PREVIOUS_PUBLICATION.DATE_OJ.MONTH', 'FD_PROCEDURE_DEFINITION_VEAT.ADMINISTRATIVE_INFORMATION_VEAT.PREVIOUS_PUBLICATION_INFORMATION_NOTICE_F15.PREVIOUS_PUBLICATION_EXISTS_F15.OTHER_PREVIOUS_PUBLICATIONS.OTHER_PREVIOUS_PUBLICATION.DATE_OJ.YEAR'])\n",
    "pd15 = pd15.drop(columns=['FD_PROCEDURE_DEFINITION_VEAT.ADMINISTRATIVE_INFORMATION_VEAT.PREVIOUS_PUBLICATION_INFORMATION_NOTICE_F15.PREVIOUS_PUBLICATION_EXISTS_F15.PREVIOUS_PUBLICATION_NOTICE_F15.DATE_OJ.DAY', 'FD_PROCEDURE_DEFINITION_VEAT.ADMINISTRATIVE_INFORMATION_VEAT.PREVIOUS_PUBLICATION_INFORMATION_NOTICE_F15.PREVIOUS_PUBLICATION_EXISTS_F15.PREVIOUS_PUBLICATION_NOTICE_F15.DATE_OJ.MONTH', 'FD_PROCEDURE_DEFINITION_VEAT.ADMINISTRATIVE_INFORMATION_VEAT.PREVIOUS_PUBLICATION_INFORMATION_NOTICE_F15.PREVIOUS_PUBLICATION_EXISTS_F15.PREVIOUS_PUBLICATION_NOTICE_F15.DATE_OJ.YEAR'])\n",
    "\"\"\""
   ]
  },
  {
   "cell_type": "code",
   "execution_count": null,
   "id": "4822ccfe-2332-4fdf-a12a-a19d17ccae3d",
   "metadata": {},
   "outputs": [],
   "source": [
    "#pd15.info()"
   ]
  },
  {
   "cell_type": "code",
   "execution_count": null,
   "id": "a3318fe5-3689-4c20-87bf-29ad63b0c5d8",
   "metadata": {},
   "outputs": [],
   "source": [
    "\"\"\"\n",
    "pd15[\"FD_AWARD_OF_CONTRACT_DEFENCE.CONTRACT_AWARD_DATE\"]= ps.to_datetime(pd15[\"FD_AWARD_OF_CONTRACT_DEFENCE.CONTRACT_AWARD_DATE\"])\n",
    "pd15[\"FD_COMPLEMENTARY_INFORMATION_VEAT.NOTICE_DISPATCH_DATE\"]= ps.to_datetime(pd15[\"FD_COMPLEMENTARY_INFORMATION_VEAT.NOTICE_DISPATCH_DATE\"])\n",
    "pd15[\"FD_PROCEDURE_DEFINITION_VEAT.ADMINISTRATIVE_INFORMATION_VEAT.PREVIOUS_PUBLICATION_INFORMATION_NOTICE_F15.PREVIOUS_PUBLICATION_EXISTS_F15.CNT_NOTICE_INFORMATION.DATE_OJ\"]= ps.to_datetime(pd15[\"FD_PROCEDURE_DEFINITION_VEAT.ADMINISTRATIVE_INFORMATION_VEAT.PREVIOUS_PUBLICATION_INFORMATION_NOTICE_F15.PREVIOUS_PUBLICATION_EXISTS_F15.CNT_NOTICE_INFORMATION.DATE_OJ\"])\n",
    "pd15[\"FD_PROCEDURE_DEFINITION_VEAT.ADMINISTRATIVE_INFORMATION_VEAT.PREVIOUS_PUBLICATION_INFORMATION_NOTICE_F15.PREVIOUS_PUBLICATION_EXISTS_F15.OTHER_PREVIOUS_PUBLICATIONS.OTHER_PREVIOUS_PUBLICATION.DATE_OJ\"]= ps.to_datetime(pd15[\"FD_PROCEDURE_DEFINITION_VEAT.ADMINISTRATIVE_INFORMATION_VEAT.PREVIOUS_PUBLICATION_INFORMATION_NOTICE_F15.PREVIOUS_PUBLICATION_EXISTS_F15.OTHER_PREVIOUS_PUBLICATIONS.OTHER_PREVIOUS_PUBLICATION.DATE_OJ\"])\n",
    "pd15[\"FD_PROCEDURE_DEFINITION_VEAT.ADMINISTRATIVE_INFORMATION_VEAT.PREVIOUS_PUBLICATION_INFORMATION_NOTICE_F15.PREVIOUS_PUBLICATION_EXISTS_F15.PREVIOUS_PUBLICATION_NOTICE_F15.DATE_OJ\"]= ps.to_datetime(pd15[\"FD_PROCEDURE_DEFINITION_VEAT.ADMINISTRATIVE_INFORMATION_VEAT.PREVIOUS_PUBLICATION_INFORMATION_NOTICE_F15.PREVIOUS_PUBLICATION_EXISTS_F15.PREVIOUS_PUBLICATION_NOTICE_F15.DATE_OJ\"])\n",
    "\"\"\""
   ]
  },
  {
   "cell_type": "code",
   "execution_count": null,
   "id": "e9b37615-fb26-4f08-8071-b87d9cfd250d",
   "metadata": {},
   "outputs": [],
   "source": [
    "#pd15.info() "
   ]
  },
  {
   "cell_type": "code",
   "execution_count": null,
   "id": "f8b24c15-72da-4b6f-983c-d90414d066f8",
   "metadata": {},
   "outputs": [],
   "source": [
    "fd15 = pd15.to_spark()"
   ]
  },
  {
   "cell_type": "code",
   "execution_count": null,
   "id": "b46c0f75-8455-453e-821e-122aa4438bb1",
   "metadata": {},
   "outputs": [],
   "source": [
    "#fd15.write.parquet(\"s3a_//falk2210/fd15_210921.parquet\")"
   ]
  },
  {
   "cell_type": "code",
   "execution_count": null,
   "id": "29c1c88f-49dc-40e2-8e5c-398406542841",
   "metadata": {},
   "outputs": [],
   "source": [
    "fd15.write.mode(\"append\").json(\"falk2210/f_award.json\")"
   ]
  },
  {
   "cell_type": "markdown",
   "id": "4163a499-831a-4365-befc-6fd3b7298c11",
   "metadata": {
    "jp-MarkdownHeadingCollapsed": true,
    "tags": []
   },
   "source": [
    "# 16 PRI "
   ]
  },
  {
   "cell_type": "markdown",
   "id": "e9fd5c1b-b8ee-4b12-9868-e5d8123d4bbe",
   "metadata": {},
   "source": [
    "<a id='d16' />"
   ]
  },
  {
   "cell_type": "code",
   "execution_count": null,
   "id": "9807269e-3f65-40e5-a54b-6882a49f7128",
   "metadata": {},
   "outputs": [],
   "source": [
    "d16 = spark.read.json(\"falk/16.json/*.json\")\n",
    "#d16.printSchema()"
   ]
  },
  {
   "cell_type": "code",
   "execution_count": null,
   "id": "5b871fd5-ef89-43c3-9dce-a456e965c3af",
   "metadata": {},
   "outputs": [],
   "source": [
    "pd16 = d16.to_pandas_on_spark()"
   ]
  },
  {
   "cell_type": "code",
   "execution_count": null,
   "id": "6a9b6f93-7ce5-4885-af19-fa0dfb7e0403",
   "metadata": {},
   "outputs": [],
   "source": [
    "pd16 = pd16.rename(columns=lambda x_ re.sub('DOFFIN_ESENDERS_VERSION', 'DOFFIN_VERSION', x))\n",
    "#pd16.info()"
   ]
  },
  {
   "cell_type": "code",
   "execution_count": null,
   "id": "525c9150-5a20-4e84-b6d0-bc0a24488ef2",
   "metadata": {},
   "outputs": [],
   "source": [
    "pd16 = pd16.rename(columns=lambda x_ re.sub('DOFFIN_ESENDERS_', '', x))\n",
    "\n",
    "pd16 = pd16.rename(columns=lambda x_ re.sub('FORM_SECTION_', '', x))\n",
    "#pd16.info()"
   ]
  },
  {
   "cell_type": "code",
   "execution_count": null,
   "id": "90a26a27-6b88-42d1-a64b-25aea39d115c",
   "metadata": {},
   "outputs": [],
   "source": [
    "pd16 = pd16.rename(columns=lambda x_ re.sub('PRIOR_INFORMATION_DEFENCE_', '', x))\n",
    "#pd16.info()"
   ]
  },
  {
   "cell_type": "code",
   "execution_count": null,
   "id": "7b6b6063-7592-4adc-a73e-d043f4ccd3d6",
   "metadata": {},
   "outputs": [],
   "source": [
    "#pd16 = pd16.rename(columns=lambda x_ re.sub('_', '_', x))\n",
    "#pd16.info()"
   ]
  },
  {
   "cell_type": "code",
   "execution_count": null,
   "id": "b4ebef19-e1cc-495f-a06c-ee2508be9e98",
   "metadata": {},
   "outputs": [],
   "source": [
    "pd16 = pd16.rename(columns=lambda x_ re.sub('\\_P$', '', x))\n",
    "#pd16.info()"
   ]
  },
  {
   "cell_type": "code",
   "execution_count": null,
   "id": "f755963c-9372-40a3-9c7a-3a5618f4f0b2",
   "metadata": {},
   "outputs": [],
   "source": [
    "pd16 = pd16.rename(columns=lambda x_ re.sub('PRIOR_INFORMATION_', '', x))\n",
    "pd16 = pd16.rename(columns=lambda x_ re.sub('SUPPLIES_SERVICES_', '', x))\n",
    "pd16 = pd16.rename(columns=lambda x_ re.sub('_OTH', '', x))\n",
    "pd16 = pd16.rename(columns=lambda x_ re.sub('F16_', '', x))\n",
    "pd16 = pd16.rename(columns=lambda x_ re.sub('FD_OBJECT_WORKS_QUANTITY_SCOPE_WORKS_DEFENCE_DIVISION_INTO_LOTS_DIV_INTO_LOT_YES_', 'FD_OBJECT_DIVISION_INTO_LOTS_DIV_INTO_LOT_YES_', x))\n",
    "pd16 = pd16.rename(columns=lambda x_ re.sub('FD_OBJECT_WORKS_QUANTITY_SCOPE_WORKS_DEFENCE', 'FD_OBJECT_TOTAL_QUANTITY_OR_SCOPE', x)) \n",
    "pd16 = pd16.rename(columns=lambda x_ re.sub('FD_OBJECT_WORKS_SCHEDULED_DATE_PERIOD_', 'FD_OBJECT_WORKS_SCHEDULED_DATE_PERIOD_', x)) \n",
    "\n",
    "\n",
    "pd16 = pd16.rename(columns=lambda x_ re.sub('FD_AUTHORITY_TYPE_AND_ACTIVITIES_OR_CONTRACTING_ENTITY_AND_PURCHASING_ON_BEHALF_', 'FD_AUTHORITY_TYPE_AND_ACTIVITIES_AND_PURCHASING_ON_BEHALF_', x))\n",
    "pd16 = pd16.rename(columns=lambda x_ re.sub('FD_OBJECT_WORKS_ADDITIONAL_INFORMATION', 'FD_OBJECT_ADDITIONAL_INFORMATION', x))\n",
    "pd16 = pd16.rename(columns=lambda x_ re.sub('FD_OBJECT_WORKS_TITLE_CONTRACT', 'FD_OBJECT_TITLE_CONTRACT', x))\n",
    "pd16 = pd16.rename(columns=lambda x_ re.sub('FD_OBJECT_WORKS_TYPE_CONTRACT_PLACE_DELIVERY_DEFENCE_SITE_OR_LOCATION', 'FD_OBJECT_TYPE_CONTRACT_PLACE_DELIVERY_SITE_OR_LOCATION', x))\n",
    "pd16 = pd16.rename(columns=lambda x_ re.sub('FD_OBJECT_WORKS_TYPE_CONTRACT_PLACE_DELIVERY_DEFENCE_TYPE_CONTRACT_PI_DEFENCE_SERVICE_CATEGORY_DEFENCE', 'FD_OBJECT_TYPE_CONTRACT_PLACE_DELIVERY_SERVICE_CATEGORY', x))\n",
    "\n",
    "\n",
    "\n",
    "pd16 = pd16.rename(columns=lambda x_ re.sub('FD_OBJECT_WORKS_', 'FD_OBJECT_', x))\n",
    "pd16 = pd16.rename(columns=lambda x_ re.sub('FD_OBJECT_TOTAL_QUANTITY_OR_SCOPE_COSTS_RANGE_AND_CURRENCY_', 'FD_OBJECT_COSTS_RANGE_AND_CURRENCY_', x))\n",
    "pd16 = pd16.rename(columns=lambda x_ re.sub('FD_OBJECT_WORKS_SCHEDULED_DATE_PERIOD_PROCEDURE_DATE_STARTING_', 'FD_OBJECT_WORKS_SCHEDULED_DATE_PERIOD_PERIOD_WORK_DATE_STARTING_INTERVAL_DATE_START_DATE_', x))\n",
    "\n",
    "\n",
    "pd16 = pd16.rename(columns=lambda x_ re.sub('FD_OBJECT_TOTAL_QUANTITY_OR_SCOPE_TOTAL_QUANTITY_OR_SCOPE', 'FD_OBJECT_TOTAL_QUANTITY_OR_SCOPE', x))\n",
    "pd16 = pd16.rename(columns=lambda x_ re.sub('FD_OBJECT_SCHEDULED_DATE_PERIOD_PERIOD_WORK_DATE_STARTING_INTERVAL_DATE', 'FD_OBJECT_WORKS_SCHEDULED_DATE_PERIOD_PERIOD_WORK_DATE_STARTING_INTERVAL_DATE', x))\n",
    "pd16 = pd16.rename(columns=lambda x_ re.sub('FD_OBJECT_SCHEDULED_DATE_PERIOD_PERIOD_WORK_DATE_STARTING_MONTHS', 'FD_OBJECT_WORKS_SCHEDULED_DATE_PERIOD_PERIOD_WORK_DATE_STARTING_MONTHS', x))\n",
    "pd16 = pd16.rename(columns=lambda x_ re.sub('FD_OBJECT_SCHEDULED_DATE_PERIOD_PROCEDURE_DATE_STARTING_', 'FD_OBJECT_PROCEDURE_DATE_STARTING_', x))\n",
    "pd16 = pd16.rename(columns=lambda x_ re.sub('FD_OBJECT_TYPE_CONTRACT_PLACE_DELIVERY_DEFENCE_TYPE_CONTRACT_PI_DEFENCE_TYPE_CONTRACT_VALUE', 'FD_OBJECT_TYPE_CONTRACT_PLACE_DELIVERY_TYPE_CONTRACT_VALUE', x))"
   ]
  },
  {
   "cell_type": "code",
   "execution_count": null,
   "id": "705d47df-bd51-438b-8b37-603e91de9f8c",
   "metadata": {},
   "outputs": [],
   "source": [
    "pd16.info()"
   ]
  },
  {
   "cell_type": "code",
   "execution_count": null,
   "id": "da964ada-c67f-409b-963d-a6c30960759c",
   "metadata": {},
   "outputs": [],
   "source": [
    "fd16 = pd16.to_spark()"
   ]
  },
  {
   "cell_type": "code",
   "execution_count": null,
   "id": "c5585c14-3386-4b6c-b837-64841a28a133",
   "metadata": {},
   "outputs": [],
   "source": [
    "fd16 = fd16.withColumn(\"FD_OTH_INFO_NOTICE_DISPATCH_DATE\", expr(\"make_date(`FD_OTH_INFO_NOTICE_DISPATCH_DATE.YEAR`, `FD_OTH_INFO_NOTICE_DISPATCH_DATE.MONTH`, `FD_OTH_INFO_NOTICE_DISPATCH_DATE.DAY`)\"))\n",
    "fd16 = fd16.withColumn(\"FD_OBJECT_WORKS_SUPPLIES_SERVICES_PRIOR_INFORMATION.SCHEDULED_DATE_PERIOD.PERIOD_WORK_DATE_STARTING.INTERVAL_DATE.END_DATE\", expr(\"make_date(`FD_OBJECT_WORKS_SUPPLIES_SERVICES_PRIOR_INFORMATION.SCHEDULED_DATE_PERIOD.PERIOD_WORK_DATE_STARTING.INTERVAL_DATE.END_DATE.YEAR`, `FD_OBJECT_WORKS_SUPPLIES_SERVICES_PRIOR_INFORMATION.SCHEDULED_DATE_PERIOD.PERIOD_WORK_DATE_STARTING.INTERVAL_DATE.END_DATE.MONTH`, `FD_OBJECT_WORKS_SUPPLIES_SERVICES_PRIOR_INFORMATION.SCHEDULED_DATE_PERIOD.PERIOD_WORK_DATE_STARTING.INTERVAL_DATE.END_DATE.DAY`)\"))\n",
    "fd16 = fd16.withColumn(\"FD_OBJECT_WORKS_SUPPLIES_SERVICES_PRIOR_INFORMATION.SCHEDULED_DATE_PERIOD.PERIOD_WORK_DATE_STARTING.INTERVAL_DATE.START_DATE\", expr(\"make_date(`FD_OBJECT_WORKS_SUPPLIES_SERVICES_PRIOR_INFORMATION.SCHEDULED_DATE_PERIOD.PERIOD_WORK_DATE_STARTING.INTERVAL_DATE.START_DATE.YEAR`, `FD_OBJECT_WORKS_SUPPLIES_SERVICES_PRIOR_INFORMATION.SCHEDULED_DATE_PERIOD.PERIOD_WORK_DATE_STARTING.INTERVAL_DATE.START_DATE.MONTH`, `FD_OBJECT_WORKS_SUPPLIES_SERVICES_PRIOR_INFORMATION.SCHEDULED_DATE_PERIOD.PERIOD_WORK_DATE_STARTING.INTERVAL_DATE.START_DATE.DAY`)\"))\n",
    "fd16 = fd16.withColumn(\"FD_OBJECT_WORKS_SUPPLIES_SERVICES_PRIOR_INFORMATION.SCHEDULED_DATE_PERIOD.PROCEDURE_DATE_STARTING\", expr(\"make_date(`FD_OBJECT_WORKS_SUPPLIES_SERVICES_PRIOR_INFORMATION.SCHEDULED_DATE_PERIOD.PROCEDURE_DATE_STARTING.YEAR`, `FD_OBJECT_WORKS_SUPPLIES_SERVICES_PRIOR_INFORMATION.SCHEDULED_DATE_PERIOD.PROCEDURE_DATE_STARTING.MONTH`, `FD_OBJECT_WORKS_SUPPLIES_SERVICES_PRIOR_INFORMATION.SCHEDULED_DATE_PERIOD.PROCEDURE_DATE_STARTING.DAY`)\"))"
   ]
  },
  {
   "cell_type": "code",
   "execution_count": null,
   "id": "e21b12f6-adcd-49a4-bed3-8d6647648023",
   "metadata": {},
   "outputs": [],
   "source": [
    "fd16.printSchema()"
   ]
  },
  {
   "cell_type": "code",
   "execution_count": null,
   "id": "024d1418-da36-4d24-84ab-5b250baaa40d",
   "metadata": {},
   "outputs": [],
   "source": [
    "pd16 = fd16.to_pandas_on_spark()\n",
    "\n",
    "#pd16.info()"
   ]
  },
  {
   "cell_type": "code",
   "execution_count": null,
   "id": "74adaf67-786f-4d3b-997a-9f8f5ce218b3",
   "metadata": {},
   "outputs": [],
   "source": [
    "pd16 = pd16.drop(columns=['FD_OTH_INFO_NOTICE_DISPATCH_DATE.DAY', 'FD_OTH_INFO_NOTICE_DISPATCH_DATE.MONTH', 'FD_OTH_INFO_NOTICE_DISPATCH_DATE.YEAR'])\n",
    "pd16 = pd16.drop(columns=['FD_OBJECT_WORKS_SUPPLIES_SERVICES_PRIOR_INFORMATION.SCHEDULED_DATE_PERIOD.PERIOD_WORK_DATE_STARTING.INTERVAL_DATE.END_DATE.DAY', 'FD_OBJECT_WORKS_SUPPLIES_SERVICES_PRIOR_INFORMATION.SCHEDULED_DATE_PERIOD.PERIOD_WORK_DATE_STARTING.INTERVAL_DATE.END_DATE.MONTH', 'FD_OBJECT_WORKS_SUPPLIES_SERVICES_PRIOR_INFORMATION.SCHEDULED_DATE_PERIOD.PERIOD_WORK_DATE_STARTING.INTERVAL_DATE.END_DATE.YEAR'])\n",
    "pd16 = pd16.drop(columns=['FD_OBJECT_WORKS_SUPPLIES_SERVICES_PRIOR_INFORMATION.SCHEDULED_DATE_PERIOD.PERIOD_WORK_DATE_STARTING.INTERVAL_DATE.START_DATE.DAY', 'FD_OBJECT_WORKS_SUPPLIES_SERVICES_PRIOR_INFORMATION.SCHEDULED_DATE_PERIOD.PERIOD_WORK_DATE_STARTING.INTERVAL_DATE.START_DATE.MONTH', 'FD_OBJECT_WORKS_SUPPLIES_SERVICES_PRIOR_INFORMATION.SCHEDULED_DATE_PERIOD.PERIOD_WORK_DATE_STARTING.INTERVAL_DATE.START_DATE.YEAR'])\n",
    "pd16 = pd16.drop(columns=['FD_OBJECT_WORKS_SUPPLIES_SERVICES_PRIOR_INFORMATION.SCHEDULED_DATE_PERIOD.PROCEDURE_DATE_STARTING.DAY', 'FD_OBJECT_WORKS_SUPPLIES_SERVICES_PRIOR_INFORMATION.SCHEDULED_DATE_PERIOD.PROCEDURE_DATE_STARTING.MONTH', 'FD_OBJECT_WORKS_SUPPLIES_SERVICES_PRIOR_INFORMATION.SCHEDULED_DATE_PERIOD.PROCEDURE_DATE_STARTING.YEAR'])"
   ]
  },
  {
   "cell_type": "code",
   "execution_count": null,
   "id": "3ac208f9-ffa9-4c93-a1f8-f8604fe5bed5",
   "metadata": {},
   "outputs": [],
   "source": [
    "pd16.info()"
   ]
  },
  {
   "cell_type": "code",
   "execution_count": null,
   "id": "7655ffb6-aa24-4423-82aa-70d79dea93fd",
   "metadata": {},
   "outputs": [],
   "source": [
    "pd16[\"FD_OTH_INFO_NOTICE_DISPATCH_DATE\"]= ps.to_datetime(pd16[\"FD_OTH_INFO_NOTICE_DISPATCH_DATE\"])\n",
    "pd16[\"FD_OBJECT_WORKS_SUPPLIES_SERVICES_PRIOR_INFORMATION.SCHEDULED_DATE_PERIOD.PERIOD_WORK_DATE_STARTING.INTERVAL_DATE.END_DATE\"]= ps.to_datetime(pd16[\"FD_OBJECT_WORKS_SUPPLIES_SERVICES_PRIOR_INFORMATION.SCHEDULED_DATE_PERIOD.PERIOD_WORK_DATE_STARTING.INTERVAL_DATE.END_DATE\"])\n",
    "pd16[\"FD_OBJECT_WORKS_SUPPLIES_SERVICES_PRIOR_INFORMATION.SCHEDULED_DATE_PERIOD.PERIOD_WORK_DATE_STARTING.INTERVAL_DATE.START_DATE\"]= ps.to_datetime(pd16[\"FD_OBJECT_WORKS_SUPPLIES_SERVICES_PRIOR_INFORMATION.SCHEDULED_DATE_PERIOD.PERIOD_WORK_DATE_STARTING.INTERVAL_DATE.START_DATE\"])\n",
    "pd16[\"FD_OBJECT_WORKS_SUPPLIES_SERVICES_PRIOR_INFORMATION.SCHEDULED_DATE_PERIOD.PROCEDURE_DATE_STARTING\"]= ps.to_datetime(pd16[\"FD_OBJECT_WORKS_SUPPLIES_SERVICES_PRIOR_INFORMATION.SCHEDULED_DATE_PERIOD.PROCEDURE_DATE_STARTING\"])"
   ]
  },
  {
   "cell_type": "code",
   "execution_count": null,
   "id": "b979c5ae-1d00-48a8-8427-ea9c626570d0",
   "metadata": {},
   "outputs": [],
   "source": [
    "pd16.info() "
   ]
  },
  {
   "cell_type": "code",
   "execution_count": null,
   "id": "621aa975-1130-4a70-8db7-09da62bdb418",
   "metadata": {},
   "outputs": [],
   "source": [
    "fd16.write.parquet(\"s3a_//falk2210/fd16_210921.parquet\")"
   ]
  },
  {
   "cell_type": "code",
   "execution_count": null,
   "id": "17f489dd-d42a-4f22-8a3e-2d149a53142d",
   "metadata": {},
   "outputs": [],
   "source": [
    "fd16.write.mode('append').json(\"s3a_//falk2210/_pri.json\")"
   ]
  },
  {
   "cell_type": "code",
   "execution_count": null,
   "id": "ee33bc96-ee47-4083-83d2-9c6b095e2e8e",
   "metadata": {},
   "outputs": [],
   "source": [
    "pri = ps.concat([pd1, pd16], ignore_index=True)"
   ]
  },
  {
   "cell_type": "code",
   "execution_count": null,
   "id": "5020a7cb-0144-448f-a73d-a07a4c7c2e6d",
   "metadata": {},
   "outputs": [],
   "source": [
    "pri.info()"
   ]
  },
  {
   "cell_type": "markdown",
   "id": "108dfa83-cd78-4b70-bc08-1ccb5e8c2688",
   "metadata": {
    "jp-MarkdownHeadingCollapsed": true,
    "tags": []
   },
   "source": [
    "# 17 CONTRACT "
   ]
  },
  {
   "cell_type": "markdown",
   "id": "9080959e-02a3-45f9-aea2-072e04bd3b09",
   "metadata": {},
   "source": [
    "<a id='d17' />"
   ]
  },
  {
   "cell_type": "code",
   "execution_count": null,
   "id": "27033814-d424-4916-a306-f6ca1b2fa3e6",
   "metadata": {},
   "outputs": [],
   "source": [
    "d17 = spark.read.json(\"falk/17.json/*.json\")\n",
    "#d17.printSchema()"
   ]
  },
  {
   "cell_type": "code",
   "execution_count": null,
   "id": "60a8b745-99fe-4f99-be99-8753ee8ffd41",
   "metadata": {},
   "outputs": [],
   "source": [
    "pd17 = d17.to_pandas_on_spark()"
   ]
  },
  {
   "cell_type": "code",
   "execution_count": null,
   "id": "99977e70-34da-4917-983e-881a7e282ba9",
   "metadata": {},
   "outputs": [],
   "source": [
    "pd17 = pd17.rename(columns=lambda x_ re.sub('DOFFIN_ESENDERS_VERSION', 'DOFFIN_VERSION', x))\n",
    "#pd17.info()"
   ]
  },
  {
   "cell_type": "code",
   "execution_count": null,
   "id": "bf0b16fa-5498-404b-9fbd-88ab01671310",
   "metadata": {},
   "outputs": [],
   "source": [
    "pd17 = pd17.rename(columns=lambda x_ re.sub('DOFFIN_ESENDERS_', '', x))\n",
    "\n",
    "pd17 = pd17.rename(columns=lambda x_ re.sub('FORM_SECTION_', '', x))\n",
    "#pd17.info()"
   ]
  },
  {
   "cell_type": "code",
   "execution_count": null,
   "id": "17e20257-2246-4c3e-b385-aa800185feb8",
   "metadata": {},
   "outputs": [],
   "source": [
    "pd17 = pd17.rename(columns=lambda x_ re.sub('CONTRACT_DEFENCE_', '', x))\n",
    "#pd17.info()"
   ]
  },
  {
   "cell_type": "code",
   "execution_count": null,
   "id": "32d6dd58-182b-4c1b-8a4d-be4670a599a2",
   "metadata": {},
   "outputs": [],
   "source": [
    "#pd17 = pd17.rename(columns=lambda x_ re.sub('_', '_', x))\n",
    "#pd17.info()"
   ]
  },
  {
   "cell_type": "code",
   "execution_count": null,
   "id": "7685e900-6d6c-47ea-8392-c5d621b2d09f",
   "metadata": {},
   "outputs": [],
   "source": [
    "pd17['FD_COMPLEMENTARY_INFORMATION_CONTRACT_NOTICE_ADDITIONAL_INFORMATION'].update(pd17.pop('FD_COMPLEMENTARY_INFORMATION_CONTRACT_NOTICE_ADDITIONAL_INFORMATION_P'))\n",
    "pd17['FD_COMPLEMENTARY_INFORMATION_CONTRACT_NOTICE_PROCEDURES_FOR_APPEAL_LODGING_OF_APPEALS_LODGING_OF_APPEALS_PRECISION'].update(pd17.pop('FD_COMPLEMENTARY_INFORMATION_CONTRACT_NOTICE_PROCEDURES_FOR_APPEAL_LODGING_OF_APPEALS_LODGING_OF_APPEALS_PRECISION_P'))\n",
    "pd17['FD_COMPLEMENTARY_INFORMATION_CONTRACT_NOTICE_RECURRENT_PROCUREMENT'].update(pd17.pop('FD_COMPLEMENTARY_INFORMATION_CONTRACT_NOTICE_RECURRENT_PROCUREMENT_P'))\n",
    "pd17['FD_LEFTI_CONTRACT_RELATING_CONDITIONS_DEPOSITS_GUARANTEES_REQUIRED'].update(pd17.pop('FD_LEFTI_CONTRACT_RELATING_CONDITIONS_DEPOSITS_GUARANTEES_REQUIRED_P'))\n",
    "pd17['FD_LEFTI_CONTRACT_RELATING_CONDITIONS_EXISTENCE_OTHER_PARTICULAR_CONDITIONS'].update(pd17.pop('FD_LEFTI_CONTRACT_RELATING_CONDITIONS_EXISTENCE_OTHER_PARTICULAR_CONDITIONS_P'))\n",
    "pd17['FD_LEFTI_CONTRACT_RELATING_CONDITIONS_LEGAL_FORM'].update(pd17.pop('FD_LEFTI_CONTRACT_RELATING_CONDITIONS_LEGAL_FORM_P'))\n",
    "pd17['FD_LEFTI_CONTRACT_RELATING_CONDITIONS_MAIN_FINANCING_CONDITIONS'].update(pd17.pop('FD_LEFTI_CONTRACT_RELATING_CONDITIONS_MAIN_FINANCING_CONDITIONS_P'))\n",
    "pd17['FD_LEFTI_F17_CONDITIONS_FOR_PARTICIPATION_ECONOMIC_OPERATORS_PERSONAL_SITUATION'].update(pd17.pop('FD_LEFTI_F17_CONDITIONS_FOR_PARTICIPATION_ECONOMIC_OPERATORS_PERSONAL_SITUATION_P'))\n",
    "pd17['FD_LEFTI_F17_CONDITIONS_FOR_PARTICIPATION_ECONOMIC_OPERATORS_PERSONAL_SITUATION_SUBCONTRACTORS'].update(pd17.pop('FD_LEFTI_F17_CONDITIONS_FOR_PARTICIPATION_ECONOMIC_OPERATORS_PERSONAL_SITUATION_SUBCONTRACTORS_P'))\n",
    "pd17['FD_LEFTI_F17_CONDITIONS_FOR_PARTICIPATION_F17_ECONOMIC_FINANCIAL_CAPACITY_EAF_CAPACITY_INFORMATION'].update(pd17.pop('FD_LEFTI_F17_CONDITIONS_FOR_PARTICIPATION_F17_ECONOMIC_FINANCIAL_CAPACITY_EAF_CAPACITY_INFORMATION_P'))\n",
    "pd17['FD_LEFTI_F17_CONDITIONS_FOR_PARTICIPATION_F17_ECONOMIC_FINANCIAL_CAPACITY_EAF_CAPACITY_MIN_LEVEL'].update(pd17.pop('FD_LEFTI_F17_CONDITIONS_FOR_PARTICIPATION_F17_ECONOMIC_FINANCIAL_CAPACITY_EAF_CAPACITY_MIN_LEVEL_P'))\n",
    "pd17['FD_LEFTI_F17_CONDITIONS_FOR_PARTICIPATION_F17_ECONOMIC_FINANCIAL_CAPACITY_SUBCONTRACTORS_EAF_CAPACITY_INFORMATION'].update(pd17.pop('FD_LEFTI_F17_CONDITIONS_FOR_PARTICIPATION_F17_ECONOMIC_FINANCIAL_CAPACITY_SUBCONTRACTORS_EAF_CAPACITY_INFORMATION_P'))\n",
    "pd17['FD_LEFTI_F17_CONDITIONS_FOR_PARTICIPATION_F17_ECONOMIC_FINANCIAL_CAPACITY_SUBCONTRACTORS_EAF_CAPACITY_MIN_LEVEL'].update(pd17.pop('FD_LEFTI_F17_CONDITIONS_FOR_PARTICIPATION_F17_ECONOMIC_FINANCIAL_CAPACITY_SUBCONTRACTORS_EAF_CAPACITY_MIN_LEVEL_P'))\n",
    "pd17['FD_LEFTI_F17_CONDITIONS_FOR_PARTICIPATION_TECHNICAL_CAPACITY_LEFTI_T_CAPACITY_INFORMATION'].update(pd17.pop('FD_LEFTI_F17_CONDITIONS_FOR_PARTICIPATION_TECHNICAL_CAPACITY_LEFTI_T_CAPACITY_INFORMATION_P'))\n",
    "pd17['FD_LEFTI_F17_CONDITIONS_FOR_PARTICIPATION_TECHNICAL_CAPACITY_LEFTI_T_CAPACITY_MIN_LEVEL'].update(pd17.pop('FD_LEFTI_F17_CONDITIONS_FOR_PARTICIPATION_TECHNICAL_CAPACITY_LEFTI_T_CAPACITY_MIN_LEVEL_P'))\n",
    "pd17['FD_LEFTI_F17_CONDITIONS_FOR_PARTICIPATION_TECHNICAL_CAPACITY_LEFTI_SUBCONTRACTORS_T_CAPACITY_INFORMATION'].update(pd17.pop('FD_LEFTI_F17_CONDITIONS_FOR_PARTICIPATION_TECHNICAL_CAPACITY_LEFTI_SUBCONTRACTORS_T_CAPACITY_INFORMATION_P'))\n",
    "pd17['FD_LEFTI_F17_CONDITIONS_FOR_PARTICIPATION_TECHNICAL_CAPACITY_LEFTI_SUBCONTRACTORS_T_CAPACITY_MIN_LEVEL'].update(pd17.pop('FD_LEFTI_F17_CONDITIONS_FOR_PARTICIPATION_TECHNICAL_CAPACITY_LEFTI_SUBCONTRACTORS_T_CAPACITY_MIN_LEVEL_P'))\n",
    "pd17['FD_LEFTI_SERVICES_CONTRACTS_SPECIFIC_CONDITIONS_EXECUTION_SERVICE_RESERVED_PARTICULAR_PROFESSION'].update(pd17.pop('FD_LEFTI_SERVICES_CONTRACTS_SPECIFIC_CONDITIONS_EXECUTION_SERVICE_RESERVED_PARTICULAR_PROFESSION_P'))\n",
    "pd17['FD_OBJECT_CONTRACT_INFORMATION_DEFENCE_DESCRIPTION_CONTRACT_INFORMATION_DEFENCE_F17_DIVISION_INTO_LOTS_F17_DIV_INTO_LOT_YES_F17_ANNEX_B_ADDITIONAL_INFORMATION_ABOUT_LOTS'].update(pd17.pop('FD_OBJECT_CONTRACT_INFORMATION_DEFENCE_DESCRIPTION_CONTRACT_INFORMATION_DEFENCE_F17_DIVISION_INTO_LOTS_F17_DIV_INTO_LOT_YES_F17_ANNEX_B_ADDITIONAL_INFORMATION_ABOUT_LOTS_P'))\n",
    "pd17['FD_OBJECT_CONTRACT_INFORMATION_DEFENCE_DESCRIPTION_CONTRACT_INFORMATION_DEFENCE_F17_DIVISION_INTO_LOTS_F17_DIV_INTO_LOT_YES_F17_ANNEX_B_LOT_DESCRIPTION'].update(pd17.pop('FD_OBJECT_CONTRACT_INFORMATION_DEFENCE_DESCRIPTION_CONTRACT_INFORMATION_DEFENCE_F17_DIVISION_INTO_LOTS_F17_DIV_INTO_LOT_YES_F17_ANNEX_B_LOT_DESCRIPTION_P'))\n",
    "pd17['FD_OBJECT_CONTRACT_INFORMATION_DEFENCE_DESCRIPTION_CONTRACT_INFORMATION_DEFENCE_F17_DIVISION_INTO_LOTS_F17_DIV_INTO_LOT_YES_F17_ANNEX_B_NATURE_QUANTITY_SCOPE_TOTAL_QUANTITY_OR_SCOPE'].update(pd17.pop('FD_OBJECT_CONTRACT_INFORMATION_DEFENCE_DESCRIPTION_CONTRACT_INFORMATION_DEFENCE_F17_DIVISION_INTO_LOTS_F17_DIV_INTO_LOT_YES_F17_ANNEX_B_NATURE_QUANTITY_SCOPE_TOTAL_QUANTITY_OR_SCOPE_P'))\n",
    "pd17['FD_OBJECT_CONTRACT_INFORMATION_DEFENCE_DESCRIPTION_CONTRACT_INFORMATION_DEFENCE_F17_FRAMEWORK_TOTAL_ESTIMATED_FREQUENCY_AWARDED_CONTRACTS'].update(pd17.pop('FD_OBJECT_CONTRACT_INFORMATION_DEFENCE_DESCRIPTION_CONTRACT_INFORMATION_DEFENCE_F17_FRAMEWORK_TOTAL_ESTIMATED_FREQUENCY_AWARDED_CONTRACTS_P'))\n",
    "pd17['FD_OBJECT_CONTRACT_INFORMATION_DEFENCE_DESCRIPTION_CONTRACT_INFORMATION_DEFENCE_LOCATION_NUTS_LOCATION'].update(pd17.pop('FD_OBJECT_CONTRACT_INFORMATION_DEFENCE_DESCRIPTION_CONTRACT_INFORMATION_DEFENCE_LOCATION_NUTS_LOCATION_P'))\n",
    "pd17['FD_OBJECT_CONTRACT_INFORMATION_DEFENCE_DESCRIPTION_CONTRACT_INFORMATION_DEFENCE_SHORT_CONTRACT_DESCRIPTION'].update(pd17.pop('FD_OBJECT_CONTRACT_INFORMATION_DEFENCE_DESCRIPTION_CONTRACT_INFORMATION_DEFENCE_SHORT_CONTRACT_DESCRIPTION_P'))\n",
    "pd17['FD_OBJECT_CONTRACT_INFORMATION_DEFENCE_DESCRIPTION_CONTRACT_INFORMATION_DEFENCE_TITLE_CONTRACT'].update(pd17.pop('FD_OBJECT_CONTRACT_INFORMATION_DEFENCE_DESCRIPTION_CONTRACT_INFORMATION_DEFENCE_TITLE_CONTRACT_P'))\n",
    "pd17['FD_OBJECT_CONTRACT_INFORMATION_DEFENCE_QUANTITY_SCOPE_NATURE_QUANTITY_SCOPE_TOTAL_QUANTITY_OR_SCOPE'].update(pd17.pop('FD_OBJECT_CONTRACT_INFORMATION_DEFENCE_QUANTITY_SCOPE_NATURE_QUANTITY_SCOPE_TOTAL_QUANTITY_OR_SCOPE_P'))\n",
    "pd17['FD_OBJECT_CONTRACT_INFORMATION_DEFENCE_QUANTITY_SCOPE_OPTIONS_OPTION_DESCRIPTION'].update(pd17.pop('FD_OBJECT_CONTRACT_INFORMATION_DEFENCE_QUANTITY_SCOPE_OPTIONS_OPTION_DESCRIPTION_P'))\n",
    "pd17['FD_PROCEDURE_DEFINITION_CONTRACT_NOTICE_DEFENCE_ADMINISTRATIVE_INFORMATION_CONTRACT_NOTICE_DEFENCE_FILE_REFERENCE_NUMBER'].update(pd17.pop('FD_PROCEDURE_DEFINITION_CONTRACT_NOTICE_DEFENCE_ADMINISTRATIVE_INFORMATION_CONTRACT_NOTICE_DEFENCE_FILE_REFERENCE_NUMBER_P'))\n",
    "pd17['FD_PROCEDURE_DEFINITION_CONTRACT_NOTICE_DEFENCE_ADMINISTRATIVE_INFORMATION_CONTRACT_NOTICE_DEFENCE_LANGUAGE_LANGUAGE_OTHER'].update(pd17.pop('FD_PROCEDURE_DEFINITION_CONTRACT_NOTICE_DEFENCE_ADMINISTRATIVE_INFORMATION_CONTRACT_NOTICE_DEFENCE_LANGUAGE_LANGUAGE_OTHER_P'))\n",
    "pd17['FD_PROCEDURE_DEFINITION_CONTRACT_NOTICE_DEFENCE_TYPE_OF_PROCEDURE_DEFENCE_MAXIMUM_NUMBER_INVITED_OPE_OBJECTIVE_CRITERIA'].update(pd17.pop('FD_PROCEDURE_DEFINITION_CONTRACT_NOTICE_DEFENCE_TYPE_OF_PROCEDURE_DEFENCE_MAXIMUM_NUMBER_INVITED_OPE_OBJECTIVE_CRITERIA_P'))"
   ]
  },
  {
   "cell_type": "code",
   "execution_count": null,
   "id": "29c72621-381c-4502-810a-bc84e0c5a6e2",
   "metadata": {},
   "outputs": [],
   "source": [
    "pd17 = pd17.rename(columns=lambda x_ re.sub('\\_P$', '', x))\n",
    "pd17.info()"
   ]
  },
  {
   "cell_type": "code",
   "execution_count": null,
   "id": "f6a752b4-9737-40ed-9e16-8d88f7695ab6",
   "metadata": {},
   "outputs": [],
   "source": [
    "fd17 = pd17.to_spark()"
   ]
  },
  {
   "cell_type": "code",
   "execution_count": null,
   "id": "40fa9c4a-beb1-4419-b57d-8dc1080ecc88",
   "metadata": {},
   "outputs": [],
   "source": [
    "fd17 = fd17.withColumn(\"FD_COMPLEMENTARY_INFORMATION_CONTRACT_NOTICE.NOTICE_DISPATCH_DATE\", expr(\"make_date(`FD_COMPLEMENTARY_INFORMATION_CONTRACT_NOTICE.NOTICE_DISPATCH_DATE.YEAR`, `FD_COMPLEMENTARY_INFORMATION_CONTRACT_NOTICE.NOTICE_DISPATCH_DATE.MONTH`, `FD_COMPLEMENTARY_INFORMATION_CONTRACT_NOTICE.NOTICE_DISPATCH_DATE.DAY`)\"))\n",
    "fd17 = fd17.withColumn(\"FD_LEFTI_CONTRACT_RELATING_CONDITIONS.CLEARING_LAST_DATE\", expr(\"make_date(`FD_LEFTI_CONTRACT_RELATING_CONDITIONS.CLEARING_LAST_DATE.YEAR`, `FD_LEFTI_CONTRACT_RELATING_CONDITIONS.CLEARING_LAST_DATE.MONTH`, `FD_LEFTI_CONTRACT_RELATING_CONDITIONS.CLEARING_LAST_DATE.DAY`)\"))\n",
    "fd17 = fd17.withColumn(\"FD_OBJECT_CONTRACT_INFORMATION_DEFENCE.PERIOD_WORK_DATE_STARTING.INTERVAL_DATE.END_DATE\", expr(\"make_date(`FD_OBJECT_CONTRACT_INFORMATION_DEFENCE.PERIOD_WORK_DATE_STARTING.INTERVAL_DATE.END_DATE.YEAR`, `FD_OBJECT_CONTRACT_INFORMATION_DEFENCE.PERIOD_WORK_DATE_STARTING.INTERVAL_DATE.END_DATE.MONTH`, `FD_OBJECT_CONTRACT_INFORMATION_DEFENCE.PERIOD_WORK_DATE_STARTING.INTERVAL_DATE.END_DATE.DAY`)\"))\n",
    "fd17 = fd17.withColumn(\"FD_OBJECT_CONTRACT_INFORMATION_DEFENCE.PERIOD_WORK_DATE_STARTING.INTERVAL_DATE.START_DATE\", expr(\"make_date(`FD_OBJECT_CONTRACT_INFORMATION_DEFENCE.PERIOD_WORK_DATE_STARTING.INTERVAL_DATE.START_DATE.YEAR`, `FD_OBJECT_CONTRACT_INFORMATION_DEFENCE.PERIOD_WORK_DATE_STARTING.INTERVAL_DATE.START_DATE.MONTH`, `FD_OBJECT_CONTRACT_INFORMATION_DEFENCE.PERIOD_WORK_DATE_STARTING.INTERVAL_DATE.START_DATE.DAY`)\"))\n",
    "fd17 = fd17.withColumn(\"FD_PROCEDURE_DEFINITION_CONTRACT_NOTICE_DEFENCE.ADMINISTRATIVE_INFORMATION_CONTRACT_NOTICE_DEFENCE.DISPATCH_INVITATIONS_DATE\", expr(\"make_date(`FD_PROCEDURE_DEFINITION_CONTRACT_NOTICE_DEFENCE.ADMINISTRATIVE_INFORMATION_CONTRACT_NOTICE_DEFENCE.DISPATCH_INVITATIONS_DATE.YEAR`, `FD_PROCEDURE_DEFINITION_CONTRACT_NOTICE_DEFENCE.ADMINISTRATIVE_INFORMATION_CONTRACT_NOTICE_DEFENCE.DISPATCH_INVITATIONS_DATE.MONTH`, `FD_PROCEDURE_DEFINITION_CONTRACT_NOTICE_DEFENCE.ADMINISTRATIVE_INFORMATION_CONTRACT_NOTICE_DEFENCE.DISPATCH_INVITATIONS_DATE.DAY`)\"))\n",
    "fd17 = fd17.withColumn(\"FD_PROCEDURE_DEFINITION_CONTRACT_NOTICE_DEFENCE.ADMINISTRATIVE_INFORMATION_CONTRACT_NOTICE_DEFENCE.PREVIOUS_PUBLICATION_INFORMATION_NOTICE_F17.PREVIOUS_PUBLICATION_EXISTS_F17.PREVIOUS_PUBLICATION_NOTICE_F17.DATE_OJ\", expr(\"make_date(`FD_PROCEDURE_DEFINITION_CONTRACT_NOTICE_DEFENCE.ADMINISTRATIVE_INFORMATION_CONTRACT_NOTICE_DEFENCE.PREVIOUS_PUBLICATION_INFORMATION_NOTICE_F17.PREVIOUS_PUBLICATION_EXISTS_F17.PREVIOUS_PUBLICATION_NOTICE_F17.DATE_OJ.YEAR`, `FD_PROCEDURE_DEFINITION_CONTRACT_NOTICE_DEFENCE.ADMINISTRATIVE_INFORMATION_CONTRACT_NOTICE_DEFENCE.PREVIOUS_PUBLICATION_INFORMATION_NOTICE_F17.PREVIOUS_PUBLICATION_EXISTS_F17.PREVIOUS_PUBLICATION_NOTICE_F17.DATE_OJ.MONTH`, `FD_PROCEDURE_DEFINITION_CONTRACT_NOTICE_DEFENCE.ADMINISTRATIVE_INFORMATION_CONTRACT_NOTICE_DEFENCE.PREVIOUS_PUBLICATION_INFORMATION_NOTICE_F17.PREVIOUS_PUBLICATION_EXISTS_F17.PREVIOUS_PUBLICATION_NOTICE_F17.DATE_OJ.DAY`)\"))\n",
    "fd17 = fd17.withColumn(\"FD_PROCEDURE_DEFINITION_CONTRACT_NOTICE_DEFENCE.ADMINISTRATIVE_INFORMATION_CONTRACT_NOTICE_DEFENCE.RECEIPT_LIMIT_DATE\", expr(\"make_date(`FD_PROCEDURE_DEFINITION_CONTRACT_NOTICE_DEFENCE.ADMINISTRATIVE_INFORMATION_CONTRACT_NOTICE_DEFENCE.RECEIPT_LIMIT_DATE.YEAR`, `FD_PROCEDURE_DEFINITION_CONTRACT_NOTICE_DEFENCE.ADMINISTRATIVE_INFORMATION_CONTRACT_NOTICE_DEFENCE.RECEIPT_LIMIT_DATE.MONTH`, `FD_PROCEDURE_DEFINITION_CONTRACT_NOTICE_DEFENCE.ADMINISTRATIVE_INFORMATION_CONTRACT_NOTICE_DEFENCE.RECEIPT_LIMIT_DATE.DAY`)\"))"
   ]
  },
  {
   "cell_type": "code",
   "execution_count": null,
   "id": "7065cf16-f15b-4bb2-a2d9-98593ab9b98c",
   "metadata": {},
   "outputs": [],
   "source": [
    "fd17.printSchema()"
   ]
  },
  {
   "cell_type": "code",
   "execution_count": null,
   "id": "80471cf4-3ac4-4ac5-a4f2-ad2377435c19",
   "metadata": {},
   "outputs": [],
   "source": [
    "pd17 = fd17.to_pandas_on_spark()\n",
    "\n",
    "pd17.info()"
   ]
  },
  {
   "cell_type": "code",
   "execution_count": null,
   "id": "ad7a07c7-e290-448b-87cb-2e2e86da09c3",
   "metadata": {},
   "outputs": [],
   "source": [
    "pd17 = pd17.drop(columns=['FD_COMPLEMENTARY_INFORMATION_CONTRACT_NOTICE.NOTICE_DISPATCH_DATE.DAY', 'FD_COMPLEMENTARY_INFORMATION_CONTRACT_NOTICE.NOTICE_DISPATCH_DATE.MONTH', 'FD_COMPLEMENTARY_INFORMATION_CONTRACT_NOTICE.NOTICE_DISPATCH_DATE.YEAR'])\n",
    "pd17 = pd17.drop(columns=['FD_LEFTI_CONTRACT_RELATING_CONDITIONS.CLEARING_LAST_DATE.DAY', 'FD_LEFTI_CONTRACT_RELATING_CONDITIONS.CLEARING_LAST_DATE.MONTH', 'FD_LEFTI_CONTRACT_RELATING_CONDITIONS.CLEARING_LAST_DATE.YEAR'])\n",
    "pd17 = pd17.drop(columns=['FD_OBJECT_CONTRACT_INFORMATION_DEFENCE.PERIOD_WORK_DATE_STARTING.INTERVAL_DATE.END_DATE.DAY', 'FD_OBJECT_CONTRACT_INFORMATION_DEFENCE.PERIOD_WORK_DATE_STARTING.INTERVAL_DATE.END_DATE.MONTH', 'FD_OBJECT_CONTRACT_INFORMATION_DEFENCE.PERIOD_WORK_DATE_STARTING.INTERVAL_DATE.END_DATE.YEAR'])\n",
    "pd17 = pd17.drop(columns=['FD_OBJECT_CONTRACT_INFORMATION_DEFENCE.PERIOD_WORK_DATE_STARTING.INTERVAL_DATE.START_DATE.DAY', 'FD_OBJECT_CONTRACT_INFORMATION_DEFENCE.PERIOD_WORK_DATE_STARTING.INTERVAL_DATE.START_DATE.MONTH', 'FD_OBJECT_CONTRACT_INFORMATION_DEFENCE.PERIOD_WORK_DATE_STARTING.INTERVAL_DATE.START_DATE.YEAR'])\n",
    "pd17 = pd17.drop(columns=['FD_PROCEDURE_DEFINITION_CONTRACT_NOTICE_DEFENCE.ADMINISTRATIVE_INFORMATION_CONTRACT_NOTICE_DEFENCE.DISPATCH_INVITATIONS_DATE.DAY', 'FD_PROCEDURE_DEFINITION_CONTRACT_NOTICE_DEFENCE.ADMINISTRATIVE_INFORMATION_CONTRACT_NOTICE_DEFENCE.DISPATCH_INVITATIONS_DATE.MONTH', 'FD_PROCEDURE_DEFINITION_CONTRACT_NOTICE_DEFENCE.ADMINISTRATIVE_INFORMATION_CONTRACT_NOTICE_DEFENCE.DISPATCH_INVITATIONS_DATE.YEAR'])\n",
    "pd17 = pd17.drop(columns=['FD_PROCEDURE_DEFINITION_CONTRACT_NOTICE_DEFENCE.ADMINISTRATIVE_INFORMATION_CONTRACT_NOTICE_DEFENCE.PREVIOUS_PUBLICATION_INFORMATION_NOTICE_F17.PREVIOUS_PUBLICATION_EXISTS_F17.PREVIOUS_PUBLICATION_NOTICE_F17.DATE_OJ.DAY', 'FD_PROCEDURE_DEFINITION_CONTRACT_NOTICE_DEFENCE.ADMINISTRATIVE_INFORMATION_CONTRACT_NOTICE_DEFENCE.PREVIOUS_PUBLICATION_INFORMATION_NOTICE_F17.PREVIOUS_PUBLICATION_EXISTS_F17.PREVIOUS_PUBLICATION_NOTICE_F17.DATE_OJ.MONTH', 'FD_PROCEDURE_DEFINITION_CONTRACT_NOTICE_DEFENCE.ADMINISTRATIVE_INFORMATION_CONTRACT_NOTICE_DEFENCE.PREVIOUS_PUBLICATION_INFORMATION_NOTICE_F17.PREVIOUS_PUBLICATION_EXISTS_F17.PREVIOUS_PUBLICATION_NOTICE_F17.DATE_OJ.YEAR'])\n",
    "pd17 = pd17.drop(columns=['FD_PROCEDURE_DEFINITION_CONTRACT_NOTICE_DEFENCE.ADMINISTRATIVE_INFORMATION_CONTRACT_NOTICE_DEFENCE.RECEIPT_LIMIT_DATE.DAY', 'FD_PROCEDURE_DEFINITION_CONTRACT_NOTICE_DEFENCE.ADMINISTRATIVE_INFORMATION_CONTRACT_NOTICE_DEFENCE.RECEIPT_LIMIT_DATE.MONTH', 'FD_PROCEDURE_DEFINITION_CONTRACT_NOTICE_DEFENCE.ADMINISTRATIVE_INFORMATION_CONTRACT_NOTICE_DEFENCE.RECEIPT_LIMIT_DATE.YEAR'])"
   ]
  },
  {
   "cell_type": "code",
   "execution_count": null,
   "id": "ec92d66c-56f8-4652-acdd-45ba5453f794",
   "metadata": {},
   "outputs": [],
   "source": [
    "pd17.info()"
   ]
  },
  {
   "cell_type": "code",
   "execution_count": null,
   "id": "8cb7d2a0-757a-4685-b3ce-e818501d46fb",
   "metadata": {},
   "outputs": [],
   "source": [
    "pd17[\"FD_COMPLEMENTARY_INFORMATION_CONTRACT_NOTICE.NOTICE_DISPATCH_DATE\"]= ps.to_datetime(pd17[\"FD_COMPLEMENTARY_INFORMATION_CONTRACT_NOTICE.NOTICE_DISPATCH_DATE\"])\n",
    "pd17[\"FD_LEFTI_CONTRACT_RELATING_CONDITIONS.CLEARING_LAST_DATE\"]= ps.to_datetime(pd17[\"FD_LEFTI_CONTRACT_RELATING_CONDITIONS.CLEARING_LAST_DATE\"])\n",
    "pd17[\"FD_OBJECT_CONTRACT_INFORMATION_DEFENCE.PERIOD_WORK_DATE_STARTING.INTERVAL_DATE.END_DATE\"]= ps.to_datetime(pd17[\"FD_OBJECT_CONTRACT_INFORMATION_DEFENCE.PERIOD_WORK_DATE_STARTING.INTERVAL_DATE.END_DATE\"])\n",
    "pd17[\"FD_OBJECT_CONTRACT_INFORMATION_DEFENCE.PERIOD_WORK_DATE_STARTING.INTERVAL_DATE.START_DATE\"]= ps.to_datetime(pd17[\"FD_OBJECT_CONTRACT_INFORMATION_DEFENCE.PERIOD_WORK_DATE_STARTING.INTERVAL_DATE.START_DATE\"])\n",
    "pd17[\"FD_PROCEDURE_DEFINITION_CONTRACT_NOTICE_DEFENCE.ADMINISTRATIVE_INFORMATION_CONTRACT_NOTICE_DEFENCE.DISPATCH_INVITATIONS_DATE\"]= ps.to_datetime(pd17[\"FD_PROCEDURE_DEFINITION_CONTRACT_NOTICE_DEFENCE.ADMINISTRATIVE_INFORMATION_CONTRACT_NOTICE_DEFENCE.DISPATCH_INVITATIONS_DATE\"])\n",
    "pd17[\"FD_PROCEDURE_DEFINITION_CONTRACT_NOTICE_DEFENCE.ADMINISTRATIVE_INFORMATION_CONTRACT_NOTICE_DEFENCE.PREVIOUS_PUBLICATION_INFORMATION_NOTICE_F17.PREVIOUS_PUBLICATION_EXISTS_F17.PREVIOUS_PUBLICATION_NOTICE_F17.DATE_OJ\"]= ps.to_datetime(pd17[\"FD_PROCEDURE_DEFINITION_CONTRACT_NOTICE_DEFENCE.ADMINISTRATIVE_INFORMATION_CONTRACT_NOTICE_DEFENCE.PREVIOUS_PUBLICATION_INFORMATION_NOTICE_F17.PREVIOUS_PUBLICATION_EXISTS_F17.PREVIOUS_PUBLICATION_NOTICE_F17.DATE_OJ\"])\n",
    "pd17[\"FD_PROCEDURE_DEFINITION_CONTRACT_NOTICE_DEFENCE.ADMINISTRATIVE_INFORMATION_CONTRACT_NOTICE_DEFENCE.RECEIPT_LIMIT_DATE\"]= ps.to_datetime(pd17[\"FD_PROCEDURE_DEFINITION_CONTRACT_NOTICE_DEFENCE.ADMINISTRATIVE_INFORMATION_CONTRACT_NOTICE_DEFENCE.RECEIPT_LIMIT_DATE\"])"
   ]
  },
  {
   "cell_type": "code",
   "execution_count": null,
   "id": "1b184d80-9b90-42b9-96df-48d43e7c62c3",
   "metadata": {},
   "outputs": [],
   "source": [
    "pd17.info() "
   ]
  },
  {
   "cell_type": "code",
   "execution_count": null,
   "id": "9164a3be-0b4f-4c9c-b695-c4904f1d0179",
   "metadata": {},
   "outputs": [],
   "source": [
    "fd17 = pd17.to_spark()\n",
    "\n",
    "fd17.write.parquet(\"s3a_//falk2210/fd17_210921.parquet\")"
   ]
  },
  {
   "cell_type": "markdown",
   "id": "40b641c1-1de1-41d2-80b9-43a9068ed80e",
   "metadata": {
    "tags": []
   },
   "source": [
    "# 18 AWARD "
   ]
  },
  {
   "cell_type": "markdown",
   "id": "ac1b49cc-853f-4dfe-89ae-36b514a9cbe1",
   "metadata": {},
   "source": [
    "<a id='d18' />"
   ]
  },
  {
   "cell_type": "code",
   "execution_count": null,
   "id": "79dab012-a19c-448d-953c-a9c9125e5c7d",
   "metadata": {},
   "outputs": [],
   "source": [
    "d18 = spark.read.json(\"falk/18.json/*.json\")\n",
    "#d18.printSchema()"
   ]
  },
  {
   "cell_type": "code",
   "execution_count": null,
   "id": "26d93100-3f64-42b4-90b9-2c38c513ddb0",
   "metadata": {},
   "outputs": [],
   "source": [
    "pd18 = d18.to_pandas_on_spark()"
   ]
  },
  {
   "cell_type": "code",
   "execution_count": null,
   "id": "1402648e-d90b-4fc9-bdf1-db2442567514",
   "metadata": {},
   "outputs": [],
   "source": [
    "pd18 = pd18.rename(columns=lambda x_ re.sub('DOFFIN_ESENDERS_VERSION', 'DOFFIN_VERSION', x))\n",
    "#pd18.info()"
   ]
  },
  {
   "cell_type": "code",
   "execution_count": null,
   "id": "5e0f75bb-26f2-4cbe-8b1d-bb90a7fdae49",
   "metadata": {},
   "outputs": [],
   "source": [
    "pd18 = pd18.rename(columns=lambda x_ re.sub('DOFFIN_ESENDERS_', '', x))\n",
    "\n",
    "pd18 = pd18.rename(columns=lambda x_ re.sub('FORM_SECTION_', '', x))\n",
    "#pd18.info()"
   ]
  },
  {
   "cell_type": "code",
   "execution_count": null,
   "id": "5eb4aa11-e92f-4395-87e0-1f656abf172c",
   "metadata": {},
   "outputs": [],
   "source": [
    "pd18 = pd18.rename(columns=lambda x_ re.sub('CONTRACT_AWARD_DEFENCE_', '', x))\n",
    "\n",
    "#pd18.info()"
   ]
  },
  {
   "cell_type": "code",
   "execution_count": null,
   "id": "4a2c7ebc-1c95-469b-b18f-aabe63b7d40f",
   "metadata": {},
   "outputs": [],
   "source": [
    "pd18['FD_AWARD_OF_CONTRACT_DEFENCE_CONTRACT_TITLE'].update(pd18.pop('FD_AWARD_OF_CONTRACT_DEFENCE_CONTRACT_TITLE_P'))\n",
    "pd18['FD_COMPLEMENTARY_INFORMATION_CONTRACT_AWARD_ADDITIONAL_INFORMATION'].update(pd18.pop('FD_COMPLEMENTARY_INFORMATION_CONTRACT_AWARD_ADDITIONAL_INFORMATION_P'))\n",
    "pd18['FD_OBJECT_CONTRACT_INFORMATION_CONTRACT_AWARD_NOTICE_DEFENCE_DESCRIPTION_AWARD_NOTICE_INFORMATION_DEFENCE_LOCATION_NUTS_LOCATION'].update(pd18.pop('FD_OBJECT_CONTRACT_INFORMATION_CONTRACT_AWARD_NOTICE_DEFENCE_DESCRIPTION_AWARD_NOTICE_INFORMATION_DEFENCE_LOCATION_NUTS_LOCATION_P'))\n",
    "pd18['FD_OBJECT_CONTRACT_INFORMATION_CONTRACT_AWARD_NOTICE_DEFENCE_DESCRIPTION_AWARD_NOTICE_INFORMATION_DEFENCE_SHORT_CONTRACT_DESCRIPTION'].update(pd18.pop('FD_OBJECT_CONTRACT_INFORMATION_CONTRACT_AWARD_NOTICE_DEFENCE_DESCRIPTION_AWARD_NOTICE_INFORMATION_DEFENCE_SHORT_CONTRACT_DESCRIPTION_P'))\n",
    "pd18['FD_OBJECT_CONTRACT_INFORMATION_CONTRACT_AWARD_NOTICE_DEFENCE_DESCRIPTION_AWARD_NOTICE_INFORMATION_DEFENCE_TITLE_CONTRACT'].update(pd18.pop('FD_OBJECT_CONTRACT_INFORMATION_CONTRACT_AWARD_NOTICE_DEFENCE_DESCRIPTION_AWARD_NOTICE_INFORMATION_DEFENCE_TITLE_CONTRACT_P'))\n",
    "pd18['FD_PROCEDURE_DEFINITION_CONTRACT_AWARD_NOTICE_DEFENCE_ADMINISTRATIVE_INFORMATION_FILE_REFERENCE_NUMBER'].update(pd18.pop('FD_PROCEDURE_DEFINITION_CONTRACT_AWARD_NOTICE_DEFENCE_ADMINISTRATIVE_INFORMATION_FILE_REFERENCE_NUMBER_P'))\n",
    "pd18['FD_COMPLEMENTARY_INFORMATION_CONTRACT_AWARD_PROCEDURES_FOR_APPEAL_LODGING_OF_APPEALS_LODGING_OF_APPEALS_PRECISION'].update(pd18.pop('FD_COMPLEMENTARY_INFORMATION_CONTRACT_AWARD_PROCEDURES_FOR_APPEAL_LODGING_OF_APPEALS_LODGING_OF_APPEALS_PRECISION_P'))"
   ]
  },
  {
   "cell_type": "code",
   "execution_count": null,
   "id": "72e055b4-0beb-41a5-9ba1-86bb5776a3d2",
   "metadata": {},
   "outputs": [],
   "source": [
    "pd18 = pd18.rename(columns=lambda x_ re.sub('\\_P$', '', x))\n",
    "pd18 = pd18.rename(columns=lambda x_ re.sub('F18_', '', x))\n",
    "pd18 = pd18.rename(columns=lambda x_ re.sub('_F18', '', x))\n",
    "pd18 = pd18.rename(columns=lambda x_ re.sub('CONTACT_DATA_WITHOUT_RESPONSIBLE_NAME_', '', x))\n",
    "pd18 = pd18.rename(columns=lambda x_ re.sub('DOFFIN_FORM_TYPE_', '', x))\n",
    "pd18 = pd18.rename(columns=lambda x_ re.sub('ADMINISTRATIVE_INFORMATION_PREVIOUS_PUBLICATION_INFORMATION_NOTICE_', '', x))\n",
    "pd18 = pd18.rename(columns=lambda x_ re.sub('ORGANISATION_', '', x))\n",
    "pd18 = pd18.rename(columns=lambda x_ re.sub('FD_PROCEDURE_DEFINITION_CONTRACT_AWARD_NOTICE_ADMINISTRATIVE_INFORMATION_PREVIOUS_PUBLICATION_INFORMATION_NOTICE_F18_PREVIOUS_PUBLICATION_EXISTS_F18', 'FD_PROCEDURE_DEFINITION_CONTRACT_AWARD_NOTICE_ADMINISTRATIVE_INFORMATION_PREVIOUS_PUBLICATION_INFORMATION_NOTICE_PREVIOUS_PUBLICATION_EXISTS', x))\n",
    "pd18 = pd18.rename(columns=lambda x_ re.sub('PREVIOUS_PUBLICATION_NOTICE_F18', 'PREVIOUS_PUBLICATION_NOTICE', x))\n",
    "pd18 = pd18.rename(columns=lambda x_ re.sub('PREVIOUS_NOTICE_BUYER_PROFILE_F18', 'PREVIOUS_NOTICE_BUYER_PROFILE', x))\n",
    "pd18 = pd18.rename(columns=lambda x_ re.sub('AUTHORITY_INFORMATION_', '', x))\n",
    "pd18 = pd18.rename(columns=lambda x_ re.sub('E_MAILS_', '', x))\n",
    "pd18 = pd18.rename(columns=lambda x_ re.sub('_DEFENCE', '', x))\n",
    "pd18 = pd18.rename(columns=lambda x_ re.sub('FD_CONTRACTING_NAME_ADDRESSES_CONTACT_CONTRACT_AWARD_CA_CE_CONCESSIONAIRE_PROFILE_', 'FD_CONTRACTING_NAME_ADDRESSES_CONTACT_CA_CE_CONCESSIONAIRE_PROFILE_', x))\n",
    "pd18 = pd18.rename(columns=lambda x_ re.sub('FD_OBJECT_CONTRACT_INFORMATION_CONTRACT_AWARD_NOTICE_DESCRIPTION_AWARD_NOTICE_INFORMATION_', 'FD_OBJECT_CONTRACT_INFORMATION_CONTRACT_AWARD_NOTICE_DESCRIPTION_AWARD_NOTICE_INFORMATION_', x))\n",
    "pd18 = pd18.rename(columns=lambda x_ re.sub('FD_PROCEDURE_DEFINITION_CONTRACT_AWARD_NOTICE_PREVIOUS_PUBLICATION_EXISTS_', 'FD_PREVIOUS_PUBLICATION_EXISTS_', x))"
   ]
  },
  {
   "cell_type": "code",
   "execution_count": null,
   "id": "b0b5ea8c-4492-471f-887c-7c520ce7e5f7",
   "metadata": {},
   "outputs": [],
   "source": [
    "pd18['FD_COMPLEMENTARY_INFORMATION_CONTRACT_AWARD_PROCEDURES_FOR_APPEAL_APPEAL_PROCEDURE_BODY_RESPONSIBLE_ADDRESS'].update(pd18.pop('FD_COMPLEMENTARY_INFORMATION_CONTRACT_AWARD_PROCEDURES_FOR_APPEAL_LODGING_INFORMATION_FOR_SERVICE_ADDRESS'))\n",
    "pd18['FD_COMPLEMENTARY_INFORMATION_CONTRACT_AWARD_PROCEDURES_FOR_APPEAL_APPEAL_PROCEDURE_BODY_RESPONSIBLE_COUNTRY_VALUE'].update(pd18.pop('FD_COMPLEMENTARY_INFORMATION_CONTRACT_AWARD_PROCEDURES_FOR_APPEAL_LODGING_INFORMATION_FOR_SERVICE_COUNTRY_VALUE'))\n",
    "pd18['FD_COMPLEMENTARY_INFORMATION_CONTRACT_AWARD_PROCEDURES_FOR_APPEAL_APPEAL_PROCEDURE_BODY_RESPONSIBLE_E_MAIL'].update(pd18.pop('FD_COMPLEMENTARY_INFORMATION_CONTRACT_AWARD_PROCEDURES_FOR_APPEAL_LODGING_INFORMATION_FOR_SERVICE_E_MAIL'))\n",
    "#pd18['FD_COMPLEMENTARY_INFORMATION_CONTRACT_AWARD_PROCEDURES_FOR_APPEAL_APPEAL_PROCEDURE_BODY_RESPONSIBLE_FAX'].update(pd18.pop('FD_COMPLEMENTARY_INFORMATION_CONTRACT_AWARD_PROCEDURES_FOR_APPEAL_LODGING_INFORMATION_FOR_SERVICE_FAX'))\n",
    "pd18['FD_COMPLEMENTARY_INFORMATION_CONTRACT_AWARD_PROCEDURES_FOR_APPEAL_APPEAL_PROCEDURE_BODY_RESPONSIBLE_NATIONALID'].update(pd18.pop('FD_COMPLEMENTARY_INFORMATION_CONTRACT_AWARD_PROCEDURES_FOR_APPEAL_LODGING_INFORMATION_FOR_SERVICE_NATIONALID'))\n",
    "pd18['FD_COMPLEMENTARY_INFORMATION_CONTRACT_AWARD_PROCEDURES_FOR_APPEAL_APPEAL_PROCEDURE_BODY_RESPONSIBLE_OFFICIALNAME'].update(pd18.pop('FD_COMPLEMENTARY_INFORMATION_CONTRACT_AWARD_PROCEDURES_FOR_APPEAL_LODGING_INFORMATION_FOR_SERVICE_OFFICIALNAME'))\n",
    "pd18['FD_COMPLEMENTARY_INFORMATION_CONTRACT_AWARD_PROCEDURES_FOR_APPEAL_APPEAL_PROCEDURE_BODY_RESPONSIBLE_PHONE'].update(pd18.pop('FD_COMPLEMENTARY_INFORMATION_CONTRACT_AWARD_PROCEDURES_FOR_APPEAL_LODGING_INFORMATION_FOR_SERVICE_PHONE'))\n",
    "pd18['FD_COMPLEMENTARY_INFORMATION_CONTRACT_AWARD_PROCEDURES_FOR_APPEAL_APPEAL_PROCEDURE_BODY_RESPONSIBLE_POSTAL_CODE'].update(pd18.pop('FD_COMPLEMENTARY_INFORMATION_CONTRACT_AWARD_PROCEDURES_FOR_APPEAL_LODGING_INFORMATION_FOR_SERVICE_POSTAL_CODE'))\n",
    "pd18['FD_COMPLEMENTARY_INFORMATION_CONTRACT_AWARD_PROCEDURES_FOR_APPEAL_APPEAL_PROCEDURE_BODY_RESPONSIBLE_TOWN'].update(pd18.pop('FD_COMPLEMENTARY_INFORMATION_CONTRACT_AWARD_PROCEDURES_FOR_APPEAL_LODGING_INFORMATION_FOR_SERVICE_TOWN'))\n",
    "pd18['FD_COMPLEMENTARY_INFORMATION_CONTRACT_AWARD_PROCEDURES_FOR_APPEAL_APPEAL_PROCEDURE_BODY_RESPONSIBLE_URL'].update(pd18.pop('FD_COMPLEMENTARY_INFORMATION_CONTRACT_AWARD_PROCEDURES_FOR_APPEAL_LODGING_INFORMATION_FOR_SERVICE_URL'))"
   ]
  },
  {
   "cell_type": "code",
   "execution_count": null,
   "id": "92b49efd-45de-4837-8b27-d83ae8900d97",
   "metadata": {},
   "outputs": [],
   "source": [
    "pd18 = pd18.rename(columns=lambda x_ re.sub('FD_AWARD_OF_CONTRACT_ECONOMIC_OPERATOR_NAME_ADDRESS_', 'AWARDED_CONTRACT_CONTRACTOR_ADDRESS_CONTRACTOR_', x))\n",
    "pd18 = pd18.rename(columns=lambda x_ re.sub('FD_AWARD_OF_CONTRACT_', 'AWARD_CONTRACT_', x)) #ITEM\n",
    "pd18 = pd18.rename(columns=lambda x_ re.sub('FD_COMPLEMENTARY_INFORMATION_CONTRACT_AWARD_PROCEDURES_FOR_APPEAL_MEDIATION_PROCEDURE_BODY_RESPONSIBLE_', 'COMPLEMENTARY_INFO_ADDRESS_MEDIATION_BODY_', x))\n",
    "pd18 = pd18.rename(columns=lambda x_ re.sub('FD_COMPLEMENTARY_INFORMATION_CONTRACT_AWARD_PROCEDURES_FOR_APPEAL_APPEAL_PROCEDURE_BODY_RESPONSIBLE_', 'COMPLEMENTARY_INFO_ADDRESS_REVIEW_BODY_', x))\n",
    "#pd18 = pd18.rename(columns=lambda x_ re.sub('', 'COMPLEMENTARY_INFO_ADDRESS_REVIEW_BODY_', x))\n",
    "pd18 = pd18.rename(columns=lambda x_ re.sub('FD_COMPLEMENTARY_INFORMATION_CONTRACT_AWARD_NOTICE_DISPATCH_DATE_', 'COMPLEMENTARY_INFO_', x)) #COMPLEMENTARY_INFO_DATE_DISPATCH_NOTICE\n",
    "pd18 = pd18.rename(columns=lambda x_ re.sub('FD_CONTRACTING_NAME_ADDRESSES_CONTACT_CA_CE_CONCESSIONAIRE_PROFILE_', 'CONTRACTING_BODY_ADDRESS_CONTRACTING_BODY_', x))\n",
    "#pd18 = pd18.rename(columns=lambda x_ re.sub('', 'CONTRACTING_BODY_ADDRESS_FURTHER_INFO_', x))\n",
    "pd18 = pd18.rename(columns=lambda x_ re.sub('FD_CONTRACTING_TYPE_AND_ACTIVITIES_OR_CONTRACTING_ENTITY_AND_PURCHASING_ON_BEHALF_PURCHASING_ON_BEHALF_PURCHASING_ON_BEHALF_YES_CONTACT_DATA_OTHER_BEHALF_CONTRACTING_AUTORITHY_', 'CONTRACTING_BODY_ADDRESS_PARTICIPATION_', x))\n",
    "pd18 = pd18.rename(columns=lambda x_ re.sub('FD_CONTRACTING_TYPE_AND_ACTIVITIES_OR_CONTRACTING_ENTITY_AND_PURCHASING_ON_BEHALF_TYPE_AND_ACTIVITIES_TYPE_OF_CONTRACTING_AUTHORITY_', 'CONTRACTING_BODY_', x)) #CONTRACTING_BODY_CA_ACTIVITY_VALUE\n",
    "#pd18 = pd18.rename(columns=lambda x_ re.sub('', 'LEFTI_', x)) #LEFTI_PARTICULAR_PROFESSION_CTYPE\n",
    "pd18 = pd18.rename(columns=lambda x_ re.sub('FD_OBJECT_CONTRACT_INFORMATION_CONTRACT_AWARD_NOTICE_DESCRIPTION_AWARD_NOTICE_INFORMATION_CPV_', 'OBJECT_CONTRACT_', x))  #OBJECT_CONTRACT_CPV_MAIN_CPV_CODE_CODE\n",
    "#pd18 = pd18.rename(columns=lambda x_ re.sub('', 'OBJECT_CONTRACT_OBJECT_DESCR_', x)) #OBJECT_CONTRACT_OBJECT_DESCR_CPV_ADDITIONAL\n",
    "pd18 = pd18.rename(columns=lambda x_ re.sub('FD_AWARD_OF_CONTRACT_', 'OBJECT_CONTRACT_OBJECT_DESCR_', x))  #OBJECT_CONTRACT_OBJECT_DESCR_ITEM\n",
    "pd18 = pd18.rename(columns=lambda x_ re.sub('FD_OBJECT_CONTRACT_INFORMATION_CONTRACT_AWARD_NOTICE_DESCRIPTION_AWARD_NOTICE_INFORMATION_', 'OBJECT_CONTRACT_', x)) #OBJECT_CONTRACT_TITLE\n",
    "#pd18 = pd18.rename(columns=lambda x_ re.sub('', 'PROCEDURE_', x)) #PROCEDURE_DATE_RECEIPT_TENDERS\n",
    "pd18 = pd18.rename(columns=lambda x_ re.sub('OBJECT_CONTRACT_TITLE_CONTRACT', 'OBJECT_CONTRACT_OBJECT_DESCR_TITLE', x))\n",
    "pd18 = pd18.rename(columns=lambda x_ re.sub('OBJECT_CONTRACT_SHORT_CONTRACT_DESCRIPTION', 'OBJECT_CONTRACT_OBJECT_DESCR_SHORT_DESCR', x))\n",
    "pd18 = pd18.rename(columns=lambda x_ re.sub('AWARD_CONTRACT_MORE_INFORMATION_TO_SUB_CONTRACTED_CONTRACT_LIKELY_SUB_CONTRACTED_WITH_EXCLUDING_VAT_VALUE_CURRENCY', 'AWARDED_CONTRACT_VAL_SUBCONTRACTING_CURRENCY', x))\n",
    "pd18 = pd18.rename(columns=lambda x_ re.sub('AWARD_CONTRACT_MORE_INFORMATION_TO_SUB_CONTRACTED_CONTRACT_LIKELY_SUB_CONTRACTED_WITH_EXCLUDING_VAT_VALUE_text', 'AWARDED_CONTRACT_VAL_SUBCONTRACTING_text', x))\n",
    "\n",
    "pd18 = pd18.rename(columns=lambda x_ re.sub('FD_OBJECT_CONTRACT_INFORMATION_CONTRACT_AWARD_NOTICE_TOTAL_FINAL_VALUE_COSTS_RANGE_AND_CURRENCY_WITH_VAT_RATE_CURRENCY', 'OBJECT_CONTRACT_VAL_TOTAL_CURRENCY', x))\n",
    "pd18 = pd18.rename(columns=lambda x_ re.sub('FD_OBJECT_CONTRACT_INFORMATION_CONTRACT_AWARD_NOTICE_TOTAL_FINAL_VALUE_COSTS_RANGE_AND_CURRENCY_WITH_VAT_RATE_RANGE_VALUE_COST_HIGH_VALUE', 'OBJECT_CONTRACT_VAL_RANGE_TOTAL_HIGH', x))\n",
    "pd18 = pd18.rename(columns=lambda x_ re.sub('FD_OBJECT_CONTRACT_INFORMATION_CONTRACT_AWARD_NOTICE_TOTAL_FINAL_VALUE_COSTS_RANGE_AND_CURRENCY_WITH_VAT_RATE_RANGE_VALUE_COST_LOW_VALUE', 'OBJECT_CONTRACT_VAL_RANGE_TOTAL_LOW', x))\n",
    "pd18 = pd18.rename(columns=lambda x_ re.sub('FD_OBJECT_CONTRACT_INFORMATION_CONTRACT_AWARD_NOTICE_TOTAL_FINAL_VALUE_COSTS_RANGE_AND_CURRENCY_WITH_VAT_RATE_VALUE_COST', 'OBJECT_CONTRACT_VAL_TOTAL_text', x))\n",
    "\n",
    "pd18 = pd18.rename(columns=lambda x_ re.sub('AWARD_CONTRACT_CONTRACT_VALUE_INFORMATION_COSTS_RANGE_AND_CURRENCY_WITH_VAT_RATE_CURRENCY', 'AWARDED_CONTRACT_VALUES_VAL_RANGE_TOTAL_CURRENCY', x))\n",
    "pd18 = pd18.rename(columns=lambda x_ re.sub('AWARD_CONTRACT_CONTRACT_VALUE_INFORMATION_COSTS_RANGE_AND_CURRENCY_WITH_VAT_RATE_RANGE_VALUE_COST_HIGH_VALUE', 'AWARDED_CONTRACT_VALUES_VAL_RANGE_TOTAL_HIGH', x))\n",
    "pd18 = pd18.rename(columns=lambda x_ re.sub('AWARD_CONTRACT_CONTRACT_VALUE_INFORMATION_COSTS_RANGE_AND_CURRENCY_WITH_VAT_RATE_RANGE_VALUE_COST_LOW_VALUE', 'AWARDED_CONTRACT_VALUES_VAL_RANGE_TOTAL_LOW', x))\n",
    "pd18 = pd18.rename(columns=lambda x_ re.sub('AWARD_CONTRACT_CONTRACT_VALUE_INFORMATION_INITIAL_ESTIMATED_TOTAL_VALUE_CONTRACT_CURRENCY', 'AWARDED_CONTRACT_VALUES_VAL_ESTIMATED_TOTAL_CURRENCY', x))\n",
    "pd18 = pd18.rename(columns=lambda x_ re.sub('AWARD_CONTRACT_CONTRACT_VALUE_INFORMATION_INITIAL_ESTIMATED_TOTAL_VALUE_CONTRACT_VALUE_COST', 'AWARDED_CONTRACT_VALUES_VAL_ESTIMATED_TOTAL_text', x))\n",
    "pd18 = pd18.rename(columns=lambda x_ re.sub('FD_PROCEDURE_DEFINITION_CONTRACT_AWARD_NOTICE_TYPE_OF_PROCEDURE_PT_NEGOTIATED_WITHOUT_PUBLICATION_CONTRACT_NOTICE_ANNEX_D_REASON_CONTRACT_LAWFUL', 'PROCEDURE_PT_AWARD_CONTRACT_WITHOUT_CALL_D_JUSTIFICATION', x))\n",
    "#pd18 = pd18.rename(columns=lambda x_ re.sub('', 'CONTRACTING_BODY_URL_DOCUMENT', x))\n",
    "pd18 = pd18.rename(columns=lambda x_ re.sub('FD_CONTRACTING_NAME_ADDRESSES_CONTACT_CONTRACT_AWARD_INTERNET_ADDRESSES_CONTRACT_AWARD_URL_PARTICIPATE', 'CONTRACTING_BODY_URL_PARTICIPATION', x))\n",
    "#pd18 = pd18.rename(columns=lambda x_ re.sub('', 'CONTRACTING_BODY_URL_TOOL', x))\n",
    "pd18 = pd18.rename(columns=lambda x_ re.sub('FD_CONTRACTING_NAME_ADDRESSES_CONTACT_CONTRACT_AWARD_INTERNET_ADDRESSES_CONTRACT_AWARD_URL_GENERAL', 'CONTRACTING_BODY_ADDRESS_FURTHER_INFO_URL_GENERAL', x))\n",
    "#pd18 = pd18.rename(columns=lambda x_ re.sub('', 'PROCEDURE_URL_NATIONAL_PROCEDURE', x))\n",
    "pd18 = pd18.rename(columns=lambda x_ re.sub('FD_CONTRACTING_NAME_ADDRESSES_CONTACT_CONTRACT_AWARD_INTERNET_ADDRESSES_CONTRACT_AWARD_', 'CONTRACTING_BODY_', x))\n",
    "pd18 = pd18.rename(columns=lambda x_ re.sub('FD_PROCEDURE_DEFINITION_CONTRACT_AWARD_NOTICE_AWARD_CRITERIA_CONTRACT_AWARD_NOTICE_INFORMATION_AWARD_CRITERIA_DETAIL_MOST_ECONOMICALLY_ADVANTAGEOUS_TENDER_SHORT_CRITERIA_DEFINITION_', 'PROCEDURE_', x))\n",
    "pd18 = pd18.rename(columns=lambda x_ re.sub('AWARD_CONTRACT_CONTRACT_TITLE', 'AWARD_CONTRACT_TITLE', x))\n",
    "pd18 = pd18.rename(columns=lambda x_ re.sub('AWARD_CONTRACT_LOT_NUMBER', 'AWARD_CONTRACT_LOT_NO', x)) \n",
    "pd18 = pd18.rename(columns=lambda x_ re.sub('FD_COMPLEMENTARY_INFORMATION_CONTRACT_AWARD_ADDITIONAL_INFORMATION', 'COMPLEMENTARY_INFO_INFO_ADD', x)) \n",
    "pd18 = pd18.rename(columns=lambda x_ re.sub('FD_PROCEDURE_DEFINITION_CONTRACT_AWARD_NOTICE_ADMINISTRATIVE_INFORMATION_FILE_REFERENCE_NUMBER', 'OBJECT_CONTRACT_REFERENCE_NUMBER', x)) \n",
    "pd18 = pd18.rename(columns=lambda x_ re.sub('FD_CONTRACTING_TYPE_AND_ACTIVITIES_OR_CONTRACTING_ENTITY_AND_PURCHASING_ON_BEHALF_TYPE_AND_ACTIVITIES_', 'FD_CONTRACTING_TYPE_AND_ACTIVITIES_AND_PURCHASING_ON_BEHALF_TYPE_AND_ACTIVITIES_', x))\n",
    "pd18 = pd18.rename(columns=lambda x_ re.sub('FD_CONTRACTING_TYPE_AND_ACTIVITIES_OR_CONTRACTING_ENTITY_AND_PURCHASING_ON_BEHALF_ACTIVITIES_OF_CONTRACTING_ENTITY_', 'FD_CONTRACTING_TYPE_AND_ACTIVITIES_AND_PURCHASING_ON_BEHALF_TYPE_AND_ACTIVITIES_ACTIVITIES_OF_CONTRACTING_ENTITY_', x))\n",
    "pd18 = pd18.rename(columns=lambda x_ re.sub('AWARD_CONTRACT_MORE_INFORMATION_TO_SUB_CONTRACTED_CONTRACT_LIKELY_SUB_CONTRACTED_WITH_', 'AWARD_CONTRACT_CONTRACT_LIKELY_SUB_CONTRACTED_', x))\n",
    "pd18 = pd18.rename(columns=lambda x_ re.sub('FD_CONTRACTING_TYPE_AND_ACTIVITIES_AND_PURCHASING_ON_BEHALF_TYPE_AND_ACTIVITIES_ACTIVITIES_OF_CONTRACTING_ENTITY_', 'FD_CONTRACTING_ACTIVITIES_OF_CONTRACTING_ENTITY_', x))\n",
    "pd18 = pd18.rename(columns=lambda x_ re.sub('OBJECT_CONTRACT_TYPE_CONTRACT_W_PUB_', 'OBJECT_CONTRACT_TYPE_CONTRACT_LOCATION_', x))\n",
    "pd18 = pd18.rename(columns=lambda x_ re.sub('SERVICE_CATEGORY_PUB', 'SERVICE_CATEGORY', x))"
   ]
  },
  {
   "cell_type": "code",
   "execution_count": null,
   "id": "55264c5d-89ea-4a62-82ce-8fd32318dd7c",
   "metadata": {},
   "outputs": [],
   "source": [
    "pd18.info()"
   ]
  },
  {
   "cell_type": "code",
   "execution_count": null,
   "id": "6642683e-0049-4be3-b801-ff5bdd28f56b",
   "metadata": {},
   "outputs": [],
   "source": [
    "fd18 = pd18.to_spark()"
   ]
  },
  {
   "cell_type": "code",
   "execution_count": null,
   "id": "a2cf3d00-c845-4118-8bc5-38074642c736",
   "metadata": {},
   "outputs": [],
   "source": [
    "\"\"\"\n",
    "fd18 = fd18.withColumn(\"FD_AWARD_OF_CONTRACT_DEFENCE.CONTRACT_AWARD_DATE\", expr(\"make_date(`FD_AWARD_OF_CONTRACT_DEFENCE.CONTRACT_AWARD_DATE.YEAR`, `FD_AWARD_OF_CONTRACT_DEFENCE.CONTRACT_AWARD_DATE.MONTH`, `FD_AWARD_OF_CONTRACT_DEFENCE.CONTRACT_AWARD_DATE.DAY`)\"))\n",
    "fd18 = fd18.withColumn(\"FD_COMPLEMENTARY_INFORMATION_CONTRACT_AWARD.NOTICE_DISPATCH_DATE\", expr(\"make_date(`FD_COMPLEMENTARY_INFORMATION_CONTRACT_AWARD.NOTICE_DISPATCH_DATE.YEAR`, `FD_COMPLEMENTARY_INFORMATION_CONTRACT_AWARD.NOTICE_DISPATCH_DATE.MONTH`, `FD_COMPLEMENTARY_INFORMATION_CONTRACT_AWARD.NOTICE_DISPATCH_DATE.DAY`)\"))\n",
    "fd18 = fd18.withColumn(\"FD_PROCEDURE_DEFINITION_CONTRACT_AWARD_NOTICE_DEFENCE.ADMINISTRATIVE_INFORMATION_PREVIOUS_PUBLICATION_INFORMATION_NOTICE_F18.PREVIOUS_PUBLICATION_EXISTS_F18.CNT_NOTICE_INFORMATION_F18.DATE_OJ\", expr(\"make_date(`FD_PROCEDURE_DEFINITION_CONTRACT_AWARD_NOTICE_DEFENCE.ADMINISTRATIVE_INFORMATION_PREVIOUS_PUBLICATION_INFORMATION_NOTICE_F18.PREVIOUS_PUBLICATION_EXISTS_F18.CNT_NOTICE_INFORMATION_F18.DATE_OJ.YEAR`, `FD_PROCEDURE_DEFINITION_CONTRACT_AWARD_NOTICE_DEFENCE.ADMINISTRATIVE_INFORMATION_PREVIOUS_PUBLICATION_INFORMATION_NOTICE_F18.PREVIOUS_PUBLICATION_EXISTS_F18.CNT_NOTICE_INFORMATION_F18.DATE_OJ.MONTH`, `FD_PROCEDURE_DEFINITION_CONTRACT_AWARD_NOTICE_DEFENCE.ADMINISTRATIVE_INFORMATION_PREVIOUS_PUBLICATION_INFORMATION_NOTICE_F18.PREVIOUS_PUBLICATION_EXISTS_F18.CNT_NOTICE_INFORMATION_F18.DATE_OJ.DAY`)\"))\n",
    "fd18 = fd18.withColumn(\"FD_PROCEDURE_DEFINITION_CONTRACT_AWARD_NOTICE_DEFENCE.ADMINISTRATIVE_INFORMATION_PREVIOUS_PUBLICATION_INFORMATION_NOTICE_F18.PREVIOUS_PUBLICATION_EXISTS_F18.EX_ANTE_NOTICE_INFORMATION.DATE_OJ\", expr(\"make_date(`FD_PROCEDURE_DEFINITION_CONTRACT_AWARD_NOTICE_DEFENCE.ADMINISTRATIVE_INFORMATION_PREVIOUS_PUBLICATION_INFORMATION_NOTICE_F18.PREVIOUS_PUBLICATION_EXISTS_F18.EX_ANTE_NOTICE_INFORMATION.DATE_OJ.YEAR`, `FD_PROCEDURE_DEFINITION_CONTRACT_AWARD_NOTICE_DEFENCE.ADMINISTRATIVE_INFORMATION_PREVIOUS_PUBLICATION_INFORMATION_NOTICE_F18.PREVIOUS_PUBLICATION_EXISTS_F18.EX_ANTE_NOTICE_INFORMATION.DATE_OJ.MONTH`, `FD_PROCEDURE_DEFINITION_CONTRACT_AWARD_NOTICE_DEFENCE.ADMINISTRATIVE_INFORMATION_PREVIOUS_PUBLICATION_INFORMATION_NOTICE_F18.PREVIOUS_PUBLICATION_EXISTS_F18.EX_ANTE_NOTICE_INFORMATION.DATE_OJ.DAY`)\"))\n",
    "fd18 = fd18.withColumn(\"FD_PROCEDURE_DEFINITION_CONTRACT_AWARD_NOTICE_DEFENCE.ADMINISTRATIVE_INFORMATION_PREVIOUS_PUBLICATION_INFORMATION_NOTICE_F18.PREVIOUS_PUBLICATION_EXISTS_F18.PREVIOUS_PUBLICATION_NOTICE_F18.DATE_OJ\", expr(\"make_date(`FD_PROCEDURE_DEFINITION_CONTRACT_AWARD_NOTICE_DEFENCE.ADMINISTRATIVE_INFORMATION_PREVIOUS_PUBLICATION_INFORMATION_NOTICE_F18.PREVIOUS_PUBLICATION_EXISTS_F18.PREVIOUS_PUBLICATION_NOTICE_F18.DATE_OJ.YEAR`, `FD_PROCEDURE_DEFINITION_CONTRACT_AWARD_NOTICE_DEFENCE.ADMINISTRATIVE_INFORMATION_PREVIOUS_PUBLICATION_INFORMATION_NOTICE_F18.PREVIOUS_PUBLICATION_EXISTS_F18.PREVIOUS_PUBLICATION_NOTICE_F18.DATE_OJ.MONTH`, `FD_PROCEDURE_DEFINITION_CONTRACT_AWARD_NOTICE_DEFENCE.ADMINISTRATIVE_INFORMATION_PREVIOUS_PUBLICATION_INFORMATION_NOTICE_F18.PREVIOUS_PUBLICATION_EXISTS_F18.PREVIOUS_PUBLICATION_NOTICE_F18.DATE_OJ.DAY`)\"))\n",
    "\"\"\""
   ]
  },
  {
   "cell_type": "code",
   "execution_count": null,
   "id": "60792050-4c72-43f4-b9ce-377b7bc742a8",
   "metadata": {},
   "outputs": [],
   "source": [
    "#fd18.printSchema()"
   ]
  },
  {
   "cell_type": "code",
   "execution_count": null,
   "id": "ad70743c-f041-482b-bbe5-ddc827f18e87",
   "metadata": {},
   "outputs": [],
   "source": [
    "#pd18 = fd18.to_pandas_on_spark()\n",
    "\n",
    "#pd18.info()"
   ]
  },
  {
   "cell_type": "code",
   "execution_count": null,
   "id": "c71012cb-f61f-4c28-9e21-3977794f9487",
   "metadata": {},
   "outputs": [],
   "source": [
    "\"\"\"\n",
    "pd18 = pd18.drop(columns=['FD_AWARD_OF_CONTRACT_DEFENCE.CONTRACT_AWARD_DATE.DAY', 'FD_AWARD_OF_CONTRACT_DEFENCE.CONTRACT_AWARD_DATE.MONTH', 'FD_AWARD_OF_CONTRACT_DEFENCE.CONTRACT_AWARD_DATE.YEAR'])\n",
    "pd18 = pd18.drop(columns=['FD_COMPLEMENTARY_INFORMATION_CONTRACT_AWARD.NOTICE_DISPATCH_DATE.DAY', 'FD_COMPLEMENTARY_INFORMATION_CONTRACT_AWARD.NOTICE_DISPATCH_DATE.MONTH', 'FD_COMPLEMENTARY_INFORMATION_CONTRACT_AWARD.NOTICE_DISPATCH_DATE.YEAR'])\n",
    "pd18 = pd18.drop(columns=['FD_PROCEDURE_DEFINITION_CONTRACT_AWARD_NOTICE_DEFENCE.ADMINISTRATIVE_INFORMATION_PREVIOUS_PUBLICATION_INFORMATION_NOTICE_F18.PREVIOUS_PUBLICATION_EXISTS_F18.CNT_NOTICE_INFORMATION_F18.DATE_OJ.DAY', 'FD_PROCEDURE_DEFINITION_CONTRACT_AWARD_NOTICE_DEFENCE.ADMINISTRATIVE_INFORMATION_PREVIOUS_PUBLICATION_INFORMATION_NOTICE_F18.PREVIOUS_PUBLICATION_EXISTS_F18.CNT_NOTICE_INFORMATION_F18.DATE_OJ.MONTH', 'FD_PROCEDURE_DEFINITION_CONTRACT_AWARD_NOTICE_DEFENCE.ADMINISTRATIVE_INFORMATION_PREVIOUS_PUBLICATION_INFORMATION_NOTICE_F18.PREVIOUS_PUBLICATION_EXISTS_F18.CNT_NOTICE_INFORMATION_F18.DATE_OJ.YEAR'])\n",
    "pd18 = pd18.drop(columns=['FD_PROCEDURE_DEFINITION_CONTRACT_AWARD_NOTICE_DEFENCE.ADMINISTRATIVE_INFORMATION_PREVIOUS_PUBLICATION_INFORMATION_NOTICE_F18.PREVIOUS_PUBLICATION_EXISTS_F18.EX_ANTE_NOTICE_INFORMATION.DATE_OJ.DAY', 'FD_PROCEDURE_DEFINITION_CONTRACT_AWARD_NOTICE_DEFENCE.ADMINISTRATIVE_INFORMATION_PREVIOUS_PUBLICATION_INFORMATION_NOTICE_F18.PREVIOUS_PUBLICATION_EXISTS_F18.EX_ANTE_NOTICE_INFORMATION.DATE_OJ.MONTH', 'FD_PROCEDURE_DEFINITION_CONTRACT_AWARD_NOTICE_DEFENCE.ADMINISTRATIVE_INFORMATION_PREVIOUS_PUBLICATION_INFORMATION_NOTICE_F18.PREVIOUS_PUBLICATION_EXISTS_F18.EX_ANTE_NOTICE_INFORMATION.DATE_OJ.YEAR'])\n",
    "pd18 = pd18.drop(columns=['FD_PROCEDURE_DEFINITION_CONTRACT_AWARD_NOTICE_DEFENCE.ADMINISTRATIVE_INFORMATION_PREVIOUS_PUBLICATION_INFORMATION_NOTICE_F18.PREVIOUS_PUBLICATION_EXISTS_F18.PREVIOUS_PUBLICATION_NOTICE_F18.DATE_OJ.DAY', 'FD_PROCEDURE_DEFINITION_CONTRACT_AWARD_NOTICE_DEFENCE.ADMINISTRATIVE_INFORMATION_PREVIOUS_PUBLICATION_INFORMATION_NOTICE_F18.PREVIOUS_PUBLICATION_EXISTS_F18.PREVIOUS_PUBLICATION_NOTICE_F18.DATE_OJ.MONTH', 'FD_PROCEDURE_DEFINITION_CONTRACT_AWARD_NOTICE_DEFENCE.ADMINISTRATIVE_INFORMATION_PREVIOUS_PUBLICATION_INFORMATION_NOTICE_F18.PREVIOUS_PUBLICATION_EXISTS_F18.PREVIOUS_PUBLICATION_NOTICE_F18.DATE_OJ.YEAR'])\n",
    "\"\"\""
   ]
  },
  {
   "cell_type": "code",
   "execution_count": null,
   "id": "78c213d0-9181-47a4-9323-c1eed94aaa5b",
   "metadata": {},
   "outputs": [],
   "source": [
    "#pd18.info()"
   ]
  },
  {
   "cell_type": "code",
   "execution_count": null,
   "id": "30b4d8a7-cefd-4c21-96b5-0eaec4c1ac53",
   "metadata": {},
   "outputs": [],
   "source": [
    "\"\"\"\n",
    "pd18[\"FD_AWARD_OF_CONTRACT_DEFENCE.CONTRACT_AWARD_DATE\"]= ps.to_datetime(pd18[\"FD_AWARD_OF_CONTRACT_DEFENCE.CONTRACT_AWARD_DATE\"])\n",
    "pd18[\"FD_COMPLEMENTARY_INFORMATION_CONTRACT_AWARD.NOTICE_DISPATCH_DATE\"]= ps.to_datetime(pd18[\"FD_COMPLEMENTARY_INFORMATION_CONTRACT_AWARD.NOTICE_DISPATCH_DATE\"])\n",
    "pd18[\"FD_PROCEDURE_DEFINITION_CONTRACT_AWARD_NOTICE_DEFENCE.ADMINISTRATIVE_INFORMATION_PREVIOUS_PUBLICATION_INFORMATION_NOTICE_F18.PREVIOUS_PUBLICATION_EXISTS_F18.CNT_NOTICE_INFORMATION_F18.DATE_OJ\"]= ps.to_datetime(pd18[\"FD_PROCEDURE_DEFINITION_CONTRACT_AWARD_NOTICE_DEFENCE.ADMINISTRATIVE_INFORMATION_PREVIOUS_PUBLICATION_INFORMATION_NOTICE_F18.PREVIOUS_PUBLICATION_EXISTS_F18.CNT_NOTICE_INFORMATION_F18.DATE_OJ\"])\n",
    "pd18[\"FD_PROCEDURE_DEFINITION_CONTRACT_AWARD_NOTICE_DEFENCE.ADMINISTRATIVE_INFORMATION_PREVIOUS_PUBLICATION_INFORMATION_NOTICE_F18.PREVIOUS_PUBLICATION_EXISTS_F18.EX_ANTE_NOTICE_INFORMATION.DATE_OJ\"]= ps.to_datetime(pd18[\"FD_PROCEDURE_DEFINITION_CONTRACT_AWARD_NOTICE_DEFENCE.ADMINISTRATIVE_INFORMATION_PREVIOUS_PUBLICATION_INFORMATION_NOTICE_F18.PREVIOUS_PUBLICATION_EXISTS_F18.EX_ANTE_NOTICE_INFORMATION.DATE_OJ\"])\n",
    "pd18[\"FD_PROCEDURE_DEFINITION_CONTRACT_AWARD_NOTICE_DEFENCE.ADMINISTRATIVE_INFORMATION_PREVIOUS_PUBLICATION_INFORMATION_NOTICE_F18.PREVIOUS_PUBLICATION_EXISTS_F18.PREVIOUS_PUBLICATION_NOTICE_F18.DATE_OJ\"]= ps.to_datetime(pd18[\"FD_PROCEDURE_DEFINITION_CONTRACT_AWARD_NOTICE_DEFENCE.ADMINISTRATIVE_INFORMATION_PREVIOUS_PUBLICATION_INFORMATION_NOTICE_F18.PREVIOUS_PUBLICATION_EXISTS_F18.PREVIOUS_PUBLICATION_NOTICE_F18.DATE_OJ\"])\n",
    "\"\"\""
   ]
  },
  {
   "cell_type": "code",
   "execution_count": null,
   "id": "6883b6bf-fb7b-4715-8b1e-7e71c40e21f3",
   "metadata": {},
   "outputs": [],
   "source": [
    "#pd18.info() "
   ]
  },
  {
   "cell_type": "code",
   "execution_count": null,
   "id": "a7b0bb42-003e-450e-b249-4210bcd5d9f7",
   "metadata": {},
   "outputs": [],
   "source": [
    "#fd18 = pd18.to_spark()"
   ]
  },
  {
   "cell_type": "code",
   "execution_count": null,
   "id": "574dd026-c274-4c15-9dbe-40dcae059ed2",
   "metadata": {},
   "outputs": [],
   "source": [
    "#fd18.write.parquet(\"s3a_//falk2210/fd18_210921.parquet\")"
   ]
  },
  {
   "cell_type": "code",
   "execution_count": null,
   "id": "f18d2726-c3ee-4dda-be6d-f2c1cdb79834",
   "metadata": {},
   "outputs": [],
   "source": [
    "fd18.write.mode(\"append\").json(\"falk2210/f_award.json\")"
   ]
  },
  {
   "cell_type": "markdown",
   "id": "5a645d1b-2f06-4d7f-9f0e-a50ff55c27d5",
   "metadata": {
    "jp-MarkdownHeadingCollapsed": true,
    "tags": []
   },
   "source": [
    "# 101 PRI "
   ]
  },
  {
   "cell_type": "markdown",
   "id": "2e13223b-fef4-4944-8518-95d6e1f7a28c",
   "metadata": {},
   "source": [
    "<a id='d101' />"
   ]
  },
  {
   "cell_type": "code",
   "execution_count": null,
   "id": "3dea9496-e171-48ac-9f07-6ee3dffb9433",
   "metadata": {},
   "outputs": [],
   "source": [
    "d101 = spark.read.json(\"falk/101.json/*.json\")\n",
    "#d101.printSchema()"
   ]
  },
  {
   "cell_type": "code",
   "execution_count": null,
   "id": "f01cd7c2-75b2-4d88-a196-e4493a37597d",
   "metadata": {},
   "outputs": [],
   "source": [
    "pd101 = d101.to_pandas_on_spark()"
   ]
  },
  {
   "cell_type": "code",
   "execution_count": null,
   "id": "24a64bf8-ed8b-4ada-be07-bb86b5cee2bd",
   "metadata": {},
   "outputs": [],
   "source": [
    "pd101 = pd101.rename(columns=lambda x_ re.sub('DOFFIN_ESENDERS_VERSION', 'DOFFIN_VERSION', x))\n",
    "#pd101.info()"
   ]
  },
  {
   "cell_type": "code",
   "execution_count": null,
   "id": "58fb36bb-4a87-4769-85d5-eb774fe74b75",
   "metadata": {},
   "outputs": [],
   "source": [
    "pd101 = pd101.rename(columns=lambda x_ re.sub('DOFFIN_ESENDERS_', '', x))\n",
    "\n",
    "pd101 = pd101.rename(columns=lambda x_ re.sub('FORM_SECTION_', '', x))\n",
    "#pd101.info()"
   ]
  },
  {
   "cell_type": "code",
   "execution_count": null,
   "id": "c4928407-0ce5-4f00-80c7-8114e616d0c9",
   "metadata": {},
   "outputs": [],
   "source": [
    "pd101 = pd101.rename(columns=lambda x_ re.sub('VOLUNTARY_PRIOR_INFORMATION_', '', x))\n",
    "#pd101.info()"
   ]
  },
  {
   "cell_type": "code",
   "execution_count": null,
   "id": "e5947574-a8f1-466a-82f8-8933a70aab85",
   "metadata": {},
   "outputs": [],
   "source": [
    "#pd101 = pd101.rename(columns=lambda x_ re.sub('_', '_', x))\n",
    "#pd101.info()"
   ]
  },
  {
   "cell_type": "code",
   "execution_count": null,
   "id": "9f68897d-154c-476b-8172-dba368fb353c",
   "metadata": {},
   "outputs": [],
   "source": [
    "pd101 = pd101.rename(columns=lambda x_ re.sub('\\_P$', '', x))\n",
    "#pd101.info()"
   ]
  },
  {
   "cell_type": "code",
   "execution_count": null,
   "id": "9cff2cd0-7d23-4757-8615-7a1ed82c94b0",
   "metadata": {},
   "outputs": [],
   "source": [
    "pd101 = pd101.rename(columns=lambda x_ re.sub('_PRIOR_INFORMATION', '', x))\n",
    "pd101 = pd101.rename(columns=lambda x_ re.sub('_OTH', '', x))\n",
    "pd101 = pd101.rename(columns=lambda x_ re.sub('FD_AUTHORITY_NAME_ADDRESSES_CONTACT_', 'FD_AUTHORITY_NAME_ADDRESSES_CONTACT_', x))\n",
    "pd101 = pd101.rename(columns=lambda x_ re.sub('FD_OBJECT_', 'FD_OBJECT_', x))\n",
    "pd101 = pd101.rename(columns=lambda x_ re.sub('FD_INFO_', 'FD_INFO_', x))\n",
    "pd101 = pd101.rename(columns=lambda x_ re.sub('DOFFIN_APPENDIX_DOFFIN_FORM_TYPE_VOLUNTARY_REFERENCE_SECTION_REFERENCE_DOFFIN', 'DOFFIN_APPENDIX_DOFFIN_FORM_TYPE_NATIONAL_REFERENCE_SECTION_REFERENCE_DOFFIN', x))\n",
    "pd101 = pd101.rename(columns=lambda x_ re.sub('FD_AUTHORITY_NAME_ADDRESSES_CONTACT_INTERNET_ADDRESSES_', 'FD_AUTHORITY_NAME_ADDRESSES_CONTACT_INTERNET_ADDRESSES_', x))\n",
    "pd101 = pd101.rename(columns=lambda x_ re.sub('FD_OBJECT_SCHEDULED_DATE_PERIOD_PERIOD_WORK_DATE_STARTING_DAYS', 'FD_OBJECT_WORKS_SCHEDULED_DATE_PERIOD_PERIOD_WORK_DATE_STARTING_DAYS', x))\n",
    "pd101 = pd101.rename(columns=lambda x_ re.sub('FD_OBJECT_SCHEDULED_DATE_PERIOD_PERIOD_WORK_DATE_STARTING_INTERVAL_DATE_', 'FD_OBJECT_WORKS_SCHEDULED_DATE_PERIOD_PERIOD_WORK_DATE_STARTING_INTERVAL_DATE_', x))\n",
    "pd101 = pd101.rename(columns=lambda x_ re.sub('FD_OBJECT_SCHEDULED_DATE_PERIOD_PERIOD_WORK_DATE_STARTING_MONTHS', 'FD_OBJECT_WORKS_SCHEDULED_DATE_PERIOD_PERIOD_WORK_DATE_STARTING_MONTHS', x))\n",
    "pd101 = pd101.rename(columns=lambda x_ re.sub('FD_OBJECT_SCHEDULED_DATE_PERIOD_PROCEDURE_DATE_STARTING_', 'FD_OBJECT_PROCEDURE_DATE_STARTING_', x))\n",
    "pd101 = pd101.rename(columns=lambda x_ re.sub('FD_OBJECT_SITE_OR_LOCATION_LABEL', 'FD_OBJECT_TYPE_CONTRACT_PLACE_DELIVERY_SITE_OR_LOCATION_LABEL', x))"
   ]
  },
  {
   "cell_type": "code",
   "execution_count": null,
   "id": "92411557-2789-48a4-b1ae-31fe55003945",
   "metadata": {},
   "outputs": [],
   "source": [
    "pd101.info()"
   ]
  },
  {
   "cell_type": "code",
   "execution_count": null,
   "id": "d517c0c9-ef46-4069-bf53-e57f67de862e",
   "metadata": {},
   "outputs": [],
   "source": [
    "fd101 = pd101.to_spark()"
   ]
  },
  {
   "cell_type": "code",
   "execution_count": null,
   "id": "314bb250-3a61-4da6-b8f9-cb985a7cbd3e",
   "metadata": {},
   "outputs": [],
   "source": [
    "pri2 = ps.concat([pri, pd101], ignore_index=True)"
   ]
  },
  {
   "cell_type": "code",
   "execution_count": null,
   "id": "7ba79cdd-2904-41bd-bafe-0876a9acc780",
   "metadata": {},
   "outputs": [],
   "source": [
    "pri2.info()"
   ]
  },
  {
   "cell_type": "code",
   "execution_count": null,
   "id": "eaedaecc-9917-4653-b189-81132a9d1706",
   "metadata": {},
   "outputs": [],
   "source": [
    "fd101 = fd101.withColumn(\"FD_OTH_INFO_NOTICE_DISPATCH_DATE\", expr(\"make_date(`FD_OTH_INFO_NOTICE_DISPATCH_DATE.YEAR`, `FD_OTH_INFO_NOTICE_DISPATCH_DATE.MONTH`, `FD_OTH_INFO_NOTICE_DISPATCH_DATE.DAY`)\"))\n",
    "fd101 = fd101.withColumn(\"FD_OBJECT_PRIOR_INFORMATION.SCHEDULED_DATE_PERIOD.PERIOD_WORK_DATE_STARTING.INTERVAL_DATE.END_DATE\", expr(\"make_date(`FD_OBJECT_PRIOR_INFORMATION.SCHEDULED_DATE_PERIOD.PERIOD_WORK_DATE_STARTING.INTERVAL_DATE.END_DATE.YEAR`, `FD_OBJECT_PRIOR_INFORMATION.SCHEDULED_DATE_PERIOD.PERIOD_WORK_DATE_STARTING.INTERVAL_DATE.END_DATE.MONTH`, `FD_OBJECT_PRIOR_INFORMATION.SCHEDULED_DATE_PERIOD.PERIOD_WORK_DATE_STARTING.INTERVAL_DATE.END_DATE.DAY`)\"))\n",
    "fd101 = fd101.withColumn(\"FD_OBJECT_PRIOR_INFORMATION.SCHEDULED_DATE_PERIOD.PERIOD_WORK_DATE_STARTING.INTERVAL_DATE.START_DATE\", expr(\"make_date(`FD_OBJECT_PRIOR_INFORMATION.SCHEDULED_DATE_PERIOD.PERIOD_WORK_DATE_STARTING.INTERVAL_DATE.START_DATE.YEAR`, `FD_OBJECT_PRIOR_INFORMATION.SCHEDULED_DATE_PERIOD.PERIOD_WORK_DATE_STARTING.INTERVAL_DATE.START_DATE.MONTH`, `FD_OBJECT_PRIOR_INFORMATION.SCHEDULED_DATE_PERIOD.PERIOD_WORK_DATE_STARTING.INTERVAL_DATE.START_DATE.DAY`)\"))\n",
    "fd101 = fd101.withColumn(\"FD_OBJECT_PRIOR_INFORMATION.SCHEDULED_DATE_PERIOD.PROCEDURE_DATE_STARTING\", expr(\"make_date(`FD_OBJECT_PRIOR_INFORMATION.SCHEDULED_DATE_PERIOD.PROCEDURE_DATE_STARTING.YEAR`, `FD_OBJECT_PRIOR_INFORMATION.SCHEDULED_DATE_PERIOD.PROCEDURE_DATE_STARTING.MONTH`, `FD_OBJECT_PRIOR_INFORMATION.SCHEDULED_DATE_PERIOD.PROCEDURE_DATE_STARTING.DAY`)\"))"
   ]
  },
  {
   "cell_type": "code",
   "execution_count": null,
   "id": "dac46fa3-e61e-4b8d-a3b9-110c09addac1",
   "metadata": {},
   "outputs": [],
   "source": [
    "fd101.printSchema()"
   ]
  },
  {
   "cell_type": "code",
   "execution_count": null,
   "id": "c527913b-9338-423e-801d-f969fbd618c6",
   "metadata": {},
   "outputs": [],
   "source": [
    "pd101 = fd101.to_pandas_on_spark()\n",
    "\n",
    "pd101.info()"
   ]
  },
  {
   "cell_type": "code",
   "execution_count": null,
   "id": "f6c63e27-1b0a-4d16-acdb-125d83fd3f22",
   "metadata": {},
   "outputs": [],
   "source": [
    "pd101 = pd101.drop(columns=['FD_OTH_INFO_NOTICE_DISPATCH_DATE.DAY', 'FD_OTH_INFO_NOTICE_DISPATCH_DATE.MONTH', 'FD_OTH_INFO_NOTICE_DISPATCH_DATE.YEAR'])\n",
    "pd101 = pd101.drop(columns=['FD_OBJECT_PRIOR_INFORMATION.SCHEDULED_DATE_PERIOD.PERIOD_WORK_DATE_STARTING.INTERVAL_DATE.END_DATE.DAY', 'FD_OBJECT_PRIOR_INFORMATION.SCHEDULED_DATE_PERIOD.PERIOD_WORK_DATE_STARTING.INTERVAL_DATE.END_DATE.MONTH', 'FD_OBJECT_PRIOR_INFORMATION.SCHEDULED_DATE_PERIOD.PERIOD_WORK_DATE_STARTING.INTERVAL_DATE.END_DATE.YEAR'])\n",
    "pd101 = pd101.drop(columns=['FD_OBJECT_PRIOR_INFORMATION.SCHEDULED_DATE_PERIOD.PERIOD_WORK_DATE_STARTING.INTERVAL_DATE.START_DATE.DAY', 'FD_OBJECT_PRIOR_INFORMATION.SCHEDULED_DATE_PERIOD.PERIOD_WORK_DATE_STARTING.INTERVAL_DATE.START_DATE.MONTH', 'FD_OBJECT_PRIOR_INFORMATION.SCHEDULED_DATE_PERIOD.PERIOD_WORK_DATE_STARTING.INTERVAL_DATE.START_DATE.YEAR'])\n",
    "pd101 = pd101.drop(columns=['FD_OBJECT_PRIOR_INFORMATION.SCHEDULED_DATE_PERIOD.PROCEDURE_DATE_STARTING.DAY', 'FD_OBJECT_PRIOR_INFORMATION.SCHEDULED_DATE_PERIOD.PROCEDURE_DATE_STARTING.MONTH', 'FD_OBJECT_PRIOR_INFORMATION.SCHEDULED_DATE_PERIOD.PROCEDURE_DATE_STARTING.YEAR'])\n",
    "pd101 = pd101.drop(columns=['FD_OBJECT_PRIOR_INFORMATION.SCHEDULED_DATE_PERIOD.PROCEDURE_DATE_STARTING.DAY', 'FD_OBJECT_PRIOR_INFORMATION.SCHEDULED_DATE_PERIOD.PROCEDURE_DATE_STARTING.MONTH', 'FD_OBJECT_PRIOR_INFORMATION.SCHEDULED_DATE_PERIOD.PROCEDURE_DATE_STARTING.YEAR'])"
   ]
  },
  {
   "cell_type": "code",
   "execution_count": null,
   "id": "547129a3-5946-4ecb-8c23-b0c864192d64",
   "metadata": {},
   "outputs": [],
   "source": [
    "pd101.info()"
   ]
  },
  {
   "cell_type": "code",
   "execution_count": null,
   "id": "58d37328-98e8-4bd6-bfa9-fffd398a7119",
   "metadata": {},
   "outputs": [],
   "source": [
    "pd101[\"FD_OTH_INFO_NOTICE_DISPATCH_DATE\"]= ps.to_datetime(pd101[\"FD_OTH_INFO_NOTICE_DISPATCH_DATE\"])\n",
    "pd101[\"FD_OBJECT_PRIOR_INFORMATION.SCHEDULED_DATE_PERIOD.PERIOD_WORK_DATE_STARTING.INTERVAL_DATE.END_DATE\"]= ps.to_datetime(pd101[\"FD_OBJECT_PRIOR_INFORMATION.SCHEDULED_DATE_PERIOD.PERIOD_WORK_DATE_STARTING.INTERVAL_DATE.END_DATE\"])\n",
    "pd101[\"FD_OBJECT_PRIOR_INFORMATION.SCHEDULED_DATE_PERIOD.PERIOD_WORK_DATE_STARTING.INTERVAL_DATE.START_DATE\"]= ps.to_datetime(pd101[\"FD_OBJECT_PRIOR_INFORMATION.SCHEDULED_DATE_PERIOD.PERIOD_WORK_DATE_STARTING.INTERVAL_DATE.START_DATE\"])\n",
    "pd101[\"FD_OBJECT_PRIOR_INFORMATION.SCHEDULED_DATE_PERIOD.PROCEDURE_DATE_STARTING\"]= ps.to_datetime(pd101[\"FD_OBJECT_PRIOR_INFORMATION.SCHEDULED_DATE_PERIOD.PROCEDURE_DATE_STARTING\"])\n",
    "pd101[\"FD_OBJECT_PRIOR_INFORMATION.SCHEDULED_DATE_PERIOD.PROCEDURE_DATE_STARTING\"]= ps.to_datetime(pd101[\"FD_OBJECT_PRIOR_INFORMATION.SCHEDULED_DATE_PERIOD.PROCEDURE_DATE_STARTING\"])"
   ]
  },
  {
   "cell_type": "code",
   "execution_count": null,
   "id": "6b6e6e80-7d5c-4f19-b56c-44f17d441e3a",
   "metadata": {},
   "outputs": [],
   "source": [
    "pd101.info() "
   ]
  },
  {
   "cell_type": "code",
   "execution_count": null,
   "id": "dff62d43-3c34-40ab-8a5d-f53d953a1cc0",
   "metadata": {},
   "outputs": [],
   "source": [
    "fd101.write.parquet(\"s3a_//falk2210/fd101_210921.parquet\")"
   ]
  },
  {
   "cell_type": "markdown",
   "id": "58ae4f23-b020-4e3e-9058-8c412c2f2cd2",
   "metadata": {
    "jp-MarkdownHeadingCollapsed": true,
    "tags": []
   },
   "source": [
    "# 102 CONTRACT "
   ]
  },
  {
   "cell_type": "markdown",
   "id": "6cad921d-dbdc-45cc-a13a-5e36ba544b1c",
   "metadata": {},
   "source": [
    "<a id='d102' />"
   ]
  },
  {
   "cell_type": "code",
   "execution_count": null,
   "id": "88243c16-99e4-4950-b483-903cd63b84ac",
   "metadata": {},
   "outputs": [],
   "source": [
    "d102 = spark.read.json(\"falk/102.json/*.json\")\n",
    "#d102.printSchema()"
   ]
  },
  {
   "cell_type": "code",
   "execution_count": null,
   "id": "31d03c96-451a-410d-b99a-57a819bfdde7",
   "metadata": {},
   "outputs": [],
   "source": [
    "pd102 = d102.to_pandas_on_spark()"
   ]
  },
  {
   "cell_type": "code",
   "execution_count": null,
   "id": "c437e7a2-67e4-45ba-a532-3ad446bcdcb6",
   "metadata": {},
   "outputs": [],
   "source": [
    "pd102 = pd102.rename(columns=lambda x_ re.sub('DOFFIN_ESENDERS_VERSION', 'DOFFIN_VERSION', x))\n",
    "#pd102.info()"
   ]
  },
  {
   "cell_type": "code",
   "execution_count": null,
   "id": "962c9340-a65e-4f80-b8dd-b122303e3510",
   "metadata": {},
   "outputs": [],
   "source": [
    "pd102 = pd102.rename(columns=lambda x_ re.sub('DOFFIN_ESENDERS_', '', x))\n",
    "\n",
    "pd102 = pd102.rename(columns=lambda x_ re.sub('FORM_SECTION_', '', x))\n",
    "#pd102.info()"
   ]
  },
  {
   "cell_type": "code",
   "execution_count": null,
   "id": "be3c74e8-1c7f-400b-b465-b9ddc693791a",
   "metadata": {},
   "outputs": [],
   "source": [
    "pd102 = pd102.rename(columns=lambda x_ re.sub('VOLUNTARY_CONTRACT_', '', x))\n",
    "#pd102.info()"
   ]
  },
  {
   "cell_type": "code",
   "execution_count": null,
   "id": "db7c1bf7-142d-42f1-98cb-9062c5c3597e",
   "metadata": {},
   "outputs": [],
   "source": [
    "pd102['FD_COMPLEMENTARY_INFORMATION_CONTRACT_NOTICE_ADDITIONAL_INFORMATION'].update(pd102.pop('FD_COMPLEMENTARY_INFORMATION_CONTRACT_NOTICE_ADDITIONAL_INFORMATION_P'))\n",
    "pd102['FD_OBJECT_CONTRACT_INFORMATION_CONDITIONS_FOR_PARTICIPATION_F102'].update(pd102.pop('FD_OBJECT_CONTRACT_INFORMATION_CONDITIONS_FOR_PARTICIPATION_F102_P'))\n",
    "pd102['FD_OBJECT_CONTRACT_INFORMATION_DESCRIPTION_CONTRACT_INFORMATION_SHORT_CONTRACT_DESCRIPTION'].update(pd102.pop('FD_OBJECT_CONTRACT_INFORMATION_DESCRIPTION_CONTRACT_INFORMATION_SHORT_CONTRACT_DESCRIPTION_P'))\n",
    "pd102['FD_OBJECT_CONTRACT_INFORMATION_DESCRIPTION_CONTRACT_INFORMATION_SITE_OR_LOCATION_LABEL'].update(pd102.pop('FD_OBJECT_CONTRACT_INFORMATION_DESCRIPTION_CONTRACT_INFORMATION_SITE_OR_LOCATION_LABEL_P'))\n",
    "pd102['FD_OBJECT_CONTRACT_INFORMATION_DESCRIPTION_CONTRACT_INFORMATION_TITLE_CONTRACT'].update(pd102.pop('FD_OBJECT_CONTRACT_INFORMATION_DESCRIPTION_CONTRACT_INFORMATION_TITLE_CONTRACT_P'))\n",
    "pd102['FD_OBJECT_CONTRACT_INFORMATION_NATURE_QUANTITY_SCOPE_TOTAL_QUANTITY_OR_SCOPE'].update(pd102.pop('FD_OBJECT_CONTRACT_INFORMATION_NATURE_QUANTITY_SCOPE_TOTAL_QUANTITY_OR_SCOPE_P'))\n",
    "pd102['FD_PROCEDURE_DEFINITION_CONTRACT_NOTICE_ADMINISTRATIVE_INFORMATION_CONTRACT_NOTICE_FILE_REFERENCE_NUMBER'].update(pd102.pop('FD_PROCEDURE_DEFINITION_CONTRACT_NOTICE_ADMINISTRATIVE_INFORMATION_CONTRACT_NOTICE_FILE_REFERENCE_NUMBER_P'))\n",
    "pd102['FD_PROCEDURE_DEFINITION_CONTRACT_NOTICE_ADMINISTRATIVE_INFORMATION_CONTRACT_NOTICE_LANGUAGE_LANGUAGE_OTHER'].update(pd102.pop('FD_PROCEDURE_DEFINITION_CONTRACT_NOTICE_ADMINISTRATIVE_INFORMATION_CONTRACT_NOTICE_LANGUAGE_LANGUAGE_OTHER_P'))"
   ]
  },
  {
   "cell_type": "code",
   "execution_count": null,
   "id": "4c3359c6-6fea-4631-9fa6-54e7fa93f23a",
   "metadata": {},
   "outputs": [],
   "source": [
    "pd102 = pd102.rename(columns=lambda x_ re.sub('\\_P$', '', x))\n",
    "pd102.info()"
   ]
  },
  {
   "cell_type": "code",
   "execution_count": null,
   "id": "eb536bb2-0cc6-4bbc-b7ee-cdfe3b422ce5",
   "metadata": {},
   "outputs": [],
   "source": [
    "fd102 = pd102.to_spark()\n",
    "\n",
    "fd102.write.parquet(\"s3a_//falk2210/fd102_210921.parquet\")"
   ]
  },
  {
   "cell_type": "markdown",
   "id": "a3e87d9c-6646-4983-8358-c3689c4f1c02",
   "metadata": {
    "tags": []
   },
   "source": [
    "# 103 AWARD "
   ]
  },
  {
   "cell_type": "markdown",
   "id": "4a7231b9-a640-45fd-b7d5-5080c06bff4b",
   "metadata": {},
   "source": [
    "<a id='d103' />"
   ]
  },
  {
   "cell_type": "code",
   "execution_count": null,
   "id": "d9ac8fdd-c0ab-4719-9b32-c09deb9b93c6",
   "metadata": {},
   "outputs": [],
   "source": [
    "d103 = spark.read.json(\"falk/103.json/*.json\")\n",
    "#d103.printSchema()"
   ]
  },
  {
   "cell_type": "code",
   "execution_count": null,
   "id": "ef685d5c-8d88-4023-b27a-d91c55ae34e6",
   "metadata": {},
   "outputs": [],
   "source": [
    "pd103 = d103.to_pandas_on_spark()\n",
    "\n",
    "pd103 = pd103.rename(columns=lambda x_ re.sub('DOFFIN_ESENDERS_VERSION', 'DOFFIN_VERSION', x))\n",
    "#pd103.info()"
   ]
  },
  {
   "cell_type": "code",
   "execution_count": null,
   "id": "a2946edf-5090-4e1c-b95d-ca8070a6cf52",
   "metadata": {},
   "outputs": [],
   "source": [
    "pd103 = pd103.rename(columns=lambda x_ re.sub('DOFFIN_ESENDERS_', '', x))\n",
    "\n",
    "pd103 = pd103.rename(columns=lambda x_ re.sub('FORM_SECTION_', '', x))\n",
    "#pd103.info()"
   ]
  },
  {
   "cell_type": "code",
   "execution_count": null,
   "id": "163825dd-e215-43b0-a41b-087acfc91c4e",
   "metadata": {},
   "outputs": [],
   "source": [
    "pd103 = pd103.rename(columns=lambda x_ re.sub('VOLUNTARY_CONTRACT_AWARD_', '', x))\n",
    "#pd103.info()"
   ]
  },
  {
   "cell_type": "code",
   "execution_count": null,
   "id": "08f068e4-0b60-406c-97fd-5dc47eb785cf",
   "metadata": {},
   "outputs": [],
   "source": [
    "pd103['FD_OBJECT_CONTRACT_INFORMATION_CONTRACT_AWARD_NOTICE_DESCRIPTION_AWARD_NOTICE_INFORMATION_SHORT_CONTRACT_DESCRIPTION'].update(pd103.pop('FD_OBJECT_CONTRACT_INFORMATION_CONTRACT_AWARD_NOTICE_DESCRIPTION_AWARD_NOTICE_INFORMATION_SHORT_CONTRACT_DESCRIPTION_P'))\n",
    "pd103['FD_OBJECT_CONTRACT_INFORMATION_CONTRACT_AWARD_NOTICE_DESCRIPTION_AWARD_NOTICE_INFORMATION_SITE_OR_LOCATION_LABEL'].update(pd103.pop('FD_OBJECT_CONTRACT_INFORMATION_CONTRACT_AWARD_NOTICE_DESCRIPTION_AWARD_NOTICE_INFORMATION_SITE_OR_LOCATION_LABEL_P'))\n",
    "pd103['FD_OBJECT_CONTRACT_INFORMATION_CONTRACT_AWARD_NOTICE_DESCRIPTION_AWARD_NOTICE_INFORMATION_TITLE_CONTRACT'].update(pd103.pop('FD_OBJECT_CONTRACT_INFORMATION_CONTRACT_AWARD_NOTICE_DESCRIPTION_AWARD_NOTICE_INFORMATION_TITLE_CONTRACT_P'))\n",
    "pd103['FD_PROCEDURE_DEFINITION_CONTRACT_AWARD_NOTICE_ADMINISTRATIVE_INFORMATION_CONTRACT_AWARD_FILE_REFERENCE_NUMBER'].update(pd103.pop('FD_PROCEDURE_DEFINITION_CONTRACT_AWARD_NOTICE_ADMINISTRATIVE_INFORMATION_CONTRACT_AWARD_FILE_REFERENCE_NUMBER_P'))"
   ]
  },
  {
   "cell_type": "code",
   "execution_count": null,
   "id": "fb8fb620-bb5c-467e-86b8-4d545ff30ae6",
   "metadata": {},
   "outputs": [],
   "source": [
    "pd103 = pd103.rename(columns=lambda x_ re.sub('\\_P$', '', x))\n",
    "pd103 = pd103.rename(columns=lambda x_ re.sub('F03_', '', x))\n",
    "pd103 = pd103.rename(columns=lambda x_ re.sub('_F03', '', x))\n",
    "pd103 = pd103.rename(columns=lambda x_ re.sub('CONTACT_DATA_WITHOUT_RESPONSIBLE_NAME_', '', x))\n",
    "pd103 = pd103.rename(columns=lambda x_ re.sub('DOFFIN_FORM_TYPE_', '', x))\n",
    "pd103 = pd103.rename(columns=lambda x_ re.sub('ADMINISTRATIVE_INFORMATION_PREVIOUS_PUBLICATION_INFORMATION_NOTICE_', '', x))\n",
    "pd103 = pd103.rename(columns=lambda x_ re.sub('ORGANISATION_', '', x))\n",
    "pd103 = pd103.rename(columns=lambda x_ re.sub('FD_PROCEDURE_DEFINITION_CONTRACT_AWARD_NOTICE_ADMINISTRATIVE_INFORMATION_PREVIOUS_PUBLICATION_INFORMATION_NOTICE_F18_PREVIOUS_PUBLICATION_EXISTS_F03', 'FD_PROCEDURE_DEFINITION_CONTRACT_AWARD_NOTICE_ADMINISTRATIVE_INFORMATION_PREVIOUS_PUBLICATION_INFORMATION_NOTICE_PREVIOUS_PUBLICATION_EXISTS', x))\n",
    "pd103 = pd103.rename(columns=lambda x_ re.sub('PREVIOUS_PUBLICATION_NOTICE_F03', 'PREVIOUS_PUBLICATION_NOTICE', x))\n",
    "pd103 = pd103.rename(columns=lambda x_ re.sub('PREVIOUS_NOTICE_BUYER_PROFILE_F03', 'PREVIOUS_NOTICE_BUYER_PROFILE', x))\n",
    "pd103 = pd103.rename(columns=lambda x_ re.sub('AUTHORITY_INFORMATION_', '', x))\n",
    "pd103 = pd103.rename(columns=lambda x_ re.sub('E_MAILS_', '', x))\n",
    "pd103 = pd103.rename(columns=lambda x_ re.sub('FD_CONTRACTING_CONTRACT_AWARD_NAME_ADDRESSES_CONTACT_CONTRACT_AWARD_CA_CE_CONCESSIONAIRE_PROFILE_', 'FD_CONTRACTING_NAME_ADDRESSES_CONTACT_CA_CE_CONCESSIONAIRE_PROFILE_', x))\n",
    "pd103 = pd103.rename(columns=lambda x_ re.sub('FD_OBJECT_CONTRACT_INFORMATION_CONTRACT_AWARD_NOTICE_DESCRIPTION_AWARD_NOTICE_INFORMATION_', 'FD_OBJECT_CONTRACT_INFORMATION_CONTRACT_AWARD_NOTICE_DESCRIPTION_AWARD_NOTICE_INFORMATION_', x))"
   ]
  },
  {
   "cell_type": "code",
   "execution_count": null,
   "id": "90c1663c-1e8c-4040-9838-923728b70986",
   "metadata": {},
   "outputs": [],
   "source": [
    "pd103 = pd103.rename(columns=lambda x_ re.sub('FD_AWARD_OF_CONTRACT_ECONOMIC_OPERATOR_NAME_ADDRESS_', 'AWARDED_CONTRACT_CONTRACTOR_ADDRESS_CONTRACTOR_', x))\n",
    "pd103 = pd103.rename(columns=lambda x_ re.sub('FD_AWARD_OF_CONTRACT_', 'AWARD_CONTRACT_', x)) #ITEM\n",
    "#pd103 = pd103.rename(columns=lambda x_ re.sub('', 'COMPLEMENTARY_INFO_ADDRESS_MEDIATION_BODY_', x))\n",
    "#pd103 = pd103.rename(columns=lambda x_ re.sub('', 'COMPLEMENTARY_INFO_ADDRESS_REVIEW_BODY_', x))\n",
    "pd103 = pd103.rename(columns=lambda x_ re.sub('FD_COMPLEMENTARY_INFORMATION_CONTRACT_AWARD_NOTICE_DISPATCH_DATE_', 'COMPLEMENTARY_INFO_', x)) #COMPLEMENTARY_INFO_DATE_DISPATCH_NOTICE\n",
    "pd103 = pd103.rename(columns=lambda x_ re.sub('FD_CONTRACTING_NAME_ADDRESSES_CONTACT_CA_CE_CONCESSIONAIRE_PROFILE_', 'CONTRACTING_BODY_ADDRESS_CONTRACTING_BODY_', x))\n",
    "#pd103 = pd103.rename(columns=lambda x_ re.sub('', 'CONTRACTING_BODY_ADDRESS_FURTHER_INFO_', x))\n",
    "pd103 = pd103.rename(columns=lambda x_ re.sub('FD_CONTRACTING_CONTRACT_AWARD_TYPE_AND_ACTIVITIES_AND_PURCHASING_ON_BEHALF_PURCHASING_ON_BEHALF_PURCHASING_ON_BEHALF_YES_CONTACT_DATA_OTHER_BEHALF_CONTRACTING_AUTORITHY_', 'CONTRACTING_BODY_ADDRESS_PARTICIPATION_', x))\n",
    "pd103 = pd103.rename(columns=lambda x_ re.sub('FD_CONTRACTING_CONTRACT_AWARD_TYPE_AND_ACTIVITIES_AND_PURCHASING_ON_BEHALF_TYPE_AND_ACTIVITIES_TYPE_OF_CONTRACTING_AUTHORITY_OTHER_', 'CONTRACTING_BODY_', x)) #CONTRACTING_BODY_CA_ACTIVITY_VALUE\n",
    "#pd103 = pd103.rename(columns=lambda x_ re.sub('', 'LEFTI_', x)) #LEFTI_PARTICULAR_PROFESSION_CTYPE\n",
    "pd103 = pd103.rename(columns=lambda x_ re.sub('FD_OBJECT_CONTRACT_INFORMATION_CONTRACT_AWARD_NOTICE_DESCRIPTION_AWARD_NOTICE_INFORMATION_CPV_', 'OBJECT_CONTRACT_', x))  #OBJECT_CONTRACT_CPV_MAIN_CPV_CODE_CODE\n",
    "#pd103 = pd103.rename(columns=lambda x_ re.sub('', 'OBJECT_CONTRACT_OBJECT_DESCR_', x)) #OBJECT_CONTRACT_OBJECT_DESCR_CPV_ADDITIONAL\n",
    "pd103 = pd103.rename(columns=lambda x_ re.sub('FD_AWARD_OF_CONTRACT_', 'OBJECT_CONTRACT_OBJECT_DESCR_', x))  #OBJECT_CONTRACT_OBJECT_DESCR_ITEM\n",
    "pd103 = pd103.rename(columns=lambda x_ re.sub('FD_AWARD_OF_CONTRACT_', 'OBJECT_CONTRACT_', x)) #OBJECT_CONTRACT_TITLE\n",
    "#pd103 = pd103.rename(columns=lambda x_ re.sub('', 'PROCEDURE_', x)) #PROCEDURE_DATE_RECEIPT_TENDERS\n",
    "pd103 = pd103.rename(columns=lambda x_ re.sub('FD_OBJECT_CONTRACT_INFORMATION_CONTRACT_AWARD_NOTICE_DESCRIPTION_AWARD_NOTICE_INFORMATION_TITLE_CONTRACT', 'OBJECT_CONTRACT_OBJECT_DESCR_TITLE', x))\n",
    "pd103 = pd103.rename(columns=lambda x_ re.sub('FD_OBJECT_CONTRACT_INFORMATION_CONTRACT_AWARD_NOTICE_DESCRIPTION_AWARD_NOTICE_INFORMATION_SHORT_CONTRACT_DESCRIPTION', 'OBJECT_CONTRACT_OBJECT_DESCR_SHORT_DESCR', x))\n",
    "pd103 = pd103.rename(columns=lambda x_ re.sub('FD_OBJECT_CONTRACT_INFORMATION_CONTRACT_AWARD_NOTICE_TOTAL_FINAL_VALUE_COSTS_RANGE_AND_CURRENCY_WITH_VAT_RATE_CURRENCY', 'OBJECT_CONTRACT_VAL_TOTAL_CURRENCY', x))\n",
    "pd103 = pd103.rename(columns=lambda x_ re.sub('FD_OBJECT_CONTRACT_INFORMATION_CONTRACT_AWARD_NOTICE_TOTAL_FINAL_VALUE_COSTS_RANGE_AND_CURRENCY_WITH_VAT_RATE_RANGE_VALUE_COST_HIGH_VALUE', 'OBJECT_CONTRACT_VAL_RANGE_TOTAL_HIGH', x))\n",
    "pd103 = pd103.rename(columns=lambda x_ re.sub('FD_OBJECT_CONTRACT_INFORMATION_CONTRACT_AWARD_NOTICE_TOTAL_FINAL_VALUE_COSTS_RANGE_AND_CURRENCY_WITH_VAT_RATE_RANGE_VALUE_COST_LOW_VALUE', 'OBJECT_CONTRACT_VAL_RANGE_TOTAL_LOW', x))\n",
    "pd103 = pd103.rename(columns=lambda x_ re.sub('FD_OBJECT_CONTRACT_INFORMATION_CONTRACT_AWARD_NOTICE_TOTAL_FINAL_VALUE_COSTS_RANGE_AND_CURRENCY_WITH_VAT_RATE_VALUE_COST', 'OBJECT_CONTRACT_VAL_TOTAL_text', x))\n",
    "#pd103 = pd103.rename(columns=lambda x_ re.sub('', 'CONTRACTING_BODY_URL_DOCUMENT', x))\n",
    "pd103 = pd103.rename(columns=lambda x_ re.sub('FD_CONTRACTING_CONTRACT_AWARD_NAME_ADDRESSES_CONTACT_CONTRACT_AWARD_INTERNET_ADDRESSES_CONTRACT_AWARD_URL_PARTICIPATE', 'CONTRACTING_BODY_URL_PARTICIPATION', x))\n",
    "#pd103 = pd103.rename(columns=lambda x_ re.sub('', 'CONTRACTING_BODY_URL_TOOL', x))\n",
    "pd103 = pd103.rename(columns=lambda x_ re.sub('FD_CONTRACTING_CONTRACT_AWARD_NAME_ADDRESSES_CONTACT_CONTRACT_AWARD_INTERNET_ADDRESSES_CONTRACT_AWARD_URL_GENERAL', 'CONTRACTING_BODY_ADDRESS_FURTHER_INFO_URL_GENERAL', x))\n",
    "#pd103 = pd103.rename(columns=lambda x_ re.sub('', 'PROCEDURE_URL_NATIONAL_PROCEDURE', x))\n",
    "pd103 = pd103.rename(columns=lambda x_ re.sub('FD_CONTRACTING_CONTRACT_AWARD_NAME_ADDRESSES_CONTACT_CONTRACT_AWARD_INTERNET_ADDRESSES_CONTRACT_AWARD_', 'CONTRACTING_BODY_', x))\n",
    "pd103 = pd103.rename(columns=lambda x_ re.sub('FD_PROCEDURE_DEFINITION_CONTRACT_AWARD_NOTICE_AWARD_CRITERIA_CONTRACT_AWARD_NOTICE_INFORMATION_AWARD_CRITERIA_DETAIL_MOST_ECONOMICALLY_ADVANTAGEOUS_TENDER_SHORT_CRITERIA_DEFINITION_', 'PROCEDURE_', x))\n",
    "pd103 = pd103.rename(columns=lambda x_ re.sub('AWARD_CONTRACT_CONTRACT_TITLE', 'AWARD_CONTRACT_TITLE', x))\n",
    "#pd103 = pd103.rename(columns=lambda x_ re.sub('', 'AWARD_CONTRACT_LOT_NO', x)) \n",
    "pd103 = pd103.rename(columns=lambda x_ re.sub('FD_COMPLEMENTARY_INFORMATION_CONTRACT_AWARD_ADDITIONAL_INFORMATION', 'COMPLEMENTARY_INFO_INFO_ADD', x)) \n",
    "pd103 = pd103.rename(columns=lambda x_ re.sub('FD_PROCEDURE_DEFINITION_CONTRACT_AWARD_NOTICE_ADMINISTRATIVE_INFORMATION_CONTRACT_AWARD_FILE_REFERENCE_NUMBER', 'OBJECT_CONTRACT_REFERENCE_NUMBER', x))\n",
    "pd103 = pd103.rename(columns=lambda x_ re.sub('FD_CONTRACTING_CONTRACT_AWARD_TYPE_AND_ACTIVITIES_AND_PURCHASING_ON_BEHALF_TYPE_AND_ACTIVITIES_', 'FD_CONTRACTING_TYPE_AND_ACTIVITIES_AND_PURCHASING_ON_BEHALF_TYPE_AND_ACTIVITIES_', x))"
   ]
  },
  {
   "cell_type": "code",
   "execution_count": null,
   "id": "97deb332-15b2-4a95-9eca-67147a63aa7b",
   "metadata": {},
   "outputs": [],
   "source": [
    "pd103.info()"
   ]
  },
  {
   "cell_type": "code",
   "execution_count": null,
   "id": "3107e5aa-427b-4721-8ddc-02bdbf9b8d9e",
   "metadata": {},
   "outputs": [],
   "source": [
    "#pd103.head()"
   ]
  },
  {
   "cell_type": "code",
   "execution_count": null,
   "id": "1125b194-1c10-4337-99a5-e5b7bb40e49a",
   "metadata": {},
   "outputs": [],
   "source": [
    "fd103 = pd103.to_spark()"
   ]
  },
  {
   "cell_type": "code",
   "execution_count": null,
   "id": "a033478a-337d-4c3b-9a36-cf49ac693da5",
   "metadata": {},
   "outputs": [],
   "source": [
    "\"\"\"\n",
    "fd103 = fd103.withColumn(\"FD_AWARD_OF_CONTRACT.CONTRACT_AWARD_DATE\", expr(\"make_date(`FD_AWARD_OF_CONTRACT.CONTRACT_AWARD_DATE.YEAR`, `FD_AWARD_OF_CONTRACT.CONTRACT_AWARD_DATE.MONTH`, `FD_AWARD_OF_CONTRACT.CONTRACT_AWARD_DATE.DAY`)\"))\n",
    "fd103 = fd103.withColumn(\"FD_COMPLEMENTARY_INFORMATION_CONTRACT_AWARD.NOTICE_DISPATCH_DATE\", expr(\"make_date(`FD_COMPLEMENTARY_INFORMATION_CONTRACT_AWARD.NOTICE_DISPATCH_DATE.YEAR`, `FD_COMPLEMENTARY_INFORMATION_CONTRACT_AWARD.NOTICE_DISPATCH_DATE.MONTH`, `FD_COMPLEMENTARY_INFORMATION_CONTRACT_AWARD.NOTICE_DISPATCH_DATE.DAY`)\"))\n",
    "\"\"\""
   ]
  },
  {
   "cell_type": "code",
   "execution_count": null,
   "id": "ce62fc8f-1e57-402d-bf3a-2399cf6bb358",
   "metadata": {},
   "outputs": [],
   "source": [
    "#fd103.printSchema()"
   ]
  },
  {
   "cell_type": "code",
   "execution_count": null,
   "id": "92f8e3e8-2571-4910-ba44-b81999fcbb5c",
   "metadata": {},
   "outputs": [],
   "source": [
    "#pd103 = fd103.to_pandas_on_spark()\n",
    "\n",
    "#pd103.info()"
   ]
  },
  {
   "cell_type": "code",
   "execution_count": null,
   "id": "c0a5ff3f-e17f-4457-af0e-f6d8f9c6cb07",
   "metadata": {},
   "outputs": [],
   "source": [
    "\"\"\"\n",
    "pd103 = pd103.drop(columns=['FD_AWARD_OF_CONTRACT.CONTRACT_AWARD_DATE.DAY', 'FD_AWARD_OF_CONTRACT.CONTRACT_AWARD_DATE.MONTH', 'FD_AWARD_OF_CONTRACT.CONTRACT_AWARD_DATE.YEAR'])\n",
    "pd103 = pd103.drop(columns=['FD_COMPLEMENTARY_INFORMATION_CONTRACT_AWARD.NOTICE_DISPATCH_DATE.DAY', 'FD_COMPLEMENTARY_INFORMATION_CONTRACT_AWARD.NOTICE_DISPATCH_DATE.MONTH', 'FD_COMPLEMENTARY_INFORMATION_CONTRACT_AWARD.NOTICE_DISPATCH_DATE.YEAR'])\n",
    "\"\"\""
   ]
  },
  {
   "cell_type": "code",
   "execution_count": null,
   "id": "e2312b69-e547-4325-b194-e1d33f550b39",
   "metadata": {},
   "outputs": [],
   "source": [
    "#pd103.info()"
   ]
  },
  {
   "cell_type": "code",
   "execution_count": null,
   "id": "02539669-530b-47af-b943-51cfe2c1fc84",
   "metadata": {},
   "outputs": [],
   "source": [
    "\"\"\"\n",
    "pd103[\"FD_AWARD_OF_CONTRACT.CONTRACT_AWARD_DATE\"]= ps.to_datetime(pd103[\"FD_AWARD_OF_CONTRACT.CONTRACT_AWARD_DATE\"])\n",
    "pd103[\"FD_COMPLEMENTARY_INFORMATION_CONTRACT_AWARD.NOTICE_DISPATCH_DATE\"]= ps.to_datetime(pd103[\"FD_COMPLEMENTARY_INFORMATION_CONTRACT_AWARD.NOTICE_DISPATCH_DATE\"])\n",
    "\"\"\""
   ]
  },
  {
   "cell_type": "code",
   "execution_count": null,
   "id": "7ae7c4d4-6888-41b5-8db9-bd2e0e2da2cd",
   "metadata": {},
   "outputs": [],
   "source": [
    "#pd103.info() "
   ]
  },
  {
   "cell_type": "code",
   "execution_count": null,
   "id": "6ccb406b-55d5-4ed3-a528-1d0623b4c9dd",
   "metadata": {},
   "outputs": [],
   "source": [
    "#fd103 = pd103.to_spark()"
   ]
  },
  {
   "cell_type": "code",
   "execution_count": null,
   "id": "87b1f946-2b0d-4455-a55b-117f8f96de7f",
   "metadata": {},
   "outputs": [],
   "source": [
    "#fd103.write.parquet(\"s3a_//falk2210/fd103_210921.parquet\")"
   ]
  },
  {
   "cell_type": "code",
   "execution_count": null,
   "id": "0f9fa385-2408-498c-a79f-749b0f2bb450",
   "metadata": {},
   "outputs": [],
   "source": [
    "fd103.write.mode(\"append\").json(\"falk2210/f_award.json\")"
   ]
  },
  {
   "cell_type": "markdown",
   "id": "fbab6934-9711-4384-b405-a9fd8e3d0583",
   "metadata": {},
   "source": [
    "# read all awards"
   ]
  },
  {
   "cell_type": "code",
   "execution_count": null,
   "id": "05c0d75a-6fb8-4f0d-989e-c3d528978e68",
   "metadata": {},
   "outputs": [],
   "source": [
    "f_award = spark.read.json(\"falk2210/f_award.json/*.json\")"
   ]
  },
  {
   "cell_type": "code",
   "execution_count": null,
   "id": "a2104baf-3719-498d-bbf2-587d78fc97c4",
   "metadata": {},
   "outputs": [],
   "source": [
    "f_award.write.mode(\"append\").json(\"falk2210/alla_award.json\")"
   ]
  },
  {
   "cell_type": "code",
   "execution_count": null,
   "id": "1910e08a-a12d-4d06-89a2-ad4dfeed167c",
   "metadata": {},
   "outputs": [],
   "source": [
    "f_award = spark.read.json(\"falk2210/alla_award.json/*.json\")"
   ]
  },
  {
   "cell_type": "code",
   "execution_count": null,
   "id": "58b38cad-1fa4-40b3-8952-3634204a17f8",
   "metadata": {},
   "outputs": [],
   "source": [
    "f_award = f_award.withColumn(\"AWARDED_CONTRACT_DATE_CONCLUSION_CONTRACT\", expr(\"make_date(`AWARD_CONTRACT_CONTRACT_AWARD_DATE_YEAR`, `AWARD_CONTRACT_CONTRACT_AWARD_DATE_MONTH`, `AWARD_CONTRACT_CONTRACT_AWARD_DATE_DAY`)\"))\n",
    "f_award = f_award.withColumn(\"COMPLEMENTARY_INFO_DATE_DISPATCH_NOTICE\", expr(\"make_date(`COMPLEMENTARY_INFO_YEAR`, `COMPLEMENTARY_INFO_MONTH`, `COMPLEMENTARY_INFO_DAY`)\")) \n",
    "f_award = f_award.withColumn(\"FD_PREVIOUS_PUBLICATION_EXISTS_CNT_NOTICE_INFORMATION_DATE_OJ\", expr(\"make_date(`FD_PREVIOUS_PUBLICATION_EXISTS_CNT_NOTICE_INFORMATION_DATE_OJ_YEAR`, `FD_PREVIOUS_PUBLICATION_EXISTS_CNT_NOTICE_INFORMATION_DATE_OJ_MONTH`, `FD_PREVIOUS_PUBLICATION_EXISTS_CNT_NOTICE_INFORMATION_DATE_OJ_DAY`)\"))\n",
    "f_award = f_award.withColumn(\"FD_PREVIOUS_PUBLICATION_EXISTS_DATE_OJ\", expr(\"make_date(`FD_PREVIOUS_PUBLICATION_EXISTS_DATE_OJ_YEAR`, `FD_PREVIOUS_PUBLICATION_EXISTS_DATE_OJ_MONTH`, `FD_PREVIOUS_PUBLICATION_EXISTS_DATE_OJ_DAY`)\")) \n",
    "f_award = f_award.withColumn(\"FD_PREVIOUS_PUBLICATION_EXISTS_EX_ANTE_NOTICE_INFORMATION_DATE_OJ\", expr(\"make_date(`FD_PREVIOUS_PUBLICATION_EXISTS_EX_ANTE_NOTICE_INFORMATION_DATE_OJ_YEAR`, `FD_PREVIOUS_PUBLICATION_EXISTS_EX_ANTE_NOTICE_INFORMATION_DATE_OJ_MONTH`, `FD_PREVIOUS_PUBLICATION_EXISTS_EX_ANTE_NOTICE_INFORMATION_DATE_OJ_DAY`)\")) \n",
    "f_award = f_award.withColumn(\"FD_PREVIOUS_PUBLICATION_EXISTS_OTHER_PREVIOUS_PUBLICATIONS_OTHER_PREVIOUS_PUBLICATION_DATE_OJ\", expr(\"make_date(`FD_PREVIOUS_PUBLICATION_EXISTS_OTHER_PREVIOUS_PUBLICATIONS_OTHER_PREVIOUS_PUBLICATION_DATE_OJ_YEAR`, `FD_PREVIOUS_PUBLICATION_EXISTS_OTHER_PREVIOUS_PUBLICATIONS_OTHER_PREVIOUS_PUBLICATION_DATE_OJ_MONTH`, `FD_PREVIOUS_PUBLICATION_EXISTS_OTHER_PREVIOUS_PUBLICATIONS_OTHER_PREVIOUS_PUBLICATION_DATE_OJ_DAY`)\")) \n",
    "f_award = f_award.withColumn(\"FD_PREVIOUS_PUBLICATION_EXISTS_PREVIOUS_PUBLICATION_NOTICE_DATE_OJ\", expr(\"make_date(`FD_PREVIOUS_PUBLICATION_EXISTS_PREVIOUS_PUBLICATION_NOTICE_DATE_OJ_YEAR`, `FD_PREVIOUS_PUBLICATION_EXISTS_PREVIOUS_PUBLICATION_NOTICE_DATE_OJ_MONTH`, `FD_PREVIOUS_PUBLICATION_EXISTS_PREVIOUS_PUBLICATION_NOTICE_DATE_OJ_DAY`)\")) \n"
   ]
  },
  {
   "cell_type": "code",
   "execution_count": null,
   "id": "45953425-eec8-4b3d-b44a-42f5492eb429",
   "metadata": {},
   "outputs": [],
   "source": []
  },
  {
   "cell_type": "code",
   "execution_count": null,
   "id": "e7188269-11f5-469f-8da0-b52c426bc035",
   "metadata": {},
   "outputs": [],
   "source": [
    "#f_award.write.parquet(\"falk2210/f_award.parquet\")"
   ]
  },
  {
   "cell_type": "code",
   "execution_count": null,
   "id": "86be2269-f47e-4d30-bfb0-e3e3abb86b78",
   "metadata": {},
   "outputs": [],
   "source": [
    "#f_award.printSchema()"
   ]
  },
  {
   "cell_type": "code",
   "execution_count": null,
   "id": "2b2b6102-af6f-4ef0-85ff-f17ed4cbd5df",
   "metadata": {},
   "outputs": [],
   "source": [
    "pf_award = f_award.to_pandas_on_spark()"
   ]
  },
  {
   "cell_type": "code",
   "execution_count": null,
   "id": "17568131-a78b-4b2c-beec-0edd6f30ef48",
   "metadata": {},
   "outputs": [],
   "source": [
    "pf_award = pf_award.drop(columns=['AWARD_CONTRACT_CONTRACT_AWARD_DATE_DAY', 'AWARD_CONTRACT_CONTRACT_AWARD_DATE_MONTH', 'AWARD_CONTRACT_CONTRACT_AWARD_DATE_YEAR'])\n",
    "pf_award = pf_award.drop(columns=['COMPLEMENTARY_INFO_DAY', 'COMPLEMENTARY_INFO_MONTH', 'COMPLEMENTARY_INFO_YEAR'])\n",
    "pf_award = pf_award.drop(columns=['FD_PREVIOUS_PUBLICATION_EXISTS_CNT_NOTICE_INFORMATION_DATE_OJ_DAY', 'FD_PREVIOUS_PUBLICATION_EXISTS_CNT_NOTICE_INFORMATION_DATE_OJ_MONTH', 'FD_PREVIOUS_PUBLICATION_EXISTS_CNT_NOTICE_INFORMATION_DATE_OJ_YEAR'])\n",
    "pf_award = pf_award.drop(columns=['FD_PREVIOUS_PUBLICATION_EXISTS_DATE_OJ_DAY', 'FD_PREVIOUS_PUBLICATION_EXISTS_DATE_OJ_MONTH', 'FD_PREVIOUS_PUBLICATION_EXISTS_DATE_OJ_YEAR'])\n",
    "pf_award = pf_award.drop(columns=['FD_PREVIOUS_PUBLICATION_EXISTS_EX_ANTE_NOTICE_INFORMATION_DATE_OJ_DAY', 'FD_PREVIOUS_PUBLICATION_EXISTS_EX_ANTE_NOTICE_INFORMATION_DATE_OJ_MONTH', 'FD_PREVIOUS_PUBLICATION_EXISTS_EX_ANTE_NOTICE_INFORMATION_DATE_OJ_YEAR'])\n",
    "pf_award = pf_award.drop(columns=['FD_PREVIOUS_PUBLICATION_EXISTS_OTHER_PREVIOUS_PUBLICATIONS_OTHER_PREVIOUS_PUBLICATION_DATE_OJ_DAY', 'FD_PREVIOUS_PUBLICATION_EXISTS_OTHER_PREVIOUS_PUBLICATIONS_OTHER_PREVIOUS_PUBLICATION_DATE_OJ_MONTH', 'FD_PREVIOUS_PUBLICATION_EXISTS_OTHER_PREVIOUS_PUBLICATIONS_OTHER_PREVIOUS_PUBLICATION_DATE_OJ_YEAR'])\n",
    "pf_award = pf_award.drop(columns=['FD_PREVIOUS_PUBLICATION_EXISTS_PREVIOUS_PUBLICATION_NOTICE_DATE_OJ_DAY', 'FD_PREVIOUS_PUBLICATION_EXISTS_PREVIOUS_PUBLICATION_NOTICE_DATE_OJ_MONTH', 'FD_PREVIOUS_PUBLICATION_EXISTS_PREVIOUS_PUBLICATION_NOTICE_DATE_OJ_YEAR'])"
   ]
  },
  {
   "cell_type": "code",
   "execution_count": null,
   "id": "548141b3-71a3-4454-a4bf-3c64f8e69d04",
   "metadata": {},
   "outputs": [],
   "source": [
    "pf_award[\"DOFFIN_APPENDIX_NATIONAL_REFERENCE_SECTION_REFERENCE_DOFFIN_DATE\"]= ps.to_datetime(pf_award[\"DOFFIN_APPENDIX_NATIONAL_REFERENCE_SECTION_REFERENCE_DOFFIN_DATE\"])\n",
    "pf_award[\"DOFFIN_APPENDIX_VOLUNTARY_REFERENCE_SECTION_REFERENCE_DOFFIN_DATE\"]= ps.to_datetime(pf_award[\"DOFFIN_APPENDIX_VOLUNTARY_REFERENCE_SECTION_REFERENCE_DOFFIN_DATE\"])\n",
    "pf_award[\"AWARDED_CONTRACT_DATE_CONCLUSION_CONTRACT\"]= ps.to_datetime(pf_award[\"AWARDED_CONTRACT_DATE_CONCLUSION_CONTRACT\"])\n",
    "pf_award[\"COMPLEMENTARY_INFO_DATE_DISPATCH_NOTICE\"]= ps.to_datetime(pf_award[\"COMPLEMENTARY_INFO_DATE_DISPATCH_NOTICE\"])\n",
    "pf_award[\"FD_PREVIOUS_PUBLICATION_EXISTS_CNT_NOTICE_INFORMATION_DATE_OJ\"]= ps.to_datetime(pf_award[\"FD_PREVIOUS_PUBLICATION_EXISTS_CNT_NOTICE_INFORMATION_DATE_OJ\"])\n",
    "pf_award[\"FD_PREVIOUS_PUBLICATION_EXISTS_DATE_OJ\"]= ps.to_datetime(pf_award[\"FD_PREVIOUS_PUBLICATION_EXISTS_DATE_OJ\"])\n",
    "pf_award[\"FD_PREVIOUS_PUBLICATION_EXISTS_EX_ANTE_NOTICE_INFORMATION_DATE_OJ\"]= ps.to_datetime(pf_award[\"FD_PREVIOUS_PUBLICATION_EXISTS_EX_ANTE_NOTICE_INFORMATION_DATE_OJ\"])\n",
    "pf_award[\"FD_PREVIOUS_PUBLICATION_EXISTS_OTHER_PREVIOUS_PUBLICATIONS_OTHER_PREVIOUS_PUBLICATION_DATE_OJ\"]= ps.to_datetime(pf_award[\"FD_PREVIOUS_PUBLICATION_EXISTS_OTHER_PREVIOUS_PUBLICATIONS_OTHER_PREVIOUS_PUBLICATION_DATE_OJ\"])\n",
    "pf_award[\"FD_PREVIOUS_PUBLICATION_EXISTS_PREVIOUS_PUBLICATION_NOTICE_DATE_OJ\"]= ps.to_datetime(pf_award[\"FD_PREVIOUS_PUBLICATION_EXISTS_PREVIOUS_PUBLICATION_NOTICE_DATE_OJ\"])\n",
    "\n",
    "\n",
    "pf_award[\"AWARDED_CONTRACT_DATE_DECISION_JURY\"]= ps.to_datetime(pf_award[\"AWARDED_CONTRACT_DATE_DECISION_JURY\"])\n",
    "pf_award[\"OBJECT_CONTRACT_OBJECT_DESCR_DATE_END\"]= ps.to_datetime(pf_award[\"OBJECT_CONTRACT_OBJECT_DESCR_DATE_END\"])\n",
    "pf_award[\"OBJECT_CONTRACT_OBJECT_DESCR_DATE_START\"]= ps.to_datetime(pf_award[\"OBJECT_CONTRACT_OBJECT_DESCR_DATE_START\"])\n",
    "pf_award[\"PROCEDURE_DATE_RECEIPT_TENDERS\"]= ps.to_datetime(pf_award[\"PROCEDURE_DATE_RECEIPT_TENDERS\"])\n",
    "pf_award[\"PROCEDURE_DATE_AWARD_SCHEDULED\"]= ps.to_datetime(pf_award[\"PROCEDURE_DATE_AWARD_SCHEDULED\"])"
   ]
  },
  {
   "cell_type": "code",
   "execution_count": null,
   "id": "c0f6f7b3-ee27-4f97-865b-835f2a010ef3",
   "metadata": {},
   "outputs": [],
   "source": [
    "pf_award['AWARD_CONTRACT_CONTRACT_NO'].update(pf_award.pop('AWARD_CONTRACT_CONTRACT_NUMBER'))\n",
    "pf_award['FD_COMPLEMENTARY_INFORMATION_PROCEDURES_FOR_APPEAL_LODGING_OF_APPEALS_LODGING_OF_APPEALS_PRECISION'].update(pf_award.pop('FD_COMPLEMENTARY_INFORMATION_CONTRACT_AWARD_PROCEDURES_FOR_APPEAL_LODGING_OF_APPEALS_LODGING_OF_APPEALS_PRECISION'))\n",
    "pf_award['FD_COMPLEMENTARY_INFORMATION_PROCEDURES_FOR_APPEAL_LODGING_OF_APPEALS_LODGING_OF_APPEALS_PRECISION'].update(pf_award.pop('FD_COMPLEMENTARY_INFORMATION_PROCEDURES_FOR_APPEAL_LODGING_OF_APPEALS_LODGING_OF_APPEALS_PRECISION'))\n",
    "pf_award['FD_OBJECT_TOTAL_FINAL_VALUE_COSTS_RANGE_AND_CURRENCY_WITH_VAT_RATE_INCLUDING_VAT_VAT_PRCT'].update(pf_award.pop('FD_OBJECT_CONTRACT_INFORMATION_CONTRACT_AWARD_NOTICE_TOTAL_FINAL_VALUE_COSTS_RANGE_AND_CURRENCY_WITH_VAT_RATE_INCLUDING_VAT_VAT_PRCT'))\n",
    "pf_award['OBJECT_CONTRACT_CPV_ADDITIONAL_CPV_CODE_CODE'].update(pf_award.pop('OBJECT_CONTRACT_CPV_CPV_ADDITIONAL_CPV_CODE_CODE'))\n",
    "pf_award['OBJECT_CONTRACT_CPV_MAIN_CPV_CODE_CODE'].update(pf_award.pop('OBJECT_CONTRACT_CPV_CPV_MAIN_CPV_CODE_CODE'))"
   ]
  },
  {
   "cell_type": "code",
   "execution_count": null,
   "id": "ee94569c-dfdf-45ff-8d13-7efccdfc29ec",
   "metadata": {},
   "outputs": [],
   "source": [
    "pf_award = pf_award.rename(columns=lambda x_ re.sub('AWARDED_CONTRACT_', '', x))\n",
    "pf_award = pf_award.rename(columns=lambda x_ re.sub('PROCUREMENT_DISCONTINUED_', '', x))\n",
    "pf_award = pf_award.rename(columns=lambda x_ re.sub('CONTRACT_VALUE_INFORMATION_', '', x))\n",
    "pf_award = pf_award.rename(columns=lambda x_ re.sub('COMPLEMENTARY_INFO_', '', x))\n",
    "pf_award = pf_award.rename(columns=lambda x_ re.sub('CONTRACTING_BODY_', '', x))\n",
    "pf_award = pf_award.rename(columns=lambda x_ re.sub('OBJECT_CONTRACT_', 'OC_', x))\n",
    "pf_award = pf_award.rename(columns=lambda x_ re.sub('AWARD_CONTRACT_', 'AC_', x))\n",
    "pf_award = pf_award.rename(columns=lambda x_ re.sub('AC_CONTRACT_LIKELY_SUB_CONTRACTED_SUBCONTRACT_SUBCONTRACT_AWARD_PART_VALUE', 'AC_CONTRACT_LIKELY_SUB_CONTRACTED_SUBCONTRACT_AWARD_PART_VALUE', x))\n",
    "pf_award = pf_award.rename(columns=lambda x_ re.sub('INCLUDING_VAT', 'INC_VAT', x))\n",
    "pf_award = pf_award.rename(columns=lambda x_ re.sub('DOFFIN_APPENDIX', 'DA', x))\n",
    "pf_award = pf_award.rename(columns=lambda x_ re.sub('PT_', '', x))\n",
    "pf_award = pf_award.rename(columns=lambda x_ re.sub('_FORM_EXTENSIONS', '', x))\n",
    "pf_award = pf_award.rename(columns=lambda x_ re.sub('REFERENCE_SECTION_', '', x))\n",
    "pf_award = pf_award.rename(columns=lambda x_ re.sub('FD_CONTRACTING_TYPE_AND_ACTIVITIES_AND_PURCHASING_ON_BEHALF_TYPE_AND_ACTIVITIES_', 'PURCHASING_ON_BEHALF_', x))\n",
    "pf_award = pf_award.rename(columns=lambda x_ re.sub('FD_PREVIOUS_PUBLICATION_EXISTS_', 'PREVIOUS_PUBLICATION_', x))\n",
    "pf_award = pf_award.rename(columns=lambda x_ re.sub('FD_PROCEDURES_AWARD_CRITERIA_CONTRACT_UTILITIES_INFORMATION_PRICE_AWARD_CRITERIA_PRICE', 'PRICE_AWARD_CRITERIA_PRICE', x))\n",
    "pf_award = pf_award.rename(columns=lambda x_ re.sub('FD_PROCEDURE_DEFINITION_', '', x))\n",
    "pf_award = pf_award.rename(columns=lambda x_ re.sub('VAL_BARGAIN_PURCHASE_', 'VALUES_VAL_BARGAIN_PURCHASE_', x))\n",
    "pf_award = pf_award.rename(columns=lambda x_ re.sub('VAL_SUBCONTRACTING_', 'VALUES_VAL_SUBCONTRACTING_', x))\n",
    "pf_award = pf_award.rename(columns=lambda x_ re.sub('CONTRACT_AWARD_EXTENSIONS_NATIONAL_ANNEXD4_', 'NATIONAL_', x))\n",
    "pf_award = pf_award.rename(columns=lambda x_ re.sub('VOLUNTARY_EX_ANTE_TRANSPARENCY_NOTICE_EXTENSIONS_NATIONAL_ANNEXD4_', 'V_NATIONAL_', x))\n",
    "pf_award = pf_award.rename(columns=lambda x_ re.sub('FD_CONTRACTING_ACTIVITIES_OF_CONTRACTING_ENTITY_', '', x))\n",
    "pf_award = pf_award.rename(columns=lambda x_ re.sub('CNT_NOTICE_INFORMATION_S_', 'CNT_', x))\n",
    "pf_award = pf_award.rename(columns=lambda x_ re.sub('EX_ANTE_NOTICE_INFORMATION_S_', 'EX_ANTE', x))\n",
    "pf_award = pf_award.rename(columns=lambda x_ re.sub('TYPE_OF_PROCEDUREAWARD_WITHOUT_PRIOR_PUBLICATION_', 'WITHOUT_PRIOR_', x))\n",
    "pf_award = pf_award.rename(columns=lambda x_ re.sub('TYPE_OF_PROCEDURENEGOTIATED_WITHOUT_COMPETITION_', 'WITHOUT_COMPETITION_', x))"
   ]
  },
  {
   "cell_type": "code",
   "execution_count": null,
   "id": "c4728844-2b61-42ee-a649-15b5bff197fc",
   "metadata": {},
   "outputs": [],
   "source": [
    "pf_award.info()"
   ]
  },
  {
   "cell_type": "code",
   "execution_count": null,
   "id": "4fff2cfc-5bab-4d98-b763-33a071ac63c2",
   "metadata": {},
   "outputs": [],
   "source": [
    "spf_award = pf_award.to_spark()"
   ]
  },
  {
   "cell_type": "code",
   "execution_count": null,
   "id": "2884e001-4479-4fbc-9680-361677ac52a6",
   "metadata": {},
   "outputs": [],
   "source": [
    "#spf_award.write.parquet(\"falk2210/spf_award041221.parquet\")"
   ]
  },
  {
   "cell_type": "code",
   "execution_count": null,
   "id": "04ec37e1-bb57-462d-b4a3-e06ab47d0ff5",
   "metadata": {},
   "outputs": [],
   "source": [
    "spf_award.distinct().count()"
   ]
  },
  {
   "cell_type": "code",
   "execution_count": null,
   "id": "1c4e9fc9-8c9c-4f57-945d-eff136dbeabd",
   "metadata": {},
   "outputs": [],
   "source": []
  },
  {
   "cell_type": "code",
   "execution_count": null,
   "id": "02bef380-dbe0-4e9c-984e-16f7fea52172",
   "metadata": {},
   "outputs": [],
   "source": [
    "pf_award = pf_award.rename(columns=lambda x_ re.sub('PREVIOUS_PUBLICATION_OTHER_PREVIOUS_PUBLICATIONS_OTHER_PREVIOUS_PUBLICATION_', 'OTHER_PREVIOUS_PUBLICATION_', x))\n",
    "pf_award = pf_award.rename(columns=lambda x_ re.sub('PREVIOUS_PUBLICATION_PREVIOUS_PUBLICATION_NOTICE_', 'PREVIOUS_PUBLICATION_', x))\n",
    "#pf_award = pf_award.rename(columns=lambda x_ re.sub('TYPE_OF_PROCEDUREAWARD_WITHOUT_PRIOR_PUBLICATION_', 'WITHOUT_PRIOR_', x))\n",
    "pf_award = pf_award.rename(columns=lambda x_ re.sub('TYPE_OF_PROCEDURENEGOTIATED_WITHOUT_COMPETITION_', 'WITHOUT_COMPETITION_', x))\n",
    "pf_award = pf_award.rename(columns=lambda x_ re.sub('FD_PROCEDURE_DEFINITION_CONTRACT_AWARD_NOTICE_', 'PROCEDURE_', x))\n",
    "pf_award = pf_award.rename(columns=lambda x_ re.sub('PROCEDURE_DIRECTIVE_2014_24_EU_NEGOTIATED_WITHOUT_PUBLICATION_D_ACCORDANCE_ARTICLE_', 'WITHOUT_PRIOR_', x))\n",
    "pf_award = pf_award.rename(columns=lambda x_ re.sub('PROCEDURE_AWARD_CONTRACT_WITHOUT_PUBLICATION_', 'WITHOUT_PRIOR_', x))"
   ]
  },
  {
   "cell_type": "code",
   "execution_count": null,
   "id": "8e7f67f6-0b2f-47ae-abcd-2b09a515d5b3",
   "metadata": {},
   "outputs": [],
   "source": [
    "pf_award.info()"
   ]
  },
  {
   "cell_type": "raw",
   "id": "9e8553ce-4fa3-4388-8eb9-2d202381b85c",
   "metadata": {},
   "source": [
    " fd103 = fd103.withColumn(\"FD_AWARD_OF_CONTRACT.CONTRACT_AWARD_DATE\", expr(\"make_date(`FD_AWARD_OF_CONTRACT.CONTRACT_AWARD_DATE.YEAR`, `FD_AWARD_OF_CONTRACT.CONTRACT_AWARD_DATE.MONTH`, `FD_AWARD_OF_CONTRACT.CONTRACT_AWARD_DATE.DAY`)\"))\n",
    "fd103 = fd103.withColumn(\"FD_COMPLEMENTARY_INFORMATION_CONTRACT_AWARD.NOTICE_DISPATCH_DATE\", expr(\"make_date(`FD_COMPLEMENTARY_INFORMATION_CONTRACT_AWARD.NOTICE_DISPATCH_DATE.YEAR`, `FD_COMPLEMENTARY_INFORMATION_CONTRACT_AWARD.NOTICE_DISPATCH_DATE.MONTH`, `FD_COMPLEMENTARY_INFORMATION_CONTRACT_AWARD.NOTICE_DISPATCH_DATE.DAY`)\"))\n",
    "\n",
    "\n",
    "\n",
    "pd103 = fd103.to_pandas_on_spark()\n",
    "\n",
    "\n",
    "pd103 = pd103.drop(columns=['FD_AWARD_OF_CONTRACT.CONTRACT_AWARD_DATE.DAY', 'FD_AWARD_OF_CONTRACT.CONTRACT_AWARD_DATE.MONTH', 'FD_AWARD_OF_CONTRACT.CONTRACT_AWARD_DATE.YEAR'])\n",
    "pd103 = pd103.drop(columns=['FD_COMPLEMENTARY_INFORMATION_CONTRACT_AWARD.NOTICE_DISPATCH_DATE.DAY', 'FD_COMPLEMENTARY_INFORMATION_CONTRACT_AWARD.NOTICE_DISPATCH_DATE.MONTH', 'FD_COMPLEMENTARY_INFORMATION_CONTRACT_AWARD.NOTICE_DISPATCH_DATE.YEAR'])\n",
    " \n",
    " \n",
    "pd103[\"FD_AWARD_OF_CONTRACT.CONTRACT_AWARD_DATE\"]= ps.to_datetime(pd103[\"FD_AWARD_OF_CONTRACT.CONTRACT_AWARD_DATE\"]) \n",
    " \n",
    " \n",
    " \n",
    " \n",
    " \n",
    " \n",
    " \n",
    " \n",
    " \n",
    " \n",
    " \n",
    " \n",
    " \n",
    " \n",
    " \n",
    " \n",
    " AWARDED_CONTRACT_DATE_CONCLUSION_CONTRACT\n",
    " \n",
    " AWARD_CONTRACT_CONTRACT_AWARD_DATE_DAY_ long (nullable = true)\n",
    " |-- AWARD_CONTRACT_CONTRACT_AWARD_DATE_MONTH_ long (nullable = true)\n",
    " |-- AWARD_CONTRACT_CONTRACT_AWARD_DATE_YEAR_ long (nullable = true)\n",
    " \n",
    " \n",
    " COMPLEMENTARY_INFO_DATE_DISPATCH_NOTICE\n",
    " \n",
    " COMPLEMENTARY_INFO_DAY_ long (nullable = true)\n",
    " |-- COMPLEMENTARY_INFO_MONTH_ long (nullable = true)\n",
    " |-- COMPLEMENTARY_INFO_YEAR_ long (nullable = true)\n",
    " \n",
    " \n",
    " FD_PREVIOUS_PUBLICATION_EXISTS_CNT_NOTICE_INFORMATION_DATE_OJ_DAY_ long (nullable = true)\n",
    " |-- FD_PREVIOUS_PUBLICATION_EXISTS_CNT_NOTICE_INFORMATION_DATE_OJ_MONTH_ long (nullable = true)\n",
    " |-- FD_PREVIOUS_PUBLICATION_EXISTS_CNT_NOTICE_INFORMATION_DATE_OJ_YEAR_ long (nullable = true)\n",
    " \n",
    " \n",
    "  FD_PREVIOUS_PUBLICATION_EXISTS_DATE_OJ_DAY_ long (nullable = true)\n",
    " |-- FD_PREVIOUS_PUBLICATION_EXISTS_DATE_OJ_MONTH_ long (nullable = true)\n",
    " |-- FD_PREVIOUS_PUBLICATION_EXISTS_DATE_OJ_YEAR_ long (nullable = true)\n",
    " \n",
    " \n",
    " |-- FD_PREVIOUS_PUBLICATION_EXISTS_EX_ANTE_NOTICE_INFORMATION_DATE_OJ_DAY_ long (nullable = true)\n",
    " |-- FD_PREVIOUS_PUBLICATION_EXISTS_EX_ANTE_NOTICE_INFORMATION_DATE_OJ_MONTH_ long (nullable = true)\n",
    " |-- FD_PREVIOUS_PUBLICATION_EXISTS_EX_ANTE_NOTICE_INFORMATION_DATE_OJ_YEAR_ long (nullable = true)\n",
    " \n",
    " \n",
    " FD_PREVIOUS_PUBLICATION_EXISTS_OTHER_PREVIOUS_PUBLICATIONS_OTHER_PREVIOUS_PUBLICATION_DATE_OJ_DAY_ long (nullable = true)\n",
    " |-- FD_PREVIOUS_PUBLICATION_EXISTS_OTHER_PREVIOUS_PUBLICATIONS_OTHER_PREVIOUS_PUBLICATION_DATE_OJ_MONTH_ long (nullable = true)\n",
    " |-- FD_PREVIOUS_PUBLICATION_EXISTS_OTHER_PREVIOUS_PUBLICATIONS_OTHER_PREVIOUS_PUBLICATION_DATE_OJ_YEAR_ long (nullable = true)\n",
    " |-- FD_PREVIOUS_PUBLICATION_EXISTS_OTHER_PREVIOUS_PUBLICATIONS_OTHER_PREVIOUS_PUBLICATION_NOTICE_NUMBER_OJ_ string (nullable = true)\n",
    " \n",
    " \n",
    " |-- FD_PREVIOUS_PUBLICATION_EXISTS_PREVIOUS_PUBLICATION_NOTICE_DATE_OJ_DAY_ long (nullable = true)\n",
    " |-- FD_PREVIOUS_PUBLICATION_EXISTS_PREVIOUS_PUBLICATION_NOTICE_DATE_OJ_MONTH_ long (nullable = true)\n",
    " |-- FD_PREVIOUS_PUBLICATION_EXISTS_PREVIOUS_PUBLICATION_NOTICE_DATE_OJ_YEAR_ long (nullable = true)\n",
    " \n",
    " \n",
    " "
   ]
  },
  {
   "cell_type": "code",
   "execution_count": null,
   "id": "109336a6-5cc6-49b5-940a-4f0ab64e7b42",
   "metadata": {},
   "outputs": [],
   "source": [
    "#p_awa[\"COMPLEMENTARY_INFO_DATE_DISPATCH_NOTICE\"]"
   ]
  },
  {
   "cell_type": "code",
   "execution_count": null,
   "id": "24f8c7ac-6667-4550-9364-a959fd888ac7",
   "metadata": {},
   "outputs": [],
   "source": []
  },
  {
   "cell_type": "code",
   "execution_count": null,
   "id": "01bb0fbd-9285-4459-b168-e84c7a80200a",
   "metadata": {},
   "outputs": [],
   "source": [
    "p_awa[\"AWARDED_CONTRACT_DATE_CONCLUSION_CONTRACT\"]= ps.to_datetime(p_awa[\"AWARDED_CONTRACT_DATE_CONCLUSION_CONTRACT\"])\n",
    "p_awa[\"AWARDED_CONTRACT_DATE_DECISION_JURY\"]= ps.to_datetime(p_awa[\"AWARDED_CONTRACT_DATE_DECISION_JURY\"])\n",
    "#p_awa[\"AWARD_CONTRACT_NO_AWARDED_CONTRACT_PROCUREMENT_DISCONTINUED_DATE_DISPATCH_ORIGINAL_PUBLICATION\"]= ps.to_datetime(p_awa[\"AWARD_CONTRACT_NO_AWARDED_CONTRACT_PROCUREMENT_DISCONTINUED_DATE_DISPATCH_ORIGINAL_PUBLICATION\"])\n",
    "#p_awa[\"AWARD_CONTRACT_NO_AWARDED_CONTRACT_PROCUREMENT_DISCONTINUED_DATE_DISPATCH_ORIGINAL_text\"]= ps.to_datetime(p_awa[\"AWARD_CONTRACT_NO_AWARDED_CONTRACT_PROCUREMENT_DISCONTINUED_DATE_DISPATCH_ORIGINAL_text\"])\n",
    "p_awa[\"COMPLEMENTARY_INFO_DATE_DISPATCH_NOTICE\"]= ps.to_datetime(p_awa[\"COMPLEMENTARY_INFO_DATE_DISPATCH_NOTICE\"])\n",
    "p_awa[\"OBJECT_CONTRACT_OBJECT_DESCR_DATE_END\"]= ps.to_datetime(p_awa[\"OBJECT_CONTRACT_OBJECT_DESCR_DATE_END\"])\n",
    "p_awa[\"OBJECT_CONTRACT_OBJECT_DESCR_DATE_START\"]= ps.to_datetime(p_awa[\"OBJECT_CONTRACT_OBJECT_DESCR_DATE_START\"])\n",
    "p_awa[\"PROCEDURE_DATE_RECEIPT_TENDERS\"]= ps.to_datetime(p_awa[\"PROCEDURE_DATE_RECEIPT_TENDERS\"])\n",
    "p_awa[\"PROCEDURE_DATE_AWARD_SCHEDULED\"]= ps.to_datetime(p_awa[\"PROCEDURE_DATE_AWARD_SCHEDULED\"])"
   ]
  }
 ],
 "metadata": {
  "kernelspec": {
   "display_name": "Python 3 (ipykernel)",
   "language": "python",
   "name": "python3"
  },
  "language_info": {
   "codemirror_mode": {
    "name": "ipython",
    "version": 3
   },
   "file_extension": ".py",
   "mimetype": "text/x-python",
   "name": "python",
   "nbconvert_exporter": "python",
   "pygments_lexer": "ipython3",
   "version": "3.9.10"
  }
 },
 "nbformat": 4,
 "nbformat_minor": 5
}
